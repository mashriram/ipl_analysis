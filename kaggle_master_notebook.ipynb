{
 "cells": [
  {
   "cell_type": "code",
   "execution_count": 2,
   "metadata": {},
   "outputs": [],
   "source": [
    "import numpy as np\n",
    "import pandas as pd\n",
    "import matplotlib.pyplot as plt\n",
    "import seaborn as sns\n",
    "import os\n",
    "import json\n",
    "import plotly.express as px\n",
    "\n",
    "\n",
    "def gapminder(\n",
    "    df: pd.DataFrame,\n",
    "    x_col: str | pd.Series,\n",
    "    y_col: str | pd.Series,\n",
    "    size_col: str | pd.Series | None = None,\n",
    "    color_col: str | pd.Series | None = None,\n",
    "    hover_name: str | None = None,\n",
    "    title: str = \"Gapminder Plot\",\n",
    "    labels: dict | None = None,\n",
    ") -> None:\n",
    "\n",
    "    fig = px.scatter(\n",
    "        df,\n",
    "        x=x_col,\n",
    "        y=y_col,\n",
    "        size=size_col,\n",
    "        color=color_col,\n",
    "        hover_name=hover_name,\n",
    "        title=title,\n",
    "        labels=labels,\n",
    "    )\n",
    "    fig.show()\n",
    "\n",
    "\n",
    "def parallelplot(\n",
    "    df: pd.DataFrame,\n",
    "    columns: list[str | pd.Series],\n",
    "    color_col: str | pd.Series | None = None,\n",
    "    title: str = \"Parallel Coordinates Plot\",\n",
    "    labels: pd.Series | str | None | dict[str, str] = None,\n",
    ") -> None:\n",
    "\n",
    "    fig = px.parallel_coordinates(\n",
    "        df, dimensions=columns, color=color_col, title=title, labels=labels\n",
    "    )\n",
    "    fig.show()"
   ]
  },
  {
   "cell_type": "markdown",
   "metadata": {},
   "source": [
    "## INTRODUCTION"
   ]
  },
  {
   "cell_type": "markdown",
   "metadata": {},
   "source": [
    "The dataset that we have here is of the ipl data from 2008 to 2024, We have 3 datasets namely\n",
    " - `ball_by_ball` dataset having information for  each  ball for all matches of the ipl \n",
    "    - Example : runs scored in that ball, whether that particular ball eas a no ball etc\n",
    " - `ipl_summary`  has information about the summary information of a match \n",
    "      - Example  location,stadium, winner of the match etc \n",
    " - `match_level_stats` which is derived from the ipl summary with aggregates of ball by ball , contains information for each match that happened in ipl\n",
    "    - Example : total runs of team 1, who won the toss/match extras per match etc  "
   ]
  },
  {
   "cell_type": "markdown",
   "metadata": {},
   "source": [
    "The datasets , (all 3 of them) are derived from the json files that we got from cricsheet which is listed under the sports category of the awesome datasets github page \n",
    " - Links:\n",
    "    - awesome datasets : https://github.com/awesomedata/awesome-public-datasets?tab=readme-ov-file#sports:~:text=Cricsheet%20Matches%20(cricket)\n",
    "    - cricksheet datasets : https://cricsheet.org/downloads/ then search for (\"Indian Premier League\") "
   ]
  },
  {
   "cell_type": "code",
   "execution_count": 3,
   "metadata": {},
   "outputs": [],
   "source": [
    "ordered_cols = [\n",
    "    \"date\",\n",
    "    \"match_number\",\n",
    "    \"innings\",\n",
    "    \"over\",\n",
    "    \"batter\",\n",
    "    \"bowler\",\n",
    "    \"stage\",\n",
    "    \"non_striker\",\n",
    "    \"runs.batter\",\n",
    "    \"runs.extras\",\n",
    "    \"runs.total\",\n",
    "    \"extras.legbyes\",\n",
    "    \"extras.wides\",\n",
    "    \"extras.byes\",\n",
    "    \"extras.noballs\",\n",
    "    \"wicket.kind\",\n",
    "    \"wicket.player_out\",\n",
    "    \"wicket.fielders\",\n",
    "    \"wickets\",\n",
    "]"
   ]
  },
  {
   "cell_type": "markdown",
   "metadata": {},
   "source": [
    "### BALL BY BALL DATA\n"
   ]
  },
  {
   "cell_type": "code",
   "execution_count": 4,
   "metadata": {},
   "outputs": [
    {
     "name": "stderr",
     "output_type": "stream",
     "text": [
      "/tmp/ipykernel_4765/3144535725.py:1: DtypeWarning: Columns (21,22,23,24,25,26,27) have mixed types. Specify dtype option on import or set low_memory=False.\n",
      "  ball_by_ball = pd.read_csv(\"./output/ipl_ball_by_ball_output_raw.csv\")\n"
     ]
    }
   ],
   "source": [
    "ball_by_ball = pd.read_csv(\"./output/ipl_ball_by_ball_output_raw.csv\")"
   ]
  },
  {
   "cell_type": "code",
   "execution_count": 5,
   "metadata": {},
   "outputs": [
    {
     "data": {
      "text/plain": [
       "Index(['Unnamed: 0', 'index', 'batter', 'bowler', 'non_striker',\n",
       "       'extras.legbyes', 'runs.batter', 'runs.extras', 'runs.total',\n",
       "       'extras.wides', 'wickets', 'extras.byes', 'over', 'date',\n",
       "       'match_number', 'innings', 'stage', 'extras.noballs', 'extras.penalty',\n",
       "       'replacements.role', 'runs.non_boundary', 'review.by', 'review.umpire',\n",
       "       'review.batter', 'review.decision', 'review.umpires_call',\n",
       "       'review.type', 'replacements.match', 'wicket.kind', 'wicket.player_out',\n",
       "       'wicket.fielders'],\n",
       "      dtype='object')"
      ]
     },
     "execution_count": 5,
     "metadata": {},
     "output_type": "execute_result"
    }
   ],
   "source": [
    "ball_by_ball.columns"
   ]
  },
  {
   "cell_type": "markdown",
   "metadata": {},
   "source": [
    "We want to ensure that we only have the useful columns as in `ordered_cols`  as,\n",
    "\n",
    "some times while converting from json format there can be extra excessive columns that may generate confusion!!\n",
    "\n",
    "Also we want to ensure that we have the rows sorted in terms of date  and match number  in ascending order to make data easily readable."
   ]
  },
  {
   "cell_type": "code",
   "execution_count": 6,
   "metadata": {},
   "outputs": [],
   "source": [
    "ball_by_ball = ball_by_ball.reindex(columns=ordered_cols)\n",
    "ball_by_ball.sort_values(by=[\"date\", \"match_number\"], inplace=True)"
   ]
  },
  {
   "cell_type": "markdown",
   "metadata": {},
   "source": [
    "During further analysis of data we might need to group by each season to find season wise statistics and as the `ball_by_ball.date` column  is in **yyyy-mm-dd** format,\n",
    "\n",
    "we create a new column named `ball_by_ball.season` which contains the season in which the particular match belonged to ,\n",
    "\n",
    "we get it by slicing the `ball_by_ball.date` to get only the **yyyy** out as the season"
   ]
  },
  {
   "cell_type": "code",
   "execution_count": 7,
   "metadata": {},
   "outputs": [],
   "source": [
    "ball_by_ball['season'] = ball_by_ball['date'].str.slice(0,4)"
   ]
  },
  {
   "cell_type": "code",
   "execution_count": 8,
   "metadata": {},
   "outputs": [
    {
     "data": {
      "text/html": [
       "<div>\n",
       "<style scoped>\n",
       "    .dataframe tbody tr th:only-of-type {\n",
       "        vertical-align: middle;\n",
       "    }\n",
       "\n",
       "    .dataframe tbody tr th {\n",
       "        vertical-align: top;\n",
       "    }\n",
       "\n",
       "    .dataframe thead th {\n",
       "        text-align: right;\n",
       "    }\n",
       "</style>\n",
       "<table border=\"1\" class=\"dataframe\">\n",
       "  <thead>\n",
       "    <tr style=\"text-align: right;\">\n",
       "      <th></th>\n",
       "      <th>date</th>\n",
       "      <th>match_number</th>\n",
       "      <th>innings</th>\n",
       "      <th>over</th>\n",
       "      <th>batter</th>\n",
       "      <th>bowler</th>\n",
       "      <th>stage</th>\n",
       "      <th>non_striker</th>\n",
       "      <th>runs.batter</th>\n",
       "      <th>runs.extras</th>\n",
       "      <th>runs.total</th>\n",
       "      <th>extras.legbyes</th>\n",
       "      <th>extras.wides</th>\n",
       "      <th>extras.byes</th>\n",
       "      <th>extras.noballs</th>\n",
       "      <th>wicket.kind</th>\n",
       "      <th>wicket.player_out</th>\n",
       "      <th>wicket.fielders</th>\n",
       "      <th>wickets</th>\n",
       "      <th>season</th>\n",
       "    </tr>\n",
       "  </thead>\n",
       "  <tbody>\n",
       "    <tr>\n",
       "      <th>0</th>\n",
       "      <td>2008-04-18</td>\n",
       "      <td>1</td>\n",
       "      <td>1</td>\n",
       "      <td>0</td>\n",
       "      <td>SC Ganguly</td>\n",
       "      <td>P Kumar</td>\n",
       "      <td>group</td>\n",
       "      <td>BB McCullum</td>\n",
       "      <td>0</td>\n",
       "      <td>1</td>\n",
       "      <td>1</td>\n",
       "      <td>1.0</td>\n",
       "      <td>NaN</td>\n",
       "      <td>NaN</td>\n",
       "      <td>NaN</td>\n",
       "      <td>NaN</td>\n",
       "      <td>NaN</td>\n",
       "      <td>NaN</td>\n",
       "      <td>NaN</td>\n",
       "      <td>2008</td>\n",
       "    </tr>\n",
       "    <tr>\n",
       "      <th>1</th>\n",
       "      <td>2008-04-18</td>\n",
       "      <td>1</td>\n",
       "      <td>1</td>\n",
       "      <td>0</td>\n",
       "      <td>BB McCullum</td>\n",
       "      <td>P Kumar</td>\n",
       "      <td>group</td>\n",
       "      <td>SC Ganguly</td>\n",
       "      <td>0</td>\n",
       "      <td>0</td>\n",
       "      <td>0</td>\n",
       "      <td>NaN</td>\n",
       "      <td>NaN</td>\n",
       "      <td>NaN</td>\n",
       "      <td>NaN</td>\n",
       "      <td>NaN</td>\n",
       "      <td>NaN</td>\n",
       "      <td>NaN</td>\n",
       "      <td>NaN</td>\n",
       "      <td>2008</td>\n",
       "    </tr>\n",
       "    <tr>\n",
       "      <th>2</th>\n",
       "      <td>2008-04-18</td>\n",
       "      <td>1</td>\n",
       "      <td>1</td>\n",
       "      <td>0</td>\n",
       "      <td>BB McCullum</td>\n",
       "      <td>P Kumar</td>\n",
       "      <td>group</td>\n",
       "      <td>SC Ganguly</td>\n",
       "      <td>0</td>\n",
       "      <td>1</td>\n",
       "      <td>1</td>\n",
       "      <td>NaN</td>\n",
       "      <td>1.0</td>\n",
       "      <td>NaN</td>\n",
       "      <td>NaN</td>\n",
       "      <td>NaN</td>\n",
       "      <td>NaN</td>\n",
       "      <td>NaN</td>\n",
       "      <td>NaN</td>\n",
       "      <td>2008</td>\n",
       "    </tr>\n",
       "    <tr>\n",
       "      <th>3</th>\n",
       "      <td>2008-04-18</td>\n",
       "      <td>1</td>\n",
       "      <td>1</td>\n",
       "      <td>0</td>\n",
       "      <td>BB McCullum</td>\n",
       "      <td>P Kumar</td>\n",
       "      <td>group</td>\n",
       "      <td>SC Ganguly</td>\n",
       "      <td>0</td>\n",
       "      <td>0</td>\n",
       "      <td>0</td>\n",
       "      <td>NaN</td>\n",
       "      <td>NaN</td>\n",
       "      <td>NaN</td>\n",
       "      <td>NaN</td>\n",
       "      <td>NaN</td>\n",
       "      <td>NaN</td>\n",
       "      <td>NaN</td>\n",
       "      <td>NaN</td>\n",
       "      <td>2008</td>\n",
       "    </tr>\n",
       "    <tr>\n",
       "      <th>4</th>\n",
       "      <td>2008-04-18</td>\n",
       "      <td>1</td>\n",
       "      <td>1</td>\n",
       "      <td>0</td>\n",
       "      <td>BB McCullum</td>\n",
       "      <td>P Kumar</td>\n",
       "      <td>group</td>\n",
       "      <td>SC Ganguly</td>\n",
       "      <td>0</td>\n",
       "      <td>0</td>\n",
       "      <td>0</td>\n",
       "      <td>NaN</td>\n",
       "      <td>NaN</td>\n",
       "      <td>NaN</td>\n",
       "      <td>NaN</td>\n",
       "      <td>NaN</td>\n",
       "      <td>NaN</td>\n",
       "      <td>NaN</td>\n",
       "      <td>NaN</td>\n",
       "      <td>2008</td>\n",
       "    </tr>\n",
       "  </tbody>\n",
       "</table>\n",
       "</div>"
      ],
      "text/plain": [
       "         date  match_number  innings  over       batter   bowler  stage  \\\n",
       "0  2008-04-18             1        1     0   SC Ganguly  P Kumar  group   \n",
       "1  2008-04-18             1        1     0  BB McCullum  P Kumar  group   \n",
       "2  2008-04-18             1        1     0  BB McCullum  P Kumar  group   \n",
       "3  2008-04-18             1        1     0  BB McCullum  P Kumar  group   \n",
       "4  2008-04-18             1        1     0  BB McCullum  P Kumar  group   \n",
       "\n",
       "   non_striker  runs.batter  runs.extras  runs.total  extras.legbyes  \\\n",
       "0  BB McCullum            0            1           1             1.0   \n",
       "1   SC Ganguly            0            0           0             NaN   \n",
       "2   SC Ganguly            0            1           1             NaN   \n",
       "3   SC Ganguly            0            0           0             NaN   \n",
       "4   SC Ganguly            0            0           0             NaN   \n",
       "\n",
       "   extras.wides  extras.byes  extras.noballs wicket.kind wicket.player_out  \\\n",
       "0           NaN          NaN             NaN         NaN               NaN   \n",
       "1           NaN          NaN             NaN         NaN               NaN   \n",
       "2           1.0          NaN             NaN         NaN               NaN   \n",
       "3           NaN          NaN             NaN         NaN               NaN   \n",
       "4           NaN          NaN             NaN         NaN               NaN   \n",
       "\n",
       "  wicket.fielders wickets season  \n",
       "0             NaN     NaN   2008  \n",
       "1             NaN     NaN   2008  \n",
       "2             NaN     NaN   2008  \n",
       "3             NaN     NaN   2008  \n",
       "4             NaN     NaN   2008  "
      ]
     },
     "execution_count": 8,
     "metadata": {},
     "output_type": "execute_result"
    }
   ],
   "source": [
    "ball_by_ball.head()"
   ]
  },
  {
   "cell_type": "markdown",
   "metadata": {},
   "source": [
    "#### Validation the resultant `ball_by_ball` dataframe\n"
   ]
  },
  {
   "cell_type": "code",
   "execution_count": 9,
   "metadata": {},
   "outputs": [
    {
     "data": {
      "text/plain": [
       "Index(['date', 'match_number', 'innings', 'over', 'batter', 'bowler', 'stage',\n",
       "       'non_striker', 'runs.batter', 'runs.extras', 'runs.total',\n",
       "       'extras.legbyes', 'extras.wides', 'extras.byes', 'extras.noballs',\n",
       "       'wicket.kind', 'wicket.player_out', 'wicket.fielders', 'wickets',\n",
       "       'season'],\n",
       "      dtype='object')"
      ]
     },
     "execution_count": 9,
     "metadata": {},
     "output_type": "execute_result"
    }
   ],
   "source": [
    "ball_by_ball.columns"
   ]
  },
  {
   "cell_type": "code",
   "execution_count": 10,
   "metadata": {},
   "outputs": [
    {
     "name": "stdout",
     "output_type": "stream",
     "text": [
      "min date:  2008-04-18\n",
      "max date:  2024-05-26\n"
     ]
    }
   ],
   "source": [
    "print(\"min date: \", ball_by_ball[\"date\"].min())\n",
    "print(\"max date: \", ball_by_ball[\"date\"].max())"
   ]
  },
  {
   "cell_type": "markdown",
   "metadata": {},
   "source": [
    "\n",
    "Since we have data for IPL matches between 2008 to 2024, the above date range looks right\n"
   ]
  },
  {
   "cell_type": "code",
   "execution_count": 11,
   "metadata": {},
   "outputs": [
    {
     "data": {
      "text/plain": [
       "array([ 1,  2,  3,  4,  5,  6,  7,  8,  9, 10, 11, 12, 13, 14, 15, 16, 17,\n",
       "       18, 19, 20, 21, 22, 23, 24, 25, 26, 27, 28, 29, 30, 31, 32, 33, 34,\n",
       "       35, 36, 37, 38, 39, 40, 41, 42, 43, 44, 45, 46, 47, 48, 49, 50, 51,\n",
       "       52, 53, 54, 55, 56, 57, 58, 59, 60, 61, 62, 63, 64, 65, 66, 67, 68,\n",
       "       69, 70, 71, 72, 73, 74, 75, 76])"
      ]
     },
     "execution_count": 11,
     "metadata": {},
     "output_type": "execute_result"
    }
   ],
   "source": [
    "np.sort(ball_by_ball[\"match_number\"].unique())"
   ]
  },
  {
   "attachments": {
    "image.png": {
     "image/png": "[encoded data removed]"
    }
   },
   "cell_type": "markdown",
   "metadata": {},
   "source": [
    "The above values for `ball_by_ball.match_number` looks right as there were 76 matches in 2012 season\n",
    "![image.png](attachment:image.png)\n",
    "\n",
    "Source : https://www.google.com/search?q=ipl+2012+total+matches"
   ]
  },
  {
   "cell_type": "code",
   "execution_count": 12,
   "metadata": {},
   "outputs": [
    {
     "data": {
      "text/plain": [
       "array([1, 2])"
      ]
     },
     "execution_count": 12,
     "metadata": {},
     "output_type": "execute_result"
    }
   ],
   "source": [
    "ball_by_ball[\"innings\"].unique()"
   ]
  },
  {
   "cell_type": "markdown",
   "metadata": {},
   "source": [
    "`ball_by_ball.innings` should only have two values as a ipl cricket match has only 2 innings. Hence the above values are right"
   ]
  },
  {
   "cell_type": "code",
   "execution_count": 13,
   "metadata": {},
   "outputs": [
    {
     "data": {
      "text/plain": [
       "array([ 0,  1,  2,  3,  4,  5,  6,  7,  8,  9, 10, 11, 12, 13, 14, 15, 16,\n",
       "       17, 18, 19])"
      ]
     },
     "execution_count": 13,
     "metadata": {},
     "output_type": "execute_result"
    }
   ],
   "source": [
    "ball_by_ball[\"over\"].unique()"
   ]
  },
  {
   "cell_type": "markdown",
   "metadata": {},
   "source": [
    "`ball_by_ball.over` has 20 values of range 0 to 19 which is correct ,An IPL match is of type T20 match  which has 20 overs per inning"
   ]
  },
  {
   "cell_type": "code",
   "execution_count": 14,
   "metadata": {},
   "outputs": [
    {
     "data": {
      "text/plain": [
       "[np.int64(0),\n",
       " np.int64(1),\n",
       " np.int64(2),\n",
       " np.int64(3),\n",
       " np.int64(4),\n",
       " np.int64(5),\n",
       " np.int64(6)]"
      ]
     },
     "execution_count": 14,
     "metadata": {},
     "output_type": "execute_result"
    }
   ],
   "source": [
    "sorted(ball_by_ball[\"runs.batter\"].unique())"
   ]
  },
  {
   "cell_type": "markdown",
   "metadata": {},
   "source": [
    "A batter can score a maximum of six runs in a ball as shown by the `ball_by_ball.runs.batter` "
   ]
  },
  {
   "cell_type": "code",
   "execution_count": 15,
   "metadata": {},
   "outputs": [
    {
     "data": {
      "text/plain": [
       "[np.int64(0),\n",
       " np.int64(1),\n",
       " np.int64(2),\n",
       " np.int64(3),\n",
       " np.int64(4),\n",
       " np.int64(5),\n",
       " np.int64(7)]"
      ]
     },
     "execution_count": 15,
     "metadata": {},
     "output_type": "execute_result"
    }
   ],
   "source": [
    "sorted(ball_by_ball[\"runs.extras\"].unique())"
   ]
  },
  {
   "cell_type": "markdown",
   "metadata": {},
   "source": [
    "A ball can maximum have riuns of 7 runs that is whwn a no ball is bowled and a six is hit which is again represented in `ball_by_ball.runs.extras`"
   ]
  },
  {
   "cell_type": "code",
   "execution_count": 16,
   "metadata": {},
   "outputs": [
    {
     "data": {
      "text/plain": [
       "[np.int64(0),\n",
       " np.int64(1),\n",
       " np.int64(2),\n",
       " np.int64(3),\n",
       " np.int64(4),\n",
       " np.int64(5),\n",
       " np.int64(6),\n",
       " np.int64(7)]"
      ]
     },
     "execution_count": 16,
     "metadata": {},
     "output_type": "execute_result"
    }
   ],
   "source": [
    "sorted(ball_by_ball[\"runs.total\"].unique())"
   ]
  },
  {
   "cell_type": "markdown",
   "metadata": {},
   "source": [
    "Similar is the case for `ball_by_ball.runs.total` which is the sum of `ball_by_ball.runs.extras` and `ball_by_ball.runs.batter`"
   ]
  },
  {
   "cell_type": "markdown",
   "metadata": {},
   "source": [
    "We also have the runs given by each tyoe of extras per ball , the sum of which is the `ball_by_ball.runs.extras` column"
   ]
  },
  {
   "cell_type": "code",
   "execution_count": 17,
   "metadata": {},
   "outputs": [
    {
     "data": {
      "text/plain": [
       "[np.float64(1.0),\n",
       " np.float64(nan),\n",
       " np.float64(2.0),\n",
       " np.float64(3.0),\n",
       " np.float64(4.0),\n",
       " np.float64(5.0)]"
      ]
     },
     "execution_count": 17,
     "metadata": {},
     "output_type": "execute_result"
    }
   ],
   "source": [
    "sorted(ball_by_ball[\"extras.legbyes\"].unique())"
   ]
  },
  {
   "cell_type": "code",
   "execution_count": 18,
   "metadata": {},
   "outputs": [
    {
     "data": {
      "text/plain": [
       "[np.float64(nan),\n",
       " np.float64(1.0),\n",
       " np.float64(2.0),\n",
       " np.float64(3.0),\n",
       " np.float64(4.0),\n",
       " np.float64(5.0)]"
      ]
     },
     "execution_count": 18,
     "metadata": {},
     "output_type": "execute_result"
    }
   ],
   "source": [
    "sorted(ball_by_ball[\"extras.wides\"].unique())"
   ]
  },
  {
   "cell_type": "code",
   "execution_count": 19,
   "metadata": {},
   "outputs": [
    {
     "data": {
      "text/plain": [
       "[np.float64(nan),\n",
       " np.float64(1.0),\n",
       " np.float64(2.0),\n",
       " np.float64(3.0),\n",
       " np.float64(4.0)]"
      ]
     },
     "execution_count": 19,
     "metadata": {},
     "output_type": "execute_result"
    }
   ],
   "source": [
    "sorted(ball_by_ball[\"extras.byes\"].unique())"
   ]
  },
  {
   "cell_type": "code",
   "execution_count": 20,
   "metadata": {},
   "outputs": [
    {
     "data": {
      "text/plain": [
       "[np.float64(nan),\n",
       " np.float64(1.0),\n",
       " np.float64(2.0),\n",
       " np.float64(3.0),\n",
       " np.float64(5.0)]"
      ]
     },
     "execution_count": 20,
     "metadata": {},
     "output_type": "execute_result"
    }
   ],
   "source": [
    "sorted(ball_by_ball[\"extras.noballs\"].unique())"
   ]
  },
  {
   "cell_type": "markdown",
   "metadata": {},
   "source": [
    "Now we can see the different ways in which a wicket can be taken given by `ball_by_ball.wicket.kind` which also clearly looks right "
   ]
  },
  {
   "cell_type": "code",
   "execution_count": 21,
   "metadata": {},
   "outputs": [
    {
     "data": {
      "text/plain": [
       "array([nan, 'caught', 'bowled', 'run out', 'lbw', 'retired hurt',\n",
       "       'stumped', 'caught and bowled', 'hit wicket',\n",
       "       'obstructing the field', 'retired out'], dtype=object)"
      ]
     },
     "execution_count": 21,
     "metadata": {},
     "output_type": "execute_result"
    }
   ],
   "source": [
    "ball_by_ball[\"wicket.kind\"].unique()"
   ]
  },
  {
   "cell_type": "markdown",
   "metadata": {},
   "source": [
    "the `ball_by_ball.wicket.player_out` column gives the player whos wickert was taken"
   ]
  },
  {
   "cell_type": "code",
   "execution_count": 22,
   "metadata": {},
   "outputs": [
    {
     "data": {
      "text/plain": [
       "array([nan, 'SC Ganguly', 'RT Ponting', 'DJ Hussey', 'R Dravid',\n",
       "       'V Kohli', 'JH Kallis', 'W Jaffer', 'MV Boucher', 'B Akhil'],\n",
       "      dtype=object)"
      ]
     },
     "execution_count": 22,
     "metadata": {},
     "output_type": "execute_result"
    }
   ],
   "source": [
    "ball_by_ball[\"wicket.player_out\"].unique()[:10]"
   ]
  },
  {
   "cell_type": "markdown",
   "metadata": {},
   "source": [
    "the `ball_by_ball.wicket.fielders` is an array of fielders that took the catch as some times more than one player are involved in  a catch  "
   ]
  },
  {
   "cell_type": "markdown",
   "metadata": {},
   "source": [
    "The below cell shows how many wickwets fell as catches in the entire ipl"
   ]
  },
  {
   "cell_type": "code",
   "execution_count": 23,
   "metadata": {},
   "outputs": [
    {
     "data": {
      "text/plain": [
       "np.int64(9342)"
      ]
     },
     "execution_count": 23,
     "metadata": {},
     "output_type": "execute_result"
    }
   ],
   "source": [
    "ball_by_ball[~pd.isnull(ball_by_ball[\"wicket.fielders\"])][\"wicket.fielders\"].count()"
   ]
  },
  {
   "cell_type": "markdown",
   "metadata": {},
   "source": [
    "In the below cell we can see the total number of wickets taken ipl till date"
   ]
  },
  {
   "cell_type": "code",
   "execution_count": 24,
   "metadata": {},
   "outputs": [
    {
     "data": {
      "text/plain": [
       "np.int64(12923)"
      ]
     },
     "execution_count": 24,
     "metadata": {},
     "output_type": "execute_result"
    }
   ],
   "source": [
    "ball_by_ball[~ pd.isnull(ball_by_ball[\"wickets\"])]['wickets'].count()"
   ]
  },
  {
   "cell_type": "code",
   "execution_count": 25,
   "metadata": {},
   "outputs": [
    {
     "data": {
      "text/html": [
       "<div>\n",
       "<style scoped>\n",
       "    .dataframe tbody tr th:only-of-type {\n",
       "        vertical-align: middle;\n",
       "    }\n",
       "\n",
       "    .dataframe tbody tr th {\n",
       "        vertical-align: top;\n",
       "    }\n",
       "\n",
       "    .dataframe thead th {\n",
       "        text-align: right;\n",
       "    }\n",
       "</style>\n",
       "<table border=\"1\" class=\"dataframe\">\n",
       "  <thead>\n",
       "    <tr style=\"text-align: right;\">\n",
       "      <th></th>\n",
       "      <th>date</th>\n",
       "      <th>match_number</th>\n",
       "      <th>innings</th>\n",
       "      <th>over</th>\n",
       "      <th>batter</th>\n",
       "      <th>bowler</th>\n",
       "      <th>stage</th>\n",
       "      <th>non_striker</th>\n",
       "      <th>runs.batter</th>\n",
       "      <th>runs.extras</th>\n",
       "      <th>runs.total</th>\n",
       "      <th>extras.legbyes</th>\n",
       "      <th>extras.wides</th>\n",
       "      <th>extras.byes</th>\n",
       "      <th>extras.noballs</th>\n",
       "      <th>wicket.kind</th>\n",
       "      <th>wicket.player_out</th>\n",
       "      <th>wicket.fielders</th>\n",
       "      <th>wickets</th>\n",
       "      <th>season</th>\n",
       "    </tr>\n",
       "  </thead>\n",
       "  <tbody>\n",
       "    <tr>\n",
       "      <th>0</th>\n",
       "      <td>2008-04-18</td>\n",
       "      <td>1</td>\n",
       "      <td>1</td>\n",
       "      <td>0</td>\n",
       "      <td>SC Ganguly</td>\n",
       "      <td>P Kumar</td>\n",
       "      <td>group</td>\n",
       "      <td>BB McCullum</td>\n",
       "      <td>0</td>\n",
       "      <td>1</td>\n",
       "      <td>1</td>\n",
       "      <td>1.0</td>\n",
       "      <td>NaN</td>\n",
       "      <td>NaN</td>\n",
       "      <td>NaN</td>\n",
       "      <td>NaN</td>\n",
       "      <td>NaN</td>\n",
       "      <td>NaN</td>\n",
       "      <td>NaN</td>\n",
       "      <td>2008</td>\n",
       "    </tr>\n",
       "    <tr>\n",
       "      <th>1</th>\n",
       "      <td>2008-04-18</td>\n",
       "      <td>1</td>\n",
       "      <td>1</td>\n",
       "      <td>0</td>\n",
       "      <td>BB McCullum</td>\n",
       "      <td>P Kumar</td>\n",
       "      <td>group</td>\n",
       "      <td>SC Ganguly</td>\n",
       "      <td>0</td>\n",
       "      <td>0</td>\n",
       "      <td>0</td>\n",
       "      <td>NaN</td>\n",
       "      <td>NaN</td>\n",
       "      <td>NaN</td>\n",
       "      <td>NaN</td>\n",
       "      <td>NaN</td>\n",
       "      <td>NaN</td>\n",
       "      <td>NaN</td>\n",
       "      <td>NaN</td>\n",
       "      <td>2008</td>\n",
       "    </tr>\n",
       "    <tr>\n",
       "      <th>2</th>\n",
       "      <td>2008-04-18</td>\n",
       "      <td>1</td>\n",
       "      <td>1</td>\n",
       "      <td>0</td>\n",
       "      <td>BB McCullum</td>\n",
       "      <td>P Kumar</td>\n",
       "      <td>group</td>\n",
       "      <td>SC Ganguly</td>\n",
       "      <td>0</td>\n",
       "      <td>1</td>\n",
       "      <td>1</td>\n",
       "      <td>NaN</td>\n",
       "      <td>1.0</td>\n",
       "      <td>NaN</td>\n",
       "      <td>NaN</td>\n",
       "      <td>NaN</td>\n",
       "      <td>NaN</td>\n",
       "      <td>NaN</td>\n",
       "      <td>NaN</td>\n",
       "      <td>2008</td>\n",
       "    </tr>\n",
       "    <tr>\n",
       "      <th>3</th>\n",
       "      <td>2008-04-18</td>\n",
       "      <td>1</td>\n",
       "      <td>1</td>\n",
       "      <td>0</td>\n",
       "      <td>BB McCullum</td>\n",
       "      <td>P Kumar</td>\n",
       "      <td>group</td>\n",
       "      <td>SC Ganguly</td>\n",
       "      <td>0</td>\n",
       "      <td>0</td>\n",
       "      <td>0</td>\n",
       "      <td>NaN</td>\n",
       "      <td>NaN</td>\n",
       "      <td>NaN</td>\n",
       "      <td>NaN</td>\n",
       "      <td>NaN</td>\n",
       "      <td>NaN</td>\n",
       "      <td>NaN</td>\n",
       "      <td>NaN</td>\n",
       "      <td>2008</td>\n",
       "    </tr>\n",
       "    <tr>\n",
       "      <th>4</th>\n",
       "      <td>2008-04-18</td>\n",
       "      <td>1</td>\n",
       "      <td>1</td>\n",
       "      <td>0</td>\n",
       "      <td>BB McCullum</td>\n",
       "      <td>P Kumar</td>\n",
       "      <td>group</td>\n",
       "      <td>SC Ganguly</td>\n",
       "      <td>0</td>\n",
       "      <td>0</td>\n",
       "      <td>0</td>\n",
       "      <td>NaN</td>\n",
       "      <td>NaN</td>\n",
       "      <td>NaN</td>\n",
       "      <td>NaN</td>\n",
       "      <td>NaN</td>\n",
       "      <td>NaN</td>\n",
       "      <td>NaN</td>\n",
       "      <td>NaN</td>\n",
       "      <td>2008</td>\n",
       "    </tr>\n",
       "    <tr>\n",
       "      <th>...</th>\n",
       "      <td>...</td>\n",
       "      <td>...</td>\n",
       "      <td>...</td>\n",
       "      <td>...</td>\n",
       "      <td>...</td>\n",
       "      <td>...</td>\n",
       "      <td>...</td>\n",
       "      <td>...</td>\n",
       "      <td>...</td>\n",
       "      <td>...</td>\n",
       "      <td>...</td>\n",
       "      <td>...</td>\n",
       "      <td>...</td>\n",
       "      <td>...</td>\n",
       "      <td>...</td>\n",
       "      <td>...</td>\n",
       "      <td>...</td>\n",
       "      <td>...</td>\n",
       "      <td>...</td>\n",
       "      <td>...</td>\n",
       "    </tr>\n",
       "    <tr>\n",
       "      <th>260754</th>\n",
       "      <td>2024-05-26</td>\n",
       "      <td>73</td>\n",
       "      <td>2</td>\n",
       "      <td>9</td>\n",
       "      <td>SS Iyer</td>\n",
       "      <td>AK Markram</td>\n",
       "      <td>Final</td>\n",
       "      <td>VR Iyer</td>\n",
       "      <td>1</td>\n",
       "      <td>0</td>\n",
       "      <td>1</td>\n",
       "      <td>NaN</td>\n",
       "      <td>NaN</td>\n",
       "      <td>NaN</td>\n",
       "      <td>NaN</td>\n",
       "      <td>NaN</td>\n",
       "      <td>NaN</td>\n",
       "      <td>NaN</td>\n",
       "      <td>NaN</td>\n",
       "      <td>2024</td>\n",
       "    </tr>\n",
       "    <tr>\n",
       "      <th>260755</th>\n",
       "      <td>2024-05-26</td>\n",
       "      <td>73</td>\n",
       "      <td>2</td>\n",
       "      <td>9</td>\n",
       "      <td>VR Iyer</td>\n",
       "      <td>AK Markram</td>\n",
       "      <td>Final</td>\n",
       "      <td>SS Iyer</td>\n",
       "      <td>1</td>\n",
       "      <td>0</td>\n",
       "      <td>1</td>\n",
       "      <td>NaN</td>\n",
       "      <td>NaN</td>\n",
       "      <td>NaN</td>\n",
       "      <td>NaN</td>\n",
       "      <td>NaN</td>\n",
       "      <td>NaN</td>\n",
       "      <td>NaN</td>\n",
       "      <td>NaN</td>\n",
       "      <td>2024</td>\n",
       "    </tr>\n",
       "    <tr>\n",
       "      <th>260756</th>\n",
       "      <td>2024-05-26</td>\n",
       "      <td>73</td>\n",
       "      <td>2</td>\n",
       "      <td>10</td>\n",
       "      <td>VR Iyer</td>\n",
       "      <td>Shahbaz Ahmed</td>\n",
       "      <td>Final</td>\n",
       "      <td>SS Iyer</td>\n",
       "      <td>1</td>\n",
       "      <td>0</td>\n",
       "      <td>1</td>\n",
       "      <td>NaN</td>\n",
       "      <td>NaN</td>\n",
       "      <td>NaN</td>\n",
       "      <td>NaN</td>\n",
       "      <td>NaN</td>\n",
       "      <td>NaN</td>\n",
       "      <td>NaN</td>\n",
       "      <td>NaN</td>\n",
       "      <td>2024</td>\n",
       "    </tr>\n",
       "    <tr>\n",
       "      <th>260757</th>\n",
       "      <td>2024-05-26</td>\n",
       "      <td>73</td>\n",
       "      <td>2</td>\n",
       "      <td>10</td>\n",
       "      <td>SS Iyer</td>\n",
       "      <td>Shahbaz Ahmed</td>\n",
       "      <td>Final</td>\n",
       "      <td>VR Iyer</td>\n",
       "      <td>1</td>\n",
       "      <td>0</td>\n",
       "      <td>1</td>\n",
       "      <td>NaN</td>\n",
       "      <td>NaN</td>\n",
       "      <td>NaN</td>\n",
       "      <td>NaN</td>\n",
       "      <td>NaN</td>\n",
       "      <td>NaN</td>\n",
       "      <td>NaN</td>\n",
       "      <td>NaN</td>\n",
       "      <td>2024</td>\n",
       "    </tr>\n",
       "    <tr>\n",
       "      <th>260758</th>\n",
       "      <td>2024-05-26</td>\n",
       "      <td>73</td>\n",
       "      <td>2</td>\n",
       "      <td>10</td>\n",
       "      <td>VR Iyer</td>\n",
       "      <td>Shahbaz Ahmed</td>\n",
       "      <td>Final</td>\n",
       "      <td>SS Iyer</td>\n",
       "      <td>1</td>\n",
       "      <td>0</td>\n",
       "      <td>1</td>\n",
       "      <td>NaN</td>\n",
       "      <td>NaN</td>\n",
       "      <td>NaN</td>\n",
       "      <td>NaN</td>\n",
       "      <td>NaN</td>\n",
       "      <td>NaN</td>\n",
       "      <td>NaN</td>\n",
       "      <td>NaN</td>\n",
       "      <td>2024</td>\n",
       "    </tr>\n",
       "  </tbody>\n",
       "</table>\n",
       "<p>260759 rows × 20 columns</p>\n",
       "</div>"
      ],
      "text/plain": [
       "              date  match_number  innings  over       batter         bowler  \\\n",
       "0       2008-04-18             1        1     0   SC Ganguly        P Kumar   \n",
       "1       2008-04-18             1        1     0  BB McCullum        P Kumar   \n",
       "2       2008-04-18             1        1     0  BB McCullum        P Kumar   \n",
       "3       2008-04-18             1        1     0  BB McCullum        P Kumar   \n",
       "4       2008-04-18             1        1     0  BB McCullum        P Kumar   \n",
       "...            ...           ...      ...   ...          ...            ...   \n",
       "260754  2024-05-26            73        2     9      SS Iyer     AK Markram   \n",
       "260755  2024-05-26            73        2     9      VR Iyer     AK Markram   \n",
       "260756  2024-05-26            73        2    10      VR Iyer  Shahbaz Ahmed   \n",
       "260757  2024-05-26            73        2    10      SS Iyer  Shahbaz Ahmed   \n",
       "260758  2024-05-26            73        2    10      VR Iyer  Shahbaz Ahmed   \n",
       "\n",
       "        stage  non_striker  runs.batter  runs.extras  runs.total  \\\n",
       "0       group  BB McCullum            0            1           1   \n",
       "1       group   SC Ganguly            0            0           0   \n",
       "2       group   SC Ganguly            0            1           1   \n",
       "3       group   SC Ganguly            0            0           0   \n",
       "4       group   SC Ganguly            0            0           0   \n",
       "...       ...          ...          ...          ...         ...   \n",
       "260754  Final      VR Iyer            1            0           1   \n",
       "260755  Final      SS Iyer            1            0           1   \n",
       "260756  Final      SS Iyer            1            0           1   \n",
       "260757  Final      VR Iyer            1            0           1   \n",
       "260758  Final      SS Iyer            1            0           1   \n",
       "\n",
       "        extras.legbyes  extras.wides  extras.byes  extras.noballs wicket.kind  \\\n",
       "0                  1.0           NaN          NaN             NaN         NaN   \n",
       "1                  NaN           NaN          NaN             NaN         NaN   \n",
       "2                  NaN           1.0          NaN             NaN         NaN   \n",
       "3                  NaN           NaN          NaN             NaN         NaN   \n",
       "4                  NaN           NaN          NaN             NaN         NaN   \n",
       "...                ...           ...          ...             ...         ...   \n",
       "260754             NaN           NaN          NaN             NaN         NaN   \n",
       "260755             NaN           NaN          NaN             NaN         NaN   \n",
       "260756             NaN           NaN          NaN             NaN         NaN   \n",
       "260757             NaN           NaN          NaN             NaN         NaN   \n",
       "260758             NaN           NaN          NaN             NaN         NaN   \n",
       "\n",
       "       wicket.player_out wicket.fielders wickets season  \n",
       "0                    NaN             NaN     NaN   2008  \n",
       "1                    NaN             NaN     NaN   2008  \n",
       "2                    NaN             NaN     NaN   2008  \n",
       "3                    NaN             NaN     NaN   2008  \n",
       "4                    NaN             NaN     NaN   2008  \n",
       "...                  ...             ...     ...    ...  \n",
       "260754               NaN             NaN     NaN   2024  \n",
       "260755               NaN             NaN     NaN   2024  \n",
       "260756               NaN             NaN     NaN   2024  \n",
       "260757               NaN             NaN     NaN   2024  \n",
       "260758               NaN             NaN     NaN   2024  \n",
       "\n",
       "[260759 rows x 20 columns]"
      ]
     },
     "execution_count": 25,
     "metadata": {},
     "output_type": "execute_result"
    }
   ],
   "source": [
    "ball_by_ball"
   ]
  },
  {
   "cell_type": "markdown",
   "metadata": {},
   "source": [
    "As we can see the `ball_by_ball.wickets` column has a dictionary that contains the `ball_by_ball.wicket.kind` and `ball_by_ball.wicket.fielders` and other wicket related info which have been already represented as their own columns\n",
    "\n",
    "Hence we can proceed to drop the `ball_by_ball.wickets` column"
   ]
  },
  {
   "cell_type": "code",
   "execution_count": 26,
   "metadata": {},
   "outputs": [],
   "source": [
    "ball_by_ball.drop(columns='wickets',inplace=True)"
   ]
  },
  {
   "cell_type": "markdown",
   "metadata": {},
   "source": [
    "Lets now see the statistics for the the number of runs each batter scored and the no of balls he faced in the match for all mathces of the ipl"
   ]
  },
  {
   "cell_type": "markdown",
   "metadata": {},
   "source": [
    "So we group `ball_by_ball` on `date` `match number` `innings` and `batter`  and aggregate sum of `runs.batter` `runs.extras`for the runs scored by batsman and the count of  `bowler` for the no of balls the batter faced\n"
   ]
  },
  {
   "cell_type": "code",
   "execution_count": 27,
   "metadata": {},
   "outputs": [
    {
     "name": "stderr",
     "output_type": "stream",
     "text": [
      "/tmp/ipykernel_4765/847661393.py:1: FutureWarning: The provided callable <function sum at 0x7f65c0b8b9c0> is currently using SeriesGroupBy.sum. In a future version of pandas, the provided callable will be used directly. To keep current behavior pass the string \"sum\" instead.\n",
      "  ball_by_ball.groupby(['date','match_number','innings','batter']).agg({'runs.batter':np.sum,'runs.extras':np.sum,'bowler':'count'})\n",
      "/tmp/ipykernel_4765/847661393.py:1: FutureWarning: The provided callable <function sum at 0x7f65c0b8b9c0> is currently using SeriesGroupBy.sum. In a future version of pandas, the provided callable will be used directly. To keep current behavior pass the string \"sum\" instead.\n",
      "  ball_by_ball.groupby(['date','match_number','innings','batter']).agg({'runs.batter':np.sum,'runs.extras':np.sum,'bowler':'count'})\n"
     ]
    },
    {
     "data": {
      "text/html": [
       "<div>\n",
       "<style scoped>\n",
       "    .dataframe tbody tr th:only-of-type {\n",
       "        vertical-align: middle;\n",
       "    }\n",
       "\n",
       "    .dataframe tbody tr th {\n",
       "        vertical-align: top;\n",
       "    }\n",
       "\n",
       "    .dataframe thead th {\n",
       "        text-align: right;\n",
       "    }\n",
       "</style>\n",
       "<table border=\"1\" class=\"dataframe\">\n",
       "  <thead>\n",
       "    <tr style=\"text-align: right;\">\n",
       "      <th></th>\n",
       "      <th></th>\n",
       "      <th></th>\n",
       "      <th></th>\n",
       "      <th>runs.batter</th>\n",
       "      <th>runs.extras</th>\n",
       "      <th>bowler</th>\n",
       "    </tr>\n",
       "    <tr>\n",
       "      <th>date</th>\n",
       "      <th>match_number</th>\n",
       "      <th>innings</th>\n",
       "      <th>batter</th>\n",
       "      <th></th>\n",
       "      <th></th>\n",
       "      <th></th>\n",
       "    </tr>\n",
       "  </thead>\n",
       "  <tbody>\n",
       "    <tr>\n",
       "      <th rowspan=\"5\" valign=\"top\">2008-04-18</th>\n",
       "      <th rowspan=\"5\" valign=\"top\">1</th>\n",
       "      <th rowspan=\"5\" valign=\"top\">1</th>\n",
       "      <th>BB McCullum</th>\n",
       "      <td>158</td>\n",
       "      <td>11</td>\n",
       "      <td>77</td>\n",
       "    </tr>\n",
       "    <tr>\n",
       "      <th>DJ Hussey</th>\n",
       "      <td>12</td>\n",
       "      <td>0</td>\n",
       "      <td>12</td>\n",
       "    </tr>\n",
       "    <tr>\n",
       "      <th>Mohammad Hafeez</th>\n",
       "      <td>5</td>\n",
       "      <td>0</td>\n",
       "      <td>3</td>\n",
       "    </tr>\n",
       "    <tr>\n",
       "      <th>RT Ponting</th>\n",
       "      <td>20</td>\n",
       "      <td>4</td>\n",
       "      <td>20</td>\n",
       "    </tr>\n",
       "    <tr>\n",
       "      <th>SC Ganguly</th>\n",
       "      <td>10</td>\n",
       "      <td>2</td>\n",
       "      <td>12</td>\n",
       "    </tr>\n",
       "    <tr>\n",
       "      <th>...</th>\n",
       "      <th>...</th>\n",
       "      <th>...</th>\n",
       "      <th>...</th>\n",
       "      <td>...</td>\n",
       "      <td>...</td>\n",
       "      <td>...</td>\n",
       "    </tr>\n",
       "    <tr>\n",
       "      <th rowspan=\"5\" valign=\"top\">2024-05-26</th>\n",
       "      <th rowspan=\"5\" valign=\"top\">73</th>\n",
       "      <th>1</th>\n",
       "      <th>TM Head</th>\n",
       "      <td>0</td>\n",
       "      <td>0</td>\n",
       "      <td>1</td>\n",
       "    </tr>\n",
       "    <tr>\n",
       "      <th rowspan=\"4\" valign=\"top\">2</th>\n",
       "      <th>Rahmanullah Gurbaz</th>\n",
       "      <td>39</td>\n",
       "      <td>7</td>\n",
       "      <td>35</td>\n",
       "    </tr>\n",
       "    <tr>\n",
       "      <th>SP Narine</th>\n",
       "      <td>6</td>\n",
       "      <td>0</td>\n",
       "      <td>2</td>\n",
       "    </tr>\n",
       "    <tr>\n",
       "      <th>SS Iyer</th>\n",
       "      <td>6</td>\n",
       "      <td>0</td>\n",
       "      <td>3</td>\n",
       "    </tr>\n",
       "    <tr>\n",
       "      <th>VR Iyer</th>\n",
       "      <td>52</td>\n",
       "      <td>4</td>\n",
       "      <td>27</td>\n",
       "    </tr>\n",
       "  </tbody>\n",
       "</table>\n",
       "<p>16515 rows × 3 columns</p>\n",
       "</div>"
      ],
      "text/plain": [
       "                                                    runs.batter  runs.extras  \\\n",
       "date       match_number innings batter                                         \n",
       "2008-04-18 1            1       BB McCullum                 158           11   \n",
       "                                DJ Hussey                    12            0   \n",
       "                                Mohammad Hafeez               5            0   \n",
       "                                RT Ponting                   20            4   \n",
       "                                SC Ganguly                   10            2   \n",
       "...                                                         ...          ...   \n",
       "2024-05-26 73           1       TM Head                       0            0   \n",
       "                        2       Rahmanullah Gurbaz           39            7   \n",
       "                                SP Narine                     6            0   \n",
       "                                SS Iyer                       6            0   \n",
       "                                VR Iyer                      52            4   \n",
       "\n",
       "                                                    bowler  \n",
       "date       match_number innings batter                      \n",
       "2008-04-18 1            1       BB McCullum             77  \n",
       "                                DJ Hussey               12  \n",
       "                                Mohammad Hafeez          3  \n",
       "                                RT Ponting              20  \n",
       "                                SC Ganguly              12  \n",
       "...                                                    ...  \n",
       "2024-05-26 73           1       TM Head                  1  \n",
       "                        2       Rahmanullah Gurbaz      35  \n",
       "                                SP Narine                2  \n",
       "                                SS Iyer                  3  \n",
       "                                VR Iyer                 27  \n",
       "\n",
       "[16515 rows x 3 columns]"
      ]
     },
     "execution_count": 27,
     "metadata": {},
     "output_type": "execute_result"
    }
   ],
   "source": [
    "ball_by_ball.groupby(['date','match_number','innings','batter']).agg({'runs.batter':np.sum,'runs.extras':np.sum,'bowler':'count'})"
   ]
  },
  {
   "cell_type": "markdown",
   "metadata": {},
   "source": [
    "Now next we will see the statistic of how the each bowler bowled in a match ,the number of runs he gave and the split up between runs/ball that is [0,1,2,4,6] and also his wicket distribution over the runs..\n",
    "\n",
    "You may how it makes sense but in run out , stumped wickets there can be runs still taken at that delivery, only bowled and caught will definitely have 0 runs taken on that delivery"
   ]
  },
  {
   "cell_type": "code",
   "execution_count": 28,
   "metadata": {},
   "outputs": [
    {
     "data": {
      "text/html": [
       "<div>\n",
       "<style scoped>\n",
       "    .dataframe tbody tr th:only-of-type {\n",
       "        vertical-align: middle;\n",
       "    }\n",
       "\n",
       "    .dataframe tbody tr th {\n",
       "        vertical-align: top;\n",
       "    }\n",
       "\n",
       "    .dataframe thead th {\n",
       "        text-align: right;\n",
       "    }\n",
       "</style>\n",
       "<table border=\"1\" class=\"dataframe\">\n",
       "  <thead>\n",
       "    <tr style=\"text-align: right;\">\n",
       "      <th></th>\n",
       "      <th></th>\n",
       "      <th></th>\n",
       "      <th></th>\n",
       "      <th></th>\n",
       "      <th>runs.total</th>\n",
       "      <th>wicket.kind</th>\n",
       "      <th>batter</th>\n",
       "    </tr>\n",
       "    <tr>\n",
       "      <th>date</th>\n",
       "      <th>match_number</th>\n",
       "      <th>innings</th>\n",
       "      <th>bowler</th>\n",
       "      <th>runs.batter</th>\n",
       "      <th></th>\n",
       "      <th></th>\n",
       "      <th></th>\n",
       "    </tr>\n",
       "  </thead>\n",
       "  <tbody>\n",
       "    <tr>\n",
       "      <th rowspan=\"5\" valign=\"top\">2008-04-18</th>\n",
       "      <th rowspan=\"5\" valign=\"top\">1</th>\n",
       "      <th rowspan=\"5\" valign=\"top\">1</th>\n",
       "      <th rowspan=\"5\" valign=\"top\">AA Noffke</th>\n",
       "      <th>0</th>\n",
       "      <td>6</td>\n",
       "      <td>1</td>\n",
       "      <td>8</td>\n",
       "    </tr>\n",
       "    <tr>\n",
       "      <th>1</th>\n",
       "      <td>11</td>\n",
       "      <td>0</td>\n",
       "      <td>11</td>\n",
       "    </tr>\n",
       "    <tr>\n",
       "      <th>2</th>\n",
       "      <td>4</td>\n",
       "      <td>0</td>\n",
       "      <td>2</td>\n",
       "    </tr>\n",
       "    <tr>\n",
       "      <th>4</th>\n",
       "      <td>8</td>\n",
       "      <td>0</td>\n",
       "      <td>2</td>\n",
       "    </tr>\n",
       "    <tr>\n",
       "      <th>6</th>\n",
       "      <td>12</td>\n",
       "      <td>0</td>\n",
       "      <td>2</td>\n",
       "    </tr>\n",
       "    <tr>\n",
       "      <th>...</th>\n",
       "      <th>...</th>\n",
       "      <th>...</th>\n",
       "      <th>...</th>\n",
       "      <th>...</th>\n",
       "      <td>...</td>\n",
       "      <td>...</td>\n",
       "      <td>...</td>\n",
       "    </tr>\n",
       "    <tr>\n",
       "      <th rowspan=\"5\" valign=\"top\">2024-05-26</th>\n",
       "      <th rowspan=\"5\" valign=\"top\">73</th>\n",
       "      <th rowspan=\"5\" valign=\"top\">2</th>\n",
       "      <th>Shahbaz Ahmed</th>\n",
       "      <th>6</th>\n",
       "      <td>12</td>\n",
       "      <td>0</td>\n",
       "      <td>2</td>\n",
       "    </tr>\n",
       "    <tr>\n",
       "      <th rowspan=\"4\" valign=\"top\">T Natarajan</th>\n",
       "      <th>0</th>\n",
       "      <td>2</td>\n",
       "      <td>0</td>\n",
       "      <td>4</td>\n",
       "    </tr>\n",
       "    <tr>\n",
       "      <th>1</th>\n",
       "      <td>5</td>\n",
       "      <td>0</td>\n",
       "      <td>5</td>\n",
       "    </tr>\n",
       "    <tr>\n",
       "      <th>4</th>\n",
       "      <td>16</td>\n",
       "      <td>0</td>\n",
       "      <td>4</td>\n",
       "    </tr>\n",
       "    <tr>\n",
       "      <th>6</th>\n",
       "      <td>6</td>\n",
       "      <td>0</td>\n",
       "      <td>1</td>\n",
       "    </tr>\n",
       "  </tbody>\n",
       "</table>\n",
       "<p>54044 rows × 3 columns</p>\n",
       "</div>"
      ],
      "text/plain": [
       "                                                           runs.total  \\\n",
       "date       match_number innings bowler        runs.batter               \n",
       "2008-04-18 1            1       AA Noffke     0                     6   \n",
       "                                              1                    11   \n",
       "                                              2                     4   \n",
       "                                              4                     8   \n",
       "                                              6                    12   \n",
       "...                                                               ...   \n",
       "2024-05-26 73           2       Shahbaz Ahmed 6                    12   \n",
       "                                T Natarajan   0                     2   \n",
       "                                              1                     5   \n",
       "                                              4                    16   \n",
       "                                              6                     6   \n",
       "\n",
       "                                                           wicket.kind  batter  \n",
       "date       match_number innings bowler        runs.batter                       \n",
       "2008-04-18 1            1       AA Noffke     0                      1       8  \n",
       "                                              1                      0      11  \n",
       "                                              2                      0       2  \n",
       "                                              4                      0       2  \n",
       "                                              6                      0       2  \n",
       "...                                                                ...     ...  \n",
       "2024-05-26 73           2       Shahbaz Ahmed 6                      0       2  \n",
       "                                T Natarajan   0                      0       4  \n",
       "                                              1                      0       5  \n",
       "                                              4                      0       4  \n",
       "                                              6                      0       1  \n",
       "\n",
       "[54044 rows x 3 columns]"
      ]
     },
     "execution_count": 28,
     "metadata": {},
     "output_type": "execute_result"
    }
   ],
   "source": [
    "ball_by_ball.groupby(['date','match_number','innings','bowler','runs.batter']).agg({'runs.total':'sum','wicket.kind':'count','batter':'count'})"
   ]
  },
  {
   "cell_type": "code",
   "execution_count": 29,
   "metadata": {},
   "outputs": [],
   "source": [
    "# ball_by_ball.to_csv(\"output/ipl_ball_by_ball_output.csv\", index=False)"
   ]
  },
  {
   "cell_type": "markdown",
   "metadata": {},
   "source": [
    "### THE SUMMARY DATA"
   ]
  },
  {
   "cell_type": "markdown",
   "metadata": {},
   "source": [
    "Now we are going through the `ipl_summary` dataset that contains information recorded per match\n",
    "\n",
    " -  like who won the toss where the match was held etc"
   ]
  },
  {
   "cell_type": "code",
   "execution_count": 30,
   "metadata": {},
   "outputs": [],
   "source": [
    "ipl_summary = pd.read_csv('output/ipl_summary_raw.csv')"
   ]
  },
  {
   "cell_type": "code",
   "execution_count": 31,
   "metadata": {},
   "outputs": [
    {
     "data": {
      "text/html": [
       "<div>\n",
       "<style scoped>\n",
       "    .dataframe tbody tr th:only-of-type {\n",
       "        vertical-align: middle;\n",
       "    }\n",
       "\n",
       "    .dataframe tbody tr th {\n",
       "        vertical-align: top;\n",
       "    }\n",
       "\n",
       "    .dataframe thead th {\n",
       "        text-align: right;\n",
       "    }\n",
       "</style>\n",
       "<table border=\"1\" class=\"dataframe\">\n",
       "  <thead>\n",
       "    <tr style=\"text-align: right;\">\n",
       "      <th></th>\n",
       "      <th>info_balls_per_over</th>\n",
       "      <th>info_city</th>\n",
       "      <th>info_dates_1</th>\n",
       "      <th>info_event_match_number</th>\n",
       "      <th>info_event_name</th>\n",
       "      <th>info_gender</th>\n",
       "      <th>info_match_type</th>\n",
       "      <th>info_officials_match_referees_1</th>\n",
       "      <th>info_officials_reserve_umpires_1</th>\n",
       "      <th>info_officials_tv_umpires_1</th>\n",
       "      <th>...</th>\n",
       "      <th>info_teams_2</th>\n",
       "      <th>info_toss_decision</th>\n",
       "      <th>info_toss_winner</th>\n",
       "      <th>info_venue</th>\n",
       "      <th>info_outcome_by_wickets</th>\n",
       "      <th>info_outcome_eliminator</th>\n",
       "      <th>info_outcome_result</th>\n",
       "      <th>info_event_stage</th>\n",
       "      <th>info_dates_2</th>\n",
       "      <th>info_outcome_method</th>\n",
       "    </tr>\n",
       "  </thead>\n",
       "  <tbody>\n",
       "    <tr>\n",
       "      <th>0</th>\n",
       "      <td>6</td>\n",
       "      <td>Hyderabad</td>\n",
       "      <td>2017-04-05</td>\n",
       "      <td>1.0</td>\n",
       "      <td>Indian Premier League</td>\n",
       "      <td>male</td>\n",
       "      <td>T20</td>\n",
       "      <td>J Srinath</td>\n",
       "      <td>N Pandit</td>\n",
       "      <td>A Deshmukh</td>\n",
       "      <td>...</td>\n",
       "      <td>Royal Challengers Bangalore</td>\n",
       "      <td>field</td>\n",
       "      <td>Royal Challengers Bangalore</td>\n",
       "      <td>Rajiv Gandhi International Stadium, Uppal</td>\n",
       "      <td>NaN</td>\n",
       "      <td>NaN</td>\n",
       "      <td>NaN</td>\n",
       "      <td>NaN</td>\n",
       "      <td>NaN</td>\n",
       "      <td>NaN</td>\n",
       "    </tr>\n",
       "    <tr>\n",
       "      <th>1</th>\n",
       "      <td>6</td>\n",
       "      <td>Pune</td>\n",
       "      <td>2017-04-06</td>\n",
       "      <td>2.0</td>\n",
       "      <td>Indian Premier League</td>\n",
       "      <td>male</td>\n",
       "      <td>T20</td>\n",
       "      <td>M Nayyar</td>\n",
       "      <td>Navdeep Singh</td>\n",
       "      <td>VK Sharma</td>\n",
       "      <td>...</td>\n",
       "      <td>Mumbai Indians</td>\n",
       "      <td>field</td>\n",
       "      <td>Rising Pune Supergiant</td>\n",
       "      <td>Maharashtra Cricket Association Stadium</td>\n",
       "      <td>7.0</td>\n",
       "      <td>NaN</td>\n",
       "      <td>NaN</td>\n",
       "      <td>NaN</td>\n",
       "      <td>NaN</td>\n",
       "      <td>NaN</td>\n",
       "    </tr>\n",
       "    <tr>\n",
       "      <th>2</th>\n",
       "      <td>6</td>\n",
       "      <td>Rajkot</td>\n",
       "      <td>2017-04-07</td>\n",
       "      <td>3.0</td>\n",
       "      <td>Indian Premier League</td>\n",
       "      <td>male</td>\n",
       "      <td>T20</td>\n",
       "      <td>V Narayan Kutty</td>\n",
       "      <td>K Srinivasan</td>\n",
       "      <td>YC Barde</td>\n",
       "      <td>...</td>\n",
       "      <td>Kolkata Knight Riders</td>\n",
       "      <td>field</td>\n",
       "      <td>Kolkata Knight Riders</td>\n",
       "      <td>Saurashtra Cricket Association Stadium</td>\n",
       "      <td>10.0</td>\n",
       "      <td>NaN</td>\n",
       "      <td>NaN</td>\n",
       "      <td>NaN</td>\n",
       "      <td>NaN</td>\n",
       "      <td>NaN</td>\n",
       "    </tr>\n",
       "    <tr>\n",
       "      <th>3</th>\n",
       "      <td>6</td>\n",
       "      <td>Indore</td>\n",
       "      <td>2017-04-08</td>\n",
       "      <td>4.0</td>\n",
       "      <td>Indian Premier League</td>\n",
       "      <td>male</td>\n",
       "      <td>T20</td>\n",
       "      <td>Chinmay Sharma</td>\n",
       "      <td>R Pandit</td>\n",
       "      <td>KN Ananthapadmanabhan</td>\n",
       "      <td>...</td>\n",
       "      <td>Rising Pune Supergiant</td>\n",
       "      <td>field</td>\n",
       "      <td>Kings XI Punjab</td>\n",
       "      <td>Holkar Cricket Stadium</td>\n",
       "      <td>6.0</td>\n",
       "      <td>NaN</td>\n",
       "      <td>NaN</td>\n",
       "      <td>NaN</td>\n",
       "      <td>NaN</td>\n",
       "      <td>NaN</td>\n",
       "    </tr>\n",
       "    <tr>\n",
       "      <th>4</th>\n",
       "      <td>6</td>\n",
       "      <td>Bengaluru</td>\n",
       "      <td>2017-04-08</td>\n",
       "      <td>5.0</td>\n",
       "      <td>Indian Premier League</td>\n",
       "      <td>male</td>\n",
       "      <td>T20</td>\n",
       "      <td>J Srinath</td>\n",
       "      <td>Navdeep Singh</td>\n",
       "      <td>A Nand Kishore</td>\n",
       "      <td>...</td>\n",
       "      <td>Delhi Daredevils</td>\n",
       "      <td>bat</td>\n",
       "      <td>Royal Challengers Bangalore</td>\n",
       "      <td>M.Chinnaswamy Stadium</td>\n",
       "      <td>NaN</td>\n",
       "      <td>NaN</td>\n",
       "      <td>NaN</td>\n",
       "      <td>NaN</td>\n",
       "      <td>NaN</td>\n",
       "      <td>NaN</td>\n",
       "    </tr>\n",
       "  </tbody>\n",
       "</table>\n",
       "<p>5 rows × 29 columns</p>\n",
       "</div>"
      ],
      "text/plain": [
       "   info_balls_per_over  info_city info_dates_1  info_event_match_number  \\\n",
       "0                    6  Hyderabad   2017-04-05                      1.0   \n",
       "1                    6       Pune   2017-04-06                      2.0   \n",
       "2                    6     Rajkot   2017-04-07                      3.0   \n",
       "3                    6     Indore   2017-04-08                      4.0   \n",
       "4                    6  Bengaluru   2017-04-08                      5.0   \n",
       "\n",
       "         info_event_name info_gender info_match_type  \\\n",
       "0  Indian Premier League        male             T20   \n",
       "1  Indian Premier League        male             T20   \n",
       "2  Indian Premier League        male             T20   \n",
       "3  Indian Premier League        male             T20   \n",
       "4  Indian Premier League        male             T20   \n",
       "\n",
       "  info_officials_match_referees_1 info_officials_reserve_umpires_1  \\\n",
       "0                       J Srinath                         N Pandit   \n",
       "1                        M Nayyar                    Navdeep Singh   \n",
       "2                 V Narayan Kutty                     K Srinivasan   \n",
       "3                  Chinmay Sharma                         R Pandit   \n",
       "4                       J Srinath                    Navdeep Singh   \n",
       "\n",
       "  info_officials_tv_umpires_1  ...                 info_teams_2  \\\n",
       "0                  A Deshmukh  ...  Royal Challengers Bangalore   \n",
       "1                   VK Sharma  ...               Mumbai Indians   \n",
       "2                    YC Barde  ...        Kolkata Knight Riders   \n",
       "3       KN Ananthapadmanabhan  ...       Rising Pune Supergiant   \n",
       "4              A Nand Kishore  ...             Delhi Daredevils   \n",
       "\n",
       "  info_toss_decision             info_toss_winner  \\\n",
       "0              field  Royal Challengers Bangalore   \n",
       "1              field       Rising Pune Supergiant   \n",
       "2              field        Kolkata Knight Riders   \n",
       "3              field              Kings XI Punjab   \n",
       "4                bat  Royal Challengers Bangalore   \n",
       "\n",
       "                                  info_venue  info_outcome_by_wickets  \\\n",
       "0  Rajiv Gandhi International Stadium, Uppal                      NaN   \n",
       "1    Maharashtra Cricket Association Stadium                      7.0   \n",
       "2     Saurashtra Cricket Association Stadium                     10.0   \n",
       "3                     Holkar Cricket Stadium                      6.0   \n",
       "4                      M.Chinnaswamy Stadium                      NaN   \n",
       "\n",
       "  info_outcome_eliminator info_outcome_result info_event_stage info_dates_2  \\\n",
       "0                     NaN                 NaN              NaN          NaN   \n",
       "1                     NaN                 NaN              NaN          NaN   \n",
       "2                     NaN                 NaN              NaN          NaN   \n",
       "3                     NaN                 NaN              NaN          NaN   \n",
       "4                     NaN                 NaN              NaN          NaN   \n",
       "\n",
       "  info_outcome_method  \n",
       "0                 NaN  \n",
       "1                 NaN  \n",
       "2                 NaN  \n",
       "3                 NaN  \n",
       "4                 NaN  \n",
       "\n",
       "[5 rows x 29 columns]"
      ]
     },
     "execution_count": 31,
     "metadata": {},
     "output_type": "execute_result"
    }
   ],
   "source": [
    "ipl_summary.head()"
   ]
  },
  {
   "cell_type": "markdown",
   "metadata": {},
   "source": [
    "We can see the columns name starting with \"info_...\" so we want to remove such meaningless prefixes and name the columns properly"
   ]
  },
  {
   "cell_type": "code",
   "execution_count": 32,
   "metadata": {},
   "outputs": [],
   "source": [
    "def remove_prefix(x: str, to_replace: str, replace_by: str):\n",
    "    return x.replace(to_replace, replace_by)"
   ]
  },
  {
   "cell_type": "code",
   "execution_count": 33,
   "metadata": {},
   "outputs": [],
   "source": [
    "ipl_summary.rename(\n",
    "    lambda x: remove_prefix(str(x), to_replace=\"info_\", replace_by=\"\"),\n",
    "    inplace=True,\n",
    "    axis=1,\n",
    ")"
   ]
  },
  {
   "cell_type": "code",
   "execution_count": 34,
   "metadata": {},
   "outputs": [],
   "source": [
    "ipl_summary.rename(\n",
    "    lambda x: remove_prefix(str(x), to_replace=\" \", replace_by=\"_\"),\n",
    "    inplace=True,\n",
    "    axis=1,\n",
    ")"
   ]
  },
  {
   "cell_type": "code",
   "execution_count": 35,
   "metadata": {},
   "outputs": [],
   "source": [
    "ipl_summary.rename(lambda x: str(x).lower(), inplace=True, axis=1)"
   ]
  },
  {
   "cell_type": "markdown",
   "metadata": {},
   "source": [
    "Now we have more reasonable and meaningful names for the column "
   ]
  },
  {
   "cell_type": "code",
   "execution_count": 36,
   "metadata": {},
   "outputs": [
    {
     "data": {
      "text/html": [
       "<div>\n",
       "<style scoped>\n",
       "    .dataframe tbody tr th:only-of-type {\n",
       "        vertical-align: middle;\n",
       "    }\n",
       "\n",
       "    .dataframe tbody tr th {\n",
       "        vertical-align: top;\n",
       "    }\n",
       "\n",
       "    .dataframe thead th {\n",
       "        text-align: right;\n",
       "    }\n",
       "</style>\n",
       "<table border=\"1\" class=\"dataframe\">\n",
       "  <thead>\n",
       "    <tr style=\"text-align: right;\">\n",
       "      <th></th>\n",
       "      <th>balls_per_over</th>\n",
       "      <th>city</th>\n",
       "      <th>dates_1</th>\n",
       "      <th>event_match_number</th>\n",
       "      <th>event_name</th>\n",
       "      <th>gender</th>\n",
       "      <th>match_type</th>\n",
       "      <th>officials_match_referees_1</th>\n",
       "      <th>officials_reserve_umpires_1</th>\n",
       "      <th>officials_tv_umpires_1</th>\n",
       "      <th>...</th>\n",
       "      <th>teams_2</th>\n",
       "      <th>toss_decision</th>\n",
       "      <th>toss_winner</th>\n",
       "      <th>venue</th>\n",
       "      <th>outcome_by_wickets</th>\n",
       "      <th>outcome_eliminator</th>\n",
       "      <th>outcome_result</th>\n",
       "      <th>event_stage</th>\n",
       "      <th>dates_2</th>\n",
       "      <th>outcome_method</th>\n",
       "    </tr>\n",
       "  </thead>\n",
       "  <tbody>\n",
       "    <tr>\n",
       "      <th>0</th>\n",
       "      <td>6</td>\n",
       "      <td>Hyderabad</td>\n",
       "      <td>2017-04-05</td>\n",
       "      <td>1.0</td>\n",
       "      <td>Indian Premier League</td>\n",
       "      <td>male</td>\n",
       "      <td>T20</td>\n",
       "      <td>J Srinath</td>\n",
       "      <td>N Pandit</td>\n",
       "      <td>A Deshmukh</td>\n",
       "      <td>...</td>\n",
       "      <td>Royal Challengers Bangalore</td>\n",
       "      <td>field</td>\n",
       "      <td>Royal Challengers Bangalore</td>\n",
       "      <td>Rajiv Gandhi International Stadium, Uppal</td>\n",
       "      <td>NaN</td>\n",
       "      <td>NaN</td>\n",
       "      <td>NaN</td>\n",
       "      <td>NaN</td>\n",
       "      <td>NaN</td>\n",
       "      <td>NaN</td>\n",
       "    </tr>\n",
       "    <tr>\n",
       "      <th>1</th>\n",
       "      <td>6</td>\n",
       "      <td>Pune</td>\n",
       "      <td>2017-04-06</td>\n",
       "      <td>2.0</td>\n",
       "      <td>Indian Premier League</td>\n",
       "      <td>male</td>\n",
       "      <td>T20</td>\n",
       "      <td>M Nayyar</td>\n",
       "      <td>Navdeep Singh</td>\n",
       "      <td>VK Sharma</td>\n",
       "      <td>...</td>\n",
       "      <td>Mumbai Indians</td>\n",
       "      <td>field</td>\n",
       "      <td>Rising Pune Supergiant</td>\n",
       "      <td>Maharashtra Cricket Association Stadium</td>\n",
       "      <td>7.0</td>\n",
       "      <td>NaN</td>\n",
       "      <td>NaN</td>\n",
       "      <td>NaN</td>\n",
       "      <td>NaN</td>\n",
       "      <td>NaN</td>\n",
       "    </tr>\n",
       "    <tr>\n",
       "      <th>2</th>\n",
       "      <td>6</td>\n",
       "      <td>Rajkot</td>\n",
       "      <td>2017-04-07</td>\n",
       "      <td>3.0</td>\n",
       "      <td>Indian Premier League</td>\n",
       "      <td>male</td>\n",
       "      <td>T20</td>\n",
       "      <td>V Narayan Kutty</td>\n",
       "      <td>K Srinivasan</td>\n",
       "      <td>YC Barde</td>\n",
       "      <td>...</td>\n",
       "      <td>Kolkata Knight Riders</td>\n",
       "      <td>field</td>\n",
       "      <td>Kolkata Knight Riders</td>\n",
       "      <td>Saurashtra Cricket Association Stadium</td>\n",
       "      <td>10.0</td>\n",
       "      <td>NaN</td>\n",
       "      <td>NaN</td>\n",
       "      <td>NaN</td>\n",
       "      <td>NaN</td>\n",
       "      <td>NaN</td>\n",
       "    </tr>\n",
       "    <tr>\n",
       "      <th>3</th>\n",
       "      <td>6</td>\n",
       "      <td>Indore</td>\n",
       "      <td>2017-04-08</td>\n",
       "      <td>4.0</td>\n",
       "      <td>Indian Premier League</td>\n",
       "      <td>male</td>\n",
       "      <td>T20</td>\n",
       "      <td>Chinmay Sharma</td>\n",
       "      <td>R Pandit</td>\n",
       "      <td>KN Ananthapadmanabhan</td>\n",
       "      <td>...</td>\n",
       "      <td>Rising Pune Supergiant</td>\n",
       "      <td>field</td>\n",
       "      <td>Kings XI Punjab</td>\n",
       "      <td>Holkar Cricket Stadium</td>\n",
       "      <td>6.0</td>\n",
       "      <td>NaN</td>\n",
       "      <td>NaN</td>\n",
       "      <td>NaN</td>\n",
       "      <td>NaN</td>\n",
       "      <td>NaN</td>\n",
       "    </tr>\n",
       "    <tr>\n",
       "      <th>4</th>\n",
       "      <td>6</td>\n",
       "      <td>Bengaluru</td>\n",
       "      <td>2017-04-08</td>\n",
       "      <td>5.0</td>\n",
       "      <td>Indian Premier League</td>\n",
       "      <td>male</td>\n",
       "      <td>T20</td>\n",
       "      <td>J Srinath</td>\n",
       "      <td>Navdeep Singh</td>\n",
       "      <td>A Nand Kishore</td>\n",
       "      <td>...</td>\n",
       "      <td>Delhi Daredevils</td>\n",
       "      <td>bat</td>\n",
       "      <td>Royal Challengers Bangalore</td>\n",
       "      <td>M.Chinnaswamy Stadium</td>\n",
       "      <td>NaN</td>\n",
       "      <td>NaN</td>\n",
       "      <td>NaN</td>\n",
       "      <td>NaN</td>\n",
       "      <td>NaN</td>\n",
       "      <td>NaN</td>\n",
       "    </tr>\n",
       "  </tbody>\n",
       "</table>\n",
       "<p>5 rows × 29 columns</p>\n",
       "</div>"
      ],
      "text/plain": [
       "   balls_per_over       city     dates_1  event_match_number  \\\n",
       "0               6  Hyderabad  2017-04-05                 1.0   \n",
       "1               6       Pune  2017-04-06                 2.0   \n",
       "2               6     Rajkot  2017-04-07                 3.0   \n",
       "3               6     Indore  2017-04-08                 4.0   \n",
       "4               6  Bengaluru  2017-04-08                 5.0   \n",
       "\n",
       "              event_name gender match_type officials_match_referees_1  \\\n",
       "0  Indian Premier League   male        T20                  J Srinath   \n",
       "1  Indian Premier League   male        T20                   M Nayyar   \n",
       "2  Indian Premier League   male        T20            V Narayan Kutty   \n",
       "3  Indian Premier League   male        T20             Chinmay Sharma   \n",
       "4  Indian Premier League   male        T20                  J Srinath   \n",
       "\n",
       "  officials_reserve_umpires_1 officials_tv_umpires_1  ...  \\\n",
       "0                    N Pandit             A Deshmukh  ...   \n",
       "1               Navdeep Singh              VK Sharma  ...   \n",
       "2                K Srinivasan               YC Barde  ...   \n",
       "3                    R Pandit  KN Ananthapadmanabhan  ...   \n",
       "4               Navdeep Singh         A Nand Kishore  ...   \n",
       "\n",
       "                       teams_2 toss_decision                  toss_winner  \\\n",
       "0  Royal Challengers Bangalore         field  Royal Challengers Bangalore   \n",
       "1               Mumbai Indians         field       Rising Pune Supergiant   \n",
       "2        Kolkata Knight Riders         field        Kolkata Knight Riders   \n",
       "3       Rising Pune Supergiant         field              Kings XI Punjab   \n",
       "4             Delhi Daredevils           bat  Royal Challengers Bangalore   \n",
       "\n",
       "                                       venue  outcome_by_wickets  \\\n",
       "0  Rajiv Gandhi International Stadium, Uppal                 NaN   \n",
       "1    Maharashtra Cricket Association Stadium                 7.0   \n",
       "2     Saurashtra Cricket Association Stadium                10.0   \n",
       "3                     Holkar Cricket Stadium                 6.0   \n",
       "4                      M.Chinnaswamy Stadium                 NaN   \n",
       "\n",
       "  outcome_eliminator outcome_result event_stage dates_2 outcome_method  \n",
       "0                NaN            NaN         NaN     NaN            NaN  \n",
       "1                NaN            NaN         NaN     NaN            NaN  \n",
       "2                NaN            NaN         NaN     NaN            NaN  \n",
       "3                NaN            NaN         NaN     NaN            NaN  \n",
       "4                NaN            NaN         NaN     NaN            NaN  \n",
       "\n",
       "[5 rows x 29 columns]"
      ]
     },
     "execution_count": 36,
     "metadata": {},
     "output_type": "execute_result"
    }
   ],
   "source": [
    "ipl_summary.head()"
   ]
  },
  {
   "cell_type": "markdown",
   "metadata": {},
   "source": [
    "We want to get proper team_1 and team_2 based on the toss decision we want the team_1 to always bat first on ground"
   ]
  },
  {
   "cell_type": "code",
   "execution_count": 37,
   "metadata": {},
   "outputs": [],
   "source": [
    "def populate_team_1(row):\n",
    "    toss_winner = row[\"toss_winner\"]\n",
    "    if row[\"toss_decision\"] == \"bat\":\n",
    "        team_1 = row[\"toss_winner\"]\n",
    "    else:\n",
    "        teams_1 = row[\"teams_1\"]\n",
    "        teams_2 = row[\"teams_2\"]\n",
    "        team_1 = teams_2 if toss_winner == teams_1 else teams_1\n",
    "\n",
    "    return team_1"
   ]
  },
  {
   "cell_type": "code",
   "execution_count": 38,
   "metadata": {},
   "outputs": [],
   "source": [
    "ipl_summary[\"team_1\"] = ipl_summary.apply(populate_team_1, axis=1)"
   ]
  },
  {
   "cell_type": "code",
   "execution_count": 39,
   "metadata": {},
   "outputs": [],
   "source": [
    "def populate_team_2(row):\n",
    "    toss_winner = row[\"toss_winner\"]\n",
    "    if row[\"toss_decision\"] == \"field\":\n",
    "        team_2 = row[\"toss_winner\"]\n",
    "    else:\n",
    "        teams_1 = row[\"teams_1\"]\n",
    "        teams_2 = row[\"teams_2\"]\n",
    "        team_2 = teams_2 if toss_winner == teams_1 else teams_1\n",
    "\n",
    "    return team_2"
   ]
  },
  {
   "cell_type": "code",
   "execution_count": 40,
   "metadata": {},
   "outputs": [],
   "source": [
    "ipl_summary[\"team_2\"] = ipl_summary.apply(populate_team_2, axis=1)"
   ]
  },
  {
   "cell_type": "code",
   "execution_count": 41,
   "metadata": {},
   "outputs": [
    {
     "data": {
      "text/plain": [
       "Index(['balls_per_over', 'city', 'dates_1', 'event_match_number', 'event_name',\n",
       "       'gender', 'match_type', 'officials_match_referees_1',\n",
       "       'officials_reserve_umpires_1', 'officials_tv_umpires_1',\n",
       "       'officials_umpires_1', 'officials_umpires_2', 'outcome_by_runs',\n",
       "       'outcome_winner', 'overs', 'player_of_match_1', 'season', 'team_type',\n",
       "       'teams_1', 'teams_2', 'toss_decision', 'toss_winner', 'venue',\n",
       "       'outcome_by_wickets', 'outcome_eliminator', 'outcome_result',\n",
       "       'event_stage', 'dates_2', 'outcome_method', 'team_1', 'team_2'],\n",
       "      dtype='object')"
      ]
     },
     "execution_count": 41,
     "metadata": {},
     "output_type": "execute_result"
    }
   ],
   "source": [
    "ipl_summary.columns"
   ]
  },
  {
   "cell_type": "markdown",
   "metadata": {},
   "source": [
    "Now we have created new columns that are meaningful and extracted most of the relevant information ,Hence we can drop duplicate columns and others which dont make much sense like match refrees and umpires ... they dont neccesarily impact our analysis"
   ]
  },
  {
   "cell_type": "code",
   "execution_count": 42,
   "metadata": {},
   "outputs": [
    {
     "data": {
      "text/html": [
       "<div>\n",
       "<style scoped>\n",
       "    .dataframe tbody tr th:only-of-type {\n",
       "        vertical-align: middle;\n",
       "    }\n",
       "\n",
       "    .dataframe tbody tr th {\n",
       "        vertical-align: top;\n",
       "    }\n",
       "\n",
       "    .dataframe thead th {\n",
       "        text-align: right;\n",
       "    }\n",
       "</style>\n",
       "<table border=\"1\" class=\"dataframe\">\n",
       "  <thead>\n",
       "    <tr style=\"text-align: right;\">\n",
       "      <th></th>\n",
       "      <th>teams_1</th>\n",
       "      <th>teams_2</th>\n",
       "      <th>toss_decision</th>\n",
       "      <th>toss_winner</th>\n",
       "      <th>outcome_winner</th>\n",
       "      <th>team_1</th>\n",
       "      <th>team_2</th>\n",
       "    </tr>\n",
       "  </thead>\n",
       "  <tbody>\n",
       "    <tr>\n",
       "      <th>0</th>\n",
       "      <td>Sunrisers Hyderabad</td>\n",
       "      <td>Royal Challengers Bangalore</td>\n",
       "      <td>field</td>\n",
       "      <td>Royal Challengers Bangalore</td>\n",
       "      <td>Sunrisers Hyderabad</td>\n",
       "      <td>Sunrisers Hyderabad</td>\n",
       "      <td>Royal Challengers Bangalore</td>\n",
       "    </tr>\n",
       "    <tr>\n",
       "      <th>1</th>\n",
       "      <td>Rising Pune Supergiant</td>\n",
       "      <td>Mumbai Indians</td>\n",
       "      <td>field</td>\n",
       "      <td>Rising Pune Supergiant</td>\n",
       "      <td>Rising Pune Supergiant</td>\n",
       "      <td>Mumbai Indians</td>\n",
       "      <td>Rising Pune Supergiant</td>\n",
       "    </tr>\n",
       "    <tr>\n",
       "      <th>2</th>\n",
       "      <td>Gujarat Lions</td>\n",
       "      <td>Kolkata Knight Riders</td>\n",
       "      <td>field</td>\n",
       "      <td>Kolkata Knight Riders</td>\n",
       "      <td>Kolkata Knight Riders</td>\n",
       "      <td>Gujarat Lions</td>\n",
       "      <td>Kolkata Knight Riders</td>\n",
       "    </tr>\n",
       "    <tr>\n",
       "      <th>3</th>\n",
       "      <td>Kings XI Punjab</td>\n",
       "      <td>Rising Pune Supergiant</td>\n",
       "      <td>field</td>\n",
       "      <td>Kings XI Punjab</td>\n",
       "      <td>Kings XI Punjab</td>\n",
       "      <td>Rising Pune Supergiant</td>\n",
       "      <td>Kings XI Punjab</td>\n",
       "    </tr>\n",
       "    <tr>\n",
       "      <th>4</th>\n",
       "      <td>Royal Challengers Bangalore</td>\n",
       "      <td>Delhi Daredevils</td>\n",
       "      <td>bat</td>\n",
       "      <td>Royal Challengers Bangalore</td>\n",
       "      <td>Royal Challengers Bangalore</td>\n",
       "      <td>Royal Challengers Bangalore</td>\n",
       "      <td>Delhi Daredevils</td>\n",
       "    </tr>\n",
       "  </tbody>\n",
       "</table>\n",
       "</div>"
      ],
      "text/plain": [
       "                       teams_1                      teams_2 toss_decision  \\\n",
       "0          Sunrisers Hyderabad  Royal Challengers Bangalore         field   \n",
       "1       Rising Pune Supergiant               Mumbai Indians         field   \n",
       "2                Gujarat Lions        Kolkata Knight Riders         field   \n",
       "3              Kings XI Punjab       Rising Pune Supergiant         field   \n",
       "4  Royal Challengers Bangalore             Delhi Daredevils           bat   \n",
       "\n",
       "                   toss_winner               outcome_winner  \\\n",
       "0  Royal Challengers Bangalore          Sunrisers Hyderabad   \n",
       "1       Rising Pune Supergiant       Rising Pune Supergiant   \n",
       "2        Kolkata Knight Riders        Kolkata Knight Riders   \n",
       "3              Kings XI Punjab              Kings XI Punjab   \n",
       "4  Royal Challengers Bangalore  Royal Challengers Bangalore   \n",
       "\n",
       "                        team_1                       team_2  \n",
       "0          Sunrisers Hyderabad  Royal Challengers Bangalore  \n",
       "1               Mumbai Indians       Rising Pune Supergiant  \n",
       "2                Gujarat Lions        Kolkata Knight Riders  \n",
       "3       Rising Pune Supergiant              Kings XI Punjab  \n",
       "4  Royal Challengers Bangalore             Delhi Daredevils  "
      ]
     },
     "execution_count": 42,
     "metadata": {},
     "output_type": "execute_result"
    }
   ],
   "source": [
    "sel_cols = [\n",
    "    \"teams_1\",\n",
    "    \"teams_2\",\n",
    "    \"toss_decision\",\n",
    "    \"toss_winner\",\n",
    "    \"outcome_winner\",\n",
    "    \"team_1\",\n",
    "    \"team_2\",\n",
    "]\n",
    "ipl_summary[sel_cols].head()"
   ]
  },
  {
   "cell_type": "code",
   "execution_count": 43,
   "metadata": {},
   "outputs": [],
   "source": [
    "ipl_summary.drop(columns=[\"teams_1\", \"teams_2\"], inplace=True)"
   ]
  },
  {
   "cell_type": "markdown",
   "metadata": {},
   "source": [
    "### Following columns have only a single value and so can be dropped from the dataframe\n",
    "\n",
    "1. balls_per_over\n",
    "2. event_name\n",
    "3. gender\n",
    "4. match_type\n",
    "5. overs\n",
    "6. team_type\n"
   ]
  },
  {
   "cell_type": "code",
   "execution_count": 44,
   "metadata": {},
   "outputs": [
    {
     "data": {
      "text/plain": [
       "balls_per_over\n",
       "6    1095\n",
       "Name: count, dtype: int64"
      ]
     },
     "execution_count": 44,
     "metadata": {},
     "output_type": "execute_result"
    }
   ],
   "source": [
    "ipl_summary[\"balls_per_over\"].value_counts()"
   ]
  },
  {
   "cell_type": "code",
   "execution_count": 45,
   "metadata": {},
   "outputs": [
    {
     "data": {
      "text/plain": [
       "event_name\n",
       "Indian Premier League    1095\n",
       "Name: count, dtype: int64"
      ]
     },
     "execution_count": 45,
     "metadata": {},
     "output_type": "execute_result"
    }
   ],
   "source": [
    "ipl_summary[\"event_name\"].value_counts()"
   ]
  },
  {
   "cell_type": "code",
   "execution_count": 46,
   "metadata": {},
   "outputs": [
    {
     "data": {
      "text/plain": [
       "gender\n",
       "male    1095\n",
       "Name: count, dtype: int64"
      ]
     },
     "execution_count": 46,
     "metadata": {},
     "output_type": "execute_result"
    }
   ],
   "source": [
    "ipl_summary[\"gender\"].value_counts()"
   ]
  },
  {
   "cell_type": "code",
   "execution_count": 47,
   "metadata": {},
   "outputs": [
    {
     "data": {
      "text/plain": [
       "match_type\n",
       "T20    1095\n",
       "Name: count, dtype: int64"
      ]
     },
     "execution_count": 47,
     "metadata": {},
     "output_type": "execute_result"
    }
   ],
   "source": [
    "ipl_summary[\"match_type\"].value_counts()"
   ]
  },
  {
   "cell_type": "code",
   "execution_count": 48,
   "metadata": {},
   "outputs": [
    {
     "data": {
      "text/plain": [
       "overs\n",
       "20    1095\n",
       "Name: count, dtype: int64"
      ]
     },
     "execution_count": 48,
     "metadata": {},
     "output_type": "execute_result"
    }
   ],
   "source": [
    "ipl_summary[\"overs\"].value_counts()"
   ]
  },
  {
   "cell_type": "code",
   "execution_count": 49,
   "metadata": {},
   "outputs": [
    {
     "data": {
      "text/plain": [
       "team_type\n",
       "club    1095\n",
       "Name: count, dtype: int64"
      ]
     },
     "execution_count": 49,
     "metadata": {},
     "output_type": "execute_result"
    }
   ],
   "source": [
    "ipl_summary[\"team_type\"].value_counts()"
   ]
  },
  {
   "cell_type": "code",
   "execution_count": 50,
   "metadata": {},
   "outputs": [],
   "source": [
    "ipl_summary.drop(\n",
    "    columns=[\n",
    "        \"balls_per_over\",\n",
    "        \"event_name\",\n",
    "        \"gender\",\n",
    "        \"match_type\",\n",
    "        \"overs\",\n",
    "        \"team_type\",\n",
    "    ],\n",
    "    inplace=True,\n",
    ")"
   ]
  },
  {
   "cell_type": "markdown",
   "metadata": {},
   "source": [
    "Season has 2016 represented as string and numeric and so it is showing up as two different values. Convert to str type\n"
   ]
  },
  {
   "cell_type": "code",
   "execution_count": 51,
   "metadata": {},
   "outputs": [
    {
     "data": {
      "text/plain": [
       "season\n",
       "2016    60\n",
       "Name: count, dtype: int64"
      ]
     },
     "execution_count": 51,
     "metadata": {},
     "output_type": "execute_result"
    }
   ],
   "source": [
    "ipl_summary[ipl_summary[\"season\"].apply(lambda x: str(x).strip().find(\"2016\") != -1)][\n",
    "    \"season\"\n",
    "].value_counts()"
   ]
  },
  {
   "cell_type": "code",
   "execution_count": 52,
   "metadata": {},
   "outputs": [],
   "source": [
    "ipl_summary[\"season\"] = ipl_summary[\"season\"].astype(str)"
   ]
  },
  {
   "cell_type": "code",
   "execution_count": 53,
   "metadata": {},
   "outputs": [
    {
     "data": {
      "text/plain": [
       "season\n",
       "2013       76\n",
       "2012       74\n",
       "2023       74\n",
       "2022       74\n",
       "2011       73\n",
       "2024       71\n",
       "2016       60\n",
       "2021       60\n",
       "2018       60\n",
       "2014       60\n",
       "2019       60\n",
       "2020/21    60\n",
       "2009/10    60\n",
       "2017       59\n",
       "2015       59\n",
       "2007/08    58\n",
       "2009       57\n",
       "Name: count, dtype: int64"
      ]
     },
     "execution_count": 53,
     "metadata": {},
     "output_type": "execute_result"
    }
   ],
   "source": [
    "ipl_summary.season.value_counts()"
   ]
  },
  {
   "cell_type": "code",
   "execution_count": 54,
   "metadata": {},
   "outputs": [
    {
     "name": "stdout",
     "output_type": "stream",
     "text": [
      "<class 'pandas.core.frame.DataFrame'>\n",
      "RangeIndex: 1095 entries, 0 to 1094\n",
      "Data columns (total 23 columns):\n",
      " #   Column                       Non-Null Count  Dtype  \n",
      "---  ------                       --------------  -----  \n",
      " 0   city                         1044 non-null   object \n",
      " 1   dates_1                      1095 non-null   object \n",
      " 2   event_match_number           1029 non-null   float64\n",
      " 3   officials_match_referees_1   1095 non-null   object \n",
      " 4   officials_reserve_umpires_1  1071 non-null   object \n",
      " 5   officials_tv_umpires_1       1091 non-null   object \n",
      " 6   officials_umpires_1          1095 non-null   object \n",
      " 7   officials_umpires_2          1095 non-null   object \n",
      " 8   outcome_by_runs              498 non-null    float64\n",
      " 9   outcome_winner               1076 non-null   object \n",
      " 10  player_of_match_1            1090 non-null   object \n",
      " 11  season                       1095 non-null   object \n",
      " 12  toss_decision                1095 non-null   object \n",
      " 13  toss_winner                  1095 non-null   object \n",
      " 14  venue                        1095 non-null   object \n",
      " 15  outcome_by_wickets           578 non-null    float64\n",
      " 16  outcome_eliminator           14 non-null     object \n",
      " 17  outcome_result               19 non-null     object \n",
      " 18  event_stage                  66 non-null     object \n",
      " 19  dates_2                      2 non-null      object \n",
      " 20  outcome_method               21 non-null     object \n",
      " 21  team_1                       1095 non-null   object \n",
      " 22  team_2                       1095 non-null   object \n",
      "dtypes: float64(3), object(20)\n",
      "memory usage: 196.9+ KB\n"
     ]
    }
   ],
   "source": [
    "ipl_summary.info()"
   ]
  },
  {
   "cell_type": "code",
   "execution_count": 55,
   "metadata": {},
   "outputs": [],
   "source": [
    "ipl_summary.loc[ipl_summary[\"event_match_number\"].isnull(), \"event_match_number\"] = -1"
   ]
  },
  {
   "cell_type": "code",
   "execution_count": 56,
   "metadata": {},
   "outputs": [],
   "source": [
    "ipl_summary[\"event_match_number\"] = ipl_summary[\"event_match_number\"].astype(int)"
   ]
  },
  {
   "cell_type": "code",
   "execution_count": 57,
   "metadata": {},
   "outputs": [
    {
     "data": {
      "text/plain": [
       "array([ 1,  2,  3,  4,  5,  6,  7,  8,  9, 10, 11, 12, 13, 14, 15, 16, 17,\n",
       "       18, 19, 20, 21, 22, 23, 25, 24, 26, 27, 28, 30, 31, 32, 33, 34, 35,\n",
       "       36, 37, 38, 39, 40, 41, 42, 43, 44, 45, 46, 47, 48, 49, 50, 51, 52,\n",
       "       53, 54, 55, 56, -1, 29, 57, 58, 59, 60, 61, 62, 63, 64, 65, 66, 67,\n",
       "       68, 69, 70, 71, 72])"
      ]
     },
     "execution_count": 57,
     "metadata": {},
     "output_type": "execute_result"
    }
   ],
   "source": [
    "ipl_summary[\"event_match_number\"].unique()"
   ]
  },
  {
   "cell_type": "code",
   "execution_count": 58,
   "metadata": {},
   "outputs": [
    {
     "data": {
      "text/html": [
       "<div>\n",
       "<style scoped>\n",
       "    .dataframe tbody tr th:only-of-type {\n",
       "        vertical-align: middle;\n",
       "    }\n",
       "\n",
       "    .dataframe tbody tr th {\n",
       "        vertical-align: top;\n",
       "    }\n",
       "\n",
       "    .dataframe thead th {\n",
       "        text-align: right;\n",
       "    }\n",
       "</style>\n",
       "<table border=\"1\" class=\"dataframe\">\n",
       "  <thead>\n",
       "    <tr style=\"text-align: right;\">\n",
       "      <th></th>\n",
       "      <th>event_match_number</th>\n",
       "      <th>outcome_by_runs</th>\n",
       "      <th>outcome_by_wickets</th>\n",
       "    </tr>\n",
       "  </thead>\n",
       "  <tbody>\n",
       "    <tr>\n",
       "      <th>count</th>\n",
       "      <td>1095.000000</td>\n",
       "      <td>498.000000</td>\n",
       "      <td>578.000000</td>\n",
       "    </tr>\n",
       "    <tr>\n",
       "      <th>mean</th>\n",
       "      <td>29.479452</td>\n",
       "      <td>30.104418</td>\n",
       "      <td>6.192042</td>\n",
       "    </tr>\n",
       "    <tr>\n",
       "      <th>std</th>\n",
       "      <td>19.388911</td>\n",
       "      <td>26.739844</td>\n",
       "      <td>1.845733</td>\n",
       "    </tr>\n",
       "    <tr>\n",
       "      <th>min</th>\n",
       "      <td>-1.000000</td>\n",
       "      <td>1.000000</td>\n",
       "      <td>1.000000</td>\n",
       "    </tr>\n",
       "    <tr>\n",
       "      <th>25%</th>\n",
       "      <td>13.000000</td>\n",
       "      <td>11.000000</td>\n",
       "      <td>5.000000</td>\n",
       "    </tr>\n",
       "    <tr>\n",
       "      <th>50%</th>\n",
       "      <td>29.000000</td>\n",
       "      <td>22.000000</td>\n",
       "      <td>6.000000</td>\n",
       "    </tr>\n",
       "    <tr>\n",
       "      <th>75%</th>\n",
       "      <td>45.000000</td>\n",
       "      <td>41.000000</td>\n",
       "      <td>7.000000</td>\n",
       "    </tr>\n",
       "    <tr>\n",
       "      <th>max</th>\n",
       "      <td>72.000000</td>\n",
       "      <td>146.000000</td>\n",
       "      <td>10.000000</td>\n",
       "    </tr>\n",
       "  </tbody>\n",
       "</table>\n",
       "</div>"
      ],
      "text/plain": [
       "       event_match_number  outcome_by_runs  outcome_by_wickets\n",
       "count         1095.000000       498.000000          578.000000\n",
       "mean            29.479452        30.104418            6.192042\n",
       "std             19.388911        26.739844            1.845733\n",
       "min             -1.000000         1.000000            1.000000\n",
       "25%             13.000000        11.000000            5.000000\n",
       "50%             29.000000        22.000000            6.000000\n",
       "75%             45.000000        41.000000            7.000000\n",
       "max             72.000000       146.000000           10.000000"
      ]
     },
     "execution_count": 58,
     "metadata": {},
     "output_type": "execute_result"
    }
   ],
   "source": [
    "ipl_summary.describe()"
   ]
  },
  {
   "cell_type": "code",
   "execution_count": 59,
   "metadata": {},
   "outputs": [
    {
     "name": "stdout",
     "output_type": "stream",
     "text": [
      "city => object\n",
      "dates_1 => object\n",
      "event_match_number => int64\n",
      "officials_match_referees_1 => object\n",
      "officials_reserve_umpires_1 => object\n",
      "officials_tv_umpires_1 => object\n",
      "officials_umpires_1 => object\n",
      "officials_umpires_2 => object\n",
      "outcome_by_runs => float64\n",
      "outcome_winner => object\n",
      "player_of_match_1 => object\n",
      "season => object\n",
      "toss_decision => object\n",
      "toss_winner => object\n",
      "venue => object\n",
      "outcome_by_wickets => float64\n",
      "outcome_eliminator => object\n",
      "outcome_result => object\n",
      "event_stage => object\n",
      "dates_2 => object\n",
      "outcome_method => object\n",
      "team_1 => object\n",
      "team_2 => object\n"
     ]
    }
   ],
   "source": [
    "for col in ipl_summary.columns:\n",
    "    print(col, ipl_summary[col].dtype, sep=\" => \")"
   ]
  },
  {
   "cell_type": "markdown",
   "metadata": {},
   "source": [
    "#### Handle Missing Values\n"
   ]
  },
  {
   "cell_type": "markdown",
   "metadata": {},
   "source": [
    "populate missing city values based on the stadium that is basically for Sharjah and Dubai the `city` values are missing hence populating with a simple loc method"
   ]
  },
  {
   "cell_type": "code",
   "execution_count": 60,
   "metadata": {},
   "outputs": [],
   "source": [
    "\n",
    "ipl_summary.loc[ipl_summary[\"venue\"] == \"Sharjah Cricket Stadium\", \"city\"] = \"Sharjah\"\n",
    "ipl_summary.loc[ipl_summary[\"venue\"] == \"Dubai International Cricket Stadium\", \"city\"] = \"Dubai\""
   ]
  },
  {
   "cell_type": "markdown",
   "metadata": {},
   "source": [
    "Drop `dates_2` and `outcome_eliminator` columns as it has 98% missing values"
   ]
  },
  {
   "cell_type": "code",
   "execution_count": 61,
   "metadata": {},
   "outputs": [],
   "source": [
    "\n",
    "ipl_summary = ipl_summary.drop(columns=[\"dates_2\", \"outcome_eliminator\"])"
   ]
  },
  {
   "cell_type": "markdown",
   "metadata": {},
   "source": [
    "Defaulting the `event_stage` to `group_stage` as it is left blank as `event_stage` currently has values only for Semi final ,Quarter-Final ,Eliminator and the Final"
   ]
  },
  {
   "cell_type": "code",
   "execution_count": 62,
   "metadata": {},
   "outputs": [],
   "source": [
    "ipl_summary.loc[ipl_summary[\"event_stage\"].isnull(), \"event_stage\"] = \"group_stage\""
   ]
  },
  {
   "cell_type": "code",
   "execution_count": 63,
   "metadata": {},
   "outputs": [
    {
     "data": {
      "text/plain": [
       "0       NaN\n",
       "1       NaN\n",
       "2       NaN\n",
       "3       NaN\n",
       "4       NaN\n",
       "       ... \n",
       "1090    NaN\n",
       "1091    NaN\n",
       "1092    NaN\n",
       "1093    NaN\n",
       "1094    NaN\n",
       "Name: outcome_result, Length: 1095, dtype: object"
      ]
     },
     "execution_count": 63,
     "metadata": {},
     "output_type": "execute_result"
    }
   ],
   "source": [
    "ipl_summary['outcome_result']"
   ]
  },
  {
   "cell_type": "code",
   "execution_count": 64,
   "metadata": {},
   "outputs": [],
   "source": [
    "ipl_summary.loc[ipl_summary[\"outcome_winner\"].isnull(), \"outcome_winner\"] = ipl_summary[\"outcome_result\"]"
   ]
  },
  {
   "cell_type": "code",
   "execution_count": 65,
   "metadata": {},
   "outputs": [],
   "source": [
    "ipl_summary.loc[ipl_summary[\"outcome_method\"].isnull(), \"outcome_method\"] = \"regular\""
   ]
  },
  {
   "cell_type": "markdown",
   "metadata": {},
   "source": [
    "drop `outcome_result` as it is merged in the `outcome_winner` column"
   ]
  },
  {
   "cell_type": "code",
   "execution_count": 66,
   "metadata": {},
   "outputs": [],
   "source": [
    "\n",
    "ipl_summary.drop(columns=[\"outcome_result\"], inplace=True)"
   ]
  },
  {
   "cell_type": "markdown",
   "metadata": {},
   "source": [
    "Fix `season` values as there are some `season` values having ambiguous year values  like that of 2007/2008 to 2008 simlarly for 2009/10 and 2020/21 , Confirmed that the match was of the later season as there wasnt any ipl in 2007"
   ]
  },
  {
   "cell_type": "code",
   "execution_count": 67,
   "metadata": {},
   "outputs": [],
   "source": [
    "\n",
    "ipl_summary.loc[ipl_summary[\"season\"] == \"2007/08\", \"season\"] = \"2008\"\n",
    "ipl_summary.loc[ipl_summary[\"season\"] == \"2009/10\", \"season\"] = \"2010\"\n",
    "ipl_summary.loc[ipl_summary[\"season\"] == \"2020/21\", \"season\"] = \"2020\""
   ]
  },
  {
   "cell_type": "code",
   "execution_count": 68,
   "metadata": {},
   "outputs": [
    {
     "data": {
      "text/plain": [
       "season\n",
       "2008    58\n",
       "2009    57\n",
       "2010    60\n",
       "2011    73\n",
       "2012    74\n",
       "2013    76\n",
       "2014    60\n",
       "2015    59\n",
       "2016    60\n",
       "2017    59\n",
       "2018    60\n",
       "2019    60\n",
       "2020    60\n",
       "2021    60\n",
       "2022    74\n",
       "2023    74\n",
       "2024    71\n",
       "Name: count, dtype: int64"
      ]
     },
     "execution_count": 68,
     "metadata": {},
     "output_type": "execute_result"
    }
   ],
   "source": [
    "ipl_summary[\"season\"].value_counts().sort_index()"
   ]
  },
  {
   "cell_type": "code",
   "execution_count": 69,
   "metadata": {},
   "outputs": [],
   "source": [
    "ipl_summary[\"season\"] = ipl_summary[\"season\"].astype(int)"
   ]
  },
  {
   "cell_type": "markdown",
   "metadata": {},
   "source": [
    "Handle `event_match_number` as there are values with -1 these are matches that are the playoffs matches hence we will be filling the match numver with `group_stage` for now , later we will fix it into a number"
   ]
  },
  {
   "cell_type": "code",
   "execution_count": 70,
   "metadata": {},
   "outputs": [
    {
     "name": "stdout",
     "output_type": "stream",
     "text": [
      "66\n"
     ]
    },
    {
     "data": {
      "text/html": [
       "<div>\n",
       "<style scoped>\n",
       "    .dataframe tbody tr th:only-of-type {\n",
       "        vertical-align: middle;\n",
       "    }\n",
       "\n",
       "    .dataframe tbody tr th {\n",
       "        vertical-align: top;\n",
       "    }\n",
       "\n",
       "    .dataframe thead th {\n",
       "        text-align: right;\n",
       "    }\n",
       "</style>\n",
       "<table border=\"1\" class=\"dataframe\">\n",
       "  <thead>\n",
       "    <tr style=\"text-align: right;\">\n",
       "      <th></th>\n",
       "      <th>season</th>\n",
       "      <th>dates_1</th>\n",
       "    </tr>\n",
       "  </thead>\n",
       "  <tbody>\n",
       "    <tr>\n",
       "      <th>573</th>\n",
       "      <td>2008</td>\n",
       "      <td>2008-05-30</td>\n",
       "    </tr>\n",
       "    <tr>\n",
       "      <th>574</th>\n",
       "      <td>2008</td>\n",
       "      <td>2008-05-31</td>\n",
       "    </tr>\n",
       "    <tr>\n",
       "      <th>575</th>\n",
       "      <td>2008</td>\n",
       "      <td>2008-06-01</td>\n",
       "    </tr>\n",
       "    <tr>\n",
       "      <th>630</th>\n",
       "      <td>2009</td>\n",
       "      <td>2009-05-22</td>\n",
       "    </tr>\n",
       "    <tr>\n",
       "      <th>631</th>\n",
       "      <td>2009</td>\n",
       "      <td>2009-05-23</td>\n",
       "    </tr>\n",
       "    <tr>\n",
       "      <th>...</th>\n",
       "      <td>...</td>\n",
       "      <td>...</td>\n",
       "    </tr>\n",
       "    <tr>\n",
       "      <th>446</th>\n",
       "      <td>2023</td>\n",
       "      <td>2023-05-29</td>\n",
       "    </tr>\n",
       "    <tr>\n",
       "      <th>514</th>\n",
       "      <td>2024</td>\n",
       "      <td>2024-05-21</td>\n",
       "    </tr>\n",
       "    <tr>\n",
       "      <th>515</th>\n",
       "      <td>2024</td>\n",
       "      <td>2024-05-22</td>\n",
       "    </tr>\n",
       "    <tr>\n",
       "      <th>516</th>\n",
       "      <td>2024</td>\n",
       "      <td>2024-05-24</td>\n",
       "    </tr>\n",
       "    <tr>\n",
       "      <th>517</th>\n",
       "      <td>2024</td>\n",
       "      <td>2024-05-26</td>\n",
       "    </tr>\n",
       "  </tbody>\n",
       "</table>\n",
       "<p>66 rows × 2 columns</p>\n",
       "</div>"
      ],
      "text/plain": [
       "     season     dates_1\n",
       "573    2008  2008-05-30\n",
       "574    2008  2008-05-31\n",
       "575    2008  2008-06-01\n",
       "630    2009  2009-05-22\n",
       "631    2009  2009-05-23\n",
       "..      ...         ...\n",
       "446    2023  2023-05-29\n",
       "514    2024  2024-05-21\n",
       "515    2024  2024-05-22\n",
       "516    2024  2024-05-24\n",
       "517    2024  2024-05-26\n",
       "\n",
       "[66 rows x 2 columns]"
      ]
     },
     "execution_count": 70,
     "metadata": {},
     "output_type": "execute_result"
    }
   ],
   "source": [
    "\n",
    "print(len(ipl_summary.loc[ipl_summary[\"event_match_number\"] == -1, \"event_match_number\"]))\n",
    "ipl_summary.loc[ipl_summary[\"event_match_number\"] == -1, [\"season\", \"dates_1\"]].sort_values(by=\"dates_1\")"
   ]
  },
  {
   "cell_type": "markdown",
   "metadata": {},
   "source": [
    "note that this would convert the null values to string \"nan\" so we dont get errors when doing integer ops"
   ]
  },
  {
   "cell_type": "code",
   "execution_count": 71,
   "metadata": {},
   "outputs": [],
   "source": [
    "\n",
    "ipl_summary[\"event_match_number\"] = ipl_summary[\"event_match_number\"].astype(str)"
   ]
  },
  {
   "cell_type": "code",
   "execution_count": 72,
   "metadata": {},
   "outputs": [],
   "source": [
    "ipl_summary.sort_values(by='dates_1',inplace=True)"
   ]
  },
  {
   "cell_type": "code",
   "execution_count": 73,
   "metadata": {},
   "outputs": [],
   "source": [
    "ipl_summary.loc[ipl_summary[\"event_match_number\"] == \"-1\", [\"event_match_number\"]] = ipl_summary[\"event_stage\"]"
   ]
  },
  {
   "cell_type": "markdown",
   "metadata": {},
   "source": [
    "Staring the process of making `match_number` numeric  so now setting the new  `match_number` column entirely to 0 "
   ]
  },
  {
   "cell_type": "code",
   "execution_count": 74,
   "metadata": {},
   "outputs": [],
   "source": [
    "ipl_summary['match_number'] = 0"
   ]
  },
  {
   "cell_type": "code",
   "execution_count": 75,
   "metadata": {},
   "outputs": [],
   "source": [
    "prev_match_number = -1\n",
    "for match_number,season in zip(ipl_summary['event_match_number'],ipl_summary['season']):\n",
    "\n",
    "    if match_number.isnumeric():\n",
    "        ipl_summary.loc[(ipl_summary[\"event_match_number\"] == match_number) &(ipl_summary['season'] == season) , [\"match_number\"]] = int(\n",
    "            match_number\n",
    "        )\n",
    "    else:\n",
    "        int_match_number= prev_match_number+1\n",
    "        ipl_summary.loc[\n",
    "            (ipl_summary[\"event_match_number\"] == match_number) & (ipl_summary[\"season\"] == season),\n",
    "            [\"match_number\"],\n",
    "        ] = int_match_number\n",
    "        match_number = int_match_number\n",
    "    prev_match_number = int(match_number)"
   ]
  },
  {
   "cell_type": "code",
   "execution_count": 76,
   "metadata": {},
   "outputs": [
    {
     "data": {
      "text/plain": [
       "match_number\n",
       "58    20\n",
       "56    18\n",
       "1     17\n",
       "2     17\n",
       "4     17\n",
       "      ..\n",
       "63     5\n",
       "66     5\n",
       "74     4\n",
       "75     2\n",
       "76     1\n",
       "Name: count, Length: 76, dtype: int64"
      ]
     },
     "execution_count": 76,
     "metadata": {},
     "output_type": "execute_result"
    }
   ],
   "source": [
    "ipl_summary['match_number'].value_counts()"
   ]
  },
  {
   "cell_type": "markdown",
   "metadata": {},
   "source": [
    "As we have seen the match numbers are looking correct verify with `ball_by_ball` dataset to check"
   ]
  },
  {
   "cell_type": "code",
   "execution_count": 77,
   "metadata": {},
   "outputs": [
    {
     "data": {
      "text/plain": [
       "array([ 1,  2,  3,  5,  4,  6,  7,  8,  9, 10, 12, 11, 14, 13, 15, 16, 17,\n",
       "       19, 18, 20, 22, 21, 23, 24, 25, 26, 27, 29, 28, 30, 31, 32, 33, 34,\n",
       "       35, 36, 37, 38, 39, 40, 42, 41, 43, 44, 45, 46, 48, 50, 49, 51, 52,\n",
       "       53, 54, 55, 56, 58, 59, 47, 60, 57, 61, 62, 63, 64, 65, 66, 67, 68,\n",
       "       70, 69, 71, 72, 73, 74, 75, 76])"
      ]
     },
     "execution_count": 77,
     "metadata": {},
     "output_type": "execute_result"
    }
   ],
   "source": [
    "ipl_summary[\"match_number\"].unique()"
   ]
  },
  {
   "cell_type": "markdown",
   "metadata": {},
   "source": [
    "Now we come across this small issue where the `venues` have different ways for representing the same place \n",
    " -  Brabourne Stadium ==  Brabourne Stadium, Mumbai"
   ]
  },
  {
   "cell_type": "code",
   "execution_count": 78,
   "metadata": {},
   "outputs": [
    {
     "data": {
      "text/plain": [
       "0                                 M Chinnaswamy Stadium\n",
       "1            Punjab Cricket Association Stadium, Mohali\n",
       "2                                      Feroz Shah Kotla\n",
       "3                                      Wankhede Stadium\n",
       "4                                          Eden Gardens\n",
       "5                                Sawai Mansingh Stadium\n",
       "6             Rajiv Gandhi International Stadium, Uppal\n",
       "7                       MA Chidambaram Stadium, Chepauk\n",
       "8                            Dr DY Patil Sports Academy\n",
       "9                                              Newlands\n",
       "10                                     St George's Park\n",
       "11                                            Kingsmead\n",
       "12                                      SuperSport Park\n",
       "13                                         Buffalo Park\n",
       "14                                New Wanderers Stadium\n",
       "15                                De Beers Diamond Oval\n",
       "16                                      OUTsurance Oval\n",
       "17                                    Brabourne Stadium\n",
       "18                         Sardar Patel Stadium, Motera\n",
       "19                                     Barabati Stadium\n",
       "20                            Brabourne Stadium, Mumbai\n",
       "21         Vidarbha Cricket Association Stadium, Jamtha\n",
       "22         Himachal Pradesh Cricket Association Stadium\n",
       "23                                        Nehru Stadium\n",
       "24                               Holkar Cricket Stadium\n",
       "25    Dr. Y.S. Rajasekhara Reddy ACA-VDCA Cricket St...\n",
       "26                           Subrata Roy Sahara Stadium\n",
       "27              Maharashtra Cricket Association Stadium\n",
       "28     Shaheed Veer Narayan Singh International Stadium\n",
       "29                   JSCA International Stadium Complex\n",
       "30                                 Sheikh Zayed Stadium\n",
       "31                              Sharjah Cricket Stadium\n",
       "32                  Dubai International Cricket Stadium\n",
       "33    Punjab Cricket Association IS Bindra Stadium, ...\n",
       "34               Saurashtra Cricket Association Stadium\n",
       "35                                           Green Park\n",
       "36                                M.Chinnaswamy Stadium\n",
       "37         Punjab Cricket Association IS Bindra Stadium\n",
       "38                   Rajiv Gandhi International Stadium\n",
       "39                               MA Chidambaram Stadium\n",
       "40                                 Arun Jaitley Stadium\n",
       "41             MA Chidambaram Stadium, Chepauk, Chennai\n",
       "42                             Wankhede Stadium, Mumbai\n",
       "43                     Narendra Modi Stadium, Ahmedabad\n",
       "44                          Arun Jaitley Stadium, Delhi\n",
       "45                     Zayed Cricket Stadium, Abu Dhabi\n",
       "46                   Dr DY Patil Sports Academy, Mumbai\n",
       "47        Maharashtra Cricket Association Stadium, Pune\n",
       "48                                Eden Gardens, Kolkata\n",
       "49    Punjab Cricket Association IS Bindra Stadium, ...\n",
       "50    Bharat Ratna Shri Atal Bihari Vajpayee Ekana C...\n",
       "51    Rajiv Gandhi International Stadium, Uppal, Hyd...\n",
       "52                     M Chinnaswamy Stadium, Bengaluru\n",
       "53                  Barsapara Cricket Stadium, Guwahati\n",
       "54                       Sawai Mansingh Stadium, Jaipur\n",
       "55    Himachal Pradesh Cricket Association Stadium, ...\n",
       "56    Maharaja Yadavindra Singh International Cricke...\n",
       "57    Dr. Y.S. Rajasekhara Reddy ACA-VDCA Cricket St...\n",
       "dtype: object"
      ]
     },
     "execution_count": 78,
     "metadata": {},
     "output_type": "execute_result"
    }
   ],
   "source": [
    "pd.Series(ipl_summary[\"venue\"].unique())"
   ]
  },
  {
   "cell_type": "markdown",
   "metadata": {},
   "source": [
    "So we can see that the actual name of the stadium is present in all different formats we just want to drop the extra information that some of them have after the comma \n",
    " - So simply split the `venues` by `,` and take the first part alone"
   ]
  },
  {
   "cell_type": "code",
   "execution_count": 79,
   "metadata": {},
   "outputs": [],
   "source": [
    "ipl_summary[\"venue\"] = ipl_summary[\"venue\"].str.partition(\",\")[0]"
   ]
  },
  {
   "cell_type": "markdown",
   "metadata": {},
   "source": [
    "Now another problem in the venues is the inconsistent use of `.` and spaces \n",
    " - Exampple M.A.Chidambaram Stadium == M A Chidambaram stadium == MA Chidambaram Stadium\n",
    "\n",
    "So the best way to go ahead with such inconsistencies is to remove them altogether"
   ]
  },
  {
   "cell_type": "code",
   "execution_count": 80,
   "metadata": {},
   "outputs": [],
   "source": [
    "ipl_summary[\"venue\"] = ipl_summary[\"venue\"].str.replace(\".\", \"\")"
   ]
  },
  {
   "cell_type": "code",
   "execution_count": 81,
   "metadata": {},
   "outputs": [],
   "source": [
    "ipl_summary[\"venue\"] = ipl_summary[\"venue\"].str.replace(\" \", \"\")"
   ]
  },
  {
   "cell_type": "code",
   "execution_count": 82,
   "metadata": {},
   "outputs": [
    {
     "data": {
      "text/plain": [
       "0                                   MChinnaswamyStadium\n",
       "1                       PunjabCricketAssociationStadium\n",
       "2                                        FerozShahKotla\n",
       "3                                       WankhedeStadium\n",
       "4                                           EdenGardens\n",
       "5                                  SawaiMansinghStadium\n",
       "6                       RajivGandhiInternationalStadium\n",
       "7                                  MAChidambaramStadium\n",
       "8                                DrDYPatilSportsAcademy\n",
       "9                                              Newlands\n",
       "10                                       StGeorge'sPark\n",
       "11                                            Kingsmead\n",
       "12                                       SuperSportPark\n",
       "13                                          BuffaloPark\n",
       "14                                  NewWanderersStadium\n",
       "15                                   DeBeersDiamondOval\n",
       "16                                       OUTsuranceOval\n",
       "17                                     BrabourneStadium\n",
       "18                                   SardarPatelStadium\n",
       "19                                      BarabatiStadium\n",
       "20                    VidarbhaCricketAssociationStadium\n",
       "21             HimachalPradeshCricketAssociationStadium\n",
       "22                                         NehruStadium\n",
       "23                                 HolkarCricketStadium\n",
       "24           DrYSRajasekharaReddyACA-VDCACricketStadium\n",
       "25                              SubrataRoySaharaStadium\n",
       "26                 MaharashtraCricketAssociationStadium\n",
       "27          ShaheedVeerNarayanSinghInternationalStadium\n",
       "28                      JSCAInternationalStadiumComplex\n",
       "29                                   SheikhZayedStadium\n",
       "30                                SharjahCricketStadium\n",
       "31                     DubaiInternationalCricketStadium\n",
       "32              PunjabCricketAssociationISBindraStadium\n",
       "33                  SaurashtraCricketAssociationStadium\n",
       "34                                            GreenPark\n",
       "35                                   ArunJaitleyStadium\n",
       "36                                  NarendraModiStadium\n",
       "37                                  ZayedCricketStadium\n",
       "38    BharatRatnaShriAtalBihariVajpayeeEkanaCricketS...\n",
       "39                              BarsaparaCricketStadium\n",
       "40    MaharajaYadavindraSinghInternationalCricketSta...\n",
       "dtype: object"
      ]
     },
     "execution_count": 82,
     "metadata": {},
     "output_type": "execute_result"
    }
   ],
   "source": [
    "pd.Series(ipl_summary[\"venue\"].unique())"
   ]
  },
  {
   "cell_type": "code",
   "execution_count": 83,
   "metadata": {},
   "outputs": [
    {
     "data": {
      "text/plain": [
       "Index(['city', 'dates_1', 'event_match_number', 'officials_match_referees_1',\n",
       "       'officials_reserve_umpires_1', 'officials_tv_umpires_1',\n",
       "       'officials_umpires_1', 'officials_umpires_2', 'outcome_by_runs',\n",
       "       'outcome_winner', 'player_of_match_1', 'season', 'toss_decision',\n",
       "       'toss_winner', 'venue', 'outcome_by_wickets', 'event_stage',\n",
       "       'outcome_method', 'team_1', 'team_2', 'match_number'],\n",
       "      dtype='object')"
      ]
     },
     "execution_count": 83,
     "metadata": {},
     "output_type": "execute_result"
    }
   ],
   "source": [
    "ipl_summary.columns"
   ]
  },
  {
   "cell_type": "markdown",
   "metadata": {},
   "source": [
    "Lets now rename the columns with standard names"
   ]
  },
  {
   "cell_type": "code",
   "execution_count": 84,
   "metadata": {},
   "outputs": [],
   "source": [
    "ipl_summary = ipl_summary.rename(\n",
    "    columns={\n",
    "        \"dates_1\": \"date\",\n",
    "        \"officials_match_referees_1\": \"officials_match_referees\",\n",
    "        \"officials_reserve_umpires_1\": \"officials_reserve_umpires\",\n",
    "        \"officials_tv_umpires_1\": \"officials_tv_umpires\",\n",
    "        \"teams_1\": \"team_1\",\n",
    "        \"teams_2\": \"team_2\",\n",
    "        \"player_of_match_1\": \"player_of_match\",\n",
    "    }\n",
    ")"
   ]
  },
  {
   "cell_type": "code",
   "execution_count": 85,
   "metadata": {},
   "outputs": [
    {
     "data": {
      "text/plain": [
       "Index(['city', 'date', 'event_match_number', 'officials_match_referees',\n",
       "       'officials_reserve_umpires', 'officials_tv_umpires',\n",
       "       'officials_umpires_1', 'officials_umpires_2', 'outcome_by_runs',\n",
       "       'outcome_winner', 'player_of_match', 'season', 'toss_decision',\n",
       "       'toss_winner', 'venue', 'outcome_by_wickets', 'event_stage',\n",
       "       'outcome_method', 'team_1', 'team_2', 'match_number'],\n",
       "      dtype='object')"
      ]
     },
     "execution_count": 85,
     "metadata": {},
     "output_type": "execute_result"
    }
   ],
   "source": [
    "ipl_summary.columns"
   ]
  },
  {
   "cell_type": "code",
   "execution_count": 86,
   "metadata": {},
   "outputs": [],
   "source": [
    "ipl_summary.rename(columns={\"event_match_number\": \"season_match_no\"}, inplace=True)"
   ]
  },
  {
   "cell_type": "markdown",
   "metadata": {},
   "source": [
    "We again are not inteerested in the refree and umpire data hence dropping it"
   ]
  },
  {
   "cell_type": "code",
   "execution_count": 87,
   "metadata": {},
   "outputs": [],
   "source": [
    "cols = [\n",
    "    \"date\",\n",
    "    \"match_number\",\n",
    "    \"city\",\n",
    "    \"team_1\",\n",
    "    \"team_2\",\n",
    "    \"season_match_no\",\n",
    "    \"outcome_winner\",\n",
    "    \"player_of_match\",\n",
    "    \"toss_winner\",\n",
    "    \"toss_decision\",\n",
    "    \"officials_match_referees\",\n",
    "    \"officials_reserve_umpires\",\n",
    "    \"officials_tv_umpires\",\n",
    "    \"officials_umpires_1\",\n",
    "    \"officials_umpires_2\",\n",
    "    \"outcome_by_wickets\",\n",
    "    \"season\",\n",
    "    \"venue\",\n",
    "    \"outcome_by_runs\",\n",
    "    \"event_stage\",\n",
    "    \"outcome_method\",\n",
    "]\n",
    "ipl_summary = ipl_summary.reindex(columns=cols)"
   ]
  },
  {
   "cell_type": "markdown",
   "metadata": {},
   "source": [
    "Lets now standardise the order of rows based on time of occurence of events \n",
    " - Matches played earlier come fist"
   ]
  },
  {
   "cell_type": "code",
   "execution_count": 88,
   "metadata": {},
   "outputs": [],
   "source": [
    "ipl_summary = ipl_summary.sort_values(by=[\"date\", \"match_number\"])"
   ]
  },
  {
   "cell_type": "markdown",
   "metadata": {},
   "source": [
    "We are making a `season` column derived from `date` for using in grouping data"
   ]
  },
  {
   "cell_type": "code",
   "execution_count": 89,
   "metadata": {},
   "outputs": [],
   "source": [
    "ipl_summary[\"season\"] = ipl_summary[\"date\"].str.slice(0, 4)"
   ]
  },
  {
   "cell_type": "code",
   "execution_count": 90,
   "metadata": {},
   "outputs": [
    {
     "data": {
      "text/plain": [
       "season\n",
       "2013    76\n",
       "2022    74\n",
       "2012    74\n",
       "2023    74\n",
       "2011    73\n",
       "2024    71\n",
       "2019    60\n",
       "2016    60\n",
       "2010    60\n",
       "2021    60\n",
       "2020    60\n",
       "2014    60\n",
       "2018    60\n",
       "2017    59\n",
       "2015    59\n",
       "2008    58\n",
       "2009    57\n",
       "Name: count, dtype: int64"
      ]
     },
     "execution_count": 90,
     "metadata": {},
     "output_type": "execute_result"
    }
   ],
   "source": [
    "ipl_summary.season.value_counts()"
   ]
  },
  {
   "cell_type": "markdown",
   "metadata": {},
   "source": [
    "Now we have a clean `ipl_summary` data ready to be used for further analysis"
   ]
  },
  {
   "cell_type": "code",
   "execution_count": 91,
   "metadata": {},
   "outputs": [],
   "source": [
    "# ipl_summary.to_csv(\"output/ipl_summary.csv\", index=False)"
   ]
  },
  {
   "cell_type": "markdown",
   "metadata": {},
   "source": [
    "Now what we want to do is to try and merge `ball_by_ball` with `ipl_summary` to make a mega dataset that later can be used to find statistics of each ball played wrt matches"
   ]
  },
  {
   "cell_type": "code",
   "execution_count": 92,
   "metadata": {},
   "outputs": [
    {
     "data": {
      "text/html": [
       "<div>\n",
       "<style scoped>\n",
       "    .dataframe tbody tr th:only-of-type {\n",
       "        vertical-align: middle;\n",
       "    }\n",
       "\n",
       "    .dataframe tbody tr th {\n",
       "        vertical-align: top;\n",
       "    }\n",
       "\n",
       "    .dataframe thead th {\n",
       "        text-align: right;\n",
       "    }\n",
       "</style>\n",
       "<table border=\"1\" class=\"dataframe\">\n",
       "  <thead>\n",
       "    <tr style=\"text-align: right;\">\n",
       "      <th></th>\n",
       "      <th>date</th>\n",
       "      <th>match_number</th>\n",
       "      <th>innings</th>\n",
       "      <th>over</th>\n",
       "      <th>batter</th>\n",
       "      <th>bowler</th>\n",
       "      <th>stage</th>\n",
       "      <th>non_striker</th>\n",
       "      <th>runs.batter</th>\n",
       "      <th>runs.extras</th>\n",
       "      <th>runs.total</th>\n",
       "      <th>extras.legbyes</th>\n",
       "      <th>extras.wides</th>\n",
       "      <th>extras.byes</th>\n",
       "      <th>extras.noballs</th>\n",
       "      <th>wicket.kind</th>\n",
       "      <th>wicket.player_out</th>\n",
       "      <th>wicket.fielders</th>\n",
       "      <th>season</th>\n",
       "    </tr>\n",
       "  </thead>\n",
       "  <tbody>\n",
       "    <tr>\n",
       "      <th>0</th>\n",
       "      <td>2008-04-18</td>\n",
       "      <td>1</td>\n",
       "      <td>1</td>\n",
       "      <td>0</td>\n",
       "      <td>SC Ganguly</td>\n",
       "      <td>P Kumar</td>\n",
       "      <td>group</td>\n",
       "      <td>BB McCullum</td>\n",
       "      <td>0</td>\n",
       "      <td>1</td>\n",
       "      <td>1</td>\n",
       "      <td>1.0</td>\n",
       "      <td>NaN</td>\n",
       "      <td>NaN</td>\n",
       "      <td>NaN</td>\n",
       "      <td>NaN</td>\n",
       "      <td>NaN</td>\n",
       "      <td>NaN</td>\n",
       "      <td>2008</td>\n",
       "    </tr>\n",
       "    <tr>\n",
       "      <th>1</th>\n",
       "      <td>2008-04-18</td>\n",
       "      <td>1</td>\n",
       "      <td>1</td>\n",
       "      <td>0</td>\n",
       "      <td>BB McCullum</td>\n",
       "      <td>P Kumar</td>\n",
       "      <td>group</td>\n",
       "      <td>SC Ganguly</td>\n",
       "      <td>0</td>\n",
       "      <td>0</td>\n",
       "      <td>0</td>\n",
       "      <td>NaN</td>\n",
       "      <td>NaN</td>\n",
       "      <td>NaN</td>\n",
       "      <td>NaN</td>\n",
       "      <td>NaN</td>\n",
       "      <td>NaN</td>\n",
       "      <td>NaN</td>\n",
       "      <td>2008</td>\n",
       "    </tr>\n",
       "    <tr>\n",
       "      <th>2</th>\n",
       "      <td>2008-04-18</td>\n",
       "      <td>1</td>\n",
       "      <td>1</td>\n",
       "      <td>0</td>\n",
       "      <td>BB McCullum</td>\n",
       "      <td>P Kumar</td>\n",
       "      <td>group</td>\n",
       "      <td>SC Ganguly</td>\n",
       "      <td>0</td>\n",
       "      <td>1</td>\n",
       "      <td>1</td>\n",
       "      <td>NaN</td>\n",
       "      <td>1.0</td>\n",
       "      <td>NaN</td>\n",
       "      <td>NaN</td>\n",
       "      <td>NaN</td>\n",
       "      <td>NaN</td>\n",
       "      <td>NaN</td>\n",
       "      <td>2008</td>\n",
       "    </tr>\n",
       "    <tr>\n",
       "      <th>3</th>\n",
       "      <td>2008-04-18</td>\n",
       "      <td>1</td>\n",
       "      <td>1</td>\n",
       "      <td>0</td>\n",
       "      <td>BB McCullum</td>\n",
       "      <td>P Kumar</td>\n",
       "      <td>group</td>\n",
       "      <td>SC Ganguly</td>\n",
       "      <td>0</td>\n",
       "      <td>0</td>\n",
       "      <td>0</td>\n",
       "      <td>NaN</td>\n",
       "      <td>NaN</td>\n",
       "      <td>NaN</td>\n",
       "      <td>NaN</td>\n",
       "      <td>NaN</td>\n",
       "      <td>NaN</td>\n",
       "      <td>NaN</td>\n",
       "      <td>2008</td>\n",
       "    </tr>\n",
       "    <tr>\n",
       "      <th>4</th>\n",
       "      <td>2008-04-18</td>\n",
       "      <td>1</td>\n",
       "      <td>1</td>\n",
       "      <td>0</td>\n",
       "      <td>BB McCullum</td>\n",
       "      <td>P Kumar</td>\n",
       "      <td>group</td>\n",
       "      <td>SC Ganguly</td>\n",
       "      <td>0</td>\n",
       "      <td>0</td>\n",
       "      <td>0</td>\n",
       "      <td>NaN</td>\n",
       "      <td>NaN</td>\n",
       "      <td>NaN</td>\n",
       "      <td>NaN</td>\n",
       "      <td>NaN</td>\n",
       "      <td>NaN</td>\n",
       "      <td>NaN</td>\n",
       "      <td>2008</td>\n",
       "    </tr>\n",
       "    <tr>\n",
       "      <th>...</th>\n",
       "      <td>...</td>\n",
       "      <td>...</td>\n",
       "      <td>...</td>\n",
       "      <td>...</td>\n",
       "      <td>...</td>\n",
       "      <td>...</td>\n",
       "      <td>...</td>\n",
       "      <td>...</td>\n",
       "      <td>...</td>\n",
       "      <td>...</td>\n",
       "      <td>...</td>\n",
       "      <td>...</td>\n",
       "      <td>...</td>\n",
       "      <td>...</td>\n",
       "      <td>...</td>\n",
       "      <td>...</td>\n",
       "      <td>...</td>\n",
       "      <td>...</td>\n",
       "      <td>...</td>\n",
       "    </tr>\n",
       "    <tr>\n",
       "      <th>260754</th>\n",
       "      <td>2024-05-26</td>\n",
       "      <td>73</td>\n",
       "      <td>2</td>\n",
       "      <td>9</td>\n",
       "      <td>SS Iyer</td>\n",
       "      <td>AK Markram</td>\n",
       "      <td>Final</td>\n",
       "      <td>VR Iyer</td>\n",
       "      <td>1</td>\n",
       "      <td>0</td>\n",
       "      <td>1</td>\n",
       "      <td>NaN</td>\n",
       "      <td>NaN</td>\n",
       "      <td>NaN</td>\n",
       "      <td>NaN</td>\n",
       "      <td>NaN</td>\n",
       "      <td>NaN</td>\n",
       "      <td>NaN</td>\n",
       "      <td>2024</td>\n",
       "    </tr>\n",
       "    <tr>\n",
       "      <th>260755</th>\n",
       "      <td>2024-05-26</td>\n",
       "      <td>73</td>\n",
       "      <td>2</td>\n",
       "      <td>9</td>\n",
       "      <td>VR Iyer</td>\n",
       "      <td>AK Markram</td>\n",
       "      <td>Final</td>\n",
       "      <td>SS Iyer</td>\n",
       "      <td>1</td>\n",
       "      <td>0</td>\n",
       "      <td>1</td>\n",
       "      <td>NaN</td>\n",
       "      <td>NaN</td>\n",
       "      <td>NaN</td>\n",
       "      <td>NaN</td>\n",
       "      <td>NaN</td>\n",
       "      <td>NaN</td>\n",
       "      <td>NaN</td>\n",
       "      <td>2024</td>\n",
       "    </tr>\n",
       "    <tr>\n",
       "      <th>260756</th>\n",
       "      <td>2024-05-26</td>\n",
       "      <td>73</td>\n",
       "      <td>2</td>\n",
       "      <td>10</td>\n",
       "      <td>VR Iyer</td>\n",
       "      <td>Shahbaz Ahmed</td>\n",
       "      <td>Final</td>\n",
       "      <td>SS Iyer</td>\n",
       "      <td>1</td>\n",
       "      <td>0</td>\n",
       "      <td>1</td>\n",
       "      <td>NaN</td>\n",
       "      <td>NaN</td>\n",
       "      <td>NaN</td>\n",
       "      <td>NaN</td>\n",
       "      <td>NaN</td>\n",
       "      <td>NaN</td>\n",
       "      <td>NaN</td>\n",
       "      <td>2024</td>\n",
       "    </tr>\n",
       "    <tr>\n",
       "      <th>260757</th>\n",
       "      <td>2024-05-26</td>\n",
       "      <td>73</td>\n",
       "      <td>2</td>\n",
       "      <td>10</td>\n",
       "      <td>SS Iyer</td>\n",
       "      <td>Shahbaz Ahmed</td>\n",
       "      <td>Final</td>\n",
       "      <td>VR Iyer</td>\n",
       "      <td>1</td>\n",
       "      <td>0</td>\n",
       "      <td>1</td>\n",
       "      <td>NaN</td>\n",
       "      <td>NaN</td>\n",
       "      <td>NaN</td>\n",
       "      <td>NaN</td>\n",
       "      <td>NaN</td>\n",
       "      <td>NaN</td>\n",
       "      <td>NaN</td>\n",
       "      <td>2024</td>\n",
       "    </tr>\n",
       "    <tr>\n",
       "      <th>260758</th>\n",
       "      <td>2024-05-26</td>\n",
       "      <td>73</td>\n",
       "      <td>2</td>\n",
       "      <td>10</td>\n",
       "      <td>VR Iyer</td>\n",
       "      <td>Shahbaz Ahmed</td>\n",
       "      <td>Final</td>\n",
       "      <td>SS Iyer</td>\n",
       "      <td>1</td>\n",
       "      <td>0</td>\n",
       "      <td>1</td>\n",
       "      <td>NaN</td>\n",
       "      <td>NaN</td>\n",
       "      <td>NaN</td>\n",
       "      <td>NaN</td>\n",
       "      <td>NaN</td>\n",
       "      <td>NaN</td>\n",
       "      <td>NaN</td>\n",
       "      <td>2024</td>\n",
       "    </tr>\n",
       "  </tbody>\n",
       "</table>\n",
       "<p>260759 rows × 19 columns</p>\n",
       "</div>"
      ],
      "text/plain": [
       "              date  match_number  innings  over       batter         bowler  \\\n",
       "0       2008-04-18             1        1     0   SC Ganguly        P Kumar   \n",
       "1       2008-04-18             1        1     0  BB McCullum        P Kumar   \n",
       "2       2008-04-18             1        1     0  BB McCullum        P Kumar   \n",
       "3       2008-04-18             1        1     0  BB McCullum        P Kumar   \n",
       "4       2008-04-18             1        1     0  BB McCullum        P Kumar   \n",
       "...            ...           ...      ...   ...          ...            ...   \n",
       "260754  2024-05-26            73        2     9      SS Iyer     AK Markram   \n",
       "260755  2024-05-26            73        2     9      VR Iyer     AK Markram   \n",
       "260756  2024-05-26            73        2    10      VR Iyer  Shahbaz Ahmed   \n",
       "260757  2024-05-26            73        2    10      SS Iyer  Shahbaz Ahmed   \n",
       "260758  2024-05-26            73        2    10      VR Iyer  Shahbaz Ahmed   \n",
       "\n",
       "        stage  non_striker  runs.batter  runs.extras  runs.total  \\\n",
       "0       group  BB McCullum            0            1           1   \n",
       "1       group   SC Ganguly            0            0           0   \n",
       "2       group   SC Ganguly            0            1           1   \n",
       "3       group   SC Ganguly            0            0           0   \n",
       "4       group   SC Ganguly            0            0           0   \n",
       "...       ...          ...          ...          ...         ...   \n",
       "260754  Final      VR Iyer            1            0           1   \n",
       "260755  Final      SS Iyer            1            0           1   \n",
       "260756  Final      SS Iyer            1            0           1   \n",
       "260757  Final      VR Iyer            1            0           1   \n",
       "260758  Final      SS Iyer            1            0           1   \n",
       "\n",
       "        extras.legbyes  extras.wides  extras.byes  extras.noballs wicket.kind  \\\n",
       "0                  1.0           NaN          NaN             NaN         NaN   \n",
       "1                  NaN           NaN          NaN             NaN         NaN   \n",
       "2                  NaN           1.0          NaN             NaN         NaN   \n",
       "3                  NaN           NaN          NaN             NaN         NaN   \n",
       "4                  NaN           NaN          NaN             NaN         NaN   \n",
       "...                ...           ...          ...             ...         ...   \n",
       "260754             NaN           NaN          NaN             NaN         NaN   \n",
       "260755             NaN           NaN          NaN             NaN         NaN   \n",
       "260756             NaN           NaN          NaN             NaN         NaN   \n",
       "260757             NaN           NaN          NaN             NaN         NaN   \n",
       "260758             NaN           NaN          NaN             NaN         NaN   \n",
       "\n",
       "       wicket.player_out wicket.fielders season  \n",
       "0                    NaN             NaN   2008  \n",
       "1                    NaN             NaN   2008  \n",
       "2                    NaN             NaN   2008  \n",
       "3                    NaN             NaN   2008  \n",
       "4                    NaN             NaN   2008  \n",
       "...                  ...             ...    ...  \n",
       "260754               NaN             NaN   2024  \n",
       "260755               NaN             NaN   2024  \n",
       "260756               NaN             NaN   2024  \n",
       "260757               NaN             NaN   2024  \n",
       "260758               NaN             NaN   2024  \n",
       "\n",
       "[260759 rows x 19 columns]"
      ]
     },
     "execution_count": 92,
     "metadata": {},
     "output_type": "execute_result"
    }
   ],
   "source": [
    "ball_by_ball "
   ]
  },
  {
   "cell_type": "code",
   "execution_count": 93,
   "metadata": {},
   "outputs": [
    {
     "data": {
      "text/plain": [
       "(260759, 19)"
      ]
     },
     "execution_count": 93,
     "metadata": {},
     "output_type": "execute_result"
    }
   ],
   "source": [
    "ball_by_ball.shape"
   ]
  },
  {
   "cell_type": "code",
   "execution_count": 94,
   "metadata": {},
   "outputs": [
    {
     "data": {
      "text/html": [
       "<div>\n",
       "<style scoped>\n",
       "    .dataframe tbody tr th:only-of-type {\n",
       "        vertical-align: middle;\n",
       "    }\n",
       "\n",
       "    .dataframe tbody tr th {\n",
       "        vertical-align: top;\n",
       "    }\n",
       "\n",
       "    .dataframe thead th {\n",
       "        text-align: right;\n",
       "    }\n",
       "</style>\n",
       "<table border=\"1\" class=\"dataframe\">\n",
       "  <thead>\n",
       "    <tr style=\"text-align: right;\">\n",
       "      <th></th>\n",
       "      <th>date</th>\n",
       "      <th>match_number</th>\n",
       "      <th>innings</th>\n",
       "      <th>over</th>\n",
       "      <th>batter</th>\n",
       "      <th>bowler</th>\n",
       "      <th>stage</th>\n",
       "      <th>non_striker</th>\n",
       "      <th>runs.batter</th>\n",
       "      <th>runs.extras</th>\n",
       "      <th>runs.total</th>\n",
       "      <th>extras.legbyes</th>\n",
       "      <th>extras.wides</th>\n",
       "      <th>extras.byes</th>\n",
       "      <th>extras.noballs</th>\n",
       "      <th>wicket.kind</th>\n",
       "      <th>wicket.player_out</th>\n",
       "      <th>wicket.fielders</th>\n",
       "      <th>season</th>\n",
       "    </tr>\n",
       "  </thead>\n",
       "  <tbody>\n",
       "    <tr>\n",
       "      <th>0</th>\n",
       "      <td>2008-04-18</td>\n",
       "      <td>1</td>\n",
       "      <td>1</td>\n",
       "      <td>0</td>\n",
       "      <td>SC Ganguly</td>\n",
       "      <td>P Kumar</td>\n",
       "      <td>group</td>\n",
       "      <td>BB McCullum</td>\n",
       "      <td>0</td>\n",
       "      <td>1</td>\n",
       "      <td>1</td>\n",
       "      <td>1.0</td>\n",
       "      <td>NaN</td>\n",
       "      <td>NaN</td>\n",
       "      <td>NaN</td>\n",
       "      <td>NaN</td>\n",
       "      <td>NaN</td>\n",
       "      <td>NaN</td>\n",
       "      <td>2008</td>\n",
       "    </tr>\n",
       "    <tr>\n",
       "      <th>1</th>\n",
       "      <td>2008-04-18</td>\n",
       "      <td>1</td>\n",
       "      <td>1</td>\n",
       "      <td>0</td>\n",
       "      <td>BB McCullum</td>\n",
       "      <td>P Kumar</td>\n",
       "      <td>group</td>\n",
       "      <td>SC Ganguly</td>\n",
       "      <td>0</td>\n",
       "      <td>0</td>\n",
       "      <td>0</td>\n",
       "      <td>NaN</td>\n",
       "      <td>NaN</td>\n",
       "      <td>NaN</td>\n",
       "      <td>NaN</td>\n",
       "      <td>NaN</td>\n",
       "      <td>NaN</td>\n",
       "      <td>NaN</td>\n",
       "      <td>2008</td>\n",
       "    </tr>\n",
       "    <tr>\n",
       "      <th>2</th>\n",
       "      <td>2008-04-18</td>\n",
       "      <td>1</td>\n",
       "      <td>1</td>\n",
       "      <td>0</td>\n",
       "      <td>BB McCullum</td>\n",
       "      <td>P Kumar</td>\n",
       "      <td>group</td>\n",
       "      <td>SC Ganguly</td>\n",
       "      <td>0</td>\n",
       "      <td>1</td>\n",
       "      <td>1</td>\n",
       "      <td>NaN</td>\n",
       "      <td>1.0</td>\n",
       "      <td>NaN</td>\n",
       "      <td>NaN</td>\n",
       "      <td>NaN</td>\n",
       "      <td>NaN</td>\n",
       "      <td>NaN</td>\n",
       "      <td>2008</td>\n",
       "    </tr>\n",
       "    <tr>\n",
       "      <th>3</th>\n",
       "      <td>2008-04-18</td>\n",
       "      <td>1</td>\n",
       "      <td>1</td>\n",
       "      <td>0</td>\n",
       "      <td>BB McCullum</td>\n",
       "      <td>P Kumar</td>\n",
       "      <td>group</td>\n",
       "      <td>SC Ganguly</td>\n",
       "      <td>0</td>\n",
       "      <td>0</td>\n",
       "      <td>0</td>\n",
       "      <td>NaN</td>\n",
       "      <td>NaN</td>\n",
       "      <td>NaN</td>\n",
       "      <td>NaN</td>\n",
       "      <td>NaN</td>\n",
       "      <td>NaN</td>\n",
       "      <td>NaN</td>\n",
       "      <td>2008</td>\n",
       "    </tr>\n",
       "    <tr>\n",
       "      <th>4</th>\n",
       "      <td>2008-04-18</td>\n",
       "      <td>1</td>\n",
       "      <td>1</td>\n",
       "      <td>0</td>\n",
       "      <td>BB McCullum</td>\n",
       "      <td>P Kumar</td>\n",
       "      <td>group</td>\n",
       "      <td>SC Ganguly</td>\n",
       "      <td>0</td>\n",
       "      <td>0</td>\n",
       "      <td>0</td>\n",
       "      <td>NaN</td>\n",
       "      <td>NaN</td>\n",
       "      <td>NaN</td>\n",
       "      <td>NaN</td>\n",
       "      <td>NaN</td>\n",
       "      <td>NaN</td>\n",
       "      <td>NaN</td>\n",
       "      <td>2008</td>\n",
       "    </tr>\n",
       "  </tbody>\n",
       "</table>\n",
       "</div>"
      ],
      "text/plain": [
       "         date  match_number  innings  over       batter   bowler  stage  \\\n",
       "0  2008-04-18             1        1     0   SC Ganguly  P Kumar  group   \n",
       "1  2008-04-18             1        1     0  BB McCullum  P Kumar  group   \n",
       "2  2008-04-18             1        1     0  BB McCullum  P Kumar  group   \n",
       "3  2008-04-18             1        1     0  BB McCullum  P Kumar  group   \n",
       "4  2008-04-18             1        1     0  BB McCullum  P Kumar  group   \n",
       "\n",
       "   non_striker  runs.batter  runs.extras  runs.total  extras.legbyes  \\\n",
       "0  BB McCullum            0            1           1             1.0   \n",
       "1   SC Ganguly            0            0           0             NaN   \n",
       "2   SC Ganguly            0            1           1             NaN   \n",
       "3   SC Ganguly            0            0           0             NaN   \n",
       "4   SC Ganguly            0            0           0             NaN   \n",
       "\n",
       "   extras.wides  extras.byes  extras.noballs wicket.kind wicket.player_out  \\\n",
       "0           NaN          NaN             NaN         NaN               NaN   \n",
       "1           NaN          NaN             NaN         NaN               NaN   \n",
       "2           1.0          NaN             NaN         NaN               NaN   \n",
       "3           NaN          NaN             NaN         NaN               NaN   \n",
       "4           NaN          NaN             NaN         NaN               NaN   \n",
       "\n",
       "  wicket.fielders season  \n",
       "0             NaN   2008  \n",
       "1             NaN   2008  \n",
       "2             NaN   2008  \n",
       "3             NaN   2008  \n",
       "4             NaN   2008  "
      ]
     },
     "execution_count": 94,
     "metadata": {},
     "output_type": "execute_result"
    }
   ],
   "source": [
    "ball_by_ball.head()"
   ]
  },
  {
   "cell_type": "code",
   "execution_count": 95,
   "metadata": {},
   "outputs": [],
   "source": [
    "ipl_summary[\"match_number\"] = ipl_summary[\"match_number\"].astype(\"str\")"
   ]
  },
  {
   "cell_type": "code",
   "execution_count": 96,
   "metadata": {},
   "outputs": [
    {
     "data": {
      "text/plain": [
       "(1095, 21)"
      ]
     },
     "execution_count": 96,
     "metadata": {},
     "output_type": "execute_result"
    }
   ],
   "source": [
    "ipl_summary.shape"
   ]
  },
  {
   "cell_type": "code",
   "execution_count": 97,
   "metadata": {},
   "outputs": [
    {
     "data": {
      "text/html": [
       "<div>\n",
       "<style scoped>\n",
       "    .dataframe tbody tr th:only-of-type {\n",
       "        vertical-align: middle;\n",
       "    }\n",
       "\n",
       "    .dataframe tbody tr th {\n",
       "        vertical-align: top;\n",
       "    }\n",
       "\n",
       "    .dataframe thead th {\n",
       "        text-align: right;\n",
       "    }\n",
       "</style>\n",
       "<table border=\"1\" class=\"dataframe\">\n",
       "  <thead>\n",
       "    <tr style=\"text-align: right;\">\n",
       "      <th></th>\n",
       "      <th>date</th>\n",
       "      <th>match_number</th>\n",
       "      <th>city</th>\n",
       "      <th>team_1</th>\n",
       "      <th>team_2</th>\n",
       "      <th>season_match_no</th>\n",
       "      <th>outcome_winner</th>\n",
       "      <th>player_of_match</th>\n",
       "      <th>toss_winner</th>\n",
       "      <th>toss_decision</th>\n",
       "      <th>...</th>\n",
       "      <th>officials_reserve_umpires</th>\n",
       "      <th>officials_tv_umpires</th>\n",
       "      <th>officials_umpires_1</th>\n",
       "      <th>officials_umpires_2</th>\n",
       "      <th>outcome_by_wickets</th>\n",
       "      <th>season</th>\n",
       "      <th>venue</th>\n",
       "      <th>outcome_by_runs</th>\n",
       "      <th>event_stage</th>\n",
       "      <th>outcome_method</th>\n",
       "    </tr>\n",
       "  </thead>\n",
       "  <tbody>\n",
       "    <tr>\n",
       "      <th>518</th>\n",
       "      <td>2008-04-18</td>\n",
       "      <td>1</td>\n",
       "      <td>Bangalore</td>\n",
       "      <td>Kolkata Knight Riders</td>\n",
       "      <td>Royal Challengers Bangalore</td>\n",
       "      <td>1</td>\n",
       "      <td>Kolkata Knight Riders</td>\n",
       "      <td>BB McCullum</td>\n",
       "      <td>Royal Challengers Bangalore</td>\n",
       "      <td>field</td>\n",
       "      <td>...</td>\n",
       "      <td>VN Kulkarni</td>\n",
       "      <td>AM Saheba</td>\n",
       "      <td>Asad Rauf</td>\n",
       "      <td>RE Koertzen</td>\n",
       "      <td>NaN</td>\n",
       "      <td>2008</td>\n",
       "      <td>MChinnaswamyStadium</td>\n",
       "      <td>140.0</td>\n",
       "      <td>group_stage</td>\n",
       "      <td>regular</td>\n",
       "    </tr>\n",
       "    <tr>\n",
       "      <th>519</th>\n",
       "      <td>2008-04-19</td>\n",
       "      <td>2</td>\n",
       "      <td>Chandigarh</td>\n",
       "      <td>Chennai Super Kings</td>\n",
       "      <td>Kings XI Punjab</td>\n",
       "      <td>2</td>\n",
       "      <td>Chennai Super Kings</td>\n",
       "      <td>MEK Hussey</td>\n",
       "      <td>Chennai Super Kings</td>\n",
       "      <td>bat</td>\n",
       "      <td>...</td>\n",
       "      <td>MSS Ranawat</td>\n",
       "      <td>RB Tiffin</td>\n",
       "      <td>MR Benson</td>\n",
       "      <td>SL Shastri</td>\n",
       "      <td>NaN</td>\n",
       "      <td>2008</td>\n",
       "      <td>PunjabCricketAssociationStadium</td>\n",
       "      <td>33.0</td>\n",
       "      <td>group_stage</td>\n",
       "      <td>regular</td>\n",
       "    </tr>\n",
       "    <tr>\n",
       "      <th>520</th>\n",
       "      <td>2008-04-19</td>\n",
       "      <td>3</td>\n",
       "      <td>Delhi</td>\n",
       "      <td>Rajasthan Royals</td>\n",
       "      <td>Delhi Daredevils</td>\n",
       "      <td>3</td>\n",
       "      <td>Delhi Daredevils</td>\n",
       "      <td>MF Maharoof</td>\n",
       "      <td>Rajasthan Royals</td>\n",
       "      <td>bat</td>\n",
       "      <td>...</td>\n",
       "      <td>NaN</td>\n",
       "      <td>IL Howell</td>\n",
       "      <td>Aleem Dar</td>\n",
       "      <td>GA Pratapkumar</td>\n",
       "      <td>9.0</td>\n",
       "      <td>2008</td>\n",
       "      <td>FerozShahKotla</td>\n",
       "      <td>NaN</td>\n",
       "      <td>group_stage</td>\n",
       "      <td>regular</td>\n",
       "    </tr>\n",
       "    <tr>\n",
       "      <th>522</th>\n",
       "      <td>2008-04-20</td>\n",
       "      <td>4</td>\n",
       "      <td>Kolkata</td>\n",
       "      <td>Deccan Chargers</td>\n",
       "      <td>Kolkata Knight Riders</td>\n",
       "      <td>4</td>\n",
       "      <td>Kolkata Knight Riders</td>\n",
       "      <td>DJ Hussey</td>\n",
       "      <td>Deccan Chargers</td>\n",
       "      <td>bat</td>\n",
       "      <td>...</td>\n",
       "      <td>F Gomes</td>\n",
       "      <td>Asad Rauf</td>\n",
       "      <td>BF Bowden</td>\n",
       "      <td>K Hariharan</td>\n",
       "      <td>5.0</td>\n",
       "      <td>2008</td>\n",
       "      <td>EdenGardens</td>\n",
       "      <td>NaN</td>\n",
       "      <td>group_stage</td>\n",
       "      <td>regular</td>\n",
       "    </tr>\n",
       "    <tr>\n",
       "      <th>521</th>\n",
       "      <td>2008-04-20</td>\n",
       "      <td>5</td>\n",
       "      <td>Mumbai</td>\n",
       "      <td>Mumbai Indians</td>\n",
       "      <td>Royal Challengers Bangalore</td>\n",
       "      <td>5</td>\n",
       "      <td>Royal Challengers Bangalore</td>\n",
       "      <td>MV Boucher</td>\n",
       "      <td>Mumbai Indians</td>\n",
       "      <td>bat</td>\n",
       "      <td>...</td>\n",
       "      <td>SN Bandekar</td>\n",
       "      <td>AV Jayaprakash</td>\n",
       "      <td>SJ Davis</td>\n",
       "      <td>DJ Harper</td>\n",
       "      <td>5.0</td>\n",
       "      <td>2008</td>\n",
       "      <td>WankhedeStadium</td>\n",
       "      <td>NaN</td>\n",
       "      <td>group_stage</td>\n",
       "      <td>regular</td>\n",
       "    </tr>\n",
       "  </tbody>\n",
       "</table>\n",
       "<p>5 rows × 21 columns</p>\n",
       "</div>"
      ],
      "text/plain": [
       "           date match_number        city                 team_1  \\\n",
       "518  2008-04-18            1   Bangalore  Kolkata Knight Riders   \n",
       "519  2008-04-19            2  Chandigarh    Chennai Super Kings   \n",
       "520  2008-04-19            3       Delhi       Rajasthan Royals   \n",
       "522  2008-04-20            4     Kolkata        Deccan Chargers   \n",
       "521  2008-04-20            5      Mumbai         Mumbai Indians   \n",
       "\n",
       "                          team_2 season_match_no               outcome_winner  \\\n",
       "518  Royal Challengers Bangalore               1        Kolkata Knight Riders   \n",
       "519              Kings XI Punjab               2          Chennai Super Kings   \n",
       "520             Delhi Daredevils               3             Delhi Daredevils   \n",
       "522        Kolkata Knight Riders               4        Kolkata Knight Riders   \n",
       "521  Royal Challengers Bangalore               5  Royal Challengers Bangalore   \n",
       "\n",
       "    player_of_match                  toss_winner toss_decision  ...  \\\n",
       "518     BB McCullum  Royal Challengers Bangalore         field  ...   \n",
       "519      MEK Hussey          Chennai Super Kings           bat  ...   \n",
       "520     MF Maharoof             Rajasthan Royals           bat  ...   \n",
       "522       DJ Hussey              Deccan Chargers           bat  ...   \n",
       "521      MV Boucher               Mumbai Indians           bat  ...   \n",
       "\n",
       "    officials_reserve_umpires officials_tv_umpires officials_umpires_1  \\\n",
       "518               VN Kulkarni            AM Saheba           Asad Rauf   \n",
       "519               MSS Ranawat            RB Tiffin           MR Benson   \n",
       "520                       NaN            IL Howell           Aleem Dar   \n",
       "522                   F Gomes            Asad Rauf           BF Bowden   \n",
       "521               SN Bandekar       AV Jayaprakash            SJ Davis   \n",
       "\n",
       "    officials_umpires_2 outcome_by_wickets  season  \\\n",
       "518         RE Koertzen                NaN    2008   \n",
       "519          SL Shastri                NaN    2008   \n",
       "520      GA Pratapkumar                9.0    2008   \n",
       "522         K Hariharan                5.0    2008   \n",
       "521           DJ Harper                5.0    2008   \n",
       "\n",
       "                               venue outcome_by_runs  event_stage  \\\n",
       "518              MChinnaswamyStadium           140.0  group_stage   \n",
       "519  PunjabCricketAssociationStadium            33.0  group_stage   \n",
       "520                   FerozShahKotla             NaN  group_stage   \n",
       "522                      EdenGardens             NaN  group_stage   \n",
       "521                  WankhedeStadium             NaN  group_stage   \n",
       "\n",
       "    outcome_method  \n",
       "518        regular  \n",
       "519        regular  \n",
       "520        regular  \n",
       "522        regular  \n",
       "521        regular  \n",
       "\n",
       "[5 rows x 21 columns]"
      ]
     },
     "execution_count": 97,
     "metadata": {},
     "output_type": "execute_result"
    }
   ],
   "source": [
    "ipl_summary.head()"
   ]
  },
  {
   "cell_type": "markdown",
   "metadata": {},
   "source": [
    "We now want to get match level statistics like total runs per team that is derived by taking the sum of all the runs taken in every ball of the innings\n",
    "\n",
    "So below in `get_items_by_team` we are getting exacly that by grouping `ball_by_ball` by `date` ,`match_number` and `innings`"
   ]
  },
  {
   "cell_type": "code",
   "execution_count": 98,
   "metadata": {},
   "outputs": [],
   "source": [
    "def get_items_by_team(field, agg=\"sum\"):\n",
    "    if agg == \"sum\":\n",
    "        grouped_df = ball_by_ball.groupby([\"date\", \"match_number\", \"innings\"])[field].sum()\n",
    "    elif agg == \"max\":\n",
    "        grouped_df = ball_by_ball.groupby([\"date\", \"match_number\", \"innings\"])[field].max()\n",
    "\n",
    "    grouped_df = grouped_df.reset_index()\n",
    "\n",
    "    df_pivot = grouped_df.pivot(\n",
    "        index=[\"date\", \"match_number\"], columns=\"innings\", values=field\n",
    "    )\n",
    "\n",
    "    df_pivot.reset_index(inplace=True)\n",
    "\n",
    "    df_pivot = df_pivot.rename(columns={1: \"team_1_\" + field, 2: \"team_2_\" + field})\n",
    "\n",
    "    return df_pivot"
   ]
  },
  {
   "cell_type": "code",
   "execution_count": 99,
   "metadata": {},
   "outputs": [],
   "source": [
    "match_level_col = get_items_by_team(\"runs.total\")"
   ]
  },
  {
   "cell_type": "markdown",
   "metadata": {},
   "source": [
    "Now before the merge we want to make sure that the `type(match_level_col.match_number) == type(ipl_summary.match_number)`"
   ]
  },
  {
   "cell_type": "code",
   "execution_count": 100,
   "metadata": {},
   "outputs": [
    {
     "data": {
      "text/plain": [
       "dtype('int64')"
      ]
     },
     "execution_count": 100,
     "metadata": {},
     "output_type": "execute_result"
    }
   ],
   "source": [
    "match_level_col.match_number.dtype"
   ]
  },
  {
   "cell_type": "code",
   "execution_count": 101,
   "metadata": {},
   "outputs": [],
   "source": [
    "ipl_summary['match_number'] = ipl_summary.match_number.astype(int)"
   ]
  },
  {
   "cell_type": "markdown",
   "metadata": {},
   "source": [
    "Now we are defining the new DataFrame called `match_level_stats` that is going to get the match level aggregate information from `ball_by_ball` using the `get_items_by_team()` and merge it with `ipl_summary`"
   ]
  },
  {
   "cell_type": "code",
   "execution_count": 102,
   "metadata": {},
   "outputs": [],
   "source": [
    "match_level_stats = pd.merge(ipl_summary, match_level_col, how=\"outer\", on=[\"date\", \"match_number\"])"
   ]
  },
  {
   "cell_type": "code",
   "execution_count": 103,
   "metadata": {},
   "outputs": [],
   "source": [
    "match_level_col = get_items_by_team(\"runs.extras\")\n",
    "match_level_stats = pd.merge(match_level_stats, match_level_col, how=\"outer\", on=[\"date\", \"match_number\"])"
   ]
  },
  {
   "cell_type": "code",
   "execution_count": 104,
   "metadata": {},
   "outputs": [],
   "source": [
    "match_level_col = get_items_by_team(\"extras.legbyes\")\n",
    "match_level_stats = pd.merge(match_level_stats, match_level_col, how=\"outer\", on=[\"date\", \"match_number\"])"
   ]
  },
  {
   "cell_type": "code",
   "execution_count": 105,
   "metadata": {},
   "outputs": [],
   "source": [
    "match_level_col = get_items_by_team(\"extras.wides\")\n",
    "match_level_stats = pd.merge(match_level_stats, match_level_col, how=\"outer\", on=[\"date\", \"match_number\"])"
   ]
  },
  {
   "cell_type": "code",
   "execution_count": 106,
   "metadata": {},
   "outputs": [],
   "source": [
    "match_level_col = get_items_by_team(\"extras.byes\")\n",
    "match_level_stats = pd.merge(match_level_stats, match_level_col, how=\"outer\", on=[\"date\", \"match_number\"])"
   ]
  },
  {
   "cell_type": "code",
   "execution_count": 107,
   "metadata": {},
   "outputs": [],
   "source": [
    "match_level_col = get_items_by_team(\"extras.noballs\")\n",
    "match_level_stats = pd.merge(match_level_stats, match_level_col, how=\"outer\", on=[\"date\", \"match_number\"])"
   ]
  },
  {
   "cell_type": "code",
   "execution_count": 108,
   "metadata": {},
   "outputs": [],
   "source": [
    "match_level_col = get_items_by_team(\"over\", \"max\")\n",
    "match_level_stats = pd.merge(match_level_stats, match_level_col, how=\"outer\", on=[\"date\", \"match_number\"])"
   ]
  },
  {
   "cell_type": "markdown",
   "metadata": {},
   "source": [
    "So now lets see all the columns whether they have the needed data and the join worked as expected"
   ]
  },
  {
   "cell_type": "code",
   "execution_count": 109,
   "metadata": {},
   "outputs": [
    {
     "data": {
      "text/html": [
       "<div>\n",
       "<style scoped>\n",
       "    .dataframe tbody tr th:only-of-type {\n",
       "        vertical-align: middle;\n",
       "    }\n",
       "\n",
       "    .dataframe tbody tr th {\n",
       "        vertical-align: top;\n",
       "    }\n",
       "\n",
       "    .dataframe thead th {\n",
       "        text-align: right;\n",
       "    }\n",
       "</style>\n",
       "<table border=\"1\" class=\"dataframe\">\n",
       "  <thead>\n",
       "    <tr style=\"text-align: right;\">\n",
       "      <th></th>\n",
       "      <th>date</th>\n",
       "      <th>match_number</th>\n",
       "      <th>city</th>\n",
       "      <th>team_1</th>\n",
       "      <th>team_2</th>\n",
       "      <th>season_match_no</th>\n",
       "      <th>outcome_winner</th>\n",
       "      <th>player_of_match</th>\n",
       "      <th>toss_winner</th>\n",
       "      <th>toss_decision</th>\n",
       "      <th>officials_match_referees</th>\n",
       "      <th>officials_reserve_umpires</th>\n",
       "      <th>officials_tv_umpires</th>\n",
       "      <th>officials_umpires_1</th>\n",
       "      <th>officials_umpires_2</th>\n",
       "      <th>outcome_by_wickets</th>\n",
       "      <th>season</th>\n",
       "      <th>venue</th>\n",
       "      <th>outcome_by_runs</th>\n",
       "      <th>event_stage</th>\n",
       "      <th>outcome_method</th>\n",
       "      <th>team_1_runs.total</th>\n",
       "      <th>team_2_runs.total</th>\n",
       "      <th>team_1_runs.extras</th>\n",
       "      <th>team_2_runs.extras</th>\n",
       "      <th>team_1_extras.legbyes</th>\n",
       "      <th>team_2_extras.legbyes</th>\n",
       "      <th>team_1_extras.wides</th>\n",
       "      <th>team_2_extras.wides</th>\n",
       "      <th>team_1_extras.byes</th>\n",
       "      <th>team_2_extras.byes</th>\n",
       "      <th>team_1_extras.noballs</th>\n",
       "      <th>team_2_extras.noballs</th>\n",
       "      <th>team_1_over</th>\n",
       "      <th>team_2_over</th>\n",
       "    </tr>\n",
       "  </thead>\n",
       "  <tbody>\n",
       "    <tr>\n",
       "      <th>0</th>\n",
       "      <td>2008-04-18</td>\n",
       "      <td>1</td>\n",
       "      <td>Bangalore</td>\n",
       "      <td>Kolkata Knight Riders</td>\n",
       "      <td>Royal Challengers Bangalore</td>\n",
       "      <td>1</td>\n",
       "      <td>Kolkata Knight Riders</td>\n",
       "      <td>BB McCullum</td>\n",
       "      <td>Royal Challengers Bangalore</td>\n",
       "      <td>field</td>\n",
       "      <td>J Srinath</td>\n",
       "      <td>VN Kulkarni</td>\n",
       "      <td>AM Saheba</td>\n",
       "      <td>Asad Rauf</td>\n",
       "      <td>RE Koertzen</td>\n",
       "      <td>NaN</td>\n",
       "      <td>2008</td>\n",
       "      <td>MChinnaswamyStadium</td>\n",
       "      <td>140.0</td>\n",
       "      <td>group_stage</td>\n",
       "      <td>regular</td>\n",
       "      <td>222.0</td>\n",
       "      <td>82.0</td>\n",
       "      <td>17.0</td>\n",
       "      <td>19.0</td>\n",
       "      <td>4.0</td>\n",
       "      <td>8.0</td>\n",
       "      <td>9.0</td>\n",
       "      <td>11.0</td>\n",
       "      <td>4.0</td>\n",
       "      <td>0.0</td>\n",
       "      <td>0.0</td>\n",
       "      <td>0.0</td>\n",
       "      <td>19.0</td>\n",
       "      <td>15.0</td>\n",
       "    </tr>\n",
       "    <tr>\n",
       "      <th>1</th>\n",
       "      <td>2008-04-19</td>\n",
       "      <td>2</td>\n",
       "      <td>Chandigarh</td>\n",
       "      <td>Chennai Super Kings</td>\n",
       "      <td>Kings XI Punjab</td>\n",
       "      <td>2</td>\n",
       "      <td>Chennai Super Kings</td>\n",
       "      <td>MEK Hussey</td>\n",
       "      <td>Chennai Super Kings</td>\n",
       "      <td>bat</td>\n",
       "      <td>S Venkataraghavan</td>\n",
       "      <td>MSS Ranawat</td>\n",
       "      <td>RB Tiffin</td>\n",
       "      <td>MR Benson</td>\n",
       "      <td>SL Shastri</td>\n",
       "      <td>NaN</td>\n",
       "      <td>2008</td>\n",
       "      <td>PunjabCricketAssociationStadium</td>\n",
       "      <td>33.0</td>\n",
       "      <td>group_stage</td>\n",
       "      <td>regular</td>\n",
       "      <td>240.0</td>\n",
       "      <td>207.0</td>\n",
       "      <td>6.0</td>\n",
       "      <td>11.0</td>\n",
       "      <td>2.0</td>\n",
       "      <td>4.0</td>\n",
       "      <td>3.0</td>\n",
       "      <td>5.0</td>\n",
       "      <td>0.0</td>\n",
       "      <td>2.0</td>\n",
       "      <td>1.0</td>\n",
       "      <td>0.0</td>\n",
       "      <td>19.0</td>\n",
       "      <td>19.0</td>\n",
       "    </tr>\n",
       "    <tr>\n",
       "      <th>2</th>\n",
       "      <td>2008-04-19</td>\n",
       "      <td>3</td>\n",
       "      <td>Delhi</td>\n",
       "      <td>Rajasthan Royals</td>\n",
       "      <td>Delhi Daredevils</td>\n",
       "      <td>3</td>\n",
       "      <td>Delhi Daredevils</td>\n",
       "      <td>MF Maharoof</td>\n",
       "      <td>Rajasthan Royals</td>\n",
       "      <td>bat</td>\n",
       "      <td>GR Viswanath</td>\n",
       "      <td>NaN</td>\n",
       "      <td>IL Howell</td>\n",
       "      <td>Aleem Dar</td>\n",
       "      <td>GA Pratapkumar</td>\n",
       "      <td>9.0</td>\n",
       "      <td>2008</td>\n",
       "      <td>FerozShahKotla</td>\n",
       "      <td>NaN</td>\n",
       "      <td>group_stage</td>\n",
       "      <td>regular</td>\n",
       "      <td>129.0</td>\n",
       "      <td>132.0</td>\n",
       "      <td>7.0</td>\n",
       "      <td>10.0</td>\n",
       "      <td>3.0</td>\n",
       "      <td>0.0</td>\n",
       "      <td>3.0</td>\n",
       "      <td>10.0</td>\n",
       "      <td>1.0</td>\n",
       "      <td>0.0</td>\n",
       "      <td>0.0</td>\n",
       "      <td>0.0</td>\n",
       "      <td>19.0</td>\n",
       "      <td>15.0</td>\n",
       "    </tr>\n",
       "    <tr>\n",
       "      <th>3</th>\n",
       "      <td>2008-04-20</td>\n",
       "      <td>4</td>\n",
       "      <td>Kolkata</td>\n",
       "      <td>Deccan Chargers</td>\n",
       "      <td>Kolkata Knight Riders</td>\n",
       "      <td>4</td>\n",
       "      <td>Kolkata Knight Riders</td>\n",
       "      <td>DJ Hussey</td>\n",
       "      <td>Deccan Chargers</td>\n",
       "      <td>bat</td>\n",
       "      <td>FM Engineer</td>\n",
       "      <td>F Gomes</td>\n",
       "      <td>Asad Rauf</td>\n",
       "      <td>BF Bowden</td>\n",
       "      <td>K Hariharan</td>\n",
       "      <td>5.0</td>\n",
       "      <td>2008</td>\n",
       "      <td>EdenGardens</td>\n",
       "      <td>NaN</td>\n",
       "      <td>group_stage</td>\n",
       "      <td>regular</td>\n",
       "      <td>110.0</td>\n",
       "      <td>112.0</td>\n",
       "      <td>10.0</td>\n",
       "      <td>28.0</td>\n",
       "      <td>4.0</td>\n",
       "      <td>8.0</td>\n",
       "      <td>4.0</td>\n",
       "      <td>15.0</td>\n",
       "      <td>0.0</td>\n",
       "      <td>4.0</td>\n",
       "      <td>2.0</td>\n",
       "      <td>1.0</td>\n",
       "      <td>18.0</td>\n",
       "      <td>18.0</td>\n",
       "    </tr>\n",
       "    <tr>\n",
       "      <th>4</th>\n",
       "      <td>2008-04-20</td>\n",
       "      <td>5</td>\n",
       "      <td>Mumbai</td>\n",
       "      <td>Mumbai Indians</td>\n",
       "      <td>Royal Challengers Bangalore</td>\n",
       "      <td>5</td>\n",
       "      <td>Royal Challengers Bangalore</td>\n",
       "      <td>MV Boucher</td>\n",
       "      <td>Mumbai Indians</td>\n",
       "      <td>bat</td>\n",
       "      <td>J Srinath</td>\n",
       "      <td>SN Bandekar</td>\n",
       "      <td>AV Jayaprakash</td>\n",
       "      <td>SJ Davis</td>\n",
       "      <td>DJ Harper</td>\n",
       "      <td>5.0</td>\n",
       "      <td>2008</td>\n",
       "      <td>WankhedeStadium</td>\n",
       "      <td>NaN</td>\n",
       "      <td>group_stage</td>\n",
       "      <td>regular</td>\n",
       "      <td>165.0</td>\n",
       "      <td>166.0</td>\n",
       "      <td>11.0</td>\n",
       "      <td>5.0</td>\n",
       "      <td>6.0</td>\n",
       "      <td>0.0</td>\n",
       "      <td>3.0</td>\n",
       "      <td>5.0</td>\n",
       "      <td>2.0</td>\n",
       "      <td>0.0</td>\n",
       "      <td>0.0</td>\n",
       "      <td>0.0</td>\n",
       "      <td>19.0</td>\n",
       "      <td>19.0</td>\n",
       "    </tr>\n",
       "  </tbody>\n",
       "</table>\n",
       "</div>"
      ],
      "text/plain": [
       "         date  match_number        city                 team_1  \\\n",
       "0  2008-04-18             1   Bangalore  Kolkata Knight Riders   \n",
       "1  2008-04-19             2  Chandigarh    Chennai Super Kings   \n",
       "2  2008-04-19             3       Delhi       Rajasthan Royals   \n",
       "3  2008-04-20             4     Kolkata        Deccan Chargers   \n",
       "4  2008-04-20             5      Mumbai         Mumbai Indians   \n",
       "\n",
       "                        team_2 season_match_no               outcome_winner  \\\n",
       "0  Royal Challengers Bangalore               1        Kolkata Knight Riders   \n",
       "1              Kings XI Punjab               2          Chennai Super Kings   \n",
       "2             Delhi Daredevils               3             Delhi Daredevils   \n",
       "3        Kolkata Knight Riders               4        Kolkata Knight Riders   \n",
       "4  Royal Challengers Bangalore               5  Royal Challengers Bangalore   \n",
       "\n",
       "  player_of_match                  toss_winner toss_decision  \\\n",
       "0     BB McCullum  Royal Challengers Bangalore         field   \n",
       "1      MEK Hussey          Chennai Super Kings           bat   \n",
       "2     MF Maharoof             Rajasthan Royals           bat   \n",
       "3       DJ Hussey              Deccan Chargers           bat   \n",
       "4      MV Boucher               Mumbai Indians           bat   \n",
       "\n",
       "  officials_match_referees officials_reserve_umpires officials_tv_umpires  \\\n",
       "0                J Srinath               VN Kulkarni            AM Saheba   \n",
       "1        S Venkataraghavan               MSS Ranawat            RB Tiffin   \n",
       "2             GR Viswanath                       NaN            IL Howell   \n",
       "3              FM Engineer                   F Gomes            Asad Rauf   \n",
       "4                J Srinath               SN Bandekar       AV Jayaprakash   \n",
       "\n",
       "  officials_umpires_1 officials_umpires_2  outcome_by_wickets season  \\\n",
       "0           Asad Rauf         RE Koertzen                 NaN   2008   \n",
       "1           MR Benson          SL Shastri                 NaN   2008   \n",
       "2           Aleem Dar      GA Pratapkumar                 9.0   2008   \n",
       "3           BF Bowden         K Hariharan                 5.0   2008   \n",
       "4            SJ Davis           DJ Harper                 5.0   2008   \n",
       "\n",
       "                             venue  outcome_by_runs  event_stage  \\\n",
       "0              MChinnaswamyStadium            140.0  group_stage   \n",
       "1  PunjabCricketAssociationStadium             33.0  group_stage   \n",
       "2                   FerozShahKotla              NaN  group_stage   \n",
       "3                      EdenGardens              NaN  group_stage   \n",
       "4                  WankhedeStadium              NaN  group_stage   \n",
       "\n",
       "  outcome_method  team_1_runs.total  team_2_runs.total  team_1_runs.extras  \\\n",
       "0        regular              222.0               82.0                17.0   \n",
       "1        regular              240.0              207.0                 6.0   \n",
       "2        regular              129.0              132.0                 7.0   \n",
       "3        regular              110.0              112.0                10.0   \n",
       "4        regular              165.0              166.0                11.0   \n",
       "\n",
       "   team_2_runs.extras  team_1_extras.legbyes  team_2_extras.legbyes  \\\n",
       "0                19.0                    4.0                    8.0   \n",
       "1                11.0                    2.0                    4.0   \n",
       "2                10.0                    3.0                    0.0   \n",
       "3                28.0                    4.0                    8.0   \n",
       "4                 5.0                    6.0                    0.0   \n",
       "\n",
       "   team_1_extras.wides  team_2_extras.wides  team_1_extras.byes  \\\n",
       "0                  9.0                 11.0                 4.0   \n",
       "1                  3.0                  5.0                 0.0   \n",
       "2                  3.0                 10.0                 1.0   \n",
       "3                  4.0                 15.0                 0.0   \n",
       "4                  3.0                  5.0                 2.0   \n",
       "\n",
       "   team_2_extras.byes  team_1_extras.noballs  team_2_extras.noballs  \\\n",
       "0                 0.0                    0.0                    0.0   \n",
       "1                 2.0                    1.0                    0.0   \n",
       "2                 0.0                    0.0                    0.0   \n",
       "3                 4.0                    2.0                    1.0   \n",
       "4                 0.0                    0.0                    0.0   \n",
       "\n",
       "   team_1_over  team_2_over  \n",
       "0         19.0         15.0  \n",
       "1         19.0         19.0  \n",
       "2         19.0         15.0  \n",
       "3         18.0         18.0  \n",
       "4         19.0         19.0  "
      ]
     },
     "execution_count": 109,
     "metadata": {},
     "output_type": "execute_result"
    }
   ],
   "source": [
    "pd.set_option(\"display.max_columns\", 35)\n",
    "match_level_stats.head()"
   ]
  },
  {
   "cell_type": "code",
   "execution_count": 110,
   "metadata": {},
   "outputs": [
    {
     "data": {
      "text/plain": [
       "Index(['date', 'match_number', 'city', 'team_1', 'team_2', 'season_match_no',\n",
       "       'outcome_winner', 'player_of_match', 'toss_winner', 'toss_decision',\n",
       "       'officials_match_referees', 'officials_reserve_umpires',\n",
       "       'officials_tv_umpires', 'officials_umpires_1', 'officials_umpires_2',\n",
       "       'outcome_by_wickets', 'season', 'venue', 'outcome_by_runs',\n",
       "       'event_stage', 'outcome_method', 'team_1_runs.total',\n",
       "       'team_2_runs.total', 'team_1_runs.extras', 'team_2_runs.extras',\n",
       "       'team_1_extras.legbyes', 'team_2_extras.legbyes', 'team_1_extras.wides',\n",
       "       'team_2_extras.wides', 'team_1_extras.byes', 'team_2_extras.byes',\n",
       "       'team_1_extras.noballs', 'team_2_extras.noballs', 'team_1_over',\n",
       "       'team_2_over'],\n",
       "      dtype='object')"
      ]
     },
     "execution_count": 110,
     "metadata": {},
     "output_type": "execute_result"
    }
   ],
   "source": [
    "match_level_stats.columns"
   ]
  },
  {
   "cell_type": "markdown",
   "metadata": {},
   "source": [
    "Now we  want to check among the below columns to ensure no unexppected results have occured"
   ]
  },
  {
   "cell_type": "code",
   "execution_count": 111,
   "metadata": {},
   "outputs": [],
   "source": [
    "cols = [\n",
    "    \"date\",\n",
    "    \"match_number\",\n",
    "    \"city\",\n",
    "    \"team_1\",\n",
    "    \"team_2\",\n",
    "    \"team_1_runs.total\",\n",
    "    \"team_2_runs.total\",\n",
    "    \"outcome_winner\",\n",
    "    \"player_of_match\",\n",
    "    \"team_1_over\",\n",
    "    \"team_2_over\",\n",
    "    \"toss_winner\",\n",
    "    \"toss_decision\",\n",
    "    \"team_1_runs.extras\",\n",
    "    \"team_2_runs.extras\",\n",
    "    \"team_1_extras.legbyes\",\n",
    "    \"team_2_extras.legbyes\",\n",
    "    \"team_1_extras.wides\",\n",
    "    \"team_2_extras.wides\",\n",
    "    \"team_1_extras.byes\",\n",
    "    \"team_2_extras.byes\",\n",
    "    \"team_1_extras.noballs\",\n",
    "    \"team_2_extras.noballs\",\n",
    "    \"officials_match_referees\",\n",
    "    \"officials_reserve_umpires\",\n",
    "    \"officials_tv_umpires\",\n",
    "    \"officials_umpires_1\",\n",
    "    \"officials_umpires_2\",\n",
    "    \"outcome_by_wickets\",\n",
    "    \"season\",\n",
    "    \"venue\",\n",
    "    \"outcome_by_runs\",\n",
    "    \"event_stage\",\n",
    "    \"outcome_method\",\n",
    "]\n",
    "match_level_stats = match_level_stats.reindex(columns=cols)"
   ]
  },
  {
   "cell_type": "code",
   "execution_count": 112,
   "metadata": {},
   "outputs": [
    {
     "data": {
      "text/html": [
       "<div>\n",
       "<style scoped>\n",
       "    .dataframe tbody tr th:only-of-type {\n",
       "        vertical-align: middle;\n",
       "    }\n",
       "\n",
       "    .dataframe tbody tr th {\n",
       "        vertical-align: top;\n",
       "    }\n",
       "\n",
       "    .dataframe thead th {\n",
       "        text-align: right;\n",
       "    }\n",
       "</style>\n",
       "<table border=\"1\" class=\"dataframe\">\n",
       "  <thead>\n",
       "    <tr style=\"text-align: right;\">\n",
       "      <th></th>\n",
       "      <th>date</th>\n",
       "      <th>match_number</th>\n",
       "      <th>city</th>\n",
       "      <th>team_1</th>\n",
       "      <th>team_2</th>\n",
       "      <th>team_1_runs.total</th>\n",
       "      <th>team_2_runs.total</th>\n",
       "      <th>outcome_winner</th>\n",
       "      <th>player_of_match</th>\n",
       "      <th>team_1_over</th>\n",
       "      <th>team_2_over</th>\n",
       "      <th>toss_winner</th>\n",
       "      <th>toss_decision</th>\n",
       "      <th>team_1_runs.extras</th>\n",
       "      <th>team_2_runs.extras</th>\n",
       "      <th>team_1_extras.legbyes</th>\n",
       "      <th>team_2_extras.legbyes</th>\n",
       "      <th>team_1_extras.wides</th>\n",
       "      <th>team_2_extras.wides</th>\n",
       "      <th>team_1_extras.byes</th>\n",
       "      <th>team_2_extras.byes</th>\n",
       "      <th>team_1_extras.noballs</th>\n",
       "      <th>team_2_extras.noballs</th>\n",
       "      <th>officials_match_referees</th>\n",
       "      <th>officials_reserve_umpires</th>\n",
       "      <th>officials_tv_umpires</th>\n",
       "      <th>officials_umpires_1</th>\n",
       "      <th>officials_umpires_2</th>\n",
       "      <th>outcome_by_wickets</th>\n",
       "      <th>season</th>\n",
       "      <th>venue</th>\n",
       "      <th>outcome_by_runs</th>\n",
       "      <th>event_stage</th>\n",
       "      <th>outcome_method</th>\n",
       "    </tr>\n",
       "  </thead>\n",
       "  <tbody>\n",
       "    <tr>\n",
       "      <th>0</th>\n",
       "      <td>2008-04-18</td>\n",
       "      <td>1</td>\n",
       "      <td>Bangalore</td>\n",
       "      <td>Kolkata Knight Riders</td>\n",
       "      <td>Royal Challengers Bangalore</td>\n",
       "      <td>222.0</td>\n",
       "      <td>82.0</td>\n",
       "      <td>Kolkata Knight Riders</td>\n",
       "      <td>BB McCullum</td>\n",
       "      <td>19.0</td>\n",
       "      <td>15.0</td>\n",
       "      <td>Royal Challengers Bangalore</td>\n",
       "      <td>field</td>\n",
       "      <td>17.0</td>\n",
       "      <td>19.0</td>\n",
       "      <td>4.0</td>\n",
       "      <td>8.0</td>\n",
       "      <td>9.0</td>\n",
       "      <td>11.0</td>\n",
       "      <td>4.0</td>\n",
       "      <td>0.0</td>\n",
       "      <td>0.0</td>\n",
       "      <td>0.0</td>\n",
       "      <td>J Srinath</td>\n",
       "      <td>VN Kulkarni</td>\n",
       "      <td>AM Saheba</td>\n",
       "      <td>Asad Rauf</td>\n",
       "      <td>RE Koertzen</td>\n",
       "      <td>NaN</td>\n",
       "      <td>2008</td>\n",
       "      <td>MChinnaswamyStadium</td>\n",
       "      <td>140.0</td>\n",
       "      <td>group_stage</td>\n",
       "      <td>regular</td>\n",
       "    </tr>\n",
       "    <tr>\n",
       "      <th>1</th>\n",
       "      <td>2008-04-19</td>\n",
       "      <td>2</td>\n",
       "      <td>Chandigarh</td>\n",
       "      <td>Chennai Super Kings</td>\n",
       "      <td>Kings XI Punjab</td>\n",
       "      <td>240.0</td>\n",
       "      <td>207.0</td>\n",
       "      <td>Chennai Super Kings</td>\n",
       "      <td>MEK Hussey</td>\n",
       "      <td>19.0</td>\n",
       "      <td>19.0</td>\n",
       "      <td>Chennai Super Kings</td>\n",
       "      <td>bat</td>\n",
       "      <td>6.0</td>\n",
       "      <td>11.0</td>\n",
       "      <td>2.0</td>\n",
       "      <td>4.0</td>\n",
       "      <td>3.0</td>\n",
       "      <td>5.0</td>\n",
       "      <td>0.0</td>\n",
       "      <td>2.0</td>\n",
       "      <td>1.0</td>\n",
       "      <td>0.0</td>\n",
       "      <td>S Venkataraghavan</td>\n",
       "      <td>MSS Ranawat</td>\n",
       "      <td>RB Tiffin</td>\n",
       "      <td>MR Benson</td>\n",
       "      <td>SL Shastri</td>\n",
       "      <td>NaN</td>\n",
       "      <td>2008</td>\n",
       "      <td>PunjabCricketAssociationStadium</td>\n",
       "      <td>33.0</td>\n",
       "      <td>group_stage</td>\n",
       "      <td>regular</td>\n",
       "    </tr>\n",
       "    <tr>\n",
       "      <th>2</th>\n",
       "      <td>2008-04-19</td>\n",
       "      <td>3</td>\n",
       "      <td>Delhi</td>\n",
       "      <td>Rajasthan Royals</td>\n",
       "      <td>Delhi Daredevils</td>\n",
       "      <td>129.0</td>\n",
       "      <td>132.0</td>\n",
       "      <td>Delhi Daredevils</td>\n",
       "      <td>MF Maharoof</td>\n",
       "      <td>19.0</td>\n",
       "      <td>15.0</td>\n",
       "      <td>Rajasthan Royals</td>\n",
       "      <td>bat</td>\n",
       "      <td>7.0</td>\n",
       "      <td>10.0</td>\n",
       "      <td>3.0</td>\n",
       "      <td>0.0</td>\n",
       "      <td>3.0</td>\n",
       "      <td>10.0</td>\n",
       "      <td>1.0</td>\n",
       "      <td>0.0</td>\n",
       "      <td>0.0</td>\n",
       "      <td>0.0</td>\n",
       "      <td>GR Viswanath</td>\n",
       "      <td>NaN</td>\n",
       "      <td>IL Howell</td>\n",
       "      <td>Aleem Dar</td>\n",
       "      <td>GA Pratapkumar</td>\n",
       "      <td>9.0</td>\n",
       "      <td>2008</td>\n",
       "      <td>FerozShahKotla</td>\n",
       "      <td>NaN</td>\n",
       "      <td>group_stage</td>\n",
       "      <td>regular</td>\n",
       "    </tr>\n",
       "    <tr>\n",
       "      <th>3</th>\n",
       "      <td>2008-04-20</td>\n",
       "      <td>4</td>\n",
       "      <td>Kolkata</td>\n",
       "      <td>Deccan Chargers</td>\n",
       "      <td>Kolkata Knight Riders</td>\n",
       "      <td>110.0</td>\n",
       "      <td>112.0</td>\n",
       "      <td>Kolkata Knight Riders</td>\n",
       "      <td>DJ Hussey</td>\n",
       "      <td>18.0</td>\n",
       "      <td>18.0</td>\n",
       "      <td>Deccan Chargers</td>\n",
       "      <td>bat</td>\n",
       "      <td>10.0</td>\n",
       "      <td>28.0</td>\n",
       "      <td>4.0</td>\n",
       "      <td>8.0</td>\n",
       "      <td>4.0</td>\n",
       "      <td>15.0</td>\n",
       "      <td>0.0</td>\n",
       "      <td>4.0</td>\n",
       "      <td>2.0</td>\n",
       "      <td>1.0</td>\n",
       "      <td>FM Engineer</td>\n",
       "      <td>F Gomes</td>\n",
       "      <td>Asad Rauf</td>\n",
       "      <td>BF Bowden</td>\n",
       "      <td>K Hariharan</td>\n",
       "      <td>5.0</td>\n",
       "      <td>2008</td>\n",
       "      <td>EdenGardens</td>\n",
       "      <td>NaN</td>\n",
       "      <td>group_stage</td>\n",
       "      <td>regular</td>\n",
       "    </tr>\n",
       "    <tr>\n",
       "      <th>4</th>\n",
       "      <td>2008-04-20</td>\n",
       "      <td>5</td>\n",
       "      <td>Mumbai</td>\n",
       "      <td>Mumbai Indians</td>\n",
       "      <td>Royal Challengers Bangalore</td>\n",
       "      <td>165.0</td>\n",
       "      <td>166.0</td>\n",
       "      <td>Royal Challengers Bangalore</td>\n",
       "      <td>MV Boucher</td>\n",
       "      <td>19.0</td>\n",
       "      <td>19.0</td>\n",
       "      <td>Mumbai Indians</td>\n",
       "      <td>bat</td>\n",
       "      <td>11.0</td>\n",
       "      <td>5.0</td>\n",
       "      <td>6.0</td>\n",
       "      <td>0.0</td>\n",
       "      <td>3.0</td>\n",
       "      <td>5.0</td>\n",
       "      <td>2.0</td>\n",
       "      <td>0.0</td>\n",
       "      <td>0.0</td>\n",
       "      <td>0.0</td>\n",
       "      <td>J Srinath</td>\n",
       "      <td>SN Bandekar</td>\n",
       "      <td>AV Jayaprakash</td>\n",
       "      <td>SJ Davis</td>\n",
       "      <td>DJ Harper</td>\n",
       "      <td>5.0</td>\n",
       "      <td>2008</td>\n",
       "      <td>WankhedeStadium</td>\n",
       "      <td>NaN</td>\n",
       "      <td>group_stage</td>\n",
       "      <td>regular</td>\n",
       "    </tr>\n",
       "  </tbody>\n",
       "</table>\n",
       "</div>"
      ],
      "text/plain": [
       "         date  match_number        city                 team_1  \\\n",
       "0  2008-04-18             1   Bangalore  Kolkata Knight Riders   \n",
       "1  2008-04-19             2  Chandigarh    Chennai Super Kings   \n",
       "2  2008-04-19             3       Delhi       Rajasthan Royals   \n",
       "3  2008-04-20             4     Kolkata        Deccan Chargers   \n",
       "4  2008-04-20             5      Mumbai         Mumbai Indians   \n",
       "\n",
       "                        team_2  team_1_runs.total  team_2_runs.total  \\\n",
       "0  Royal Challengers Bangalore              222.0               82.0   \n",
       "1              Kings XI Punjab              240.0              207.0   \n",
       "2             Delhi Daredevils              129.0              132.0   \n",
       "3        Kolkata Knight Riders              110.0              112.0   \n",
       "4  Royal Challengers Bangalore              165.0              166.0   \n",
       "\n",
       "                outcome_winner player_of_match  team_1_over  team_2_over  \\\n",
       "0        Kolkata Knight Riders     BB McCullum         19.0         15.0   \n",
       "1          Chennai Super Kings      MEK Hussey         19.0         19.0   \n",
       "2             Delhi Daredevils     MF Maharoof         19.0         15.0   \n",
       "3        Kolkata Knight Riders       DJ Hussey         18.0         18.0   \n",
       "4  Royal Challengers Bangalore      MV Boucher         19.0         19.0   \n",
       "\n",
       "                   toss_winner toss_decision  team_1_runs.extras  \\\n",
       "0  Royal Challengers Bangalore         field                17.0   \n",
       "1          Chennai Super Kings           bat                 6.0   \n",
       "2             Rajasthan Royals           bat                 7.0   \n",
       "3              Deccan Chargers           bat                10.0   \n",
       "4               Mumbai Indians           bat                11.0   \n",
       "\n",
       "   team_2_runs.extras  team_1_extras.legbyes  team_2_extras.legbyes  \\\n",
       "0                19.0                    4.0                    8.0   \n",
       "1                11.0                    2.0                    4.0   \n",
       "2                10.0                    3.0                    0.0   \n",
       "3                28.0                    4.0                    8.0   \n",
       "4                 5.0                    6.0                    0.0   \n",
       "\n",
       "   team_1_extras.wides  team_2_extras.wides  team_1_extras.byes  \\\n",
       "0                  9.0                 11.0                 4.0   \n",
       "1                  3.0                  5.0                 0.0   \n",
       "2                  3.0                 10.0                 1.0   \n",
       "3                  4.0                 15.0                 0.0   \n",
       "4                  3.0                  5.0                 2.0   \n",
       "\n",
       "   team_2_extras.byes  team_1_extras.noballs  team_2_extras.noballs  \\\n",
       "0                 0.0                    0.0                    0.0   \n",
       "1                 2.0                    1.0                    0.0   \n",
       "2                 0.0                    0.0                    0.0   \n",
       "3                 4.0                    2.0                    1.0   \n",
       "4                 0.0                    0.0                    0.0   \n",
       "\n",
       "  officials_match_referees officials_reserve_umpires officials_tv_umpires  \\\n",
       "0                J Srinath               VN Kulkarni            AM Saheba   \n",
       "1        S Venkataraghavan               MSS Ranawat            RB Tiffin   \n",
       "2             GR Viswanath                       NaN            IL Howell   \n",
       "3              FM Engineer                   F Gomes            Asad Rauf   \n",
       "4                J Srinath               SN Bandekar       AV Jayaprakash   \n",
       "\n",
       "  officials_umpires_1 officials_umpires_2  outcome_by_wickets season  \\\n",
       "0           Asad Rauf         RE Koertzen                 NaN   2008   \n",
       "1           MR Benson          SL Shastri                 NaN   2008   \n",
       "2           Aleem Dar      GA Pratapkumar                 9.0   2008   \n",
       "3           BF Bowden         K Hariharan                 5.0   2008   \n",
       "4            SJ Davis           DJ Harper                 5.0   2008   \n",
       "\n",
       "                             venue  outcome_by_runs  event_stage  \\\n",
       "0              MChinnaswamyStadium            140.0  group_stage   \n",
       "1  PunjabCricketAssociationStadium             33.0  group_stage   \n",
       "2                   FerozShahKotla              NaN  group_stage   \n",
       "3                      EdenGardens              NaN  group_stage   \n",
       "4                  WankhedeStadium              NaN  group_stage   \n",
       "\n",
       "  outcome_method  \n",
       "0        regular  \n",
       "1        regular  \n",
       "2        regular  \n",
       "3        regular  \n",
       "4        regular  "
      ]
     },
     "execution_count": 112,
     "metadata": {},
     "output_type": "execute_result"
    }
   ],
   "source": [
    "pd.set_option('display.max_columns', 40)\n",
    "\n",
    "match_level_stats.head()"
   ]
  },
  {
   "cell_type": "markdown",
   "metadata": {},
   "source": [
    "Lets now standardise the names of columns \n",
    "\n",
    "And also we are going to create match level aggregate columns that are the sum of `team1.col + team2.col` for the given row"
   ]
  },
  {
   "cell_type": "code",
   "execution_count": 113,
   "metadata": {},
   "outputs": [],
   "source": [
    "match_level_stats.rename(columns={\"outcome_winner\": \"match_winner\"}, inplace=True)"
   ]
  },
  {
   "cell_type": "code",
   "execution_count": 114,
   "metadata": {},
   "outputs": [],
   "source": [
    "match_level_stats[\"match_extras\"] = match_level_stats[\"team_1_runs.extras\"] + match_level_stats[\"team_2_runs.extras\"]"
   ]
  },
  {
   "cell_type": "code",
   "execution_count": 115,
   "metadata": {},
   "outputs": [],
   "source": [
    "match_level_stats[\"match_legbyes\"] = match_level_stats[\"team_1_extras.legbyes\"] + match_level_stats[\"team_2_extras.legbyes\"]"
   ]
  },
  {
   "cell_type": "code",
   "execution_count": 116,
   "metadata": {},
   "outputs": [],
   "source": [
    "match_level_stats[\"match_wides\"] = match_level_stats[\"team_1_extras.wides\"] + match_level_stats[\"team_2_extras.wides\"]"
   ]
  },
  {
   "cell_type": "code",
   "execution_count": 117,
   "metadata": {},
   "outputs": [],
   "source": [
    "match_level_stats[\"match_byes\"] = match_level_stats[\"team_1_extras.byes\"] + match_level_stats[\"team_2_extras.byes\"]"
   ]
  },
  {
   "cell_type": "code",
   "execution_count": 118,
   "metadata": {},
   "outputs": [],
   "source": [
    "match_level_stats[\"match_byes\"] = match_level_stats[\"team_1_extras.byes\"] + match_level_stats[\"team_2_extras.byes\"]"
   ]
  },
  {
   "cell_type": "code",
   "execution_count": 119,
   "metadata": {},
   "outputs": [],
   "source": [
    "match_level_stats[\"match_noballs\"] = match_level_stats[\"team_1_extras.noballs\"] + match_level_stats[\"team_2_extras.noballs\"]"
   ]
  },
  {
   "cell_type": "code",
   "execution_count": 120,
   "metadata": {},
   "outputs": [
    {
     "data": {
      "text/html": [
       "<div>\n",
       "<style scoped>\n",
       "    .dataframe tbody tr th:only-of-type {\n",
       "        vertical-align: middle;\n",
       "    }\n",
       "\n",
       "    .dataframe tbody tr th {\n",
       "        vertical-align: top;\n",
       "    }\n",
       "\n",
       "    .dataframe thead th {\n",
       "        text-align: right;\n",
       "    }\n",
       "</style>\n",
       "<table border=\"1\" class=\"dataframe\">\n",
       "  <thead>\n",
       "    <tr style=\"text-align: right;\">\n",
       "      <th></th>\n",
       "      <th>date</th>\n",
       "      <th>match_number</th>\n",
       "      <th>city</th>\n",
       "      <th>team_1</th>\n",
       "      <th>team_2</th>\n",
       "      <th>team_1_runs.total</th>\n",
       "      <th>team_2_runs.total</th>\n",
       "      <th>match_winner</th>\n",
       "      <th>player_of_match</th>\n",
       "      <th>team_1_over</th>\n",
       "      <th>team_2_over</th>\n",
       "      <th>toss_winner</th>\n",
       "      <th>toss_decision</th>\n",
       "      <th>team_1_runs.extras</th>\n",
       "      <th>team_2_runs.extras</th>\n",
       "      <th>team_1_extras.legbyes</th>\n",
       "      <th>team_2_extras.legbyes</th>\n",
       "      <th>team_1_extras.wides</th>\n",
       "      <th>team_2_extras.wides</th>\n",
       "      <th>team_1_extras.byes</th>\n",
       "      <th>team_2_extras.byes</th>\n",
       "      <th>team_1_extras.noballs</th>\n",
       "      <th>team_2_extras.noballs</th>\n",
       "      <th>officials_match_referees</th>\n",
       "      <th>officials_reserve_umpires</th>\n",
       "      <th>officials_tv_umpires</th>\n",
       "      <th>officials_umpires_1</th>\n",
       "      <th>officials_umpires_2</th>\n",
       "      <th>outcome_by_wickets</th>\n",
       "      <th>season</th>\n",
       "      <th>venue</th>\n",
       "      <th>outcome_by_runs</th>\n",
       "      <th>event_stage</th>\n",
       "      <th>outcome_method</th>\n",
       "      <th>match_extras</th>\n",
       "      <th>match_legbyes</th>\n",
       "      <th>match_wides</th>\n",
       "      <th>match_byes</th>\n",
       "      <th>match_noballs</th>\n",
       "    </tr>\n",
       "  </thead>\n",
       "  <tbody>\n",
       "    <tr>\n",
       "      <th>0</th>\n",
       "      <td>2008-04-18</td>\n",
       "      <td>1</td>\n",
       "      <td>Bangalore</td>\n",
       "      <td>Kolkata Knight Riders</td>\n",
       "      <td>Royal Challengers Bangalore</td>\n",
       "      <td>222.0</td>\n",
       "      <td>82.0</td>\n",
       "      <td>Kolkata Knight Riders</td>\n",
       "      <td>BB McCullum</td>\n",
       "      <td>19.0</td>\n",
       "      <td>15.0</td>\n",
       "      <td>Royal Challengers Bangalore</td>\n",
       "      <td>field</td>\n",
       "      <td>17.0</td>\n",
       "      <td>19.0</td>\n",
       "      <td>4.0</td>\n",
       "      <td>8.0</td>\n",
       "      <td>9.0</td>\n",
       "      <td>11.0</td>\n",
       "      <td>4.0</td>\n",
       "      <td>0.0</td>\n",
       "      <td>0.0</td>\n",
       "      <td>0.0</td>\n",
       "      <td>J Srinath</td>\n",
       "      <td>VN Kulkarni</td>\n",
       "      <td>AM Saheba</td>\n",
       "      <td>Asad Rauf</td>\n",
       "      <td>RE Koertzen</td>\n",
       "      <td>NaN</td>\n",
       "      <td>2008</td>\n",
       "      <td>MChinnaswamyStadium</td>\n",
       "      <td>140.0</td>\n",
       "      <td>group_stage</td>\n",
       "      <td>regular</td>\n",
       "      <td>36.0</td>\n",
       "      <td>12.0</td>\n",
       "      <td>20.0</td>\n",
       "      <td>4.0</td>\n",
       "      <td>0.0</td>\n",
       "    </tr>\n",
       "    <tr>\n",
       "      <th>1</th>\n",
       "      <td>2008-04-19</td>\n",
       "      <td>2</td>\n",
       "      <td>Chandigarh</td>\n",
       "      <td>Chennai Super Kings</td>\n",
       "      <td>Kings XI Punjab</td>\n",
       "      <td>240.0</td>\n",
       "      <td>207.0</td>\n",
       "      <td>Chennai Super Kings</td>\n",
       "      <td>MEK Hussey</td>\n",
       "      <td>19.0</td>\n",
       "      <td>19.0</td>\n",
       "      <td>Chennai Super Kings</td>\n",
       "      <td>bat</td>\n",
       "      <td>6.0</td>\n",
       "      <td>11.0</td>\n",
       "      <td>2.0</td>\n",
       "      <td>4.0</td>\n",
       "      <td>3.0</td>\n",
       "      <td>5.0</td>\n",
       "      <td>0.0</td>\n",
       "      <td>2.0</td>\n",
       "      <td>1.0</td>\n",
       "      <td>0.0</td>\n",
       "      <td>S Venkataraghavan</td>\n",
       "      <td>MSS Ranawat</td>\n",
       "      <td>RB Tiffin</td>\n",
       "      <td>MR Benson</td>\n",
       "      <td>SL Shastri</td>\n",
       "      <td>NaN</td>\n",
       "      <td>2008</td>\n",
       "      <td>PunjabCricketAssociationStadium</td>\n",
       "      <td>33.0</td>\n",
       "      <td>group_stage</td>\n",
       "      <td>regular</td>\n",
       "      <td>17.0</td>\n",
       "      <td>6.0</td>\n",
       "      <td>8.0</td>\n",
       "      <td>2.0</td>\n",
       "      <td>1.0</td>\n",
       "    </tr>\n",
       "    <tr>\n",
       "      <th>2</th>\n",
       "      <td>2008-04-19</td>\n",
       "      <td>3</td>\n",
       "      <td>Delhi</td>\n",
       "      <td>Rajasthan Royals</td>\n",
       "      <td>Delhi Daredevils</td>\n",
       "      <td>129.0</td>\n",
       "      <td>132.0</td>\n",
       "      <td>Delhi Daredevils</td>\n",
       "      <td>MF Maharoof</td>\n",
       "      <td>19.0</td>\n",
       "      <td>15.0</td>\n",
       "      <td>Rajasthan Royals</td>\n",
       "      <td>bat</td>\n",
       "      <td>7.0</td>\n",
       "      <td>10.0</td>\n",
       "      <td>3.0</td>\n",
       "      <td>0.0</td>\n",
       "      <td>3.0</td>\n",
       "      <td>10.0</td>\n",
       "      <td>1.0</td>\n",
       "      <td>0.0</td>\n",
       "      <td>0.0</td>\n",
       "      <td>0.0</td>\n",
       "      <td>GR Viswanath</td>\n",
       "      <td>NaN</td>\n",
       "      <td>IL Howell</td>\n",
       "      <td>Aleem Dar</td>\n",
       "      <td>GA Pratapkumar</td>\n",
       "      <td>9.0</td>\n",
       "      <td>2008</td>\n",
       "      <td>FerozShahKotla</td>\n",
       "      <td>NaN</td>\n",
       "      <td>group_stage</td>\n",
       "      <td>regular</td>\n",
       "      <td>17.0</td>\n",
       "      <td>3.0</td>\n",
       "      <td>13.0</td>\n",
       "      <td>1.0</td>\n",
       "      <td>0.0</td>\n",
       "    </tr>\n",
       "    <tr>\n",
       "      <th>3</th>\n",
       "      <td>2008-04-20</td>\n",
       "      <td>4</td>\n",
       "      <td>Kolkata</td>\n",
       "      <td>Deccan Chargers</td>\n",
       "      <td>Kolkata Knight Riders</td>\n",
       "      <td>110.0</td>\n",
       "      <td>112.0</td>\n",
       "      <td>Kolkata Knight Riders</td>\n",
       "      <td>DJ Hussey</td>\n",
       "      <td>18.0</td>\n",
       "      <td>18.0</td>\n",
       "      <td>Deccan Chargers</td>\n",
       "      <td>bat</td>\n",
       "      <td>10.0</td>\n",
       "      <td>28.0</td>\n",
       "      <td>4.0</td>\n",
       "      <td>8.0</td>\n",
       "      <td>4.0</td>\n",
       "      <td>15.0</td>\n",
       "      <td>0.0</td>\n",
       "      <td>4.0</td>\n",
       "      <td>2.0</td>\n",
       "      <td>1.0</td>\n",
       "      <td>FM Engineer</td>\n",
       "      <td>F Gomes</td>\n",
       "      <td>Asad Rauf</td>\n",
       "      <td>BF Bowden</td>\n",
       "      <td>K Hariharan</td>\n",
       "      <td>5.0</td>\n",
       "      <td>2008</td>\n",
       "      <td>EdenGardens</td>\n",
       "      <td>NaN</td>\n",
       "      <td>group_stage</td>\n",
       "      <td>regular</td>\n",
       "      <td>38.0</td>\n",
       "      <td>12.0</td>\n",
       "      <td>19.0</td>\n",
       "      <td>4.0</td>\n",
       "      <td>3.0</td>\n",
       "    </tr>\n",
       "    <tr>\n",
       "      <th>4</th>\n",
       "      <td>2008-04-20</td>\n",
       "      <td>5</td>\n",
       "      <td>Mumbai</td>\n",
       "      <td>Mumbai Indians</td>\n",
       "      <td>Royal Challengers Bangalore</td>\n",
       "      <td>165.0</td>\n",
       "      <td>166.0</td>\n",
       "      <td>Royal Challengers Bangalore</td>\n",
       "      <td>MV Boucher</td>\n",
       "      <td>19.0</td>\n",
       "      <td>19.0</td>\n",
       "      <td>Mumbai Indians</td>\n",
       "      <td>bat</td>\n",
       "      <td>11.0</td>\n",
       "      <td>5.0</td>\n",
       "      <td>6.0</td>\n",
       "      <td>0.0</td>\n",
       "      <td>3.0</td>\n",
       "      <td>5.0</td>\n",
       "      <td>2.0</td>\n",
       "      <td>0.0</td>\n",
       "      <td>0.0</td>\n",
       "      <td>0.0</td>\n",
       "      <td>J Srinath</td>\n",
       "      <td>SN Bandekar</td>\n",
       "      <td>AV Jayaprakash</td>\n",
       "      <td>SJ Davis</td>\n",
       "      <td>DJ Harper</td>\n",
       "      <td>5.0</td>\n",
       "      <td>2008</td>\n",
       "      <td>WankhedeStadium</td>\n",
       "      <td>NaN</td>\n",
       "      <td>group_stage</td>\n",
       "      <td>regular</td>\n",
       "      <td>16.0</td>\n",
       "      <td>6.0</td>\n",
       "      <td>8.0</td>\n",
       "      <td>2.0</td>\n",
       "      <td>0.0</td>\n",
       "    </tr>\n",
       "  </tbody>\n",
       "</table>\n",
       "</div>"
      ],
      "text/plain": [
       "         date  match_number        city                 team_1  \\\n",
       "0  2008-04-18             1   Bangalore  Kolkata Knight Riders   \n",
       "1  2008-04-19             2  Chandigarh    Chennai Super Kings   \n",
       "2  2008-04-19             3       Delhi       Rajasthan Royals   \n",
       "3  2008-04-20             4     Kolkata        Deccan Chargers   \n",
       "4  2008-04-20             5      Mumbai         Mumbai Indians   \n",
       "\n",
       "                        team_2  team_1_runs.total  team_2_runs.total  \\\n",
       "0  Royal Challengers Bangalore              222.0               82.0   \n",
       "1              Kings XI Punjab              240.0              207.0   \n",
       "2             Delhi Daredevils              129.0              132.0   \n",
       "3        Kolkata Knight Riders              110.0              112.0   \n",
       "4  Royal Challengers Bangalore              165.0              166.0   \n",
       "\n",
       "                  match_winner player_of_match  team_1_over  team_2_over  \\\n",
       "0        Kolkata Knight Riders     BB McCullum         19.0         15.0   \n",
       "1          Chennai Super Kings      MEK Hussey         19.0         19.0   \n",
       "2             Delhi Daredevils     MF Maharoof         19.0         15.0   \n",
       "3        Kolkata Knight Riders       DJ Hussey         18.0         18.0   \n",
       "4  Royal Challengers Bangalore      MV Boucher         19.0         19.0   \n",
       "\n",
       "                   toss_winner toss_decision  team_1_runs.extras  \\\n",
       "0  Royal Challengers Bangalore         field                17.0   \n",
       "1          Chennai Super Kings           bat                 6.0   \n",
       "2             Rajasthan Royals           bat                 7.0   \n",
       "3              Deccan Chargers           bat                10.0   \n",
       "4               Mumbai Indians           bat                11.0   \n",
       "\n",
       "   team_2_runs.extras  team_1_extras.legbyes  team_2_extras.legbyes  \\\n",
       "0                19.0                    4.0                    8.0   \n",
       "1                11.0                    2.0                    4.0   \n",
       "2                10.0                    3.0                    0.0   \n",
       "3                28.0                    4.0                    8.0   \n",
       "4                 5.0                    6.0                    0.0   \n",
       "\n",
       "   team_1_extras.wides  team_2_extras.wides  team_1_extras.byes  \\\n",
       "0                  9.0                 11.0                 4.0   \n",
       "1                  3.0                  5.0                 0.0   \n",
       "2                  3.0                 10.0                 1.0   \n",
       "3                  4.0                 15.0                 0.0   \n",
       "4                  3.0                  5.0                 2.0   \n",
       "\n",
       "   team_2_extras.byes  team_1_extras.noballs  team_2_extras.noballs  \\\n",
       "0                 0.0                    0.0                    0.0   \n",
       "1                 2.0                    1.0                    0.0   \n",
       "2                 0.0                    0.0                    0.0   \n",
       "3                 4.0                    2.0                    1.0   \n",
       "4                 0.0                    0.0                    0.0   \n",
       "\n",
       "  officials_match_referees officials_reserve_umpires officials_tv_umpires  \\\n",
       "0                J Srinath               VN Kulkarni            AM Saheba   \n",
       "1        S Venkataraghavan               MSS Ranawat            RB Tiffin   \n",
       "2             GR Viswanath                       NaN            IL Howell   \n",
       "3              FM Engineer                   F Gomes            Asad Rauf   \n",
       "4                J Srinath               SN Bandekar       AV Jayaprakash   \n",
       "\n",
       "  officials_umpires_1 officials_umpires_2  outcome_by_wickets season  \\\n",
       "0           Asad Rauf         RE Koertzen                 NaN   2008   \n",
       "1           MR Benson          SL Shastri                 NaN   2008   \n",
       "2           Aleem Dar      GA Pratapkumar                 9.0   2008   \n",
       "3           BF Bowden         K Hariharan                 5.0   2008   \n",
       "4            SJ Davis           DJ Harper                 5.0   2008   \n",
       "\n",
       "                             venue  outcome_by_runs  event_stage  \\\n",
       "0              MChinnaswamyStadium            140.0  group_stage   \n",
       "1  PunjabCricketAssociationStadium             33.0  group_stage   \n",
       "2                   FerozShahKotla              NaN  group_stage   \n",
       "3                      EdenGardens              NaN  group_stage   \n",
       "4                  WankhedeStadium              NaN  group_stage   \n",
       "\n",
       "  outcome_method  match_extras  match_legbyes  match_wides  match_byes  \\\n",
       "0        regular          36.0           12.0         20.0         4.0   \n",
       "1        regular          17.0            6.0          8.0         2.0   \n",
       "2        regular          17.0            3.0         13.0         1.0   \n",
       "3        regular          38.0           12.0         19.0         4.0   \n",
       "4        regular          16.0            6.0          8.0         2.0   \n",
       "\n",
       "   match_noballs  \n",
       "0            0.0  \n",
       "1            1.0  \n",
       "2            0.0  \n",
       "3            3.0  \n",
       "4            0.0  "
      ]
     },
     "execution_count": 120,
     "metadata": {},
     "output_type": "execute_result"
    }
   ],
   "source": [
    "match_level_stats.head()"
   ]
  },
  {
   "cell_type": "code",
   "execution_count": 121,
   "metadata": {},
   "outputs": [
    {
     "data": {
      "text/html": [
       "<div>\n",
       "<style scoped>\n",
       "    .dataframe tbody tr th:only-of-type {\n",
       "        vertical-align: middle;\n",
       "    }\n",
       "\n",
       "    .dataframe tbody tr th {\n",
       "        vertical-align: top;\n",
       "    }\n",
       "\n",
       "    .dataframe thead th {\n",
       "        text-align: right;\n",
       "    }\n",
       "</style>\n",
       "<table border=\"1\" class=\"dataframe\">\n",
       "  <thead>\n",
       "    <tr style=\"text-align: right;\">\n",
       "      <th></th>\n",
       "      <th>date</th>\n",
       "      <th>match_number</th>\n",
       "      <th>innings</th>\n",
       "      <th>over</th>\n",
       "      <th>batter</th>\n",
       "      <th>bowler</th>\n",
       "      <th>stage</th>\n",
       "      <th>non_striker</th>\n",
       "      <th>runs.batter</th>\n",
       "      <th>runs.extras</th>\n",
       "      <th>runs.total</th>\n",
       "      <th>extras.legbyes</th>\n",
       "      <th>extras.wides</th>\n",
       "      <th>extras.byes</th>\n",
       "      <th>extras.noballs</th>\n",
       "      <th>wicket.kind</th>\n",
       "      <th>wicket.player_out</th>\n",
       "      <th>wicket.fielders</th>\n",
       "      <th>season</th>\n",
       "    </tr>\n",
       "  </thead>\n",
       "  <tbody>\n",
       "    <tr>\n",
       "      <th>0</th>\n",
       "      <td>2008-04-18</td>\n",
       "      <td>1</td>\n",
       "      <td>1</td>\n",
       "      <td>0</td>\n",
       "      <td>SC Ganguly</td>\n",
       "      <td>P Kumar</td>\n",
       "      <td>group</td>\n",
       "      <td>BB McCullum</td>\n",
       "      <td>0</td>\n",
       "      <td>1</td>\n",
       "      <td>1</td>\n",
       "      <td>1.0</td>\n",
       "      <td>NaN</td>\n",
       "      <td>NaN</td>\n",
       "      <td>NaN</td>\n",
       "      <td>NaN</td>\n",
       "      <td>NaN</td>\n",
       "      <td>NaN</td>\n",
       "      <td>2008</td>\n",
       "    </tr>\n",
       "    <tr>\n",
       "      <th>1</th>\n",
       "      <td>2008-04-18</td>\n",
       "      <td>1</td>\n",
       "      <td>1</td>\n",
       "      <td>0</td>\n",
       "      <td>BB McCullum</td>\n",
       "      <td>P Kumar</td>\n",
       "      <td>group</td>\n",
       "      <td>SC Ganguly</td>\n",
       "      <td>0</td>\n",
       "      <td>0</td>\n",
       "      <td>0</td>\n",
       "      <td>NaN</td>\n",
       "      <td>NaN</td>\n",
       "      <td>NaN</td>\n",
       "      <td>NaN</td>\n",
       "      <td>NaN</td>\n",
       "      <td>NaN</td>\n",
       "      <td>NaN</td>\n",
       "      <td>2008</td>\n",
       "    </tr>\n",
       "    <tr>\n",
       "      <th>2</th>\n",
       "      <td>2008-04-18</td>\n",
       "      <td>1</td>\n",
       "      <td>1</td>\n",
       "      <td>0</td>\n",
       "      <td>BB McCullum</td>\n",
       "      <td>P Kumar</td>\n",
       "      <td>group</td>\n",
       "      <td>SC Ganguly</td>\n",
       "      <td>0</td>\n",
       "      <td>1</td>\n",
       "      <td>1</td>\n",
       "      <td>NaN</td>\n",
       "      <td>1.0</td>\n",
       "      <td>NaN</td>\n",
       "      <td>NaN</td>\n",
       "      <td>NaN</td>\n",
       "      <td>NaN</td>\n",
       "      <td>NaN</td>\n",
       "      <td>2008</td>\n",
       "    </tr>\n",
       "    <tr>\n",
       "      <th>3</th>\n",
       "      <td>2008-04-18</td>\n",
       "      <td>1</td>\n",
       "      <td>1</td>\n",
       "      <td>0</td>\n",
       "      <td>BB McCullum</td>\n",
       "      <td>P Kumar</td>\n",
       "      <td>group</td>\n",
       "      <td>SC Ganguly</td>\n",
       "      <td>0</td>\n",
       "      <td>0</td>\n",
       "      <td>0</td>\n",
       "      <td>NaN</td>\n",
       "      <td>NaN</td>\n",
       "      <td>NaN</td>\n",
       "      <td>NaN</td>\n",
       "      <td>NaN</td>\n",
       "      <td>NaN</td>\n",
       "      <td>NaN</td>\n",
       "      <td>2008</td>\n",
       "    </tr>\n",
       "    <tr>\n",
       "      <th>4</th>\n",
       "      <td>2008-04-18</td>\n",
       "      <td>1</td>\n",
       "      <td>1</td>\n",
       "      <td>0</td>\n",
       "      <td>BB McCullum</td>\n",
       "      <td>P Kumar</td>\n",
       "      <td>group</td>\n",
       "      <td>SC Ganguly</td>\n",
       "      <td>0</td>\n",
       "      <td>0</td>\n",
       "      <td>0</td>\n",
       "      <td>NaN</td>\n",
       "      <td>NaN</td>\n",
       "      <td>NaN</td>\n",
       "      <td>NaN</td>\n",
       "      <td>NaN</td>\n",
       "      <td>NaN</td>\n",
       "      <td>NaN</td>\n",
       "      <td>2008</td>\n",
       "    </tr>\n",
       "    <tr>\n",
       "      <th>5</th>\n",
       "      <td>2008-04-18</td>\n",
       "      <td>1</td>\n",
       "      <td>1</td>\n",
       "      <td>0</td>\n",
       "      <td>BB McCullum</td>\n",
       "      <td>P Kumar</td>\n",
       "      <td>group</td>\n",
       "      <td>SC Ganguly</td>\n",
       "      <td>0</td>\n",
       "      <td>0</td>\n",
       "      <td>0</td>\n",
       "      <td>NaN</td>\n",
       "      <td>NaN</td>\n",
       "      <td>NaN</td>\n",
       "      <td>NaN</td>\n",
       "      <td>NaN</td>\n",
       "      <td>NaN</td>\n",
       "      <td>NaN</td>\n",
       "      <td>2008</td>\n",
       "    </tr>\n",
       "    <tr>\n",
       "      <th>6</th>\n",
       "      <td>2008-04-18</td>\n",
       "      <td>1</td>\n",
       "      <td>1</td>\n",
       "      <td>0</td>\n",
       "      <td>BB McCullum</td>\n",
       "      <td>P Kumar</td>\n",
       "      <td>group</td>\n",
       "      <td>SC Ganguly</td>\n",
       "      <td>0</td>\n",
       "      <td>1</td>\n",
       "      <td>1</td>\n",
       "      <td>1.0</td>\n",
       "      <td>NaN</td>\n",
       "      <td>NaN</td>\n",
       "      <td>NaN</td>\n",
       "      <td>NaN</td>\n",
       "      <td>NaN</td>\n",
       "      <td>NaN</td>\n",
       "      <td>2008</td>\n",
       "    </tr>\n",
       "    <tr>\n",
       "      <th>7</th>\n",
       "      <td>2008-04-18</td>\n",
       "      <td>1</td>\n",
       "      <td>1</td>\n",
       "      <td>1</td>\n",
       "      <td>BB McCullum</td>\n",
       "      <td>Z Khan</td>\n",
       "      <td>group</td>\n",
       "      <td>SC Ganguly</td>\n",
       "      <td>0</td>\n",
       "      <td>0</td>\n",
       "      <td>0</td>\n",
       "      <td>NaN</td>\n",
       "      <td>NaN</td>\n",
       "      <td>NaN</td>\n",
       "      <td>NaN</td>\n",
       "      <td>NaN</td>\n",
       "      <td>NaN</td>\n",
       "      <td>NaN</td>\n",
       "      <td>2008</td>\n",
       "    </tr>\n",
       "    <tr>\n",
       "      <th>8</th>\n",
       "      <td>2008-04-18</td>\n",
       "      <td>1</td>\n",
       "      <td>1</td>\n",
       "      <td>1</td>\n",
       "      <td>BB McCullum</td>\n",
       "      <td>Z Khan</td>\n",
       "      <td>group</td>\n",
       "      <td>SC Ganguly</td>\n",
       "      <td>4</td>\n",
       "      <td>0</td>\n",
       "      <td>4</td>\n",
       "      <td>NaN</td>\n",
       "      <td>NaN</td>\n",
       "      <td>NaN</td>\n",
       "      <td>NaN</td>\n",
       "      <td>NaN</td>\n",
       "      <td>NaN</td>\n",
       "      <td>NaN</td>\n",
       "      <td>2008</td>\n",
       "    </tr>\n",
       "    <tr>\n",
       "      <th>9</th>\n",
       "      <td>2008-04-18</td>\n",
       "      <td>1</td>\n",
       "      <td>1</td>\n",
       "      <td>1</td>\n",
       "      <td>BB McCullum</td>\n",
       "      <td>Z Khan</td>\n",
       "      <td>group</td>\n",
       "      <td>SC Ganguly</td>\n",
       "      <td>4</td>\n",
       "      <td>0</td>\n",
       "      <td>4</td>\n",
       "      <td>NaN</td>\n",
       "      <td>NaN</td>\n",
       "      <td>NaN</td>\n",
       "      <td>NaN</td>\n",
       "      <td>NaN</td>\n",
       "      <td>NaN</td>\n",
       "      <td>NaN</td>\n",
       "      <td>2008</td>\n",
       "    </tr>\n",
       "  </tbody>\n",
       "</table>\n",
       "</div>"
      ],
      "text/plain": [
       "         date  match_number  innings  over       batter   bowler  stage  \\\n",
       "0  2008-04-18             1        1     0   SC Ganguly  P Kumar  group   \n",
       "1  2008-04-18             1        1     0  BB McCullum  P Kumar  group   \n",
       "2  2008-04-18             1        1     0  BB McCullum  P Kumar  group   \n",
       "3  2008-04-18             1        1     0  BB McCullum  P Kumar  group   \n",
       "4  2008-04-18             1        1     0  BB McCullum  P Kumar  group   \n",
       "5  2008-04-18             1        1     0  BB McCullum  P Kumar  group   \n",
       "6  2008-04-18             1        1     0  BB McCullum  P Kumar  group   \n",
       "7  2008-04-18             1        1     1  BB McCullum   Z Khan  group   \n",
       "8  2008-04-18             1        1     1  BB McCullum   Z Khan  group   \n",
       "9  2008-04-18             1        1     1  BB McCullum   Z Khan  group   \n",
       "\n",
       "   non_striker  runs.batter  runs.extras  runs.total  extras.legbyes  \\\n",
       "0  BB McCullum            0            1           1             1.0   \n",
       "1   SC Ganguly            0            0           0             NaN   \n",
       "2   SC Ganguly            0            1           1             NaN   \n",
       "3   SC Ganguly            0            0           0             NaN   \n",
       "4   SC Ganguly            0            0           0             NaN   \n",
       "5   SC Ganguly            0            0           0             NaN   \n",
       "6   SC Ganguly            0            1           1             1.0   \n",
       "7   SC Ganguly            0            0           0             NaN   \n",
       "8   SC Ganguly            4            0           4             NaN   \n",
       "9   SC Ganguly            4            0           4             NaN   \n",
       "\n",
       "   extras.wides  extras.byes  extras.noballs wicket.kind wicket.player_out  \\\n",
       "0           NaN          NaN             NaN         NaN               NaN   \n",
       "1           NaN          NaN             NaN         NaN               NaN   \n",
       "2           1.0          NaN             NaN         NaN               NaN   \n",
       "3           NaN          NaN             NaN         NaN               NaN   \n",
       "4           NaN          NaN             NaN         NaN               NaN   \n",
       "5           NaN          NaN             NaN         NaN               NaN   \n",
       "6           NaN          NaN             NaN         NaN               NaN   \n",
       "7           NaN          NaN             NaN         NaN               NaN   \n",
       "8           NaN          NaN             NaN         NaN               NaN   \n",
       "9           NaN          NaN             NaN         NaN               NaN   \n",
       "\n",
       "  wicket.fielders season  \n",
       "0             NaN   2008  \n",
       "1             NaN   2008  \n",
       "2             NaN   2008  \n",
       "3             NaN   2008  \n",
       "4             NaN   2008  \n",
       "5             NaN   2008  \n",
       "6             NaN   2008  \n",
       "7             NaN   2008  \n",
       "8             NaN   2008  \n",
       "9             NaN   2008  "
      ]
     },
     "execution_count": 121,
     "metadata": {},
     "output_type": "execute_result"
    }
   ],
   "source": [
    "ball_by_ball.head(10)"
   ]
  },
  {
   "cell_type": "markdown",
   "metadata": {},
   "source": [
    "It would be nice for us to add the number of 4's and 6's in a match \n",
    " - We do that by grouping `ball_by_ball` by  `date`, `match_number`, `runs.batter` and get the count of each distinct run scored that is [0,1,2,3,4,5,6]"
   ]
  },
  {
   "cell_type": "code",
   "execution_count": 122,
   "metadata": {},
   "outputs": [],
   "source": [
    "runs_groupby= ball_by_ball.groupby(['date', 'match_number', 'runs.batter'])['runs.batter'].agg([\"count\"])"
   ]
  },
  {
   "cell_type": "code",
   "execution_count": 123,
   "metadata": {},
   "outputs": [
    {
     "data": {
      "text/html": [
       "<div>\n",
       "<style scoped>\n",
       "    .dataframe tbody tr th:only-of-type {\n",
       "        vertical-align: middle;\n",
       "    }\n",
       "\n",
       "    .dataframe tbody tr th {\n",
       "        vertical-align: top;\n",
       "    }\n",
       "\n",
       "    .dataframe thead th {\n",
       "        text-align: right;\n",
       "    }\n",
       "</style>\n",
       "<table border=\"1\" class=\"dataframe\">\n",
       "  <thead>\n",
       "    <tr style=\"text-align: right;\">\n",
       "      <th></th>\n",
       "      <th></th>\n",
       "      <th></th>\n",
       "      <th>count</th>\n",
       "    </tr>\n",
       "    <tr>\n",
       "      <th>date</th>\n",
       "      <th>match_number</th>\n",
       "      <th>runs.batter</th>\n",
       "      <th></th>\n",
       "    </tr>\n",
       "  </thead>\n",
       "  <tbody>\n",
       "    <tr>\n",
       "      <th rowspan=\"5\" valign=\"top\">2008-04-18</th>\n",
       "      <th rowspan=\"5\" valign=\"top\">1</th>\n",
       "      <th>0</th>\n",
       "      <td>110</td>\n",
       "    </tr>\n",
       "    <tr>\n",
       "      <th>1</th>\n",
       "      <td>66</td>\n",
       "    </tr>\n",
       "    <tr>\n",
       "      <th>2</th>\n",
       "      <td>14</td>\n",
       "    </tr>\n",
       "    <tr>\n",
       "      <th>4</th>\n",
       "      <td>18</td>\n",
       "    </tr>\n",
       "    <tr>\n",
       "      <th>6</th>\n",
       "      <td>17</td>\n",
       "    </tr>\n",
       "    <tr>\n",
       "      <th>...</th>\n",
       "      <th>...</th>\n",
       "      <th>...</th>\n",
       "      <td>...</td>\n",
       "    </tr>\n",
       "    <tr>\n",
       "      <th rowspan=\"5\" valign=\"top\">2024-05-26</th>\n",
       "      <th rowspan=\"5\" valign=\"top\">73</th>\n",
       "      <th>0</th>\n",
       "      <td>90</td>\n",
       "    </tr>\n",
       "    <tr>\n",
       "      <th>1</th>\n",
       "      <td>57</td>\n",
       "    </tr>\n",
       "    <tr>\n",
       "      <th>2</th>\n",
       "      <td>10</td>\n",
       "    </tr>\n",
       "    <tr>\n",
       "      <th>4</th>\n",
       "      <td>18</td>\n",
       "    </tr>\n",
       "    <tr>\n",
       "      <th>6</th>\n",
       "      <td>9</td>\n",
       "    </tr>\n",
       "  </tbody>\n",
       "</table>\n",
       "<p>6068 rows × 1 columns</p>\n",
       "</div>"
      ],
      "text/plain": [
       "                                     count\n",
       "date       match_number runs.batter       \n",
       "2008-04-18 1            0              110\n",
       "                        1               66\n",
       "                        2               14\n",
       "                        4               18\n",
       "                        6               17\n",
       "...                                    ...\n",
       "2024-05-26 73           0               90\n",
       "                        1               57\n",
       "                        2               10\n",
       "                        4               18\n",
       "                        6                9\n",
       "\n",
       "[6068 rows x 1 columns]"
      ]
     },
     "execution_count": 123,
     "metadata": {},
     "output_type": "execute_result"
    }
   ],
   "source": [
    "runs_groupby"
   ]
  },
  {
   "cell_type": "code",
   "execution_count": 124,
   "metadata": {},
   "outputs": [],
   "source": [
    "runs_df = runs_groupby.reset_index()"
   ]
  },
  {
   "cell_type": "markdown",
   "metadata": {},
   "source": [
    "Now we are only interested in number of 4s and 6s hence filtering by them"
   ]
  },
  {
   "cell_type": "code",
   "execution_count": 125,
   "metadata": {},
   "outputs": [],
   "source": [
    "runs_df = runs_df[(runs_df['runs.batter'] == 4) | (runs_df['runs.batter'] == 6) ].sort_values(by=['date','match_number'])"
   ]
  },
  {
   "cell_type": "code",
   "execution_count": 126,
   "metadata": {},
   "outputs": [
    {
     "data": {
      "text/html": [
       "<div>\n",
       "<style scoped>\n",
       "    .dataframe tbody tr th:only-of-type {\n",
       "        vertical-align: middle;\n",
       "    }\n",
       "\n",
       "    .dataframe tbody tr th {\n",
       "        vertical-align: top;\n",
       "    }\n",
       "\n",
       "    .dataframe thead th {\n",
       "        text-align: right;\n",
       "    }\n",
       "</style>\n",
       "<table border=\"1\" class=\"dataframe\">\n",
       "  <thead>\n",
       "    <tr style=\"text-align: right;\">\n",
       "      <th></th>\n",
       "      <th>date</th>\n",
       "      <th>match_number</th>\n",
       "      <th>runs.batter</th>\n",
       "      <th>count</th>\n",
       "    </tr>\n",
       "  </thead>\n",
       "  <tbody>\n",
       "    <tr>\n",
       "      <th>3</th>\n",
       "      <td>2008-04-18</td>\n",
       "      <td>1</td>\n",
       "      <td>4</td>\n",
       "      <td>18</td>\n",
       "    </tr>\n",
       "    <tr>\n",
       "      <th>4</th>\n",
       "      <td>2008-04-18</td>\n",
       "      <td>1</td>\n",
       "      <td>6</td>\n",
       "      <td>17</td>\n",
       "    </tr>\n",
       "    <tr>\n",
       "      <th>8</th>\n",
       "      <td>2008-04-19</td>\n",
       "      <td>2</td>\n",
       "      <td>4</td>\n",
       "      <td>38</td>\n",
       "    </tr>\n",
       "    <tr>\n",
       "      <th>9</th>\n",
       "      <td>2008-04-19</td>\n",
       "      <td>2</td>\n",
       "      <td>6</td>\n",
       "      <td>25</td>\n",
       "    </tr>\n",
       "    <tr>\n",
       "      <th>13</th>\n",
       "      <td>2008-04-19</td>\n",
       "      <td>3</td>\n",
       "      <td>4</td>\n",
       "      <td>32</td>\n",
       "    </tr>\n",
       "    <tr>\n",
       "      <th>...</th>\n",
       "      <td>...</td>\n",
       "      <td>...</td>\n",
       "      <td>...</td>\n",
       "      <td>...</td>\n",
       "    </tr>\n",
       "    <tr>\n",
       "      <th>6057</th>\n",
       "      <td>2024-05-22</td>\n",
       "      <td>71</td>\n",
       "      <td>6</td>\n",
       "      <td>13</td>\n",
       "    </tr>\n",
       "    <tr>\n",
       "      <th>6061</th>\n",
       "      <td>2024-05-24</td>\n",
       "      <td>72</td>\n",
       "      <td>4</td>\n",
       "      <td>24</td>\n",
       "    </tr>\n",
       "    <tr>\n",
       "      <th>6062</th>\n",
       "      <td>2024-05-24</td>\n",
       "      <td>72</td>\n",
       "      <td>6</td>\n",
       "      <td>14</td>\n",
       "    </tr>\n",
       "    <tr>\n",
       "      <th>6066</th>\n",
       "      <td>2024-05-26</td>\n",
       "      <td>73</td>\n",
       "      <td>4</td>\n",
       "      <td>18</td>\n",
       "    </tr>\n",
       "    <tr>\n",
       "      <th>6067</th>\n",
       "      <td>2024-05-26</td>\n",
       "      <td>73</td>\n",
       "      <td>6</td>\n",
       "      <td>9</td>\n",
       "    </tr>\n",
       "  </tbody>\n",
       "</table>\n",
       "<p>2190 rows × 4 columns</p>\n",
       "</div>"
      ],
      "text/plain": [
       "            date  match_number  runs.batter  count\n",
       "3     2008-04-18             1            4     18\n",
       "4     2008-04-18             1            6     17\n",
       "8     2008-04-19             2            4     38\n",
       "9     2008-04-19             2            6     25\n",
       "13    2008-04-19             3            4     32\n",
       "...          ...           ...          ...    ...\n",
       "6057  2024-05-22            71            6     13\n",
       "6061  2024-05-24            72            4     24\n",
       "6062  2024-05-24            72            6     14\n",
       "6066  2024-05-26            73            4     18\n",
       "6067  2024-05-26            73            6      9\n",
       "\n",
       "[2190 rows x 4 columns]"
      ]
     },
     "execution_count": 126,
     "metadata": {},
     "output_type": "execute_result"
    }
   ],
   "source": [
    "runs_df"
   ]
  },
  {
   "cell_type": "markdown",
   "metadata": {},
   "source": [
    "Simply creating a pivot table to clearly understand the data in `runs_df` in the format we need"
   ]
  },
  {
   "cell_type": "code",
   "execution_count": 127,
   "metadata": {},
   "outputs": [],
   "source": [
    "runs_pivot = runs_df.pivot(index=[\"date\", \"match_number\"], columns=\"runs.batter\", values=[\"count\"])"
   ]
  },
  {
   "cell_type": "code",
   "execution_count": 128,
   "metadata": {},
   "outputs": [
    {
     "data": {
      "text/html": [
       "<div>\n",
       "<style scoped>\n",
       "    .dataframe tbody tr th:only-of-type {\n",
       "        vertical-align: middle;\n",
       "    }\n",
       "\n",
       "    .dataframe tbody tr th {\n",
       "        vertical-align: top;\n",
       "    }\n",
       "\n",
       "    .dataframe thead tr th {\n",
       "        text-align: left;\n",
       "    }\n",
       "\n",
       "    .dataframe thead tr:last-of-type th {\n",
       "        text-align: right;\n",
       "    }\n",
       "</style>\n",
       "<table border=\"1\" class=\"dataframe\">\n",
       "  <thead>\n",
       "    <tr>\n",
       "      <th></th>\n",
       "      <th></th>\n",
       "      <th colspan=\"2\" halign=\"left\">count</th>\n",
       "    </tr>\n",
       "    <tr>\n",
       "      <th></th>\n",
       "      <th>runs.batter</th>\n",
       "      <th>4</th>\n",
       "      <th>6</th>\n",
       "    </tr>\n",
       "    <tr>\n",
       "      <th>date</th>\n",
       "      <th>match_number</th>\n",
       "      <th></th>\n",
       "      <th></th>\n",
       "    </tr>\n",
       "  </thead>\n",
       "  <tbody>\n",
       "    <tr>\n",
       "      <th>2008-04-18</th>\n",
       "      <th>1</th>\n",
       "      <td>18</td>\n",
       "      <td>17</td>\n",
       "    </tr>\n",
       "    <tr>\n",
       "      <th rowspan=\"2\" valign=\"top\">2008-04-19</th>\n",
       "      <th>2</th>\n",
       "      <td>38</td>\n",
       "      <td>25</td>\n",
       "    </tr>\n",
       "    <tr>\n",
       "      <th>3</th>\n",
       "      <td>32</td>\n",
       "      <td>4</td>\n",
       "    </tr>\n",
       "    <tr>\n",
       "      <th rowspan=\"2\" valign=\"top\">2008-04-20</th>\n",
       "      <th>4</th>\n",
       "      <td>11</td>\n",
       "      <td>10</td>\n",
       "    </tr>\n",
       "    <tr>\n",
       "      <th>5</th>\n",
       "      <td>33</td>\n",
       "      <td>11</td>\n",
       "    </tr>\n",
       "    <tr>\n",
       "      <th>...</th>\n",
       "      <th>...</th>\n",
       "      <td>...</td>\n",
       "      <td>...</td>\n",
       "    </tr>\n",
       "    <tr>\n",
       "      <th>2024-05-19</th>\n",
       "      <th>69</th>\n",
       "      <td>31</td>\n",
       "      <td>26</td>\n",
       "    </tr>\n",
       "    <tr>\n",
       "      <th>2024-05-21</th>\n",
       "      <th>70</th>\n",
       "      <td>29</td>\n",
       "      <td>16</td>\n",
       "    </tr>\n",
       "    <tr>\n",
       "      <th>2024-05-22</th>\n",
       "      <th>71</th>\n",
       "      <td>33</td>\n",
       "      <td>13</td>\n",
       "    </tr>\n",
       "    <tr>\n",
       "      <th>2024-05-24</th>\n",
       "      <th>72</th>\n",
       "      <td>24</td>\n",
       "      <td>14</td>\n",
       "    </tr>\n",
       "    <tr>\n",
       "      <th>2024-05-26</th>\n",
       "      <th>73</th>\n",
       "      <td>18</td>\n",
       "      <td>9</td>\n",
       "    </tr>\n",
       "  </tbody>\n",
       "</table>\n",
       "<p>1095 rows × 2 columns</p>\n",
       "</div>"
      ],
      "text/plain": [
       "                        count    \n",
       "runs.batter                 4   6\n",
       "date       match_number          \n",
       "2008-04-18 1               18  17\n",
       "2008-04-19 2               38  25\n",
       "           3               32   4\n",
       "2008-04-20 4               11  10\n",
       "           5               33  11\n",
       "...                       ...  ..\n",
       "2024-05-19 69              31  26\n",
       "2024-05-21 70              29  16\n",
       "2024-05-22 71              33  13\n",
       "2024-05-24 72              24  14\n",
       "2024-05-26 73              18   9\n",
       "\n",
       "[1095 rows x 2 columns]"
      ]
     },
     "execution_count": 128,
     "metadata": {},
     "output_type": "execute_result"
    }
   ],
   "source": [
    "runs_pivot"
   ]
  },
  {
   "cell_type": "code",
   "execution_count": 129,
   "metadata": {},
   "outputs": [],
   "source": [
    "runs_pivot.reset_index(inplace=True)"
   ]
  },
  {
   "cell_type": "markdown",
   "metadata": {},
   "source": [
    "Even after flattening `runs_pivot` using `reset_index()` we have the column names as tuples wwhich we covert into string for standardisation and ease of use"
   ]
  },
  {
   "cell_type": "code",
   "execution_count": 130,
   "metadata": {},
   "outputs": [
    {
     "data": {
      "text/plain": [
       "array([('date', ''), ('match_number', ''), ('count', 4), ('count', 6)],\n",
       "      dtype=object)"
      ]
     },
     "execution_count": 130,
     "metadata": {},
     "output_type": "execute_result"
    }
   ],
   "source": [
    "runs_pivot.columns.values"
   ]
  },
  {
   "cell_type": "markdown",
   "metadata": {},
   "source": [
    "We are joining the tuple elements with `_` using concatenation and list comprehension"
   ]
  },
  {
   "cell_type": "code",
   "execution_count": 131,
   "metadata": {},
   "outputs": [],
   "source": [
    "runs_pivot.columns = [col[0] + \"_\" + str(col[1]) for col in runs_pivot.columns.values]"
   ]
  },
  {
   "cell_type": "code",
   "execution_count": 132,
   "metadata": {},
   "outputs": [
    {
     "data": {
      "text/plain": [
       "Index(['date_', 'match_number_', 'count_4', 'count_6'], dtype='object')"
      ]
     },
     "execution_count": 132,
     "metadata": {},
     "output_type": "execute_result"
    }
   ],
   "source": [
    "runs_pivot.columns"
   ]
  },
  {
   "cell_type": "markdown",
   "metadata": {},
   "source": [
    "Now we will want to ensure standardised names in `runs_pivot` so renaming them accordingly"
   ]
  },
  {
   "cell_type": "code",
   "execution_count": 133,
   "metadata": {},
   "outputs": [],
   "source": [
    "runs_pivot = runs_pivot.rename(columns={\"date_\": \"date\", \"match_number_\": \"match_number\", \"count_0\": \"match_dotballs\" , \"count_4\": \"match_4's\" , \"count_6\": \"match_6's\"} )\n"
   ]
  },
  {
   "cell_type": "code",
   "execution_count": 134,
   "metadata": {},
   "outputs": [
    {
     "data": {
      "text/html": [
       "<div>\n",
       "<style scoped>\n",
       "    .dataframe tbody tr th:only-of-type {\n",
       "        vertical-align: middle;\n",
       "    }\n",
       "\n",
       "    .dataframe tbody tr th {\n",
       "        vertical-align: top;\n",
       "    }\n",
       "\n",
       "    .dataframe thead th {\n",
       "        text-align: right;\n",
       "    }\n",
       "</style>\n",
       "<table border=\"1\" class=\"dataframe\">\n",
       "  <thead>\n",
       "    <tr style=\"text-align: right;\">\n",
       "      <th></th>\n",
       "      <th>date</th>\n",
       "      <th>match_number</th>\n",
       "      <th>match_4's</th>\n",
       "      <th>match_6's</th>\n",
       "    </tr>\n",
       "  </thead>\n",
       "  <tbody>\n",
       "    <tr>\n",
       "      <th>0</th>\n",
       "      <td>2008-04-18</td>\n",
       "      <td>1</td>\n",
       "      <td>18</td>\n",
       "      <td>17</td>\n",
       "    </tr>\n",
       "    <tr>\n",
       "      <th>1</th>\n",
       "      <td>2008-04-19</td>\n",
       "      <td>2</td>\n",
       "      <td>38</td>\n",
       "      <td>25</td>\n",
       "    </tr>\n",
       "    <tr>\n",
       "      <th>2</th>\n",
       "      <td>2008-04-19</td>\n",
       "      <td>3</td>\n",
       "      <td>32</td>\n",
       "      <td>4</td>\n",
       "    </tr>\n",
       "    <tr>\n",
       "      <th>3</th>\n",
       "      <td>2008-04-20</td>\n",
       "      <td>4</td>\n",
       "      <td>11</td>\n",
       "      <td>10</td>\n",
       "    </tr>\n",
       "    <tr>\n",
       "      <th>4</th>\n",
       "      <td>2008-04-20</td>\n",
       "      <td>5</td>\n",
       "      <td>33</td>\n",
       "      <td>11</td>\n",
       "    </tr>\n",
       "    <tr>\n",
       "      <th>...</th>\n",
       "      <td>...</td>\n",
       "      <td>...</td>\n",
       "      <td>...</td>\n",
       "      <td>...</td>\n",
       "    </tr>\n",
       "    <tr>\n",
       "      <th>1090</th>\n",
       "      <td>2024-05-19</td>\n",
       "      <td>69</td>\n",
       "      <td>31</td>\n",
       "      <td>26</td>\n",
       "    </tr>\n",
       "    <tr>\n",
       "      <th>1091</th>\n",
       "      <td>2024-05-21</td>\n",
       "      <td>70</td>\n",
       "      <td>29</td>\n",
       "      <td>16</td>\n",
       "    </tr>\n",
       "    <tr>\n",
       "      <th>1092</th>\n",
       "      <td>2024-05-22</td>\n",
       "      <td>71</td>\n",
       "      <td>33</td>\n",
       "      <td>13</td>\n",
       "    </tr>\n",
       "    <tr>\n",
       "      <th>1093</th>\n",
       "      <td>2024-05-24</td>\n",
       "      <td>72</td>\n",
       "      <td>24</td>\n",
       "      <td>14</td>\n",
       "    </tr>\n",
       "    <tr>\n",
       "      <th>1094</th>\n",
       "      <td>2024-05-26</td>\n",
       "      <td>73</td>\n",
       "      <td>18</td>\n",
       "      <td>9</td>\n",
       "    </tr>\n",
       "  </tbody>\n",
       "</table>\n",
       "<p>1095 rows × 4 columns</p>\n",
       "</div>"
      ],
      "text/plain": [
       "            date  match_number  match_4's  match_6's\n",
       "0     2008-04-18             1         18         17\n",
       "1     2008-04-19             2         38         25\n",
       "2     2008-04-19             3         32          4\n",
       "3     2008-04-20             4         11         10\n",
       "4     2008-04-20             5         33         11\n",
       "...          ...           ...        ...        ...\n",
       "1090  2024-05-19            69         31         26\n",
       "1091  2024-05-21            70         29         16\n",
       "1092  2024-05-22            71         33         13\n",
       "1093  2024-05-24            72         24         14\n",
       "1094  2024-05-26            73         18          9\n",
       "\n",
       "[1095 rows x 4 columns]"
      ]
     },
     "execution_count": 134,
     "metadata": {},
     "output_type": "execute_result"
    }
   ],
   "source": [
    "runs_pivot"
   ]
  },
  {
   "cell_type": "markdown",
   "metadata": {},
   "source": [
    "Now lets merge by `date` and `match_number` to add these columns to `match_level_stats`"
   ]
  },
  {
   "cell_type": "code",
   "execution_count": 135,
   "metadata": {},
   "outputs": [],
   "source": [
    "match_level_stats = pd.merge(match_level_stats, runs_pivot, how=\"outer\", on=[\"date\", \"match_number\"])"
   ]
  },
  {
   "cell_type": "code",
   "execution_count": 136,
   "metadata": {},
   "outputs": [
    {
     "data": {
      "text/html": [
       "<div>\n",
       "<style scoped>\n",
       "    .dataframe tbody tr th:only-of-type {\n",
       "        vertical-align: middle;\n",
       "    }\n",
       "\n",
       "    .dataframe tbody tr th {\n",
       "        vertical-align: top;\n",
       "    }\n",
       "\n",
       "    .dataframe thead th {\n",
       "        text-align: right;\n",
       "    }\n",
       "</style>\n",
       "<table border=\"1\" class=\"dataframe\">\n",
       "  <thead>\n",
       "    <tr style=\"text-align: right;\">\n",
       "      <th></th>\n",
       "      <th>date</th>\n",
       "      <th>match_number</th>\n",
       "      <th>city</th>\n",
       "      <th>team_1</th>\n",
       "      <th>team_2</th>\n",
       "      <th>team_1_runs.total</th>\n",
       "      <th>team_2_runs.total</th>\n",
       "      <th>match_winner</th>\n",
       "      <th>player_of_match</th>\n",
       "      <th>team_1_over</th>\n",
       "      <th>team_2_over</th>\n",
       "      <th>toss_winner</th>\n",
       "      <th>toss_decision</th>\n",
       "      <th>team_1_runs.extras</th>\n",
       "      <th>team_2_runs.extras</th>\n",
       "      <th>team_1_extras.legbyes</th>\n",
       "      <th>team_2_extras.legbyes</th>\n",
       "      <th>team_1_extras.wides</th>\n",
       "      <th>team_2_extras.wides</th>\n",
       "      <th>team_1_extras.byes</th>\n",
       "      <th>...</th>\n",
       "      <th>team_1_extras.noballs</th>\n",
       "      <th>team_2_extras.noballs</th>\n",
       "      <th>officials_match_referees</th>\n",
       "      <th>officials_reserve_umpires</th>\n",
       "      <th>officials_tv_umpires</th>\n",
       "      <th>officials_umpires_1</th>\n",
       "      <th>officials_umpires_2</th>\n",
       "      <th>outcome_by_wickets</th>\n",
       "      <th>season</th>\n",
       "      <th>venue</th>\n",
       "      <th>outcome_by_runs</th>\n",
       "      <th>event_stage</th>\n",
       "      <th>outcome_method</th>\n",
       "      <th>match_extras</th>\n",
       "      <th>match_legbyes</th>\n",
       "      <th>match_wides</th>\n",
       "      <th>match_byes</th>\n",
       "      <th>match_noballs</th>\n",
       "      <th>match_4's</th>\n",
       "      <th>match_6's</th>\n",
       "    </tr>\n",
       "  </thead>\n",
       "  <tbody>\n",
       "    <tr>\n",
       "      <th>0</th>\n",
       "      <td>2008-04-18</td>\n",
       "      <td>1</td>\n",
       "      <td>Bangalore</td>\n",
       "      <td>Kolkata Knight Riders</td>\n",
       "      <td>Royal Challengers Bangalore</td>\n",
       "      <td>222.0</td>\n",
       "      <td>82.0</td>\n",
       "      <td>Kolkata Knight Riders</td>\n",
       "      <td>BB McCullum</td>\n",
       "      <td>19.0</td>\n",
       "      <td>15.0</td>\n",
       "      <td>Royal Challengers Bangalore</td>\n",
       "      <td>field</td>\n",
       "      <td>17.0</td>\n",
       "      <td>19.0</td>\n",
       "      <td>4.0</td>\n",
       "      <td>8.0</td>\n",
       "      <td>9.0</td>\n",
       "      <td>11.0</td>\n",
       "      <td>4.0</td>\n",
       "      <td>...</td>\n",
       "      <td>0.0</td>\n",
       "      <td>0.0</td>\n",
       "      <td>J Srinath</td>\n",
       "      <td>VN Kulkarni</td>\n",
       "      <td>AM Saheba</td>\n",
       "      <td>Asad Rauf</td>\n",
       "      <td>RE Koertzen</td>\n",
       "      <td>NaN</td>\n",
       "      <td>2008</td>\n",
       "      <td>MChinnaswamyStadium</td>\n",
       "      <td>140.0</td>\n",
       "      <td>group_stage</td>\n",
       "      <td>regular</td>\n",
       "      <td>36.0</td>\n",
       "      <td>12.0</td>\n",
       "      <td>20.0</td>\n",
       "      <td>4.0</td>\n",
       "      <td>0.0</td>\n",
       "      <td>18.0</td>\n",
       "      <td>17.0</td>\n",
       "    </tr>\n",
       "    <tr>\n",
       "      <th>1</th>\n",
       "      <td>2008-04-19</td>\n",
       "      <td>2</td>\n",
       "      <td>Chandigarh</td>\n",
       "      <td>Chennai Super Kings</td>\n",
       "      <td>Kings XI Punjab</td>\n",
       "      <td>240.0</td>\n",
       "      <td>207.0</td>\n",
       "      <td>Chennai Super Kings</td>\n",
       "      <td>MEK Hussey</td>\n",
       "      <td>19.0</td>\n",
       "      <td>19.0</td>\n",
       "      <td>Chennai Super Kings</td>\n",
       "      <td>bat</td>\n",
       "      <td>6.0</td>\n",
       "      <td>11.0</td>\n",
       "      <td>2.0</td>\n",
       "      <td>4.0</td>\n",
       "      <td>3.0</td>\n",
       "      <td>5.0</td>\n",
       "      <td>0.0</td>\n",
       "      <td>...</td>\n",
       "      <td>1.0</td>\n",
       "      <td>0.0</td>\n",
       "      <td>S Venkataraghavan</td>\n",
       "      <td>MSS Ranawat</td>\n",
       "      <td>RB Tiffin</td>\n",
       "      <td>MR Benson</td>\n",
       "      <td>SL Shastri</td>\n",
       "      <td>NaN</td>\n",
       "      <td>2008</td>\n",
       "      <td>PunjabCricketAssociationStadium</td>\n",
       "      <td>33.0</td>\n",
       "      <td>group_stage</td>\n",
       "      <td>regular</td>\n",
       "      <td>17.0</td>\n",
       "      <td>6.0</td>\n",
       "      <td>8.0</td>\n",
       "      <td>2.0</td>\n",
       "      <td>1.0</td>\n",
       "      <td>38.0</td>\n",
       "      <td>25.0</td>\n",
       "    </tr>\n",
       "    <tr>\n",
       "      <th>2</th>\n",
       "      <td>2008-04-19</td>\n",
       "      <td>3</td>\n",
       "      <td>Delhi</td>\n",
       "      <td>Rajasthan Royals</td>\n",
       "      <td>Delhi Daredevils</td>\n",
       "      <td>129.0</td>\n",
       "      <td>132.0</td>\n",
       "      <td>Delhi Daredevils</td>\n",
       "      <td>MF Maharoof</td>\n",
       "      <td>19.0</td>\n",
       "      <td>15.0</td>\n",
       "      <td>Rajasthan Royals</td>\n",
       "      <td>bat</td>\n",
       "      <td>7.0</td>\n",
       "      <td>10.0</td>\n",
       "      <td>3.0</td>\n",
       "      <td>0.0</td>\n",
       "      <td>3.0</td>\n",
       "      <td>10.0</td>\n",
       "      <td>1.0</td>\n",
       "      <td>...</td>\n",
       "      <td>0.0</td>\n",
       "      <td>0.0</td>\n",
       "      <td>GR Viswanath</td>\n",
       "      <td>NaN</td>\n",
       "      <td>IL Howell</td>\n",
       "      <td>Aleem Dar</td>\n",
       "      <td>GA Pratapkumar</td>\n",
       "      <td>9.0</td>\n",
       "      <td>2008</td>\n",
       "      <td>FerozShahKotla</td>\n",
       "      <td>NaN</td>\n",
       "      <td>group_stage</td>\n",
       "      <td>regular</td>\n",
       "      <td>17.0</td>\n",
       "      <td>3.0</td>\n",
       "      <td>13.0</td>\n",
       "      <td>1.0</td>\n",
       "      <td>0.0</td>\n",
       "      <td>32.0</td>\n",
       "      <td>4.0</td>\n",
       "    </tr>\n",
       "    <tr>\n",
       "      <th>3</th>\n",
       "      <td>2008-04-20</td>\n",
       "      <td>4</td>\n",
       "      <td>Kolkata</td>\n",
       "      <td>Deccan Chargers</td>\n",
       "      <td>Kolkata Knight Riders</td>\n",
       "      <td>110.0</td>\n",
       "      <td>112.0</td>\n",
       "      <td>Kolkata Knight Riders</td>\n",
       "      <td>DJ Hussey</td>\n",
       "      <td>18.0</td>\n",
       "      <td>18.0</td>\n",
       "      <td>Deccan Chargers</td>\n",
       "      <td>bat</td>\n",
       "      <td>10.0</td>\n",
       "      <td>28.0</td>\n",
       "      <td>4.0</td>\n",
       "      <td>8.0</td>\n",
       "      <td>4.0</td>\n",
       "      <td>15.0</td>\n",
       "      <td>0.0</td>\n",
       "      <td>...</td>\n",
       "      <td>2.0</td>\n",
       "      <td>1.0</td>\n",
       "      <td>FM Engineer</td>\n",
       "      <td>F Gomes</td>\n",
       "      <td>Asad Rauf</td>\n",
       "      <td>BF Bowden</td>\n",
       "      <td>K Hariharan</td>\n",
       "      <td>5.0</td>\n",
       "      <td>2008</td>\n",
       "      <td>EdenGardens</td>\n",
       "      <td>NaN</td>\n",
       "      <td>group_stage</td>\n",
       "      <td>regular</td>\n",
       "      <td>38.0</td>\n",
       "      <td>12.0</td>\n",
       "      <td>19.0</td>\n",
       "      <td>4.0</td>\n",
       "      <td>3.0</td>\n",
       "      <td>11.0</td>\n",
       "      <td>10.0</td>\n",
       "    </tr>\n",
       "    <tr>\n",
       "      <th>4</th>\n",
       "      <td>2008-04-20</td>\n",
       "      <td>5</td>\n",
       "      <td>Mumbai</td>\n",
       "      <td>Mumbai Indians</td>\n",
       "      <td>Royal Challengers Bangalore</td>\n",
       "      <td>165.0</td>\n",
       "      <td>166.0</td>\n",
       "      <td>Royal Challengers Bangalore</td>\n",
       "      <td>MV Boucher</td>\n",
       "      <td>19.0</td>\n",
       "      <td>19.0</td>\n",
       "      <td>Mumbai Indians</td>\n",
       "      <td>bat</td>\n",
       "      <td>11.0</td>\n",
       "      <td>5.0</td>\n",
       "      <td>6.0</td>\n",
       "      <td>0.0</td>\n",
       "      <td>3.0</td>\n",
       "      <td>5.0</td>\n",
       "      <td>2.0</td>\n",
       "      <td>...</td>\n",
       "      <td>0.0</td>\n",
       "      <td>0.0</td>\n",
       "      <td>J Srinath</td>\n",
       "      <td>SN Bandekar</td>\n",
       "      <td>AV Jayaprakash</td>\n",
       "      <td>SJ Davis</td>\n",
       "      <td>DJ Harper</td>\n",
       "      <td>5.0</td>\n",
       "      <td>2008</td>\n",
       "      <td>WankhedeStadium</td>\n",
       "      <td>NaN</td>\n",
       "      <td>group_stage</td>\n",
       "      <td>regular</td>\n",
       "      <td>16.0</td>\n",
       "      <td>6.0</td>\n",
       "      <td>8.0</td>\n",
       "      <td>2.0</td>\n",
       "      <td>0.0</td>\n",
       "      <td>33.0</td>\n",
       "      <td>11.0</td>\n",
       "    </tr>\n",
       "    <tr>\n",
       "      <th>...</th>\n",
       "      <td>...</td>\n",
       "      <td>...</td>\n",
       "      <td>...</td>\n",
       "      <td>...</td>\n",
       "      <td>...</td>\n",
       "      <td>...</td>\n",
       "      <td>...</td>\n",
       "      <td>...</td>\n",
       "      <td>...</td>\n",
       "      <td>...</td>\n",
       "      <td>...</td>\n",
       "      <td>...</td>\n",
       "      <td>...</td>\n",
       "      <td>...</td>\n",
       "      <td>...</td>\n",
       "      <td>...</td>\n",
       "      <td>...</td>\n",
       "      <td>...</td>\n",
       "      <td>...</td>\n",
       "      <td>...</td>\n",
       "      <td>...</td>\n",
       "      <td>...</td>\n",
       "      <td>...</td>\n",
       "      <td>...</td>\n",
       "      <td>...</td>\n",
       "      <td>...</td>\n",
       "      <td>...</td>\n",
       "      <td>...</td>\n",
       "      <td>...</td>\n",
       "      <td>...</td>\n",
       "      <td>...</td>\n",
       "      <td>...</td>\n",
       "      <td>...</td>\n",
       "      <td>...</td>\n",
       "      <td>...</td>\n",
       "      <td>...</td>\n",
       "      <td>...</td>\n",
       "      <td>...</td>\n",
       "      <td>...</td>\n",
       "      <td>...</td>\n",
       "      <td>...</td>\n",
       "    </tr>\n",
       "    <tr>\n",
       "      <th>1105</th>\n",
       "      <td>2024-05-19</td>\n",
       "      <td>69</td>\n",
       "      <td>Hyderabad</td>\n",
       "      <td>Punjab Kings</td>\n",
       "      <td>Sunrisers Hyderabad</td>\n",
       "      <td>214.0</td>\n",
       "      <td>215.0</td>\n",
       "      <td>Sunrisers Hyderabad</td>\n",
       "      <td>Abhishek Sharma</td>\n",
       "      <td>19.0</td>\n",
       "      <td>19.0</td>\n",
       "      <td>Punjab Kings</td>\n",
       "      <td>bat</td>\n",
       "      <td>10.0</td>\n",
       "      <td>17.0</td>\n",
       "      <td>5.0</td>\n",
       "      <td>6.0</td>\n",
       "      <td>4.0</td>\n",
       "      <td>10.0</td>\n",
       "      <td>0.0</td>\n",
       "      <td>...</td>\n",
       "      <td>1.0</td>\n",
       "      <td>1.0</td>\n",
       "      <td>Prakash Bhatt</td>\n",
       "      <td>Bhavesh Patel</td>\n",
       "      <td>HAS Khalid</td>\n",
       "      <td>Nitin Menon</td>\n",
       "      <td>VK Sharma</td>\n",
       "      <td>4.0</td>\n",
       "      <td>2024</td>\n",
       "      <td>RajivGandhiInternationalStadium</td>\n",
       "      <td>NaN</td>\n",
       "      <td>group_stage</td>\n",
       "      <td>regular</td>\n",
       "      <td>27.0</td>\n",
       "      <td>11.0</td>\n",
       "      <td>14.0</td>\n",
       "      <td>0.0</td>\n",
       "      <td>2.0</td>\n",
       "      <td>31.0</td>\n",
       "      <td>26.0</td>\n",
       "    </tr>\n",
       "    <tr>\n",
       "      <th>1106</th>\n",
       "      <td>2024-05-21</td>\n",
       "      <td>70</td>\n",
       "      <td>Ahmedabad</td>\n",
       "      <td>Sunrisers Hyderabad</td>\n",
       "      <td>Kolkata Knight Riders</td>\n",
       "      <td>159.0</td>\n",
       "      <td>164.0</td>\n",
       "      <td>Kolkata Knight Riders</td>\n",
       "      <td>MA Starc</td>\n",
       "      <td>19.0</td>\n",
       "      <td>13.0</td>\n",
       "      <td>Sunrisers Hyderabad</td>\n",
       "      <td>bat</td>\n",
       "      <td>7.0</td>\n",
       "      <td>11.0</td>\n",
       "      <td>0.0</td>\n",
       "      <td>9.0</td>\n",
       "      <td>5.0</td>\n",
       "      <td>2.0</td>\n",
       "      <td>0.0</td>\n",
       "      <td>...</td>\n",
       "      <td>2.0</td>\n",
       "      <td>0.0</td>\n",
       "      <td>J Srinath</td>\n",
       "      <td>MV Saidharshan Kumar</td>\n",
       "      <td>KN Ananthapadmanabhan</td>\n",
       "      <td>AK Chaudhary</td>\n",
       "      <td>R Pandit</td>\n",
       "      <td>8.0</td>\n",
       "      <td>2024</td>\n",
       "      <td>NarendraModiStadium</td>\n",
       "      <td>NaN</td>\n",
       "      <td>Qualifier 1</td>\n",
       "      <td>regular</td>\n",
       "      <td>18.0</td>\n",
       "      <td>9.0</td>\n",
       "      <td>7.0</td>\n",
       "      <td>0.0</td>\n",
       "      <td>2.0</td>\n",
       "      <td>29.0</td>\n",
       "      <td>16.0</td>\n",
       "    </tr>\n",
       "    <tr>\n",
       "      <th>1107</th>\n",
       "      <td>2024-05-22</td>\n",
       "      <td>71</td>\n",
       "      <td>Ahmedabad</td>\n",
       "      <td>Royal Challengers Bengaluru</td>\n",
       "      <td>Rajasthan Royals</td>\n",
       "      <td>172.0</td>\n",
       "      <td>174.0</td>\n",
       "      <td>Rajasthan Royals</td>\n",
       "      <td>R Ashwin</td>\n",
       "      <td>19.0</td>\n",
       "      <td>18.0</td>\n",
       "      <td>Rajasthan Royals</td>\n",
       "      <td>field</td>\n",
       "      <td>4.0</td>\n",
       "      <td>6.0</td>\n",
       "      <td>2.0</td>\n",
       "      <td>1.0</td>\n",
       "      <td>2.0</td>\n",
       "      <td>5.0</td>\n",
       "      <td>0.0</td>\n",
       "      <td>...</td>\n",
       "      <td>0.0</td>\n",
       "      <td>0.0</td>\n",
       "      <td>V Narayan Kutty</td>\n",
       "      <td>R Pandit</td>\n",
       "      <td>AK Chaudhary</td>\n",
       "      <td>KN Ananthapadmanabhan</td>\n",
       "      <td>MV Saidharshan Kumar</td>\n",
       "      <td>4.0</td>\n",
       "      <td>2024</td>\n",
       "      <td>NarendraModiStadium</td>\n",
       "      <td>NaN</td>\n",
       "      <td>Eliminator</td>\n",
       "      <td>regular</td>\n",
       "      <td>10.0</td>\n",
       "      <td>3.0</td>\n",
       "      <td>7.0</td>\n",
       "      <td>0.0</td>\n",
       "      <td>0.0</td>\n",
       "      <td>33.0</td>\n",
       "      <td>13.0</td>\n",
       "    </tr>\n",
       "    <tr>\n",
       "      <th>1108</th>\n",
       "      <td>2024-05-24</td>\n",
       "      <td>72</td>\n",
       "      <td>Chennai</td>\n",
       "      <td>Sunrisers Hyderabad</td>\n",
       "      <td>Rajasthan Royals</td>\n",
       "      <td>175.0</td>\n",
       "      <td>139.0</td>\n",
       "      <td>Sunrisers Hyderabad</td>\n",
       "      <td>Shahbaz Ahmed</td>\n",
       "      <td>19.0</td>\n",
       "      <td>19.0</td>\n",
       "      <td>Rajasthan Royals</td>\n",
       "      <td>field</td>\n",
       "      <td>8.0</td>\n",
       "      <td>5.0</td>\n",
       "      <td>1.0</td>\n",
       "      <td>1.0</td>\n",
       "      <td>7.0</td>\n",
       "      <td>3.0</td>\n",
       "      <td>0.0</td>\n",
       "      <td>...</td>\n",
       "      <td>0.0</td>\n",
       "      <td>1.0</td>\n",
       "      <td>J Srinath</td>\n",
       "      <td>J Madanagopal</td>\n",
       "      <td>MA Gough</td>\n",
       "      <td>Nitin Menon</td>\n",
       "      <td>VK Sharma</td>\n",
       "      <td>NaN</td>\n",
       "      <td>2024</td>\n",
       "      <td>MAChidambaramStadium</td>\n",
       "      <td>36.0</td>\n",
       "      <td>Qualifier 2</td>\n",
       "      <td>regular</td>\n",
       "      <td>13.0</td>\n",
       "      <td>2.0</td>\n",
       "      <td>10.0</td>\n",
       "      <td>0.0</td>\n",
       "      <td>1.0</td>\n",
       "      <td>24.0</td>\n",
       "      <td>14.0</td>\n",
       "    </tr>\n",
       "    <tr>\n",
       "      <th>1109</th>\n",
       "      <td>2024-05-26</td>\n",
       "      <td>73</td>\n",
       "      <td>Chennai</td>\n",
       "      <td>Sunrisers Hyderabad</td>\n",
       "      <td>Kolkata Knight Riders</td>\n",
       "      <td>113.0</td>\n",
       "      <td>114.0</td>\n",
       "      <td>Kolkata Knight Riders</td>\n",
       "      <td>MA Starc</td>\n",
       "      <td>18.0</td>\n",
       "      <td>10.0</td>\n",
       "      <td>Sunrisers Hyderabad</td>\n",
       "      <td>bat</td>\n",
       "      <td>13.0</td>\n",
       "      <td>11.0</td>\n",
       "      <td>2.0</td>\n",
       "      <td>2.0</td>\n",
       "      <td>6.0</td>\n",
       "      <td>5.0</td>\n",
       "      <td>5.0</td>\n",
       "      <td>...</td>\n",
       "      <td>0.0</td>\n",
       "      <td>0.0</td>\n",
       "      <td>M Nayyar</td>\n",
       "      <td>VK Sharma</td>\n",
       "      <td>MA Gough</td>\n",
       "      <td>J Madanagopal</td>\n",
       "      <td>Nitin Menon</td>\n",
       "      <td>8.0</td>\n",
       "      <td>2024</td>\n",
       "      <td>MAChidambaramStadium</td>\n",
       "      <td>NaN</td>\n",
       "      <td>Final</td>\n",
       "      <td>regular</td>\n",
       "      <td>24.0</td>\n",
       "      <td>4.0</td>\n",
       "      <td>11.0</td>\n",
       "      <td>9.0</td>\n",
       "      <td>0.0</td>\n",
       "      <td>18.0</td>\n",
       "      <td>9.0</td>\n",
       "    </tr>\n",
       "  </tbody>\n",
       "</table>\n",
       "<p>1110 rows × 41 columns</p>\n",
       "</div>"
      ],
      "text/plain": [
       "            date  match_number        city                       team_1  \\\n",
       "0     2008-04-18             1   Bangalore        Kolkata Knight Riders   \n",
       "1     2008-04-19             2  Chandigarh          Chennai Super Kings   \n",
       "2     2008-04-19             3       Delhi             Rajasthan Royals   \n",
       "3     2008-04-20             4     Kolkata              Deccan Chargers   \n",
       "4     2008-04-20             5      Mumbai               Mumbai Indians   \n",
       "...          ...           ...         ...                          ...   \n",
       "1105  2024-05-19            69   Hyderabad                 Punjab Kings   \n",
       "1106  2024-05-21            70   Ahmedabad          Sunrisers Hyderabad   \n",
       "1107  2024-05-22            71   Ahmedabad  Royal Challengers Bengaluru   \n",
       "1108  2024-05-24            72     Chennai          Sunrisers Hyderabad   \n",
       "1109  2024-05-26            73     Chennai          Sunrisers Hyderabad   \n",
       "\n",
       "                           team_2  team_1_runs.total  team_2_runs.total  \\\n",
       "0     Royal Challengers Bangalore              222.0               82.0   \n",
       "1                 Kings XI Punjab              240.0              207.0   \n",
       "2                Delhi Daredevils              129.0              132.0   \n",
       "3           Kolkata Knight Riders              110.0              112.0   \n",
       "4     Royal Challengers Bangalore              165.0              166.0   \n",
       "...                           ...                ...                ...   \n",
       "1105          Sunrisers Hyderabad              214.0              215.0   \n",
       "1106        Kolkata Knight Riders              159.0              164.0   \n",
       "1107             Rajasthan Royals              172.0              174.0   \n",
       "1108             Rajasthan Royals              175.0              139.0   \n",
       "1109        Kolkata Knight Riders              113.0              114.0   \n",
       "\n",
       "                     match_winner  player_of_match  team_1_over  team_2_over  \\\n",
       "0           Kolkata Knight Riders      BB McCullum         19.0         15.0   \n",
       "1             Chennai Super Kings       MEK Hussey         19.0         19.0   \n",
       "2                Delhi Daredevils      MF Maharoof         19.0         15.0   \n",
       "3           Kolkata Knight Riders        DJ Hussey         18.0         18.0   \n",
       "4     Royal Challengers Bangalore       MV Boucher         19.0         19.0   \n",
       "...                           ...              ...          ...          ...   \n",
       "1105          Sunrisers Hyderabad  Abhishek Sharma         19.0         19.0   \n",
       "1106        Kolkata Knight Riders         MA Starc         19.0         13.0   \n",
       "1107             Rajasthan Royals         R Ashwin         19.0         18.0   \n",
       "1108          Sunrisers Hyderabad    Shahbaz Ahmed         19.0         19.0   \n",
       "1109        Kolkata Knight Riders         MA Starc         18.0         10.0   \n",
       "\n",
       "                      toss_winner toss_decision  team_1_runs.extras  \\\n",
       "0     Royal Challengers Bangalore         field                17.0   \n",
       "1             Chennai Super Kings           bat                 6.0   \n",
       "2                Rajasthan Royals           bat                 7.0   \n",
       "3                 Deccan Chargers           bat                10.0   \n",
       "4                  Mumbai Indians           bat                11.0   \n",
       "...                           ...           ...                 ...   \n",
       "1105                 Punjab Kings           bat                10.0   \n",
       "1106          Sunrisers Hyderabad           bat                 7.0   \n",
       "1107             Rajasthan Royals         field                 4.0   \n",
       "1108             Rajasthan Royals         field                 8.0   \n",
       "1109          Sunrisers Hyderabad           bat                13.0   \n",
       "\n",
       "      team_2_runs.extras  team_1_extras.legbyes  team_2_extras.legbyes  \\\n",
       "0                   19.0                    4.0                    8.0   \n",
       "1                   11.0                    2.0                    4.0   \n",
       "2                   10.0                    3.0                    0.0   \n",
       "3                   28.0                    4.0                    8.0   \n",
       "4                    5.0                    6.0                    0.0   \n",
       "...                  ...                    ...                    ...   \n",
       "1105                17.0                    5.0                    6.0   \n",
       "1106                11.0                    0.0                    9.0   \n",
       "1107                 6.0                    2.0                    1.0   \n",
       "1108                 5.0                    1.0                    1.0   \n",
       "1109                11.0                    2.0                    2.0   \n",
       "\n",
       "      team_1_extras.wides  team_2_extras.wides  team_1_extras.byes  ...  \\\n",
       "0                     9.0                 11.0                 4.0  ...   \n",
       "1                     3.0                  5.0                 0.0  ...   \n",
       "2                     3.0                 10.0                 1.0  ...   \n",
       "3                     4.0                 15.0                 0.0  ...   \n",
       "4                     3.0                  5.0                 2.0  ...   \n",
       "...                   ...                  ...                 ...  ...   \n",
       "1105                  4.0                 10.0                 0.0  ...   \n",
       "1106                  5.0                  2.0                 0.0  ...   \n",
       "1107                  2.0                  5.0                 0.0  ...   \n",
       "1108                  7.0                  3.0                 0.0  ...   \n",
       "1109                  6.0                  5.0                 5.0  ...   \n",
       "\n",
       "      team_1_extras.noballs  team_2_extras.noballs  officials_match_referees  \\\n",
       "0                       0.0                    0.0                 J Srinath   \n",
       "1                       1.0                    0.0         S Venkataraghavan   \n",
       "2                       0.0                    0.0              GR Viswanath   \n",
       "3                       2.0                    1.0               FM Engineer   \n",
       "4                       0.0                    0.0                 J Srinath   \n",
       "...                     ...                    ...                       ...   \n",
       "1105                    1.0                    1.0             Prakash Bhatt   \n",
       "1106                    2.0                    0.0                 J Srinath   \n",
       "1107                    0.0                    0.0           V Narayan Kutty   \n",
       "1108                    0.0                    1.0                 J Srinath   \n",
       "1109                    0.0                    0.0                  M Nayyar   \n",
       "\n",
       "     officials_reserve_umpires   officials_tv_umpires    officials_umpires_1  \\\n",
       "0                  VN Kulkarni              AM Saheba              Asad Rauf   \n",
       "1                  MSS Ranawat              RB Tiffin              MR Benson   \n",
       "2                          NaN              IL Howell              Aleem Dar   \n",
       "3                      F Gomes              Asad Rauf              BF Bowden   \n",
       "4                  SN Bandekar         AV Jayaprakash               SJ Davis   \n",
       "...                        ...                    ...                    ...   \n",
       "1105             Bhavesh Patel             HAS Khalid            Nitin Menon   \n",
       "1106      MV Saidharshan Kumar  KN Ananthapadmanabhan           AK Chaudhary   \n",
       "1107                  R Pandit           AK Chaudhary  KN Ananthapadmanabhan   \n",
       "1108             J Madanagopal               MA Gough            Nitin Menon   \n",
       "1109                 VK Sharma               MA Gough          J Madanagopal   \n",
       "\n",
       "       officials_umpires_2 outcome_by_wickets  season  \\\n",
       "0              RE Koertzen                NaN    2008   \n",
       "1               SL Shastri                NaN    2008   \n",
       "2           GA Pratapkumar                9.0    2008   \n",
       "3              K Hariharan                5.0    2008   \n",
       "4                DJ Harper                5.0    2008   \n",
       "...                    ...                ...     ...   \n",
       "1105             VK Sharma                4.0    2024   \n",
       "1106              R Pandit                8.0    2024   \n",
       "1107  MV Saidharshan Kumar                4.0    2024   \n",
       "1108             VK Sharma                NaN    2024   \n",
       "1109           Nitin Menon                8.0    2024   \n",
       "\n",
       "                                venue outcome_by_runs  event_stage  \\\n",
       "0                 MChinnaswamyStadium           140.0  group_stage   \n",
       "1     PunjabCricketAssociationStadium            33.0  group_stage   \n",
       "2                      FerozShahKotla             NaN  group_stage   \n",
       "3                         EdenGardens             NaN  group_stage   \n",
       "4                     WankhedeStadium             NaN  group_stage   \n",
       "...                               ...             ...          ...   \n",
       "1105  RajivGandhiInternationalStadium             NaN  group_stage   \n",
       "1106              NarendraModiStadium             NaN  Qualifier 1   \n",
       "1107              NarendraModiStadium             NaN   Eliminator   \n",
       "1108             MAChidambaramStadium            36.0  Qualifier 2   \n",
       "1109             MAChidambaramStadium             NaN        Final   \n",
       "\n",
       "     outcome_method match_extras  match_legbyes  match_wides  match_byes  \\\n",
       "0           regular         36.0           12.0         20.0         4.0   \n",
       "1           regular         17.0            6.0          8.0         2.0   \n",
       "2           regular         17.0            3.0         13.0         1.0   \n",
       "3           regular         38.0           12.0         19.0         4.0   \n",
       "4           regular         16.0            6.0          8.0         2.0   \n",
       "...             ...          ...            ...          ...         ...   \n",
       "1105        regular         27.0           11.0         14.0         0.0   \n",
       "1106        regular         18.0            9.0          7.0         0.0   \n",
       "1107        regular         10.0            3.0          7.0         0.0   \n",
       "1108        regular         13.0            2.0         10.0         0.0   \n",
       "1109        regular         24.0            4.0         11.0         9.0   \n",
       "\n",
       "      match_noballs  match_4's  match_6's  \n",
       "0               0.0       18.0       17.0  \n",
       "1               1.0       38.0       25.0  \n",
       "2               0.0       32.0        4.0  \n",
       "3               3.0       11.0       10.0  \n",
       "4               0.0       33.0       11.0  \n",
       "...             ...        ...        ...  \n",
       "1105            2.0       31.0       26.0  \n",
       "1106            2.0       29.0       16.0  \n",
       "1107            0.0       33.0       13.0  \n",
       "1108            1.0       24.0       14.0  \n",
       "1109            0.0       18.0        9.0  \n",
       "\n",
       "[1110 rows x 41 columns]"
      ]
     },
     "execution_count": 136,
     "metadata": {},
     "output_type": "execute_result"
    }
   ],
   "source": [
    "match_level_stats"
   ]
  },
  {
   "cell_type": "code",
   "execution_count": 139,
   "metadata": {},
   "outputs": [
    {
     "data": {
      "text/html": [
       "<div>\n",
       "<style scoped>\n",
       "    .dataframe tbody tr th:only-of-type {\n",
       "        vertical-align: middle;\n",
       "    }\n",
       "\n",
       "    .dataframe tbody tr th {\n",
       "        vertical-align: top;\n",
       "    }\n",
       "\n",
       "    .dataframe thead th {\n",
       "        text-align: right;\n",
       "    }\n",
       "</style>\n",
       "<table border=\"1\" class=\"dataframe\">\n",
       "  <thead>\n",
       "    <tr style=\"text-align: right;\">\n",
       "      <th></th>\n",
       "      <th>date</th>\n",
       "      <th>match_number</th>\n",
       "      <th>innings</th>\n",
       "      <th>over</th>\n",
       "      <th>batter</th>\n",
       "      <th>bowler</th>\n",
       "      <th>stage</th>\n",
       "      <th>non_striker</th>\n",
       "      <th>runs.batter</th>\n",
       "      <th>runs.extras</th>\n",
       "      <th>runs.total</th>\n",
       "      <th>extras.legbyes</th>\n",
       "      <th>extras.wides</th>\n",
       "      <th>extras.byes</th>\n",
       "      <th>extras.noballs</th>\n",
       "      <th>wicket.kind</th>\n",
       "      <th>wicket.player_out</th>\n",
       "      <th>wicket.fielders</th>\n",
       "      <th>season</th>\n",
       "    </tr>\n",
       "  </thead>\n",
       "  <tbody>\n",
       "    <tr>\n",
       "      <th>0</th>\n",
       "      <td>2008-04-18</td>\n",
       "      <td>1</td>\n",
       "      <td>1</td>\n",
       "      <td>0</td>\n",
       "      <td>SC Ganguly</td>\n",
       "      <td>P Kumar</td>\n",
       "      <td>group</td>\n",
       "      <td>BB McCullum</td>\n",
       "      <td>0</td>\n",
       "      <td>1</td>\n",
       "      <td>1</td>\n",
       "      <td>1.0</td>\n",
       "      <td>NaN</td>\n",
       "      <td>NaN</td>\n",
       "      <td>NaN</td>\n",
       "      <td>NaN</td>\n",
       "      <td>NaN</td>\n",
       "      <td>NaN</td>\n",
       "      <td>2008</td>\n",
       "    </tr>\n",
       "    <tr>\n",
       "      <th>1</th>\n",
       "      <td>2008-04-18</td>\n",
       "      <td>1</td>\n",
       "      <td>1</td>\n",
       "      <td>0</td>\n",
       "      <td>BB McCullum</td>\n",
       "      <td>P Kumar</td>\n",
       "      <td>group</td>\n",
       "      <td>SC Ganguly</td>\n",
       "      <td>0</td>\n",
       "      <td>0</td>\n",
       "      <td>0</td>\n",
       "      <td>NaN</td>\n",
       "      <td>NaN</td>\n",
       "      <td>NaN</td>\n",
       "      <td>NaN</td>\n",
       "      <td>NaN</td>\n",
       "      <td>NaN</td>\n",
       "      <td>NaN</td>\n",
       "      <td>2008</td>\n",
       "    </tr>\n",
       "    <tr>\n",
       "      <th>2</th>\n",
       "      <td>2008-04-18</td>\n",
       "      <td>1</td>\n",
       "      <td>1</td>\n",
       "      <td>0</td>\n",
       "      <td>BB McCullum</td>\n",
       "      <td>P Kumar</td>\n",
       "      <td>group</td>\n",
       "      <td>SC Ganguly</td>\n",
       "      <td>0</td>\n",
       "      <td>1</td>\n",
       "      <td>1</td>\n",
       "      <td>NaN</td>\n",
       "      <td>1.0</td>\n",
       "      <td>NaN</td>\n",
       "      <td>NaN</td>\n",
       "      <td>NaN</td>\n",
       "      <td>NaN</td>\n",
       "      <td>NaN</td>\n",
       "      <td>2008</td>\n",
       "    </tr>\n",
       "    <tr>\n",
       "      <th>3</th>\n",
       "      <td>2008-04-18</td>\n",
       "      <td>1</td>\n",
       "      <td>1</td>\n",
       "      <td>0</td>\n",
       "      <td>BB McCullum</td>\n",
       "      <td>P Kumar</td>\n",
       "      <td>group</td>\n",
       "      <td>SC Ganguly</td>\n",
       "      <td>0</td>\n",
       "      <td>0</td>\n",
       "      <td>0</td>\n",
       "      <td>NaN</td>\n",
       "      <td>NaN</td>\n",
       "      <td>NaN</td>\n",
       "      <td>NaN</td>\n",
       "      <td>NaN</td>\n",
       "      <td>NaN</td>\n",
       "      <td>NaN</td>\n",
       "      <td>2008</td>\n",
       "    </tr>\n",
       "    <tr>\n",
       "      <th>4</th>\n",
       "      <td>2008-04-18</td>\n",
       "      <td>1</td>\n",
       "      <td>1</td>\n",
       "      <td>0</td>\n",
       "      <td>BB McCullum</td>\n",
       "      <td>P Kumar</td>\n",
       "      <td>group</td>\n",
       "      <td>SC Ganguly</td>\n",
       "      <td>0</td>\n",
       "      <td>0</td>\n",
       "      <td>0</td>\n",
       "      <td>NaN</td>\n",
       "      <td>NaN</td>\n",
       "      <td>NaN</td>\n",
       "      <td>NaN</td>\n",
       "      <td>NaN</td>\n",
       "      <td>NaN</td>\n",
       "      <td>NaN</td>\n",
       "      <td>2008</td>\n",
       "    </tr>\n",
       "    <tr>\n",
       "      <th>...</th>\n",
       "      <td>...</td>\n",
       "      <td>...</td>\n",
       "      <td>...</td>\n",
       "      <td>...</td>\n",
       "      <td>...</td>\n",
       "      <td>...</td>\n",
       "      <td>...</td>\n",
       "      <td>...</td>\n",
       "      <td>...</td>\n",
       "      <td>...</td>\n",
       "      <td>...</td>\n",
       "      <td>...</td>\n",
       "      <td>...</td>\n",
       "      <td>...</td>\n",
       "      <td>...</td>\n",
       "      <td>...</td>\n",
       "      <td>...</td>\n",
       "      <td>...</td>\n",
       "      <td>...</td>\n",
       "    </tr>\n",
       "    <tr>\n",
       "      <th>260754</th>\n",
       "      <td>2024-05-26</td>\n",
       "      <td>73</td>\n",
       "      <td>2</td>\n",
       "      <td>9</td>\n",
       "      <td>SS Iyer</td>\n",
       "      <td>AK Markram</td>\n",
       "      <td>Final</td>\n",
       "      <td>VR Iyer</td>\n",
       "      <td>1</td>\n",
       "      <td>0</td>\n",
       "      <td>1</td>\n",
       "      <td>NaN</td>\n",
       "      <td>NaN</td>\n",
       "      <td>NaN</td>\n",
       "      <td>NaN</td>\n",
       "      <td>NaN</td>\n",
       "      <td>NaN</td>\n",
       "      <td>NaN</td>\n",
       "      <td>2024</td>\n",
       "    </tr>\n",
       "    <tr>\n",
       "      <th>260755</th>\n",
       "      <td>2024-05-26</td>\n",
       "      <td>73</td>\n",
       "      <td>2</td>\n",
       "      <td>9</td>\n",
       "      <td>VR Iyer</td>\n",
       "      <td>AK Markram</td>\n",
       "      <td>Final</td>\n",
       "      <td>SS Iyer</td>\n",
       "      <td>1</td>\n",
       "      <td>0</td>\n",
       "      <td>1</td>\n",
       "      <td>NaN</td>\n",
       "      <td>NaN</td>\n",
       "      <td>NaN</td>\n",
       "      <td>NaN</td>\n",
       "      <td>NaN</td>\n",
       "      <td>NaN</td>\n",
       "      <td>NaN</td>\n",
       "      <td>2024</td>\n",
       "    </tr>\n",
       "    <tr>\n",
       "      <th>260756</th>\n",
       "      <td>2024-05-26</td>\n",
       "      <td>73</td>\n",
       "      <td>2</td>\n",
       "      <td>10</td>\n",
       "      <td>VR Iyer</td>\n",
       "      <td>Shahbaz Ahmed</td>\n",
       "      <td>Final</td>\n",
       "      <td>SS Iyer</td>\n",
       "      <td>1</td>\n",
       "      <td>0</td>\n",
       "      <td>1</td>\n",
       "      <td>NaN</td>\n",
       "      <td>NaN</td>\n",
       "      <td>NaN</td>\n",
       "      <td>NaN</td>\n",
       "      <td>NaN</td>\n",
       "      <td>NaN</td>\n",
       "      <td>NaN</td>\n",
       "      <td>2024</td>\n",
       "    </tr>\n",
       "    <tr>\n",
       "      <th>260757</th>\n",
       "      <td>2024-05-26</td>\n",
       "      <td>73</td>\n",
       "      <td>2</td>\n",
       "      <td>10</td>\n",
       "      <td>SS Iyer</td>\n",
       "      <td>Shahbaz Ahmed</td>\n",
       "      <td>Final</td>\n",
       "      <td>VR Iyer</td>\n",
       "      <td>1</td>\n",
       "      <td>0</td>\n",
       "      <td>1</td>\n",
       "      <td>NaN</td>\n",
       "      <td>NaN</td>\n",
       "      <td>NaN</td>\n",
       "      <td>NaN</td>\n",
       "      <td>NaN</td>\n",
       "      <td>NaN</td>\n",
       "      <td>NaN</td>\n",
       "      <td>2024</td>\n",
       "    </tr>\n",
       "    <tr>\n",
       "      <th>260758</th>\n",
       "      <td>2024-05-26</td>\n",
       "      <td>73</td>\n",
       "      <td>2</td>\n",
       "      <td>10</td>\n",
       "      <td>VR Iyer</td>\n",
       "      <td>Shahbaz Ahmed</td>\n",
       "      <td>Final</td>\n",
       "      <td>SS Iyer</td>\n",
       "      <td>1</td>\n",
       "      <td>0</td>\n",
       "      <td>1</td>\n",
       "      <td>NaN</td>\n",
       "      <td>NaN</td>\n",
       "      <td>NaN</td>\n",
       "      <td>NaN</td>\n",
       "      <td>NaN</td>\n",
       "      <td>NaN</td>\n",
       "      <td>NaN</td>\n",
       "      <td>2024</td>\n",
       "    </tr>\n",
       "  </tbody>\n",
       "</table>\n",
       "<p>260759 rows × 19 columns</p>\n",
       "</div>"
      ],
      "text/plain": [
       "              date  match_number  innings  over       batter         bowler  \\\n",
       "0       2008-04-18             1        1     0   SC Ganguly        P Kumar   \n",
       "1       2008-04-18             1        1     0  BB McCullum        P Kumar   \n",
       "2       2008-04-18             1        1     0  BB McCullum        P Kumar   \n",
       "3       2008-04-18             1        1     0  BB McCullum        P Kumar   \n",
       "4       2008-04-18             1        1     0  BB McCullum        P Kumar   \n",
       "...            ...           ...      ...   ...          ...            ...   \n",
       "260754  2024-05-26            73        2     9      SS Iyer     AK Markram   \n",
       "260755  2024-05-26            73        2     9      VR Iyer     AK Markram   \n",
       "260756  2024-05-26            73        2    10      VR Iyer  Shahbaz Ahmed   \n",
       "260757  2024-05-26            73        2    10      SS Iyer  Shahbaz Ahmed   \n",
       "260758  2024-05-26            73        2    10      VR Iyer  Shahbaz Ahmed   \n",
       "\n",
       "        stage  non_striker  runs.batter  runs.extras  runs.total  \\\n",
       "0       group  BB McCullum            0            1           1   \n",
       "1       group   SC Ganguly            0            0           0   \n",
       "2       group   SC Ganguly            0            1           1   \n",
       "3       group   SC Ganguly            0            0           0   \n",
       "4       group   SC Ganguly            0            0           0   \n",
       "...       ...          ...          ...          ...         ...   \n",
       "260754  Final      VR Iyer            1            0           1   \n",
       "260755  Final      SS Iyer            1            0           1   \n",
       "260756  Final      SS Iyer            1            0           1   \n",
       "260757  Final      VR Iyer            1            0           1   \n",
       "260758  Final      SS Iyer            1            0           1   \n",
       "\n",
       "        extras.legbyes  extras.wides  extras.byes  extras.noballs wicket.kind  \\\n",
       "0                  1.0           NaN          NaN             NaN         NaN   \n",
       "1                  NaN           NaN          NaN             NaN         NaN   \n",
       "2                  NaN           1.0          NaN             NaN         NaN   \n",
       "3                  NaN           NaN          NaN             NaN         NaN   \n",
       "4                  NaN           NaN          NaN             NaN         NaN   \n",
       "...                ...           ...          ...             ...         ...   \n",
       "260754             NaN           NaN          NaN             NaN         NaN   \n",
       "260755             NaN           NaN          NaN             NaN         NaN   \n",
       "260756             NaN           NaN          NaN             NaN         NaN   \n",
       "260757             NaN           NaN          NaN             NaN         NaN   \n",
       "260758             NaN           NaN          NaN             NaN         NaN   \n",
       "\n",
       "       wicket.player_out wicket.fielders season  \n",
       "0                    NaN             NaN   2008  \n",
       "1                    NaN             NaN   2008  \n",
       "2                    NaN             NaN   2008  \n",
       "3                    NaN             NaN   2008  \n",
       "4                    NaN             NaN   2008  \n",
       "...                  ...             ...    ...  \n",
       "260754               NaN             NaN   2024  \n",
       "260755               NaN             NaN   2024  \n",
       "260756               NaN             NaN   2024  \n",
       "260757               NaN             NaN   2024  \n",
       "260758               NaN             NaN   2024  \n",
       "\n",
       "[260759 rows x 19 columns]"
      ]
     },
     "execution_count": 139,
     "metadata": {},
     "output_type": "execute_result"
    }
   ],
   "source": [
    "ball_by_ball"
   ]
  },
  {
   "cell_type": "code",
   "execution_count": 140,
   "metadata": {},
   "outputs": [
    {
     "data": {
      "text/html": [
       "<div>\n",
       "<style scoped>\n",
       "    .dataframe tbody tr th:only-of-type {\n",
       "        vertical-align: middle;\n",
       "    }\n",
       "\n",
       "    .dataframe tbody tr th {\n",
       "        vertical-align: top;\n",
       "    }\n",
       "\n",
       "    .dataframe thead th {\n",
       "        text-align: right;\n",
       "    }\n",
       "</style>\n",
       "<table border=\"1\" class=\"dataframe\">\n",
       "  <thead>\n",
       "    <tr style=\"text-align: right;\">\n",
       "      <th></th>\n",
       "      <th>date</th>\n",
       "      <th>match_number</th>\n",
       "      <th>city</th>\n",
       "      <th>team_1</th>\n",
       "      <th>team_2</th>\n",
       "      <th>team_1_runs.total</th>\n",
       "      <th>team_2_runs.total</th>\n",
       "      <th>match_winner</th>\n",
       "      <th>player_of_match</th>\n",
       "      <th>team_1_over</th>\n",
       "      <th>team_2_over</th>\n",
       "      <th>toss_winner</th>\n",
       "      <th>toss_decision</th>\n",
       "      <th>team_1_runs.extras</th>\n",
       "      <th>team_2_runs.extras</th>\n",
       "      <th>team_1_extras.legbyes</th>\n",
       "      <th>team_2_extras.legbyes</th>\n",
       "      <th>team_1_extras.wides</th>\n",
       "      <th>team_2_extras.wides</th>\n",
       "      <th>team_1_extras.byes</th>\n",
       "      <th>...</th>\n",
       "      <th>team_1_extras.noballs</th>\n",
       "      <th>team_2_extras.noballs</th>\n",
       "      <th>officials_match_referees</th>\n",
       "      <th>officials_reserve_umpires</th>\n",
       "      <th>officials_tv_umpires</th>\n",
       "      <th>officials_umpires_1</th>\n",
       "      <th>officials_umpires_2</th>\n",
       "      <th>outcome_by_wickets</th>\n",
       "      <th>season</th>\n",
       "      <th>venue</th>\n",
       "      <th>outcome_by_runs</th>\n",
       "      <th>event_stage</th>\n",
       "      <th>outcome_method</th>\n",
       "      <th>match_extras</th>\n",
       "      <th>match_legbyes</th>\n",
       "      <th>match_wides</th>\n",
       "      <th>match_byes</th>\n",
       "      <th>match_noballs</th>\n",
       "      <th>match_4's</th>\n",
       "      <th>match_6's</th>\n",
       "    </tr>\n",
       "  </thead>\n",
       "  <tbody>\n",
       "    <tr>\n",
       "      <th>0</th>\n",
       "      <td>2008-04-18</td>\n",
       "      <td>1</td>\n",
       "      <td>Bangalore</td>\n",
       "      <td>Kolkata Knight Riders</td>\n",
       "      <td>Royal Challengers Bangalore</td>\n",
       "      <td>222.0</td>\n",
       "      <td>82.0</td>\n",
       "      <td>Kolkata Knight Riders</td>\n",
       "      <td>BB McCullum</td>\n",
       "      <td>19.0</td>\n",
       "      <td>15.0</td>\n",
       "      <td>Royal Challengers Bangalore</td>\n",
       "      <td>field</td>\n",
       "      <td>17.0</td>\n",
       "      <td>19.0</td>\n",
       "      <td>4.0</td>\n",
       "      <td>8.0</td>\n",
       "      <td>9.0</td>\n",
       "      <td>11.0</td>\n",
       "      <td>4.0</td>\n",
       "      <td>...</td>\n",
       "      <td>0.0</td>\n",
       "      <td>0.0</td>\n",
       "      <td>J Srinath</td>\n",
       "      <td>VN Kulkarni</td>\n",
       "      <td>AM Saheba</td>\n",
       "      <td>Asad Rauf</td>\n",
       "      <td>RE Koertzen</td>\n",
       "      <td>NaN</td>\n",
       "      <td>2008</td>\n",
       "      <td>MChinnaswamyStadium</td>\n",
       "      <td>140.0</td>\n",
       "      <td>group_stage</td>\n",
       "      <td>regular</td>\n",
       "      <td>36.0</td>\n",
       "      <td>12.0</td>\n",
       "      <td>20.0</td>\n",
       "      <td>4.0</td>\n",
       "      <td>0.0</td>\n",
       "      <td>18.0</td>\n",
       "      <td>17.0</td>\n",
       "    </tr>\n",
       "    <tr>\n",
       "      <th>1</th>\n",
       "      <td>2008-04-19</td>\n",
       "      <td>2</td>\n",
       "      <td>Chandigarh</td>\n",
       "      <td>Chennai Super Kings</td>\n",
       "      <td>Kings XI Punjab</td>\n",
       "      <td>240.0</td>\n",
       "      <td>207.0</td>\n",
       "      <td>Chennai Super Kings</td>\n",
       "      <td>MEK Hussey</td>\n",
       "      <td>19.0</td>\n",
       "      <td>19.0</td>\n",
       "      <td>Chennai Super Kings</td>\n",
       "      <td>bat</td>\n",
       "      <td>6.0</td>\n",
       "      <td>11.0</td>\n",
       "      <td>2.0</td>\n",
       "      <td>4.0</td>\n",
       "      <td>3.0</td>\n",
       "      <td>5.0</td>\n",
       "      <td>0.0</td>\n",
       "      <td>...</td>\n",
       "      <td>1.0</td>\n",
       "      <td>0.0</td>\n",
       "      <td>S Venkataraghavan</td>\n",
       "      <td>MSS Ranawat</td>\n",
       "      <td>RB Tiffin</td>\n",
       "      <td>MR Benson</td>\n",
       "      <td>SL Shastri</td>\n",
       "      <td>NaN</td>\n",
       "      <td>2008</td>\n",
       "      <td>PunjabCricketAssociationStadium</td>\n",
       "      <td>33.0</td>\n",
       "      <td>group_stage</td>\n",
       "      <td>regular</td>\n",
       "      <td>17.0</td>\n",
       "      <td>6.0</td>\n",
       "      <td>8.0</td>\n",
       "      <td>2.0</td>\n",
       "      <td>1.0</td>\n",
       "      <td>38.0</td>\n",
       "      <td>25.0</td>\n",
       "    </tr>\n",
       "    <tr>\n",
       "      <th>2</th>\n",
       "      <td>2008-04-19</td>\n",
       "      <td>3</td>\n",
       "      <td>Delhi</td>\n",
       "      <td>Rajasthan Royals</td>\n",
       "      <td>Delhi Daredevils</td>\n",
       "      <td>129.0</td>\n",
       "      <td>132.0</td>\n",
       "      <td>Delhi Daredevils</td>\n",
       "      <td>MF Maharoof</td>\n",
       "      <td>19.0</td>\n",
       "      <td>15.0</td>\n",
       "      <td>Rajasthan Royals</td>\n",
       "      <td>bat</td>\n",
       "      <td>7.0</td>\n",
       "      <td>10.0</td>\n",
       "      <td>3.0</td>\n",
       "      <td>0.0</td>\n",
       "      <td>3.0</td>\n",
       "      <td>10.0</td>\n",
       "      <td>1.0</td>\n",
       "      <td>...</td>\n",
       "      <td>0.0</td>\n",
       "      <td>0.0</td>\n",
       "      <td>GR Viswanath</td>\n",
       "      <td>NaN</td>\n",
       "      <td>IL Howell</td>\n",
       "      <td>Aleem Dar</td>\n",
       "      <td>GA Pratapkumar</td>\n",
       "      <td>9.0</td>\n",
       "      <td>2008</td>\n",
       "      <td>FerozShahKotla</td>\n",
       "      <td>NaN</td>\n",
       "      <td>group_stage</td>\n",
       "      <td>regular</td>\n",
       "      <td>17.0</td>\n",
       "      <td>3.0</td>\n",
       "      <td>13.0</td>\n",
       "      <td>1.0</td>\n",
       "      <td>0.0</td>\n",
       "      <td>32.0</td>\n",
       "      <td>4.0</td>\n",
       "    </tr>\n",
       "    <tr>\n",
       "      <th>3</th>\n",
       "      <td>2008-04-20</td>\n",
       "      <td>4</td>\n",
       "      <td>Kolkata</td>\n",
       "      <td>Deccan Chargers</td>\n",
       "      <td>Kolkata Knight Riders</td>\n",
       "      <td>110.0</td>\n",
       "      <td>112.0</td>\n",
       "      <td>Kolkata Knight Riders</td>\n",
       "      <td>DJ Hussey</td>\n",
       "      <td>18.0</td>\n",
       "      <td>18.0</td>\n",
       "      <td>Deccan Chargers</td>\n",
       "      <td>bat</td>\n",
       "      <td>10.0</td>\n",
       "      <td>28.0</td>\n",
       "      <td>4.0</td>\n",
       "      <td>8.0</td>\n",
       "      <td>4.0</td>\n",
       "      <td>15.0</td>\n",
       "      <td>0.0</td>\n",
       "      <td>...</td>\n",
       "      <td>2.0</td>\n",
       "      <td>1.0</td>\n",
       "      <td>FM Engineer</td>\n",
       "      <td>F Gomes</td>\n",
       "      <td>Asad Rauf</td>\n",
       "      <td>BF Bowden</td>\n",
       "      <td>K Hariharan</td>\n",
       "      <td>5.0</td>\n",
       "      <td>2008</td>\n",
       "      <td>EdenGardens</td>\n",
       "      <td>NaN</td>\n",
       "      <td>group_stage</td>\n",
       "      <td>regular</td>\n",
       "      <td>38.0</td>\n",
       "      <td>12.0</td>\n",
       "      <td>19.0</td>\n",
       "      <td>4.0</td>\n",
       "      <td>3.0</td>\n",
       "      <td>11.0</td>\n",
       "      <td>10.0</td>\n",
       "    </tr>\n",
       "    <tr>\n",
       "      <th>4</th>\n",
       "      <td>2008-04-20</td>\n",
       "      <td>5</td>\n",
       "      <td>Mumbai</td>\n",
       "      <td>Mumbai Indians</td>\n",
       "      <td>Royal Challengers Bangalore</td>\n",
       "      <td>165.0</td>\n",
       "      <td>166.0</td>\n",
       "      <td>Royal Challengers Bangalore</td>\n",
       "      <td>MV Boucher</td>\n",
       "      <td>19.0</td>\n",
       "      <td>19.0</td>\n",
       "      <td>Mumbai Indians</td>\n",
       "      <td>bat</td>\n",
       "      <td>11.0</td>\n",
       "      <td>5.0</td>\n",
       "      <td>6.0</td>\n",
       "      <td>0.0</td>\n",
       "      <td>3.0</td>\n",
       "      <td>5.0</td>\n",
       "      <td>2.0</td>\n",
       "      <td>...</td>\n",
       "      <td>0.0</td>\n",
       "      <td>0.0</td>\n",
       "      <td>J Srinath</td>\n",
       "      <td>SN Bandekar</td>\n",
       "      <td>AV Jayaprakash</td>\n",
       "      <td>SJ Davis</td>\n",
       "      <td>DJ Harper</td>\n",
       "      <td>5.0</td>\n",
       "      <td>2008</td>\n",
       "      <td>WankhedeStadium</td>\n",
       "      <td>NaN</td>\n",
       "      <td>group_stage</td>\n",
       "      <td>regular</td>\n",
       "      <td>16.0</td>\n",
       "      <td>6.0</td>\n",
       "      <td>8.0</td>\n",
       "      <td>2.0</td>\n",
       "      <td>0.0</td>\n",
       "      <td>33.0</td>\n",
       "      <td>11.0</td>\n",
       "    </tr>\n",
       "    <tr>\n",
       "      <th>...</th>\n",
       "      <td>...</td>\n",
       "      <td>...</td>\n",
       "      <td>...</td>\n",
       "      <td>...</td>\n",
       "      <td>...</td>\n",
       "      <td>...</td>\n",
       "      <td>...</td>\n",
       "      <td>...</td>\n",
       "      <td>...</td>\n",
       "      <td>...</td>\n",
       "      <td>...</td>\n",
       "      <td>...</td>\n",
       "      <td>...</td>\n",
       "      <td>...</td>\n",
       "      <td>...</td>\n",
       "      <td>...</td>\n",
       "      <td>...</td>\n",
       "      <td>...</td>\n",
       "      <td>...</td>\n",
       "      <td>...</td>\n",
       "      <td>...</td>\n",
       "      <td>...</td>\n",
       "      <td>...</td>\n",
       "      <td>...</td>\n",
       "      <td>...</td>\n",
       "      <td>...</td>\n",
       "      <td>...</td>\n",
       "      <td>...</td>\n",
       "      <td>...</td>\n",
       "      <td>...</td>\n",
       "      <td>...</td>\n",
       "      <td>...</td>\n",
       "      <td>...</td>\n",
       "      <td>...</td>\n",
       "      <td>...</td>\n",
       "      <td>...</td>\n",
       "      <td>...</td>\n",
       "      <td>...</td>\n",
       "      <td>...</td>\n",
       "      <td>...</td>\n",
       "      <td>...</td>\n",
       "    </tr>\n",
       "    <tr>\n",
       "      <th>1105</th>\n",
       "      <td>2024-05-19</td>\n",
       "      <td>69</td>\n",
       "      <td>Hyderabad</td>\n",
       "      <td>Punjab Kings</td>\n",
       "      <td>Sunrisers Hyderabad</td>\n",
       "      <td>214.0</td>\n",
       "      <td>215.0</td>\n",
       "      <td>Sunrisers Hyderabad</td>\n",
       "      <td>Abhishek Sharma</td>\n",
       "      <td>19.0</td>\n",
       "      <td>19.0</td>\n",
       "      <td>Punjab Kings</td>\n",
       "      <td>bat</td>\n",
       "      <td>10.0</td>\n",
       "      <td>17.0</td>\n",
       "      <td>5.0</td>\n",
       "      <td>6.0</td>\n",
       "      <td>4.0</td>\n",
       "      <td>10.0</td>\n",
       "      <td>0.0</td>\n",
       "      <td>...</td>\n",
       "      <td>1.0</td>\n",
       "      <td>1.0</td>\n",
       "      <td>Prakash Bhatt</td>\n",
       "      <td>Bhavesh Patel</td>\n",
       "      <td>HAS Khalid</td>\n",
       "      <td>Nitin Menon</td>\n",
       "      <td>VK Sharma</td>\n",
       "      <td>4.0</td>\n",
       "      <td>2024</td>\n",
       "      <td>RajivGandhiInternationalStadium</td>\n",
       "      <td>NaN</td>\n",
       "      <td>group_stage</td>\n",
       "      <td>regular</td>\n",
       "      <td>27.0</td>\n",
       "      <td>11.0</td>\n",
       "      <td>14.0</td>\n",
       "      <td>0.0</td>\n",
       "      <td>2.0</td>\n",
       "      <td>31.0</td>\n",
       "      <td>26.0</td>\n",
       "    </tr>\n",
       "    <tr>\n",
       "      <th>1106</th>\n",
       "      <td>2024-05-21</td>\n",
       "      <td>70</td>\n",
       "      <td>Ahmedabad</td>\n",
       "      <td>Sunrisers Hyderabad</td>\n",
       "      <td>Kolkata Knight Riders</td>\n",
       "      <td>159.0</td>\n",
       "      <td>164.0</td>\n",
       "      <td>Kolkata Knight Riders</td>\n",
       "      <td>MA Starc</td>\n",
       "      <td>19.0</td>\n",
       "      <td>13.0</td>\n",
       "      <td>Sunrisers Hyderabad</td>\n",
       "      <td>bat</td>\n",
       "      <td>7.0</td>\n",
       "      <td>11.0</td>\n",
       "      <td>0.0</td>\n",
       "      <td>9.0</td>\n",
       "      <td>5.0</td>\n",
       "      <td>2.0</td>\n",
       "      <td>0.0</td>\n",
       "      <td>...</td>\n",
       "      <td>2.0</td>\n",
       "      <td>0.0</td>\n",
       "      <td>J Srinath</td>\n",
       "      <td>MV Saidharshan Kumar</td>\n",
       "      <td>KN Ananthapadmanabhan</td>\n",
       "      <td>AK Chaudhary</td>\n",
       "      <td>R Pandit</td>\n",
       "      <td>8.0</td>\n",
       "      <td>2024</td>\n",
       "      <td>NarendraModiStadium</td>\n",
       "      <td>NaN</td>\n",
       "      <td>Qualifier 1</td>\n",
       "      <td>regular</td>\n",
       "      <td>18.0</td>\n",
       "      <td>9.0</td>\n",
       "      <td>7.0</td>\n",
       "      <td>0.0</td>\n",
       "      <td>2.0</td>\n",
       "      <td>29.0</td>\n",
       "      <td>16.0</td>\n",
       "    </tr>\n",
       "    <tr>\n",
       "      <th>1107</th>\n",
       "      <td>2024-05-22</td>\n",
       "      <td>71</td>\n",
       "      <td>Ahmedabad</td>\n",
       "      <td>Royal Challengers Bengaluru</td>\n",
       "      <td>Rajasthan Royals</td>\n",
       "      <td>172.0</td>\n",
       "      <td>174.0</td>\n",
       "      <td>Rajasthan Royals</td>\n",
       "      <td>R Ashwin</td>\n",
       "      <td>19.0</td>\n",
       "      <td>18.0</td>\n",
       "      <td>Rajasthan Royals</td>\n",
       "      <td>field</td>\n",
       "      <td>4.0</td>\n",
       "      <td>6.0</td>\n",
       "      <td>2.0</td>\n",
       "      <td>1.0</td>\n",
       "      <td>2.0</td>\n",
       "      <td>5.0</td>\n",
       "      <td>0.0</td>\n",
       "      <td>...</td>\n",
       "      <td>0.0</td>\n",
       "      <td>0.0</td>\n",
       "      <td>V Narayan Kutty</td>\n",
       "      <td>R Pandit</td>\n",
       "      <td>AK Chaudhary</td>\n",
       "      <td>KN Ananthapadmanabhan</td>\n",
       "      <td>MV Saidharshan Kumar</td>\n",
       "      <td>4.0</td>\n",
       "      <td>2024</td>\n",
       "      <td>NarendraModiStadium</td>\n",
       "      <td>NaN</td>\n",
       "      <td>Eliminator</td>\n",
       "      <td>regular</td>\n",
       "      <td>10.0</td>\n",
       "      <td>3.0</td>\n",
       "      <td>7.0</td>\n",
       "      <td>0.0</td>\n",
       "      <td>0.0</td>\n",
       "      <td>33.0</td>\n",
       "      <td>13.0</td>\n",
       "    </tr>\n",
       "    <tr>\n",
       "      <th>1108</th>\n",
       "      <td>2024-05-24</td>\n",
       "      <td>72</td>\n",
       "      <td>Chennai</td>\n",
       "      <td>Sunrisers Hyderabad</td>\n",
       "      <td>Rajasthan Royals</td>\n",
       "      <td>175.0</td>\n",
       "      <td>139.0</td>\n",
       "      <td>Sunrisers Hyderabad</td>\n",
       "      <td>Shahbaz Ahmed</td>\n",
       "      <td>19.0</td>\n",
       "      <td>19.0</td>\n",
       "      <td>Rajasthan Royals</td>\n",
       "      <td>field</td>\n",
       "      <td>8.0</td>\n",
       "      <td>5.0</td>\n",
       "      <td>1.0</td>\n",
       "      <td>1.0</td>\n",
       "      <td>7.0</td>\n",
       "      <td>3.0</td>\n",
       "      <td>0.0</td>\n",
       "      <td>...</td>\n",
       "      <td>0.0</td>\n",
       "      <td>1.0</td>\n",
       "      <td>J Srinath</td>\n",
       "      <td>J Madanagopal</td>\n",
       "      <td>MA Gough</td>\n",
       "      <td>Nitin Menon</td>\n",
       "      <td>VK Sharma</td>\n",
       "      <td>NaN</td>\n",
       "      <td>2024</td>\n",
       "      <td>MAChidambaramStadium</td>\n",
       "      <td>36.0</td>\n",
       "      <td>Qualifier 2</td>\n",
       "      <td>regular</td>\n",
       "      <td>13.0</td>\n",
       "      <td>2.0</td>\n",
       "      <td>10.0</td>\n",
       "      <td>0.0</td>\n",
       "      <td>1.0</td>\n",
       "      <td>24.0</td>\n",
       "      <td>14.0</td>\n",
       "    </tr>\n",
       "    <tr>\n",
       "      <th>1109</th>\n",
       "      <td>2024-05-26</td>\n",
       "      <td>73</td>\n",
       "      <td>Chennai</td>\n",
       "      <td>Sunrisers Hyderabad</td>\n",
       "      <td>Kolkata Knight Riders</td>\n",
       "      <td>113.0</td>\n",
       "      <td>114.0</td>\n",
       "      <td>Kolkata Knight Riders</td>\n",
       "      <td>MA Starc</td>\n",
       "      <td>18.0</td>\n",
       "      <td>10.0</td>\n",
       "      <td>Sunrisers Hyderabad</td>\n",
       "      <td>bat</td>\n",
       "      <td>13.0</td>\n",
       "      <td>11.0</td>\n",
       "      <td>2.0</td>\n",
       "      <td>2.0</td>\n",
       "      <td>6.0</td>\n",
       "      <td>5.0</td>\n",
       "      <td>5.0</td>\n",
       "      <td>...</td>\n",
       "      <td>0.0</td>\n",
       "      <td>0.0</td>\n",
       "      <td>M Nayyar</td>\n",
       "      <td>VK Sharma</td>\n",
       "      <td>MA Gough</td>\n",
       "      <td>J Madanagopal</td>\n",
       "      <td>Nitin Menon</td>\n",
       "      <td>8.0</td>\n",
       "      <td>2024</td>\n",
       "      <td>MAChidambaramStadium</td>\n",
       "      <td>NaN</td>\n",
       "      <td>Final</td>\n",
       "      <td>regular</td>\n",
       "      <td>24.0</td>\n",
       "      <td>4.0</td>\n",
       "      <td>11.0</td>\n",
       "      <td>9.0</td>\n",
       "      <td>0.0</td>\n",
       "      <td>18.0</td>\n",
       "      <td>9.0</td>\n",
       "    </tr>\n",
       "  </tbody>\n",
       "</table>\n",
       "<p>1110 rows × 41 columns</p>\n",
       "</div>"
      ],
      "text/plain": [
       "            date  match_number        city                       team_1  \\\n",
       "0     2008-04-18             1   Bangalore        Kolkata Knight Riders   \n",
       "1     2008-04-19             2  Chandigarh          Chennai Super Kings   \n",
       "2     2008-04-19             3       Delhi             Rajasthan Royals   \n",
       "3     2008-04-20             4     Kolkata              Deccan Chargers   \n",
       "4     2008-04-20             5      Mumbai               Mumbai Indians   \n",
       "...          ...           ...         ...                          ...   \n",
       "1105  2024-05-19            69   Hyderabad                 Punjab Kings   \n",
       "1106  2024-05-21            70   Ahmedabad          Sunrisers Hyderabad   \n",
       "1107  2024-05-22            71   Ahmedabad  Royal Challengers Bengaluru   \n",
       "1108  2024-05-24            72     Chennai          Sunrisers Hyderabad   \n",
       "1109  2024-05-26            73     Chennai          Sunrisers Hyderabad   \n",
       "\n",
       "                           team_2  team_1_runs.total  team_2_runs.total  \\\n",
       "0     Royal Challengers Bangalore              222.0               82.0   \n",
       "1                 Kings XI Punjab              240.0              207.0   \n",
       "2                Delhi Daredevils              129.0              132.0   \n",
       "3           Kolkata Knight Riders              110.0              112.0   \n",
       "4     Royal Challengers Bangalore              165.0              166.0   \n",
       "...                           ...                ...                ...   \n",
       "1105          Sunrisers Hyderabad              214.0              215.0   \n",
       "1106        Kolkata Knight Riders              159.0              164.0   \n",
       "1107             Rajasthan Royals              172.0              174.0   \n",
       "1108             Rajasthan Royals              175.0              139.0   \n",
       "1109        Kolkata Knight Riders              113.0              114.0   \n",
       "\n",
       "                     match_winner  player_of_match  team_1_over  team_2_over  \\\n",
       "0           Kolkata Knight Riders      BB McCullum         19.0         15.0   \n",
       "1             Chennai Super Kings       MEK Hussey         19.0         19.0   \n",
       "2                Delhi Daredevils      MF Maharoof         19.0         15.0   \n",
       "3           Kolkata Knight Riders        DJ Hussey         18.0         18.0   \n",
       "4     Royal Challengers Bangalore       MV Boucher         19.0         19.0   \n",
       "...                           ...              ...          ...          ...   \n",
       "1105          Sunrisers Hyderabad  Abhishek Sharma         19.0         19.0   \n",
       "1106        Kolkata Knight Riders         MA Starc         19.0         13.0   \n",
       "1107             Rajasthan Royals         R Ashwin         19.0         18.0   \n",
       "1108          Sunrisers Hyderabad    Shahbaz Ahmed         19.0         19.0   \n",
       "1109        Kolkata Knight Riders         MA Starc         18.0         10.0   \n",
       "\n",
       "                      toss_winner toss_decision  team_1_runs.extras  \\\n",
       "0     Royal Challengers Bangalore         field                17.0   \n",
       "1             Chennai Super Kings           bat                 6.0   \n",
       "2                Rajasthan Royals           bat                 7.0   \n",
       "3                 Deccan Chargers           bat                10.0   \n",
       "4                  Mumbai Indians           bat                11.0   \n",
       "...                           ...           ...                 ...   \n",
       "1105                 Punjab Kings           bat                10.0   \n",
       "1106          Sunrisers Hyderabad           bat                 7.0   \n",
       "1107             Rajasthan Royals         field                 4.0   \n",
       "1108             Rajasthan Royals         field                 8.0   \n",
       "1109          Sunrisers Hyderabad           bat                13.0   \n",
       "\n",
       "      team_2_runs.extras  team_1_extras.legbyes  team_2_extras.legbyes  \\\n",
       "0                   19.0                    4.0                    8.0   \n",
       "1                   11.0                    2.0                    4.0   \n",
       "2                   10.0                    3.0                    0.0   \n",
       "3                   28.0                    4.0                    8.0   \n",
       "4                    5.0                    6.0                    0.0   \n",
       "...                  ...                    ...                    ...   \n",
       "1105                17.0                    5.0                    6.0   \n",
       "1106                11.0                    0.0                    9.0   \n",
       "1107                 6.0                    2.0                    1.0   \n",
       "1108                 5.0                    1.0                    1.0   \n",
       "1109                11.0                    2.0                    2.0   \n",
       "\n",
       "      team_1_extras.wides  team_2_extras.wides  team_1_extras.byes  ...  \\\n",
       "0                     9.0                 11.0                 4.0  ...   \n",
       "1                     3.0                  5.0                 0.0  ...   \n",
       "2                     3.0                 10.0                 1.0  ...   \n",
       "3                     4.0                 15.0                 0.0  ...   \n",
       "4                     3.0                  5.0                 2.0  ...   \n",
       "...                   ...                  ...                 ...  ...   \n",
       "1105                  4.0                 10.0                 0.0  ...   \n",
       "1106                  5.0                  2.0                 0.0  ...   \n",
       "1107                  2.0                  5.0                 0.0  ...   \n",
       "1108                  7.0                  3.0                 0.0  ...   \n",
       "1109                  6.0                  5.0                 5.0  ...   \n",
       "\n",
       "      team_1_extras.noballs  team_2_extras.noballs  officials_match_referees  \\\n",
       "0                       0.0                    0.0                 J Srinath   \n",
       "1                       1.0                    0.0         S Venkataraghavan   \n",
       "2                       0.0                    0.0              GR Viswanath   \n",
       "3                       2.0                    1.0               FM Engineer   \n",
       "4                       0.0                    0.0                 J Srinath   \n",
       "...                     ...                    ...                       ...   \n",
       "1105                    1.0                    1.0             Prakash Bhatt   \n",
       "1106                    2.0                    0.0                 J Srinath   \n",
       "1107                    0.0                    0.0           V Narayan Kutty   \n",
       "1108                    0.0                    1.0                 J Srinath   \n",
       "1109                    0.0                    0.0                  M Nayyar   \n",
       "\n",
       "     officials_reserve_umpires   officials_tv_umpires    officials_umpires_1  \\\n",
       "0                  VN Kulkarni              AM Saheba              Asad Rauf   \n",
       "1                  MSS Ranawat              RB Tiffin              MR Benson   \n",
       "2                          NaN              IL Howell              Aleem Dar   \n",
       "3                      F Gomes              Asad Rauf              BF Bowden   \n",
       "4                  SN Bandekar         AV Jayaprakash               SJ Davis   \n",
       "...                        ...                    ...                    ...   \n",
       "1105             Bhavesh Patel             HAS Khalid            Nitin Menon   \n",
       "1106      MV Saidharshan Kumar  KN Ananthapadmanabhan           AK Chaudhary   \n",
       "1107                  R Pandit           AK Chaudhary  KN Ananthapadmanabhan   \n",
       "1108             J Madanagopal               MA Gough            Nitin Menon   \n",
       "1109                 VK Sharma               MA Gough          J Madanagopal   \n",
       "\n",
       "       officials_umpires_2 outcome_by_wickets  season  \\\n",
       "0              RE Koertzen                NaN    2008   \n",
       "1               SL Shastri                NaN    2008   \n",
       "2           GA Pratapkumar                9.0    2008   \n",
       "3              K Hariharan                5.0    2008   \n",
       "4                DJ Harper                5.0    2008   \n",
       "...                    ...                ...     ...   \n",
       "1105             VK Sharma                4.0    2024   \n",
       "1106              R Pandit                8.0    2024   \n",
       "1107  MV Saidharshan Kumar                4.0    2024   \n",
       "1108             VK Sharma                NaN    2024   \n",
       "1109           Nitin Menon                8.0    2024   \n",
       "\n",
       "                                venue outcome_by_runs  event_stage  \\\n",
       "0                 MChinnaswamyStadium           140.0  group_stage   \n",
       "1     PunjabCricketAssociationStadium            33.0  group_stage   \n",
       "2                      FerozShahKotla             NaN  group_stage   \n",
       "3                         EdenGardens             NaN  group_stage   \n",
       "4                     WankhedeStadium             NaN  group_stage   \n",
       "...                               ...             ...          ...   \n",
       "1105  RajivGandhiInternationalStadium             NaN  group_stage   \n",
       "1106              NarendraModiStadium             NaN  Qualifier 1   \n",
       "1107              NarendraModiStadium             NaN   Eliminator   \n",
       "1108             MAChidambaramStadium            36.0  Qualifier 2   \n",
       "1109             MAChidambaramStadium             NaN        Final   \n",
       "\n",
       "     outcome_method match_extras  match_legbyes  match_wides  match_byes  \\\n",
       "0           regular         36.0           12.0         20.0         4.0   \n",
       "1           regular         17.0            6.0          8.0         2.0   \n",
       "2           regular         17.0            3.0         13.0         1.0   \n",
       "3           regular         38.0           12.0         19.0         4.0   \n",
       "4           regular         16.0            6.0          8.0         2.0   \n",
       "...             ...          ...            ...          ...         ...   \n",
       "1105        regular         27.0           11.0         14.0         0.0   \n",
       "1106        regular         18.0            9.0          7.0         0.0   \n",
       "1107        regular         10.0            3.0          7.0         0.0   \n",
       "1108        regular         13.0            2.0         10.0         0.0   \n",
       "1109        regular         24.0            4.0         11.0         9.0   \n",
       "\n",
       "      match_noballs  match_4's  match_6's  \n",
       "0               0.0       18.0       17.0  \n",
       "1               1.0       38.0       25.0  \n",
       "2               0.0       32.0        4.0  \n",
       "3               3.0       11.0       10.0  \n",
       "4               0.0       33.0       11.0  \n",
       "...             ...        ...        ...  \n",
       "1105            2.0       31.0       26.0  \n",
       "1106            2.0       29.0       16.0  \n",
       "1107            0.0       33.0       13.0  \n",
       "1108            1.0       24.0       14.0  \n",
       "1109            0.0       18.0        9.0  \n",
       "\n",
       "[1110 rows x 41 columns]"
      ]
     },
     "execution_count": 140,
     "metadata": {},
     "output_type": "execute_result"
    }
   ],
   "source": [
    "match_level_stats"
   ]
  },
  {
   "cell_type": "markdown",
   "metadata": {},
   "source": [
    "Nopw we have both `match_level_stats` and `ball_by_ball` DataFrames , and we have two columns `date` and `match_number` which are common in both and serve as id columns in both , So lets go ahead and join both the worlds together"
   ]
  },
  {
   "cell_type": "code",
   "execution_count": 141,
   "metadata": {},
   "outputs": [],
   "source": [
    "master_df = pd.merge(left=ball_by_ball,right=match_level_stats,on=['date','match_number'])"
   ]
  },
  {
   "cell_type": "markdown",
   "metadata": {},
   "source": [
    "Now we drop the duplicates created on the `merge()` operation"
   ]
  },
  {
   "cell_type": "code",
   "execution_count": 142,
   "metadata": {},
   "outputs": [],
   "source": [
    "master_df.drop(columns='season_y',inplace=True)"
   ]
  },
  {
   "cell_type": "code",
   "execution_count": 143,
   "metadata": {},
   "outputs": [],
   "source": [
    "master_df.rename(columns={'season_x':'season'},inplace=True)"
   ]
  },
  {
   "cell_type": "code",
   "execution_count": 144,
   "metadata": {},
   "outputs": [
    {
     "data": {
      "text/plain": [
       "Index(['date', 'match_number', 'innings', 'over', 'batter', 'bowler', 'stage',\n",
       "       'non_striker', 'runs.batter', 'runs.extras', 'runs.total',\n",
       "       'extras.legbyes', 'extras.wides', 'extras.byes', 'extras.noballs',\n",
       "       'wicket.kind', 'wicket.player_out', 'wicket.fielders', 'season', 'city',\n",
       "       'team_1', 'team_2', 'team_1_runs.total', 'team_2_runs.total',\n",
       "       'match_winner', 'player_of_match', 'team_1_over', 'team_2_over',\n",
       "       'toss_winner', 'toss_decision', 'team_1_runs.extras',\n",
       "       'team_2_runs.extras', 'team_1_extras.legbyes', 'team_2_extras.legbyes',\n",
       "       'team_1_extras.wides', 'team_2_extras.wides', 'team_1_extras.byes',\n",
       "       'team_2_extras.byes', 'team_1_extras.noballs', 'team_2_extras.noballs',\n",
       "       'officials_match_referees', 'officials_reserve_umpires',\n",
       "       'officials_tv_umpires', 'officials_umpires_1', 'officials_umpires_2',\n",
       "       'outcome_by_wickets', 'venue', 'outcome_by_runs', 'event_stage',\n",
       "       'outcome_method', 'match_extras', 'match_legbyes', 'match_wides',\n",
       "       'match_byes', 'match_noballs', 'match_4's', 'match_6's'],\n",
       "      dtype='object')"
      ]
     },
     "execution_count": 144,
     "metadata": {},
     "output_type": "execute_result"
    }
   ],
   "source": [
    "master_df.columns"
   ]
  },
  {
   "cell_type": "code",
   "execution_count": 145,
   "metadata": {},
   "outputs": [],
   "source": [
    "# master_df.drop(columns='wickets',inplace=True)\n",
    "# ball_by_ball.drop(columns='wickets',inplace=True)"
   ]
  },
  {
   "cell_type": "markdown",
   "metadata": {},
   "source": [
    "Finally lets end this EDA with some basic analysis on the `ball_by_ball` just to see how powerful the analysis can be \n",
    "\n",
    "First we are getting the batting-scorecard of every match"
   ]
  },
  {
   "cell_type": "code",
   "execution_count": 146,
   "metadata": {},
   "outputs": [
    {
     "name": "stderr",
     "output_type": "stream",
     "text": [
      "/tmp/ipykernel_4765/1695573749.py:1: FutureWarning: The provided callable <function sum at 0x7f65c0b8b9c0> is currently using SeriesGroupBy.sum. In a future version of pandas, the provided callable will be used directly. To keep current behavior pass the string \"sum\" instead.\n",
      "  ball_by_ball.groupby(['date','match_number','innings','batter']).agg({'runs.batter':np.sum,'runs.extras':np.sum,'bowler':'count'})\n",
      "/tmp/ipykernel_4765/1695573749.py:1: FutureWarning: The provided callable <function sum at 0x7f65c0b8b9c0> is currently using SeriesGroupBy.sum. In a future version of pandas, the provided callable will be used directly. To keep current behavior pass the string \"sum\" instead.\n",
      "  ball_by_ball.groupby(['date','match_number','innings','batter']).agg({'runs.batter':np.sum,'runs.extras':np.sum,'bowler':'count'})\n"
     ]
    },
    {
     "data": {
      "text/html": [
       "<div>\n",
       "<style scoped>\n",
       "    .dataframe tbody tr th:only-of-type {\n",
       "        vertical-align: middle;\n",
       "    }\n",
       "\n",
       "    .dataframe tbody tr th {\n",
       "        vertical-align: top;\n",
       "    }\n",
       "\n",
       "    .dataframe thead th {\n",
       "        text-align: right;\n",
       "    }\n",
       "</style>\n",
       "<table border=\"1\" class=\"dataframe\">\n",
       "  <thead>\n",
       "    <tr style=\"text-align: right;\">\n",
       "      <th></th>\n",
       "      <th></th>\n",
       "      <th></th>\n",
       "      <th></th>\n",
       "      <th>runs.batter</th>\n",
       "      <th>runs.extras</th>\n",
       "      <th>bowler</th>\n",
       "    </tr>\n",
       "    <tr>\n",
       "      <th>date</th>\n",
       "      <th>match_number</th>\n",
       "      <th>innings</th>\n",
       "      <th>batter</th>\n",
       "      <th></th>\n",
       "      <th></th>\n",
       "      <th></th>\n",
       "    </tr>\n",
       "  </thead>\n",
       "  <tbody>\n",
       "    <tr>\n",
       "      <th rowspan=\"5\" valign=\"top\">2008-04-18</th>\n",
       "      <th rowspan=\"5\" valign=\"top\">1</th>\n",
       "      <th rowspan=\"5\" valign=\"top\">1</th>\n",
       "      <th>BB McCullum</th>\n",
       "      <td>158</td>\n",
       "      <td>11</td>\n",
       "      <td>77</td>\n",
       "    </tr>\n",
       "    <tr>\n",
       "      <th>DJ Hussey</th>\n",
       "      <td>12</td>\n",
       "      <td>0</td>\n",
       "      <td>12</td>\n",
       "    </tr>\n",
       "    <tr>\n",
       "      <th>Mohammad Hafeez</th>\n",
       "      <td>5</td>\n",
       "      <td>0</td>\n",
       "      <td>3</td>\n",
       "    </tr>\n",
       "    <tr>\n",
       "      <th>RT Ponting</th>\n",
       "      <td>20</td>\n",
       "      <td>4</td>\n",
       "      <td>20</td>\n",
       "    </tr>\n",
       "    <tr>\n",
       "      <th>SC Ganguly</th>\n",
       "      <td>10</td>\n",
       "      <td>2</td>\n",
       "      <td>12</td>\n",
       "    </tr>\n",
       "    <tr>\n",
       "      <th>...</th>\n",
       "      <th>...</th>\n",
       "      <th>...</th>\n",
       "      <th>...</th>\n",
       "      <td>...</td>\n",
       "      <td>...</td>\n",
       "      <td>...</td>\n",
       "    </tr>\n",
       "    <tr>\n",
       "      <th rowspan=\"5\" valign=\"top\">2024-05-26</th>\n",
       "      <th rowspan=\"5\" valign=\"top\">73</th>\n",
       "      <th>1</th>\n",
       "      <th>TM Head</th>\n",
       "      <td>0</td>\n",
       "      <td>0</td>\n",
       "      <td>1</td>\n",
       "    </tr>\n",
       "    <tr>\n",
       "      <th rowspan=\"4\" valign=\"top\">2</th>\n",
       "      <th>Rahmanullah Gurbaz</th>\n",
       "      <td>39</td>\n",
       "      <td>7</td>\n",
       "      <td>35</td>\n",
       "    </tr>\n",
       "    <tr>\n",
       "      <th>SP Narine</th>\n",
       "      <td>6</td>\n",
       "      <td>0</td>\n",
       "      <td>2</td>\n",
       "    </tr>\n",
       "    <tr>\n",
       "      <th>SS Iyer</th>\n",
       "      <td>6</td>\n",
       "      <td>0</td>\n",
       "      <td>3</td>\n",
       "    </tr>\n",
       "    <tr>\n",
       "      <th>VR Iyer</th>\n",
       "      <td>52</td>\n",
       "      <td>4</td>\n",
       "      <td>27</td>\n",
       "    </tr>\n",
       "  </tbody>\n",
       "</table>\n",
       "<p>16515 rows × 3 columns</p>\n",
       "</div>"
      ],
      "text/plain": [
       "                                                    runs.batter  runs.extras  \\\n",
       "date       match_number innings batter                                         \n",
       "2008-04-18 1            1       BB McCullum                 158           11   \n",
       "                                DJ Hussey                    12            0   \n",
       "                                Mohammad Hafeez               5            0   \n",
       "                                RT Ponting                   20            4   \n",
       "                                SC Ganguly                   10            2   \n",
       "...                                                         ...          ...   \n",
       "2024-05-26 73           1       TM Head                       0            0   \n",
       "                        2       Rahmanullah Gurbaz           39            7   \n",
       "                                SP Narine                     6            0   \n",
       "                                SS Iyer                       6            0   \n",
       "                                VR Iyer                      52            4   \n",
       "\n",
       "                                                    bowler  \n",
       "date       match_number innings batter                      \n",
       "2008-04-18 1            1       BB McCullum             77  \n",
       "                                DJ Hussey               12  \n",
       "                                Mohammad Hafeez          3  \n",
       "                                RT Ponting              20  \n",
       "                                SC Ganguly              12  \n",
       "...                                                    ...  \n",
       "2024-05-26 73           1       TM Head                  1  \n",
       "                        2       Rahmanullah Gurbaz      35  \n",
       "                                SP Narine                2  \n",
       "                                SS Iyer                  3  \n",
       "                                VR Iyer                 27  \n",
       "\n",
       "[16515 rows x 3 columns]"
      ]
     },
     "execution_count": 146,
     "metadata": {},
     "output_type": "execute_result"
    }
   ],
   "source": [
    "ball_by_ball.groupby(['date','match_number','innings','batter']).agg({'runs.batter':np.sum,'runs.extras':np.sum,'bowler':'count'})\n"
   ]
  },
  {
   "cell_type": "markdown",
   "metadata": {},
   "source": [
    "Now the bowlers score card for every match"
   ]
  },
  {
   "cell_type": "code",
   "execution_count": 147,
   "metadata": {},
   "outputs": [
    {
     "data": {
      "text/html": [
       "<div>\n",
       "<style scoped>\n",
       "    .dataframe tbody tr th:only-of-type {\n",
       "        vertical-align: middle;\n",
       "    }\n",
       "\n",
       "    .dataframe tbody tr th {\n",
       "        vertical-align: top;\n",
       "    }\n",
       "\n",
       "    .dataframe thead th {\n",
       "        text-align: right;\n",
       "    }\n",
       "</style>\n",
       "<table border=\"1\" class=\"dataframe\">\n",
       "  <thead>\n",
       "    <tr style=\"text-align: right;\">\n",
       "      <th></th>\n",
       "      <th></th>\n",
       "      <th></th>\n",
       "      <th></th>\n",
       "      <th></th>\n",
       "      <th>runs.total</th>\n",
       "      <th>wicket.kind</th>\n",
       "      <th>batter</th>\n",
       "    </tr>\n",
       "    <tr>\n",
       "      <th>date</th>\n",
       "      <th>match_number</th>\n",
       "      <th>innings</th>\n",
       "      <th>bowler</th>\n",
       "      <th>runs.batter</th>\n",
       "      <th></th>\n",
       "      <th></th>\n",
       "      <th></th>\n",
       "    </tr>\n",
       "  </thead>\n",
       "  <tbody>\n",
       "    <tr>\n",
       "      <th rowspan=\"5\" valign=\"top\">2008-04-18</th>\n",
       "      <th rowspan=\"5\" valign=\"top\">1</th>\n",
       "      <th rowspan=\"5\" valign=\"top\">1</th>\n",
       "      <th rowspan=\"5\" valign=\"top\">AA Noffke</th>\n",
       "      <th>0</th>\n",
       "      <td>6</td>\n",
       "      <td>1</td>\n",
       "      <td>8</td>\n",
       "    </tr>\n",
       "    <tr>\n",
       "      <th>1</th>\n",
       "      <td>11</td>\n",
       "      <td>0</td>\n",
       "      <td>11</td>\n",
       "    </tr>\n",
       "    <tr>\n",
       "      <th>2</th>\n",
       "      <td>4</td>\n",
       "      <td>0</td>\n",
       "      <td>2</td>\n",
       "    </tr>\n",
       "    <tr>\n",
       "      <th>4</th>\n",
       "      <td>8</td>\n",
       "      <td>0</td>\n",
       "      <td>2</td>\n",
       "    </tr>\n",
       "    <tr>\n",
       "      <th>6</th>\n",
       "      <td>12</td>\n",
       "      <td>0</td>\n",
       "      <td>2</td>\n",
       "    </tr>\n",
       "    <tr>\n",
       "      <th>...</th>\n",
       "      <th>...</th>\n",
       "      <th>...</th>\n",
       "      <th>...</th>\n",
       "      <th>...</th>\n",
       "      <td>...</td>\n",
       "      <td>...</td>\n",
       "      <td>...</td>\n",
       "    </tr>\n",
       "    <tr>\n",
       "      <th rowspan=\"5\" valign=\"top\">2024-05-26</th>\n",
       "      <th rowspan=\"5\" valign=\"top\">73</th>\n",
       "      <th rowspan=\"5\" valign=\"top\">2</th>\n",
       "      <th>Shahbaz Ahmed</th>\n",
       "      <th>6</th>\n",
       "      <td>12</td>\n",
       "      <td>0</td>\n",
       "      <td>2</td>\n",
       "    </tr>\n",
       "    <tr>\n",
       "      <th rowspan=\"4\" valign=\"top\">T Natarajan</th>\n",
       "      <th>0</th>\n",
       "      <td>2</td>\n",
       "      <td>0</td>\n",
       "      <td>4</td>\n",
       "    </tr>\n",
       "    <tr>\n",
       "      <th>1</th>\n",
       "      <td>5</td>\n",
       "      <td>0</td>\n",
       "      <td>5</td>\n",
       "    </tr>\n",
       "    <tr>\n",
       "      <th>4</th>\n",
       "      <td>16</td>\n",
       "      <td>0</td>\n",
       "      <td>4</td>\n",
       "    </tr>\n",
       "    <tr>\n",
       "      <th>6</th>\n",
       "      <td>6</td>\n",
       "      <td>0</td>\n",
       "      <td>1</td>\n",
       "    </tr>\n",
       "  </tbody>\n",
       "</table>\n",
       "<p>54044 rows × 3 columns</p>\n",
       "</div>"
      ],
      "text/plain": [
       "                                                           runs.total  \\\n",
       "date       match_number innings bowler        runs.batter               \n",
       "2008-04-18 1            1       AA Noffke     0                     6   \n",
       "                                              1                    11   \n",
       "                                              2                     4   \n",
       "                                              4                     8   \n",
       "                                              6                    12   \n",
       "...                                                               ...   \n",
       "2024-05-26 73           2       Shahbaz Ahmed 6                    12   \n",
       "                                T Natarajan   0                     2   \n",
       "                                              1                     5   \n",
       "                                              4                    16   \n",
       "                                              6                     6   \n",
       "\n",
       "                                                           wicket.kind  batter  \n",
       "date       match_number innings bowler        runs.batter                       \n",
       "2008-04-18 1            1       AA Noffke     0                      1       8  \n",
       "                                              1                      0      11  \n",
       "                                              2                      0       2  \n",
       "                                              4                      0       2  \n",
       "                                              6                      0       2  \n",
       "...                                                                ...     ...  \n",
       "2024-05-26 73           2       Shahbaz Ahmed 6                      0       2  \n",
       "                                T Natarajan   0                      0       4  \n",
       "                                              1                      0       5  \n",
       "                                              4                      0       4  \n",
       "                                              6                      0       1  \n",
       "\n",
       "[54044 rows x 3 columns]"
      ]
     },
     "execution_count": 147,
     "metadata": {},
     "output_type": "execute_result"
    }
   ],
   "source": [
    "ball_by_ball.groupby(['date','match_number','innings','bowler','runs.batter']).agg({'runs.total':'sum','wicket.kind':'count','batter':'count'})\n"
   ]
  },
  {
   "cell_type": "markdown",
   "metadata": {},
   "source": [
    "Lets see some season level stats\n",
    "\n",
    "Below we see the total runs scored by batter in a season and his batting-average in that season and also the bowler who bowled the maximum balls to him"
   ]
  },
  {
   "cell_type": "code",
   "execution_count": 148,
   "metadata": {},
   "outputs": [],
   "source": [
    "batter_total = ball_by_ball.groupby(['batter','season',]).agg({'runs.total':['sum',np.average],'bowler':'max'})\n"
   ]
  },
  {
   "cell_type": "code",
   "execution_count": 149,
   "metadata": {},
   "outputs": [
    {
     "data": {
      "text/html": [
       "<div>\n",
       "<style scoped>\n",
       "    .dataframe tbody tr th:only-of-type {\n",
       "        vertical-align: middle;\n",
       "    }\n",
       "\n",
       "    .dataframe tbody tr th {\n",
       "        vertical-align: top;\n",
       "    }\n",
       "\n",
       "    .dataframe thead tr th {\n",
       "        text-align: left;\n",
       "    }\n",
       "\n",
       "    .dataframe thead tr:last-of-type th {\n",
       "        text-align: right;\n",
       "    }\n",
       "</style>\n",
       "<table border=\"1\" class=\"dataframe\">\n",
       "  <thead>\n",
       "    <tr>\n",
       "      <th></th>\n",
       "      <th></th>\n",
       "      <th colspan=\"2\" halign=\"left\">runs.total</th>\n",
       "      <th>bowler</th>\n",
       "    </tr>\n",
       "    <tr>\n",
       "      <th></th>\n",
       "      <th></th>\n",
       "      <th>sum</th>\n",
       "      <th>average</th>\n",
       "      <th>max</th>\n",
       "    </tr>\n",
       "    <tr>\n",
       "      <th>batter</th>\n",
       "      <th>season</th>\n",
       "      <th></th>\n",
       "      <th></th>\n",
       "      <th></th>\n",
       "    </tr>\n",
       "  </thead>\n",
       "  <tbody>\n",
       "    <tr>\n",
       "      <th rowspan=\"4\" valign=\"top\">A Ashish Reddy</th>\n",
       "      <th>2012</th>\n",
       "      <td>40</td>\n",
       "      <td>1.333333</td>\n",
       "      <td>SW Tait</td>\n",
       "    </tr>\n",
       "    <tr>\n",
       "      <th>2013</th>\n",
       "      <td>126</td>\n",
       "      <td>1.400000</td>\n",
       "      <td>UT Yadav</td>\n",
       "    </tr>\n",
       "    <tr>\n",
       "      <th>2015</th>\n",
       "      <td>74</td>\n",
       "      <td>1.608696</td>\n",
       "      <td>TG Southee</td>\n",
       "    </tr>\n",
       "    <tr>\n",
       "      <th>2016</th>\n",
       "      <td>48</td>\n",
       "      <td>1.600000</td>\n",
       "      <td>YS Chahal</td>\n",
       "    </tr>\n",
       "    <tr>\n",
       "      <th>A Badoni</th>\n",
       "      <th>2022</th>\n",
       "      <td>173</td>\n",
       "      <td>1.244604</td>\n",
       "      <td>YS Chahal</td>\n",
       "    </tr>\n",
       "    <tr>\n",
       "      <th>...</th>\n",
       "      <th>...</th>\n",
       "      <td>...</td>\n",
       "      <td>...</td>\n",
       "      <td>...</td>\n",
       "    </tr>\n",
       "    <tr>\n",
       "      <th rowspan=\"5\" valign=\"top\">Z Khan</th>\n",
       "      <th>2011</th>\n",
       "      <td>21</td>\n",
       "      <td>0.875000</td>\n",
       "      <td>SB Jakati</td>\n",
       "    </tr>\n",
       "    <tr>\n",
       "      <th>2012</th>\n",
       "      <td>12</td>\n",
       "      <td>0.705882</td>\n",
       "      <td>Shakib Al Hasan</td>\n",
       "    </tr>\n",
       "    <tr>\n",
       "      <th>2014</th>\n",
       "      <td>10</td>\n",
       "      <td>1.428571</td>\n",
       "      <td>IK Pathan</td>\n",
       "    </tr>\n",
       "    <tr>\n",
       "      <th>2016</th>\n",
       "      <td>6</td>\n",
       "      <td>0.461538</td>\n",
       "      <td>PP Chawla</td>\n",
       "    </tr>\n",
       "    <tr>\n",
       "      <th>2017</th>\n",
       "      <td>4</td>\n",
       "      <td>0.307692</td>\n",
       "      <td>P Negi</td>\n",
       "    </tr>\n",
       "  </tbody>\n",
       "</table>\n",
       "<p>2617 rows × 3 columns</p>\n",
       "</div>"
      ],
      "text/plain": [
       "                      runs.total                     bowler\n",
       "                             sum   average              max\n",
       "batter         season                                      \n",
       "A Ashish Reddy 2012           40  1.333333          SW Tait\n",
       "               2013          126  1.400000         UT Yadav\n",
       "               2015           74  1.608696       TG Southee\n",
       "               2016           48  1.600000        YS Chahal\n",
       "A Badoni       2022          173  1.244604        YS Chahal\n",
       "...                          ...       ...              ...\n",
       "Z Khan         2011           21  0.875000        SB Jakati\n",
       "               2012           12  0.705882  Shakib Al Hasan\n",
       "               2014           10  1.428571        IK Pathan\n",
       "               2016            6  0.461538        PP Chawla\n",
       "               2017            4  0.307692           P Negi\n",
       "\n",
       "[2617 rows x 3 columns]"
      ]
     },
     "execution_count": 149,
     "metadata": {},
     "output_type": "execute_result"
    }
   ],
   "source": [
    "batter_total\n"
   ]
  },
  {
   "cell_type": "code",
   "execution_count": 150,
   "metadata": {},
   "outputs": [
    {
     "data": {
      "text/plain": [
       "MultiIndex([('runs.total',     'sum'),\n",
       "            ('runs.total', 'average'),\n",
       "            (    'bowler',     'max')],\n",
       "           )"
      ]
     },
     "execution_count": 150,
     "metadata": {},
     "output_type": "execute_result"
    }
   ],
   "source": [
    "batter_total.columns\n"
   ]
  },
  {
   "cell_type": "markdown",
   "metadata": {},
   "source": [
    "Now we are going to see the split up of the [0,1,2,3,4,6]s that a batter has hit throughout a season"
   ]
  },
  {
   "cell_type": "code",
   "execution_count": 151,
   "metadata": {},
   "outputs": [],
   "source": [
    "batter_scores_count = ball_by_ball.groupby(['batter','season','runs.batter']).agg({'runs.total':['sum','count']})\n"
   ]
  },
  {
   "cell_type": "code",
   "execution_count": 152,
   "metadata": {},
   "outputs": [
    {
     "data": {
      "text/html": [
       "<div>\n",
       "<style scoped>\n",
       "    .dataframe tbody tr th:only-of-type {\n",
       "        vertical-align: middle;\n",
       "    }\n",
       "\n",
       "    .dataframe tbody tr th {\n",
       "        vertical-align: top;\n",
       "    }\n",
       "\n",
       "    .dataframe thead tr th {\n",
       "        text-align: left;\n",
       "    }\n",
       "\n",
       "    .dataframe thead tr:last-of-type th {\n",
       "        text-align: right;\n",
       "    }\n",
       "</style>\n",
       "<table border=\"1\" class=\"dataframe\">\n",
       "  <thead>\n",
       "    <tr>\n",
       "      <th></th>\n",
       "      <th></th>\n",
       "      <th></th>\n",
       "      <th colspan=\"2\" halign=\"left\">runs.total</th>\n",
       "    </tr>\n",
       "    <tr>\n",
       "      <th></th>\n",
       "      <th></th>\n",
       "      <th></th>\n",
       "      <th>sum</th>\n",
       "      <th>count</th>\n",
       "    </tr>\n",
       "    <tr>\n",
       "      <th>batter</th>\n",
       "      <th>season</th>\n",
       "      <th>runs.batter</th>\n",
       "      <th></th>\n",
       "      <th></th>\n",
       "    </tr>\n",
       "  </thead>\n",
       "  <tbody>\n",
       "    <tr>\n",
       "      <th rowspan=\"5\" valign=\"top\">A Ashish Reddy</th>\n",
       "      <th rowspan=\"5\" valign=\"top\">2012</th>\n",
       "      <th>0</th>\n",
       "      <td>5</td>\n",
       "      <td>13</td>\n",
       "    </tr>\n",
       "    <tr>\n",
       "      <th>1</th>\n",
       "      <td>9</td>\n",
       "      <td>9</td>\n",
       "    </tr>\n",
       "    <tr>\n",
       "      <th>2</th>\n",
       "      <td>8</td>\n",
       "      <td>4</td>\n",
       "    </tr>\n",
       "    <tr>\n",
       "      <th>4</th>\n",
       "      <td>12</td>\n",
       "      <td>3</td>\n",
       "    </tr>\n",
       "    <tr>\n",
       "      <th>6</th>\n",
       "      <td>6</td>\n",
       "      <td>1</td>\n",
       "    </tr>\n",
       "    <tr>\n",
       "      <th>...</th>\n",
       "      <th>...</th>\n",
       "      <th>...</th>\n",
       "      <td>...</td>\n",
       "      <td>...</td>\n",
       "    </tr>\n",
       "    <tr>\n",
       "      <th rowspan=\"5\" valign=\"top\">Z Khan</th>\n",
       "      <th rowspan=\"3\" valign=\"top\">2016</th>\n",
       "      <th>0</th>\n",
       "      <td>0</td>\n",
       "      <td>10</td>\n",
       "    </tr>\n",
       "    <tr>\n",
       "      <th>1</th>\n",
       "      <td>2</td>\n",
       "      <td>2</td>\n",
       "    </tr>\n",
       "    <tr>\n",
       "      <th>4</th>\n",
       "      <td>4</td>\n",
       "      <td>1</td>\n",
       "    </tr>\n",
       "    <tr>\n",
       "      <th rowspan=\"2\" valign=\"top\">2017</th>\n",
       "      <th>0</th>\n",
       "      <td>0</td>\n",
       "      <td>9</td>\n",
       "    </tr>\n",
       "    <tr>\n",
       "      <th>1</th>\n",
       "      <td>4</td>\n",
       "      <td>4</td>\n",
       "    </tr>\n",
       "  </tbody>\n",
       "</table>\n",
       "<p>11075 rows × 2 columns</p>\n",
       "</div>"
      ],
      "text/plain": [
       "                                  runs.total      \n",
       "                                         sum count\n",
       "batter         season runs.batter                 \n",
       "A Ashish Reddy 2012   0                    5    13\n",
       "                      1                    9     9\n",
       "                      2                    8     4\n",
       "                      4                   12     3\n",
       "                      6                    6     1\n",
       "...                                      ...   ...\n",
       "Z Khan         2016   0                    0    10\n",
       "                      1                    2     2\n",
       "                      4                    4     1\n",
       "               2017   0                    0     9\n",
       "                      1                    4     4\n",
       "\n",
       "[11075 rows x 2 columns]"
      ]
     },
     "execution_count": 152,
     "metadata": {},
     "output_type": "execute_result"
    }
   ],
   "source": [
    "batter_scores_count"
   ]
  },
  {
   "cell_type": "markdown",
   "metadata": {},
   "source": [
    "Lets see the statistics for THE GOAT Virat Kohli across the season by combinig the `batter_scores_count` and the `batter_total` corresponding to virat"
   ]
  },
  {
   "cell_type": "code",
   "execution_count": 153,
   "metadata": {},
   "outputs": [
    {
     "name": "stdout",
     "output_type": "stream",
     "text": [
      "<class 'pandas.core.frame.DataFrame'>\n",
      "RangeIndex: 97 entries, 0 to 96\n",
      "Data columns (total 4 columns):\n",
      " #   Column                Non-Null Count  Dtype\n",
      "---  ------                --------------  -----\n",
      " 0   season                97 non-null     int64\n",
      " 1   runs.batter_          97 non-null     int64\n",
      " 2   total_runs_per_score  97 non-null     int64\n",
      " 3   no_of_balls           97 non-null     int64\n",
      "dtypes: int64(4)\n",
      "memory usage: 3.2 KB\n",
      "None\n",
      "<class 'pandas.core.frame.DataFrame'>\n",
      "RangeIndex: 17 entries, 0 to 16\n",
      "Data columns (total 4 columns):\n",
      " #   Column              Non-Null Count  Dtype  \n",
      "---  ------              --------------  -----  \n",
      " 0   season              17 non-null     int64  \n",
      " 1   runs.total_sum      17 non-null     int64  \n",
      " 2   runs.total_average  17 non-null     float64\n",
      " 3   bowler_max          17 non-null     object \n",
      "dtypes: float64(1), int64(2), object(1)\n",
      "memory usage: 676.0+ bytes\n",
      "None\n"
     ]
    }
   ],
   "source": [
    "vk1 =batter_scores_count.loc['V Kohli'].reset_index()\n",
    "vk2 = batter_total.loc['V Kohli'].reset_index()\n",
    "vk1.columns = ['_'.join(col) for col in vk1.columns]\n",
    "vk2.columns = ['_'.join(col) for col in vk2.columns]\n",
    "vk1['season_'] =  vk1.season_.astype(int)\n",
    "vk2['season_'] =  vk2.season_.astype(int)\n",
    "vk1.rename(columns={'runs.total_sum':'total_runs_per_score','runs.total_count':'no_of_balls','season_':'season'},inplace=True)\n",
    "vk2.rename(columns={'season_': 'season'}, inplace=True)\n",
    "print(vk1.info())\n",
    "print(vk2.info())"
   ]
  },
  {
   "cell_type": "markdown",
   "metadata": {},
   "source": [
    "Verifying the  resultant dataframes"
   ]
  },
  {
   "cell_type": "code",
   "execution_count": 154,
   "metadata": {},
   "outputs": [
    {
     "name": "stdout",
     "output_type": "stream",
     "text": [
      "season                  int64\n",
      "runs.batter_            int64\n",
      "total_runs_per_score    int64\n",
      "no_of_balls             int64\n",
      "dtype: object\n",
      "season                  int64\n",
      "runs.total_sum          int64\n",
      "runs.total_average    float64\n",
      "bowler_max             object\n",
      "dtype: object\n"
     ]
    },
    {
     "data": {
      "text/html": [
       "<div>\n",
       "<style scoped>\n",
       "    .dataframe tbody tr th:only-of-type {\n",
       "        vertical-align: middle;\n",
       "    }\n",
       "\n",
       "    .dataframe tbody tr th {\n",
       "        vertical-align: top;\n",
       "    }\n",
       "\n",
       "    .dataframe thead th {\n",
       "        text-align: right;\n",
       "    }\n",
       "</style>\n",
       "<table border=\"1\" class=\"dataframe\">\n",
       "  <thead>\n",
       "    <tr style=\"text-align: right;\">\n",
       "      <th></th>\n",
       "      <th>season</th>\n",
       "      <th>runs.total_sum</th>\n",
       "      <th>runs.total_average</th>\n",
       "      <th>bowler_max</th>\n",
       "    </tr>\n",
       "  </thead>\n",
       "  <tbody>\n",
       "    <tr>\n",
       "      <th>0</th>\n",
       "      <td>2008</td>\n",
       "      <td>187</td>\n",
       "      <td>1.113095</td>\n",
       "      <td>WPUJC Vaas</td>\n",
       "    </tr>\n",
       "    <tr>\n",
       "      <th>1</th>\n",
       "      <td>2009</td>\n",
       "      <td>258</td>\n",
       "      <td>1.146667</td>\n",
       "      <td>Yuvraj Singh</td>\n",
       "    </tr>\n",
       "    <tr>\n",
       "      <th>2</th>\n",
       "      <td>2010</td>\n",
       "      <td>320</td>\n",
       "      <td>1.481481</td>\n",
       "      <td>Z Khan</td>\n",
       "    </tr>\n",
       "    <tr>\n",
       "      <th>3</th>\n",
       "      <td>2011</td>\n",
       "      <td>584</td>\n",
       "      <td>1.234672</td>\n",
       "      <td>Yuvraj Singh</td>\n",
       "    </tr>\n",
       "    <tr>\n",
       "      <th>4</th>\n",
       "      <td>2012</td>\n",
       "      <td>375</td>\n",
       "      <td>1.126126</td>\n",
       "      <td>YK Pathan</td>\n",
       "    </tr>\n",
       "  </tbody>\n",
       "</table>\n",
       "</div>"
      ],
      "text/plain": [
       "   season  runs.total_sum  runs.total_average    bowler_max\n",
       "0    2008             187            1.113095    WPUJC Vaas\n",
       "1    2009             258            1.146667  Yuvraj Singh\n",
       "2    2010             320            1.481481        Z Khan\n",
       "3    2011             584            1.234672  Yuvraj Singh\n",
       "4    2012             375            1.126126     YK Pathan"
      ]
     },
     "execution_count": 154,
     "metadata": {},
     "output_type": "execute_result"
    }
   ],
   "source": [
    "print(vk1.dtypes)\n",
    "print(vk2.dtypes)\n",
    "# v_kohli = vk1.join(vk2,on='season',lsuffix='_')\n",
    "v_kohli = pd.merge(vk1, vk2, how=\"inner\", on=\"season\")\n",
    "# v_kohli.columns = ['_'.join(col) for col in v_kohli.columns]\n",
    "# v_kohli.head(20)\n",
    "vk2.head()\n"
   ]
  },
  {
   "cell_type": "code",
   "execution_count": 155,
   "metadata": {},
   "outputs": [
    {
     "data": {
      "text/html": [
       "<div>\n",
       "<style scoped>\n",
       "    .dataframe tbody tr th:only-of-type {\n",
       "        vertical-align: middle;\n",
       "    }\n",
       "\n",
       "    .dataframe tbody tr th {\n",
       "        vertical-align: top;\n",
       "    }\n",
       "\n",
       "    .dataframe thead th {\n",
       "        text-align: right;\n",
       "    }\n",
       "</style>\n",
       "<table border=\"1\" class=\"dataframe\">\n",
       "  <thead>\n",
       "    <tr style=\"text-align: right;\">\n",
       "      <th></th>\n",
       "      <th>season</th>\n",
       "      <th>runs.batter_</th>\n",
       "      <th>total_runs_per_score</th>\n",
       "      <th>no_of_balls</th>\n",
       "    </tr>\n",
       "  </thead>\n",
       "  <tbody>\n",
       "    <tr>\n",
       "      <th>0</th>\n",
       "      <td>2008</td>\n",
       "      <td>0</td>\n",
       "      <td>22</td>\n",
       "      <td>82</td>\n",
       "    </tr>\n",
       "    <tr>\n",
       "      <th>1</th>\n",
       "      <td>2008</td>\n",
       "      <td>1</td>\n",
       "      <td>59</td>\n",
       "      <td>59</td>\n",
       "    </tr>\n",
       "    <tr>\n",
       "      <th>2</th>\n",
       "      <td>2008</td>\n",
       "      <td>2</td>\n",
       "      <td>10</td>\n",
       "      <td>5</td>\n",
       "    </tr>\n",
       "    <tr>\n",
       "      <th>3</th>\n",
       "      <td>2008</td>\n",
       "      <td>4</td>\n",
       "      <td>72</td>\n",
       "      <td>18</td>\n",
       "    </tr>\n",
       "    <tr>\n",
       "      <th>4</th>\n",
       "      <td>2008</td>\n",
       "      <td>6</td>\n",
       "      <td>24</td>\n",
       "      <td>4</td>\n",
       "    </tr>\n",
       "    <tr>\n",
       "      <th>5</th>\n",
       "      <td>2009</td>\n",
       "      <td>0</td>\n",
       "      <td>12</td>\n",
       "      <td>98</td>\n",
       "    </tr>\n",
       "    <tr>\n",
       "      <th>6</th>\n",
       "      <td>2009</td>\n",
       "      <td>1</td>\n",
       "      <td>84</td>\n",
       "      <td>84</td>\n",
       "    </tr>\n",
       "    <tr>\n",
       "      <th>7</th>\n",
       "      <td>2009</td>\n",
       "      <td>2</td>\n",
       "      <td>26</td>\n",
       "      <td>13</td>\n",
       "    </tr>\n",
       "    <tr>\n",
       "      <th>8</th>\n",
       "      <td>2009</td>\n",
       "      <td>4</td>\n",
       "      <td>88</td>\n",
       "      <td>22</td>\n",
       "    </tr>\n",
       "    <tr>\n",
       "      <th>9</th>\n",
       "      <td>2009</td>\n",
       "      <td>6</td>\n",
       "      <td>48</td>\n",
       "      <td>8</td>\n",
       "    </tr>\n",
       "  </tbody>\n",
       "</table>\n",
       "</div>"
      ],
      "text/plain": [
       "   season  runs.batter_  total_runs_per_score  no_of_balls\n",
       "0    2008             0                    22           82\n",
       "1    2008             1                    59           59\n",
       "2    2008             2                    10            5\n",
       "3    2008             4                    72           18\n",
       "4    2008             6                    24            4\n",
       "5    2009             0                    12           98\n",
       "6    2009             1                    84           84\n",
       "7    2009             2                    26           13\n",
       "8    2009             4                    88           22\n",
       "9    2009             6                    48            8"
      ]
     },
     "execution_count": 155,
     "metadata": {},
     "output_type": "execute_result"
    }
   ],
   "source": [
    "vk1.head(10)\n"
   ]
  },
  {
   "cell_type": "code",
   "execution_count": 156,
   "metadata": {},
   "outputs": [
    {
     "data": {
      "text/html": [
       "<div>\n",
       "<style scoped>\n",
       "    .dataframe tbody tr th:only-of-type {\n",
       "        vertical-align: middle;\n",
       "    }\n",
       "\n",
       "    .dataframe tbody tr th {\n",
       "        vertical-align: top;\n",
       "    }\n",
       "\n",
       "    .dataframe thead th {\n",
       "        text-align: right;\n",
       "    }\n",
       "</style>\n",
       "<table border=\"1\" class=\"dataframe\">\n",
       "  <thead>\n",
       "    <tr style=\"text-align: right;\">\n",
       "      <th></th>\n",
       "      <th>season</th>\n",
       "      <th>runs.batter_</th>\n",
       "      <th>total_runs_per_score</th>\n",
       "      <th>no_of_balls</th>\n",
       "      <th>runs.total_sum</th>\n",
       "      <th>runs.total_average</th>\n",
       "      <th>bowler_max</th>\n",
       "    </tr>\n",
       "  </thead>\n",
       "  <tbody>\n",
       "    <tr>\n",
       "      <th>0</th>\n",
       "      <td>2008</td>\n",
       "      <td>0</td>\n",
       "      <td>22</td>\n",
       "      <td>82</td>\n",
       "      <td>187</td>\n",
       "      <td>1.113095</td>\n",
       "      <td>WPUJC Vaas</td>\n",
       "    </tr>\n",
       "    <tr>\n",
       "      <th>1</th>\n",
       "      <td>2008</td>\n",
       "      <td>1</td>\n",
       "      <td>59</td>\n",
       "      <td>59</td>\n",
       "      <td>187</td>\n",
       "      <td>1.113095</td>\n",
       "      <td>WPUJC Vaas</td>\n",
       "    </tr>\n",
       "    <tr>\n",
       "      <th>2</th>\n",
       "      <td>2008</td>\n",
       "      <td>2</td>\n",
       "      <td>10</td>\n",
       "      <td>5</td>\n",
       "      <td>187</td>\n",
       "      <td>1.113095</td>\n",
       "      <td>WPUJC Vaas</td>\n",
       "    </tr>\n",
       "    <tr>\n",
       "      <th>3</th>\n",
       "      <td>2008</td>\n",
       "      <td>4</td>\n",
       "      <td>72</td>\n",
       "      <td>18</td>\n",
       "      <td>187</td>\n",
       "      <td>1.113095</td>\n",
       "      <td>WPUJC Vaas</td>\n",
       "    </tr>\n",
       "    <tr>\n",
       "      <th>4</th>\n",
       "      <td>2008</td>\n",
       "      <td>6</td>\n",
       "      <td>24</td>\n",
       "      <td>4</td>\n",
       "      <td>187</td>\n",
       "      <td>1.113095</td>\n",
       "      <td>WPUJC Vaas</td>\n",
       "    </tr>\n",
       "    <tr>\n",
       "      <th>...</th>\n",
       "      <td>...</td>\n",
       "      <td>...</td>\n",
       "      <td>...</td>\n",
       "      <td>...</td>\n",
       "      <td>...</td>\n",
       "      <td>...</td>\n",
       "      <td>...</td>\n",
       "    </tr>\n",
       "    <tr>\n",
       "      <th>92</th>\n",
       "      <td>2024</td>\n",
       "      <td>1</td>\n",
       "      <td>198</td>\n",
       "      <td>198</td>\n",
       "      <td>770</td>\n",
       "      <td>1.549296</td>\n",
       "      <td>YS Chahal</td>\n",
       "    </tr>\n",
       "    <tr>\n",
       "      <th>93</th>\n",
       "      <td>2024</td>\n",
       "      <td>2</td>\n",
       "      <td>64</td>\n",
       "      <td>32</td>\n",
       "      <td>770</td>\n",
       "      <td>1.549296</td>\n",
       "      <td>YS Chahal</td>\n",
       "    </tr>\n",
       "    <tr>\n",
       "      <th>94</th>\n",
       "      <td>2024</td>\n",
       "      <td>3</td>\n",
       "      <td>3</td>\n",
       "      <td>1</td>\n",
       "      <td>770</td>\n",
       "      <td>1.549296</td>\n",
       "      <td>YS Chahal</td>\n",
       "    </tr>\n",
       "    <tr>\n",
       "      <th>95</th>\n",
       "      <td>2024</td>\n",
       "      <td>4</td>\n",
       "      <td>248</td>\n",
       "      <td>62</td>\n",
       "      <td>770</td>\n",
       "      <td>1.549296</td>\n",
       "      <td>YS Chahal</td>\n",
       "    </tr>\n",
       "    <tr>\n",
       "      <th>96</th>\n",
       "      <td>2024</td>\n",
       "      <td>6</td>\n",
       "      <td>228</td>\n",
       "      <td>38</td>\n",
       "      <td>770</td>\n",
       "      <td>1.549296</td>\n",
       "      <td>YS Chahal</td>\n",
       "    </tr>\n",
       "  </tbody>\n",
       "</table>\n",
       "<p>97 rows × 7 columns</p>\n",
       "</div>"
      ],
      "text/plain": [
       "    season  runs.batter_  total_runs_per_score  no_of_balls  runs.total_sum  \\\n",
       "0     2008             0                    22           82             187   \n",
       "1     2008             1                    59           59             187   \n",
       "2     2008             2                    10            5             187   \n",
       "3     2008             4                    72           18             187   \n",
       "4     2008             6                    24            4             187   \n",
       "..     ...           ...                   ...          ...             ...   \n",
       "92    2024             1                   198          198             770   \n",
       "93    2024             2                    64           32             770   \n",
       "94    2024             3                     3            1             770   \n",
       "95    2024             4                   248           62             770   \n",
       "96    2024             6                   228           38             770   \n",
       "\n",
       "    runs.total_average  bowler_max  \n",
       "0             1.113095  WPUJC Vaas  \n",
       "1             1.113095  WPUJC Vaas  \n",
       "2             1.113095  WPUJC Vaas  \n",
       "3             1.113095  WPUJC Vaas  \n",
       "4             1.113095  WPUJC Vaas  \n",
       "..                 ...         ...  \n",
       "92            1.549296   YS Chahal  \n",
       "93            1.549296   YS Chahal  \n",
       "94            1.549296   YS Chahal  \n",
       "95            1.549296   YS Chahal  \n",
       "96            1.549296   YS Chahal  \n",
       "\n",
       "[97 rows x 7 columns]"
      ]
     },
     "execution_count": 156,
     "metadata": {},
     "output_type": "execute_result"
    }
   ],
   "source": [
    "v_kohli"
   ]
  },
  {
   "cell_type": "code",
   "execution_count": 222,
   "metadata": {},
   "outputs": [],
   "source": [
    "v_kohli['runs.batter_'] = v_kohli['runs.batter_'].astype(str)"
   ]
  },
  {
   "cell_type": "markdown",
   "metadata": {},
   "source": [
    "Now lets plot his performance over the years \n",
    "\n",
    " - The x-axis represents season\n",
    " - The y-axis represents total runs\n",
    " - The size represents no of 4's he hit during the season\n",
    " - Colour represents the bowler who bowled him the maximum deliveries"
   ]
  },
  {
   "cell_type": "code",
   "execution_count": 223,
   "metadata": {},
   "outputs": [
    {
     "data": {
      "application/vnd.plotly.v1+json": {
       "config": {
        "plotlyServerURL": "https://plot.ly"
       },
       "data": [
        {
         "hovertemplate": "runs.batter_=0<br>season=%{x}<br>Total runs=%{y}<br>total_runs_per_score=%{marker.size}<extra></extra>",
         "legendgroup": "0",
         "marker": {
          "color": "#636efa",
          "size": [
           22,
           12,
           12,
           27,
           11,
           18,
           14,
           14,
           23,
           6,
           8,
           8,
           19,
           17,
           21,
           22,
           29
          ],
          "sizemode": "area",
          "sizeref": 0.84,
          "symbol": "circle"
         },
         "mode": "markers",
         "name": "0",
         "orientation": "v",
         "showlegend": true,
         "type": "scatter",
         "x": [
          2008,
          2009,
          2010,
          2011,
          2012,
          2013,
          2014,
          2015,
          2016,
          2017,
          2018,
          2019,
          2020,
          2021,
          2022,
          2023,
          2024
         ],
         "xaxis": "x",
         "y": [
          187,
          258,
          320,
          584,
          375,
          655,
          373,
          519,
          998,
          314,
          539,
          472,
          487,
          423,
          362,
          661,
          770
         ],
         "yaxis": "y"
        },
        {
         "hovertemplate": "runs.batter_=1<br>season=%{x}<br>Total runs=%{y}<br>total_runs_per_score=%{marker.size}<extra></extra>",
         "legendgroup": "1",
         "marker": {
          "color": "#EF553B",
          "size": [
           59,
           84,
           104,
           178,
           137,
           173,
           127,
           153,
           292,
           107,
           167,
           150,
           195,
           145,
           117,
           210,
           198
          ],
          "sizemode": "area",
          "sizeref": 0.84,
          "symbol": "circle"
         },
         "mode": "markers",
         "name": "1",
         "orientation": "v",
         "showlegend": true,
         "type": "scatter",
         "x": [
          2008,
          2009,
          2010,
          2011,
          2012,
          2013,
          2014,
          2015,
          2016,
          2017,
          2018,
          2019,
          2020,
          2021,
          2022,
          2023,
          2024
         ],
         "xaxis": "x",
         "y": [
          187,
          258,
          320,
          584,
          375,
          655,
          373,
          519,
          998,
          314,
          539,
          472,
          487,
          423,
          362,
          661,
          770
         ],
         "yaxis": "y"
        },
        {
         "hovertemplate": "runs.batter_=2<br>season=%{x}<br>Total runs=%{y}<br>total_runs_per_score=%{marker.size}<extra></extra>",
         "legendgroup": "2",
         "marker": {
          "color": "#00cc96",
          "size": [
           10,
           26,
           28,
           60,
           32,
           70,
           38,
           68,
           112,
           40,
           48,
           52,
           109,
           28,
           36,
           70,
           64
          ],
          "sizemode": "area",
          "sizeref": 0.84,
          "symbol": "circle"
         },
         "mode": "markers",
         "name": "2",
         "orientation": "v",
         "showlegend": true,
         "type": "scatter",
         "x": [
          2008,
          2009,
          2010,
          2011,
          2012,
          2013,
          2014,
          2015,
          2016,
          2017,
          2018,
          2019,
          2020,
          2021,
          2022,
          2023,
          2024
         ],
         "xaxis": "x",
         "y": [
          187,
          258,
          320,
          584,
          375,
          655,
          373,
          519,
          998,
          314,
          539,
          472,
          487,
          423,
          362,
          661,
          770
         ],
         "yaxis": "y"
        },
        {
         "hovertemplate": "runs.batter_=4<br>season=%{x}<br>Total runs=%{y}<br>total_runs_per_score=%{marker.size}<extra></extra>",
         "legendgroup": "4",
         "marker": {
          "color": "#ab63fa",
          "size": [
           72,
           88,
           104,
           220,
           132,
           256,
           92,
           140,
           336,
           92,
           208,
           184,
           92,
           173,
           128,
           260,
           248
          ],
          "sizemode": "area",
          "sizeref": 0.84,
          "symbol": "circle"
         },
         "mode": "markers",
         "name": "4",
         "orientation": "v",
         "showlegend": true,
         "type": "scatter",
         "x": [
          2008,
          2009,
          2010,
          2011,
          2012,
          2013,
          2014,
          2015,
          2016,
          2017,
          2018,
          2019,
          2020,
          2021,
          2022,
          2023,
          2024
         ],
         "xaxis": "x",
         "y": [
          187,
          258,
          320,
          584,
          375,
          655,
          373,
          519,
          998,
          314,
          539,
          472,
          487,
          423,
          362,
          661,
          770
         ],
         "yaxis": "y"
        },
        {
         "hovertemplate": "runs.batter_=6<br>season=%{x}<br>Total runs=%{y}<br>total_runs_per_score=%{marker.size}<extra></extra>",
         "legendgroup": "6",
         "marker": {
          "color": "#FFA15A",
          "size": [
           24,
           48,
           72,
           96,
           60,
           132,
           96,
           138,
           229,
           66,
           108,
           78,
           66,
           54,
           48,
           96,
           228
          ],
          "sizemode": "area",
          "sizeref": 0.84,
          "symbol": "circle"
         },
         "mode": "markers",
         "name": "6",
         "orientation": "v",
         "showlegend": true,
         "type": "scatter",
         "x": [
          2008,
          2009,
          2010,
          2011,
          2012,
          2013,
          2014,
          2015,
          2016,
          2017,
          2018,
          2019,
          2020,
          2021,
          2022,
          2023,
          2024
         ],
         "xaxis": "x",
         "y": [
          187,
          258,
          320,
          584,
          375,
          655,
          373,
          519,
          998,
          314,
          539,
          472,
          487,
          423,
          362,
          661,
          770
         ],
         "yaxis": "y"
        },
        {
         "hovertemplate": "runs.batter_=3<br>season=%{x}<br>Total runs=%{y}<br>total_runs_per_score=%{marker.size}<extra></extra>",
         "legendgroup": "3",
         "marker": {
          "color": "#19d3f3",
          "size": [
           3,
           3,
           6,
           6,
           6,
           6,
           3,
           6,
           6,
           12,
           3,
           3
          ],
          "sizemode": "area",
          "sizeref": 0.84,
          "symbol": "circle"
         },
         "mode": "markers",
         "name": "3",
         "orientation": "v",
         "showlegend": true,
         "type": "scatter",
         "x": [
          2011,
          2012,
          2013,
          2014,
          2015,
          2016,
          2017,
          2020,
          2021,
          2022,
          2023,
          2024
         ],
         "xaxis": "x",
         "y": [
          584,
          375,
          655,
          373,
          519,
          998,
          314,
          487,
          423,
          362,
          661,
          770
         ],
         "yaxis": "y"
        }
       ],
       "layout": {
        "legend": {
         "itemsizing": "constant",
         "title": {
          "text": "runs.batter_"
         },
         "tracegroupgap": 0
        },
        "template": {
         "data": {
          "bar": [
           {
            "error_x": {
             "color": "#2a3f5f"
            },
            "error_y": {
             "color": "#2a3f5f"
            },
            "marker": {
             "line": {
              "color": "#E5ECF6",
              "width": 0.5
             },
             "pattern": {
              "fillmode": "overlay",
              "size": 10,
              "solidity": 0.2
             }
            },
            "type": "bar"
           }
          ],
          "barpolar": [
           {
            "marker": {
             "line": {
              "color": "#E5ECF6",
              "width": 0.5
             },
             "pattern": {
              "fillmode": "overlay",
              "size": 10,
              "solidity": 0.2
             }
            },
            "type": "barpolar"
           }
          ],
          "carpet": [
           {
            "aaxis": {
             "endlinecolor": "#2a3f5f",
             "gridcolor": "white",
             "linecolor": "white",
             "minorgridcolor": "white",
             "startlinecolor": "#2a3f5f"
            },
            "baxis": {
             "endlinecolor": "#2a3f5f",
             "gridcolor": "white",
             "linecolor": "white",
             "minorgridcolor": "white",
             "startlinecolor": "#2a3f5f"
            },
            "type": "carpet"
           }
          ],
          "choropleth": [
           {
            "colorbar": {
             "outlinewidth": 0,
             "ticks": ""
            },
            "type": "choropleth"
           }
          ],
          "contour": [
           {
            "colorbar": {
             "outlinewidth": 0,
             "ticks": ""
            },
            "colorscale": [
             [
              0,
              "#0d0887"
             ],
             [
              0.1111111111111111,
              "#46039f"
             ],
             [
              0.2222222222222222,
              "#7201a8"
             ],
             [
              0.3333333333333333,
              "#9c179e"
             ],
             [
              0.4444444444444444,
              "#bd3786"
             ],
             [
              0.5555555555555556,
              "#d8576b"
             ],
             [
              0.6666666666666666,
              "#ed7953"
             ],
             [
              0.7777777777777778,
              "#fb9f3a"
             ],
             [
              0.8888888888888888,
              "#fdca26"
             ],
             [
              1,
              "#f0f921"
             ]
            ],
            "type": "contour"
           }
          ],
          "contourcarpet": [
           {
            "colorbar": {
             "outlinewidth": 0,
             "ticks": ""
            },
            "type": "contourcarpet"
           }
          ],
          "heatmap": [
           {
            "colorbar": {
             "outlinewidth": 0,
             "ticks": ""
            },
            "colorscale": [
             [
              0,
              "#0d0887"
             ],
             [
              0.1111111111111111,
              "#46039f"
             ],
             [
              0.2222222222222222,
              "#7201a8"
             ],
             [
              0.3333333333333333,
              "#9c179e"
             ],
             [
              0.4444444444444444,
              "#bd3786"
             ],
             [
              0.5555555555555556,
              "#d8576b"
             ],
             [
              0.6666666666666666,
              "#ed7953"
             ],
             [
              0.7777777777777778,
              "#fb9f3a"
             ],
             [
              0.8888888888888888,
              "#fdca26"
             ],
             [
              1,
              "#f0f921"
             ]
            ],
            "type": "heatmap"
           }
          ],
          "heatmapgl": [
           {
            "colorbar": {
             "outlinewidth": 0,
             "ticks": ""
            },
            "colorscale": [
             [
              0,
              "#0d0887"
             ],
             [
              0.1111111111111111,
              "#46039f"
             ],
             [
              0.2222222222222222,
              "#7201a8"
             ],
             [
              0.3333333333333333,
              "#9c179e"
             ],
             [
              0.4444444444444444,
              "#bd3786"
             ],
             [
              0.5555555555555556,
              "#d8576b"
             ],
             [
              0.6666666666666666,
              "#ed7953"
             ],
             [
              0.7777777777777778,
              "#fb9f3a"
             ],
             [
              0.8888888888888888,
              "#fdca26"
             ],
             [
              1,
              "#f0f921"
             ]
            ],
            "type": "heatmapgl"
           }
          ],
          "histogram": [
           {
            "marker": {
             "pattern": {
              "fillmode": "overlay",
              "size": 10,
              "solidity": 0.2
             }
            },
            "type": "histogram"
           }
          ],
          "histogram2d": [
           {
            "colorbar": {
             "outlinewidth": 0,
             "ticks": ""
            },
            "colorscale": [
             [
              0,
              "#0d0887"
             ],
             [
              0.1111111111111111,
              "#46039f"
             ],
             [
              0.2222222222222222,
              "#7201a8"
             ],
             [
              0.3333333333333333,
              "#9c179e"
             ],
             [
              0.4444444444444444,
              "#bd3786"
             ],
             [
              0.5555555555555556,
              "#d8576b"
             ],
             [
              0.6666666666666666,
              "#ed7953"
             ],
             [
              0.7777777777777778,
              "#fb9f3a"
             ],
             [
              0.8888888888888888,
              "#fdca26"
             ],
             [
              1,
              "#f0f921"
             ]
            ],
            "type": "histogram2d"
           }
          ],
          "histogram2dcontour": [
           {
            "colorbar": {
             "outlinewidth": 0,
             "ticks": ""
            },
            "colorscale": [
             [
              0,
              "#0d0887"
             ],
             [
              0.1111111111111111,
              "#46039f"
             ],
             [
              0.2222222222222222,
              "#7201a8"
             ],
             [
              0.3333333333333333,
              "#9c179e"
             ],
             [
              0.4444444444444444,
              "#bd3786"
             ],
             [
              0.5555555555555556,
              "#d8576b"
             ],
             [
              0.6666666666666666,
              "#ed7953"
             ],
             [
              0.7777777777777778,
              "#fb9f3a"
             ],
             [
              0.8888888888888888,
              "#fdca26"
             ],
             [
              1,
              "#f0f921"
             ]
            ],
            "type": "histogram2dcontour"
           }
          ],
          "mesh3d": [
           {
            "colorbar": {
             "outlinewidth": 0,
             "ticks": ""
            },
            "type": "mesh3d"
           }
          ],
          "parcoords": [
           {
            "line": {
             "colorbar": {
              "outlinewidth": 0,
              "ticks": ""
             }
            },
            "type": "parcoords"
           }
          ],
          "pie": [
           {
            "automargin": true,
            "type": "pie"
           }
          ],
          "scatter": [
           {
            "fillpattern": {
             "fillmode": "overlay",
             "size": 10,
             "solidity": 0.2
            },
            "type": "scatter"
           }
          ],
          "scatter3d": [
           {
            "line": {
             "colorbar": {
              "outlinewidth": 0,
              "ticks": ""
             }
            },
            "marker": {
             "colorbar": {
              "outlinewidth": 0,
              "ticks": ""
             }
            },
            "type": "scatter3d"
           }
          ],
          "scattercarpet": [
           {
            "marker": {
             "colorbar": {
              "outlinewidth": 0,
              "ticks": ""
             }
            },
            "type": "scattercarpet"
           }
          ],
          "scattergeo": [
           {
            "marker": {
             "colorbar": {
              "outlinewidth": 0,
              "ticks": ""
             }
            },
            "type": "scattergeo"
           }
          ],
          "scattergl": [
           {
            "marker": {
             "colorbar": {
              "outlinewidth": 0,
              "ticks": ""
             }
            },
            "type": "scattergl"
           }
          ],
          "scattermapbox": [
           {
            "marker": {
             "colorbar": {
              "outlinewidth": 0,
              "ticks": ""
             }
            },
            "type": "scattermapbox"
           }
          ],
          "scatterpolar": [
           {
            "marker": {
             "colorbar": {
              "outlinewidth": 0,
              "ticks": ""
             }
            },
            "type": "scatterpolar"
           }
          ],
          "scatterpolargl": [
           {
            "marker": {
             "colorbar": {
              "outlinewidth": 0,
              "ticks": ""
             }
            },
            "type": "scatterpolargl"
           }
          ],
          "scatterternary": [
           {
            "marker": {
             "colorbar": {
              "outlinewidth": 0,
              "ticks": ""
             }
            },
            "type": "scatterternary"
           }
          ],
          "surface": [
           {
            "colorbar": {
             "outlinewidth": 0,
             "ticks": ""
            },
            "colorscale": [
             [
              0,
              "#0d0887"
             ],
             [
              0.1111111111111111,
              "#46039f"
             ],
             [
              0.2222222222222222,
              "#7201a8"
             ],
             [
              0.3333333333333333,
              "#9c179e"
             ],
             [
              0.4444444444444444,
              "#bd3786"
             ],
             [
              0.5555555555555556,
              "#d8576b"
             ],
             [
              0.6666666666666666,
              "#ed7953"
             ],
             [
              0.7777777777777778,
              "#fb9f3a"
             ],
             [
              0.8888888888888888,
              "#fdca26"
             ],
             [
              1,
              "#f0f921"
             ]
            ],
            "type": "surface"
           }
          ],
          "table": [
           {
            "cells": {
             "fill": {
              "color": "#EBF0F8"
             },
             "line": {
              "color": "white"
             }
            },
            "header": {
             "fill": {
              "color": "#C8D4E3"
             },
             "line": {
              "color": "white"
             }
            },
            "type": "table"
           }
          ]
         },
         "layout": {
          "annotationdefaults": {
           "arrowcolor": "#2a3f5f",
           "arrowhead": 0,
           "arrowwidth": 1
          },
          "autotypenumbers": "strict",
          "coloraxis": {
           "colorbar": {
            "outlinewidth": 0,
            "ticks": ""
           }
          },
          "colorscale": {
           "diverging": [
            [
             0,
             "#8e0152"
            ],
            [
             0.1,
             "#c51b7d"
            ],
            [
             0.2,
             "#de77ae"
            ],
            [
             0.3,
             "#f1b6da"
            ],
            [
             0.4,
             "#fde0ef"
            ],
            [
             0.5,
             "#f7f7f7"
            ],
            [
             0.6,
             "#e6f5d0"
            ],
            [
             0.7,
             "#b8e186"
            ],
            [
             0.8,
             "#7fbc41"
            ],
            [
             0.9,
             "#4d9221"
            ],
            [
             1,
             "#276419"
            ]
           ],
           "sequential": [
            [
             0,
             "#0d0887"
            ],
            [
             0.1111111111111111,
             "#46039f"
            ],
            [
             0.2222222222222222,
             "#7201a8"
            ],
            [
             0.3333333333333333,
             "#9c179e"
            ],
            [
             0.4444444444444444,
             "#bd3786"
            ],
            [
             0.5555555555555556,
             "#d8576b"
            ],
            [
             0.6666666666666666,
             "#ed7953"
            ],
            [
             0.7777777777777778,
             "#fb9f3a"
            ],
            [
             0.8888888888888888,
             "#fdca26"
            ],
            [
             1,
             "#f0f921"
            ]
           ],
           "sequentialminus": [
            [
             0,
             "#0d0887"
            ],
            [
             0.1111111111111111,
             "#46039f"
            ],
            [
             0.2222222222222222,
             "#7201a8"
            ],
            [
             0.3333333333333333,
             "#9c179e"
            ],
            [
             0.4444444444444444,
             "#bd3786"
            ],
            [
             0.5555555555555556,
             "#d8576b"
            ],
            [
             0.6666666666666666,
             "#ed7953"
            ],
            [
             0.7777777777777778,
             "#fb9f3a"
            ],
            [
             0.8888888888888888,
             "#fdca26"
            ],
            [
             1,
             "#f0f921"
            ]
           ]
          },
          "colorway": [
           "#636efa",
           "#EF553B",
           "#00cc96",
           "#ab63fa",
           "#FFA15A",
           "#19d3f3",
           "#FF6692",
           "#B6E880",
           "#FF97FF",
           "#FECB52"
          ],
          "font": {
           "color": "#2a3f5f"
          },
          "geo": {
           "bgcolor": "white",
           "lakecolor": "white",
           "landcolor": "#E5ECF6",
           "showlakes": true,
           "showland": true,
           "subunitcolor": "white"
          },
          "hoverlabel": {
           "align": "left"
          },
          "hovermode": "closest",
          "mapbox": {
           "style": "light"
          },
          "paper_bgcolor": "white",
          "plot_bgcolor": "#E5ECF6",
          "polar": {
           "angularaxis": {
            "gridcolor": "white",
            "linecolor": "white",
            "ticks": ""
           },
           "bgcolor": "#E5ECF6",
           "radialaxis": {
            "gridcolor": "white",
            "linecolor": "white",
            "ticks": ""
           }
          },
          "scene": {
           "xaxis": {
            "backgroundcolor": "#E5ECF6",
            "gridcolor": "white",
            "gridwidth": 2,
            "linecolor": "white",
            "showbackground": true,
            "ticks": "",
            "zerolinecolor": "white"
           },
           "yaxis": {
            "backgroundcolor": "#E5ECF6",
            "gridcolor": "white",
            "gridwidth": 2,
            "linecolor": "white",
            "showbackground": true,
            "ticks": "",
            "zerolinecolor": "white"
           },
           "zaxis": {
            "backgroundcolor": "#E5ECF6",
            "gridcolor": "white",
            "gridwidth": 2,
            "linecolor": "white",
            "showbackground": true,
            "ticks": "",
            "zerolinecolor": "white"
           }
          },
          "shapedefaults": {
           "line": {
            "color": "#2a3f5f"
           }
          },
          "ternary": {
           "aaxis": {
            "gridcolor": "white",
            "linecolor": "white",
            "ticks": ""
           },
           "baxis": {
            "gridcolor": "white",
            "linecolor": "white",
            "ticks": ""
           },
           "bgcolor": "#E5ECF6",
           "caxis": {
            "gridcolor": "white",
            "linecolor": "white",
            "ticks": ""
           }
          },
          "title": {
           "x": 0.05
          },
          "xaxis": {
           "automargin": true,
           "gridcolor": "white",
           "linecolor": "white",
           "ticks": "",
           "title": {
            "standoff": 15
           },
           "zerolinecolor": "white",
           "zerolinewidth": 2
          },
          "yaxis": {
           "automargin": true,
           "gridcolor": "white",
           "linecolor": "white",
           "ticks": "",
           "title": {
            "standoff": 15
           },
           "zerolinecolor": "white",
           "zerolinewidth": 2
          }
         }
        },
        "title": {
         "text": "Virat Batting Perf"
        },
        "xaxis": {
         "anchor": "y",
         "domain": [
          0,
          1
         ],
         "title": {
          "text": "season"
         }
        },
        "yaxis": {
         "anchor": "x",
         "domain": [
          0,
          1
         ],
         "title": {
          "text": "Total runs"
         }
        }
       }
      }
     },
     "metadata": {},
     "output_type": "display_data"
    }
   ],
   "source": [
    "gapminder(v_kohli,x_col= v_kohli['season'],y_col= v_kohli['runs.total_sum'],\n",
    "          size_col=v_kohli['total_runs_per_score'],color_col= v_kohli[\"runs.batter_\"] ,labels={'runs.total_sum':'Total runs','season_':\"Season\"},title='Virat Batting Perf')\n"
   ]
  },
  {
   "cell_type": "markdown",
   "metadata": {},
   "source": [
    "The above concentric circle gapminder graph shows the following stuff\n",
    " - the x axis represents data over various seasons \n",
    " - the y axis represents total runs scored by virat on that season\n",
    " - the size represents the total runs he scored with respect to score given in colour"
   ]
  },
  {
   "cell_type": "markdown",
   "metadata": {},
   "source": [
    "Now lets look at the corellation between the 4 variables `runs.total_sum` ,`runs.batter_` `total_runs_per_score` , `no_of_balls`"
   ]
  },
  {
   "cell_type": "code",
   "execution_count": 172,
   "metadata": {},
   "outputs": [
    {
     "data": {
      "application/vnd.plotly.v1+json": {
       "config": {
        "plotlyServerURL": "https://plot.ly"
       },
       "data": [
        {
         "dimensions": [
          {
           "label": "runs.total_sum",
           "values": [
            187,
            187,
            187,
            187,
            187,
            258,
            258,
            258,
            258,
            258,
            320,
            320,
            320,
            320,
            320,
            584,
            584,
            584,
            584,
            584,
            584,
            375,
            375,
            375,
            375,
            375,
            375,
            655,
            655,
            655,
            655,
            655,
            655,
            373,
            373,
            373,
            373,
            373,
            373,
            519,
            519,
            519,
            519,
            519,
            519,
            998,
            998,
            998,
            998,
            998,
            998,
            314,
            314,
            314,
            314,
            314,
            314,
            539,
            539,
            539,
            539,
            539,
            472,
            472,
            472,
            472,
            472,
            487,
            487,
            487,
            487,
            487,
            487,
            423,
            423,
            423,
            423,
            423,
            423,
            362,
            362,
            362,
            362,
            362,
            362,
            661,
            661,
            661,
            661,
            661,
            661,
            770,
            770,
            770,
            770,
            770,
            770
           ]
          },
          {
           "label": "runs.batter_",
           "values": [
            0,
            1,
            2,
            4,
            6,
            0,
            1,
            2,
            4,
            6,
            0,
            1,
            2,
            4,
            6,
            0,
            1,
            2,
            3,
            4,
            6,
            0,
            1,
            2,
            3,
            4,
            6,
            0,
            1,
            2,
            3,
            4,
            6,
            0,
            1,
            2,
            3,
            4,
            6,
            0,
            1,
            2,
            3,
            4,
            6,
            0,
            1,
            2,
            3,
            4,
            6,
            0,
            1,
            2,
            3,
            4,
            6,
            0,
            1,
            2,
            4,
            6,
            0,
            1,
            2,
            4,
            6,
            0,
            1,
            2,
            3,
            4,
            6,
            0,
            1,
            2,
            3,
            4,
            6,
            0,
            1,
            2,
            3,
            4,
            6,
            0,
            1,
            2,
            3,
            4,
            6,
            0,
            1,
            2,
            3,
            4,
            6
           ]
          },
          {
           "label": "total_runs_per_score",
           "values": [
            22,
            59,
            10,
            72,
            24,
            12,
            84,
            26,
            88,
            48,
            12,
            104,
            28,
            104,
            72,
            27,
            178,
            60,
            3,
            220,
            96,
            11,
            137,
            32,
            3,
            132,
            60,
            18,
            173,
            70,
            6,
            256,
            132,
            14,
            127,
            38,
            6,
            92,
            96,
            14,
            153,
            68,
            6,
            140,
            138,
            23,
            292,
            112,
            6,
            336,
            229,
            6,
            107,
            40,
            3,
            92,
            66,
            8,
            167,
            48,
            208,
            108,
            8,
            150,
            52,
            184,
            78,
            19,
            195,
            109,
            6,
            92,
            66,
            17,
            145,
            28,
            6,
            173,
            54,
            21,
            117,
            36,
            12,
            128,
            48,
            22,
            210,
            70,
            3,
            260,
            96,
            29,
            198,
            64,
            3,
            248,
            228
           ]
          },
          {
           "label": "no_of_balls",
           "values": [
            82,
            59,
            5,
            18,
            4,
            98,
            84,
            13,
            22,
            8,
            61,
            103,
            14,
            26,
            12,
            193,
            178,
            30,
            1,
            55,
            16,
            136,
            137,
            16,
            1,
            33,
            10,
            176,
            170,
            35,
            2,
            64,
            22,
            114,
            127,
            19,
            2,
            23,
            16,
            148,
            153,
            34,
            2,
            35,
            23,
            184,
            291,
            56,
            2,
            84,
            38,
            95,
            107,
            20,
            1,
            23,
            11,
            125,
            166,
            24,
            52,
            18,
            97,
            150,
            26,
            46,
            13,
            116,
            194,
            54,
            2,
            23,
            11,
            134,
            145,
            14,
            2,
            43,
            9,
            127,
            117,
            18,
            4,
            32,
            8,
            146,
            210,
            35,
            1,
            65,
            16,
            166,
            198,
            32,
            1,
            62,
            38
           ]
          }
         ],
         "domain": {
          "x": [
           0,
           1
          ],
          "y": [
           0,
           1
          ]
         },
         "line": {
          "color": [
           2008,
           2008,
           2008,
           2008,
           2008,
           2009,
           2009,
           2009,
           2009,
           2009,
           2010,
           2010,
           2010,
           2010,
           2010,
           2011,
           2011,
           2011,
           2011,
           2011,
           2011,
           2012,
           2012,
           2012,
           2012,
           2012,
           2012,
           2013,
           2013,
           2013,
           2013,
           2013,
           2013,
           2014,
           2014,
           2014,
           2014,
           2014,
           2014,
           2015,
           2015,
           2015,
           2015,
           2015,
           2015,
           2016,
           2016,
           2016,
           2016,
           2016,
           2016,
           2017,
           2017,
           2017,
           2017,
           2017,
           2017,
           2018,
           2018,
           2018,
           2018,
           2018,
           2019,
           2019,
           2019,
           2019,
           2019,
           2020,
           2020,
           2020,
           2020,
           2020,
           2020,
           2021,
           2021,
           2021,
           2021,
           2021,
           2021,
           2022,
           2022,
           2022,
           2022,
           2022,
           2022,
           2023,
           2023,
           2023,
           2023,
           2023,
           2023,
           2024,
           2024,
           2024,
           2024,
           2024,
           2024
          ],
          "coloraxis": "coloraxis"
         },
         "name": "",
         "type": "parcoords"
        }
       ],
       "layout": {
        "coloraxis": {
         "colorbar": {
          "title": {
           "text": "season"
          }
         },
         "colorscale": [
          [
           0,
           "#0d0887"
          ],
          [
           0.1111111111111111,
           "#46039f"
          ],
          [
           0.2222222222222222,
           "#7201a8"
          ],
          [
           0.3333333333333333,
           "#9c179e"
          ],
          [
           0.4444444444444444,
           "#bd3786"
          ],
          [
           0.5555555555555556,
           "#d8576b"
          ],
          [
           0.6666666666666666,
           "#ed7953"
          ],
          [
           0.7777777777777778,
           "#fb9f3a"
          ],
          [
           0.8888888888888888,
           "#fdca26"
          ],
          [
           1,
           "#f0f921"
          ]
         ]
        },
        "legend": {
         "tracegroupgap": 0
        },
        "template": {
         "data": {
          "bar": [
           {
            "error_x": {
             "color": "#2a3f5f"
            },
            "error_y": {
             "color": "#2a3f5f"
            },
            "marker": {
             "line": {
              "color": "#E5ECF6",
              "width": 0.5
             },
             "pattern": {
              "fillmode": "overlay",
              "size": 10,
              "solidity": 0.2
             }
            },
            "type": "bar"
           }
          ],
          "barpolar": [
           {
            "marker": {
             "line": {
              "color": "#E5ECF6",
              "width": 0.5
             },
             "pattern": {
              "fillmode": "overlay",
              "size": 10,
              "solidity": 0.2
             }
            },
            "type": "barpolar"
           }
          ],
          "carpet": [
           {
            "aaxis": {
             "endlinecolor": "#2a3f5f",
             "gridcolor": "white",
             "linecolor": "white",
             "minorgridcolor": "white",
             "startlinecolor": "#2a3f5f"
            },
            "baxis": {
             "endlinecolor": "#2a3f5f",
             "gridcolor": "white",
             "linecolor": "white",
             "minorgridcolor": "white",
             "startlinecolor": "#2a3f5f"
            },
            "type": "carpet"
           }
          ],
          "choropleth": [
           {
            "colorbar": {
             "outlinewidth": 0,
             "ticks": ""
            },
            "type": "choropleth"
           }
          ],
          "contour": [
           {
            "colorbar": {
             "outlinewidth": 0,
             "ticks": ""
            },
            "colorscale": [
             [
              0,
              "#0d0887"
             ],
             [
              0.1111111111111111,
              "#46039f"
             ],
             [
              0.2222222222222222,
              "#7201a8"
             ],
             [
              0.3333333333333333,
              "#9c179e"
             ],
             [
              0.4444444444444444,
              "#bd3786"
             ],
             [
              0.5555555555555556,
              "#d8576b"
             ],
             [
              0.6666666666666666,
              "#ed7953"
             ],
             [
              0.7777777777777778,
              "#fb9f3a"
             ],
             [
              0.8888888888888888,
              "#fdca26"
             ],
             [
              1,
              "#f0f921"
             ]
            ],
            "type": "contour"
           }
          ],
          "contourcarpet": [
           {
            "colorbar": {
             "outlinewidth": 0,
             "ticks": ""
            },
            "type": "contourcarpet"
           }
          ],
          "heatmap": [
           {
            "colorbar": {
             "outlinewidth": 0,
             "ticks": ""
            },
            "colorscale": [
             [
              0,
              "#0d0887"
             ],
             [
              0.1111111111111111,
              "#46039f"
             ],
             [
              0.2222222222222222,
              "#7201a8"
             ],
             [
              0.3333333333333333,
              "#9c179e"
             ],
             [
              0.4444444444444444,
              "#bd3786"
             ],
             [
              0.5555555555555556,
              "#d8576b"
             ],
             [
              0.6666666666666666,
              "#ed7953"
             ],
             [
              0.7777777777777778,
              "#fb9f3a"
             ],
             [
              0.8888888888888888,
              "#fdca26"
             ],
             [
              1,
              "#f0f921"
             ]
            ],
            "type": "heatmap"
           }
          ],
          "heatmapgl": [
           {
            "colorbar": {
             "outlinewidth": 0,
             "ticks": ""
            },
            "colorscale": [
             [
              0,
              "#0d0887"
             ],
             [
              0.1111111111111111,
              "#46039f"
             ],
             [
              0.2222222222222222,
              "#7201a8"
             ],
             [
              0.3333333333333333,
              "#9c179e"
             ],
             [
              0.4444444444444444,
              "#bd3786"
             ],
             [
              0.5555555555555556,
              "#d8576b"
             ],
             [
              0.6666666666666666,
              "#ed7953"
             ],
             [
              0.7777777777777778,
              "#fb9f3a"
             ],
             [
              0.8888888888888888,
              "#fdca26"
             ],
             [
              1,
              "#f0f921"
             ]
            ],
            "type": "heatmapgl"
           }
          ],
          "histogram": [
           {
            "marker": {
             "pattern": {
              "fillmode": "overlay",
              "size": 10,
              "solidity": 0.2
             }
            },
            "type": "histogram"
           }
          ],
          "histogram2d": [
           {
            "colorbar": {
             "outlinewidth": 0,
             "ticks": ""
            },
            "colorscale": [
             [
              0,
              "#0d0887"
             ],
             [
              0.1111111111111111,
              "#46039f"
             ],
             [
              0.2222222222222222,
              "#7201a8"
             ],
             [
              0.3333333333333333,
              "#9c179e"
             ],
             [
              0.4444444444444444,
              "#bd3786"
             ],
             [
              0.5555555555555556,
              "#d8576b"
             ],
             [
              0.6666666666666666,
              "#ed7953"
             ],
             [
              0.7777777777777778,
              "#fb9f3a"
             ],
             [
              0.8888888888888888,
              "#fdca26"
             ],
             [
              1,
              "#f0f921"
             ]
            ],
            "type": "histogram2d"
           }
          ],
          "histogram2dcontour": [
           {
            "colorbar": {
             "outlinewidth": 0,
             "ticks": ""
            },
            "colorscale": [
             [
              0,
              "#0d0887"
             ],
             [
              0.1111111111111111,
              "#46039f"
             ],
             [
              0.2222222222222222,
              "#7201a8"
             ],
             [
              0.3333333333333333,
              "#9c179e"
             ],
             [
              0.4444444444444444,
              "#bd3786"
             ],
             [
              0.5555555555555556,
              "#d8576b"
             ],
             [
              0.6666666666666666,
              "#ed7953"
             ],
             [
              0.7777777777777778,
              "#fb9f3a"
             ],
             [
              0.8888888888888888,
              "#fdca26"
             ],
             [
              1,
              "#f0f921"
             ]
            ],
            "type": "histogram2dcontour"
           }
          ],
          "mesh3d": [
           {
            "colorbar": {
             "outlinewidth": 0,
             "ticks": ""
            },
            "type": "mesh3d"
           }
          ],
          "parcoords": [
           {
            "line": {
             "colorbar": {
              "outlinewidth": 0,
              "ticks": ""
             }
            },
            "type": "parcoords"
           }
          ],
          "pie": [
           {
            "automargin": true,
            "type": "pie"
           }
          ],
          "scatter": [
           {
            "fillpattern": {
             "fillmode": "overlay",
             "size": 10,
             "solidity": 0.2
            },
            "type": "scatter"
           }
          ],
          "scatter3d": [
           {
            "line": {
             "colorbar": {
              "outlinewidth": 0,
              "ticks": ""
             }
            },
            "marker": {
             "colorbar": {
              "outlinewidth": 0,
              "ticks": ""
             }
            },
            "type": "scatter3d"
           }
          ],
          "scattercarpet": [
           {
            "marker": {
             "colorbar": {
              "outlinewidth": 0,
              "ticks": ""
             }
            },
            "type": "scattercarpet"
           }
          ],
          "scattergeo": [
           {
            "marker": {
             "colorbar": {
              "outlinewidth": 0,
              "ticks": ""
             }
            },
            "type": "scattergeo"
           }
          ],
          "scattergl": [
           {
            "marker": {
             "colorbar": {
              "outlinewidth": 0,
              "ticks": ""
             }
            },
            "type": "scattergl"
           }
          ],
          "scattermapbox": [
           {
            "marker": {
             "colorbar": {
              "outlinewidth": 0,
              "ticks": ""
             }
            },
            "type": "scattermapbox"
           }
          ],
          "scatterpolar": [
           {
            "marker": {
             "colorbar": {
              "outlinewidth": 0,
              "ticks": ""
             }
            },
            "type": "scatterpolar"
           }
          ],
          "scatterpolargl": [
           {
            "marker": {
             "colorbar": {
              "outlinewidth": 0,
              "ticks": ""
             }
            },
            "type": "scatterpolargl"
           }
          ],
          "scatterternary": [
           {
            "marker": {
             "colorbar": {
              "outlinewidth": 0,
              "ticks": ""
             }
            },
            "type": "scatterternary"
           }
          ],
          "surface": [
           {
            "colorbar": {
             "outlinewidth": 0,
             "ticks": ""
            },
            "colorscale": [
             [
              0,
              "#0d0887"
             ],
             [
              0.1111111111111111,
              "#46039f"
             ],
             [
              0.2222222222222222,
              "#7201a8"
             ],
             [
              0.3333333333333333,
              "#9c179e"
             ],
             [
              0.4444444444444444,
              "#bd3786"
             ],
             [
              0.5555555555555556,
              "#d8576b"
             ],
             [
              0.6666666666666666,
              "#ed7953"
             ],
             [
              0.7777777777777778,
              "#fb9f3a"
             ],
             [
              0.8888888888888888,
              "#fdca26"
             ],
             [
              1,
              "#f0f921"
             ]
            ],
            "type": "surface"
           }
          ],
          "table": [
           {
            "cells": {
             "fill": {
              "color": "#EBF0F8"
             },
             "line": {
              "color": "white"
             }
            },
            "header": {
             "fill": {
              "color": "#C8D4E3"
             },
             "line": {
              "color": "white"
             }
            },
            "type": "table"
           }
          ]
         },
         "layout": {
          "annotationdefaults": {
           "arrowcolor": "#2a3f5f",
           "arrowhead": 0,
           "arrowwidth": 1
          },
          "autotypenumbers": "strict",
          "coloraxis": {
           "colorbar": {
            "outlinewidth": 0,
            "ticks": ""
           }
          },
          "colorscale": {
           "diverging": [
            [
             0,
             "#8e0152"
            ],
            [
             0.1,
             "#c51b7d"
            ],
            [
             0.2,
             "#de77ae"
            ],
            [
             0.3,
             "#f1b6da"
            ],
            [
             0.4,
             "#fde0ef"
            ],
            [
             0.5,
             "#f7f7f7"
            ],
            [
             0.6,
             "#e6f5d0"
            ],
            [
             0.7,
             "#b8e186"
            ],
            [
             0.8,
             "#7fbc41"
            ],
            [
             0.9,
             "#4d9221"
            ],
            [
             1,
             "#276419"
            ]
           ],
           "sequential": [
            [
             0,
             "#0d0887"
            ],
            [
             0.1111111111111111,
             "#46039f"
            ],
            [
             0.2222222222222222,
             "#7201a8"
            ],
            [
             0.3333333333333333,
             "#9c179e"
            ],
            [
             0.4444444444444444,
             "#bd3786"
            ],
            [
             0.5555555555555556,
             "#d8576b"
            ],
            [
             0.6666666666666666,
             "#ed7953"
            ],
            [
             0.7777777777777778,
             "#fb9f3a"
            ],
            [
             0.8888888888888888,
             "#fdca26"
            ],
            [
             1,
             "#f0f921"
            ]
           ],
           "sequentialminus": [
            [
             0,
             "#0d0887"
            ],
            [
             0.1111111111111111,
             "#46039f"
            ],
            [
             0.2222222222222222,
             "#7201a8"
            ],
            [
             0.3333333333333333,
             "#9c179e"
            ],
            [
             0.4444444444444444,
             "#bd3786"
            ],
            [
             0.5555555555555556,
             "#d8576b"
            ],
            [
             0.6666666666666666,
             "#ed7953"
            ],
            [
             0.7777777777777778,
             "#fb9f3a"
            ],
            [
             0.8888888888888888,
             "#fdca26"
            ],
            [
             1,
             "#f0f921"
            ]
           ]
          },
          "colorway": [
           "#636efa",
           "#EF553B",
           "#00cc96",
           "#ab63fa",
           "#FFA15A",
           "#19d3f3",
           "#FF6692",
           "#B6E880",
           "#FF97FF",
           "#FECB52"
          ],
          "font": {
           "color": "#2a3f5f"
          },
          "geo": {
           "bgcolor": "white",
           "lakecolor": "white",
           "landcolor": "#E5ECF6",
           "showlakes": true,
           "showland": true,
           "subunitcolor": "white"
          },
          "hoverlabel": {
           "align": "left"
          },
          "hovermode": "closest",
          "mapbox": {
           "style": "light"
          },
          "paper_bgcolor": "white",
          "plot_bgcolor": "#E5ECF6",
          "polar": {
           "angularaxis": {
            "gridcolor": "white",
            "linecolor": "white",
            "ticks": ""
           },
           "bgcolor": "#E5ECF6",
           "radialaxis": {
            "gridcolor": "white",
            "linecolor": "white",
            "ticks": ""
           }
          },
          "scene": {
           "xaxis": {
            "backgroundcolor": "#E5ECF6",
            "gridcolor": "white",
            "gridwidth": 2,
            "linecolor": "white",
            "showbackground": true,
            "ticks": "",
            "zerolinecolor": "white"
           },
           "yaxis": {
            "backgroundcolor": "#E5ECF6",
            "gridcolor": "white",
            "gridwidth": 2,
            "linecolor": "white",
            "showbackground": true,
            "ticks": "",
            "zerolinecolor": "white"
           },
           "zaxis": {
            "backgroundcolor": "#E5ECF6",
            "gridcolor": "white",
            "gridwidth": 2,
            "linecolor": "white",
            "showbackground": true,
            "ticks": "",
            "zerolinecolor": "white"
           }
          },
          "shapedefaults": {
           "line": {
            "color": "#2a3f5f"
           }
          },
          "ternary": {
           "aaxis": {
            "gridcolor": "white",
            "linecolor": "white",
            "ticks": ""
           },
           "baxis": {
            "gridcolor": "white",
            "linecolor": "white",
            "ticks": ""
           },
           "bgcolor": "#E5ECF6",
           "caxis": {
            "gridcolor": "white",
            "linecolor": "white",
            "ticks": ""
           }
          },
          "title": {
           "x": 0.05
          },
          "xaxis": {
           "automargin": true,
           "gridcolor": "white",
           "linecolor": "white",
           "ticks": "",
           "title": {
            "standoff": 15
           },
           "zerolinecolor": "white",
           "zerolinewidth": 2
          },
          "yaxis": {
           "automargin": true,
           "gridcolor": "white",
           "linecolor": "white",
           "ticks": "",
           "title": {
            "standoff": 15
           },
           "zerolinecolor": "white",
           "zerolinewidth": 2
          }
         }
        },
        "title": {
         "text": "Kohli Parallel"
        }
       }
      }
     },
     "metadata": {},
     "output_type": "display_data"
    }
   ],
   "source": [
    "parallelplot(v_kohli,columns=[v_kohli['runs.total_sum'],v_kohli['runs.batter_'],v_kohli['total_runs_per_score'],v_kohli['no_of_balls']],title=\"Kohli Parallel\",color_col=v_kohli['season'])"
   ]
  },
  {
   "cell_type": "markdown",
   "metadata": {},
   "source": [
    "We can see that he has hit equal no of 4's 6's and 1's and 2's regardless of what his total is\n",
    "\n",
    "He has hit 80+ 4's and 300+ singles on his maximum scoring season that was somewhere around 2012-2014\n",
    "\n",
    "In his second highest season too 4's contributed a lot of runs to his total\n",
    "\n",
    "Mostly he has scored more singles than any other . and he rarely scores 3 runs in a ball\n"
   ]
  },
  {
   "cell_type": "markdown",
   "metadata": {},
   "source": [
    "Now lets see some bowler stats \n",
    "\n",
    "We can see per season record of a bowler and the split up of the wickets taken in the seaason by doing the following"
   ]
  },
  {
   "cell_type": "code",
   "execution_count": 173,
   "metadata": {},
   "outputs": [
    {
     "data": {
      "text/html": [
       "<div>\n",
       "<style scoped>\n",
       "    .dataframe tbody tr th:only-of-type {\n",
       "        vertical-align: middle;\n",
       "    }\n",
       "\n",
       "    .dataframe tbody tr th {\n",
       "        vertical-align: top;\n",
       "    }\n",
       "\n",
       "    .dataframe thead tr th {\n",
       "        text-align: left;\n",
       "    }\n",
       "\n",
       "    .dataframe thead tr:last-of-type th {\n",
       "        text-align: right;\n",
       "    }\n",
       "</style>\n",
       "<table border=\"1\" class=\"dataframe\">\n",
       "  <thead>\n",
       "    <tr>\n",
       "      <th></th>\n",
       "      <th></th>\n",
       "      <th></th>\n",
       "      <th>wicket.player_out</th>\n",
       "      <th>batter</th>\n",
       "    </tr>\n",
       "    <tr>\n",
       "      <th></th>\n",
       "      <th></th>\n",
       "      <th></th>\n",
       "      <th>count</th>\n",
       "      <th>max</th>\n",
       "    </tr>\n",
       "    <tr>\n",
       "      <th>bowler</th>\n",
       "      <th>season</th>\n",
       "      <th>wicket.kind</th>\n",
       "      <th></th>\n",
       "      <th></th>\n",
       "    </tr>\n",
       "  </thead>\n",
       "  <tbody>\n",
       "    <tr>\n",
       "      <th rowspan=\"5\" valign=\"top\">A Ashish Reddy</th>\n",
       "      <th rowspan=\"3\" valign=\"top\">2012</th>\n",
       "      <th>bowled</th>\n",
       "      <td>2</td>\n",
       "      <td>RV Uthappa</td>\n",
       "    </tr>\n",
       "    <tr>\n",
       "      <th>caught</th>\n",
       "      <td>7</td>\n",
       "      <td>V Kohli</td>\n",
       "    </tr>\n",
       "    <tr>\n",
       "      <th>lbw</th>\n",
       "      <td>2</td>\n",
       "      <td>N Saini</td>\n",
       "    </tr>\n",
       "    <tr>\n",
       "      <th rowspan=\"2\" valign=\"top\">2013</th>\n",
       "      <th>bowled</th>\n",
       "      <td>2</td>\n",
       "      <td>LRPL Taylor</td>\n",
       "    </tr>\n",
       "    <tr>\n",
       "      <th>caught and bowled</th>\n",
       "      <td>1</td>\n",
       "      <td>V Kohli</td>\n",
       "    </tr>\n",
       "    <tr>\n",
       "      <th>...</th>\n",
       "      <th>...</th>\n",
       "      <th>...</th>\n",
       "      <td>...</td>\n",
       "      <td>...</td>\n",
       "    </tr>\n",
       "    <tr>\n",
       "      <th rowspan=\"5\" valign=\"top\">Z Khan</th>\n",
       "      <th rowspan=\"2\" valign=\"top\">2016</th>\n",
       "      <th>lbw</th>\n",
       "      <td>1</td>\n",
       "      <td>PP Chawla</td>\n",
       "    </tr>\n",
       "    <tr>\n",
       "      <th>run out</th>\n",
       "      <td>2</td>\n",
       "      <td>UT Yadav</td>\n",
       "    </tr>\n",
       "    <tr>\n",
       "      <th rowspan=\"3\" valign=\"top\">2017</th>\n",
       "      <th>bowled</th>\n",
       "      <td>1</td>\n",
       "      <td>AM Rahane</td>\n",
       "    </tr>\n",
       "    <tr>\n",
       "      <th>caught</th>\n",
       "      <td>9</td>\n",
       "      <td>V Kohli</td>\n",
       "    </tr>\n",
       "    <tr>\n",
       "      <th>run out</th>\n",
       "      <td>2</td>\n",
       "      <td>Vishnu Vinod</td>\n",
       "    </tr>\n",
       "  </tbody>\n",
       "</table>\n",
       "<p>4241 rows × 2 columns</p>\n",
       "</div>"
      ],
      "text/plain": [
       "                                        wicket.player_out        batter\n",
       "                                                    count           max\n",
       "bowler         season wicket.kind                                      \n",
       "A Ashish Reddy 2012   bowled                            2    RV Uthappa\n",
       "                      caught                            7       V Kohli\n",
       "                      lbw                               2       N Saini\n",
       "               2013   bowled                            2   LRPL Taylor\n",
       "                      caught and bowled                 1       V Kohli\n",
       "...                                                   ...           ...\n",
       "Z Khan         2016   lbw                               1     PP Chawla\n",
       "                      run out                           2      UT Yadav\n",
       "               2017   bowled                            1     AM Rahane\n",
       "                      caught                            9       V Kohli\n",
       "                      run out                           2  Vishnu Vinod\n",
       "\n",
       "[4241 rows x 2 columns]"
      ]
     },
     "execution_count": 173,
     "metadata": {},
     "output_type": "execute_result"
    }
   ],
   "source": [
    "bowler_perf = ball_by_ball.groupby(['bowler','season','wicket.kind']).agg({'wicket.player_out':['count'],'batter':['max']})\n",
    "bowler_perf\n"
   ]
  },
  {
   "cell_type": "markdown",
   "metadata": {},
   "source": [
    "In the above `bowler_match_perf` the `wicket.kind` is the way the batter got out and `count(wicket.player_out)` represents the wickets fallen in that category and `max(batter)` represents the batsman who got out the most in that way."
   ]
  },
  {
   "cell_type": "markdown",
   "metadata": {},
   "source": [
    "The next one below is the bowler score card of all matches a bowler had played through all seasons he was in"
   ]
  },
  {
   "cell_type": "code",
   "execution_count": 174,
   "metadata": {},
   "outputs": [
    {
     "data": {
      "text/html": [
       "<div>\n",
       "<style scoped>\n",
       "    .dataframe tbody tr th:only-of-type {\n",
       "        vertical-align: middle;\n",
       "    }\n",
       "\n",
       "    .dataframe tbody tr th {\n",
       "        vertical-align: top;\n",
       "    }\n",
       "\n",
       "    .dataframe thead tr th {\n",
       "        text-align: left;\n",
       "    }\n",
       "\n",
       "    .dataframe thead tr:last-of-type th {\n",
       "        text-align: right;\n",
       "    }\n",
       "</style>\n",
       "<table border=\"1\" class=\"dataframe\">\n",
       "  <thead>\n",
       "    <tr>\n",
       "      <th></th>\n",
       "      <th></th>\n",
       "      <th></th>\n",
       "      <th>wicket.player_out</th>\n",
       "      <th>runs.total</th>\n",
       "      <th>batter</th>\n",
       "    </tr>\n",
       "    <tr>\n",
       "      <th></th>\n",
       "      <th></th>\n",
       "      <th></th>\n",
       "      <th>count</th>\n",
       "      <th>sum</th>\n",
       "      <th>count</th>\n",
       "    </tr>\n",
       "    <tr>\n",
       "      <th>bowler</th>\n",
       "      <th>season</th>\n",
       "      <th>match_number</th>\n",
       "      <th></th>\n",
       "      <th></th>\n",
       "      <th></th>\n",
       "    </tr>\n",
       "  </thead>\n",
       "  <tbody>\n",
       "    <tr>\n",
       "      <th rowspan=\"5\" valign=\"top\">A Ashish Reddy</th>\n",
       "      <th rowspan=\"5\" valign=\"top\">2012</th>\n",
       "      <th>35</th>\n",
       "      <td>2</td>\n",
       "      <td>32</td>\n",
       "      <td>24</td>\n",
       "    </tr>\n",
       "    <tr>\n",
       "      <th>40</th>\n",
       "      <td>1</td>\n",
       "      <td>11</td>\n",
       "      <td>14</td>\n",
       "    </tr>\n",
       "    <tr>\n",
       "      <th>42</th>\n",
       "      <td>1</td>\n",
       "      <td>32</td>\n",
       "      <td>19</td>\n",
       "    </tr>\n",
       "    <tr>\n",
       "      <th>46</th>\n",
       "      <td>1</td>\n",
       "      <td>16</td>\n",
       "      <td>13</td>\n",
       "    </tr>\n",
       "    <tr>\n",
       "      <th>50</th>\n",
       "      <td>1</td>\n",
       "      <td>36</td>\n",
       "      <td>25</td>\n",
       "    </tr>\n",
       "    <tr>\n",
       "      <th>...</th>\n",
       "      <th>...</th>\n",
       "      <th>...</th>\n",
       "      <td>...</td>\n",
       "      <td>...</td>\n",
       "      <td>...</td>\n",
       "    </tr>\n",
       "    <tr>\n",
       "      <th rowspan=\"5\" valign=\"top\">Z Khan</th>\n",
       "      <th rowspan=\"5\" valign=\"top\">2017</th>\n",
       "      <th>32</th>\n",
       "      <td>0</td>\n",
       "      <td>9</td>\n",
       "      <td>7</td>\n",
       "    </tr>\n",
       "    <tr>\n",
       "      <th>45</th>\n",
       "      <td>0</td>\n",
       "      <td>30</td>\n",
       "      <td>24</td>\n",
       "    </tr>\n",
       "    <tr>\n",
       "      <th>50</th>\n",
       "      <td>0</td>\n",
       "      <td>35</td>\n",
       "      <td>24</td>\n",
       "    </tr>\n",
       "    <tr>\n",
       "      <th>52</th>\n",
       "      <td>2</td>\n",
       "      <td>25</td>\n",
       "      <td>25</td>\n",
       "    </tr>\n",
       "    <tr>\n",
       "      <th>56</th>\n",
       "      <td>2</td>\n",
       "      <td>32</td>\n",
       "      <td>25</td>\n",
       "    </tr>\n",
       "  </tbody>\n",
       "</table>\n",
       "<p>12978 rows × 3 columns</p>\n",
       "</div>"
      ],
      "text/plain": [
       "                                   wicket.player_out runs.total batter\n",
       "                                               count        sum  count\n",
       "bowler         season match_number                                    \n",
       "A Ashish Reddy 2012   35                           2         32     24\n",
       "                      40                           1         11     14\n",
       "                      42                           1         32     19\n",
       "                      46                           1         16     13\n",
       "                      50                           1         36     25\n",
       "...                                              ...        ...    ...\n",
       "Z Khan         2017   32                           0          9      7\n",
       "                      45                           0         30     24\n",
       "                      50                           0         35     24\n",
       "                      52                           2         25     25\n",
       "                      56                           2         32     25\n",
       "\n",
       "[12978 rows x 3 columns]"
      ]
     },
     "execution_count": 174,
     "metadata": {},
     "output_type": "execute_result"
    }
   ],
   "source": [
    "bowler_match_perf = ball_by_ball.groupby(['bowler','season','match_number']).agg({'wicket.player_out':['count'],'runs.total':['sum'],'batter':'count'})\n",
    "bowler_match_perf"
   ]
  },
  {
   "cell_type": "markdown",
   "metadata": {},
   "source": [
    "Now lets see the statistic for the Legendary Yuzvendra Chahal\n",
    "\n",
    "Similar to Kohli we get both the tables generated corresponding to Yuzvendra Chahal and  try to visualise some statistics"
   ]
  },
  {
   "cell_type": "code",
   "execution_count": 175,
   "metadata": {},
   "outputs": [
    {
     "name": "stderr",
     "output_type": "stream",
     "text": [
      "/tmp/ipykernel_4765/3153631025.py:3: PerformanceWarning:\n",
      "\n",
      "dropping on a non-lexsorted multi-index without a level parameter may impact performance.\n",
      "\n"
     ]
    },
    {
     "data": {
      "text/html": [
       "<div>\n",
       "<style scoped>\n",
       "    .dataframe tbody tr th:only-of-type {\n",
       "        vertical-align: middle;\n",
       "    }\n",
       "\n",
       "    .dataframe tbody tr th {\n",
       "        vertical-align: top;\n",
       "    }\n",
       "\n",
       "    .dataframe thead th {\n",
       "        text-align: right;\n",
       "    }\n",
       "</style>\n",
       "<table border=\"1\" class=\"dataframe\">\n",
       "  <thead>\n",
       "    <tr style=\"text-align: right;\">\n",
       "      <th></th>\n",
       "      <th>season_</th>\n",
       "      <th>wicket.player_out_count</th>\n",
       "      <th>runs.total_sum</th>\n",
       "      <th>batter_count</th>\n",
       "    </tr>\n",
       "  </thead>\n",
       "  <tbody>\n",
       "    <tr>\n",
       "      <th>0</th>\n",
       "      <td>2013</td>\n",
       "      <td>0</td>\n",
       "      <td>35</td>\n",
       "      <td>24</td>\n",
       "    </tr>\n",
       "    <tr>\n",
       "      <th>1</th>\n",
       "      <td>2014</td>\n",
       "      <td>1</td>\n",
       "      <td>18</td>\n",
       "      <td>25</td>\n",
       "    </tr>\n",
       "    <tr>\n",
       "      <th>2</th>\n",
       "      <td>2014</td>\n",
       "      <td>2</td>\n",
       "      <td>17</td>\n",
       "      <td>24</td>\n",
       "    </tr>\n",
       "    <tr>\n",
       "      <th>3</th>\n",
       "      <td>2014</td>\n",
       "      <td>1</td>\n",
       "      <td>26</td>\n",
       "      <td>24</td>\n",
       "    </tr>\n",
       "    <tr>\n",
       "      <th>4</th>\n",
       "      <td>2014</td>\n",
       "      <td>1</td>\n",
       "      <td>17</td>\n",
       "      <td>18</td>\n",
       "    </tr>\n",
       "    <tr>\n",
       "      <th>...</th>\n",
       "      <td>...</td>\n",
       "      <td>...</td>\n",
       "      <td>...</td>\n",
       "      <td>...</td>\n",
       "    </tr>\n",
       "    <tr>\n",
       "      <th>154</th>\n",
       "      <td>2024</td>\n",
       "      <td>1</td>\n",
       "      <td>48</td>\n",
       "      <td>24</td>\n",
       "    </tr>\n",
       "    <tr>\n",
       "      <th>155</th>\n",
       "      <td>2024</td>\n",
       "      <td>1</td>\n",
       "      <td>22</td>\n",
       "      <td>25</td>\n",
       "    </tr>\n",
       "    <tr>\n",
       "      <th>156</th>\n",
       "      <td>2024</td>\n",
       "      <td>2</td>\n",
       "      <td>31</td>\n",
       "      <td>25</td>\n",
       "    </tr>\n",
       "    <tr>\n",
       "      <th>157</th>\n",
       "      <td>2024</td>\n",
       "      <td>1</td>\n",
       "      <td>43</td>\n",
       "      <td>24</td>\n",
       "    </tr>\n",
       "    <tr>\n",
       "      <th>158</th>\n",
       "      <td>2024</td>\n",
       "      <td>0</td>\n",
       "      <td>34</td>\n",
       "      <td>26</td>\n",
       "    </tr>\n",
       "  </tbody>\n",
       "</table>\n",
       "<p>159 rows × 4 columns</p>\n",
       "</div>"
      ],
      "text/plain": [
       "    season_  wicket.player_out_count  runs.total_sum  batter_count\n",
       "0      2013                        0              35            24\n",
       "1      2014                        1              18            25\n",
       "2      2014                        2              17            24\n",
       "3      2014                        1              26            24\n",
       "4      2014                        1              17            18\n",
       "..      ...                      ...             ...           ...\n",
       "154    2024                        1              48            24\n",
       "155    2024                        1              22            25\n",
       "156    2024                        2              31            25\n",
       "157    2024                        1              43            24\n",
       "158    2024                        0              34            26\n",
       "\n",
       "[159 rows x 4 columns]"
      ]
     },
     "execution_count": 175,
     "metadata": {},
     "output_type": "execute_result"
    }
   ],
   "source": [
    "ys_chahal_wicket = bowler_perf.loc['YS Chahal'].reset_index()\n",
    "ys_chahal_match = bowler_match_perf.loc['YS Chahal'].reset_index()\n",
    "ys_chahal_match.drop(columns='match_number',inplace=True)\n",
    "ys_chahal_match.columns = ['_'.join(col) for col in ys_chahal_match.columns]\n",
    "ys_chahal_match\n"
   ]
  },
  {
   "cell_type": "code",
   "execution_count": 176,
   "metadata": {},
   "outputs": [],
   "source": [
    "ys_chahal_match = ys_chahal_match.groupby('season_').agg({'wicket.player_out_count':'sum','runs.total_sum':'sum','batter_count':'sum'})\n",
    "# ys_chahal_match.columns = ['_'.join(col) for col in ys_chahal_match.columns]\n",
    "ys_chahal_wicket.columns = ['_'.join(col) for col in ys_chahal_wicket.columns]"
   ]
  },
  {
   "cell_type": "code",
   "execution_count": 177,
   "metadata": {},
   "outputs": [
    {
     "data": {
      "text/html": [
       "<div>\n",
       "<style scoped>\n",
       "    .dataframe tbody tr th:only-of-type {\n",
       "        vertical-align: middle;\n",
       "    }\n",
       "\n",
       "    .dataframe tbody tr th {\n",
       "        vertical-align: top;\n",
       "    }\n",
       "\n",
       "    .dataframe thead th {\n",
       "        text-align: right;\n",
       "    }\n",
       "</style>\n",
       "<table border=\"1\" class=\"dataframe\">\n",
       "  <thead>\n",
       "    <tr style=\"text-align: right;\">\n",
       "      <th></th>\n",
       "      <th>season_</th>\n",
       "      <th>wicket.player_out_count</th>\n",
       "      <th>runs.total_sum</th>\n",
       "      <th>batter_count</th>\n",
       "    </tr>\n",
       "  </thead>\n",
       "  <tbody>\n",
       "    <tr>\n",
       "      <th>0</th>\n",
       "      <td>2013</td>\n",
       "      <td>0</td>\n",
       "      <td>35</td>\n",
       "      <td>24</td>\n",
       "    </tr>\n",
       "    <tr>\n",
       "      <th>1</th>\n",
       "      <td>2014</td>\n",
       "      <td>12</td>\n",
       "      <td>389</td>\n",
       "      <td>333</td>\n",
       "    </tr>\n",
       "    <tr>\n",
       "      <th>2</th>\n",
       "      <td>2015</td>\n",
       "      <td>24</td>\n",
       "      <td>416</td>\n",
       "      <td>283</td>\n",
       "    </tr>\n",
       "    <tr>\n",
       "      <th>3</th>\n",
       "      <td>2016</td>\n",
       "      <td>22</td>\n",
       "      <td>409</td>\n",
       "      <td>308</td>\n",
       "    </tr>\n",
       "    <tr>\n",
       "      <th>4</th>\n",
       "      <td>2017</td>\n",
       "      <td>14</td>\n",
       "      <td>351</td>\n",
       "      <td>271</td>\n",
       "    </tr>\n",
       "    <tr>\n",
       "      <th>5</th>\n",
       "      <td>2018</td>\n",
       "      <td>12</td>\n",
       "      <td>374</td>\n",
       "      <td>313</td>\n",
       "    </tr>\n",
       "    <tr>\n",
       "      <th>6</th>\n",
       "      <td>2019</td>\n",
       "      <td>18</td>\n",
       "      <td>394</td>\n",
       "      <td>308</td>\n",
       "    </tr>\n",
       "    <tr>\n",
       "      <th>7</th>\n",
       "      <td>2020</td>\n",
       "      <td>22</td>\n",
       "      <td>414</td>\n",
       "      <td>348</td>\n",
       "    </tr>\n",
       "    <tr>\n",
       "      <th>8</th>\n",
       "      <td>2021</td>\n",
       "      <td>19</td>\n",
       "      <td>381</td>\n",
       "      <td>323</td>\n",
       "    </tr>\n",
       "    <tr>\n",
       "      <th>9</th>\n",
       "      <td>2022</td>\n",
       "      <td>29</td>\n",
       "      <td>536</td>\n",
       "      <td>429</td>\n",
       "    </tr>\n",
       "    <tr>\n",
       "      <th>10</th>\n",
       "      <td>2023</td>\n",
       "      <td>22</td>\n",
       "      <td>434</td>\n",
       "      <td>326</td>\n",
       "    </tr>\n",
       "    <tr>\n",
       "      <th>11</th>\n",
       "      <td>2024</td>\n",
       "      <td>19</td>\n",
       "      <td>548</td>\n",
       "      <td>362</td>\n",
       "    </tr>\n",
       "  </tbody>\n",
       "</table>\n",
       "</div>"
      ],
      "text/plain": [
       "   season_  wicket.player_out_count  runs.total_sum  batter_count\n",
       "0     2013                        0              35            24\n",
       "1     2014                       12             389           333\n",
       "2     2015                       24             416           283\n",
       "3     2016                       22             409           308\n",
       "4     2017                       14             351           271\n",
       "5     2018                       12             374           313\n",
       "6     2019                       18             394           308\n",
       "7     2020                       22             414           348\n",
       "8     2021                       19             381           323\n",
       "9     2022                       29             536           429\n",
       "10    2023                       22             434           326\n",
       "11    2024                       19             548           362"
      ]
     },
     "execution_count": 177,
     "metadata": {},
     "output_type": "execute_result"
    }
   ],
   "source": [
    "ys_chahal_match.reset_index(inplace=True)\n",
    "ys_chahal_match"
   ]
  },
  {
   "cell_type": "code",
   "execution_count": 213,
   "metadata": {},
   "outputs": [
    {
     "data": {
      "text/html": [
       "<div>\n",
       "<style scoped>\n",
       "    .dataframe tbody tr th:only-of-type {\n",
       "        vertical-align: middle;\n",
       "    }\n",
       "\n",
       "    .dataframe tbody tr th {\n",
       "        vertical-align: top;\n",
       "    }\n",
       "\n",
       "    .dataframe thead th {\n",
       "        text-align: right;\n",
       "    }\n",
       "</style>\n",
       "<table border=\"1\" class=\"dataframe\">\n",
       "  <thead>\n",
       "    <tr style=\"text-align: right;\">\n",
       "      <th></th>\n",
       "      <th>season_</th>\n",
       "      <th>wicket.kind_</th>\n",
       "      <th>wicket.player_out_count</th>\n",
       "      <th>batter_max</th>\n",
       "      <th>wicket_kind_no</th>\n",
       "    </tr>\n",
       "  </thead>\n",
       "  <tbody>\n",
       "    <tr>\n",
       "      <th>0</th>\n",
       "      <td>2014</td>\n",
       "      <td>bowled</td>\n",
       "      <td>1</td>\n",
       "      <td>M Vijay</td>\n",
       "      <td>0</td>\n",
       "    </tr>\n",
       "    <tr>\n",
       "      <th>1</th>\n",
       "      <td>2014</td>\n",
       "      <td>caught</td>\n",
       "      <td>10</td>\n",
       "      <td>V Sehwag</td>\n",
       "      <td>1</td>\n",
       "    </tr>\n",
       "    <tr>\n",
       "      <th>2</th>\n",
       "      <td>2014</td>\n",
       "      <td>stumped</td>\n",
       "      <td>1</td>\n",
       "      <td>KP Pietersen</td>\n",
       "      <td>2</td>\n",
       "    </tr>\n",
       "    <tr>\n",
       "      <th>3</th>\n",
       "      <td>2015</td>\n",
       "      <td>bowled</td>\n",
       "      <td>4</td>\n",
       "      <td>SV Samson</td>\n",
       "      <td>0</td>\n",
       "    </tr>\n",
       "    <tr>\n",
       "      <th>4</th>\n",
       "      <td>2015</td>\n",
       "      <td>caught</td>\n",
       "      <td>14</td>\n",
       "      <td>Yuvraj Singh</td>\n",
       "      <td>1</td>\n",
       "    </tr>\n",
       "  </tbody>\n",
       "</table>\n",
       "</div>"
      ],
      "text/plain": [
       "  season_ wicket.kind_  wicket.player_out_count    batter_max  wicket_kind_no\n",
       "0    2014       bowled                        1       M Vijay               0\n",
       "1    2014       caught                       10      V Sehwag               1\n",
       "2    2014      stumped                        1  KP Pietersen               2\n",
       "3    2015       bowled                        4     SV Samson               0\n",
       "4    2015       caught                       14  Yuvraj Singh               1"
      ]
     },
     "execution_count": 213,
     "metadata": {},
     "output_type": "execute_result"
    }
   ],
   "source": [
    "ys_chahal_wicket.head()"
   ]
  },
  {
   "cell_type": "code",
   "execution_count": 179,
   "metadata": {},
   "outputs": [],
   "source": [
    "ys_chahal = pd.merge(left=ys_chahal_match,right=ys_chahal_wicket,on='season_',how=\"inner\")"
   ]
  },
  {
   "cell_type": "code",
   "execution_count": 214,
   "metadata": {},
   "outputs": [
    {
     "data": {
      "text/html": [
       "<div>\n",
       "<style scoped>\n",
       "    .dataframe tbody tr th:only-of-type {\n",
       "        vertical-align: middle;\n",
       "    }\n",
       "\n",
       "    .dataframe tbody tr th {\n",
       "        vertical-align: top;\n",
       "    }\n",
       "\n",
       "    .dataframe thead th {\n",
       "        text-align: right;\n",
       "    }\n",
       "</style>\n",
       "<table border=\"1\" class=\"dataframe\">\n",
       "  <thead>\n",
       "    <tr style=\"text-align: right;\">\n",
       "      <th></th>\n",
       "      <th>season_</th>\n",
       "      <th>wicket.player_out_count_x</th>\n",
       "      <th>runs.total_sum</th>\n",
       "      <th>batter_count</th>\n",
       "      <th>wicket.kind_</th>\n",
       "      <th>wicket.player_out_count_y</th>\n",
       "      <th>batter_max</th>\n",
       "      <th>wicket_kind_no</th>\n",
       "    </tr>\n",
       "  </thead>\n",
       "  <tbody>\n",
       "    <tr>\n",
       "      <th>0</th>\n",
       "      <td>2014</td>\n",
       "      <td>12</td>\n",
       "      <td>389</td>\n",
       "      <td>333</td>\n",
       "      <td>bowled</td>\n",
       "      <td>1</td>\n",
       "      <td>M Vijay</td>\n",
       "      <td>0</td>\n",
       "    </tr>\n",
       "    <tr>\n",
       "      <th>1</th>\n",
       "      <td>2014</td>\n",
       "      <td>12</td>\n",
       "      <td>389</td>\n",
       "      <td>333</td>\n",
       "      <td>caught</td>\n",
       "      <td>10</td>\n",
       "      <td>V Sehwag</td>\n",
       "      <td>1</td>\n",
       "    </tr>\n",
       "    <tr>\n",
       "      <th>2</th>\n",
       "      <td>2014</td>\n",
       "      <td>12</td>\n",
       "      <td>389</td>\n",
       "      <td>333</td>\n",
       "      <td>stumped</td>\n",
       "      <td>1</td>\n",
       "      <td>KP Pietersen</td>\n",
       "      <td>2</td>\n",
       "    </tr>\n",
       "    <tr>\n",
       "      <th>3</th>\n",
       "      <td>2015</td>\n",
       "      <td>24</td>\n",
       "      <td>416</td>\n",
       "      <td>283</td>\n",
       "      <td>bowled</td>\n",
       "      <td>4</td>\n",
       "      <td>SV Samson</td>\n",
       "      <td>0</td>\n",
       "    </tr>\n",
       "    <tr>\n",
       "      <th>4</th>\n",
       "      <td>2015</td>\n",
       "      <td>24</td>\n",
       "      <td>416</td>\n",
       "      <td>283</td>\n",
       "      <td>caught</td>\n",
       "      <td>14</td>\n",
       "      <td>Yuvraj Singh</td>\n",
       "      <td>1</td>\n",
       "    </tr>\n",
       "  </tbody>\n",
       "</table>\n",
       "</div>"
      ],
      "text/plain": [
       "  season_  wicket.player_out_count_x  runs.total_sum  batter_count  \\\n",
       "0    2014                         12             389           333   \n",
       "1    2014                         12             389           333   \n",
       "2    2014                         12             389           333   \n",
       "3    2015                         24             416           283   \n",
       "4    2015                         24             416           283   \n",
       "\n",
       "  wicket.kind_  wicket.player_out_count_y    batter_max  wicket_kind_no  \n",
       "0       bowled                          1       M Vijay               0  \n",
       "1       caught                         10      V Sehwag               1  \n",
       "2      stumped                          1  KP Pietersen               2  \n",
       "3       bowled                          4     SV Samson               0  \n",
       "4       caught                         14  Yuvraj Singh               1  "
      ]
     },
     "execution_count": 214,
     "metadata": {},
     "output_type": "execute_result"
    }
   ],
   "source": [
    "ys_chahal.head()"
   ]
  },
  {
   "cell_type": "code",
   "execution_count": 212,
   "metadata": {},
   "outputs": [
    {
     "data": {
      "application/vnd.plotly.v1+json": {
       "config": {
        "plotlyServerURL": "https://plot.ly"
       },
       "data": [
        {
         "hovertemplate": "wicket.kind_=bowled<br>season_=%{x}<br>wicket.player_out_count_y=%{y}<br>size=%{marker.size}<extra></extra>",
         "legendgroup": "bowled",
         "marker": {
          "color": "#636efa",
          "size": [
           0.3003003003003003,
           1.4134275618374559,
           0.6493506493506493,
           0.7380073800738007,
           1.9169329073482428,
           1.2987012987012987,
           1.7241379310344827,
           0.9287925696594427,
           1.1655011655011656,
           0.6134969325153374,
           0.27624309392265195
          ],
          "sizemode": "area",
          "sizeref": 0.012367491166077738,
          "symbol": "circle"
         },
         "mode": "markers",
         "name": "bowled",
         "orientation": "v",
         "showlegend": true,
         "type": "scatter",
         "x": [
          "2014",
          "2015",
          "2016",
          "2017",
          "2018",
          "2019",
          "2020",
          "2021",
          "2022",
          "2023",
          "2024"
         ],
         "xaxis": "x",
         "y": [
          1,
          4,
          2,
          2,
          6,
          4,
          6,
          3,
          5,
          2,
          1
         ],
         "yaxis": "y"
        },
        {
         "hovertemplate": "wicket.kind_=caught<br>season_=%{x}<br>wicket.player_out_count_y=%{y}<br>size=%{marker.size}<extra></extra>",
         "legendgroup": "caught",
         "marker": {
          "color": "#EF553B",
          "size": [
           3.003003003003003,
           4.946996466431095,
           4.545454545454546,
           4.059040590405904,
           0.9584664536741214,
           3.2467532467532467,
           3.4482758620689653,
           3.4055727554179565,
           3.7296037296037294,
           3.9877300613496933,
           3.591160220994475
          ],
          "sizemode": "area",
          "sizeref": 0.012367491166077738,
          "symbol": "circle"
         },
         "mode": "markers",
         "name": "caught",
         "orientation": "v",
         "showlegend": true,
         "type": "scatter",
         "x": [
          "2014",
          "2015",
          "2016",
          "2017",
          "2018",
          "2019",
          "2020",
          "2021",
          "2022",
          "2023",
          "2024"
         ],
         "xaxis": "x",
         "y": [
          10,
          14,
          14,
          11,
          3,
          10,
          12,
          11,
          16,
          13,
          13
         ],
         "yaxis": "y"
        },
        {
         "hovertemplate": "wicket.kind_=stumped<br>season_=%{x}<br>wicket.player_out_count_y=%{y}<br>size=%{marker.size}<extra></extra>",
         "legendgroup": "stumped",
         "marker": {
          "color": "#00cc96",
          "size": [
           0.3003003003003003,
           1.0600706713780919,
           0.974025974025974,
           0.36900369003690037,
           0.6389776357827476,
           0.6493506493506493,
           0.28735632183908044,
           0.30959752321981426,
           0.4662004662004662,
           0.9202453987730062,
           0.27624309392265195
          ],
          "sizemode": "area",
          "sizeref": 0.012367491166077738,
          "symbol": "circle"
         },
         "mode": "markers",
         "name": "stumped",
         "orientation": "v",
         "showlegend": true,
         "type": "scatter",
         "x": [
          "2014",
          "2015",
          "2016",
          "2017",
          "2018",
          "2019",
          "2020",
          "2021",
          "2022",
          "2023",
          "2024"
         ],
         "xaxis": "x",
         "y": [
          1,
          3,
          3,
          1,
          2,
          2,
          1,
          1,
          2,
          3,
          1
         ],
         "yaxis": "y"
        },
        {
         "hovertemplate": "wicket.kind_=caught and bowled<br>season_=%{x}<br>wicket.player_out_count_y=%{y}<br>size=%{marker.size}<extra></extra>",
         "legendgroup": "caught and bowled",
         "marker": {
          "color": "#ab63fa",
          "size": [
           0.35335689045936397,
           0.3194888178913738,
           0.28735632183908044,
           0.27624309392265195
          ],
          "sizemode": "area",
          "sizeref": 0.012367491166077738,
          "symbol": "circle"
         },
         "mode": "markers",
         "name": "caught and bowled",
         "orientation": "v",
         "showlegend": true,
         "type": "scatter",
         "x": [
          "2015",
          "2018",
          "2020",
          "2024"
         ],
         "xaxis": "x",
         "y": [
          1,
          1,
          1,
          1
         ],
         "yaxis": "y"
        },
        {
         "hovertemplate": "wicket.kind_=lbw<br>season_=%{x}<br>wicket.player_out_count_y=%{y}<br>size=%{marker.size}<extra></extra>",
         "legendgroup": "lbw",
         "marker": {
          "color": "#FFA15A",
          "size": [
           0.35335689045936397,
           0.6493506493506493,
           0.6493506493506493,
           0.28735632183908044,
           0.9287925696594427,
           0.9324009324009324,
           0.9202453987730062,
           0.5524861878453039
          ],
          "sizemode": "area",
          "sizeref": 0.012367491166077738,
          "symbol": "circle"
         },
         "mode": "markers",
         "name": "lbw",
         "orientation": "v",
         "showlegend": true,
         "type": "scatter",
         "x": [
          "2015",
          "2016",
          "2019",
          "2020",
          "2021",
          "2022",
          "2023",
          "2024"
         ],
         "xaxis": "x",
         "y": [
          1,
          2,
          2,
          1,
          3,
          4,
          3,
          2
         ],
         "yaxis": "y"
        },
        {
         "hovertemplate": "wicket.kind_=run out<br>season_=%{x}<br>wicket.player_out_count_y=%{y}<br>size=%{marker.size}<extra></extra>",
         "legendgroup": "run out",
         "marker": {
          "color": "#19d3f3",
          "size": [
           0.35335689045936397,
           0.3246753246753247,
           0.28735632183908044,
           0.30959752321981426,
           0.4662004662004662,
           0.3067484662576687,
           0.27624309392265195
          ],
          "sizemode": "area",
          "sizeref": 0.012367491166077738,
          "symbol": "circle"
         },
         "mode": "markers",
         "name": "run out",
         "orientation": "v",
         "showlegend": true,
         "type": "scatter",
         "x": [
          "2015",
          "2016",
          "2020",
          "2021",
          "2022",
          "2023",
          "2024"
         ],
         "xaxis": "x",
         "y": [
          1,
          1,
          1,
          1,
          2,
          1,
          1
         ],
         "yaxis": "y"
        }
       ],
       "layout": {
        "legend": {
         "itemsizing": "constant",
         "title": {
          "text": "wicket.kind_"
         },
         "tracegroupgap": 0
        },
        "template": {
         "data": {
          "bar": [
           {
            "error_x": {
             "color": "#2a3f5f"
            },
            "error_y": {
             "color": "#2a3f5f"
            },
            "marker": {
             "line": {
              "color": "#E5ECF6",
              "width": 0.5
             },
             "pattern": {
              "fillmode": "overlay",
              "size": 10,
              "solidity": 0.2
             }
            },
            "type": "bar"
           }
          ],
          "barpolar": [
           {
            "marker": {
             "line": {
              "color": "#E5ECF6",
              "width": 0.5
             },
             "pattern": {
              "fillmode": "overlay",
              "size": 10,
              "solidity": 0.2
             }
            },
            "type": "barpolar"
           }
          ],
          "carpet": [
           {
            "aaxis": {
             "endlinecolor": "#2a3f5f",
             "gridcolor": "white",
             "linecolor": "white",
             "minorgridcolor": "white",
             "startlinecolor": "#2a3f5f"
            },
            "baxis": {
             "endlinecolor": "#2a3f5f",
             "gridcolor": "white",
             "linecolor": "white",
             "minorgridcolor": "white",
             "startlinecolor": "#2a3f5f"
            },
            "type": "carpet"
           }
          ],
          "choropleth": [
           {
            "colorbar": {
             "outlinewidth": 0,
             "ticks": ""
            },
            "type": "choropleth"
           }
          ],
          "contour": [
           {
            "colorbar": {
             "outlinewidth": 0,
             "ticks": ""
            },
            "colorscale": [
             [
              0,
              "#0d0887"
             ],
             [
              0.1111111111111111,
              "#46039f"
             ],
             [
              0.2222222222222222,
              "#7201a8"
             ],
             [
              0.3333333333333333,
              "#9c179e"
             ],
             [
              0.4444444444444444,
              "#bd3786"
             ],
             [
              0.5555555555555556,
              "#d8576b"
             ],
             [
              0.6666666666666666,
              "#ed7953"
             ],
             [
              0.7777777777777778,
              "#fb9f3a"
             ],
             [
              0.8888888888888888,
              "#fdca26"
             ],
             [
              1,
              "#f0f921"
             ]
            ],
            "type": "contour"
           }
          ],
          "contourcarpet": [
           {
            "colorbar": {
             "outlinewidth": 0,
             "ticks": ""
            },
            "type": "contourcarpet"
           }
          ],
          "heatmap": [
           {
            "colorbar": {
             "outlinewidth": 0,
             "ticks": ""
            },
            "colorscale": [
             [
              0,
              "#0d0887"
             ],
             [
              0.1111111111111111,
              "#46039f"
             ],
             [
              0.2222222222222222,
              "#7201a8"
             ],
             [
              0.3333333333333333,
              "#9c179e"
             ],
             [
              0.4444444444444444,
              "#bd3786"
             ],
             [
              0.5555555555555556,
              "#d8576b"
             ],
             [
              0.6666666666666666,
              "#ed7953"
             ],
             [
              0.7777777777777778,
              "#fb9f3a"
             ],
             [
              0.8888888888888888,
              "#fdca26"
             ],
             [
              1,
              "#f0f921"
             ]
            ],
            "type": "heatmap"
           }
          ],
          "heatmapgl": [
           {
            "colorbar": {
             "outlinewidth": 0,
             "ticks": ""
            },
            "colorscale": [
             [
              0,
              "#0d0887"
             ],
             [
              0.1111111111111111,
              "#46039f"
             ],
             [
              0.2222222222222222,
              "#7201a8"
             ],
             [
              0.3333333333333333,
              "#9c179e"
             ],
             [
              0.4444444444444444,
              "#bd3786"
             ],
             [
              0.5555555555555556,
              "#d8576b"
             ],
             [
              0.6666666666666666,
              "#ed7953"
             ],
             [
              0.7777777777777778,
              "#fb9f3a"
             ],
             [
              0.8888888888888888,
              "#fdca26"
             ],
             [
              1,
              "#f0f921"
             ]
            ],
            "type": "heatmapgl"
           }
          ],
          "histogram": [
           {
            "marker": {
             "pattern": {
              "fillmode": "overlay",
              "size": 10,
              "solidity": 0.2
             }
            },
            "type": "histogram"
           }
          ],
          "histogram2d": [
           {
            "colorbar": {
             "outlinewidth": 0,
             "ticks": ""
            },
            "colorscale": [
             [
              0,
              "#0d0887"
             ],
             [
              0.1111111111111111,
              "#46039f"
             ],
             [
              0.2222222222222222,
              "#7201a8"
             ],
             [
              0.3333333333333333,
              "#9c179e"
             ],
             [
              0.4444444444444444,
              "#bd3786"
             ],
             [
              0.5555555555555556,
              "#d8576b"
             ],
             [
              0.6666666666666666,
              "#ed7953"
             ],
             [
              0.7777777777777778,
              "#fb9f3a"
             ],
             [
              0.8888888888888888,
              "#fdca26"
             ],
             [
              1,
              "#f0f921"
             ]
            ],
            "type": "histogram2d"
           }
          ],
          "histogram2dcontour": [
           {
            "colorbar": {
             "outlinewidth": 0,
             "ticks": ""
            },
            "colorscale": [
             [
              0,
              "#0d0887"
             ],
             [
              0.1111111111111111,
              "#46039f"
             ],
             [
              0.2222222222222222,
              "#7201a8"
             ],
             [
              0.3333333333333333,
              "#9c179e"
             ],
             [
              0.4444444444444444,
              "#bd3786"
             ],
             [
              0.5555555555555556,
              "#d8576b"
             ],
             [
              0.6666666666666666,
              "#ed7953"
             ],
             [
              0.7777777777777778,
              "#fb9f3a"
             ],
             [
              0.8888888888888888,
              "#fdca26"
             ],
             [
              1,
              "#f0f921"
             ]
            ],
            "type": "histogram2dcontour"
           }
          ],
          "mesh3d": [
           {
            "colorbar": {
             "outlinewidth": 0,
             "ticks": ""
            },
            "type": "mesh3d"
           }
          ],
          "parcoords": [
           {
            "line": {
             "colorbar": {
              "outlinewidth": 0,
              "ticks": ""
             }
            },
            "type": "parcoords"
           }
          ],
          "pie": [
           {
            "automargin": true,
            "type": "pie"
           }
          ],
          "scatter": [
           {
            "fillpattern": {
             "fillmode": "overlay",
             "size": 10,
             "solidity": 0.2
            },
            "type": "scatter"
           }
          ],
          "scatter3d": [
           {
            "line": {
             "colorbar": {
              "outlinewidth": 0,
              "ticks": ""
             }
            },
            "marker": {
             "colorbar": {
              "outlinewidth": 0,
              "ticks": ""
             }
            },
            "type": "scatter3d"
           }
          ],
          "scattercarpet": [
           {
            "marker": {
             "colorbar": {
              "outlinewidth": 0,
              "ticks": ""
             }
            },
            "type": "scattercarpet"
           }
          ],
          "scattergeo": [
           {
            "marker": {
             "colorbar": {
              "outlinewidth": 0,
              "ticks": ""
             }
            },
            "type": "scattergeo"
           }
          ],
          "scattergl": [
           {
            "marker": {
             "colorbar": {
              "outlinewidth": 0,
              "ticks": ""
             }
            },
            "type": "scattergl"
           }
          ],
          "scattermapbox": [
           {
            "marker": {
             "colorbar": {
              "outlinewidth": 0,
              "ticks": ""
             }
            },
            "type": "scattermapbox"
           }
          ],
          "scatterpolar": [
           {
            "marker": {
             "colorbar": {
              "outlinewidth": 0,
              "ticks": ""
             }
            },
            "type": "scatterpolar"
           }
          ],
          "scatterpolargl": [
           {
            "marker": {
             "colorbar": {
              "outlinewidth": 0,
              "ticks": ""
             }
            },
            "type": "scatterpolargl"
           }
          ],
          "scatterternary": [
           {
            "marker": {
             "colorbar": {
              "outlinewidth": 0,
              "ticks": ""
             }
            },
            "type": "scatterternary"
           }
          ],
          "surface": [
           {
            "colorbar": {
             "outlinewidth": 0,
             "ticks": ""
            },
            "colorscale": [
             [
              0,
              "#0d0887"
             ],
             [
              0.1111111111111111,
              "#46039f"
             ],
             [
              0.2222222222222222,
              "#7201a8"
             ],
             [
              0.3333333333333333,
              "#9c179e"
             ],
             [
              0.4444444444444444,
              "#bd3786"
             ],
             [
              0.5555555555555556,
              "#d8576b"
             ],
             [
              0.6666666666666666,
              "#ed7953"
             ],
             [
              0.7777777777777778,
              "#fb9f3a"
             ],
             [
              0.8888888888888888,
              "#fdca26"
             ],
             [
              1,
              "#f0f921"
             ]
            ],
            "type": "surface"
           }
          ],
          "table": [
           {
            "cells": {
             "fill": {
              "color": "#EBF0F8"
             },
             "line": {
              "color": "white"
             }
            },
            "header": {
             "fill": {
              "color": "#C8D4E3"
             },
             "line": {
              "color": "white"
             }
            },
            "type": "table"
           }
          ]
         },
         "layout": {
          "annotationdefaults": {
           "arrowcolor": "#2a3f5f",
           "arrowhead": 0,
           "arrowwidth": 1
          },
          "autotypenumbers": "strict",
          "coloraxis": {
           "colorbar": {
            "outlinewidth": 0,
            "ticks": ""
           }
          },
          "colorscale": {
           "diverging": [
            [
             0,
             "#8e0152"
            ],
            [
             0.1,
             "#c51b7d"
            ],
            [
             0.2,
             "#de77ae"
            ],
            [
             0.3,
             "#f1b6da"
            ],
            [
             0.4,
             "#fde0ef"
            ],
            [
             0.5,
             "#f7f7f7"
            ],
            [
             0.6,
             "#e6f5d0"
            ],
            [
             0.7,
             "#b8e186"
            ],
            [
             0.8,
             "#7fbc41"
            ],
            [
             0.9,
             "#4d9221"
            ],
            [
             1,
             "#276419"
            ]
           ],
           "sequential": [
            [
             0,
             "#0d0887"
            ],
            [
             0.1111111111111111,
             "#46039f"
            ],
            [
             0.2222222222222222,
             "#7201a8"
            ],
            [
             0.3333333333333333,
             "#9c179e"
            ],
            [
             0.4444444444444444,
             "#bd3786"
            ],
            [
             0.5555555555555556,
             "#d8576b"
            ],
            [
             0.6666666666666666,
             "#ed7953"
            ],
            [
             0.7777777777777778,
             "#fb9f3a"
            ],
            [
             0.8888888888888888,
             "#fdca26"
            ],
            [
             1,
             "#f0f921"
            ]
           ],
           "sequentialminus": [
            [
             0,
             "#0d0887"
            ],
            [
             0.1111111111111111,
             "#46039f"
            ],
            [
             0.2222222222222222,
             "#7201a8"
            ],
            [
             0.3333333333333333,
             "#9c179e"
            ],
            [
             0.4444444444444444,
             "#bd3786"
            ],
            [
             0.5555555555555556,
             "#d8576b"
            ],
            [
             0.6666666666666666,
             "#ed7953"
            ],
            [
             0.7777777777777778,
             "#fb9f3a"
            ],
            [
             0.8888888888888888,
             "#fdca26"
            ],
            [
             1,
             "#f0f921"
            ]
           ]
          },
          "colorway": [
           "#636efa",
           "#EF553B",
           "#00cc96",
           "#ab63fa",
           "#FFA15A",
           "#19d3f3",
           "#FF6692",
           "#B6E880",
           "#FF97FF",
           "#FECB52"
          ],
          "font": {
           "color": "#2a3f5f"
          },
          "geo": {
           "bgcolor": "white",
           "lakecolor": "white",
           "landcolor": "#E5ECF6",
           "showlakes": true,
           "showland": true,
           "subunitcolor": "white"
          },
          "hoverlabel": {
           "align": "left"
          },
          "hovermode": "closest",
          "mapbox": {
           "style": "light"
          },
          "paper_bgcolor": "white",
          "plot_bgcolor": "#E5ECF6",
          "polar": {
           "angularaxis": {
            "gridcolor": "white",
            "linecolor": "white",
            "ticks": ""
           },
           "bgcolor": "#E5ECF6",
           "radialaxis": {
            "gridcolor": "white",
            "linecolor": "white",
            "ticks": ""
           }
          },
          "scene": {
           "xaxis": {
            "backgroundcolor": "#E5ECF6",
            "gridcolor": "white",
            "gridwidth": 2,
            "linecolor": "white",
            "showbackground": true,
            "ticks": "",
            "zerolinecolor": "white"
           },
           "yaxis": {
            "backgroundcolor": "#E5ECF6",
            "gridcolor": "white",
            "gridwidth": 2,
            "linecolor": "white",
            "showbackground": true,
            "ticks": "",
            "zerolinecolor": "white"
           },
           "zaxis": {
            "backgroundcolor": "#E5ECF6",
            "gridcolor": "white",
            "gridwidth": 2,
            "linecolor": "white",
            "showbackground": true,
            "ticks": "",
            "zerolinecolor": "white"
           }
          },
          "shapedefaults": {
           "line": {
            "color": "#2a3f5f"
           }
          },
          "ternary": {
           "aaxis": {
            "gridcolor": "white",
            "linecolor": "white",
            "ticks": ""
           },
           "baxis": {
            "gridcolor": "white",
            "linecolor": "white",
            "ticks": ""
           },
           "bgcolor": "#E5ECF6",
           "caxis": {
            "gridcolor": "white",
            "linecolor": "white",
            "ticks": ""
           }
          },
          "title": {
           "x": 0.05
          },
          "xaxis": {
           "automargin": true,
           "gridcolor": "white",
           "linecolor": "white",
           "ticks": "",
           "title": {
            "standoff": 15
           },
           "zerolinecolor": "white",
           "zerolinewidth": 2
          },
          "yaxis": {
           "automargin": true,
           "gridcolor": "white",
           "linecolor": "white",
           "ticks": "",
           "title": {
            "standoff": 15
           },
           "zerolinecolor": "white",
           "zerolinewidth": 2
          }
         }
        },
        "title": {
         "text": "Yuzvendra Wicket Trend"
        },
        "xaxis": {
         "anchor": "y",
         "domain": [
          0,
          1
         ],
         "title": {
          "text": "season_"
         }
        },
        "yaxis": {
         "anchor": "x",
         "domain": [
          0,
          1
         ],
         "title": {
          "text": "wicket.player_out_count_y"
         }
        }
       }
      }
     },
     "metadata": {},
     "output_type": "display_data"
    }
   ],
   "source": [
    "gapminder(df=ys_chahal,x_col=ys_chahal['season_'],y_col=ys_chahal['wicket.player_out_count_y'],size_col=ys_chahal['wicket.player_out_count_y']*100/(ys_chahal['batter_count']),color_col=ys_chahal['wicket.kind_'],title=\"Yuzvendra Wicket Trend\")"
   ]
  },
  {
   "cell_type": "markdown",
   "metadata": {},
   "source": [
    "The above colourful graph represents the following stuff \n",
    " - The x axis shows data over the season\n",
    " - the y axis shows the no of wickets taken with respect to kind of wicket taken represented by colour\n",
    " - the size represents the percentage that a ball could be a wicket of the respective kind"
   ]
  },
  {
   "cell_type": "code",
   "execution_count": 184,
   "metadata": {},
   "outputs": [
    {
     "data": {
      "text/plain": [
       "array(['bowled', 'caught', 'stumped', 'caught and bowled', 'lbw',\n",
       "       'run out'], dtype=object)"
      ]
     },
     "execution_count": 184,
     "metadata": {},
     "output_type": "execute_result"
    }
   ],
   "source": [
    "ys_chahal_wicket['wicket.kind_'].unique()"
   ]
  },
  {
   "cell_type": "code",
   "execution_count": 194,
   "metadata": {},
   "outputs": [],
   "source": [
    "ys_chahal['wicket_kind_no'] = [['bowled', 'caught', 'stumped', 'caught and bowled', 'lbw',\n",
    "       'run out'].index(value) for value in ys_chahal_wicket['wicket.kind_']]"
   ]
  },
  {
   "cell_type": "code",
   "execution_count": 198,
   "metadata": {},
   "outputs": [
    {
     "name": "stdout",
     "output_type": "stream",
     "text": [
      "{'0': 'bowled', '1': 'caught', '2': 'stumped', '3': 'caught and bowled', '4': 'stumped', '5': 'lbw'}\n"
     ]
    },
    {
     "data": {
      "application/vnd.plotly.v1+json": {
       "config": {
        "plotlyServerURL": "https://plot.ly"
       },
       "data": [
        {
         "dimensions": [
          {
           "label": "wicket.player_out_count_x",
           "values": [
            12,
            12,
            12,
            24,
            24,
            24,
            24,
            24,
            24,
            22,
            22,
            22,
            22,
            22,
            14,
            14,
            14,
            12,
            12,
            12,
            12,
            18,
            18,
            18,
            18,
            22,
            22,
            22,
            22,
            22,
            22,
            19,
            19,
            19,
            19,
            19,
            29,
            29,
            29,
            29,
            29,
            22,
            22,
            22,
            22,
            22,
            19,
            19,
            19,
            19,
            19,
            19
           ]
          },
          {
           "label": "wicket_kind_no",
           "values": [
            0,
            1,
            2,
            0,
            1,
            3,
            4,
            5,
            2,
            0,
            1,
            4,
            5,
            2,
            0,
            1,
            2,
            0,
            1,
            3,
            2,
            0,
            1,
            4,
            2,
            0,
            1,
            3,
            4,
            5,
            2,
            0,
            1,
            4,
            5,
            2,
            0,
            1,
            4,
            5,
            2,
            0,
            1,
            4,
            5,
            2,
            0,
            1,
            3,
            4,
            5,
            2
           ]
          },
          {
           "label": "wicket.player_out_count_y",
           "values": [
            1,
            10,
            1,
            4,
            14,
            1,
            1,
            1,
            3,
            2,
            14,
            2,
            1,
            3,
            2,
            11,
            1,
            6,
            3,
            1,
            2,
            4,
            10,
            2,
            2,
            6,
            12,
            1,
            1,
            1,
            1,
            3,
            11,
            3,
            1,
            1,
            5,
            16,
            4,
            2,
            2,
            2,
            13,
            3,
            1,
            3,
            1,
            13,
            1,
            2,
            1,
            1
           ]
          }
         ],
         "domain": {
          "x": [
           0,
           1
          ],
          "y": [
           0,
           1
          ]
         },
         "name": "",
         "type": "parcoords"
        }
       ],
       "layout": {
        "legend": {
         "tracegroupgap": 0
        },
        "template": {
         "data": {
          "bar": [
           {
            "error_x": {
             "color": "#2a3f5f"
            },
            "error_y": {
             "color": "#2a3f5f"
            },
            "marker": {
             "line": {
              "color": "#E5ECF6",
              "width": 0.5
             },
             "pattern": {
              "fillmode": "overlay",
              "size": 10,
              "solidity": 0.2
             }
            },
            "type": "bar"
           }
          ],
          "barpolar": [
           {
            "marker": {
             "line": {
              "color": "#E5ECF6",
              "width": 0.5
             },
             "pattern": {
              "fillmode": "overlay",
              "size": 10,
              "solidity": 0.2
             }
            },
            "type": "barpolar"
           }
          ],
          "carpet": [
           {
            "aaxis": {
             "endlinecolor": "#2a3f5f",
             "gridcolor": "white",
             "linecolor": "white",
             "minorgridcolor": "white",
             "startlinecolor": "#2a3f5f"
            },
            "baxis": {
             "endlinecolor": "#2a3f5f",
             "gridcolor": "white",
             "linecolor": "white",
             "minorgridcolor": "white",
             "startlinecolor": "#2a3f5f"
            },
            "type": "carpet"
           }
          ],
          "choropleth": [
           {
            "colorbar": {
             "outlinewidth": 0,
             "ticks": ""
            },
            "type": "choropleth"
           }
          ],
          "contour": [
           {
            "colorbar": {
             "outlinewidth": 0,
             "ticks": ""
            },
            "colorscale": [
             [
              0,
              "#0d0887"
             ],
             [
              0.1111111111111111,
              "#46039f"
             ],
             [
              0.2222222222222222,
              "#7201a8"
             ],
             [
              0.3333333333333333,
              "#9c179e"
             ],
             [
              0.4444444444444444,
              "#bd3786"
             ],
             [
              0.5555555555555556,
              "#d8576b"
             ],
             [
              0.6666666666666666,
              "#ed7953"
             ],
             [
              0.7777777777777778,
              "#fb9f3a"
             ],
             [
              0.8888888888888888,
              "#fdca26"
             ],
             [
              1,
              "#f0f921"
             ]
            ],
            "type": "contour"
           }
          ],
          "contourcarpet": [
           {
            "colorbar": {
             "outlinewidth": 0,
             "ticks": ""
            },
            "type": "contourcarpet"
           }
          ],
          "heatmap": [
           {
            "colorbar": {
             "outlinewidth": 0,
             "ticks": ""
            },
            "colorscale": [
             [
              0,
              "#0d0887"
             ],
             [
              0.1111111111111111,
              "#46039f"
             ],
             [
              0.2222222222222222,
              "#7201a8"
             ],
             [
              0.3333333333333333,
              "#9c179e"
             ],
             [
              0.4444444444444444,
              "#bd3786"
             ],
             [
              0.5555555555555556,
              "#d8576b"
             ],
             [
              0.6666666666666666,
              "#ed7953"
             ],
             [
              0.7777777777777778,
              "#fb9f3a"
             ],
             [
              0.8888888888888888,
              "#fdca26"
             ],
             [
              1,
              "#f0f921"
             ]
            ],
            "type": "heatmap"
           }
          ],
          "heatmapgl": [
           {
            "colorbar": {
             "outlinewidth": 0,
             "ticks": ""
            },
            "colorscale": [
             [
              0,
              "#0d0887"
             ],
             [
              0.1111111111111111,
              "#46039f"
             ],
             [
              0.2222222222222222,
              "#7201a8"
             ],
             [
              0.3333333333333333,
              "#9c179e"
             ],
             [
              0.4444444444444444,
              "#bd3786"
             ],
             [
              0.5555555555555556,
              "#d8576b"
             ],
             [
              0.6666666666666666,
              "#ed7953"
             ],
             [
              0.7777777777777778,
              "#fb9f3a"
             ],
             [
              0.8888888888888888,
              "#fdca26"
             ],
             [
              1,
              "#f0f921"
             ]
            ],
            "type": "heatmapgl"
           }
          ],
          "histogram": [
           {
            "marker": {
             "pattern": {
              "fillmode": "overlay",
              "size": 10,
              "solidity": 0.2
             }
            },
            "type": "histogram"
           }
          ],
          "histogram2d": [
           {
            "colorbar": {
             "outlinewidth": 0,
             "ticks": ""
            },
            "colorscale": [
             [
              0,
              "#0d0887"
             ],
             [
              0.1111111111111111,
              "#46039f"
             ],
             [
              0.2222222222222222,
              "#7201a8"
             ],
             [
              0.3333333333333333,
              "#9c179e"
             ],
             [
              0.4444444444444444,
              "#bd3786"
             ],
             [
              0.5555555555555556,
              "#d8576b"
             ],
             [
              0.6666666666666666,
              "#ed7953"
             ],
             [
              0.7777777777777778,
              "#fb9f3a"
             ],
             [
              0.8888888888888888,
              "#fdca26"
             ],
             [
              1,
              "#f0f921"
             ]
            ],
            "type": "histogram2d"
           }
          ],
          "histogram2dcontour": [
           {
            "colorbar": {
             "outlinewidth": 0,
             "ticks": ""
            },
            "colorscale": [
             [
              0,
              "#0d0887"
             ],
             [
              0.1111111111111111,
              "#46039f"
             ],
             [
              0.2222222222222222,
              "#7201a8"
             ],
             [
              0.3333333333333333,
              "#9c179e"
             ],
             [
              0.4444444444444444,
              "#bd3786"
             ],
             [
              0.5555555555555556,
              "#d8576b"
             ],
             [
              0.6666666666666666,
              "#ed7953"
             ],
             [
              0.7777777777777778,
              "#fb9f3a"
             ],
             [
              0.8888888888888888,
              "#fdca26"
             ],
             [
              1,
              "#f0f921"
             ]
            ],
            "type": "histogram2dcontour"
           }
          ],
          "mesh3d": [
           {
            "colorbar": {
             "outlinewidth": 0,
             "ticks": ""
            },
            "type": "mesh3d"
           }
          ],
          "parcoords": [
           {
            "line": {
             "colorbar": {
              "outlinewidth": 0,
              "ticks": ""
             }
            },
            "type": "parcoords"
           }
          ],
          "pie": [
           {
            "automargin": true,
            "type": "pie"
           }
          ],
          "scatter": [
           {
            "fillpattern": {
             "fillmode": "overlay",
             "size": 10,
             "solidity": 0.2
            },
            "type": "scatter"
           }
          ],
          "scatter3d": [
           {
            "line": {
             "colorbar": {
              "outlinewidth": 0,
              "ticks": ""
             }
            },
            "marker": {
             "colorbar": {
              "outlinewidth": 0,
              "ticks": ""
             }
            },
            "type": "scatter3d"
           }
          ],
          "scattercarpet": [
           {
            "marker": {
             "colorbar": {
              "outlinewidth": 0,
              "ticks": ""
             }
            },
            "type": "scattercarpet"
           }
          ],
          "scattergeo": [
           {
            "marker": {
             "colorbar": {
              "outlinewidth": 0,
              "ticks": ""
             }
            },
            "type": "scattergeo"
           }
          ],
          "scattergl": [
           {
            "marker": {
             "colorbar": {
              "outlinewidth": 0,
              "ticks": ""
             }
            },
            "type": "scattergl"
           }
          ],
          "scattermapbox": [
           {
            "marker": {
             "colorbar": {
              "outlinewidth": 0,
              "ticks": ""
             }
            },
            "type": "scattermapbox"
           }
          ],
          "scatterpolar": [
           {
            "marker": {
             "colorbar": {
              "outlinewidth": 0,
              "ticks": ""
             }
            },
            "type": "scatterpolar"
           }
          ],
          "scatterpolargl": [
           {
            "marker": {
             "colorbar": {
              "outlinewidth": 0,
              "ticks": ""
             }
            },
            "type": "scatterpolargl"
           }
          ],
          "scatterternary": [
           {
            "marker": {
             "colorbar": {
              "outlinewidth": 0,
              "ticks": ""
             }
            },
            "type": "scatterternary"
           }
          ],
          "surface": [
           {
            "colorbar": {
             "outlinewidth": 0,
             "ticks": ""
            },
            "colorscale": [
             [
              0,
              "#0d0887"
             ],
             [
              0.1111111111111111,
              "#46039f"
             ],
             [
              0.2222222222222222,
              "#7201a8"
             ],
             [
              0.3333333333333333,
              "#9c179e"
             ],
             [
              0.4444444444444444,
              "#bd3786"
             ],
             [
              0.5555555555555556,
              "#d8576b"
             ],
             [
              0.6666666666666666,
              "#ed7953"
             ],
             [
              0.7777777777777778,
              "#fb9f3a"
             ],
             [
              0.8888888888888888,
              "#fdca26"
             ],
             [
              1,
              "#f0f921"
             ]
            ],
            "type": "surface"
           }
          ],
          "table": [
           {
            "cells": {
             "fill": {
              "color": "#EBF0F8"
             },
             "line": {
              "color": "white"
             }
            },
            "header": {
             "fill": {
              "color": "#C8D4E3"
             },
             "line": {
              "color": "white"
             }
            },
            "type": "table"
           }
          ]
         },
         "layout": {
          "annotationdefaults": {
           "arrowcolor": "#2a3f5f",
           "arrowhead": 0,
           "arrowwidth": 1
          },
          "autotypenumbers": "strict",
          "coloraxis": {
           "colorbar": {
            "outlinewidth": 0,
            "ticks": ""
           }
          },
          "colorscale": {
           "diverging": [
            [
             0,
             "#8e0152"
            ],
            [
             0.1,
             "#c51b7d"
            ],
            [
             0.2,
             "#de77ae"
            ],
            [
             0.3,
             "#f1b6da"
            ],
            [
             0.4,
             "#fde0ef"
            ],
            [
             0.5,
             "#f7f7f7"
            ],
            [
             0.6,
             "#e6f5d0"
            ],
            [
             0.7,
             "#b8e186"
            ],
            [
             0.8,
             "#7fbc41"
            ],
            [
             0.9,
             "#4d9221"
            ],
            [
             1,
             "#276419"
            ]
           ],
           "sequential": [
            [
             0,
             "#0d0887"
            ],
            [
             0.1111111111111111,
             "#46039f"
            ],
            [
             0.2222222222222222,
             "#7201a8"
            ],
            [
             0.3333333333333333,
             "#9c179e"
            ],
            [
             0.4444444444444444,
             "#bd3786"
            ],
            [
             0.5555555555555556,
             "#d8576b"
            ],
            [
             0.6666666666666666,
             "#ed7953"
            ],
            [
             0.7777777777777778,
             "#fb9f3a"
            ],
            [
             0.8888888888888888,
             "#fdca26"
            ],
            [
             1,
             "#f0f921"
            ]
           ],
           "sequentialminus": [
            [
             0,
             "#0d0887"
            ],
            [
             0.1111111111111111,
             "#46039f"
            ],
            [
             0.2222222222222222,
             "#7201a8"
            ],
            [
             0.3333333333333333,
             "#9c179e"
            ],
            [
             0.4444444444444444,
             "#bd3786"
            ],
            [
             0.5555555555555556,
             "#d8576b"
            ],
            [
             0.6666666666666666,
             "#ed7953"
            ],
            [
             0.7777777777777778,
             "#fb9f3a"
            ],
            [
             0.8888888888888888,
             "#fdca26"
            ],
            [
             1,
             "#f0f921"
            ]
           ]
          },
          "colorway": [
           "#636efa",
           "#EF553B",
           "#00cc96",
           "#ab63fa",
           "#FFA15A",
           "#19d3f3",
           "#FF6692",
           "#B6E880",
           "#FF97FF",
           "#FECB52"
          ],
          "font": {
           "color": "#2a3f5f"
          },
          "geo": {
           "bgcolor": "white",
           "lakecolor": "white",
           "landcolor": "#E5ECF6",
           "showlakes": true,
           "showland": true,
           "subunitcolor": "white"
          },
          "hoverlabel": {
           "align": "left"
          },
          "hovermode": "closest",
          "mapbox": {
           "style": "light"
          },
          "paper_bgcolor": "white",
          "plot_bgcolor": "#E5ECF6",
          "polar": {
           "angularaxis": {
            "gridcolor": "white",
            "linecolor": "white",
            "ticks": ""
           },
           "bgcolor": "#E5ECF6",
           "radialaxis": {
            "gridcolor": "white",
            "linecolor": "white",
            "ticks": ""
           }
          },
          "scene": {
           "xaxis": {
            "backgroundcolor": "#E5ECF6",
            "gridcolor": "white",
            "gridwidth": 2,
            "linecolor": "white",
            "showbackground": true,
            "ticks": "",
            "zerolinecolor": "white"
           },
           "yaxis": {
            "backgroundcolor": "#E5ECF6",
            "gridcolor": "white",
            "gridwidth": 2,
            "linecolor": "white",
            "showbackground": true,
            "ticks": "",
            "zerolinecolor": "white"
           },
           "zaxis": {
            "backgroundcolor": "#E5ECF6",
            "gridcolor": "white",
            "gridwidth": 2,
            "linecolor": "white",
            "showbackground": true,
            "ticks": "",
            "zerolinecolor": "white"
           }
          },
          "shapedefaults": {
           "line": {
            "color": "#2a3f5f"
           }
          },
          "ternary": {
           "aaxis": {
            "gridcolor": "white",
            "linecolor": "white",
            "ticks": ""
           },
           "baxis": {
            "gridcolor": "white",
            "linecolor": "white",
            "ticks": ""
           },
           "bgcolor": "#E5ECF6",
           "caxis": {
            "gridcolor": "white",
            "linecolor": "white",
            "ticks": ""
           }
          },
          "title": {
           "x": 0.05
          },
          "xaxis": {
           "automargin": true,
           "gridcolor": "white",
           "linecolor": "white",
           "ticks": "",
           "title": {
            "standoff": 15
           },
           "zerolinecolor": "white",
           "zerolinewidth": 2
          },
          "yaxis": {
           "automargin": true,
           "gridcolor": "white",
           "linecolor": "white",
           "ticks": "",
           "title": {
            "standoff": 15
           },
           "zerolinecolor": "white",
           "zerolinewidth": 2
          }
         }
        },
        "title": {
         "text": "Yuzvendra Perf"
        }
       }
      }
     },
     "metadata": {},
     "output_type": "display_data"
    }
   ],
   "source": [
    "label = {'0':'bowled','1':'caught','2':'stumped','3':'caught and bowled','4':'stumped','5':'lbw'}\n",
    "print(label)\n",
    "parallelplot(ys_chahal,columns=[ys_chahal['wicket.player_out_count_x'],ys_chahal['wicket_kind_no'],ys_chahal['wicket.player_out_count_y']],labels=label,title=\"Yuzvendra Perf\")"
   ]
  },
  {
   "cell_type": "markdown",
   "metadata": {},
   "source": [
    "In the above most of Chahals wickets have been from catches followed by bowled\n",
    "\n",
    "He hardly has any caught and bowled in each season a maximum of one in any given season"
   ]
  },
  {
   "cell_type": "code",
   "execution_count": 391,
   "metadata": {},
   "outputs": [],
   "source": [
    "# master_df.to_csv(\"output/master_dataframe.csv\")"
   ]
  },
  {
   "cell_type": "markdown",
   "metadata": {},
   "source": [
    "Yeah thats pretty much what i have for now this being a very powerful dataset has a lot more questions to answer before calling it anywhere close to done\n",
    "\n",
    "Will make sure to keep updating the analysis regularly \n",
    "\n",
    "I am thinking of splitting the analysis part to a different notebook as this is getting too long .. \n",
    "\n",
    "See you around!!"
   ]
  },
  {
   "cell_type": "code",
   "execution_count": null,
   "metadata": {},
   "outputs": [],
   "source": []
  },
  {
   "cell_type": "code",
   "execution_count": null,
   "metadata": {},
   "outputs": [],
   "source": []
  },
  {
   "cell_type": "code",
   "execution_count": null,
   "metadata": {},
   "outputs": [],
   "source": []
  }
 ],
 "metadata": {
  "kernelspec": {
   "display_name": ".venv",
   "language": "python",
   "name": "python3"
  },
  "language_info": {
   "codemirror_mode": {
    "name": "ipython",
    "version": 3
   },
   "file_extension": ".py",
   "mimetype": "text/x-python",
   "name": "python",
   "nbconvert_exporter": "python",
   "pygments_lexer": "ipython3",
   "version": "3.11.2"
  }
 },
 "nbformat": 4,
 "nbformat_minor": 2
}
