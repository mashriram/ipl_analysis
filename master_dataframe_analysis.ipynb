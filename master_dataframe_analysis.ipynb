{
 "cells": [
  {
   "cell_type": "code",
   "execution_count": 1,
   "metadata": {},
   "outputs": [],
   "source": [
    "import pandas as pd\n",
    "import numpy as np\n",
    "from plotter import gapminder,parallelplot"
   ]
  },
  {
   "cell_type": "code",
   "execution_count": 2,
   "metadata": {},
   "outputs": [],
   "source": [
    "ball_by_ball  = pd.read_csv(\"output/ipl_ball_by_ball_output.csv\")\n",
    "ipl_match_stats = pd.read_csv(\"output/ipl_match_level_stats.csv\")"
   ]
  },
  {
   "cell_type": "code",
   "execution_count": 3,
   "metadata": {},
   "outputs": [
    {
     "data": {
      "text/html": [
       "<div>\n",
       "<style scoped>\n",
       "    .dataframe tbody tr th:only-of-type {\n",
       "        vertical-align: middle;\n",
       "    }\n",
       "\n",
       "    .dataframe tbody tr th {\n",
       "        vertical-align: top;\n",
       "    }\n",
       "\n",
       "    .dataframe thead th {\n",
       "        text-align: right;\n",
       "    }\n",
       "</style>\n",
       "<table border=\"1\" class=\"dataframe\">\n",
       "  <thead>\n",
       "    <tr style=\"text-align: right;\">\n",
       "      <th></th>\n",
       "      <th>date</th>\n",
       "      <th>match_number</th>\n",
       "      <th>innings</th>\n",
       "      <th>over</th>\n",
       "      <th>batter</th>\n",
       "      <th>bowler</th>\n",
       "      <th>stage</th>\n",
       "      <th>non_striker</th>\n",
       "      <th>runs.batter</th>\n",
       "      <th>runs.extras</th>\n",
       "      <th>runs.total</th>\n",
       "      <th>extras.legbyes</th>\n",
       "      <th>extras.wides</th>\n",
       "      <th>extras.byes</th>\n",
       "      <th>extras.noballs</th>\n",
       "      <th>wicket.kind</th>\n",
       "      <th>wicket.player_out</th>\n",
       "      <th>wicket.fielders</th>\n",
       "      <th>wickets</th>\n",
       "      <th>season</th>\n",
       "    </tr>\n",
       "  </thead>\n",
       "  <tbody>\n",
       "    <tr>\n",
       "      <th>0</th>\n",
       "      <td>2008-04-18</td>\n",
       "      <td>1</td>\n",
       "      <td>1</td>\n",
       "      <td>0</td>\n",
       "      <td>SC Ganguly</td>\n",
       "      <td>P Kumar</td>\n",
       "      <td>group</td>\n",
       "      <td>BB McCullum</td>\n",
       "      <td>0</td>\n",
       "      <td>1</td>\n",
       "      <td>1</td>\n",
       "      <td>1.0</td>\n",
       "      <td>NaN</td>\n",
       "      <td>NaN</td>\n",
       "      <td>NaN</td>\n",
       "      <td>NaN</td>\n",
       "      <td>NaN</td>\n",
       "      <td>NaN</td>\n",
       "      <td>NaN</td>\n",
       "      <td>2008</td>\n",
       "    </tr>\n",
       "    <tr>\n",
       "      <th>1</th>\n",
       "      <td>2008-04-18</td>\n",
       "      <td>1</td>\n",
       "      <td>1</td>\n",
       "      <td>0</td>\n",
       "      <td>BB McCullum</td>\n",
       "      <td>P Kumar</td>\n",
       "      <td>group</td>\n",
       "      <td>SC Ganguly</td>\n",
       "      <td>0</td>\n",
       "      <td>0</td>\n",
       "      <td>0</td>\n",
       "      <td>NaN</td>\n",
       "      <td>NaN</td>\n",
       "      <td>NaN</td>\n",
       "      <td>NaN</td>\n",
       "      <td>NaN</td>\n",
       "      <td>NaN</td>\n",
       "      <td>NaN</td>\n",
       "      <td>NaN</td>\n",
       "      <td>2008</td>\n",
       "    </tr>\n",
       "    <tr>\n",
       "      <th>2</th>\n",
       "      <td>2008-04-18</td>\n",
       "      <td>1</td>\n",
       "      <td>1</td>\n",
       "      <td>0</td>\n",
       "      <td>BB McCullum</td>\n",
       "      <td>P Kumar</td>\n",
       "      <td>group</td>\n",
       "      <td>SC Ganguly</td>\n",
       "      <td>0</td>\n",
       "      <td>1</td>\n",
       "      <td>1</td>\n",
       "      <td>NaN</td>\n",
       "      <td>1.0</td>\n",
       "      <td>NaN</td>\n",
       "      <td>NaN</td>\n",
       "      <td>NaN</td>\n",
       "      <td>NaN</td>\n",
       "      <td>NaN</td>\n",
       "      <td>NaN</td>\n",
       "      <td>2008</td>\n",
       "    </tr>\n",
       "    <tr>\n",
       "      <th>3</th>\n",
       "      <td>2008-04-18</td>\n",
       "      <td>1</td>\n",
       "      <td>1</td>\n",
       "      <td>0</td>\n",
       "      <td>BB McCullum</td>\n",
       "      <td>P Kumar</td>\n",
       "      <td>group</td>\n",
       "      <td>SC Ganguly</td>\n",
       "      <td>0</td>\n",
       "      <td>0</td>\n",
       "      <td>0</td>\n",
       "      <td>NaN</td>\n",
       "      <td>NaN</td>\n",
       "      <td>NaN</td>\n",
       "      <td>NaN</td>\n",
       "      <td>NaN</td>\n",
       "      <td>NaN</td>\n",
       "      <td>NaN</td>\n",
       "      <td>NaN</td>\n",
       "      <td>2008</td>\n",
       "    </tr>\n",
       "    <tr>\n",
       "      <th>4</th>\n",
       "      <td>2008-04-18</td>\n",
       "      <td>1</td>\n",
       "      <td>1</td>\n",
       "      <td>0</td>\n",
       "      <td>BB McCullum</td>\n",
       "      <td>P Kumar</td>\n",
       "      <td>group</td>\n",
       "      <td>SC Ganguly</td>\n",
       "      <td>0</td>\n",
       "      <td>0</td>\n",
       "      <td>0</td>\n",
       "      <td>NaN</td>\n",
       "      <td>NaN</td>\n",
       "      <td>NaN</td>\n",
       "      <td>NaN</td>\n",
       "      <td>NaN</td>\n",
       "      <td>NaN</td>\n",
       "      <td>NaN</td>\n",
       "      <td>NaN</td>\n",
       "      <td>2008</td>\n",
       "    </tr>\n",
       "    <tr>\n",
       "      <th>...</th>\n",
       "      <td>...</td>\n",
       "      <td>...</td>\n",
       "      <td>...</td>\n",
       "      <td>...</td>\n",
       "      <td>...</td>\n",
       "      <td>...</td>\n",
       "      <td>...</td>\n",
       "      <td>...</td>\n",
       "      <td>...</td>\n",
       "      <td>...</td>\n",
       "      <td>...</td>\n",
       "      <td>...</td>\n",
       "      <td>...</td>\n",
       "      <td>...</td>\n",
       "      <td>...</td>\n",
       "      <td>...</td>\n",
       "      <td>...</td>\n",
       "      <td>...</td>\n",
       "      <td>...</td>\n",
       "      <td>...</td>\n",
       "    </tr>\n",
       "    <tr>\n",
       "      <th>260754</th>\n",
       "      <td>2024-05-26</td>\n",
       "      <td>73</td>\n",
       "      <td>2</td>\n",
       "      <td>9</td>\n",
       "      <td>SS Iyer</td>\n",
       "      <td>AK Markram</td>\n",
       "      <td>Final</td>\n",
       "      <td>VR Iyer</td>\n",
       "      <td>1</td>\n",
       "      <td>0</td>\n",
       "      <td>1</td>\n",
       "      <td>NaN</td>\n",
       "      <td>NaN</td>\n",
       "      <td>NaN</td>\n",
       "      <td>NaN</td>\n",
       "      <td>NaN</td>\n",
       "      <td>NaN</td>\n",
       "      <td>NaN</td>\n",
       "      <td>NaN</td>\n",
       "      <td>2024</td>\n",
       "    </tr>\n",
       "    <tr>\n",
       "      <th>260755</th>\n",
       "      <td>2024-05-26</td>\n",
       "      <td>73</td>\n",
       "      <td>2</td>\n",
       "      <td>9</td>\n",
       "      <td>VR Iyer</td>\n",
       "      <td>AK Markram</td>\n",
       "      <td>Final</td>\n",
       "      <td>SS Iyer</td>\n",
       "      <td>1</td>\n",
       "      <td>0</td>\n",
       "      <td>1</td>\n",
       "      <td>NaN</td>\n",
       "      <td>NaN</td>\n",
       "      <td>NaN</td>\n",
       "      <td>NaN</td>\n",
       "      <td>NaN</td>\n",
       "      <td>NaN</td>\n",
       "      <td>NaN</td>\n",
       "      <td>NaN</td>\n",
       "      <td>2024</td>\n",
       "    </tr>\n",
       "    <tr>\n",
       "      <th>260756</th>\n",
       "      <td>2024-05-26</td>\n",
       "      <td>73</td>\n",
       "      <td>2</td>\n",
       "      <td>10</td>\n",
       "      <td>VR Iyer</td>\n",
       "      <td>Shahbaz Ahmed</td>\n",
       "      <td>Final</td>\n",
       "      <td>SS Iyer</td>\n",
       "      <td>1</td>\n",
       "      <td>0</td>\n",
       "      <td>1</td>\n",
       "      <td>NaN</td>\n",
       "      <td>NaN</td>\n",
       "      <td>NaN</td>\n",
       "      <td>NaN</td>\n",
       "      <td>NaN</td>\n",
       "      <td>NaN</td>\n",
       "      <td>NaN</td>\n",
       "      <td>NaN</td>\n",
       "      <td>2024</td>\n",
       "    </tr>\n",
       "    <tr>\n",
       "      <th>260757</th>\n",
       "      <td>2024-05-26</td>\n",
       "      <td>73</td>\n",
       "      <td>2</td>\n",
       "      <td>10</td>\n",
       "      <td>SS Iyer</td>\n",
       "      <td>Shahbaz Ahmed</td>\n",
       "      <td>Final</td>\n",
       "      <td>VR Iyer</td>\n",
       "      <td>1</td>\n",
       "      <td>0</td>\n",
       "      <td>1</td>\n",
       "      <td>NaN</td>\n",
       "      <td>NaN</td>\n",
       "      <td>NaN</td>\n",
       "      <td>NaN</td>\n",
       "      <td>NaN</td>\n",
       "      <td>NaN</td>\n",
       "      <td>NaN</td>\n",
       "      <td>NaN</td>\n",
       "      <td>2024</td>\n",
       "    </tr>\n",
       "    <tr>\n",
       "      <th>260758</th>\n",
       "      <td>2024-05-26</td>\n",
       "      <td>73</td>\n",
       "      <td>2</td>\n",
       "      <td>10</td>\n",
       "      <td>VR Iyer</td>\n",
       "      <td>Shahbaz Ahmed</td>\n",
       "      <td>Final</td>\n",
       "      <td>SS Iyer</td>\n",
       "      <td>1</td>\n",
       "      <td>0</td>\n",
       "      <td>1</td>\n",
       "      <td>NaN</td>\n",
       "      <td>NaN</td>\n",
       "      <td>NaN</td>\n",
       "      <td>NaN</td>\n",
       "      <td>NaN</td>\n",
       "      <td>NaN</td>\n",
       "      <td>NaN</td>\n",
       "      <td>NaN</td>\n",
       "      <td>2024</td>\n",
       "    </tr>\n",
       "  </tbody>\n",
       "</table>\n",
       "<p>260759 rows × 20 columns</p>\n",
       "</div>"
      ],
      "text/plain": [
       "              date  match_number  innings  over       batter         bowler  \\\n",
       "0       2008-04-18             1        1     0   SC Ganguly        P Kumar   \n",
       "1       2008-04-18             1        1     0  BB McCullum        P Kumar   \n",
       "2       2008-04-18             1        1     0  BB McCullum        P Kumar   \n",
       "3       2008-04-18             1        1     0  BB McCullum        P Kumar   \n",
       "4       2008-04-18             1        1     0  BB McCullum        P Kumar   \n",
       "...            ...           ...      ...   ...          ...            ...   \n",
       "260754  2024-05-26            73        2     9      SS Iyer     AK Markram   \n",
       "260755  2024-05-26            73        2     9      VR Iyer     AK Markram   \n",
       "260756  2024-05-26            73        2    10      VR Iyer  Shahbaz Ahmed   \n",
       "260757  2024-05-26            73        2    10      SS Iyer  Shahbaz Ahmed   \n",
       "260758  2024-05-26            73        2    10      VR Iyer  Shahbaz Ahmed   \n",
       "\n",
       "        stage  non_striker  runs.batter  runs.extras  runs.total  \\\n",
       "0       group  BB McCullum            0            1           1   \n",
       "1       group   SC Ganguly            0            0           0   \n",
       "2       group   SC Ganguly            0            1           1   \n",
       "3       group   SC Ganguly            0            0           0   \n",
       "4       group   SC Ganguly            0            0           0   \n",
       "...       ...          ...          ...          ...         ...   \n",
       "260754  Final      VR Iyer            1            0           1   \n",
       "260755  Final      SS Iyer            1            0           1   \n",
       "260756  Final      SS Iyer            1            0           1   \n",
       "260757  Final      VR Iyer            1            0           1   \n",
       "260758  Final      SS Iyer            1            0           1   \n",
       "\n",
       "        extras.legbyes  extras.wides  extras.byes  extras.noballs wicket.kind  \\\n",
       "0                  1.0           NaN          NaN             NaN         NaN   \n",
       "1                  NaN           NaN          NaN             NaN         NaN   \n",
       "2                  NaN           1.0          NaN             NaN         NaN   \n",
       "3                  NaN           NaN          NaN             NaN         NaN   \n",
       "4                  NaN           NaN          NaN             NaN         NaN   \n",
       "...                ...           ...          ...             ...         ...   \n",
       "260754             NaN           NaN          NaN             NaN         NaN   \n",
       "260755             NaN           NaN          NaN             NaN         NaN   \n",
       "260756             NaN           NaN          NaN             NaN         NaN   \n",
       "260757             NaN           NaN          NaN             NaN         NaN   \n",
       "260758             NaN           NaN          NaN             NaN         NaN   \n",
       "\n",
       "       wicket.player_out wicket.fielders wickets  season  \n",
       "0                    NaN             NaN     NaN    2008  \n",
       "1                    NaN             NaN     NaN    2008  \n",
       "2                    NaN             NaN     NaN    2008  \n",
       "3                    NaN             NaN     NaN    2008  \n",
       "4                    NaN             NaN     NaN    2008  \n",
       "...                  ...             ...     ...     ...  \n",
       "260754               NaN             NaN     NaN    2024  \n",
       "260755               NaN             NaN     NaN    2024  \n",
       "260756               NaN             NaN     NaN    2024  \n",
       "260757               NaN             NaN     NaN    2024  \n",
       "260758               NaN             NaN     NaN    2024  \n",
       "\n",
       "[260759 rows x 20 columns]"
      ]
     },
     "execution_count": 3,
     "metadata": {},
     "output_type": "execute_result"
    }
   ],
   "source": [
    "ball_by_ball"
   ]
  },
  {
   "cell_type": "code",
   "execution_count": 4,
   "metadata": {},
   "outputs": [
    {
     "data": {
      "text/html": [
       "<div>\n",
       "<style scoped>\n",
       "    .dataframe tbody tr th:only-of-type {\n",
       "        vertical-align: middle;\n",
       "    }\n",
       "\n",
       "    .dataframe tbody tr th {\n",
       "        vertical-align: top;\n",
       "    }\n",
       "\n",
       "    .dataframe thead th {\n",
       "        text-align: right;\n",
       "    }\n",
       "</style>\n",
       "<table border=\"1\" class=\"dataframe\">\n",
       "  <thead>\n",
       "    <tr style=\"text-align: right;\">\n",
       "      <th></th>\n",
       "      <th>date</th>\n",
       "      <th>match_number</th>\n",
       "      <th>city</th>\n",
       "      <th>team_1</th>\n",
       "      <th>team_2</th>\n",
       "      <th>team_1_runs.total</th>\n",
       "      <th>team_2_runs.total</th>\n",
       "      <th>match_winner</th>\n",
       "      <th>player_of_match</th>\n",
       "      <th>team_1_over</th>\n",
       "      <th>...</th>\n",
       "      <th>outcome_by_runs</th>\n",
       "      <th>event_stage</th>\n",
       "      <th>outcome_method</th>\n",
       "      <th>match_extras</th>\n",
       "      <th>match_legbyes</th>\n",
       "      <th>match_wides</th>\n",
       "      <th>match_byes</th>\n",
       "      <th>match_noballs</th>\n",
       "      <th>match_4's</th>\n",
       "      <th>match_6's</th>\n",
       "    </tr>\n",
       "  </thead>\n",
       "  <tbody>\n",
       "    <tr>\n",
       "      <th>0</th>\n",
       "      <td>2008-04-18</td>\n",
       "      <td>1</td>\n",
       "      <td>Bangalore</td>\n",
       "      <td>Kolkata Knight Riders</td>\n",
       "      <td>Royal Challengers Bangalore</td>\n",
       "      <td>222.0</td>\n",
       "      <td>82.0</td>\n",
       "      <td>Kolkata Knight Riders</td>\n",
       "      <td>BB McCullum</td>\n",
       "      <td>19.0</td>\n",
       "      <td>...</td>\n",
       "      <td>140.0</td>\n",
       "      <td>NaN</td>\n",
       "      <td>regular</td>\n",
       "      <td>36.0</td>\n",
       "      <td>12.0</td>\n",
       "      <td>20.0</td>\n",
       "      <td>4.0</td>\n",
       "      <td>0.0</td>\n",
       "      <td>18.0</td>\n",
       "      <td>17.0</td>\n",
       "    </tr>\n",
       "    <tr>\n",
       "      <th>1</th>\n",
       "      <td>2008-04-19</td>\n",
       "      <td>2</td>\n",
       "      <td>Chandigarh</td>\n",
       "      <td>Chennai Super Kings</td>\n",
       "      <td>Kings XI Punjab</td>\n",
       "      <td>240.0</td>\n",
       "      <td>207.0</td>\n",
       "      <td>Chennai Super Kings</td>\n",
       "      <td>MEK Hussey</td>\n",
       "      <td>19.0</td>\n",
       "      <td>...</td>\n",
       "      <td>33.0</td>\n",
       "      <td>NaN</td>\n",
       "      <td>regular</td>\n",
       "      <td>17.0</td>\n",
       "      <td>6.0</td>\n",
       "      <td>8.0</td>\n",
       "      <td>2.0</td>\n",
       "      <td>1.0</td>\n",
       "      <td>38.0</td>\n",
       "      <td>25.0</td>\n",
       "    </tr>\n",
       "    <tr>\n",
       "      <th>2</th>\n",
       "      <td>2008-04-19</td>\n",
       "      <td>3</td>\n",
       "      <td>Delhi</td>\n",
       "      <td>Rajasthan Royals</td>\n",
       "      <td>Delhi Daredevils</td>\n",
       "      <td>129.0</td>\n",
       "      <td>132.0</td>\n",
       "      <td>Delhi Daredevils</td>\n",
       "      <td>MF Maharoof</td>\n",
       "      <td>19.0</td>\n",
       "      <td>...</td>\n",
       "      <td>NaN</td>\n",
       "      <td>NaN</td>\n",
       "      <td>regular</td>\n",
       "      <td>17.0</td>\n",
       "      <td>3.0</td>\n",
       "      <td>13.0</td>\n",
       "      <td>1.0</td>\n",
       "      <td>0.0</td>\n",
       "      <td>32.0</td>\n",
       "      <td>4.0</td>\n",
       "    </tr>\n",
       "    <tr>\n",
       "      <th>3</th>\n",
       "      <td>2008-04-20</td>\n",
       "      <td>4</td>\n",
       "      <td>Kolkata</td>\n",
       "      <td>Deccan Chargers</td>\n",
       "      <td>Kolkata Knight Riders</td>\n",
       "      <td>110.0</td>\n",
       "      <td>112.0</td>\n",
       "      <td>Kolkata Knight Riders</td>\n",
       "      <td>DJ Hussey</td>\n",
       "      <td>18.0</td>\n",
       "      <td>...</td>\n",
       "      <td>NaN</td>\n",
       "      <td>NaN</td>\n",
       "      <td>regular</td>\n",
       "      <td>38.0</td>\n",
       "      <td>12.0</td>\n",
       "      <td>19.0</td>\n",
       "      <td>4.0</td>\n",
       "      <td>3.0</td>\n",
       "      <td>11.0</td>\n",
       "      <td>10.0</td>\n",
       "    </tr>\n",
       "    <tr>\n",
       "      <th>4</th>\n",
       "      <td>2008-04-20</td>\n",
       "      <td>5</td>\n",
       "      <td>Mumbai</td>\n",
       "      <td>Mumbai Indians</td>\n",
       "      <td>Royal Challengers Bangalore</td>\n",
       "      <td>165.0</td>\n",
       "      <td>166.0</td>\n",
       "      <td>Royal Challengers Bangalore</td>\n",
       "      <td>MV Boucher</td>\n",
       "      <td>19.0</td>\n",
       "      <td>...</td>\n",
       "      <td>NaN</td>\n",
       "      <td>NaN</td>\n",
       "      <td>regular</td>\n",
       "      <td>16.0</td>\n",
       "      <td>6.0</td>\n",
       "      <td>8.0</td>\n",
       "      <td>2.0</td>\n",
       "      <td>0.0</td>\n",
       "      <td>33.0</td>\n",
       "      <td>11.0</td>\n",
       "    </tr>\n",
       "    <tr>\n",
       "      <th>...</th>\n",
       "      <td>...</td>\n",
       "      <td>...</td>\n",
       "      <td>...</td>\n",
       "      <td>...</td>\n",
       "      <td>...</td>\n",
       "      <td>...</td>\n",
       "      <td>...</td>\n",
       "      <td>...</td>\n",
       "      <td>...</td>\n",
       "      <td>...</td>\n",
       "      <td>...</td>\n",
       "      <td>...</td>\n",
       "      <td>...</td>\n",
       "      <td>...</td>\n",
       "      <td>...</td>\n",
       "      <td>...</td>\n",
       "      <td>...</td>\n",
       "      <td>...</td>\n",
       "      <td>...</td>\n",
       "      <td>...</td>\n",
       "      <td>...</td>\n",
       "    </tr>\n",
       "    <tr>\n",
       "      <th>1122</th>\n",
       "      <td>2024-05-19</td>\n",
       "      <td>69</td>\n",
       "      <td>Hyderabad</td>\n",
       "      <td>Punjab Kings</td>\n",
       "      <td>Sunrisers Hyderabad</td>\n",
       "      <td>214.0</td>\n",
       "      <td>215.0</td>\n",
       "      <td>Sunrisers Hyderabad</td>\n",
       "      <td>Abhishek Sharma</td>\n",
       "      <td>19.0</td>\n",
       "      <td>...</td>\n",
       "      <td>NaN</td>\n",
       "      <td>NaN</td>\n",
       "      <td>regular</td>\n",
       "      <td>27.0</td>\n",
       "      <td>11.0</td>\n",
       "      <td>14.0</td>\n",
       "      <td>0.0</td>\n",
       "      <td>2.0</td>\n",
       "      <td>31.0</td>\n",
       "      <td>26.0</td>\n",
       "    </tr>\n",
       "    <tr>\n",
       "      <th>1123</th>\n",
       "      <td>2024-05-21</td>\n",
       "      <td>70</td>\n",
       "      <td>Ahmedabad</td>\n",
       "      <td>Sunrisers Hyderabad</td>\n",
       "      <td>Kolkata Knight Riders</td>\n",
       "      <td>159.0</td>\n",
       "      <td>164.0</td>\n",
       "      <td>Kolkata Knight Riders</td>\n",
       "      <td>MA Starc</td>\n",
       "      <td>19.0</td>\n",
       "      <td>...</td>\n",
       "      <td>NaN</td>\n",
       "      <td>Qualifier 1</td>\n",
       "      <td>regular</td>\n",
       "      <td>18.0</td>\n",
       "      <td>9.0</td>\n",
       "      <td>7.0</td>\n",
       "      <td>0.0</td>\n",
       "      <td>2.0</td>\n",
       "      <td>29.0</td>\n",
       "      <td>16.0</td>\n",
       "    </tr>\n",
       "    <tr>\n",
       "      <th>1124</th>\n",
       "      <td>2024-05-22</td>\n",
       "      <td>71</td>\n",
       "      <td>Ahmedabad</td>\n",
       "      <td>Royal Challengers Bengaluru</td>\n",
       "      <td>Rajasthan Royals</td>\n",
       "      <td>172.0</td>\n",
       "      <td>174.0</td>\n",
       "      <td>Rajasthan Royals</td>\n",
       "      <td>R Ashwin</td>\n",
       "      <td>19.0</td>\n",
       "      <td>...</td>\n",
       "      <td>NaN</td>\n",
       "      <td>Eliminator</td>\n",
       "      <td>regular</td>\n",
       "      <td>10.0</td>\n",
       "      <td>3.0</td>\n",
       "      <td>7.0</td>\n",
       "      <td>0.0</td>\n",
       "      <td>0.0</td>\n",
       "      <td>33.0</td>\n",
       "      <td>13.0</td>\n",
       "    </tr>\n",
       "    <tr>\n",
       "      <th>1125</th>\n",
       "      <td>2024-05-24</td>\n",
       "      <td>72</td>\n",
       "      <td>Chennai</td>\n",
       "      <td>Sunrisers Hyderabad</td>\n",
       "      <td>Rajasthan Royals</td>\n",
       "      <td>175.0</td>\n",
       "      <td>139.0</td>\n",
       "      <td>Sunrisers Hyderabad</td>\n",
       "      <td>Shahbaz Ahmed</td>\n",
       "      <td>19.0</td>\n",
       "      <td>...</td>\n",
       "      <td>36.0</td>\n",
       "      <td>Qualifier 2</td>\n",
       "      <td>regular</td>\n",
       "      <td>13.0</td>\n",
       "      <td>2.0</td>\n",
       "      <td>10.0</td>\n",
       "      <td>0.0</td>\n",
       "      <td>1.0</td>\n",
       "      <td>24.0</td>\n",
       "      <td>14.0</td>\n",
       "    </tr>\n",
       "    <tr>\n",
       "      <th>1126</th>\n",
       "      <td>2024-05-26</td>\n",
       "      <td>73</td>\n",
       "      <td>Chennai</td>\n",
       "      <td>Sunrisers Hyderabad</td>\n",
       "      <td>Kolkata Knight Riders</td>\n",
       "      <td>113.0</td>\n",
       "      <td>114.0</td>\n",
       "      <td>Kolkata Knight Riders</td>\n",
       "      <td>MA Starc</td>\n",
       "      <td>18.0</td>\n",
       "      <td>...</td>\n",
       "      <td>NaN</td>\n",
       "      <td>Final</td>\n",
       "      <td>regular</td>\n",
       "      <td>24.0</td>\n",
       "      <td>4.0</td>\n",
       "      <td>11.0</td>\n",
       "      <td>9.0</td>\n",
       "      <td>0.0</td>\n",
       "      <td>18.0</td>\n",
       "      <td>9.0</td>\n",
       "    </tr>\n",
       "  </tbody>\n",
       "</table>\n",
       "<p>1127 rows × 41 columns</p>\n",
       "</div>"
      ],
      "text/plain": [
       "            date  match_number        city                       team_1  \\\n",
       "0     2008-04-18             1   Bangalore        Kolkata Knight Riders   \n",
       "1     2008-04-19             2  Chandigarh          Chennai Super Kings   \n",
       "2     2008-04-19             3       Delhi             Rajasthan Royals   \n",
       "3     2008-04-20             4     Kolkata              Deccan Chargers   \n",
       "4     2008-04-20             5      Mumbai               Mumbai Indians   \n",
       "...          ...           ...         ...                          ...   \n",
       "1122  2024-05-19            69   Hyderabad                 Punjab Kings   \n",
       "1123  2024-05-21            70   Ahmedabad          Sunrisers Hyderabad   \n",
       "1124  2024-05-22            71   Ahmedabad  Royal Challengers Bengaluru   \n",
       "1125  2024-05-24            72     Chennai          Sunrisers Hyderabad   \n",
       "1126  2024-05-26            73     Chennai          Sunrisers Hyderabad   \n",
       "\n",
       "                           team_2  team_1_runs.total  team_2_runs.total  \\\n",
       "0     Royal Challengers Bangalore              222.0               82.0   \n",
       "1                 Kings XI Punjab              240.0              207.0   \n",
       "2                Delhi Daredevils              129.0              132.0   \n",
       "3           Kolkata Knight Riders              110.0              112.0   \n",
       "4     Royal Challengers Bangalore              165.0              166.0   \n",
       "...                           ...                ...                ...   \n",
       "1122          Sunrisers Hyderabad              214.0              215.0   \n",
       "1123        Kolkata Knight Riders              159.0              164.0   \n",
       "1124             Rajasthan Royals              172.0              174.0   \n",
       "1125             Rajasthan Royals              175.0              139.0   \n",
       "1126        Kolkata Knight Riders              113.0              114.0   \n",
       "\n",
       "                     match_winner  player_of_match  team_1_over  ...  \\\n",
       "0           Kolkata Knight Riders      BB McCullum         19.0  ...   \n",
       "1             Chennai Super Kings       MEK Hussey         19.0  ...   \n",
       "2                Delhi Daredevils      MF Maharoof         19.0  ...   \n",
       "3           Kolkata Knight Riders        DJ Hussey         18.0  ...   \n",
       "4     Royal Challengers Bangalore       MV Boucher         19.0  ...   \n",
       "...                           ...              ...          ...  ...   \n",
       "1122          Sunrisers Hyderabad  Abhishek Sharma         19.0  ...   \n",
       "1123        Kolkata Knight Riders         MA Starc         19.0  ...   \n",
       "1124             Rajasthan Royals         R Ashwin         19.0  ...   \n",
       "1125          Sunrisers Hyderabad    Shahbaz Ahmed         19.0  ...   \n",
       "1126        Kolkata Knight Riders         MA Starc         18.0  ...   \n",
       "\n",
       "      outcome_by_runs  event_stage outcome_method  match_extras  \\\n",
       "0               140.0          NaN        regular          36.0   \n",
       "1                33.0          NaN        regular          17.0   \n",
       "2                 NaN          NaN        regular          17.0   \n",
       "3                 NaN          NaN        regular          38.0   \n",
       "4                 NaN          NaN        regular          16.0   \n",
       "...               ...          ...            ...           ...   \n",
       "1122              NaN          NaN        regular          27.0   \n",
       "1123              NaN  Qualifier 1        regular          18.0   \n",
       "1124              NaN   Eliminator        regular          10.0   \n",
       "1125             36.0  Qualifier 2        regular          13.0   \n",
       "1126              NaN        Final        regular          24.0   \n",
       "\n",
       "      match_legbyes  match_wides  match_byes  match_noballs  match_4's  \\\n",
       "0              12.0         20.0         4.0            0.0       18.0   \n",
       "1               6.0          8.0         2.0            1.0       38.0   \n",
       "2               3.0         13.0         1.0            0.0       32.0   \n",
       "3              12.0         19.0         4.0            3.0       11.0   \n",
       "4               6.0          8.0         2.0            0.0       33.0   \n",
       "...             ...          ...         ...            ...        ...   \n",
       "1122           11.0         14.0         0.0            2.0       31.0   \n",
       "1123            9.0          7.0         0.0            2.0       29.0   \n",
       "1124            3.0          7.0         0.0            0.0       33.0   \n",
       "1125            2.0         10.0         0.0            1.0       24.0   \n",
       "1126            4.0         11.0         9.0            0.0       18.0   \n",
       "\n",
       "      match_6's  \n",
       "0          17.0  \n",
       "1          25.0  \n",
       "2           4.0  \n",
       "3          10.0  \n",
       "4          11.0  \n",
       "...         ...  \n",
       "1122       26.0  \n",
       "1123       16.0  \n",
       "1124       13.0  \n",
       "1125       14.0  \n",
       "1126        9.0  \n",
       "\n",
       "[1127 rows x 41 columns]"
      ]
     },
     "execution_count": 4,
     "metadata": {},
     "output_type": "execute_result"
    }
   ],
   "source": [
    "ipl_match_stats"
   ]
  },
  {
   "cell_type": "code",
   "execution_count": 5,
   "metadata": {},
   "outputs": [],
   "source": [
    "master_df = pd.merge(left=ball_by_ball,right=ipl_match_stats,on=['date','match_number'])"
   ]
  },
  {
   "cell_type": "code",
   "execution_count": 6,
   "metadata": {},
   "outputs": [],
   "source": [
    "master_df.drop(columns='season_y',inplace=True)"
   ]
  },
  {
   "cell_type": "code",
   "execution_count": 7,
   "metadata": {},
   "outputs": [],
   "source": [
    "master_df.rename(columns={'season_x':'season'},inplace=True)"
   ]
  },
  {
   "cell_type": "code",
   "execution_count": 8,
   "metadata": {},
   "outputs": [
    {
     "data": {
      "text/plain": [
       "Index(['date', 'match_number', 'innings', 'over', 'batter', 'bowler', 'stage',\n",
       "       'non_striker', 'runs.batter', 'runs.extras', 'runs.total',\n",
       "       'extras.legbyes', 'extras.wides', 'extras.byes', 'extras.noballs',\n",
       "       'wicket.kind', 'wicket.player_out', 'wicket.fielders', 'wickets',\n",
       "       'season', 'city', 'team_1', 'team_2', 'team_1_runs.total',\n",
       "       'team_2_runs.total', 'match_winner', 'player_of_match', 'team_1_over',\n",
       "       'team_2_over', 'toss_winner', 'toss_decision', 'team_1_runs.extras',\n",
       "       'team_2_runs.extras', 'team_1_extras.legbyes', 'team_2_extras.legbyes',\n",
       "       'team_1_extras.wides', 'team_2_extras.wides', 'team_1_extras.byes',\n",
       "       'team_2_extras.byes', 'team_1_extras.noballs', 'team_2_extras.noballs',\n",
       "       'officials_match_referees', 'officials_reserve_umpires',\n",
       "       'officials_tv_umpires', 'officials_umpires_1', 'officials_umpires_2',\n",
       "       'outcome_by_wickets', 'venue', 'outcome_by_runs', 'event_stage',\n",
       "       'outcome_method', 'match_extras', 'match_legbyes', 'match_wides',\n",
       "       'match_byes', 'match_noballs', 'match_4's', 'match_6's'],\n",
       "      dtype='object')"
      ]
     },
     "execution_count": 8,
     "metadata": {},
     "output_type": "execute_result"
    }
   ],
   "source": [
    "master_df.columns"
   ]
  },
  {
   "cell_type": "code",
   "execution_count": 9,
   "metadata": {},
   "outputs": [],
   "source": [
    "master_df.drop(columns='wickets',inplace=True)"
   ]
  },
  {
   "cell_type": "code",
   "execution_count": 10,
   "metadata": {},
   "outputs": [],
   "source": [
    "ball_by_ball.drop(columns='wickets',inplace=True)\n"
   ]
  },
  {
   "cell_type": "code",
   "execution_count": 11,
   "metadata": {},
   "outputs": [
    {
     "name": "stderr",
     "output_type": "stream",
     "text": [
      "/tmp/ipykernel_314418/1695573749.py:1: FutureWarning: The provided callable <function sum at 0x71b6003855a0> is currently using SeriesGroupBy.sum. In a future version of pandas, the provided callable will be used directly. To keep current behavior pass the string \"sum\" instead.\n",
      "  ball_by_ball.groupby(['date','match_number','innings','batter']).agg({'runs.batter':np.sum,'runs.extras':np.sum,'bowler':'count'})\n",
      "/tmp/ipykernel_314418/1695573749.py:1: FutureWarning: The provided callable <function sum at 0x71b6003855a0> is currently using SeriesGroupBy.sum. In a future version of pandas, the provided callable will be used directly. To keep current behavior pass the string \"sum\" instead.\n",
      "  ball_by_ball.groupby(['date','match_number','innings','batter']).agg({'runs.batter':np.sum,'runs.extras':np.sum,'bowler':'count'})\n"
     ]
    },
    {
     "data": {
      "text/html": [
       "<div>\n",
       "<style scoped>\n",
       "    .dataframe tbody tr th:only-of-type {\n",
       "        vertical-align: middle;\n",
       "    }\n",
       "\n",
       "    .dataframe tbody tr th {\n",
       "        vertical-align: top;\n",
       "    }\n",
       "\n",
       "    .dataframe thead th {\n",
       "        text-align: right;\n",
       "    }\n",
       "</style>\n",
       "<table border=\"1\" class=\"dataframe\">\n",
       "  <thead>\n",
       "    <tr style=\"text-align: right;\">\n",
       "      <th></th>\n",
       "      <th></th>\n",
       "      <th></th>\n",
       "      <th></th>\n",
       "      <th>runs.batter</th>\n",
       "      <th>runs.extras</th>\n",
       "      <th>bowler</th>\n",
       "    </tr>\n",
       "    <tr>\n",
       "      <th>date</th>\n",
       "      <th>match_number</th>\n",
       "      <th>innings</th>\n",
       "      <th>batter</th>\n",
       "      <th></th>\n",
       "      <th></th>\n",
       "      <th></th>\n",
       "    </tr>\n",
       "  </thead>\n",
       "  <tbody>\n",
       "    <tr>\n",
       "      <th rowspan=\"5\" valign=\"top\">2008-04-18</th>\n",
       "      <th rowspan=\"5\" valign=\"top\">1</th>\n",
       "      <th rowspan=\"5\" valign=\"top\">1</th>\n",
       "      <th>BB McCullum</th>\n",
       "      <td>158</td>\n",
       "      <td>11</td>\n",
       "      <td>77</td>\n",
       "    </tr>\n",
       "    <tr>\n",
       "      <th>DJ Hussey</th>\n",
       "      <td>12</td>\n",
       "      <td>0</td>\n",
       "      <td>12</td>\n",
       "    </tr>\n",
       "    <tr>\n",
       "      <th>Mohammad Hafeez</th>\n",
       "      <td>5</td>\n",
       "      <td>0</td>\n",
       "      <td>3</td>\n",
       "    </tr>\n",
       "    <tr>\n",
       "      <th>RT Ponting</th>\n",
       "      <td>20</td>\n",
       "      <td>4</td>\n",
       "      <td>20</td>\n",
       "    </tr>\n",
       "    <tr>\n",
       "      <th>SC Ganguly</th>\n",
       "      <td>10</td>\n",
       "      <td>2</td>\n",
       "      <td>12</td>\n",
       "    </tr>\n",
       "    <tr>\n",
       "      <th>...</th>\n",
       "      <th>...</th>\n",
       "      <th>...</th>\n",
       "      <th>...</th>\n",
       "      <td>...</td>\n",
       "      <td>...</td>\n",
       "      <td>...</td>\n",
       "    </tr>\n",
       "    <tr>\n",
       "      <th rowspan=\"5\" valign=\"top\">2024-05-26</th>\n",
       "      <th rowspan=\"5\" valign=\"top\">73</th>\n",
       "      <th>1</th>\n",
       "      <th>TM Head</th>\n",
       "      <td>0</td>\n",
       "      <td>0</td>\n",
       "      <td>1</td>\n",
       "    </tr>\n",
       "    <tr>\n",
       "      <th rowspan=\"4\" valign=\"top\">2</th>\n",
       "      <th>Rahmanullah Gurbaz</th>\n",
       "      <td>39</td>\n",
       "      <td>7</td>\n",
       "      <td>35</td>\n",
       "    </tr>\n",
       "    <tr>\n",
       "      <th>SP Narine</th>\n",
       "      <td>6</td>\n",
       "      <td>0</td>\n",
       "      <td>2</td>\n",
       "    </tr>\n",
       "    <tr>\n",
       "      <th>SS Iyer</th>\n",
       "      <td>6</td>\n",
       "      <td>0</td>\n",
       "      <td>3</td>\n",
       "    </tr>\n",
       "    <tr>\n",
       "      <th>VR Iyer</th>\n",
       "      <td>52</td>\n",
       "      <td>4</td>\n",
       "      <td>27</td>\n",
       "    </tr>\n",
       "  </tbody>\n",
       "</table>\n",
       "<p>16515 rows × 3 columns</p>\n",
       "</div>"
      ],
      "text/plain": [
       "                                                    runs.batter  runs.extras  \\\n",
       "date       match_number innings batter                                         \n",
       "2008-04-18 1            1       BB McCullum                 158           11   \n",
       "                                DJ Hussey                    12            0   \n",
       "                                Mohammad Hafeez               5            0   \n",
       "                                RT Ponting                   20            4   \n",
       "                                SC Ganguly                   10            2   \n",
       "...                                                         ...          ...   \n",
       "2024-05-26 73           1       TM Head                       0            0   \n",
       "                        2       Rahmanullah Gurbaz           39            7   \n",
       "                                SP Narine                     6            0   \n",
       "                                SS Iyer                       6            0   \n",
       "                                VR Iyer                      52            4   \n",
       "\n",
       "                                                    bowler  \n",
       "date       match_number innings batter                      \n",
       "2008-04-18 1            1       BB McCullum             77  \n",
       "                                DJ Hussey               12  \n",
       "                                Mohammad Hafeez          3  \n",
       "                                RT Ponting              20  \n",
       "                                SC Ganguly              12  \n",
       "...                                                    ...  \n",
       "2024-05-26 73           1       TM Head                  1  \n",
       "                        2       Rahmanullah Gurbaz      35  \n",
       "                                SP Narine                2  \n",
       "                                SS Iyer                  3  \n",
       "                                VR Iyer                 27  \n",
       "\n",
       "[16515 rows x 3 columns]"
      ]
     },
     "execution_count": 11,
     "metadata": {},
     "output_type": "execute_result"
    }
   ],
   "source": [
    "ball_by_ball.groupby(['date','match_number','innings','batter']).agg({'runs.batter':np.sum,'runs.extras':np.sum,'bowler':'count'})\n"
   ]
  },
  {
   "cell_type": "code",
   "execution_count": 12,
   "metadata": {},
   "outputs": [
    {
     "data": {
      "text/html": [
       "<div>\n",
       "<style scoped>\n",
       "    .dataframe tbody tr th:only-of-type {\n",
       "        vertical-align: middle;\n",
       "    }\n",
       "\n",
       "    .dataframe tbody tr th {\n",
       "        vertical-align: top;\n",
       "    }\n",
       "\n",
       "    .dataframe thead th {\n",
       "        text-align: right;\n",
       "    }\n",
       "</style>\n",
       "<table border=\"1\" class=\"dataframe\">\n",
       "  <thead>\n",
       "    <tr style=\"text-align: right;\">\n",
       "      <th></th>\n",
       "      <th></th>\n",
       "      <th></th>\n",
       "      <th></th>\n",
       "      <th></th>\n",
       "      <th>runs.total</th>\n",
       "      <th>wicket.kind</th>\n",
       "      <th>batter</th>\n",
       "    </tr>\n",
       "    <tr>\n",
       "      <th>date</th>\n",
       "      <th>match_number</th>\n",
       "      <th>innings</th>\n",
       "      <th>bowler</th>\n",
       "      <th>runs.batter</th>\n",
       "      <th></th>\n",
       "      <th></th>\n",
       "      <th></th>\n",
       "    </tr>\n",
       "  </thead>\n",
       "  <tbody>\n",
       "    <tr>\n",
       "      <th rowspan=\"5\" valign=\"top\">2008-04-18</th>\n",
       "      <th rowspan=\"5\" valign=\"top\">1</th>\n",
       "      <th rowspan=\"5\" valign=\"top\">1</th>\n",
       "      <th rowspan=\"5\" valign=\"top\">AA Noffke</th>\n",
       "      <th>0</th>\n",
       "      <td>6</td>\n",
       "      <td>1</td>\n",
       "      <td>8</td>\n",
       "    </tr>\n",
       "    <tr>\n",
       "      <th>1</th>\n",
       "      <td>11</td>\n",
       "      <td>0</td>\n",
       "      <td>11</td>\n",
       "    </tr>\n",
       "    <tr>\n",
       "      <th>2</th>\n",
       "      <td>4</td>\n",
       "      <td>0</td>\n",
       "      <td>2</td>\n",
       "    </tr>\n",
       "    <tr>\n",
       "      <th>4</th>\n",
       "      <td>8</td>\n",
       "      <td>0</td>\n",
       "      <td>2</td>\n",
       "    </tr>\n",
       "    <tr>\n",
       "      <th>6</th>\n",
       "      <td>12</td>\n",
       "      <td>0</td>\n",
       "      <td>2</td>\n",
       "    </tr>\n",
       "    <tr>\n",
       "      <th>...</th>\n",
       "      <th>...</th>\n",
       "      <th>...</th>\n",
       "      <th>...</th>\n",
       "      <th>...</th>\n",
       "      <td>...</td>\n",
       "      <td>...</td>\n",
       "      <td>...</td>\n",
       "    </tr>\n",
       "    <tr>\n",
       "      <th rowspan=\"5\" valign=\"top\">2024-05-26</th>\n",
       "      <th rowspan=\"5\" valign=\"top\">73</th>\n",
       "      <th rowspan=\"5\" valign=\"top\">2</th>\n",
       "      <th>Shahbaz Ahmed</th>\n",
       "      <th>6</th>\n",
       "      <td>12</td>\n",
       "      <td>0</td>\n",
       "      <td>2</td>\n",
       "    </tr>\n",
       "    <tr>\n",
       "      <th rowspan=\"4\" valign=\"top\">T Natarajan</th>\n",
       "      <th>0</th>\n",
       "      <td>2</td>\n",
       "      <td>0</td>\n",
       "      <td>4</td>\n",
       "    </tr>\n",
       "    <tr>\n",
       "      <th>1</th>\n",
       "      <td>5</td>\n",
       "      <td>0</td>\n",
       "      <td>5</td>\n",
       "    </tr>\n",
       "    <tr>\n",
       "      <th>4</th>\n",
       "      <td>16</td>\n",
       "      <td>0</td>\n",
       "      <td>4</td>\n",
       "    </tr>\n",
       "    <tr>\n",
       "      <th>6</th>\n",
       "      <td>6</td>\n",
       "      <td>0</td>\n",
       "      <td>1</td>\n",
       "    </tr>\n",
       "  </tbody>\n",
       "</table>\n",
       "<p>54044 rows × 3 columns</p>\n",
       "</div>"
      ],
      "text/plain": [
       "                                                           runs.total  \\\n",
       "date       match_number innings bowler        runs.batter               \n",
       "2008-04-18 1            1       AA Noffke     0                     6   \n",
       "                                              1                    11   \n",
       "                                              2                     4   \n",
       "                                              4                     8   \n",
       "                                              6                    12   \n",
       "...                                                               ...   \n",
       "2024-05-26 73           2       Shahbaz Ahmed 6                    12   \n",
       "                                T Natarajan   0                     2   \n",
       "                                              1                     5   \n",
       "                                              4                    16   \n",
       "                                              6                     6   \n",
       "\n",
       "                                                           wicket.kind  batter  \n",
       "date       match_number innings bowler        runs.batter                       \n",
       "2008-04-18 1            1       AA Noffke     0                      1       8  \n",
       "                                              1                      0      11  \n",
       "                                              2                      0       2  \n",
       "                                              4                      0       2  \n",
       "                                              6                      0       2  \n",
       "...                                                                ...     ...  \n",
       "2024-05-26 73           2       Shahbaz Ahmed 6                      0       2  \n",
       "                                T Natarajan   0                      0       4  \n",
       "                                              1                      0       5  \n",
       "                                              4                      0       4  \n",
       "                                              6                      0       1  \n",
       "\n",
       "[54044 rows x 3 columns]"
      ]
     },
     "execution_count": 12,
     "metadata": {},
     "output_type": "execute_result"
    }
   ],
   "source": [
    "ball_by_ball.groupby(['date','match_number','innings','bowler','runs.batter']).agg({'runs.total':'sum','wicket.kind':'count','batter':'count'})\n"
   ]
  },
  {
   "cell_type": "code",
   "execution_count": 13,
   "metadata": {},
   "outputs": [],
   "source": [
    "batter_total = ball_by_ball.groupby(['batter','season',]).agg({'runs.total':['sum',np.average],'bowler':'max'})\n"
   ]
  },
  {
   "cell_type": "code",
   "execution_count": 14,
   "metadata": {},
   "outputs": [
    {
     "data": {
      "text/html": [
       "<div>\n",
       "<style scoped>\n",
       "    .dataframe tbody tr th:only-of-type {\n",
       "        vertical-align: middle;\n",
       "    }\n",
       "\n",
       "    .dataframe tbody tr th {\n",
       "        vertical-align: top;\n",
       "    }\n",
       "\n",
       "    .dataframe thead tr th {\n",
       "        text-align: left;\n",
       "    }\n",
       "\n",
       "    .dataframe thead tr:last-of-type th {\n",
       "        text-align: right;\n",
       "    }\n",
       "</style>\n",
       "<table border=\"1\" class=\"dataframe\">\n",
       "  <thead>\n",
       "    <tr>\n",
       "      <th></th>\n",
       "      <th></th>\n",
       "      <th colspan=\"2\" halign=\"left\">runs.total</th>\n",
       "      <th>bowler</th>\n",
       "    </tr>\n",
       "    <tr>\n",
       "      <th></th>\n",
       "      <th></th>\n",
       "      <th>sum</th>\n",
       "      <th>average</th>\n",
       "      <th>max</th>\n",
       "    </tr>\n",
       "    <tr>\n",
       "      <th>batter</th>\n",
       "      <th>season</th>\n",
       "      <th></th>\n",
       "      <th></th>\n",
       "      <th></th>\n",
       "    </tr>\n",
       "  </thead>\n",
       "  <tbody>\n",
       "    <tr>\n",
       "      <th rowspan=\"4\" valign=\"top\">A Ashish Reddy</th>\n",
       "      <th>2012</th>\n",
       "      <td>40</td>\n",
       "      <td>1.333333</td>\n",
       "      <td>SW Tait</td>\n",
       "    </tr>\n",
       "    <tr>\n",
       "      <th>2013</th>\n",
       "      <td>126</td>\n",
       "      <td>1.400000</td>\n",
       "      <td>UT Yadav</td>\n",
       "    </tr>\n",
       "    <tr>\n",
       "      <th>2015</th>\n",
       "      <td>74</td>\n",
       "      <td>1.608696</td>\n",
       "      <td>TG Southee</td>\n",
       "    </tr>\n",
       "    <tr>\n",
       "      <th>2016</th>\n",
       "      <td>48</td>\n",
       "      <td>1.600000</td>\n",
       "      <td>YS Chahal</td>\n",
       "    </tr>\n",
       "    <tr>\n",
       "      <th>A Badoni</th>\n",
       "      <th>2022</th>\n",
       "      <td>173</td>\n",
       "      <td>1.244604</td>\n",
       "      <td>YS Chahal</td>\n",
       "    </tr>\n",
       "    <tr>\n",
       "      <th>...</th>\n",
       "      <th>...</th>\n",
       "      <td>...</td>\n",
       "      <td>...</td>\n",
       "      <td>...</td>\n",
       "    </tr>\n",
       "    <tr>\n",
       "      <th rowspan=\"5\" valign=\"top\">Z Khan</th>\n",
       "      <th>2011</th>\n",
       "      <td>21</td>\n",
       "      <td>0.875000</td>\n",
       "      <td>SB Jakati</td>\n",
       "    </tr>\n",
       "    <tr>\n",
       "      <th>2012</th>\n",
       "      <td>12</td>\n",
       "      <td>0.705882</td>\n",
       "      <td>Shakib Al Hasan</td>\n",
       "    </tr>\n",
       "    <tr>\n",
       "      <th>2014</th>\n",
       "      <td>10</td>\n",
       "      <td>1.428571</td>\n",
       "      <td>IK Pathan</td>\n",
       "    </tr>\n",
       "    <tr>\n",
       "      <th>2016</th>\n",
       "      <td>6</td>\n",
       "      <td>0.461538</td>\n",
       "      <td>PP Chawla</td>\n",
       "    </tr>\n",
       "    <tr>\n",
       "      <th>2017</th>\n",
       "      <td>4</td>\n",
       "      <td>0.307692</td>\n",
       "      <td>P Negi</td>\n",
       "    </tr>\n",
       "  </tbody>\n",
       "</table>\n",
       "<p>2617 rows × 3 columns</p>\n",
       "</div>"
      ],
      "text/plain": [
       "                      runs.total                     bowler\n",
       "                             sum   average              max\n",
       "batter         season                                      \n",
       "A Ashish Reddy 2012           40  1.333333          SW Tait\n",
       "               2013          126  1.400000         UT Yadav\n",
       "               2015           74  1.608696       TG Southee\n",
       "               2016           48  1.600000        YS Chahal\n",
       "A Badoni       2022          173  1.244604        YS Chahal\n",
       "...                          ...       ...              ...\n",
       "Z Khan         2011           21  0.875000        SB Jakati\n",
       "               2012           12  0.705882  Shakib Al Hasan\n",
       "               2014           10  1.428571        IK Pathan\n",
       "               2016            6  0.461538        PP Chawla\n",
       "               2017            4  0.307692           P Negi\n",
       "\n",
       "[2617 rows x 3 columns]"
      ]
     },
     "execution_count": 14,
     "metadata": {},
     "output_type": "execute_result"
    }
   ],
   "source": [
    "batter_total\n"
   ]
  },
  {
   "cell_type": "code",
   "execution_count": 15,
   "metadata": {},
   "outputs": [
    {
     "data": {
      "text/plain": [
       "MultiIndex([('runs.total',     'sum'),\n",
       "            ('runs.total', 'average'),\n",
       "            (    'bowler',     'max')],\n",
       "           )"
      ]
     },
     "execution_count": 15,
     "metadata": {},
     "output_type": "execute_result"
    }
   ],
   "source": [
    "batter_total.columns\n"
   ]
  },
  {
   "cell_type": "code",
   "execution_count": 16,
   "metadata": {},
   "outputs": [],
   "source": [
    "batter_scores_count = ball_by_ball.groupby(['batter','season','runs.batter']).agg({'runs.total':['sum','count']})\n"
   ]
  },
  {
   "cell_type": "code",
   "execution_count": 17,
   "metadata": {},
   "outputs": [
    {
     "data": {
      "text/html": [
       "<div>\n",
       "<style scoped>\n",
       "    .dataframe tbody tr th:only-of-type {\n",
       "        vertical-align: middle;\n",
       "    }\n",
       "\n",
       "    .dataframe tbody tr th {\n",
       "        vertical-align: top;\n",
       "    }\n",
       "\n",
       "    .dataframe thead tr th {\n",
       "        text-align: left;\n",
       "    }\n",
       "\n",
       "    .dataframe thead tr:last-of-type th {\n",
       "        text-align: right;\n",
       "    }\n",
       "</style>\n",
       "<table border=\"1\" class=\"dataframe\">\n",
       "  <thead>\n",
       "    <tr>\n",
       "      <th></th>\n",
       "      <th></th>\n",
       "      <th></th>\n",
       "      <th colspan=\"2\" halign=\"left\">runs.total</th>\n",
       "    </tr>\n",
       "    <tr>\n",
       "      <th></th>\n",
       "      <th></th>\n",
       "      <th></th>\n",
       "      <th>sum</th>\n",
       "      <th>count</th>\n",
       "    </tr>\n",
       "    <tr>\n",
       "      <th>batter</th>\n",
       "      <th>season</th>\n",
       "      <th>runs.batter</th>\n",
       "      <th></th>\n",
       "      <th></th>\n",
       "    </tr>\n",
       "  </thead>\n",
       "  <tbody>\n",
       "    <tr>\n",
       "      <th rowspan=\"5\" valign=\"top\">A Ashish Reddy</th>\n",
       "      <th rowspan=\"5\" valign=\"top\">2012</th>\n",
       "      <th>0</th>\n",
       "      <td>5</td>\n",
       "      <td>13</td>\n",
       "    </tr>\n",
       "    <tr>\n",
       "      <th>1</th>\n",
       "      <td>9</td>\n",
       "      <td>9</td>\n",
       "    </tr>\n",
       "    <tr>\n",
       "      <th>2</th>\n",
       "      <td>8</td>\n",
       "      <td>4</td>\n",
       "    </tr>\n",
       "    <tr>\n",
       "      <th>4</th>\n",
       "      <td>12</td>\n",
       "      <td>3</td>\n",
       "    </tr>\n",
       "    <tr>\n",
       "      <th>6</th>\n",
       "      <td>6</td>\n",
       "      <td>1</td>\n",
       "    </tr>\n",
       "    <tr>\n",
       "      <th>...</th>\n",
       "      <th>...</th>\n",
       "      <th>...</th>\n",
       "      <td>...</td>\n",
       "      <td>...</td>\n",
       "    </tr>\n",
       "    <tr>\n",
       "      <th rowspan=\"5\" valign=\"top\">Z Khan</th>\n",
       "      <th rowspan=\"3\" valign=\"top\">2016</th>\n",
       "      <th>0</th>\n",
       "      <td>0</td>\n",
       "      <td>10</td>\n",
       "    </tr>\n",
       "    <tr>\n",
       "      <th>1</th>\n",
       "      <td>2</td>\n",
       "      <td>2</td>\n",
       "    </tr>\n",
       "    <tr>\n",
       "      <th>4</th>\n",
       "      <td>4</td>\n",
       "      <td>1</td>\n",
       "    </tr>\n",
       "    <tr>\n",
       "      <th rowspan=\"2\" valign=\"top\">2017</th>\n",
       "      <th>0</th>\n",
       "      <td>0</td>\n",
       "      <td>9</td>\n",
       "    </tr>\n",
       "    <tr>\n",
       "      <th>1</th>\n",
       "      <td>4</td>\n",
       "      <td>4</td>\n",
       "    </tr>\n",
       "  </tbody>\n",
       "</table>\n",
       "<p>11075 rows × 2 columns</p>\n",
       "</div>"
      ],
      "text/plain": [
       "                                  runs.total      \n",
       "                                         sum count\n",
       "batter         season runs.batter                 \n",
       "A Ashish Reddy 2012   0                    5    13\n",
       "                      1                    9     9\n",
       "                      2                    8     4\n",
       "                      4                   12     3\n",
       "                      6                    6     1\n",
       "...                                      ...   ...\n",
       "Z Khan         2016   0                    0    10\n",
       "                      1                    2     2\n",
       "                      4                    4     1\n",
       "               2017   0                    0     9\n",
       "                      1                    4     4\n",
       "\n",
       "[11075 rows x 2 columns]"
      ]
     },
     "execution_count": 17,
     "metadata": {},
     "output_type": "execute_result"
    }
   ],
   "source": [
    "batter_scores_count"
   ]
  },
  {
   "cell_type": "code",
   "execution_count": 18,
   "metadata": {},
   "outputs": [
    {
     "name": "stdout",
     "output_type": "stream",
     "text": [
      "<class 'pandas.core.frame.DataFrame'>\n",
      "RangeIndex: 97 entries, 0 to 96\n",
      "Data columns (total 4 columns):\n",
      " #   Column                Non-Null Count  Dtype\n",
      "---  ------                --------------  -----\n",
      " 0   season                97 non-null     int64\n",
      " 1   runs.batter_          97 non-null     int64\n",
      " 2   total_runs_per_score  97 non-null     int64\n",
      " 3   no_of_balls           97 non-null     int64\n",
      "dtypes: int64(4)\n",
      "memory usage: 3.2 KB\n",
      "None\n",
      "<class 'pandas.core.frame.DataFrame'>\n",
      "RangeIndex: 17 entries, 0 to 16\n",
      "Data columns (total 4 columns):\n",
      " #   Column              Non-Null Count  Dtype  \n",
      "---  ------              --------------  -----  \n",
      " 0   season              17 non-null     int64  \n",
      " 1   runs.total_sum      17 non-null     int64  \n",
      " 2   runs.total_average  17 non-null     float64\n",
      " 3   bowler_max          17 non-null     object \n",
      "dtypes: float64(1), int64(2), object(1)\n",
      "memory usage: 672.0+ bytes\n",
      "None\n"
     ]
    }
   ],
   "source": [
    "vk1 =batter_scores_count.loc['V Kohli'].reset_index()\n",
    "vk2 = batter_total.loc['V Kohli'].reset_index()\n",
    "vk1.columns = ['_'.join(col) for col in vk1.columns]\n",
    "vk2.columns = ['_'.join(col) for col in vk2.columns]\n",
    "vk1['season_'] =  vk1.season_.astype(int)\n",
    "vk2['season_'] =  vk2.season_.astype(int)\n",
    "vk1.rename(columns={'runs.total_sum':'total_runs_per_score','runs.total_count':'no_of_balls','season_':'season'},inplace=True)\n",
    "vk2.rename(columns={'season_': 'season'}, inplace=True)\n",
    "print(vk1.info())\n",
    "print(vk2.info())"
   ]
  },
  {
   "cell_type": "code",
   "execution_count": 19,
   "metadata": {},
   "outputs": [
    {
     "name": "stdout",
     "output_type": "stream",
     "text": [
      "season                  int64\n",
      "runs.batter_            int64\n",
      "total_runs_per_score    int64\n",
      "no_of_balls             int64\n",
      "dtype: object\n",
      "season                  int64\n",
      "runs.total_sum          int64\n",
      "runs.total_average    float64\n",
      "bowler_max             object\n",
      "dtype: object\n"
     ]
    },
    {
     "data": {
      "text/html": [
       "<div>\n",
       "<style scoped>\n",
       "    .dataframe tbody tr th:only-of-type {\n",
       "        vertical-align: middle;\n",
       "    }\n",
       "\n",
       "    .dataframe tbody tr th {\n",
       "        vertical-align: top;\n",
       "    }\n",
       "\n",
       "    .dataframe thead th {\n",
       "        text-align: right;\n",
       "    }\n",
       "</style>\n",
       "<table border=\"1\" class=\"dataframe\">\n",
       "  <thead>\n",
       "    <tr style=\"text-align: right;\">\n",
       "      <th></th>\n",
       "      <th>season</th>\n",
       "      <th>runs.total_sum</th>\n",
       "      <th>runs.total_average</th>\n",
       "      <th>bowler_max</th>\n",
       "    </tr>\n",
       "  </thead>\n",
       "  <tbody>\n",
       "    <tr>\n",
       "      <th>0</th>\n",
       "      <td>2008</td>\n",
       "      <td>187</td>\n",
       "      <td>1.113095</td>\n",
       "      <td>WPUJC Vaas</td>\n",
       "    </tr>\n",
       "    <tr>\n",
       "      <th>1</th>\n",
       "      <td>2009</td>\n",
       "      <td>258</td>\n",
       "      <td>1.146667</td>\n",
       "      <td>Yuvraj Singh</td>\n",
       "    </tr>\n",
       "    <tr>\n",
       "      <th>2</th>\n",
       "      <td>2010</td>\n",
       "      <td>320</td>\n",
       "      <td>1.481481</td>\n",
       "      <td>Z Khan</td>\n",
       "    </tr>\n",
       "    <tr>\n",
       "      <th>3</th>\n",
       "      <td>2011</td>\n",
       "      <td>584</td>\n",
       "      <td>1.234672</td>\n",
       "      <td>Yuvraj Singh</td>\n",
       "    </tr>\n",
       "    <tr>\n",
       "      <th>4</th>\n",
       "      <td>2012</td>\n",
       "      <td>375</td>\n",
       "      <td>1.126126</td>\n",
       "      <td>YK Pathan</td>\n",
       "    </tr>\n",
       "  </tbody>\n",
       "</table>\n",
       "</div>"
      ],
      "text/plain": [
       "   season  runs.total_sum  runs.total_average    bowler_max\n",
       "0    2008             187            1.113095    WPUJC Vaas\n",
       "1    2009             258            1.146667  Yuvraj Singh\n",
       "2    2010             320            1.481481        Z Khan\n",
       "3    2011             584            1.234672  Yuvraj Singh\n",
       "4    2012             375            1.126126     YK Pathan"
      ]
     },
     "execution_count": 19,
     "metadata": {},
     "output_type": "execute_result"
    }
   ],
   "source": [
    "print(vk1.dtypes)\n",
    "print(vk2.dtypes)\n",
    "# v_kohli = vk1.join(vk2,on='season',lsuffix='_')\n",
    "v_kohli = pd.merge(vk1, vk2, how=\"inner\", on=\"season\")\n",
    "# v_kohli.columns = ['_'.join(col) for col in v_kohli.columns]\n",
    "v_kohli.head(20)\n",
    "vk2.head()\n"
   ]
  },
  {
   "cell_type": "code",
   "execution_count": 20,
   "metadata": {},
   "outputs": [
    {
     "data": {
      "text/html": [
       "<div>\n",
       "<style scoped>\n",
       "    .dataframe tbody tr th:only-of-type {\n",
       "        vertical-align: middle;\n",
       "    }\n",
       "\n",
       "    .dataframe tbody tr th {\n",
       "        vertical-align: top;\n",
       "    }\n",
       "\n",
       "    .dataframe thead th {\n",
       "        text-align: right;\n",
       "    }\n",
       "</style>\n",
       "<table border=\"1\" class=\"dataframe\">\n",
       "  <thead>\n",
       "    <tr style=\"text-align: right;\">\n",
       "      <th></th>\n",
       "      <th>season</th>\n",
       "      <th>runs.batter_</th>\n",
       "      <th>total_runs_per_score</th>\n",
       "      <th>no_of_balls</th>\n",
       "    </tr>\n",
       "  </thead>\n",
       "  <tbody>\n",
       "    <tr>\n",
       "      <th>0</th>\n",
       "      <td>2008</td>\n",
       "      <td>0</td>\n",
       "      <td>22</td>\n",
       "      <td>82</td>\n",
       "    </tr>\n",
       "    <tr>\n",
       "      <th>1</th>\n",
       "      <td>2008</td>\n",
       "      <td>1</td>\n",
       "      <td>59</td>\n",
       "      <td>59</td>\n",
       "    </tr>\n",
       "    <tr>\n",
       "      <th>2</th>\n",
       "      <td>2008</td>\n",
       "      <td>2</td>\n",
       "      <td>10</td>\n",
       "      <td>5</td>\n",
       "    </tr>\n",
       "    <tr>\n",
       "      <th>3</th>\n",
       "      <td>2008</td>\n",
       "      <td>4</td>\n",
       "      <td>72</td>\n",
       "      <td>18</td>\n",
       "    </tr>\n",
       "    <tr>\n",
       "      <th>4</th>\n",
       "      <td>2008</td>\n",
       "      <td>6</td>\n",
       "      <td>24</td>\n",
       "      <td>4</td>\n",
       "    </tr>\n",
       "    <tr>\n",
       "      <th>5</th>\n",
       "      <td>2009</td>\n",
       "      <td>0</td>\n",
       "      <td>12</td>\n",
       "      <td>98</td>\n",
       "    </tr>\n",
       "    <tr>\n",
       "      <th>6</th>\n",
       "      <td>2009</td>\n",
       "      <td>1</td>\n",
       "      <td>84</td>\n",
       "      <td>84</td>\n",
       "    </tr>\n",
       "    <tr>\n",
       "      <th>7</th>\n",
       "      <td>2009</td>\n",
       "      <td>2</td>\n",
       "      <td>26</td>\n",
       "      <td>13</td>\n",
       "    </tr>\n",
       "    <tr>\n",
       "      <th>8</th>\n",
       "      <td>2009</td>\n",
       "      <td>4</td>\n",
       "      <td>88</td>\n",
       "      <td>22</td>\n",
       "    </tr>\n",
       "    <tr>\n",
       "      <th>9</th>\n",
       "      <td>2009</td>\n",
       "      <td>6</td>\n",
       "      <td>48</td>\n",
       "      <td>8</td>\n",
       "    </tr>\n",
       "  </tbody>\n",
       "</table>\n",
       "</div>"
      ],
      "text/plain": [
       "   season  runs.batter_  total_runs_per_score  no_of_balls\n",
       "0    2008             0                    22           82\n",
       "1    2008             1                    59           59\n",
       "2    2008             2                    10            5\n",
       "3    2008             4                    72           18\n",
       "4    2008             6                    24            4\n",
       "5    2009             0                    12           98\n",
       "6    2009             1                    84           84\n",
       "7    2009             2                    26           13\n",
       "8    2009             4                    88           22\n",
       "9    2009             6                    48            8"
      ]
     },
     "execution_count": 20,
     "metadata": {},
     "output_type": "execute_result"
    }
   ],
   "source": [
    "vk1.head(10)\n"
   ]
  },
  {
   "cell_type": "code",
   "execution_count": 21,
   "metadata": {},
   "outputs": [
    {
     "data": {
      "text/html": [
       "<div>\n",
       "<style scoped>\n",
       "    .dataframe tbody tr th:only-of-type {\n",
       "        vertical-align: middle;\n",
       "    }\n",
       "\n",
       "    .dataframe tbody tr th {\n",
       "        vertical-align: top;\n",
       "    }\n",
       "\n",
       "    .dataframe thead th {\n",
       "        text-align: right;\n",
       "    }\n",
       "</style>\n",
       "<table border=\"1\" class=\"dataframe\">\n",
       "  <thead>\n",
       "    <tr style=\"text-align: right;\">\n",
       "      <th></th>\n",
       "      <th>season</th>\n",
       "      <th>runs.batter_</th>\n",
       "      <th>total_runs_per_score</th>\n",
       "      <th>no_of_balls</th>\n",
       "      <th>runs.total_sum</th>\n",
       "      <th>runs.total_average</th>\n",
       "      <th>bowler_max</th>\n",
       "    </tr>\n",
       "  </thead>\n",
       "  <tbody>\n",
       "    <tr>\n",
       "      <th>0</th>\n",
       "      <td>2008</td>\n",
       "      <td>0</td>\n",
       "      <td>22</td>\n",
       "      <td>82</td>\n",
       "      <td>187</td>\n",
       "      <td>1.113095</td>\n",
       "      <td>WPUJC Vaas</td>\n",
       "    </tr>\n",
       "    <tr>\n",
       "      <th>1</th>\n",
       "      <td>2008</td>\n",
       "      <td>1</td>\n",
       "      <td>59</td>\n",
       "      <td>59</td>\n",
       "      <td>187</td>\n",
       "      <td>1.113095</td>\n",
       "      <td>WPUJC Vaas</td>\n",
       "    </tr>\n",
       "    <tr>\n",
       "      <th>2</th>\n",
       "      <td>2008</td>\n",
       "      <td>2</td>\n",
       "      <td>10</td>\n",
       "      <td>5</td>\n",
       "      <td>187</td>\n",
       "      <td>1.113095</td>\n",
       "      <td>WPUJC Vaas</td>\n",
       "    </tr>\n",
       "    <tr>\n",
       "      <th>3</th>\n",
       "      <td>2008</td>\n",
       "      <td>4</td>\n",
       "      <td>72</td>\n",
       "      <td>18</td>\n",
       "      <td>187</td>\n",
       "      <td>1.113095</td>\n",
       "      <td>WPUJC Vaas</td>\n",
       "    </tr>\n",
       "    <tr>\n",
       "      <th>4</th>\n",
       "      <td>2008</td>\n",
       "      <td>6</td>\n",
       "      <td>24</td>\n",
       "      <td>4</td>\n",
       "      <td>187</td>\n",
       "      <td>1.113095</td>\n",
       "      <td>WPUJC Vaas</td>\n",
       "    </tr>\n",
       "    <tr>\n",
       "      <th>...</th>\n",
       "      <td>...</td>\n",
       "      <td>...</td>\n",
       "      <td>...</td>\n",
       "      <td>...</td>\n",
       "      <td>...</td>\n",
       "      <td>...</td>\n",
       "      <td>...</td>\n",
       "    </tr>\n",
       "    <tr>\n",
       "      <th>92</th>\n",
       "      <td>2024</td>\n",
       "      <td>1</td>\n",
       "      <td>198</td>\n",
       "      <td>198</td>\n",
       "      <td>770</td>\n",
       "      <td>1.549296</td>\n",
       "      <td>YS Chahal</td>\n",
       "    </tr>\n",
       "    <tr>\n",
       "      <th>93</th>\n",
       "      <td>2024</td>\n",
       "      <td>2</td>\n",
       "      <td>64</td>\n",
       "      <td>32</td>\n",
       "      <td>770</td>\n",
       "      <td>1.549296</td>\n",
       "      <td>YS Chahal</td>\n",
       "    </tr>\n",
       "    <tr>\n",
       "      <th>94</th>\n",
       "      <td>2024</td>\n",
       "      <td>3</td>\n",
       "      <td>3</td>\n",
       "      <td>1</td>\n",
       "      <td>770</td>\n",
       "      <td>1.549296</td>\n",
       "      <td>YS Chahal</td>\n",
       "    </tr>\n",
       "    <tr>\n",
       "      <th>95</th>\n",
       "      <td>2024</td>\n",
       "      <td>4</td>\n",
       "      <td>248</td>\n",
       "      <td>62</td>\n",
       "      <td>770</td>\n",
       "      <td>1.549296</td>\n",
       "      <td>YS Chahal</td>\n",
       "    </tr>\n",
       "    <tr>\n",
       "      <th>96</th>\n",
       "      <td>2024</td>\n",
       "      <td>6</td>\n",
       "      <td>228</td>\n",
       "      <td>38</td>\n",
       "      <td>770</td>\n",
       "      <td>1.549296</td>\n",
       "      <td>YS Chahal</td>\n",
       "    </tr>\n",
       "  </tbody>\n",
       "</table>\n",
       "<p>97 rows × 7 columns</p>\n",
       "</div>"
      ],
      "text/plain": [
       "    season  runs.batter_  total_runs_per_score  no_of_balls  runs.total_sum  \\\n",
       "0     2008             0                    22           82             187   \n",
       "1     2008             1                    59           59             187   \n",
       "2     2008             2                    10            5             187   \n",
       "3     2008             4                    72           18             187   \n",
       "4     2008             6                    24            4             187   \n",
       "..     ...           ...                   ...          ...             ...   \n",
       "92    2024             1                   198          198             770   \n",
       "93    2024             2                    64           32             770   \n",
       "94    2024             3                     3            1             770   \n",
       "95    2024             4                   248           62             770   \n",
       "96    2024             6                   228           38             770   \n",
       "\n",
       "    runs.total_average  bowler_max  \n",
       "0             1.113095  WPUJC Vaas  \n",
       "1             1.113095  WPUJC Vaas  \n",
       "2             1.113095  WPUJC Vaas  \n",
       "3             1.113095  WPUJC Vaas  \n",
       "4             1.113095  WPUJC Vaas  \n",
       "..                 ...         ...  \n",
       "92            1.549296   YS Chahal  \n",
       "93            1.549296   YS Chahal  \n",
       "94            1.549296   YS Chahal  \n",
       "95            1.549296   YS Chahal  \n",
       "96            1.549296   YS Chahal  \n",
       "\n",
       "[97 rows x 7 columns]"
      ]
     },
     "execution_count": 21,
     "metadata": {},
     "output_type": "execute_result"
    }
   ],
   "source": [
    "v_kohli"
   ]
  },
  {
   "cell_type": "code",
   "execution_count": 22,
   "metadata": {},
   "outputs": [
    {
     "data": {
      "application/vnd.plotly.v1+json": {
       "config": {
        "plotlyServerURL": "https://plot.ly"
       },
       "data": [
        {
         "hovertemplate": "bowler_max=WPUJC Vaas<br>season=%{x}<br>Total runs=%{y}<br>size=%{marker.size}<extra></extra>",
         "legendgroup": "WPUJC Vaas",
         "marker": {
          "color": "#636efa",
          "size": [
           1.7086834936695847,
           1.7086834936695847,
           1.7086834936695847,
           1.7086834936695847,
           1.7086834936695847
          ],
          "sizemode": "area",
          "sizeref": 0.022315760453450236,
          "symbol": "circle"
         },
         "mode": "markers",
         "name": "WPUJC Vaas",
         "orientation": "v",
         "showlegend": true,
         "type": "scatter",
         "x": [
          2008,
          2008,
          2008,
          2008,
          2008
         ],
         "xaxis": "x",
         "y": [
          187,
          187,
          187,
          187,
          187
         ],
         "yaxis": "y"
        },
        {
         "hovertemplate": "bowler_max=Yuvraj Singh<br>season=%{x}<br>Total runs=%{y}<br>size=%{marker.size}<extra></extra>",
         "legendgroup": "Yuvraj Singh",
         "marker": {
          "color": "#EF553B",
          "size": [
           1.9823755803390952,
           1.9823755803390952,
           1.9823755803390952,
           1.9823755803390952,
           1.9823755803390952,
           2.86918486905928,
           2.86918486905928,
           2.86918486905928,
           2.86918486905928,
           2.86918486905928,
           2.86918486905928,
           5.31303022295925,
           5.31303022295925,
           5.31303022295925,
           5.31303022295925,
           5.31303022295925,
           5.31303022295925
          ],
          "sizemode": "area",
          "sizeref": 0.022315760453450236,
          "symbol": "circle"
         },
         "mode": "markers",
         "name": "Yuvraj Singh",
         "orientation": "v",
         "showlegend": true,
         "type": "scatter",
         "x": [
          2009,
          2009,
          2009,
          2009,
          2009,
          2011,
          2011,
          2011,
          2011,
          2011,
          2011,
          2013,
          2013,
          2013,
          2013,
          2013,
          2013
         ],
         "xaxis": "x",
         "y": [
          258,
          258,
          258,
          258,
          258,
          584,
          584,
          584,
          584,
          584,
          584,
          655,
          655,
          655,
          655,
          655,
          655
         ],
         "yaxis": "y"
        },
        {
         "hovertemplate": "bowler_max=Z Khan<br>season=%{x}<br>Total runs=%{y}<br>size=%{marker.size}<extra></extra>",
         "legendgroup": "Z Khan",
         "marker": {
          "color": "#00cc96",
          "size": [
           7.136432064128646,
           7.136432064128646,
           7.136432064128646,
           7.136432064128646,
           7.136432064128646,
           2.922211739140509,
           2.922211739140509,
           2.922211739140509,
           2.922211739140509,
           2.922211739140509,
           2.922211739140509,
           8.211948299253299,
           8.211948299253299,
           8.211948299253299,
           8.211948299253299,
           8.211948299253299,
           8.211948299253299,
           2.7225923739234963,
           2.7225923739234963,
           2.7225923739234963,
           2.7225923739234963,
           2.7225923739234963,
           2.7225923739234963
          ],
          "sizemode": "area",
          "sizeref": 0.022315760453450236,
          "symbol": "circle"
         },
         "mode": "markers",
         "name": "Z Khan",
         "orientation": "v",
         "showlegend": true,
         "type": "scatter",
         "x": [
          2010,
          2010,
          2010,
          2010,
          2010,
          2014,
          2014,
          2014,
          2014,
          2014,
          2014,
          2016,
          2016,
          2016,
          2016,
          2016,
          2016,
          2017,
          2017,
          2017,
          2017,
          2017,
          2017
         ],
         "xaxis": "x",
         "y": [
          320,
          320,
          320,
          320,
          320,
          373,
          373,
          373,
          373,
          373,
          373,
          998,
          998,
          998,
          998,
          998,
          998,
          314,
          314,
          314,
          314,
          314,
          314
         ],
         "yaxis": "y"
        },
        {
         "hovertemplate": "bowler_max=YK Pathan<br>season=%{x}<br>Total runs=%{y}<br>size=%{marker.size}<extra></extra>",
         "legendgroup": "YK Pathan",
         "marker": {
          "color": "#ab63fa",
          "size": [
           1.8110697267412077,
           1.8110697267412077,
           1.8110697267412077,
           1.8110697267412077,
           1.8110697267412077,
           1.8110697267412077
          ],
          "sizemode": "area",
          "sizeref": 0.022315760453450236,
          "symbol": "circle"
         },
         "mode": "markers",
         "name": "YK Pathan",
         "orientation": "v",
         "showlegend": true,
         "type": "scatter",
         "x": [
          2012,
          2012,
          2012,
          2012,
          2012,
          2012
         ],
         "xaxis": "x",
         "y": [
          375,
          375,
          375,
          375,
          375,
          375
         ],
         "yaxis": "y"
        },
        {
         "hovertemplate": "bowler_max=UT Yadav<br>season=%{x}<br>Total runs=%{y}<br>size=%{marker.size}<extra></extra>",
         "legendgroup": "UT Yadav",
         "marker": {
          "color": "#FFA15A",
          "size": [
           3.9160777985960067,
           3.9160777985960067,
           3.9160777985960067,
           3.9160777985960067,
           3.9160777985960067,
           3.9160777985960067
          ],
          "sizemode": "area",
          "sizeref": 0.022315760453450236,
          "symbol": "circle"
         },
         "mode": "markers",
         "name": "UT Yadav",
         "orientation": "v",
         "showlegend": true,
         "type": "scatter",
         "x": [
          2015,
          2015,
          2015,
          2015,
          2015,
          2015
         ],
         "xaxis": "x",
         "y": [
          519,
          519,
          519,
          519,
          519,
          519
         ],
         "yaxis": "y"
        },
        {
         "hovertemplate": "bowler_max=TA Boult<br>season=%{x}<br>Total runs=%{y}<br>size=%{marker.size}<extra></extra>",
         "legendgroup": "TA Boult",
         "marker": {
          "color": "#19d3f3",
          "size": [
           5.378239999999998,
           5.378239999999998,
           5.378239999999998,
           5.378239999999998,
           5.378239999999998,
           2.691872358385907,
           2.691872358385907,
           2.691872358385907,
           2.691872358385907,
           2.691872358385907,
           2.691872358385907
          ],
          "sizemode": "area",
          "sizeref": 0.022315760453450236,
          "symbol": "circle"
         },
         "mode": "markers",
         "name": "TA Boult",
         "orientation": "v",
         "showlegend": true,
         "type": "scatter",
         "x": [
          2018,
          2018,
          2018,
          2018,
          2018,
          2021,
          2021,
          2021,
          2021,
          2021,
          2021
         ],
         "xaxis": "x",
         "y": [
          539,
          539,
          539,
          539,
          539,
          423,
          423,
          423,
          423,
          423,
          423
         ],
         "yaxis": "y"
        },
        {
         "hovertemplate": "bowler_max=VR Aaron<br>season=%{x}<br>Total runs=%{y}<br>size=%{marker.size}<extra></extra>",
         "legendgroup": "VR Aaron",
         "marker": {
          "color": "#FF6692",
          "size": [
           5.8079059449806225,
           5.8079059449806225,
           5.8079059449806225,
           5.8079059449806225,
           5.8079059449806225
          ],
          "sizemode": "area",
          "sizeref": 0.022315760453450236,
          "symbol": "circle"
         },
         "mode": "markers",
         "name": "VR Aaron",
         "orientation": "v",
         "showlegend": true,
         "type": "scatter",
         "x": [
          2019,
          2019,
          2019,
          2019,
          2019
         ],
         "xaxis": "x",
         "y": [
          472,
          472,
          472,
          472,
          472
         ],
         "yaxis": "y"
        },
        {
         "hovertemplate": "bowler_max=TK Curran<br>season=%{x}<br>Total runs=%{y}<br>size=%{marker.size}<extra></extra>",
         "legendgroup": "TK Curran",
         "marker": {
          "color": "#B6E880",
          "size": [
           2.675129739375684,
           2.675129739375684,
           2.675129739375684,
           2.675129739375684,
           2.675129739375684,
           2.675129739375684
          ],
          "sizemode": "area",
          "sizeref": 0.022315760453450236,
          "symbol": "circle"
         },
         "mode": "markers",
         "name": "TK Curran",
         "orientation": "v",
         "showlegend": true,
         "type": "scatter",
         "x": [
          2020,
          2020,
          2020,
          2020,
          2020,
          2020
         ],
         "xaxis": "x",
         "y": [
          487,
          487,
          487,
          487,
          487,
          487
         ],
         "yaxis": "y"
        },
        {
         "hovertemplate": "bowler_max=Yash Dayal<br>season=%{x}<br>Total runs=%{y}<br>size=%{marker.size}<extra></extra>",
         "legendgroup": "Yash Dayal",
         "marker": {
          "color": "#FF97FF",
          "size": [
           2.3170516787513398,
           2.3170516787513398,
           2.3170516787513398,
           2.3170516787513398,
           2.3170516787513398,
           2.3170516787513398
          ],
          "sizemode": "area",
          "sizeref": 0.022315760453450236,
          "symbol": "circle"
         },
         "mode": "markers",
         "name": "Yash Dayal",
         "orientation": "v",
         "showlegend": true,
         "type": "scatter",
         "x": [
          2022,
          2022,
          2022,
          2022,
          2022,
          2022
         ],
         "xaxis": "x",
         "y": [
          362,
          362,
          362,
          362,
          362,
          362
         ],
         "yaxis": "y"
        },
        {
         "hovertemplate": "bowler_max=Yash Thakur<br>season=%{x}<br>Total runs=%{y}<br>size=%{marker.size}<extra></extra>",
         "legendgroup": "Yash Thakur",
         "marker": {
          "color": "#FECB52",
          "size": [
           5.32968563852083,
           5.32968563852083,
           5.32968563852083,
           5.32968563852083,
           5.32968563852083,
           5.32968563852083
          ],
          "sizemode": "area",
          "sizeref": 0.022315760453450236,
          "symbol": "circle"
         },
         "mode": "markers",
         "name": "Yash Thakur",
         "orientation": "v",
         "showlegend": true,
         "type": "scatter",
         "x": [
          2023,
          2023,
          2023,
          2023,
          2023,
          2023
         ],
         "xaxis": "x",
         "y": [
          661,
          661,
          661,
          661,
          661,
          661
         ],
         "yaxis": "y"
        },
        {
         "hovertemplate": "bowler_max=YS Chahal<br>season=%{x}<br>Total runs=%{y}<br>size=%{marker.size}<extra></extra>",
         "legendgroup": "YS Chahal",
         "marker": {
          "color": "#636efa",
          "size": [
           8.926304181380095,
           8.926304181380095,
           8.926304181380095,
           8.926304181380095,
           8.926304181380095,
           8.926304181380095
          ],
          "sizemode": "area",
          "sizeref": 0.022315760453450236,
          "symbol": "circle"
         },
         "mode": "markers",
         "name": "YS Chahal",
         "orientation": "v",
         "showlegend": true,
         "type": "scatter",
         "x": [
          2024,
          2024,
          2024,
          2024,
          2024,
          2024
         ],
         "xaxis": "x",
         "y": [
          770,
          770,
          770,
          770,
          770,
          770
         ],
         "yaxis": "y"
        }
       ],
       "layout": {
        "legend": {
         "itemsizing": "constant",
         "title": {
          "text": "bowler_max"
         },
         "tracegroupgap": 0
        },
        "template": {
         "data": {
          "bar": [
           {
            "error_x": {
             "color": "#2a3f5f"
            },
            "error_y": {
             "color": "#2a3f5f"
            },
            "marker": {
             "line": {
              "color": "#E5ECF6",
              "width": 0.5
             },
             "pattern": {
              "fillmode": "overlay",
              "size": 10,
              "solidity": 0.2
             }
            },
            "type": "bar"
           }
          ],
          "barpolar": [
           {
            "marker": {
             "line": {
              "color": "#E5ECF6",
              "width": 0.5
             },
             "pattern": {
              "fillmode": "overlay",
              "size": 10,
              "solidity": 0.2
             }
            },
            "type": "barpolar"
           }
          ],
          "carpet": [
           {
            "aaxis": {
             "endlinecolor": "#2a3f5f",
             "gridcolor": "white",
             "linecolor": "white",
             "minorgridcolor": "white",
             "startlinecolor": "#2a3f5f"
            },
            "baxis": {
             "endlinecolor": "#2a3f5f",
             "gridcolor": "white",
             "linecolor": "white",
             "minorgridcolor": "white",
             "startlinecolor": "#2a3f5f"
            },
            "type": "carpet"
           }
          ],
          "choropleth": [
           {
            "colorbar": {
             "outlinewidth": 0,
             "ticks": ""
            },
            "type": "choropleth"
           }
          ],
          "contour": [
           {
            "colorbar": {
             "outlinewidth": 0,
             "ticks": ""
            },
            "colorscale": [
             [
              0,
              "#0d0887"
             ],
             [
              0.1111111111111111,
              "#46039f"
             ],
             [
              0.2222222222222222,
              "#7201a8"
             ],
             [
              0.3333333333333333,
              "#9c179e"
             ],
             [
              0.4444444444444444,
              "#bd3786"
             ],
             [
              0.5555555555555556,
              "#d8576b"
             ],
             [
              0.6666666666666666,
              "#ed7953"
             ],
             [
              0.7777777777777778,
              "#fb9f3a"
             ],
             [
              0.8888888888888888,
              "#fdca26"
             ],
             [
              1,
              "#f0f921"
             ]
            ],
            "type": "contour"
           }
          ],
          "contourcarpet": [
           {
            "colorbar": {
             "outlinewidth": 0,
             "ticks": ""
            },
            "type": "contourcarpet"
           }
          ],
          "heatmap": [
           {
            "colorbar": {
             "outlinewidth": 0,
             "ticks": ""
            },
            "colorscale": [
             [
              0,
              "#0d0887"
             ],
             [
              0.1111111111111111,
              "#46039f"
             ],
             [
              0.2222222222222222,
              "#7201a8"
             ],
             [
              0.3333333333333333,
              "#9c179e"
             ],
             [
              0.4444444444444444,
              "#bd3786"
             ],
             [
              0.5555555555555556,
              "#d8576b"
             ],
             [
              0.6666666666666666,
              "#ed7953"
             ],
             [
              0.7777777777777778,
              "#fb9f3a"
             ],
             [
              0.8888888888888888,
              "#fdca26"
             ],
             [
              1,
              "#f0f921"
             ]
            ],
            "type": "heatmap"
           }
          ],
          "heatmapgl": [
           {
            "colorbar": {
             "outlinewidth": 0,
             "ticks": ""
            },
            "colorscale": [
             [
              0,
              "#0d0887"
             ],
             [
              0.1111111111111111,
              "#46039f"
             ],
             [
              0.2222222222222222,
              "#7201a8"
             ],
             [
              0.3333333333333333,
              "#9c179e"
             ],
             [
              0.4444444444444444,
              "#bd3786"
             ],
             [
              0.5555555555555556,
              "#d8576b"
             ],
             [
              0.6666666666666666,
              "#ed7953"
             ],
             [
              0.7777777777777778,
              "#fb9f3a"
             ],
             [
              0.8888888888888888,
              "#fdca26"
             ],
             [
              1,
              "#f0f921"
             ]
            ],
            "type": "heatmapgl"
           }
          ],
          "histogram": [
           {
            "marker": {
             "pattern": {
              "fillmode": "overlay",
              "size": 10,
              "solidity": 0.2
             }
            },
            "type": "histogram"
           }
          ],
          "histogram2d": [
           {
            "colorbar": {
             "outlinewidth": 0,
             "ticks": ""
            },
            "colorscale": [
             [
              0,
              "#0d0887"
             ],
             [
              0.1111111111111111,
              "#46039f"
             ],
             [
              0.2222222222222222,
              "#7201a8"
             ],
             [
              0.3333333333333333,
              "#9c179e"
             ],
             [
              0.4444444444444444,
              "#bd3786"
             ],
             [
              0.5555555555555556,
              "#d8576b"
             ],
             [
              0.6666666666666666,
              "#ed7953"
             ],
             [
              0.7777777777777778,
              "#fb9f3a"
             ],
             [
              0.8888888888888888,
              "#fdca26"
             ],
             [
              1,
              "#f0f921"
             ]
            ],
            "type": "histogram2d"
           }
          ],
          "histogram2dcontour": [
           {
            "colorbar": {
             "outlinewidth": 0,
             "ticks": ""
            },
            "colorscale": [
             [
              0,
              "#0d0887"
             ],
             [
              0.1111111111111111,
              "#46039f"
             ],
             [
              0.2222222222222222,
              "#7201a8"
             ],
             [
              0.3333333333333333,
              "#9c179e"
             ],
             [
              0.4444444444444444,
              "#bd3786"
             ],
             [
              0.5555555555555556,
              "#d8576b"
             ],
             [
              0.6666666666666666,
              "#ed7953"
             ],
             [
              0.7777777777777778,
              "#fb9f3a"
             ],
             [
              0.8888888888888888,
              "#fdca26"
             ],
             [
              1,
              "#f0f921"
             ]
            ],
            "type": "histogram2dcontour"
           }
          ],
          "mesh3d": [
           {
            "colorbar": {
             "outlinewidth": 0,
             "ticks": ""
            },
            "type": "mesh3d"
           }
          ],
          "parcoords": [
           {
            "line": {
             "colorbar": {
              "outlinewidth": 0,
              "ticks": ""
             }
            },
            "type": "parcoords"
           }
          ],
          "pie": [
           {
            "automargin": true,
            "type": "pie"
           }
          ],
          "scatter": [
           {
            "fillpattern": {
             "fillmode": "overlay",
             "size": 10,
             "solidity": 0.2
            },
            "type": "scatter"
           }
          ],
          "scatter3d": [
           {
            "line": {
             "colorbar": {
              "outlinewidth": 0,
              "ticks": ""
             }
            },
            "marker": {
             "colorbar": {
              "outlinewidth": 0,
              "ticks": ""
             }
            },
            "type": "scatter3d"
           }
          ],
          "scattercarpet": [
           {
            "marker": {
             "colorbar": {
              "outlinewidth": 0,
              "ticks": ""
             }
            },
            "type": "scattercarpet"
           }
          ],
          "scattergeo": [
           {
            "marker": {
             "colorbar": {
              "outlinewidth": 0,
              "ticks": ""
             }
            },
            "type": "scattergeo"
           }
          ],
          "scattergl": [
           {
            "marker": {
             "colorbar": {
              "outlinewidth": 0,
              "ticks": ""
             }
            },
            "type": "scattergl"
           }
          ],
          "scattermapbox": [
           {
            "marker": {
             "colorbar": {
              "outlinewidth": 0,
              "ticks": ""
             }
            },
            "type": "scattermapbox"
           }
          ],
          "scatterpolar": [
           {
            "marker": {
             "colorbar": {
              "outlinewidth": 0,
              "ticks": ""
             }
            },
            "type": "scatterpolar"
           }
          ],
          "scatterpolargl": [
           {
            "marker": {
             "colorbar": {
              "outlinewidth": 0,
              "ticks": ""
             }
            },
            "type": "scatterpolargl"
           }
          ],
          "scatterternary": [
           {
            "marker": {
             "colorbar": {
              "outlinewidth": 0,
              "ticks": ""
             }
            },
            "type": "scatterternary"
           }
          ],
          "surface": [
           {
            "colorbar": {
             "outlinewidth": 0,
             "ticks": ""
            },
            "colorscale": [
             [
              0,
              "#0d0887"
             ],
             [
              0.1111111111111111,
              "#46039f"
             ],
             [
              0.2222222222222222,
              "#7201a8"
             ],
             [
              0.3333333333333333,
              "#9c179e"
             ],
             [
              0.4444444444444444,
              "#bd3786"
             ],
             [
              0.5555555555555556,
              "#d8576b"
             ],
             [
              0.6666666666666666,
              "#ed7953"
             ],
             [
              0.7777777777777778,
              "#fb9f3a"
             ],
             [
              0.8888888888888888,
              "#fdca26"
             ],
             [
              1,
              "#f0f921"
             ]
            ],
            "type": "surface"
           }
          ],
          "table": [
           {
            "cells": {
             "fill": {
              "color": "#EBF0F8"
             },
             "line": {
              "color": "white"
             }
            },
            "header": {
             "fill": {
              "color": "#C8D4E3"
             },
             "line": {
              "color": "white"
             }
            },
            "type": "table"
           }
          ]
         },
         "layout": {
          "annotationdefaults": {
           "arrowcolor": "#2a3f5f",
           "arrowhead": 0,
           "arrowwidth": 1
          },
          "autotypenumbers": "strict",
          "coloraxis": {
           "colorbar": {
            "outlinewidth": 0,
            "ticks": ""
           }
          },
          "colorscale": {
           "diverging": [
            [
             0,
             "#8e0152"
            ],
            [
             0.1,
             "#c51b7d"
            ],
            [
             0.2,
             "#de77ae"
            ],
            [
             0.3,
             "#f1b6da"
            ],
            [
             0.4,
             "#fde0ef"
            ],
            [
             0.5,
             "#f7f7f7"
            ],
            [
             0.6,
             "#e6f5d0"
            ],
            [
             0.7,
             "#b8e186"
            ],
            [
             0.8,
             "#7fbc41"
            ],
            [
             0.9,
             "#4d9221"
            ],
            [
             1,
             "#276419"
            ]
           ],
           "sequential": [
            [
             0,
             "#0d0887"
            ],
            [
             0.1111111111111111,
             "#46039f"
            ],
            [
             0.2222222222222222,
             "#7201a8"
            ],
            [
             0.3333333333333333,
             "#9c179e"
            ],
            [
             0.4444444444444444,
             "#bd3786"
            ],
            [
             0.5555555555555556,
             "#d8576b"
            ],
            [
             0.6666666666666666,
             "#ed7953"
            ],
            [
             0.7777777777777778,
             "#fb9f3a"
            ],
            [
             0.8888888888888888,
             "#fdca26"
            ],
            [
             1,
             "#f0f921"
            ]
           ],
           "sequentialminus": [
            [
             0,
             "#0d0887"
            ],
            [
             0.1111111111111111,
             "#46039f"
            ],
            [
             0.2222222222222222,
             "#7201a8"
            ],
            [
             0.3333333333333333,
             "#9c179e"
            ],
            [
             0.4444444444444444,
             "#bd3786"
            ],
            [
             0.5555555555555556,
             "#d8576b"
            ],
            [
             0.6666666666666666,
             "#ed7953"
            ],
            [
             0.7777777777777778,
             "#fb9f3a"
            ],
            [
             0.8888888888888888,
             "#fdca26"
            ],
            [
             1,
             "#f0f921"
            ]
           ]
          },
          "colorway": [
           "#636efa",
           "#EF553B",
           "#00cc96",
           "#ab63fa",
           "#FFA15A",
           "#19d3f3",
           "#FF6692",
           "#B6E880",
           "#FF97FF",
           "#FECB52"
          ],
          "font": {
           "color": "#2a3f5f"
          },
          "geo": {
           "bgcolor": "white",
           "lakecolor": "white",
           "landcolor": "#E5ECF6",
           "showlakes": true,
           "showland": true,
           "subunitcolor": "white"
          },
          "hoverlabel": {
           "align": "left"
          },
          "hovermode": "closest",
          "mapbox": {
           "style": "light"
          },
          "paper_bgcolor": "white",
          "plot_bgcolor": "#E5ECF6",
          "polar": {
           "angularaxis": {
            "gridcolor": "white",
            "linecolor": "white",
            "ticks": ""
           },
           "bgcolor": "#E5ECF6",
           "radialaxis": {
            "gridcolor": "white",
            "linecolor": "white",
            "ticks": ""
           }
          },
          "scene": {
           "xaxis": {
            "backgroundcolor": "#E5ECF6",
            "gridcolor": "white",
            "gridwidth": 2,
            "linecolor": "white",
            "showbackground": true,
            "ticks": "",
            "zerolinecolor": "white"
           },
           "yaxis": {
            "backgroundcolor": "#E5ECF6",
            "gridcolor": "white",
            "gridwidth": 2,
            "linecolor": "white",
            "showbackground": true,
            "ticks": "",
            "zerolinecolor": "white"
           },
           "zaxis": {
            "backgroundcolor": "#E5ECF6",
            "gridcolor": "white",
            "gridwidth": 2,
            "linecolor": "white",
            "showbackground": true,
            "ticks": "",
            "zerolinecolor": "white"
           }
          },
          "shapedefaults": {
           "line": {
            "color": "#2a3f5f"
           }
          },
          "ternary": {
           "aaxis": {
            "gridcolor": "white",
            "linecolor": "white",
            "ticks": ""
           },
           "baxis": {
            "gridcolor": "white",
            "linecolor": "white",
            "ticks": ""
           },
           "bgcolor": "#E5ECF6",
           "caxis": {
            "gridcolor": "white",
            "linecolor": "white",
            "ticks": ""
           }
          },
          "title": {
           "x": 0.05
          },
          "xaxis": {
           "automargin": true,
           "gridcolor": "white",
           "linecolor": "white",
           "ticks": "",
           "title": {
            "standoff": 15
           },
           "zerolinecolor": "white",
           "zerolinewidth": 2
          },
          "yaxis": {
           "automargin": true,
           "gridcolor": "white",
           "linecolor": "white",
           "ticks": "",
           "title": {
            "standoff": 15
           },
           "zerolinecolor": "white",
           "zerolinewidth": 2
          }
         }
        },
        "title": {
         "text": "Virat Batting Perf"
        },
        "xaxis": {
         "anchor": "y",
         "domain": [
          0,
          1
         ],
         "title": {
          "text": "season"
         }
        },
        "yaxis": {
         "anchor": "x",
         "domain": [
          0,
          1
         ],
         "title": {
          "text": "Total runs"
         }
        }
       }
      }
     },
     "metadata": {},
     "output_type": "display_data"
    }
   ],
   "source": [
    "gapminder(v_kohli, v_kohli['season'], v_kohli['runs.total_sum'],\n",
    "          v_kohli['runs.total_average']**5, v_kohli[\"bowler_max\"] ,labels={'runs.total_sum':'Total runs','season_':\"Season\"},title='Virat Batting Perf')\n"
   ]
  },
  {
   "cell_type": "code",
   "execution_count": 23,
   "metadata": {},
   "outputs": [
    {
     "data": {
      "text/plain": [
       "<matplotlib.collections.PathCollection at 0x71b5c46b6bf0>"
      ]
     },
     "execution_count": 23,
     "metadata": {},
     "output_type": "execute_result"
    },
    {
     "data": {
      "image/png": "[encoded data removed]",
      "text/plain": [
       "<Figure size 640x480 with 1 Axes>"
      ]
     },
     "metadata": {},
     "output_type": "display_data"
    }
   ],
   "source": [
    "import matplotlib.pyplot as plt\n",
    "plt.scatter(x=v_kohli['season'],y=v_kohli['runs.total_sum'],s=v_kohli['runs.total_average']**5)"
   ]
  },
  {
   "cell_type": "code",
   "execution_count": 24,
   "metadata": {},
   "outputs": [
    {
     "data": {
      "application/vnd.plotly.v1+json": {
       "config": {
        "plotlyServerURL": "https://plot.ly"
       },
       "data": [
        {
         "dimensions": [
          {
           "label": "runs.total_sum",
           "values": [
            187,
            187,
            187,
            187,
            187,
            258,
            258,
            258,
            258,
            258,
            320,
            320,
            320,
            320,
            320,
            584,
            584,
            584,
            584,
            584,
            584,
            375,
            375,
            375,
            375,
            375,
            375,
            655,
            655,
            655,
            655,
            655,
            655,
            373,
            373,
            373,
            373,
            373,
            373,
            519,
            519,
            519,
            519,
            519,
            519,
            998,
            998,
            998,
            998,
            998,
            998,
            314,
            314,
            314,
            314,
            314,
            314,
            539,
            539,
            539,
            539,
            539,
            472,
            472,
            472,
            472,
            472,
            487,
            487,
            487,
            487,
            487,
            487,
            423,
            423,
            423,
            423,
            423,
            423,
            362,
            362,
            362,
            362,
            362,
            362,
            661,
            661,
            661,
            661,
            661,
            661,
            770,
            770,
            770,
            770,
            770,
            770
           ]
          },
          {
           "label": "runs.batter_",
           "values": [
            0,
            1,
            2,
            4,
            6,
            0,
            1,
            2,
            4,
            6,
            0,
            1,
            2,
            4,
            6,
            0,
            1,
            2,
            3,
            4,
            6,
            0,
            1,
            2,
            3,
            4,
            6,
            0,
            1,
            2,
            3,
            4,
            6,
            0,
            1,
            2,
            3,
            4,
            6,
            0,
            1,
            2,
            3,
            4,
            6,
            0,
            1,
            2,
            3,
            4,
            6,
            0,
            1,
            2,
            3,
            4,
            6,
            0,
            1,
            2,
            4,
            6,
            0,
            1,
            2,
            4,
            6,
            0,
            1,
            2,
            3,
            4,
            6,
            0,
            1,
            2,
            3,
            4,
            6,
            0,
            1,
            2,
            3,
            4,
            6,
            0,
            1,
            2,
            3,
            4,
            6,
            0,
            1,
            2,
            3,
            4,
            6
           ]
          },
          {
           "label": "total_runs_per_score",
           "values": [
            22,
            59,
            10,
            72,
            24,
            12,
            84,
            26,
            88,
            48,
            12,
            104,
            28,
            104,
            72,
            27,
            178,
            60,
            3,
            220,
            96,
            11,
            137,
            32,
            3,
            132,
            60,
            18,
            173,
            70,
            6,
            256,
            132,
            14,
            127,
            38,
            6,
            92,
            96,
            14,
            153,
            68,
            6,
            140,
            138,
            23,
            292,
            112,
            6,
            336,
            229,
            6,
            107,
            40,
            3,
            92,
            66,
            8,
            167,
            48,
            208,
            108,
            8,
            150,
            52,
            184,
            78,
            19,
            195,
            109,
            6,
            92,
            66,
            17,
            145,
            28,
            6,
            173,
            54,
            21,
            117,
            36,
            12,
            128,
            48,
            22,
            210,
            70,
            3,
            260,
            96,
            29,
            198,
            64,
            3,
            248,
            228
           ]
          },
          {
           "label": "no_of_balls",
           "values": [
            82,
            59,
            5,
            18,
            4,
            98,
            84,
            13,
            22,
            8,
            61,
            103,
            14,
            26,
            12,
            193,
            178,
            30,
            1,
            55,
            16,
            136,
            137,
            16,
            1,
            33,
            10,
            176,
            170,
            35,
            2,
            64,
            22,
            114,
            127,
            19,
            2,
            23,
            16,
            148,
            153,
            34,
            2,
            35,
            23,
            184,
            291,
            56,
            2,
            84,
            38,
            95,
            107,
            20,
            1,
            23,
            11,
            125,
            166,
            24,
            52,
            18,
            97,
            150,
            26,
            46,
            13,
            116,
            194,
            54,
            2,
            23,
            11,
            134,
            145,
            14,
            2,
            43,
            9,
            127,
            117,
            18,
            4,
            32,
            8,
            146,
            210,
            35,
            1,
            65,
            16,
            166,
            198,
            32,
            1,
            62,
            38
           ]
          }
         ],
         "domain": {
          "x": [
           0,
           1
          ],
          "y": [
           0,
           1
          ]
         },
         "line": {
          "color": [
           2008,
           2008,
           2008,
           2008,
           2008,
           2009,
           2009,
           2009,
           2009,
           2009,
           2010,
           2010,
           2010,
           2010,
           2010,
           2011,
           2011,
           2011,
           2011,
           2011,
           2011,
           2012,
           2012,
           2012,
           2012,
           2012,
           2012,
           2013,
           2013,
           2013,
           2013,
           2013,
           2013,
           2014,
           2014,
           2014,
           2014,
           2014,
           2014,
           2015,
           2015,
           2015,
           2015,
           2015,
           2015,
           2016,
           2016,
           2016,
           2016,
           2016,
           2016,
           2017,
           2017,
           2017,
           2017,
           2017,
           2017,
           2018,
           2018,
           2018,
           2018,
           2018,
           2019,
           2019,
           2019,
           2019,
           2019,
           2020,
           2020,
           2020,
           2020,
           2020,
           2020,
           2021,
           2021,
           2021,
           2021,
           2021,
           2021,
           2022,
           2022,
           2022,
           2022,
           2022,
           2022,
           2023,
           2023,
           2023,
           2023,
           2023,
           2023,
           2024,
           2024,
           2024,
           2024,
           2024,
           2024
          ],
          "coloraxis": "coloraxis"
         },
         "name": "",
         "type": "parcoords"
        }
       ],
       "layout": {
        "coloraxis": {
         "colorbar": {
          "title": {
           "text": "season"
          }
         },
         "colorscale": [
          [
           0,
           "#0d0887"
          ],
          [
           0.1111111111111111,
           "#46039f"
          ],
          [
           0.2222222222222222,
           "#7201a8"
          ],
          [
           0.3333333333333333,
           "#9c179e"
          ],
          [
           0.4444444444444444,
           "#bd3786"
          ],
          [
           0.5555555555555556,
           "#d8576b"
          ],
          [
           0.6666666666666666,
           "#ed7953"
          ],
          [
           0.7777777777777778,
           "#fb9f3a"
          ],
          [
           0.8888888888888888,
           "#fdca26"
          ],
          [
           1,
           "#f0f921"
          ]
         ]
        },
        "legend": {
         "tracegroupgap": 0
        },
        "template": {
         "data": {
          "bar": [
           {
            "error_x": {
             "color": "#2a3f5f"
            },
            "error_y": {
             "color": "#2a3f5f"
            },
            "marker": {
             "line": {
              "color": "#E5ECF6",
              "width": 0.5
             },
             "pattern": {
              "fillmode": "overlay",
              "size": 10,
              "solidity": 0.2
             }
            },
            "type": "bar"
           }
          ],
          "barpolar": [
           {
            "marker": {
             "line": {
              "color": "#E5ECF6",
              "width": 0.5
             },
             "pattern": {
              "fillmode": "overlay",
              "size": 10,
              "solidity": 0.2
             }
            },
            "type": "barpolar"
           }
          ],
          "carpet": [
           {
            "aaxis": {
             "endlinecolor": "#2a3f5f",
             "gridcolor": "white",
             "linecolor": "white",
             "minorgridcolor": "white",
             "startlinecolor": "#2a3f5f"
            },
            "baxis": {
             "endlinecolor": "#2a3f5f",
             "gridcolor": "white",
             "linecolor": "white",
             "minorgridcolor": "white",
             "startlinecolor": "#2a3f5f"
            },
            "type": "carpet"
           }
          ],
          "choropleth": [
           {
            "colorbar": {
             "outlinewidth": 0,
             "ticks": ""
            },
            "type": "choropleth"
           }
          ],
          "contour": [
           {
            "colorbar": {
             "outlinewidth": 0,
             "ticks": ""
            },
            "colorscale": [
             [
              0,
              "#0d0887"
             ],
             [
              0.1111111111111111,
              "#46039f"
             ],
             [
              0.2222222222222222,
              "#7201a8"
             ],
             [
              0.3333333333333333,
              "#9c179e"
             ],
             [
              0.4444444444444444,
              "#bd3786"
             ],
             [
              0.5555555555555556,
              "#d8576b"
             ],
             [
              0.6666666666666666,
              "#ed7953"
             ],
             [
              0.7777777777777778,
              "#fb9f3a"
             ],
             [
              0.8888888888888888,
              "#fdca26"
             ],
             [
              1,
              "#f0f921"
             ]
            ],
            "type": "contour"
           }
          ],
          "contourcarpet": [
           {
            "colorbar": {
             "outlinewidth": 0,
             "ticks": ""
            },
            "type": "contourcarpet"
           }
          ],
          "heatmap": [
           {
            "colorbar": {
             "outlinewidth": 0,
             "ticks": ""
            },
            "colorscale": [
             [
              0,
              "#0d0887"
             ],
             [
              0.1111111111111111,
              "#46039f"
             ],
             [
              0.2222222222222222,
              "#7201a8"
             ],
             [
              0.3333333333333333,
              "#9c179e"
             ],
             [
              0.4444444444444444,
              "#bd3786"
             ],
             [
              0.5555555555555556,
              "#d8576b"
             ],
             [
              0.6666666666666666,
              "#ed7953"
             ],
             [
              0.7777777777777778,
              "#fb9f3a"
             ],
             [
              0.8888888888888888,
              "#fdca26"
             ],
             [
              1,
              "#f0f921"
             ]
            ],
            "type": "heatmap"
           }
          ],
          "heatmapgl": [
           {
            "colorbar": {
             "outlinewidth": 0,
             "ticks": ""
            },
            "colorscale": [
             [
              0,
              "#0d0887"
             ],
             [
              0.1111111111111111,
              "#46039f"
             ],
             [
              0.2222222222222222,
              "#7201a8"
             ],
             [
              0.3333333333333333,
              "#9c179e"
             ],
             [
              0.4444444444444444,
              "#bd3786"
             ],
             [
              0.5555555555555556,
              "#d8576b"
             ],
             [
              0.6666666666666666,
              "#ed7953"
             ],
             [
              0.7777777777777778,
              "#fb9f3a"
             ],
             [
              0.8888888888888888,
              "#fdca26"
             ],
             [
              1,
              "#f0f921"
             ]
            ],
            "type": "heatmapgl"
           }
          ],
          "histogram": [
           {
            "marker": {
             "pattern": {
              "fillmode": "overlay",
              "size": 10,
              "solidity": 0.2
             }
            },
            "type": "histogram"
           }
          ],
          "histogram2d": [
           {
            "colorbar": {
             "outlinewidth": 0,
             "ticks": ""
            },
            "colorscale": [
             [
              0,
              "#0d0887"
             ],
             [
              0.1111111111111111,
              "#46039f"
             ],
             [
              0.2222222222222222,
              "#7201a8"
             ],
             [
              0.3333333333333333,
              "#9c179e"
             ],
             [
              0.4444444444444444,
              "#bd3786"
             ],
             [
              0.5555555555555556,
              "#d8576b"
             ],
             [
              0.6666666666666666,
              "#ed7953"
             ],
             [
              0.7777777777777778,
              "#fb9f3a"
             ],
             [
              0.8888888888888888,
              "#fdca26"
             ],
             [
              1,
              "#f0f921"
             ]
            ],
            "type": "histogram2d"
           }
          ],
          "histogram2dcontour": [
           {
            "colorbar": {
             "outlinewidth": 0,
             "ticks": ""
            },
            "colorscale": [
             [
              0,
              "#0d0887"
             ],
             [
              0.1111111111111111,
              "#46039f"
             ],
             [
              0.2222222222222222,
              "#7201a8"
             ],
             [
              0.3333333333333333,
              "#9c179e"
             ],
             [
              0.4444444444444444,
              "#bd3786"
             ],
             [
              0.5555555555555556,
              "#d8576b"
             ],
             [
              0.6666666666666666,
              "#ed7953"
             ],
             [
              0.7777777777777778,
              "#fb9f3a"
             ],
             [
              0.8888888888888888,
              "#fdca26"
             ],
             [
              1,
              "#f0f921"
             ]
            ],
            "type": "histogram2dcontour"
           }
          ],
          "mesh3d": [
           {
            "colorbar": {
             "outlinewidth": 0,
             "ticks": ""
            },
            "type": "mesh3d"
           }
          ],
          "parcoords": [
           {
            "line": {
             "colorbar": {
              "outlinewidth": 0,
              "ticks": ""
             }
            },
            "type": "parcoords"
           }
          ],
          "pie": [
           {
            "automargin": true,
            "type": "pie"
           }
          ],
          "scatter": [
           {
            "fillpattern": {
             "fillmode": "overlay",
             "size": 10,
             "solidity": 0.2
            },
            "type": "scatter"
           }
          ],
          "scatter3d": [
           {
            "line": {
             "colorbar": {
              "outlinewidth": 0,
              "ticks": ""
             }
            },
            "marker": {
             "colorbar": {
              "outlinewidth": 0,
              "ticks": ""
             }
            },
            "type": "scatter3d"
           }
          ],
          "scattercarpet": [
           {
            "marker": {
             "colorbar": {
              "outlinewidth": 0,
              "ticks": ""
             }
            },
            "type": "scattercarpet"
           }
          ],
          "scattergeo": [
           {
            "marker": {
             "colorbar": {
              "outlinewidth": 0,
              "ticks": ""
             }
            },
            "type": "scattergeo"
           }
          ],
          "scattergl": [
           {
            "marker": {
             "colorbar": {
              "outlinewidth": 0,
              "ticks": ""
             }
            },
            "type": "scattergl"
           }
          ],
          "scattermapbox": [
           {
            "marker": {
             "colorbar": {
              "outlinewidth": 0,
              "ticks": ""
             }
            },
            "type": "scattermapbox"
           }
          ],
          "scatterpolar": [
           {
            "marker": {
             "colorbar": {
              "outlinewidth": 0,
              "ticks": ""
             }
            },
            "type": "scatterpolar"
           }
          ],
          "scatterpolargl": [
           {
            "marker": {
             "colorbar": {
              "outlinewidth": 0,
              "ticks": ""
             }
            },
            "type": "scatterpolargl"
           }
          ],
          "scatterternary": [
           {
            "marker": {
             "colorbar": {
              "outlinewidth": 0,
              "ticks": ""
             }
            },
            "type": "scatterternary"
           }
          ],
          "surface": [
           {
            "colorbar": {
             "outlinewidth": 0,
             "ticks": ""
            },
            "colorscale": [
             [
              0,
              "#0d0887"
             ],
             [
              0.1111111111111111,
              "#46039f"
             ],
             [
              0.2222222222222222,
              "#7201a8"
             ],
             [
              0.3333333333333333,
              "#9c179e"
             ],
             [
              0.4444444444444444,
              "#bd3786"
             ],
             [
              0.5555555555555556,
              "#d8576b"
             ],
             [
              0.6666666666666666,
              "#ed7953"
             ],
             [
              0.7777777777777778,
              "#fb9f3a"
             ],
             [
              0.8888888888888888,
              "#fdca26"
             ],
             [
              1,
              "#f0f921"
             ]
            ],
            "type": "surface"
           }
          ],
          "table": [
           {
            "cells": {
             "fill": {
              "color": "#EBF0F8"
             },
             "line": {
              "color": "white"
             }
            },
            "header": {
             "fill": {
              "color": "#C8D4E3"
             },
             "line": {
              "color": "white"
             }
            },
            "type": "table"
           }
          ]
         },
         "layout": {
          "annotationdefaults": {
           "arrowcolor": "#2a3f5f",
           "arrowhead": 0,
           "arrowwidth": 1
          },
          "autotypenumbers": "strict",
          "coloraxis": {
           "colorbar": {
            "outlinewidth": 0,
            "ticks": ""
           }
          },
          "colorscale": {
           "diverging": [
            [
             0,
             "#8e0152"
            ],
            [
             0.1,
             "#c51b7d"
            ],
            [
             0.2,
             "#de77ae"
            ],
            [
             0.3,
             "#f1b6da"
            ],
            [
             0.4,
             "#fde0ef"
            ],
            [
             0.5,
             "#f7f7f7"
            ],
            [
             0.6,
             "#e6f5d0"
            ],
            [
             0.7,
             "#b8e186"
            ],
            [
             0.8,
             "#7fbc41"
            ],
            [
             0.9,
             "#4d9221"
            ],
            [
             1,
             "#276419"
            ]
           ],
           "sequential": [
            [
             0,
             "#0d0887"
            ],
            [
             0.1111111111111111,
             "#46039f"
            ],
            [
             0.2222222222222222,
             "#7201a8"
            ],
            [
             0.3333333333333333,
             "#9c179e"
            ],
            [
             0.4444444444444444,
             "#bd3786"
            ],
            [
             0.5555555555555556,
             "#d8576b"
            ],
            [
             0.6666666666666666,
             "#ed7953"
            ],
            [
             0.7777777777777778,
             "#fb9f3a"
            ],
            [
             0.8888888888888888,
             "#fdca26"
            ],
            [
             1,
             "#f0f921"
            ]
           ],
           "sequentialminus": [
            [
             0,
             "#0d0887"
            ],
            [
             0.1111111111111111,
             "#46039f"
            ],
            [
             0.2222222222222222,
             "#7201a8"
            ],
            [
             0.3333333333333333,
             "#9c179e"
            ],
            [
             0.4444444444444444,
             "#bd3786"
            ],
            [
             0.5555555555555556,
             "#d8576b"
            ],
            [
             0.6666666666666666,
             "#ed7953"
            ],
            [
             0.7777777777777778,
             "#fb9f3a"
            ],
            [
             0.8888888888888888,
             "#fdca26"
            ],
            [
             1,
             "#f0f921"
            ]
           ]
          },
          "colorway": [
           "#636efa",
           "#EF553B",
           "#00cc96",
           "#ab63fa",
           "#FFA15A",
           "#19d3f3",
           "#FF6692",
           "#B6E880",
           "#FF97FF",
           "#FECB52"
          ],
          "font": {
           "color": "#2a3f5f"
          },
          "geo": {
           "bgcolor": "white",
           "lakecolor": "white",
           "landcolor": "#E5ECF6",
           "showlakes": true,
           "showland": true,
           "subunitcolor": "white"
          },
          "hoverlabel": {
           "align": "left"
          },
          "hovermode": "closest",
          "mapbox": {
           "style": "light"
          },
          "paper_bgcolor": "white",
          "plot_bgcolor": "#E5ECF6",
          "polar": {
           "angularaxis": {
            "gridcolor": "white",
            "linecolor": "white",
            "ticks": ""
           },
           "bgcolor": "#E5ECF6",
           "radialaxis": {
            "gridcolor": "white",
            "linecolor": "white",
            "ticks": ""
           }
          },
          "scene": {
           "xaxis": {
            "backgroundcolor": "#E5ECF6",
            "gridcolor": "white",
            "gridwidth": 2,
            "linecolor": "white",
            "showbackground": true,
            "ticks": "",
            "zerolinecolor": "white"
           },
           "yaxis": {
            "backgroundcolor": "#E5ECF6",
            "gridcolor": "white",
            "gridwidth": 2,
            "linecolor": "white",
            "showbackground": true,
            "ticks": "",
            "zerolinecolor": "white"
           },
           "zaxis": {
            "backgroundcolor": "#E5ECF6",
            "gridcolor": "white",
            "gridwidth": 2,
            "linecolor": "white",
            "showbackground": true,
            "ticks": "",
            "zerolinecolor": "white"
           }
          },
          "shapedefaults": {
           "line": {
            "color": "#2a3f5f"
           }
          },
          "ternary": {
           "aaxis": {
            "gridcolor": "white",
            "linecolor": "white",
            "ticks": ""
           },
           "baxis": {
            "gridcolor": "white",
            "linecolor": "white",
            "ticks": ""
           },
           "bgcolor": "#E5ECF6",
           "caxis": {
            "gridcolor": "white",
            "linecolor": "white",
            "ticks": ""
           }
          },
          "title": {
           "x": 0.05
          },
          "xaxis": {
           "automargin": true,
           "gridcolor": "white",
           "linecolor": "white",
           "ticks": "",
           "title": {
            "standoff": 15
           },
           "zerolinecolor": "white",
           "zerolinewidth": 2
          },
          "yaxis": {
           "automargin": true,
           "gridcolor": "white",
           "linecolor": "white",
           "ticks": "",
           "title": {
            "standoff": 15
           },
           "zerolinecolor": "white",
           "zerolinewidth": 2
          }
         }
        },
        "title": {
         "text": "Kohli Parallel"
        }
       }
      }
     },
     "metadata": {},
     "output_type": "display_data"
    }
   ],
   "source": [
    "parallelplot(v_kohli,columns=[v_kohli['runs.total_sum'],v_kohli['runs.batter_'],v_kohli['total_runs_per_score'],v_kohli['no_of_balls']],title=\"Kohli Parallel\",color_col=v_kohli['season'])"
   ]
  },
  {
   "cell_type": "code",
   "execution_count": 25,
   "metadata": {},
   "outputs": [
    {
     "data": {
      "text/html": [
       "<div>\n",
       "<style scoped>\n",
       "    .dataframe tbody tr th:only-of-type {\n",
       "        vertical-align: middle;\n",
       "    }\n",
       "\n",
       "    .dataframe tbody tr th {\n",
       "        vertical-align: top;\n",
       "    }\n",
       "\n",
       "    .dataframe thead tr th {\n",
       "        text-align: left;\n",
       "    }\n",
       "\n",
       "    .dataframe thead tr:last-of-type th {\n",
       "        text-align: right;\n",
       "    }\n",
       "</style>\n",
       "<table border=\"1\" class=\"dataframe\">\n",
       "  <thead>\n",
       "    <tr>\n",
       "      <th></th>\n",
       "      <th></th>\n",
       "      <th></th>\n",
       "      <th>wicket.player_out</th>\n",
       "      <th>batter</th>\n",
       "    </tr>\n",
       "    <tr>\n",
       "      <th></th>\n",
       "      <th></th>\n",
       "      <th></th>\n",
       "      <th>count</th>\n",
       "      <th>max</th>\n",
       "    </tr>\n",
       "    <tr>\n",
       "      <th>bowler</th>\n",
       "      <th>season</th>\n",
       "      <th>wicket.kind</th>\n",
       "      <th></th>\n",
       "      <th></th>\n",
       "    </tr>\n",
       "  </thead>\n",
       "  <tbody>\n",
       "    <tr>\n",
       "      <th rowspan=\"5\" valign=\"top\">A Ashish Reddy</th>\n",
       "      <th rowspan=\"3\" valign=\"top\">2012</th>\n",
       "      <th>bowled</th>\n",
       "      <td>2</td>\n",
       "      <td>RV Uthappa</td>\n",
       "    </tr>\n",
       "    <tr>\n",
       "      <th>caught</th>\n",
       "      <td>7</td>\n",
       "      <td>V Kohli</td>\n",
       "    </tr>\n",
       "    <tr>\n",
       "      <th>lbw</th>\n",
       "      <td>2</td>\n",
       "      <td>N Saini</td>\n",
       "    </tr>\n",
       "    <tr>\n",
       "      <th rowspan=\"2\" valign=\"top\">2013</th>\n",
       "      <th>bowled</th>\n",
       "      <td>2</td>\n",
       "      <td>LRPL Taylor</td>\n",
       "    </tr>\n",
       "    <tr>\n",
       "      <th>caught and bowled</th>\n",
       "      <td>1</td>\n",
       "      <td>V Kohli</td>\n",
       "    </tr>\n",
       "    <tr>\n",
       "      <th>...</th>\n",
       "      <th>...</th>\n",
       "      <th>...</th>\n",
       "      <td>...</td>\n",
       "      <td>...</td>\n",
       "    </tr>\n",
       "    <tr>\n",
       "      <th rowspan=\"5\" valign=\"top\">Z Khan</th>\n",
       "      <th rowspan=\"2\" valign=\"top\">2016</th>\n",
       "      <th>lbw</th>\n",
       "      <td>1</td>\n",
       "      <td>PP Chawla</td>\n",
       "    </tr>\n",
       "    <tr>\n",
       "      <th>run out</th>\n",
       "      <td>2</td>\n",
       "      <td>UT Yadav</td>\n",
       "    </tr>\n",
       "    <tr>\n",
       "      <th rowspan=\"3\" valign=\"top\">2017</th>\n",
       "      <th>bowled</th>\n",
       "      <td>1</td>\n",
       "      <td>AM Rahane</td>\n",
       "    </tr>\n",
       "    <tr>\n",
       "      <th>caught</th>\n",
       "      <td>9</td>\n",
       "      <td>V Kohli</td>\n",
       "    </tr>\n",
       "    <tr>\n",
       "      <th>run out</th>\n",
       "      <td>2</td>\n",
       "      <td>Vishnu Vinod</td>\n",
       "    </tr>\n",
       "  </tbody>\n",
       "</table>\n",
       "<p>4241 rows × 2 columns</p>\n",
       "</div>"
      ],
      "text/plain": [
       "                                        wicket.player_out        batter\n",
       "                                                    count           max\n",
       "bowler         season wicket.kind                                      \n",
       "A Ashish Reddy 2012   bowled                            2    RV Uthappa\n",
       "                      caught                            7       V Kohli\n",
       "                      lbw                               2       N Saini\n",
       "               2013   bowled                            2   LRPL Taylor\n",
       "                      caught and bowled                 1       V Kohli\n",
       "...                                                   ...           ...\n",
       "Z Khan         2016   lbw                               1     PP Chawla\n",
       "                      run out                           2      UT Yadav\n",
       "               2017   bowled                            1     AM Rahane\n",
       "                      caught                            9       V Kohli\n",
       "                      run out                           2  Vishnu Vinod\n",
       "\n",
       "[4241 rows x 2 columns]"
      ]
     },
     "execution_count": 25,
     "metadata": {},
     "output_type": "execute_result"
    }
   ],
   "source": [
    "bowler_perf = ball_by_ball.groupby(['bowler','season','wicket.kind']).agg({'wicket.player_out':['count'],'batter':['max']})\n",
    "bowler_perf\n"
   ]
  },
  {
   "cell_type": "code",
   "execution_count": 26,
   "metadata": {},
   "outputs": [
    {
     "data": {
      "text/html": [
       "<div>\n",
       "<style scoped>\n",
       "    .dataframe tbody tr th:only-of-type {\n",
       "        vertical-align: middle;\n",
       "    }\n",
       "\n",
       "    .dataframe tbody tr th {\n",
       "        vertical-align: top;\n",
       "    }\n",
       "\n",
       "    .dataframe thead tr th {\n",
       "        text-align: left;\n",
       "    }\n",
       "\n",
       "    .dataframe thead tr:last-of-type th {\n",
       "        text-align: right;\n",
       "    }\n",
       "</style>\n",
       "<table border=\"1\" class=\"dataframe\">\n",
       "  <thead>\n",
       "    <tr>\n",
       "      <th></th>\n",
       "      <th></th>\n",
       "      <th></th>\n",
       "      <th>wicket.player_out</th>\n",
       "      <th>runs.total</th>\n",
       "      <th>batter</th>\n",
       "    </tr>\n",
       "    <tr>\n",
       "      <th></th>\n",
       "      <th></th>\n",
       "      <th></th>\n",
       "      <th>count</th>\n",
       "      <th>sum</th>\n",
       "      <th>count</th>\n",
       "    </tr>\n",
       "    <tr>\n",
       "      <th>bowler</th>\n",
       "      <th>season</th>\n",
       "      <th>match_number</th>\n",
       "      <th></th>\n",
       "      <th></th>\n",
       "      <th></th>\n",
       "    </tr>\n",
       "  </thead>\n",
       "  <tbody>\n",
       "    <tr>\n",
       "      <th rowspan=\"5\" valign=\"top\">A Ashish Reddy</th>\n",
       "      <th rowspan=\"5\" valign=\"top\">2012</th>\n",
       "      <th>35</th>\n",
       "      <td>2</td>\n",
       "      <td>32</td>\n",
       "      <td>24</td>\n",
       "    </tr>\n",
       "    <tr>\n",
       "      <th>40</th>\n",
       "      <td>1</td>\n",
       "      <td>11</td>\n",
       "      <td>14</td>\n",
       "    </tr>\n",
       "    <tr>\n",
       "      <th>42</th>\n",
       "      <td>1</td>\n",
       "      <td>32</td>\n",
       "      <td>19</td>\n",
       "    </tr>\n",
       "    <tr>\n",
       "      <th>46</th>\n",
       "      <td>1</td>\n",
       "      <td>16</td>\n",
       "      <td>13</td>\n",
       "    </tr>\n",
       "    <tr>\n",
       "      <th>50</th>\n",
       "      <td>1</td>\n",
       "      <td>36</td>\n",
       "      <td>25</td>\n",
       "    </tr>\n",
       "    <tr>\n",
       "      <th>...</th>\n",
       "      <th>...</th>\n",
       "      <th>...</th>\n",
       "      <td>...</td>\n",
       "      <td>...</td>\n",
       "      <td>...</td>\n",
       "    </tr>\n",
       "    <tr>\n",
       "      <th rowspan=\"5\" valign=\"top\">Z Khan</th>\n",
       "      <th rowspan=\"5\" valign=\"top\">2017</th>\n",
       "      <th>32</th>\n",
       "      <td>0</td>\n",
       "      <td>9</td>\n",
       "      <td>7</td>\n",
       "    </tr>\n",
       "    <tr>\n",
       "      <th>45</th>\n",
       "      <td>0</td>\n",
       "      <td>30</td>\n",
       "      <td>24</td>\n",
       "    </tr>\n",
       "    <tr>\n",
       "      <th>50</th>\n",
       "      <td>0</td>\n",
       "      <td>35</td>\n",
       "      <td>24</td>\n",
       "    </tr>\n",
       "    <tr>\n",
       "      <th>52</th>\n",
       "      <td>2</td>\n",
       "      <td>25</td>\n",
       "      <td>25</td>\n",
       "    </tr>\n",
       "    <tr>\n",
       "      <th>56</th>\n",
       "      <td>2</td>\n",
       "      <td>32</td>\n",
       "      <td>25</td>\n",
       "    </tr>\n",
       "  </tbody>\n",
       "</table>\n",
       "<p>12978 rows × 3 columns</p>\n",
       "</div>"
      ],
      "text/plain": [
       "                                   wicket.player_out runs.total batter\n",
       "                                               count        sum  count\n",
       "bowler         season match_number                                    \n",
       "A Ashish Reddy 2012   35                           2         32     24\n",
       "                      40                           1         11     14\n",
       "                      42                           1         32     19\n",
       "                      46                           1         16     13\n",
       "                      50                           1         36     25\n",
       "...                                              ...        ...    ...\n",
       "Z Khan         2017   32                           0          9      7\n",
       "                      45                           0         30     24\n",
       "                      50                           0         35     24\n",
       "                      52                           2         25     25\n",
       "                      56                           2         32     25\n",
       "\n",
       "[12978 rows x 3 columns]"
      ]
     },
     "execution_count": 26,
     "metadata": {},
     "output_type": "execute_result"
    }
   ],
   "source": [
    "bowler_match_perf = ball_by_ball.groupby(['bowler','season','match_number']).agg({'wicket.player_out':['count'],'runs.total':['sum'],'batter':'count'})\n",
    "bowler_match_perf"
   ]
  },
  {
   "cell_type": "code",
   "execution_count": 27,
   "metadata": {},
   "outputs": [
    {
     "name": "stderr",
     "output_type": "stream",
     "text": [
      "/tmp/ipykernel_314418/3153631025.py:3: PerformanceWarning:\n",
      "\n",
      "dropping on a non-lexsorted multi-index without a level parameter may impact performance.\n",
      "\n"
     ]
    },
    {
     "data": {
      "text/html": [
       "<div>\n",
       "<style scoped>\n",
       "    .dataframe tbody tr th:only-of-type {\n",
       "        vertical-align: middle;\n",
       "    }\n",
       "\n",
       "    .dataframe tbody tr th {\n",
       "        vertical-align: top;\n",
       "    }\n",
       "\n",
       "    .dataframe thead th {\n",
       "        text-align: right;\n",
       "    }\n",
       "</style>\n",
       "<table border=\"1\" class=\"dataframe\">\n",
       "  <thead>\n",
       "    <tr style=\"text-align: right;\">\n",
       "      <th></th>\n",
       "      <th>season_</th>\n",
       "      <th>wicket.player_out_count</th>\n",
       "      <th>runs.total_sum</th>\n",
       "      <th>batter_count</th>\n",
       "    </tr>\n",
       "  </thead>\n",
       "  <tbody>\n",
       "    <tr>\n",
       "      <th>0</th>\n",
       "      <td>2013</td>\n",
       "      <td>0</td>\n",
       "      <td>35</td>\n",
       "      <td>24</td>\n",
       "    </tr>\n",
       "    <tr>\n",
       "      <th>1</th>\n",
       "      <td>2014</td>\n",
       "      <td>1</td>\n",
       "      <td>18</td>\n",
       "      <td>25</td>\n",
       "    </tr>\n",
       "    <tr>\n",
       "      <th>2</th>\n",
       "      <td>2014</td>\n",
       "      <td>2</td>\n",
       "      <td>17</td>\n",
       "      <td>24</td>\n",
       "    </tr>\n",
       "    <tr>\n",
       "      <th>3</th>\n",
       "      <td>2014</td>\n",
       "      <td>1</td>\n",
       "      <td>26</td>\n",
       "      <td>24</td>\n",
       "    </tr>\n",
       "    <tr>\n",
       "      <th>4</th>\n",
       "      <td>2014</td>\n",
       "      <td>1</td>\n",
       "      <td>17</td>\n",
       "      <td>18</td>\n",
       "    </tr>\n",
       "    <tr>\n",
       "      <th>...</th>\n",
       "      <td>...</td>\n",
       "      <td>...</td>\n",
       "      <td>...</td>\n",
       "      <td>...</td>\n",
       "    </tr>\n",
       "    <tr>\n",
       "      <th>154</th>\n",
       "      <td>2024</td>\n",
       "      <td>1</td>\n",
       "      <td>48</td>\n",
       "      <td>24</td>\n",
       "    </tr>\n",
       "    <tr>\n",
       "      <th>155</th>\n",
       "      <td>2024</td>\n",
       "      <td>1</td>\n",
       "      <td>22</td>\n",
       "      <td>25</td>\n",
       "    </tr>\n",
       "    <tr>\n",
       "      <th>156</th>\n",
       "      <td>2024</td>\n",
       "      <td>2</td>\n",
       "      <td>31</td>\n",
       "      <td>25</td>\n",
       "    </tr>\n",
       "    <tr>\n",
       "      <th>157</th>\n",
       "      <td>2024</td>\n",
       "      <td>1</td>\n",
       "      <td>43</td>\n",
       "      <td>24</td>\n",
       "    </tr>\n",
       "    <tr>\n",
       "      <th>158</th>\n",
       "      <td>2024</td>\n",
       "      <td>0</td>\n",
       "      <td>34</td>\n",
       "      <td>26</td>\n",
       "    </tr>\n",
       "  </tbody>\n",
       "</table>\n",
       "<p>159 rows × 4 columns</p>\n",
       "</div>"
      ],
      "text/plain": [
       "     season_  wicket.player_out_count  runs.total_sum  batter_count\n",
       "0       2013                        0              35            24\n",
       "1       2014                        1              18            25\n",
       "2       2014                        2              17            24\n",
       "3       2014                        1              26            24\n",
       "4       2014                        1              17            18\n",
       "..       ...                      ...             ...           ...\n",
       "154     2024                        1              48            24\n",
       "155     2024                        1              22            25\n",
       "156     2024                        2              31            25\n",
       "157     2024                        1              43            24\n",
       "158     2024                        0              34            26\n",
       "\n",
       "[159 rows x 4 columns]"
      ]
     },
     "execution_count": 27,
     "metadata": {},
     "output_type": "execute_result"
    }
   ],
   "source": [
    "ys_chahal_wicket = bowler_perf.loc['YS Chahal'].reset_index()\n",
    "ys_chahal_match = bowler_match_perf.loc['YS Chahal'].reset_index()\n",
    "ys_chahal_match.drop(columns='match_number',inplace=True)\n",
    "ys_chahal_match.columns = ['_'.join(col) for col in ys_chahal_match.columns]\n",
    "ys_chahal_match\n"
   ]
  },
  {
   "cell_type": "code",
   "execution_count": 28,
   "metadata": {},
   "outputs": [],
   "source": [
    "ys_chahal_match = ys_chahal_match.groupby('season_').agg({'wicket.player_out_count':'sum','runs.total_sum':'sum','batter_count':'sum'})\n",
    "# ys_chahal_match.columns = ['_'.join(col) for col in ys_chahal_match.columns]\n",
    "ys_chahal_wicket.columns = ['_'.join(col) for col in ys_chahal_wicket.columns]"
   ]
  },
  {
   "cell_type": "code",
   "execution_count": 29,
   "metadata": {},
   "outputs": [
    {
     "data": {
      "text/html": [
       "<div>\n",
       "<style scoped>\n",
       "    .dataframe tbody tr th:only-of-type {\n",
       "        vertical-align: middle;\n",
       "    }\n",
       "\n",
       "    .dataframe tbody tr th {\n",
       "        vertical-align: top;\n",
       "    }\n",
       "\n",
       "    .dataframe thead th {\n",
       "        text-align: right;\n",
       "    }\n",
       "</style>\n",
       "<table border=\"1\" class=\"dataframe\">\n",
       "  <thead>\n",
       "    <tr style=\"text-align: right;\">\n",
       "      <th></th>\n",
       "      <th>season_</th>\n",
       "      <th>wicket.player_out_count</th>\n",
       "      <th>runs.total_sum</th>\n",
       "      <th>batter_count</th>\n",
       "    </tr>\n",
       "  </thead>\n",
       "  <tbody>\n",
       "    <tr>\n",
       "      <th>0</th>\n",
       "      <td>2013</td>\n",
       "      <td>0</td>\n",
       "      <td>35</td>\n",
       "      <td>24</td>\n",
       "    </tr>\n",
       "    <tr>\n",
       "      <th>1</th>\n",
       "      <td>2014</td>\n",
       "      <td>12</td>\n",
       "      <td>389</td>\n",
       "      <td>333</td>\n",
       "    </tr>\n",
       "    <tr>\n",
       "      <th>2</th>\n",
       "      <td>2015</td>\n",
       "      <td>24</td>\n",
       "      <td>416</td>\n",
       "      <td>283</td>\n",
       "    </tr>\n",
       "    <tr>\n",
       "      <th>3</th>\n",
       "      <td>2016</td>\n",
       "      <td>22</td>\n",
       "      <td>409</td>\n",
       "      <td>308</td>\n",
       "    </tr>\n",
       "    <tr>\n",
       "      <th>4</th>\n",
       "      <td>2017</td>\n",
       "      <td>14</td>\n",
       "      <td>351</td>\n",
       "      <td>271</td>\n",
       "    </tr>\n",
       "    <tr>\n",
       "      <th>5</th>\n",
       "      <td>2018</td>\n",
       "      <td>12</td>\n",
       "      <td>374</td>\n",
       "      <td>313</td>\n",
       "    </tr>\n",
       "    <tr>\n",
       "      <th>6</th>\n",
       "      <td>2019</td>\n",
       "      <td>18</td>\n",
       "      <td>394</td>\n",
       "      <td>308</td>\n",
       "    </tr>\n",
       "    <tr>\n",
       "      <th>7</th>\n",
       "      <td>2020</td>\n",
       "      <td>22</td>\n",
       "      <td>414</td>\n",
       "      <td>348</td>\n",
       "    </tr>\n",
       "    <tr>\n",
       "      <th>8</th>\n",
       "      <td>2021</td>\n",
       "      <td>19</td>\n",
       "      <td>381</td>\n",
       "      <td>323</td>\n",
       "    </tr>\n",
       "    <tr>\n",
       "      <th>9</th>\n",
       "      <td>2022</td>\n",
       "      <td>29</td>\n",
       "      <td>536</td>\n",
       "      <td>429</td>\n",
       "    </tr>\n",
       "    <tr>\n",
       "      <th>10</th>\n",
       "      <td>2023</td>\n",
       "      <td>22</td>\n",
       "      <td>434</td>\n",
       "      <td>326</td>\n",
       "    </tr>\n",
       "    <tr>\n",
       "      <th>11</th>\n",
       "      <td>2024</td>\n",
       "      <td>19</td>\n",
       "      <td>548</td>\n",
       "      <td>362</td>\n",
       "    </tr>\n",
       "  </tbody>\n",
       "</table>\n",
       "</div>"
      ],
      "text/plain": [
       "    season_  wicket.player_out_count  runs.total_sum  batter_count\n",
       "0      2013                        0              35            24\n",
       "1      2014                       12             389           333\n",
       "2      2015                       24             416           283\n",
       "3      2016                       22             409           308\n",
       "4      2017                       14             351           271\n",
       "5      2018                       12             374           313\n",
       "6      2019                       18             394           308\n",
       "7      2020                       22             414           348\n",
       "8      2021                       19             381           323\n",
       "9      2022                       29             536           429\n",
       "10     2023                       22             434           326\n",
       "11     2024                       19             548           362"
      ]
     },
     "execution_count": 29,
     "metadata": {},
     "output_type": "execute_result"
    }
   ],
   "source": [
    "ys_chahal_match.reset_index(inplace=True)\n",
    "ys_chahal_match"
   ]
  },
  {
   "cell_type": "code",
   "execution_count": 30,
   "metadata": {},
   "outputs": [
    {
     "data": {
      "text/html": [
       "<div>\n",
       "<style scoped>\n",
       "    .dataframe tbody tr th:only-of-type {\n",
       "        vertical-align: middle;\n",
       "    }\n",
       "\n",
       "    .dataframe tbody tr th {\n",
       "        vertical-align: top;\n",
       "    }\n",
       "\n",
       "    .dataframe thead th {\n",
       "        text-align: right;\n",
       "    }\n",
       "</style>\n",
       "<table border=\"1\" class=\"dataframe\">\n",
       "  <thead>\n",
       "    <tr style=\"text-align: right;\">\n",
       "      <th></th>\n",
       "      <th>season_</th>\n",
       "      <th>wicket.kind_</th>\n",
       "      <th>wicket.player_out_count</th>\n",
       "      <th>batter_max</th>\n",
       "    </tr>\n",
       "  </thead>\n",
       "  <tbody>\n",
       "    <tr>\n",
       "      <th>0</th>\n",
       "      <td>2014</td>\n",
       "      <td>bowled</td>\n",
       "      <td>1</td>\n",
       "      <td>M Vijay</td>\n",
       "    </tr>\n",
       "    <tr>\n",
       "      <th>1</th>\n",
       "      <td>2014</td>\n",
       "      <td>caught</td>\n",
       "      <td>10</td>\n",
       "      <td>V Sehwag</td>\n",
       "    </tr>\n",
       "    <tr>\n",
       "      <th>2</th>\n",
       "      <td>2014</td>\n",
       "      <td>stumped</td>\n",
       "      <td>1</td>\n",
       "      <td>KP Pietersen</td>\n",
       "    </tr>\n",
       "    <tr>\n",
       "      <th>3</th>\n",
       "      <td>2015</td>\n",
       "      <td>bowled</td>\n",
       "      <td>4</td>\n",
       "      <td>SV Samson</td>\n",
       "    </tr>\n",
       "    <tr>\n",
       "      <th>4</th>\n",
       "      <td>2015</td>\n",
       "      <td>caught</td>\n",
       "      <td>14</td>\n",
       "      <td>Yuvraj Singh</td>\n",
       "    </tr>\n",
       "    <tr>\n",
       "      <th>5</th>\n",
       "      <td>2015</td>\n",
       "      <td>caught and bowled</td>\n",
       "      <td>1</td>\n",
       "      <td>Sandeep Sharma</td>\n",
       "    </tr>\n",
       "    <tr>\n",
       "      <th>6</th>\n",
       "      <td>2015</td>\n",
       "      <td>lbw</td>\n",
       "      <td>1</td>\n",
       "      <td>DA Warner</td>\n",
       "    </tr>\n",
       "    <tr>\n",
       "      <th>7</th>\n",
       "      <td>2015</td>\n",
       "      <td>run out</td>\n",
       "      <td>1</td>\n",
       "      <td>JP Duminy</td>\n",
       "    </tr>\n",
       "    <tr>\n",
       "      <th>8</th>\n",
       "      <td>2015</td>\n",
       "      <td>stumped</td>\n",
       "      <td>3</td>\n",
       "      <td>KS Williamson</td>\n",
       "    </tr>\n",
       "    <tr>\n",
       "      <th>9</th>\n",
       "      <td>2016</td>\n",
       "      <td>bowled</td>\n",
       "      <td>2</td>\n",
       "      <td>CA Lynn</td>\n",
       "    </tr>\n",
       "    <tr>\n",
       "      <th>10</th>\n",
       "      <td>2016</td>\n",
       "      <td>caught</td>\n",
       "      <td>14</td>\n",
       "      <td>SV Samson</td>\n",
       "    </tr>\n",
       "    <tr>\n",
       "      <th>11</th>\n",
       "      <td>2016</td>\n",
       "      <td>lbw</td>\n",
       "      <td>2</td>\n",
       "      <td>WP Saha</td>\n",
       "    </tr>\n",
       "    <tr>\n",
       "      <th>12</th>\n",
       "      <td>2016</td>\n",
       "      <td>run out</td>\n",
       "      <td>1</td>\n",
       "      <td>WP Saha</td>\n",
       "    </tr>\n",
       "    <tr>\n",
       "      <th>13</th>\n",
       "      <td>2016</td>\n",
       "      <td>stumped</td>\n",
       "      <td>3</td>\n",
       "      <td>YK Pathan</td>\n",
       "    </tr>\n",
       "    <tr>\n",
       "      <th>14</th>\n",
       "      <td>2017</td>\n",
       "      <td>bowled</td>\n",
       "      <td>2</td>\n",
       "      <td>CR Brathwaite</td>\n",
       "    </tr>\n",
       "    <tr>\n",
       "      <th>15</th>\n",
       "      <td>2017</td>\n",
       "      <td>caught</td>\n",
       "      <td>11</td>\n",
       "      <td>SK Raina</td>\n",
       "    </tr>\n",
       "    <tr>\n",
       "      <th>16</th>\n",
       "      <td>2017</td>\n",
       "      <td>stumped</td>\n",
       "      <td>1</td>\n",
       "      <td>YK Pathan</td>\n",
       "    </tr>\n",
       "    <tr>\n",
       "      <th>17</th>\n",
       "      <td>2018</td>\n",
       "      <td>bowled</td>\n",
       "      <td>6</td>\n",
       "      <td>RA Jadeja</td>\n",
       "    </tr>\n",
       "    <tr>\n",
       "      <th>18</th>\n",
       "      <td>2018</td>\n",
       "      <td>caught</td>\n",
       "      <td>3</td>\n",
       "      <td>MK Pandey</td>\n",
       "    </tr>\n",
       "    <tr>\n",
       "      <th>19</th>\n",
       "      <td>2018</td>\n",
       "      <td>caught and bowled</td>\n",
       "      <td>1</td>\n",
       "      <td>S Dhawan</td>\n",
       "    </tr>\n",
       "    <tr>\n",
       "      <th>20</th>\n",
       "      <td>2018</td>\n",
       "      <td>stumped</td>\n",
       "      <td>2</td>\n",
       "      <td>SW Billings</td>\n",
       "    </tr>\n",
       "    <tr>\n",
       "      <th>21</th>\n",
       "      <td>2019</td>\n",
       "      <td>bowled</td>\n",
       "      <td>4</td>\n",
       "      <td>SR Watson</td>\n",
       "    </tr>\n",
       "    <tr>\n",
       "      <th>22</th>\n",
       "      <td>2019</td>\n",
       "      <td>caught</td>\n",
       "      <td>10</td>\n",
       "      <td>Yuvraj Singh</td>\n",
       "    </tr>\n",
       "    <tr>\n",
       "      <th>23</th>\n",
       "      <td>2019</td>\n",
       "      <td>lbw</td>\n",
       "      <td>2</td>\n",
       "      <td>RR Pant</td>\n",
       "    </tr>\n",
       "    <tr>\n",
       "      <th>24</th>\n",
       "      <td>2019</td>\n",
       "      <td>stumped</td>\n",
       "      <td>2</td>\n",
       "      <td>KL Rahul</td>\n",
       "    </tr>\n",
       "    <tr>\n",
       "      <th>25</th>\n",
       "      <td>2020</td>\n",
       "      <td>bowled</td>\n",
       "      <td>6</td>\n",
       "      <td>V Shankar</td>\n",
       "    </tr>\n",
       "    <tr>\n",
       "      <th>26</th>\n",
       "      <td>2020</td>\n",
       "      <td>caught</td>\n",
       "      <td>12</td>\n",
       "      <td>SV Samson</td>\n",
       "    </tr>\n",
       "    <tr>\n",
       "      <th>27</th>\n",
       "      <td>2020</td>\n",
       "      <td>caught and bowled</td>\n",
       "      <td>1</td>\n",
       "      <td>SV Samson</td>\n",
       "    </tr>\n",
       "    <tr>\n",
       "      <th>28</th>\n",
       "      <td>2020</td>\n",
       "      <td>lbw</td>\n",
       "      <td>1</td>\n",
       "      <td>KD Karthik</td>\n",
       "    </tr>\n",
       "    <tr>\n",
       "      <th>29</th>\n",
       "      <td>2020</td>\n",
       "      <td>run out</td>\n",
       "      <td>1</td>\n",
       "      <td>KL Rahul</td>\n",
       "    </tr>\n",
       "    <tr>\n",
       "      <th>30</th>\n",
       "      <td>2020</td>\n",
       "      <td>stumped</td>\n",
       "      <td>1</td>\n",
       "      <td>WP Saha</td>\n",
       "    </tr>\n",
       "    <tr>\n",
       "      <th>31</th>\n",
       "      <td>2021</td>\n",
       "      <td>bowled</td>\n",
       "      <td>3</td>\n",
       "      <td>SN Khan</td>\n",
       "    </tr>\n",
       "    <tr>\n",
       "      <th>32</th>\n",
       "      <td>2021</td>\n",
       "      <td>caught</td>\n",
       "      <td>11</td>\n",
       "      <td>Shubman Gill</td>\n",
       "    </tr>\n",
       "    <tr>\n",
       "      <th>33</th>\n",
       "      <td>2021</td>\n",
       "      <td>lbw</td>\n",
       "      <td>3</td>\n",
       "      <td>RA Tripathi</td>\n",
       "    </tr>\n",
       "    <tr>\n",
       "      <th>34</th>\n",
       "      <td>2021</td>\n",
       "      <td>run out</td>\n",
       "      <td>1</td>\n",
       "      <td>CA Lynn</td>\n",
       "    </tr>\n",
       "    <tr>\n",
       "      <th>35</th>\n",
       "      <td>2021</td>\n",
       "      <td>stumped</td>\n",
       "      <td>1</td>\n",
       "      <td>MK Lomror</td>\n",
       "    </tr>\n",
       "    <tr>\n",
       "      <th>36</th>\n",
       "      <td>2022</td>\n",
       "      <td>bowled</td>\n",
       "      <td>5</td>\n",
       "      <td>R Shepherd</td>\n",
       "    </tr>\n",
       "    <tr>\n",
       "      <th>37</th>\n",
       "      <td>2022</td>\n",
       "      <td>caught</td>\n",
       "      <td>16</td>\n",
       "      <td>Shivam Mavi</td>\n",
       "    </tr>\n",
       "    <tr>\n",
       "      <th>38</th>\n",
       "      <td>2022</td>\n",
       "      <td>lbw</td>\n",
       "      <td>4</td>\n",
       "      <td>TH David</td>\n",
       "    </tr>\n",
       "    <tr>\n",
       "      <th>39</th>\n",
       "      <td>2022</td>\n",
       "      <td>run out</td>\n",
       "      <td>2</td>\n",
       "      <td>Shahbaz Ahmed</td>\n",
       "    </tr>\n",
       "    <tr>\n",
       "      <th>40</th>\n",
       "      <td>2022</td>\n",
       "      <td>stumped</td>\n",
       "      <td>2</td>\n",
       "      <td>VR Iyer</td>\n",
       "    </tr>\n",
       "    <tr>\n",
       "      <th>41</th>\n",
       "      <td>2023</td>\n",
       "      <td>bowled</td>\n",
       "      <td>2</td>\n",
       "      <td>HC Brook</td>\n",
       "    </tr>\n",
       "    <tr>\n",
       "      <th>42</th>\n",
       "      <td>2023</td>\n",
       "      <td>caught</td>\n",
       "      <td>13</td>\n",
       "      <td>VR Iyer</td>\n",
       "    </tr>\n",
       "    <tr>\n",
       "      <th>43</th>\n",
       "      <td>2023</td>\n",
       "      <td>lbw</td>\n",
       "      <td>3</td>\n",
       "      <td>SN Thakur</td>\n",
       "    </tr>\n",
       "    <tr>\n",
       "      <th>44</th>\n",
       "      <td>2023</td>\n",
       "      <td>run out</td>\n",
       "      <td>1</td>\n",
       "      <td>SS Prabhudessai</td>\n",
       "    </tr>\n",
       "    <tr>\n",
       "      <th>45</th>\n",
       "      <td>2023</td>\n",
       "      <td>stumped</td>\n",
       "      <td>3</td>\n",
       "      <td>Shubman Gill</td>\n",
       "    </tr>\n",
       "    <tr>\n",
       "      <th>46</th>\n",
       "      <td>2024</td>\n",
       "      <td>bowled</td>\n",
       "      <td>1</td>\n",
       "      <td>V Shankar</td>\n",
       "    </tr>\n",
       "    <tr>\n",
       "      <th>47</th>\n",
       "      <td>2024</td>\n",
       "      <td>caught</td>\n",
       "      <td>13</td>\n",
       "      <td>V Kohli</td>\n",
       "    </tr>\n",
       "    <tr>\n",
       "      <th>48</th>\n",
       "      <td>2024</td>\n",
       "      <td>caught and bowled</td>\n",
       "      <td>1</td>\n",
       "      <td>Mohammad Nabi</td>\n",
       "    </tr>\n",
       "    <tr>\n",
       "      <th>49</th>\n",
       "      <td>2024</td>\n",
       "      <td>lbw</td>\n",
       "      <td>2</td>\n",
       "      <td>SS Iyer</td>\n",
       "    </tr>\n",
       "    <tr>\n",
       "      <th>50</th>\n",
       "      <td>2024</td>\n",
       "      <td>run out</td>\n",
       "      <td>1</td>\n",
       "      <td>Ashutosh Sharma</td>\n",
       "    </tr>\n",
       "    <tr>\n",
       "      <th>51</th>\n",
       "      <td>2024</td>\n",
       "      <td>stumped</td>\n",
       "      <td>1</td>\n",
       "      <td>Shubman Gill</td>\n",
       "    </tr>\n",
       "  </tbody>\n",
       "</table>\n",
       "</div>"
      ],
      "text/plain": [
       "    season_       wicket.kind_  wicket.player_out_count       batter_max\n",
       "0      2014             bowled                        1          M Vijay\n",
       "1      2014             caught                       10         V Sehwag\n",
       "2      2014            stumped                        1     KP Pietersen\n",
       "3      2015             bowled                        4        SV Samson\n",
       "4      2015             caught                       14     Yuvraj Singh\n",
       "5      2015  caught and bowled                        1   Sandeep Sharma\n",
       "6      2015                lbw                        1        DA Warner\n",
       "7      2015            run out                        1        JP Duminy\n",
       "8      2015            stumped                        3    KS Williamson\n",
       "9      2016             bowled                        2          CA Lynn\n",
       "10     2016             caught                       14        SV Samson\n",
       "11     2016                lbw                        2          WP Saha\n",
       "12     2016            run out                        1          WP Saha\n",
       "13     2016            stumped                        3        YK Pathan\n",
       "14     2017             bowled                        2    CR Brathwaite\n",
       "15     2017             caught                       11         SK Raina\n",
       "16     2017            stumped                        1        YK Pathan\n",
       "17     2018             bowled                        6        RA Jadeja\n",
       "18     2018             caught                        3        MK Pandey\n",
       "19     2018  caught and bowled                        1         S Dhawan\n",
       "20     2018            stumped                        2      SW Billings\n",
       "21     2019             bowled                        4        SR Watson\n",
       "22     2019             caught                       10     Yuvraj Singh\n",
       "23     2019                lbw                        2          RR Pant\n",
       "24     2019            stumped                        2         KL Rahul\n",
       "25     2020             bowled                        6        V Shankar\n",
       "26     2020             caught                       12        SV Samson\n",
       "27     2020  caught and bowled                        1        SV Samson\n",
       "28     2020                lbw                        1       KD Karthik\n",
       "29     2020            run out                        1         KL Rahul\n",
       "30     2020            stumped                        1          WP Saha\n",
       "31     2021             bowled                        3          SN Khan\n",
       "32     2021             caught                       11     Shubman Gill\n",
       "33     2021                lbw                        3      RA Tripathi\n",
       "34     2021            run out                        1          CA Lynn\n",
       "35     2021            stumped                        1        MK Lomror\n",
       "36     2022             bowled                        5       R Shepherd\n",
       "37     2022             caught                       16      Shivam Mavi\n",
       "38     2022                lbw                        4         TH David\n",
       "39     2022            run out                        2    Shahbaz Ahmed\n",
       "40     2022            stumped                        2          VR Iyer\n",
       "41     2023             bowled                        2         HC Brook\n",
       "42     2023             caught                       13          VR Iyer\n",
       "43     2023                lbw                        3        SN Thakur\n",
       "44     2023            run out                        1  SS Prabhudessai\n",
       "45     2023            stumped                        3     Shubman Gill\n",
       "46     2024             bowled                        1        V Shankar\n",
       "47     2024             caught                       13          V Kohli\n",
       "48     2024  caught and bowled                        1    Mohammad Nabi\n",
       "49     2024                lbw                        2          SS Iyer\n",
       "50     2024            run out                        1  Ashutosh Sharma\n",
       "51     2024            stumped                        1     Shubman Gill"
      ]
     },
     "execution_count": 30,
     "metadata": {},
     "output_type": "execute_result"
    }
   ],
   "source": [
    "ys_chahal_wicket"
   ]
  },
  {
   "cell_type": "code",
   "execution_count": 31,
   "metadata": {},
   "outputs": [
    {
     "data": {
      "application/vnd.plotly.v1+json": {
       "config": {
        "plotlyServerURL": "https://plot.ly"
       },
       "data": [
        {
         "hovertemplate": "season_=%{x}<br>wicket.player_out_count=%{y}<br>size=%{marker.size}<br>color=%{marker.color}<extra></extra>",
         "legendgroup": "",
         "marker": {
          "color": [
           6.596051125860017,
           2.1753384642698235,
           6.863323592338491,
           4.129171846123734,
           3.6449294607114493,
           2.435770258335323,
           3.425528038383687,
           2.382898181679145,
           2.2835591568370797,
           3.044650787612084,
           4.181774858313239,
           7.949868404301762
          ],
          "coloraxis": "coloraxis",
          "size": [
           52521875,
           8907339520949,
           12458525720576,
           11445019581049,
           5327648726751,
           7317420470624,
           9494696984224,
           12161907769824,
           8028323765901,
           44240899506176,
           15397444507424,
           49420005843968
          ],
          "sizemode": "area",
          "sizeref": 123550014609.92,
          "symbol": "circle"
         },
         "mode": "markers",
         "name": "",
         "orientation": "v",
         "showlegend": false,
         "type": "scatter",
         "x": [
          2013,
          2014,
          2015,
          2016,
          2017,
          2018,
          2019,
          2020,
          2021,
          2022,
          2023,
          2024
         ],
         "xaxis": "x",
         "y": [
          0,
          12,
          24,
          22,
          14,
          12,
          18,
          22,
          19,
          29,
          22,
          19
         ],
         "yaxis": "y"
        }
       ],
       "layout": {
        "coloraxis": {
         "colorbar": {
          "title": {
           "text": "color"
          }
         },
         "colorscale": [
          [
           0,
           "#0d0887"
          ],
          [
           0.1111111111111111,
           "#46039f"
          ],
          [
           0.2222222222222222,
           "#7201a8"
          ],
          [
           0.3333333333333333,
           "#9c179e"
          ],
          [
           0.4444444444444444,
           "#bd3786"
          ],
          [
           0.5555555555555556,
           "#d8576b"
          ],
          [
           0.6666666666666666,
           "#ed7953"
          ],
          [
           0.7777777777777778,
           "#fb9f3a"
          ],
          [
           0.8888888888888888,
           "#fdca26"
          ],
          [
           1,
           "#f0f921"
          ]
         ]
        },
        "legend": {
         "itemsizing": "constant",
         "tracegroupgap": 0
        },
        "template": {
         "data": {
          "bar": [
           {
            "error_x": {
             "color": "#2a3f5f"
            },
            "error_y": {
             "color": "#2a3f5f"
            },
            "marker": {
             "line": {
              "color": "#E5ECF6",
              "width": 0.5
             },
             "pattern": {
              "fillmode": "overlay",
              "size": 10,
              "solidity": 0.2
             }
            },
            "type": "bar"
           }
          ],
          "barpolar": [
           {
            "marker": {
             "line": {
              "color": "#E5ECF6",
              "width": 0.5
             },
             "pattern": {
              "fillmode": "overlay",
              "size": 10,
              "solidity": 0.2
             }
            },
            "type": "barpolar"
           }
          ],
          "carpet": [
           {
            "aaxis": {
             "endlinecolor": "#2a3f5f",
             "gridcolor": "white",
             "linecolor": "white",
             "minorgridcolor": "white",
             "startlinecolor": "#2a3f5f"
            },
            "baxis": {
             "endlinecolor": "#2a3f5f",
             "gridcolor": "white",
             "linecolor": "white",
             "minorgridcolor": "white",
             "startlinecolor": "#2a3f5f"
            },
            "type": "carpet"
           }
          ],
          "choropleth": [
           {
            "colorbar": {
             "outlinewidth": 0,
             "ticks": ""
            },
            "type": "choropleth"
           }
          ],
          "contour": [
           {
            "colorbar": {
             "outlinewidth": 0,
             "ticks": ""
            },
            "colorscale": [
             [
              0,
              "#0d0887"
             ],
             [
              0.1111111111111111,
              "#46039f"
             ],
             [
              0.2222222222222222,
              "#7201a8"
             ],
             [
              0.3333333333333333,
              "#9c179e"
             ],
             [
              0.4444444444444444,
              "#bd3786"
             ],
             [
              0.5555555555555556,
              "#d8576b"
             ],
             [
              0.6666666666666666,
              "#ed7953"
             ],
             [
              0.7777777777777778,
              "#fb9f3a"
             ],
             [
              0.8888888888888888,
              "#fdca26"
             ],
             [
              1,
              "#f0f921"
             ]
            ],
            "type": "contour"
           }
          ],
          "contourcarpet": [
           {
            "colorbar": {
             "outlinewidth": 0,
             "ticks": ""
            },
            "type": "contourcarpet"
           }
          ],
          "heatmap": [
           {
            "colorbar": {
             "outlinewidth": 0,
             "ticks": ""
            },
            "colorscale": [
             [
              0,
              "#0d0887"
             ],
             [
              0.1111111111111111,
              "#46039f"
             ],
             [
              0.2222222222222222,
              "#7201a8"
             ],
             [
              0.3333333333333333,
              "#9c179e"
             ],
             [
              0.4444444444444444,
              "#bd3786"
             ],
             [
              0.5555555555555556,
              "#d8576b"
             ],
             [
              0.6666666666666666,
              "#ed7953"
             ],
             [
              0.7777777777777778,
              "#fb9f3a"
             ],
             [
              0.8888888888888888,
              "#fdca26"
             ],
             [
              1,
              "#f0f921"
             ]
            ],
            "type": "heatmap"
           }
          ],
          "heatmapgl": [
           {
            "colorbar": {
             "outlinewidth": 0,
             "ticks": ""
            },
            "colorscale": [
             [
              0,
              "#0d0887"
             ],
             [
              0.1111111111111111,
              "#46039f"
             ],
             [
              0.2222222222222222,
              "#7201a8"
             ],
             [
              0.3333333333333333,
              "#9c179e"
             ],
             [
              0.4444444444444444,
              "#bd3786"
             ],
             [
              0.5555555555555556,
              "#d8576b"
             ],
             [
              0.6666666666666666,
              "#ed7953"
             ],
             [
              0.7777777777777778,
              "#fb9f3a"
             ],
             [
              0.8888888888888888,
              "#fdca26"
             ],
             [
              1,
              "#f0f921"
             ]
            ],
            "type": "heatmapgl"
           }
          ],
          "histogram": [
           {
            "marker": {
             "pattern": {
              "fillmode": "overlay",
              "size": 10,
              "solidity": 0.2
             }
            },
            "type": "histogram"
           }
          ],
          "histogram2d": [
           {
            "colorbar": {
             "outlinewidth": 0,
             "ticks": ""
            },
            "colorscale": [
             [
              0,
              "#0d0887"
             ],
             [
              0.1111111111111111,
              "#46039f"
             ],
             [
              0.2222222222222222,
              "#7201a8"
             ],
             [
              0.3333333333333333,
              "#9c179e"
             ],
             [
              0.4444444444444444,
              "#bd3786"
             ],
             [
              0.5555555555555556,
              "#d8576b"
             ],
             [
              0.6666666666666666,
              "#ed7953"
             ],
             [
              0.7777777777777778,
              "#fb9f3a"
             ],
             [
              0.8888888888888888,
              "#fdca26"
             ],
             [
              1,
              "#f0f921"
             ]
            ],
            "type": "histogram2d"
           }
          ],
          "histogram2dcontour": [
           {
            "colorbar": {
             "outlinewidth": 0,
             "ticks": ""
            },
            "colorscale": [
             [
              0,
              "#0d0887"
             ],
             [
              0.1111111111111111,
              "#46039f"
             ],
             [
              0.2222222222222222,
              "#7201a8"
             ],
             [
              0.3333333333333333,
              "#9c179e"
             ],
             [
              0.4444444444444444,
              "#bd3786"
             ],
             [
              0.5555555555555556,
              "#d8576b"
             ],
             [
              0.6666666666666666,
              "#ed7953"
             ],
             [
              0.7777777777777778,
              "#fb9f3a"
             ],
             [
              0.8888888888888888,
              "#fdca26"
             ],
             [
              1,
              "#f0f921"
             ]
            ],
            "type": "histogram2dcontour"
           }
          ],
          "mesh3d": [
           {
            "colorbar": {
             "outlinewidth": 0,
             "ticks": ""
            },
            "type": "mesh3d"
           }
          ],
          "parcoords": [
           {
            "line": {
             "colorbar": {
              "outlinewidth": 0,
              "ticks": ""
             }
            },
            "type": "parcoords"
           }
          ],
          "pie": [
           {
            "automargin": true,
            "type": "pie"
           }
          ],
          "scatter": [
           {
            "fillpattern": {
             "fillmode": "overlay",
             "size": 10,
             "solidity": 0.2
            },
            "type": "scatter"
           }
          ],
          "scatter3d": [
           {
            "line": {
             "colorbar": {
              "outlinewidth": 0,
              "ticks": ""
             }
            },
            "marker": {
             "colorbar": {
              "outlinewidth": 0,
              "ticks": ""
             }
            },
            "type": "scatter3d"
           }
          ],
          "scattercarpet": [
           {
            "marker": {
             "colorbar": {
              "outlinewidth": 0,
              "ticks": ""
             }
            },
            "type": "scattercarpet"
           }
          ],
          "scattergeo": [
           {
            "marker": {
             "colorbar": {
              "outlinewidth": 0,
              "ticks": ""
             }
            },
            "type": "scattergeo"
           }
          ],
          "scattergl": [
           {
            "marker": {
             "colorbar": {
              "outlinewidth": 0,
              "ticks": ""
             }
            },
            "type": "scattergl"
           }
          ],
          "scattermapbox": [
           {
            "marker": {
             "colorbar": {
              "outlinewidth": 0,
              "ticks": ""
             }
            },
            "type": "scattermapbox"
           }
          ],
          "scatterpolar": [
           {
            "marker": {
             "colorbar": {
              "outlinewidth": 0,
              "ticks": ""
             }
            },
            "type": "scatterpolar"
           }
          ],
          "scatterpolargl": [
           {
            "marker": {
             "colorbar": {
              "outlinewidth": 0,
              "ticks": ""
             }
            },
            "type": "scatterpolargl"
           }
          ],
          "scatterternary": [
           {
            "marker": {
             "colorbar": {
              "outlinewidth": 0,
              "ticks": ""
             }
            },
            "type": "scatterternary"
           }
          ],
          "surface": [
           {
            "colorbar": {
             "outlinewidth": 0,
             "ticks": ""
            },
            "colorscale": [
             [
              0,
              "#0d0887"
             ],
             [
              0.1111111111111111,
              "#46039f"
             ],
             [
              0.2222222222222222,
              "#7201a8"
             ],
             [
              0.3333333333333333,
              "#9c179e"
             ],
             [
              0.4444444444444444,
              "#bd3786"
             ],
             [
              0.5555555555555556,
              "#d8576b"
             ],
             [
              0.6666666666666666,
              "#ed7953"
             ],
             [
              0.7777777777777778,
              "#fb9f3a"
             ],
             [
              0.8888888888888888,
              "#fdca26"
             ],
             [
              1,
              "#f0f921"
             ]
            ],
            "type": "surface"
           }
          ],
          "table": [
           {
            "cells": {
             "fill": {
              "color": "#EBF0F8"
             },
             "line": {
              "color": "white"
             }
            },
            "header": {
             "fill": {
              "color": "#C8D4E3"
             },
             "line": {
              "color": "white"
             }
            },
            "type": "table"
           }
          ]
         },
         "layout": {
          "annotationdefaults": {
           "arrowcolor": "#2a3f5f",
           "arrowhead": 0,
           "arrowwidth": 1
          },
          "autotypenumbers": "strict",
          "coloraxis": {
           "colorbar": {
            "outlinewidth": 0,
            "ticks": ""
           }
          },
          "colorscale": {
           "diverging": [
            [
             0,
             "#8e0152"
            ],
            [
             0.1,
             "#c51b7d"
            ],
            [
             0.2,
             "#de77ae"
            ],
            [
             0.3,
             "#f1b6da"
            ],
            [
             0.4,
             "#fde0ef"
            ],
            [
             0.5,
             "#f7f7f7"
            ],
            [
             0.6,
             "#e6f5d0"
            ],
            [
             0.7,
             "#b8e186"
            ],
            [
             0.8,
             "#7fbc41"
            ],
            [
             0.9,
             "#4d9221"
            ],
            [
             1,
             "#276419"
            ]
           ],
           "sequential": [
            [
             0,
             "#0d0887"
            ],
            [
             0.1111111111111111,
             "#46039f"
            ],
            [
             0.2222222222222222,
             "#7201a8"
            ],
            [
             0.3333333333333333,
             "#9c179e"
            ],
            [
             0.4444444444444444,
             "#bd3786"
            ],
            [
             0.5555555555555556,
             "#d8576b"
            ],
            [
             0.6666666666666666,
             "#ed7953"
            ],
            [
             0.7777777777777778,
             "#fb9f3a"
            ],
            [
             0.8888888888888888,
             "#fdca26"
            ],
            [
             1,
             "#f0f921"
            ]
           ],
           "sequentialminus": [
            [
             0,
             "#0d0887"
            ],
            [
             0.1111111111111111,
             "#46039f"
            ],
            [
             0.2222222222222222,
             "#7201a8"
            ],
            [
             0.3333333333333333,
             "#9c179e"
            ],
            [
             0.4444444444444444,
             "#bd3786"
            ],
            [
             0.5555555555555556,
             "#d8576b"
            ],
            [
             0.6666666666666666,
             "#ed7953"
            ],
            [
             0.7777777777777778,
             "#fb9f3a"
            ],
            [
             0.8888888888888888,
             "#fdca26"
            ],
            [
             1,
             "#f0f921"
            ]
           ]
          },
          "colorway": [
           "#636efa",
           "#EF553B",
           "#00cc96",
           "#ab63fa",
           "#FFA15A",
           "#19d3f3",
           "#FF6692",
           "#B6E880",
           "#FF97FF",
           "#FECB52"
          ],
          "font": {
           "color": "#2a3f5f"
          },
          "geo": {
           "bgcolor": "white",
           "lakecolor": "white",
           "landcolor": "#E5ECF6",
           "showlakes": true,
           "showland": true,
           "subunitcolor": "white"
          },
          "hoverlabel": {
           "align": "left"
          },
          "hovermode": "closest",
          "mapbox": {
           "style": "light"
          },
          "paper_bgcolor": "white",
          "plot_bgcolor": "#E5ECF6",
          "polar": {
           "angularaxis": {
            "gridcolor": "white",
            "linecolor": "white",
            "ticks": ""
           },
           "bgcolor": "#E5ECF6",
           "radialaxis": {
            "gridcolor": "white",
            "linecolor": "white",
            "ticks": ""
           }
          },
          "scene": {
           "xaxis": {
            "backgroundcolor": "#E5ECF6",
            "gridcolor": "white",
            "gridwidth": 2,
            "linecolor": "white",
            "showbackground": true,
            "ticks": "",
            "zerolinecolor": "white"
           },
           "yaxis": {
            "backgroundcolor": "#E5ECF6",
            "gridcolor": "white",
            "gridwidth": 2,
            "linecolor": "white",
            "showbackground": true,
            "ticks": "",
            "zerolinecolor": "white"
           },
           "zaxis": {
            "backgroundcolor": "#E5ECF6",
            "gridcolor": "white",
            "gridwidth": 2,
            "linecolor": "white",
            "showbackground": true,
            "ticks": "",
            "zerolinecolor": "white"
           }
          },
          "shapedefaults": {
           "line": {
            "color": "#2a3f5f"
           }
          },
          "ternary": {
           "aaxis": {
            "gridcolor": "white",
            "linecolor": "white",
            "ticks": ""
           },
           "baxis": {
            "gridcolor": "white",
            "linecolor": "white",
            "ticks": ""
           },
           "bgcolor": "#E5ECF6",
           "caxis": {
            "gridcolor": "white",
            "linecolor": "white",
            "ticks": ""
           }
          },
          "title": {
           "x": 0.05
          },
          "xaxis": {
           "automargin": true,
           "gridcolor": "white",
           "linecolor": "white",
           "ticks": "",
           "title": {
            "standoff": 15
           },
           "zerolinecolor": "white",
           "zerolinewidth": 2
          },
          "yaxis": {
           "automargin": true,
           "gridcolor": "white",
           "linecolor": "white",
           "ticks": "",
           "title": {
            "standoff": 15
           },
           "zerolinecolor": "white",
           "zerolinewidth": 2
          }
         }
        },
        "title": {
         "text": "Yuzvendra Wicket Trend"
        },
        "xaxis": {
         "anchor": "y",
         "domain": [
          0,
          1
         ],
         "title": {
          "text": "season_"
         }
        },
        "yaxis": {
         "anchor": "x",
         "domain": [
          0,
          1
         ],
         "title": {
          "text": "wicket.player_out_count"
         }
        }
       }
      }
     },
     "metadata": {},
     "output_type": "display_data"
    }
   ],
   "source": [
    "gapminder(df=ys_chahal_match,x_col=ys_chahal_match['season_'],y_col=ys_chahal_match['wicket.player_out_count'],size_col=ys_chahal_match['runs.total_sum']**5,color_col=(ys_chahal_match['runs.total_sum']/ys_chahal_match['batter_count'])**5,title=\"Yuzvendra Wicket Trend\")"
   ]
  },
  {
   "cell_type": "code",
   "execution_count": 32,
   "metadata": {},
   "outputs": [
    {
     "data": {
      "text/plain": [
       "array(['bowled', 'caught', 'stumped', 'caught and bowled', 'lbw',\n",
       "       'run out'], dtype=object)"
      ]
     },
     "execution_count": 32,
     "metadata": {},
     "output_type": "execute_result"
    }
   ],
   "source": [
    "ys_chahal_wicket['wicket.kind_'].unique()"
   ]
  },
  {
   "cell_type": "code",
   "execution_count": 33,
   "metadata": {},
   "outputs": [],
   "source": [
    "ys_chahal_wicket['wicket_kind_no'] = [['bowled', 'caught', 'stumped', 'caught and bowled', 'lbw',\n",
    "       'run out'].index(value) for value in ys_chahal_wicket['wicket.kind_']]"
   ]
  },
  {
   "cell_type": "code",
   "execution_count": 34,
   "metadata": {},
   "outputs": [
    {
     "name": "stdout",
     "output_type": "stream",
     "text": [
      "{'0': 'bowled', '1': 'caught', '2': 'stumped', '3': 'caught and bowled', '4': 'stumped', '5': 'lbw'}\n"
     ]
    },
    {
     "data": {
      "application/vnd.plotly.v1+json": {
       "config": {
        "plotlyServerURL": "https://plot.ly"
       },
       "data": [
        {
         "dimensions": [
          {
           "label": "season_",
           "values": [
            2014,
            2014,
            2014,
            2015,
            2015,
            2015,
            2015,
            2015,
            2015,
            2016,
            2016,
            2016,
            2016,
            2016,
            2017,
            2017,
            2017,
            2018,
            2018,
            2018,
            2018,
            2019,
            2019,
            2019,
            2019,
            2020,
            2020,
            2020,
            2020,
            2020,
            2020,
            2021,
            2021,
            2021,
            2021,
            2021,
            2022,
            2022,
            2022,
            2022,
            2022,
            2023,
            2023,
            2023,
            2023,
            2023,
            2024,
            2024,
            2024,
            2024,
            2024,
            2024
           ]
          },
          {
           "label": "wicket.player_out_count",
           "values": [
            1,
            10,
            1,
            4,
            14,
            1,
            1,
            1,
            3,
            2,
            14,
            2,
            1,
            3,
            2,
            11,
            1,
            6,
            3,
            1,
            2,
            4,
            10,
            2,
            2,
            6,
            12,
            1,
            1,
            1,
            1,
            3,
            11,
            3,
            1,
            1,
            5,
            16,
            4,
            2,
            2,
            2,
            13,
            3,
            1,
            3,
            1,
            13,
            1,
            2,
            1,
            1
           ]
          },
          {
           "label": "wicket_kind_no",
           "values": [
            0,
            1,
            2,
            0,
            1,
            3,
            4,
            5,
            2,
            0,
            1,
            4,
            5,
            2,
            0,
            1,
            2,
            0,
            1,
            3,
            2,
            0,
            1,
            4,
            2,
            0,
            1,
            3,
            4,
            5,
            2,
            0,
            1,
            4,
            5,
            2,
            0,
            1,
            4,
            5,
            2,
            0,
            1,
            4,
            5,
            2,
            0,
            1,
            3,
            4,
            5,
            2
           ]
          }
         ],
         "domain": {
          "x": [
           0,
           1
          ],
          "y": [
           0,
           1
          ]
         },
         "name": "",
         "type": "parcoords"
        }
       ],
       "layout": {
        "legend": {
         "tracegroupgap": 0
        },
        "template": {
         "data": {
          "bar": [
           {
            "error_x": {
             "color": "#2a3f5f"
            },
            "error_y": {
             "color": "#2a3f5f"
            },
            "marker": {
             "line": {
              "color": "#E5ECF6",
              "width": 0.5
             },
             "pattern": {
              "fillmode": "overlay",
              "size": 10,
              "solidity": 0.2
             }
            },
            "type": "bar"
           }
          ],
          "barpolar": [
           {
            "marker": {
             "line": {
              "color": "#E5ECF6",
              "width": 0.5
             },
             "pattern": {
              "fillmode": "overlay",
              "size": 10,
              "solidity": 0.2
             }
            },
            "type": "barpolar"
           }
          ],
          "carpet": [
           {
            "aaxis": {
             "endlinecolor": "#2a3f5f",
             "gridcolor": "white",
             "linecolor": "white",
             "minorgridcolor": "white",
             "startlinecolor": "#2a3f5f"
            },
            "baxis": {
             "endlinecolor": "#2a3f5f",
             "gridcolor": "white",
             "linecolor": "white",
             "minorgridcolor": "white",
             "startlinecolor": "#2a3f5f"
            },
            "type": "carpet"
           }
          ],
          "choropleth": [
           {
            "colorbar": {
             "outlinewidth": 0,
             "ticks": ""
            },
            "type": "choropleth"
           }
          ],
          "contour": [
           {
            "colorbar": {
             "outlinewidth": 0,
             "ticks": ""
            },
            "colorscale": [
             [
              0,
              "#0d0887"
             ],
             [
              0.1111111111111111,
              "#46039f"
             ],
             [
              0.2222222222222222,
              "#7201a8"
             ],
             [
              0.3333333333333333,
              "#9c179e"
             ],
             [
              0.4444444444444444,
              "#bd3786"
             ],
             [
              0.5555555555555556,
              "#d8576b"
             ],
             [
              0.6666666666666666,
              "#ed7953"
             ],
             [
              0.7777777777777778,
              "#fb9f3a"
             ],
             [
              0.8888888888888888,
              "#fdca26"
             ],
             [
              1,
              "#f0f921"
             ]
            ],
            "type": "contour"
           }
          ],
          "contourcarpet": [
           {
            "colorbar": {
             "outlinewidth": 0,
             "ticks": ""
            },
            "type": "contourcarpet"
           }
          ],
          "heatmap": [
           {
            "colorbar": {
             "outlinewidth": 0,
             "ticks": ""
            },
            "colorscale": [
             [
              0,
              "#0d0887"
             ],
             [
              0.1111111111111111,
              "#46039f"
             ],
             [
              0.2222222222222222,
              "#7201a8"
             ],
             [
              0.3333333333333333,
              "#9c179e"
             ],
             [
              0.4444444444444444,
              "#bd3786"
             ],
             [
              0.5555555555555556,
              "#d8576b"
             ],
             [
              0.6666666666666666,
              "#ed7953"
             ],
             [
              0.7777777777777778,
              "#fb9f3a"
             ],
             [
              0.8888888888888888,
              "#fdca26"
             ],
             [
              1,
              "#f0f921"
             ]
            ],
            "type": "heatmap"
           }
          ],
          "heatmapgl": [
           {
            "colorbar": {
             "outlinewidth": 0,
             "ticks": ""
            },
            "colorscale": [
             [
              0,
              "#0d0887"
             ],
             [
              0.1111111111111111,
              "#46039f"
             ],
             [
              0.2222222222222222,
              "#7201a8"
             ],
             [
              0.3333333333333333,
              "#9c179e"
             ],
             [
              0.4444444444444444,
              "#bd3786"
             ],
             [
              0.5555555555555556,
              "#d8576b"
             ],
             [
              0.6666666666666666,
              "#ed7953"
             ],
             [
              0.7777777777777778,
              "#fb9f3a"
             ],
             [
              0.8888888888888888,
              "#fdca26"
             ],
             [
              1,
              "#f0f921"
             ]
            ],
            "type": "heatmapgl"
           }
          ],
          "histogram": [
           {
            "marker": {
             "pattern": {
              "fillmode": "overlay",
              "size": 10,
              "solidity": 0.2
             }
            },
            "type": "histogram"
           }
          ],
          "histogram2d": [
           {
            "colorbar": {
             "outlinewidth": 0,
             "ticks": ""
            },
            "colorscale": [
             [
              0,
              "#0d0887"
             ],
             [
              0.1111111111111111,
              "#46039f"
             ],
             [
              0.2222222222222222,
              "#7201a8"
             ],
             [
              0.3333333333333333,
              "#9c179e"
             ],
             [
              0.4444444444444444,
              "#bd3786"
             ],
             [
              0.5555555555555556,
              "#d8576b"
             ],
             [
              0.6666666666666666,
              "#ed7953"
             ],
             [
              0.7777777777777778,
              "#fb9f3a"
             ],
             [
              0.8888888888888888,
              "#fdca26"
             ],
             [
              1,
              "#f0f921"
             ]
            ],
            "type": "histogram2d"
           }
          ],
          "histogram2dcontour": [
           {
            "colorbar": {
             "outlinewidth": 0,
             "ticks": ""
            },
            "colorscale": [
             [
              0,
              "#0d0887"
             ],
             [
              0.1111111111111111,
              "#46039f"
             ],
             [
              0.2222222222222222,
              "#7201a8"
             ],
             [
              0.3333333333333333,
              "#9c179e"
             ],
             [
              0.4444444444444444,
              "#bd3786"
             ],
             [
              0.5555555555555556,
              "#d8576b"
             ],
             [
              0.6666666666666666,
              "#ed7953"
             ],
             [
              0.7777777777777778,
              "#fb9f3a"
             ],
             [
              0.8888888888888888,
              "#fdca26"
             ],
             [
              1,
              "#f0f921"
             ]
            ],
            "type": "histogram2dcontour"
           }
          ],
          "mesh3d": [
           {
            "colorbar": {
             "outlinewidth": 0,
             "ticks": ""
            },
            "type": "mesh3d"
           }
          ],
          "parcoords": [
           {
            "line": {
             "colorbar": {
              "outlinewidth": 0,
              "ticks": ""
             }
            },
            "type": "parcoords"
           }
          ],
          "pie": [
           {
            "automargin": true,
            "type": "pie"
           }
          ],
          "scatter": [
           {
            "fillpattern": {
             "fillmode": "overlay",
             "size": 10,
             "solidity": 0.2
            },
            "type": "scatter"
           }
          ],
          "scatter3d": [
           {
            "line": {
             "colorbar": {
              "outlinewidth": 0,
              "ticks": ""
             }
            },
            "marker": {
             "colorbar": {
              "outlinewidth": 0,
              "ticks": ""
             }
            },
            "type": "scatter3d"
           }
          ],
          "scattercarpet": [
           {
            "marker": {
             "colorbar": {
              "outlinewidth": 0,
              "ticks": ""
             }
            },
            "type": "scattercarpet"
           }
          ],
          "scattergeo": [
           {
            "marker": {
             "colorbar": {
              "outlinewidth": 0,
              "ticks": ""
             }
            },
            "type": "scattergeo"
           }
          ],
          "scattergl": [
           {
            "marker": {
             "colorbar": {
              "outlinewidth": 0,
              "ticks": ""
             }
            },
            "type": "scattergl"
           }
          ],
          "scattermapbox": [
           {
            "marker": {
             "colorbar": {
              "outlinewidth": 0,
              "ticks": ""
             }
            },
            "type": "scattermapbox"
           }
          ],
          "scatterpolar": [
           {
            "marker": {
             "colorbar": {
              "outlinewidth": 0,
              "ticks": ""
             }
            },
            "type": "scatterpolar"
           }
          ],
          "scatterpolargl": [
           {
            "marker": {
             "colorbar": {
              "outlinewidth": 0,
              "ticks": ""
             }
            },
            "type": "scatterpolargl"
           }
          ],
          "scatterternary": [
           {
            "marker": {
             "colorbar": {
              "outlinewidth": 0,
              "ticks": ""
             }
            },
            "type": "scatterternary"
           }
          ],
          "surface": [
           {
            "colorbar": {
             "outlinewidth": 0,
             "ticks": ""
            },
            "colorscale": [
             [
              0,
              "#0d0887"
             ],
             [
              0.1111111111111111,
              "#46039f"
             ],
             [
              0.2222222222222222,
              "#7201a8"
             ],
             [
              0.3333333333333333,
              "#9c179e"
             ],
             [
              0.4444444444444444,
              "#bd3786"
             ],
             [
              0.5555555555555556,
              "#d8576b"
             ],
             [
              0.6666666666666666,
              "#ed7953"
             ],
             [
              0.7777777777777778,
              "#fb9f3a"
             ],
             [
              0.8888888888888888,
              "#fdca26"
             ],
             [
              1,
              "#f0f921"
             ]
            ],
            "type": "surface"
           }
          ],
          "table": [
           {
            "cells": {
             "fill": {
              "color": "#EBF0F8"
             },
             "line": {
              "color": "white"
             }
            },
            "header": {
             "fill": {
              "color": "#C8D4E3"
             },
             "line": {
              "color": "white"
             }
            },
            "type": "table"
           }
          ]
         },
         "layout": {
          "annotationdefaults": {
           "arrowcolor": "#2a3f5f",
           "arrowhead": 0,
           "arrowwidth": 1
          },
          "autotypenumbers": "strict",
          "coloraxis": {
           "colorbar": {
            "outlinewidth": 0,
            "ticks": ""
           }
          },
          "colorscale": {
           "diverging": [
            [
             0,
             "#8e0152"
            ],
            [
             0.1,
             "#c51b7d"
            ],
            [
             0.2,
             "#de77ae"
            ],
            [
             0.3,
             "#f1b6da"
            ],
            [
             0.4,
             "#fde0ef"
            ],
            [
             0.5,
             "#f7f7f7"
            ],
            [
             0.6,
             "#e6f5d0"
            ],
            [
             0.7,
             "#b8e186"
            ],
            [
             0.8,
             "#7fbc41"
            ],
            [
             0.9,
             "#4d9221"
            ],
            [
             1,
             "#276419"
            ]
           ],
           "sequential": [
            [
             0,
             "#0d0887"
            ],
            [
             0.1111111111111111,
             "#46039f"
            ],
            [
             0.2222222222222222,
             "#7201a8"
            ],
            [
             0.3333333333333333,
             "#9c179e"
            ],
            [
             0.4444444444444444,
             "#bd3786"
            ],
            [
             0.5555555555555556,
             "#d8576b"
            ],
            [
             0.6666666666666666,
             "#ed7953"
            ],
            [
             0.7777777777777778,
             "#fb9f3a"
            ],
            [
             0.8888888888888888,
             "#fdca26"
            ],
            [
             1,
             "#f0f921"
            ]
           ],
           "sequentialminus": [
            [
             0,
             "#0d0887"
            ],
            [
             0.1111111111111111,
             "#46039f"
            ],
            [
             0.2222222222222222,
             "#7201a8"
            ],
            [
             0.3333333333333333,
             "#9c179e"
            ],
            [
             0.4444444444444444,
             "#bd3786"
            ],
            [
             0.5555555555555556,
             "#d8576b"
            ],
            [
             0.6666666666666666,
             "#ed7953"
            ],
            [
             0.7777777777777778,
             "#fb9f3a"
            ],
            [
             0.8888888888888888,
             "#fdca26"
            ],
            [
             1,
             "#f0f921"
            ]
           ]
          },
          "colorway": [
           "#636efa",
           "#EF553B",
           "#00cc96",
           "#ab63fa",
           "#FFA15A",
           "#19d3f3",
           "#FF6692",
           "#B6E880",
           "#FF97FF",
           "#FECB52"
          ],
          "font": {
           "color": "#2a3f5f"
          },
          "geo": {
           "bgcolor": "white",
           "lakecolor": "white",
           "landcolor": "#E5ECF6",
           "showlakes": true,
           "showland": true,
           "subunitcolor": "white"
          },
          "hoverlabel": {
           "align": "left"
          },
          "hovermode": "closest",
          "mapbox": {
           "style": "light"
          },
          "paper_bgcolor": "white",
          "plot_bgcolor": "#E5ECF6",
          "polar": {
           "angularaxis": {
            "gridcolor": "white",
            "linecolor": "white",
            "ticks": ""
           },
           "bgcolor": "#E5ECF6",
           "radialaxis": {
            "gridcolor": "white",
            "linecolor": "white",
            "ticks": ""
           }
          },
          "scene": {
           "xaxis": {
            "backgroundcolor": "#E5ECF6",
            "gridcolor": "white",
            "gridwidth": 2,
            "linecolor": "white",
            "showbackground": true,
            "ticks": "",
            "zerolinecolor": "white"
           },
           "yaxis": {
            "backgroundcolor": "#E5ECF6",
            "gridcolor": "white",
            "gridwidth": 2,
            "linecolor": "white",
            "showbackground": true,
            "ticks": "",
            "zerolinecolor": "white"
           },
           "zaxis": {
            "backgroundcolor": "#E5ECF6",
            "gridcolor": "white",
            "gridwidth": 2,
            "linecolor": "white",
            "showbackground": true,
            "ticks": "",
            "zerolinecolor": "white"
           }
          },
          "shapedefaults": {
           "line": {
            "color": "#2a3f5f"
           }
          },
          "ternary": {
           "aaxis": {
            "gridcolor": "white",
            "linecolor": "white",
            "ticks": ""
           },
           "baxis": {
            "gridcolor": "white",
            "linecolor": "white",
            "ticks": ""
           },
           "bgcolor": "#E5ECF6",
           "caxis": {
            "gridcolor": "white",
            "linecolor": "white",
            "ticks": ""
           }
          },
          "title": {
           "x": 0.05
          },
          "xaxis": {
           "automargin": true,
           "gridcolor": "white",
           "linecolor": "white",
           "ticks": "",
           "title": {
            "standoff": 15
           },
           "zerolinecolor": "white",
           "zerolinewidth": 2
          },
          "yaxis": {
           "automargin": true,
           "gridcolor": "white",
           "linecolor": "white",
           "ticks": "",
           "title": {
            "standoff": 15
           },
           "zerolinecolor": "white",
           "zerolinewidth": 2
          }
         }
        },
        "title": {
         "text": "Yuzvendra Perf"
        }
       }
      }
     },
     "metadata": {},
     "output_type": "display_data"
    }
   ],
   "source": [
    "label = {'0':'bowled','1':'caught','2':'stumped','3':'caught and bowled','4':'stumped','5':'lbw'}\n",
    "print(label)\n",
    "parallelplot(ys_chahal_wicket,columns=[ys_chahal_wicket['season_'],ys_chahal_wicket['wicket.player_out_count'],ys_chahal_wicket['wicket_kind_no']],labels=label,title=\"Yuzvendra Perf\")"
   ]
  },
  {
   "cell_type": "code",
   "execution_count": 35,
   "metadata": {},
   "outputs": [],
   "source": [
    "# master_df.to_csv(\"output/master_dataframe.csv\")"
   ]
  },
  {
   "cell_type": "code",
   "execution_count": null,
   "metadata": {},
   "outputs": [],
   "source": []
  }
 ],
 "metadata": {
  "kernelspec": {
   "display_name": ".venv",
   "language": "python",
   "name": "python3"
  },
  "language_info": {
   "codemirror_mode": {
    "name": "ipython",
    "version": 3
   },
   "file_extension": ".py",
   "mimetype": "text/x-python",
   "name": "python",
   "nbconvert_exporter": "python",
   "pygments_lexer": "ipython3",
   "version": "3.10.12"
  }
 },
 "nbformat": 4,
 "nbformat_minor": 2
}
