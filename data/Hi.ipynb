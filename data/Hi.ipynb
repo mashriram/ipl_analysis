{
 "cells": [
  {
   "cell_type": "code",
   "execution_count": 2,
   "id": "917615c1-db45-4121-b274-57c5261b5617",
   "metadata": {},
   "outputs": [],
   "source": [
    "fn main() -> None:\n",
    "    print(\"Hello World\")"
   ]
  },
  {
   "cell_type": "code",
   "execution_count": 3,
   "id": "150c1cdf-acdd-4d71-84a9-1307f3782238",
   "metadata": {},
   "outputs": [
    {
     "name": "stdout",
     "output_type": "stream",
     "text": [
      "Hello World\n"
     ]
    }
   ],
   "source": [
    "main()"
   ]
  },
  {
   "cell_type": "code",
   "execution_count": null,
   "id": "1aa931c6-73eb-4308-9137-9f477ef4fce7",
   "metadata": {},
   "outputs": [],
   "source": []
  }
 ],
 "metadata": {
  "kernelspec": {
   "display_name": "Mojo",
   "language": "mojo",
   "name": "mojo-jupyter-kernel"
  },
  "language_info": {
   "codemirror_mode": {
    "name": "mojo"
   },
   "file_extension": ".mojo",
   "mimetype": "text/x-mojo",
   "name": "mojo"
  }
 },
 "nbformat": 4,
 "nbformat_minor": 5
}
