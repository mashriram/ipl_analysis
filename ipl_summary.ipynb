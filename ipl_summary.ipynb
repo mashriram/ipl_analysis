{
 "cells": [
  {
   "cell_type": "code",
   "execution_count": 1,
   "metadata": {},
   "outputs": [],
   "source": [
    "import numpy as np\n",
    "import pandas as pd\n",
    "import matplotlib.pyplot as plt\n",
    "import seaborn as sns\n",
    "import json\n",
    "import os"
   ]
  },
  {
   "cell_type": "code",
   "execution_count": 2,
   "metadata": {},
   "outputs": [],
   "source": [
    "fields_to_skip = [\"meta\", \"players\", \"registry\", \"innings\"]"
   ]
  },
  {
   "cell_type": "code",
   "execution_count": 3,
   "metadata": {},
   "outputs": [],
   "source": [
    "def flatten_json(y):\n",
    "    out = {}\n",
    "\n",
    "    def flatten(x, name=\"\"):\n",
    "        if type(x) is dict:\n",
    "            for a in x:\n",
    "                if a in fields_to_skip:\n",
    "                    # print(\"skipping field: \", a)\n",
    "                    pass\n",
    "                else:\n",
    "                    flatten(x[a], name + a + \"_\")\n",
    "        elif type(x) is list:\n",
    "            i = 1\n",
    "            for a in x:\n",
    "                flatten(a, name + str(i) + \"_\")\n",
    "                i += 1\n",
    "        else:\n",
    "            out[name[:-1]] = x\n",
    "\n",
    "    flatten(y)\n",
    "    return out"
   ]
  },
  {
   "cell_type": "code",
   "execution_count": 4,
   "metadata": {},
   "outputs": [
    {
     "name": "stdout",
     "output_type": "stream",
     "text": [
      "['548368.json', '1254064.json', '1254107.json', '548343.json', '829817.json', '980945.json', '729291.json', '1422121.json', '598007.json', '1422128.json', '1178421.json', '1304103.json', '1304109.json', '598068.json', '829767.json', '1175358.json', '548380.json', '729283.json', '981009.json', '548328.json', '1136591.json', '829793.json', '1426270.json', '598065.json', '501243.json', '1254063.json', '1254089.json', '392214.json', '336031.json', '501259.json', '1082603.json', '1304063.json', '1136605.json', '734049.json', '548345.json', '392218.json', '729317.json', '548366.json', '1304112.json', '1216526.json', '1136604.json', '1359512.json', '1216540.json', '1216522.json', '548321.json', '1216500.json', '1304111.json', '829769.json', '1359537.json', '1082645.json', '729285.json', '1178418.json', '1304114.json', '829777.json', '1359500.json', '1082604.json', '829789.json', '1082607.json', '1359543.json', '1082595.json', '392190.json', '1426310.json', '419145.json', '392225.json', '1304096.json', '598046.json', '598048.json', '734007.json', '501224.json', '829785.json', '419142.json', '734023.json', '1254058.json', '980951.json', '335995.json', '1304054.json', '980977.json', '733993.json', '1304092.json', '1216497.json', '734025.json', '1082611.json', '1254076.json', '501234.json', '1082620.json', '336007.json', '829809.json', '597999.json', '729315.json', '1359488.json', '419152.json', '336001.json', '1216546.json', '1136583.json', '1254088.json', '336012.json', '829801.json', '1359525.json', '1422132.json', '1136594.json', '829757.json', '419125.json', '598072.json', '392238.json', '829713.json', '829821.json', '1136612.json', '548357.json', '1082617.json', '548311.json', '1426286.json', '335992.json', '598030.json', '1254096.json', '980931.json', '392207.json', '419109.json', '1178425.json', '419163.json', '980967.json', '548376.json', '1136567.json', '980989.json', '419143.json', '1426311.json', '1178409.json', '392194.json', '598055.json', '1216516.json', '392199.json', '501256.json', '1359508.json', '1359527.json', '548346.json', '419156.json', '1216494.json', '1254073.json', '980999.json', '1422129.json', '980961.json', '1178399.json', '1082634.json', '598014.json', '1136562.json', '335991.json', '1359523.json', '1426293.json', '548363.json', '1304056.json', '981017.json', '1254072.json', '1136577.json', '598069.json', '1254102.json', '980995.json', '1312197.json', '1254062.json', '1359479.json', '1426282.json', '419147.json', '980911.json', '980903.json', '1216519.json', '419111.json', '501232.json', '1254061.json', '1216524.json', '1175362.json', '1178420.json', '1426281.json', '829813.json', '1082618.json', '1370353.json', '1082628.json', '980927.json', '1304086.json', '419150.json', '419112.json', '1422139.json', '336026.json', '1359519.json', '419122.json', '829761.json', '1304068.json', '598002.json', '1254111.json', '548325.json', '419108.json', '1426264.json', '598051.json', '392198.json', '392227.json', '1216542.json', '1304059.json', '336020.json', '1082629.json', '1216492.json', '729301.json', '392186.json', '335994.json', '1422125.json', '336011.json', '829805.json', '598052.json', '1254086.json', '336024.json', '1359515.json', '1359475.json', '392217.json', '548369.json', '501214.json', '1304100.json', '1082621.json', '1136607.json', '1216539.json', '729281.json', '1359511.json', '598008.json', '1136610.json', '501220.json', '548348.json', '980965.json', '1178407.json', '598023.json', '1216499.json', '548359.json', '392221.json', '1422126.json', '1178402.json', '734043.json', '829739.json', '1426261.json', '336013.json', '1304110.json', '598061.json', '1082601.json', '419149.json', '598034.json', '1082641.json', '419162.json', '1359528.json', '1254104.json', '980915.json', '1370351.json', '734039.json', '392203.json', '1178415.json', '1254091.json', '1136590.json', '392213.json', '1178428.json', '501229.json', '392224.json', '1254077.json', '1254068.json', '598029.json', '1304081.json', '1426265.json', '1175371.json', '1304113.json', '1181764.json', '980941.json', '729289.json', '1359498.json', '1422127.json', '729311.json', '1216527.json', '1426296.json', '1304077.json', '419128.json', '734011.json', '1216510.json', '1082624.json', '419140.json', '501226.json', '1136561.json', '1422120.json', '1426294.json', '336019.json', '335986.json', '501206.json', '336034.json', '1216536.json', '548318.json', '548364.json', '1426291.json', '1082647.json', '1422134.json', '1304070.json', '392181.json', '1082602.json', '1082606.json', '1216502.json', '729305.json', '1426273.json', '336033.json', '1216513.json', '336021.json', '1304079.json', '1082649.json', '336022.json', '598032.json', '598057.json', '598001.json', '1175357.json', '829721.json', '336014.json', '1254113.json', '501248.json', '1082612.json', '1178395.json', '1178426.json', '419129.json', '1426292.json', '1426299.json', '1359502.json', '548339.json', '1359534.json', '1216517.json', '501267.json', '392236.json', '829745.json', '1422122.json', '1178393.json', '419126.json', '335988.json', '1359480.json', '501212.json', '829787.json', '598015.json', '1304102.json', '392192.json', '392204.json', '419137.json', '1136595.json', '829803.json', '1175360.json', '829731.json', '1426288.json', '335998.json', '1304098.json', '1216506.json', '336000.json', '598063.json', '1359526.json', '336004.json', '1359510.json', '1426272.json', '548333.json', '1136568.json', '1304075.json', '501254.json', '1136570.json', '548323.json', '1175369.json', '548362.json', '734047.json', '1175365.json', '1359484.json', '829791.json', '501241.json', '1082608.json', '829717.json', '1304073.json', '548329.json', '501230.json', '1359520.json', '734037.json', '829753.json', '336037.json', '1082622.json', '1136600.json', '501228.json', '734017.json', '598021.json', '1136617.json', '548337.json', '336009.json', '1359536.json', '598056.json', '419114.json', '980937.json', '829751.json', '1136585.json', '1426278.json', '829773.json', '1422133.json', '829705.json', '598073.json', '1082640.json', '501231.json', '1359487.json', '1359541.json', '729279.json', '1359483.json', '1359544.json', '829771.json', '336006.json', '734003.json', '1359485.json', '419133.json', '598025.json', '1426260.json', '1254106.json', '733989.json', '1082591.json', '1178419.json', '733973.json', '598067.json', '419115.json', '1216525.json', '1254060.json', '829783.json', '1426263.json', '548354.json', '1254066.json', '548319.json', '980905.json', '501209.json', '980963.json', '1178406.json', '1082596.json', '1304094.json', '501249.json', '1136603.json', '1136613.json', '1426290.json', '598045.json', '1359497.json', '1136579.json', '336017.json', '733997.json', '598026.json', '501271.json', '501269.json', '1254082.json', '981011.json', '1136611.json', '1216520.json', '1426300.json', '980991.json', '392239.json', '829763.json', '1178431.json', '548358.json', '1136609.json', '419132.json', '501258.json', '501250.json', '1216501.json', '1181766.json', '1359532.json', '598066.json', '419120.json', '1254059.json', '980921.json', '1422119.json', '501203.json', '598006.json', '1136589.json', '419151.json', '1136581.json', '1426271.json', '501205.json', '981019.json', '1359531.json', '1359489.json', '1359530.json', '980949.json', '419146.json', '1304082.json', '1304067.json', '336023.json', '501247.json', '1082616.json', '729297.json', '1304064.json', '336028.json', '1136566.json', '1254075.json', '1136620.json', '980907.json', '548313.json', '1426266.json', '1304087.json', '1359486.json', '1359481.json', '829795.json', '1136602.json', '829749.json', '1304047.json', '980993.json', '392223.json', '733971.json', '733991.json', '1136588.json', '1082592.json', '548377.json', '1136582.json', '392211.json', '336040.json', '501204.json', '598041.json', '734009.json', '1082648.json', '598013.json', '1082600.json', '419130.json', '1216508.json', '1359533.json', '501219.json', '392195.json', '1304097.json', '501213.json', '548344.json', '1254095.json', '419148.json', '1304071.json', '501263.json', '1254093.json', '1312200.json', '548375.json', '1359524.json', '734005.json', '392196.json', '598044.json', '392197.json', '598059.json', '419124.json', '548317.json', '548334.json', '392182.json', '829725.json', '335982.json', '598000.json', '1359476.json', '598010.json', '1254071.json', '1178410.json', '1136616.json', '1216515.json', '1216541.json', '335999.json', '733983.json', '598071.json', '1237178.json', '548342.json', '1082627.json', '501240.json', '548378.json', '598028.json', '501227.json', '1178422.json', '1422138.json', '392210.json', '980917.json', '1082632.json', '1304052.json', '1426303.json', '1216537.json', '501262.json', '598043.json', '501268.json', '598027.json', '1304105.json', '981007.json', '1136618.json', '1359478.json', '1178397.json', '548310.json', '733999.json', '1359482.json', '598011.json', '336003.json', '980987.json', '1359499.json', '1304089.json', '501222.json', '1082650.json', '1254112.json', '1136598.json', '981013.json', '1082614.json', '1304104.json', '1136571.json', '733979.json', '733985.json', '1254101.json', '729313.json', '548349.json', '598033.json', '1426267.json', '1178411.json', '1304055.json', '548361.json', '1216530.json', '1254084.json', '598005.json', '1175370.json', '829797.json', '1178423.json', '1082610.json', '548372.json', '335997.json', '336036.json', '1136615.json', '548326.json', '548379.json', '1254069.json', '501223.json', '1359503.json', '501266.json', '1178430.json', '598053.json', '1082633.json', '829747.json', '1304084.json', '392202.json', '733987.json', '501221.json', '1216545.json', '734027.json', '1359521.json', '1359505.json', '1304088.json', '392226.json', '1175368.json', '336016.json', '1254079.json', '1359493.json', '1422136.json', '548322.json', '1175359.json', '598047.json', '1216503.json', '392234.json', '1237181.json', '1216509.json', '729287.json', '980979.json', '598039.json', '336002.json', '1082638.json', '1359491.json', '1082598.json', '729299.json', '1254103.json', '1136593.json', '598035.json', '1254116.json', '1359539.json', '548356.json', '1254092.json', '1136592.json', '1178394.json', '419153.json', '419154.json', '548373.json', '1426295.json', '501202.json', '1082639.json', '1178404.json', '501244.json', '392220.json', '1178398.json', '1426262.json', '1216498.json', '1216505.json', '392237.json', '1216496.json', '1136569.json', '335985.json', '734035.json', '419119.json', '419164.json', '734031.json', '598060.json', '1304065.json', '829741.json', '1304116.json', '1136572.json', '734019.json', '829715.json', '598024.json', '336027.json', '1426280.json', '1304062.json', '419116.json', '419138.json', '392231.json', '392201.json', '1254099.json', '1304093.json', '829709.json', '548350.json', '1304069.json', '1082630.json', '829743.json', '335983.json', '392205.json', '392191.json', '1426305.json', '1136573.json', '1237180.json', '980909.json', '1082609.json', '1178400.json', '501233.json', '548332.json', '1082636.json', '1082637.json', '1426268.json', '548320.json', '1359542.json', '501199.json', '336008.json', '980997.json', '1304078.json', '419118.json', '1359514.json', '548336.json', '1426297.json', '1359509.json', '419134.json', '419141.json', '829729.json', '829719.json', '1426307.json', '548306.json', '829775.json', '1304058.json', '734013.json', '980925.json', '1254080.json', '1254067.json', '1082613.json', '981005.json', '501236.json', '392188.json', '336005.json', '548367.json', '829765.json', '419106.json', '335984.json', '733981.json', '335993.json', '548324.json', '1254090.json', '548365.json', '1216495.json', '1175363.json', '980985.json', '336010.json', '1312198.json', '1370350.json', '1216528.json', '501218.json', '1304048.json', '733995.json', '548352.json', '1422135.json', '392189.json', '335990.json', '392216.json', '598049.json', '1359518.json', '336018.json', '548308.json', '1216521.json', '1426274.json', '734015.json', '1304091.json', '829779.json', '1254085.json', '1359501.json', '501251.json', '1254070.json', '1216531.json', '1178412.json', '729303.json', '1426306.json', '548330.json', '1216512.json', '1304051.json', '1254105.json', '1136565.json', '501216.json', '1254100.json', '598054.json', '335989.json', '392215.json', '1304095.json', '392232.json', '829823.json', '336015.json', '1254094.json', '1136608.json', '733977.json', '1304085.json', '1082605.json', '1426284.json', '1082642.json', '734033.json', '1175364.json', '1175361.json', '1216532.json', '392229.json', '598017.json', '501198.json', '980969.json', '729293.json', '1304060.json', '392235.json', '548315.json', 'README.txt', '1304115.json', '1178417.json', '1181768.json', '501225.json', '1216535.json', '392183.json', '1254109.json', '336035.json', '980919.json', '729295.json', '501207.json', '1359477.json', '1178396.json', '1082597.json', '1304083.json', '829811.json', '419144.json', '1359535.json', '1359506.json', '829737.json', '1136587.json', '1178429.json', '1136563.json', '1304080.json', '1370352.json', '548341.json', '392200.json', '1426276.json', '1304108.json', '734001.json', '1426269.json', '548331.json', '1216533.json', '392185.json', '598031.json', '548307.json', '548355.json', '1426302.json', '501238.json', '829815.json', '419136.json', '336039.json', '1136574.json', '336025.json', '734045.json', '501253.json', '419155.json', '1359492.json', '1254087.json', '1304107.json', '1426298.json', '598012.json', '598064.json', '501201.json', '1254114.json', '1304076.json', '1136606.json', '980947.json', '392219.json', '392206.json', '501211.json', '734021.json', '597998.json', '1422137.json', '1178413.json', '981015.json', '335996.json', '1304106.json', '336032.json', '1178427.json', '501261.json', '419123.json', '501215.json', '1304101.json', '1359529.json', '734041.json', '980901.json', '829735.json', '1136597.json', '548370.json', '501260.json', '392184.json', '1359513.json', '1136619.json', '1426289.json', '1254078.json', '419160.json', '1082615.json', '1254108.json', '980955.json', '1304050.json', '1136580.json', '1175372.json', '829723.json', '548374.json', '1304099.json', '1178416.json', '1304061.json', '1304066.json', '1304090.json', '1178408.json', '1422123.json', '1359507.json', '1082625.json', '1216529.json', '980957.json', '1216523.json', '1082626.json', '980939.json', '548371.json', '1304057.json', '598058.json', '501210.json', '598004.json', '392233.json', '598022.json', '733975.json', '1254110.json', '548327.json', '392212.json', '829781.json', '829799.json', '829759.json', '1136576.json', '1082599.json', '548351.json', '548314.json', '501252.json', '548312.json', '419117.json', '734029.json', '1359490.json', '729309.json', '1426277.json', '1359516.json', '598038.json', '598062.json', '829707.json', '548309.json', '980975.json', '1254098.json', '598019.json', '1216543.json', '501208.json', '1136601.json', '1426283.json', '1178403.json', '1216511.json', '598037.json', '1254081.json', '419110.json', '548353.json', '1304072.json', '598050.json', '829807.json', '981001.json', '980981.json', '1178401.json', '501242.json', '1359504.json', '598009.json', '980983.json', '392208.json', '1216493.json', '1136586.json', '1254065.json', '1426287.json', '419161.json', '1082635.json', '501239.json', '501235.json', '1216504.json', '1359495.json', '501245.json', '1136578.json', '1136584.json', '829727.json', '501264.json', '598040.json', '1216547.json', '1216538.json', '419158.json', '1312199.json', '1082631.json', '501265.json', '419159.json', '1426285.json', '335987.json', '598018.json', '1216518.json', '1175367.json', '1254115.json', '548335.json', '980943.json', '548360.json', '1426279.json', '980973.json', '1216534.json', '1082646.json', '392209.json', '419113.json', '1136575.json', '981003.json', '980933.json', '729307.json', '501246.json', '1136614.json', '1178424.json', '1359517.json', '548316.json', '980929.json', '1181767.json', '1359522.json', '1175356.json', '980923.json', '1082643.json', '598016.json', '598036.json', '829819.json', '1175366.json', '980953.json', '1216514.json', '980971.json', '1254097.json', '501270.json', '1359494.json', '1082594.json', '419165.json', '598042.json', '419139.json', '419107.json', '1422131.json', '1426275.json', '501237.json', '829733.json', '419121.json', '1254074.json', '598070.json', '1178414.json', '392230.json', '1359538.json', '829711.json', '419157.json', '980959.json', '336029.json', '980913.json', '1359496.json', '1422124.json', '501257.json', '336038.json', '598020.json', '1237177.json', '1254117.json', '1304074.json', '1426312.json', '419135.json', '501200.json', '501255.json', '1304049.json', '1254083.json', '980935.json', '548381.json', '1136564.json', '419131.json', '598003.json', '1216544.json', '1359540.json', '392222.json', '1082593.json', '1136599.json', '1422130.json', '1082644.json', '1136596.json', '1178405.json', '1426309.json', '548347.json', '1082623.json', '419127.json', '1304053.json', '392228.json', '1216507.json']\n"
     ]
    }
   ],
   "source": [
    "files = os.listdir(path=\"data\")\n",
    "print(files)"
   ]
  },
  {
   "cell_type": "code",
   "execution_count": 5,
   "metadata": {},
   "outputs": [
    {
     "name": "stdout",
     "output_type": "stream",
     "text": [
      "data/README.txt\n"
     ]
    }
   ],
   "source": [
    "rows = list()\n",
    "files = os.listdir(path=\"data\")\n",
    "\n",
    "filter(lambda x: str(x).endswith(\".json\"), files)\n",
    "\n",
    "for file in files:\n",
    "    try:\n",
    "        file_name = \"data/\" + file\n",
    "        with open(file_name, \"r\") as file:\n",
    "            json_data = json.load(file)\n",
    "            flattened_data = flatten_json(json_data)\n",
    "            rows.append(flattened_data)\n",
    "    except:\n",
    "        print(file_name)"
   ]
  },
  {
   "cell_type": "code",
   "execution_count": 6,
   "metadata": {},
   "outputs": [],
   "source": [
    "# Create a DataFrame with a single row\n",
    "df = pd.DataFrame(rows)"
   ]
  },
  {
   "cell_type": "code",
   "execution_count": 7,
   "metadata": {},
   "outputs": [
    {
     "data": {
      "text/html": [
       "<div>\n",
       "<style scoped>\n",
       "    .dataframe tbody tr th:only-of-type {\n",
       "        vertical-align: middle;\n",
       "    }\n",
       "\n",
       "    .dataframe tbody tr th {\n",
       "        vertical-align: top;\n",
       "    }\n",
       "\n",
       "    .dataframe thead th {\n",
       "        text-align: right;\n",
       "    }\n",
       "</style>\n",
       "<table border=\"1\" class=\"dataframe\">\n",
       "  <thead>\n",
       "    <tr style=\"text-align: right;\">\n",
       "      <th></th>\n",
       "      <th>info_balls_per_over</th>\n",
       "      <th>info_city</th>\n",
       "      <th>info_dates_1</th>\n",
       "      <th>info_event_match_number</th>\n",
       "      <th>info_event_name</th>\n",
       "      <th>info_gender</th>\n",
       "      <th>info_match_type</th>\n",
       "      <th>info_officials_match_referees_1</th>\n",
       "      <th>info_officials_reserve_umpires_1</th>\n",
       "      <th>info_officials_tv_umpires_1</th>\n",
       "      <th>...</th>\n",
       "      <th>info_teams_2</th>\n",
       "      <th>info_toss_decision</th>\n",
       "      <th>info_toss_winner</th>\n",
       "      <th>info_venue</th>\n",
       "      <th>info_outcome_by_runs</th>\n",
       "      <th>info_event_stage</th>\n",
       "      <th>info_outcome_method</th>\n",
       "      <th>info_outcome_eliminator</th>\n",
       "      <th>info_outcome_result</th>\n",
       "      <th>info_dates_2</th>\n",
       "    </tr>\n",
       "  </thead>\n",
       "  <tbody>\n",
       "    <tr>\n",
       "      <th>0</th>\n",
       "      <td>6</td>\n",
       "      <td>Kolkata</td>\n",
       "      <td>2012-05-14</td>\n",
       "      <td>63.0</td>\n",
       "      <td>Indian Premier League</td>\n",
       "      <td>male</td>\n",
       "      <td>T20</td>\n",
       "      <td>Raju Mukherjee</td>\n",
       "      <td>AS Pathania</td>\n",
       "      <td>S Ravi</td>\n",
       "      <td>...</td>\n",
       "      <td>Chennai Super Kings</td>\n",
       "      <td>field</td>\n",
       "      <td>Chennai Super Kings</td>\n",
       "      <td>Eden Gardens</td>\n",
       "      <td>NaN</td>\n",
       "      <td>NaN</td>\n",
       "      <td>NaN</td>\n",
       "      <td>NaN</td>\n",
       "      <td>NaN</td>\n",
       "      <td>NaN</td>\n",
       "    </tr>\n",
       "    <tr>\n",
       "      <th>1</th>\n",
       "      <td>6</td>\n",
       "      <td>Mumbai</td>\n",
       "      <td>2021-04-15</td>\n",
       "      <td>7.0</td>\n",
       "      <td>Indian Premier League</td>\n",
       "      <td>male</td>\n",
       "      <td>T20</td>\n",
       "      <td>Shakti Singh</td>\n",
       "      <td>J Madanagopal</td>\n",
       "      <td>AK Chaudhary</td>\n",
       "      <td>...</td>\n",
       "      <td>Rajasthan Royals</td>\n",
       "      <td>field</td>\n",
       "      <td>Rajasthan Royals</td>\n",
       "      <td>Wankhede Stadium, Mumbai</td>\n",
       "      <td>NaN</td>\n",
       "      <td>NaN</td>\n",
       "      <td>NaN</td>\n",
       "      <td>NaN</td>\n",
       "      <td>NaN</td>\n",
       "      <td>NaN</td>\n",
       "    </tr>\n",
       "    <tr>\n",
       "      <th>2</th>\n",
       "      <td>6</td>\n",
       "      <td>Sharjah</td>\n",
       "      <td>2021-09-25</td>\n",
       "      <td>37.0</td>\n",
       "      <td>Indian Premier League</td>\n",
       "      <td>male</td>\n",
       "      <td>T20</td>\n",
       "      <td>Prakash Bhatt</td>\n",
       "      <td>J Madanagopal</td>\n",
       "      <td>KN Ananthapadmanabhan</td>\n",
       "      <td>...</td>\n",
       "      <td>Sunrisers Hyderabad</td>\n",
       "      <td>field</td>\n",
       "      <td>Sunrisers Hyderabad</td>\n",
       "      <td>Sharjah Cricket Stadium</td>\n",
       "      <td>5.0</td>\n",
       "      <td>NaN</td>\n",
       "      <td>NaN</td>\n",
       "      <td>NaN</td>\n",
       "      <td>NaN</td>\n",
       "      <td>NaN</td>\n",
       "    </tr>\n",
       "    <tr>\n",
       "      <th>3</th>\n",
       "      <td>6</td>\n",
       "      <td>Chennai</td>\n",
       "      <td>2012-04-28</td>\n",
       "      <td>37.0</td>\n",
       "      <td>Indian Premier League</td>\n",
       "      <td>male</td>\n",
       "      <td>T20</td>\n",
       "      <td>RS Mahanama</td>\n",
       "      <td>K Srinivasan</td>\n",
       "      <td>C Shamshuddin</td>\n",
       "      <td>...</td>\n",
       "      <td>Kings XI Punjab</td>\n",
       "      <td>bat</td>\n",
       "      <td>Kings XI Punjab</td>\n",
       "      <td>MA Chidambaram Stadium, Chepauk</td>\n",
       "      <td>7.0</td>\n",
       "      <td>NaN</td>\n",
       "      <td>NaN</td>\n",
       "      <td>NaN</td>\n",
       "      <td>NaN</td>\n",
       "      <td>NaN</td>\n",
       "    </tr>\n",
       "    <tr>\n",
       "      <th>4</th>\n",
       "      <td>6</td>\n",
       "      <td>Mumbai</td>\n",
       "      <td>2015-05-19</td>\n",
       "      <td>NaN</td>\n",
       "      <td>Indian Premier League</td>\n",
       "      <td>male</td>\n",
       "      <td>T20</td>\n",
       "      <td>RS Madugalle</td>\n",
       "      <td>CK Nandan</td>\n",
       "      <td>VA Kulkarni</td>\n",
       "      <td>...</td>\n",
       "      <td>Mumbai Indians</td>\n",
       "      <td>bat</td>\n",
       "      <td>Mumbai Indians</td>\n",
       "      <td>Wankhede Stadium</td>\n",
       "      <td>25.0</td>\n",
       "      <td>Qualifier 1</td>\n",
       "      <td>NaN</td>\n",
       "      <td>NaN</td>\n",
       "      <td>NaN</td>\n",
       "      <td>NaN</td>\n",
       "    </tr>\n",
       "    <tr>\n",
       "      <th>...</th>\n",
       "      <td>...</td>\n",
       "      <td>...</td>\n",
       "      <td>...</td>\n",
       "      <td>...</td>\n",
       "      <td>...</td>\n",
       "      <td>...</td>\n",
       "      <td>...</td>\n",
       "      <td>...</td>\n",
       "      <td>...</td>\n",
       "      <td>...</td>\n",
       "      <td>...</td>\n",
       "      <td>...</td>\n",
       "      <td>...</td>\n",
       "      <td>...</td>\n",
       "      <td>...</td>\n",
       "      <td>...</td>\n",
       "      <td>...</td>\n",
       "      <td>...</td>\n",
       "      <td>...</td>\n",
       "      <td>...</td>\n",
       "      <td>...</td>\n",
       "    </tr>\n",
       "    <tr>\n",
       "      <th>1090</th>\n",
       "      <td>6</td>\n",
       "      <td>Chandigarh</td>\n",
       "      <td>2017-04-28</td>\n",
       "      <td>33.0</td>\n",
       "      <td>Indian Premier League</td>\n",
       "      <td>male</td>\n",
       "      <td>T20</td>\n",
       "      <td>S Chaturvedi</td>\n",
       "      <td>K Srinivasan</td>\n",
       "      <td>YC Barde</td>\n",
       "      <td>...</td>\n",
       "      <td>Sunrisers Hyderabad</td>\n",
       "      <td>field</td>\n",
       "      <td>Kings XI Punjab</td>\n",
       "      <td>Punjab Cricket Association IS Bindra Stadium, ...</td>\n",
       "      <td>26.0</td>\n",
       "      <td>NaN</td>\n",
       "      <td>NaN</td>\n",
       "      <td>NaN</td>\n",
       "      <td>NaN</td>\n",
       "      <td>NaN</td>\n",
       "    </tr>\n",
       "    <tr>\n",
       "      <th>1091</th>\n",
       "      <td>6</td>\n",
       "      <td>Chandigarh</td>\n",
       "      <td>2010-03-27</td>\n",
       "      <td>23.0</td>\n",
       "      <td>Indian Premier League</td>\n",
       "      <td>male</td>\n",
       "      <td>T20</td>\n",
       "      <td>S Venkataraghavan</td>\n",
       "      <td>C Shamshuddin</td>\n",
       "      <td>SK Tarapore</td>\n",
       "      <td>...</td>\n",
       "      <td>Kolkata Knight Riders</td>\n",
       "      <td>bat</td>\n",
       "      <td>Kolkata Knight Riders</td>\n",
       "      <td>Punjab Cricket Association Stadium, Mohali</td>\n",
       "      <td>39.0</td>\n",
       "      <td>NaN</td>\n",
       "      <td>NaN</td>\n",
       "      <td>NaN</td>\n",
       "      <td>NaN</td>\n",
       "      <td>NaN</td>\n",
       "    </tr>\n",
       "    <tr>\n",
       "      <th>1092</th>\n",
       "      <td>6</td>\n",
       "      <td>Mumbai</td>\n",
       "      <td>2022-03-31</td>\n",
       "      <td>7.0</td>\n",
       "      <td>Indian Premier League</td>\n",
       "      <td>male</td>\n",
       "      <td>T20</td>\n",
       "      <td>J Srinath</td>\n",
       "      <td>NA Patwardhan</td>\n",
       "      <td>YC Barde</td>\n",
       "      <td>...</td>\n",
       "      <td>Lucknow Super Giants</td>\n",
       "      <td>field</td>\n",
       "      <td>Lucknow Super Giants</td>\n",
       "      <td>Brabourne Stadium, Mumbai</td>\n",
       "      <td>NaN</td>\n",
       "      <td>NaN</td>\n",
       "      <td>NaN</td>\n",
       "      <td>NaN</td>\n",
       "      <td>NaN</td>\n",
       "      <td>NaN</td>\n",
       "    </tr>\n",
       "    <tr>\n",
       "      <th>1093</th>\n",
       "      <td>6</td>\n",
       "      <td>Johannesburg</td>\n",
       "      <td>2009-05-16</td>\n",
       "      <td>48.0</td>\n",
       "      <td>Indian Premier League</td>\n",
       "      <td>male</td>\n",
       "      <td>T20</td>\n",
       "      <td>S Venkataraghavan</td>\n",
       "      <td>KH Hurter</td>\n",
       "      <td>SL Shastri</td>\n",
       "      <td>...</td>\n",
       "      <td>Kolkata Knight Riders</td>\n",
       "      <td>field</td>\n",
       "      <td>Deccan Chargers</td>\n",
       "      <td>New Wanderers Stadium</td>\n",
       "      <td>NaN</td>\n",
       "      <td>NaN</td>\n",
       "      <td>NaN</td>\n",
       "      <td>NaN</td>\n",
       "      <td>NaN</td>\n",
       "      <td>NaN</td>\n",
       "    </tr>\n",
       "    <tr>\n",
       "      <th>1094</th>\n",
       "      <td>6</td>\n",
       "      <td>NaN</td>\n",
       "      <td>2020-10-11</td>\n",
       "      <td>26.0</td>\n",
       "      <td>Indian Premier League</td>\n",
       "      <td>male</td>\n",
       "      <td>T20</td>\n",
       "      <td>Prakash Bhatt</td>\n",
       "      <td>AY Dandekar</td>\n",
       "      <td>Nitin Menon</td>\n",
       "      <td>...</td>\n",
       "      <td>Rajasthan Royals</td>\n",
       "      <td>bat</td>\n",
       "      <td>Sunrisers Hyderabad</td>\n",
       "      <td>Dubai International Cricket Stadium</td>\n",
       "      <td>NaN</td>\n",
       "      <td>NaN</td>\n",
       "      <td>NaN</td>\n",
       "      <td>NaN</td>\n",
       "      <td>NaN</td>\n",
       "      <td>NaN</td>\n",
       "    </tr>\n",
       "  </tbody>\n",
       "</table>\n",
       "<p>1095 rows × 29 columns</p>\n",
       "</div>"
      ],
      "text/plain": [
       "      info_balls_per_over     info_city info_dates_1  info_event_match_number  \\\n",
       "0                       6       Kolkata   2012-05-14                     63.0   \n",
       "1                       6        Mumbai   2021-04-15                      7.0   \n",
       "2                       6       Sharjah   2021-09-25                     37.0   \n",
       "3                       6       Chennai   2012-04-28                     37.0   \n",
       "4                       6        Mumbai   2015-05-19                      NaN   \n",
       "...                   ...           ...          ...                      ...   \n",
       "1090                    6    Chandigarh   2017-04-28                     33.0   \n",
       "1091                    6    Chandigarh   2010-03-27                     23.0   \n",
       "1092                    6        Mumbai   2022-03-31                      7.0   \n",
       "1093                    6  Johannesburg   2009-05-16                     48.0   \n",
       "1094                    6           NaN   2020-10-11                     26.0   \n",
       "\n",
       "            info_event_name info_gender info_match_type  \\\n",
       "0     Indian Premier League        male             T20   \n",
       "1     Indian Premier League        male             T20   \n",
       "2     Indian Premier League        male             T20   \n",
       "3     Indian Premier League        male             T20   \n",
       "4     Indian Premier League        male             T20   \n",
       "...                     ...         ...             ...   \n",
       "1090  Indian Premier League        male             T20   \n",
       "1091  Indian Premier League        male             T20   \n",
       "1092  Indian Premier League        male             T20   \n",
       "1093  Indian Premier League        male             T20   \n",
       "1094  Indian Premier League        male             T20   \n",
       "\n",
       "     info_officials_match_referees_1 info_officials_reserve_umpires_1  \\\n",
       "0                     Raju Mukherjee                      AS Pathania   \n",
       "1                       Shakti Singh                    J Madanagopal   \n",
       "2                      Prakash Bhatt                    J Madanagopal   \n",
       "3                        RS Mahanama                     K Srinivasan   \n",
       "4                       RS Madugalle                        CK Nandan   \n",
       "...                              ...                              ...   \n",
       "1090                    S Chaturvedi                     K Srinivasan   \n",
       "1091               S Venkataraghavan                    C Shamshuddin   \n",
       "1092                       J Srinath                    NA Patwardhan   \n",
       "1093               S Venkataraghavan                        KH Hurter   \n",
       "1094                   Prakash Bhatt                      AY Dandekar   \n",
       "\n",
       "     info_officials_tv_umpires_1  ...           info_teams_2  \\\n",
       "0                         S Ravi  ...    Chennai Super Kings   \n",
       "1                   AK Chaudhary  ...       Rajasthan Royals   \n",
       "2          KN Ananthapadmanabhan  ...    Sunrisers Hyderabad   \n",
       "3                  C Shamshuddin  ...        Kings XI Punjab   \n",
       "4                    VA Kulkarni  ...         Mumbai Indians   \n",
       "...                          ...  ...                    ...   \n",
       "1090                    YC Barde  ...    Sunrisers Hyderabad   \n",
       "1091                 SK Tarapore  ...  Kolkata Knight Riders   \n",
       "1092                    YC Barde  ...   Lucknow Super Giants   \n",
       "1093                  SL Shastri  ...  Kolkata Knight Riders   \n",
       "1094                 Nitin Menon  ...       Rajasthan Royals   \n",
       "\n",
       "     info_toss_decision       info_toss_winner  \\\n",
       "0                 field    Chennai Super Kings   \n",
       "1                 field       Rajasthan Royals   \n",
       "2                 field    Sunrisers Hyderabad   \n",
       "3                   bat        Kings XI Punjab   \n",
       "4                   bat         Mumbai Indians   \n",
       "...                 ...                    ...   \n",
       "1090              field        Kings XI Punjab   \n",
       "1091                bat  Kolkata Knight Riders   \n",
       "1092              field   Lucknow Super Giants   \n",
       "1093              field        Deccan Chargers   \n",
       "1094                bat    Sunrisers Hyderabad   \n",
       "\n",
       "                                             info_venue  info_outcome_by_runs  \\\n",
       "0                                          Eden Gardens                   NaN   \n",
       "1                              Wankhede Stadium, Mumbai                   NaN   \n",
       "2                               Sharjah Cricket Stadium                   5.0   \n",
       "3                       MA Chidambaram Stadium, Chepauk                   7.0   \n",
       "4                                      Wankhede Stadium                  25.0   \n",
       "...                                                 ...                   ...   \n",
       "1090  Punjab Cricket Association IS Bindra Stadium, ...                  26.0   \n",
       "1091         Punjab Cricket Association Stadium, Mohali                  39.0   \n",
       "1092                          Brabourne Stadium, Mumbai                   NaN   \n",
       "1093                              New Wanderers Stadium                   NaN   \n",
       "1094                Dubai International Cricket Stadium                   NaN   \n",
       "\n",
       "     info_event_stage info_outcome_method info_outcome_eliminator  \\\n",
       "0                 NaN                 NaN                     NaN   \n",
       "1                 NaN                 NaN                     NaN   \n",
       "2                 NaN                 NaN                     NaN   \n",
       "3                 NaN                 NaN                     NaN   \n",
       "4         Qualifier 1                 NaN                     NaN   \n",
       "...               ...                 ...                     ...   \n",
       "1090              NaN                 NaN                     NaN   \n",
       "1091              NaN                 NaN                     NaN   \n",
       "1092              NaN                 NaN                     NaN   \n",
       "1093              NaN                 NaN                     NaN   \n",
       "1094              NaN                 NaN                     NaN   \n",
       "\n",
       "     info_outcome_result info_dates_2  \n",
       "0                    NaN          NaN  \n",
       "1                    NaN          NaN  \n",
       "2                    NaN          NaN  \n",
       "3                    NaN          NaN  \n",
       "4                    NaN          NaN  \n",
       "...                  ...          ...  \n",
       "1090                 NaN          NaN  \n",
       "1091                 NaN          NaN  \n",
       "1092                 NaN          NaN  \n",
       "1093                 NaN          NaN  \n",
       "1094                 NaN          NaN  \n",
       "\n",
       "[1095 rows x 29 columns]"
      ]
     },
     "execution_count": 7,
     "metadata": {},
     "output_type": "execute_result"
    }
   ],
   "source": [
    "df"
   ]
  },
  {
   "cell_type": "code",
   "execution_count": 8,
   "metadata": {},
   "outputs": [],
   "source": [
    "df.to_csv(\"output/ipl_summary_raw.csv\", index=False)"
   ]
  },
  {
   "cell_type": "code",
   "execution_count": 9,
   "metadata": {},
   "outputs": [
    {
     "data": {
      "text/html": [
       "<div>\n",
       "<style scoped>\n",
       "    .dataframe tbody tr th:only-of-type {\n",
       "        vertical-align: middle;\n",
       "    }\n",
       "\n",
       "    .dataframe tbody tr th {\n",
       "        vertical-align: top;\n",
       "    }\n",
       "\n",
       "    .dataframe thead th {\n",
       "        text-align: right;\n",
       "    }\n",
       "</style>\n",
       "<table border=\"1\" class=\"dataframe\">\n",
       "  <thead>\n",
       "    <tr style=\"text-align: right;\">\n",
       "      <th></th>\n",
       "      <th>info_balls_per_over</th>\n",
       "      <th>info_city</th>\n",
       "      <th>info_dates_1</th>\n",
       "      <th>info_event_match_number</th>\n",
       "      <th>info_event_name</th>\n",
       "      <th>info_gender</th>\n",
       "      <th>info_match_type</th>\n",
       "      <th>info_officials_match_referees_1</th>\n",
       "      <th>info_officials_reserve_umpires_1</th>\n",
       "      <th>info_officials_tv_umpires_1</th>\n",
       "      <th>...</th>\n",
       "      <th>info_teams_2</th>\n",
       "      <th>info_toss_decision</th>\n",
       "      <th>info_toss_winner</th>\n",
       "      <th>info_venue</th>\n",
       "      <th>info_outcome_by_runs</th>\n",
       "      <th>info_event_stage</th>\n",
       "      <th>info_outcome_method</th>\n",
       "      <th>info_outcome_eliminator</th>\n",
       "      <th>info_outcome_result</th>\n",
       "      <th>info_dates_2</th>\n",
       "    </tr>\n",
       "  </thead>\n",
       "  <tbody>\n",
       "    <tr>\n",
       "      <th>0</th>\n",
       "      <td>6</td>\n",
       "      <td>Kolkata</td>\n",
       "      <td>2012-05-14</td>\n",
       "      <td>63.0</td>\n",
       "      <td>Indian Premier League</td>\n",
       "      <td>male</td>\n",
       "      <td>T20</td>\n",
       "      <td>Raju Mukherjee</td>\n",
       "      <td>AS Pathania</td>\n",
       "      <td>S Ravi</td>\n",
       "      <td>...</td>\n",
       "      <td>Chennai Super Kings</td>\n",
       "      <td>field</td>\n",
       "      <td>Chennai Super Kings</td>\n",
       "      <td>Eden Gardens</td>\n",
       "      <td>NaN</td>\n",
       "      <td>NaN</td>\n",
       "      <td>NaN</td>\n",
       "      <td>NaN</td>\n",
       "      <td>NaN</td>\n",
       "      <td>NaN</td>\n",
       "    </tr>\n",
       "    <tr>\n",
       "      <th>1</th>\n",
       "      <td>6</td>\n",
       "      <td>Mumbai</td>\n",
       "      <td>2021-04-15</td>\n",
       "      <td>7.0</td>\n",
       "      <td>Indian Premier League</td>\n",
       "      <td>male</td>\n",
       "      <td>T20</td>\n",
       "      <td>Shakti Singh</td>\n",
       "      <td>J Madanagopal</td>\n",
       "      <td>AK Chaudhary</td>\n",
       "      <td>...</td>\n",
       "      <td>Rajasthan Royals</td>\n",
       "      <td>field</td>\n",
       "      <td>Rajasthan Royals</td>\n",
       "      <td>Wankhede Stadium, Mumbai</td>\n",
       "      <td>NaN</td>\n",
       "      <td>NaN</td>\n",
       "      <td>NaN</td>\n",
       "      <td>NaN</td>\n",
       "      <td>NaN</td>\n",
       "      <td>NaN</td>\n",
       "    </tr>\n",
       "    <tr>\n",
       "      <th>2</th>\n",
       "      <td>6</td>\n",
       "      <td>Sharjah</td>\n",
       "      <td>2021-09-25</td>\n",
       "      <td>37.0</td>\n",
       "      <td>Indian Premier League</td>\n",
       "      <td>male</td>\n",
       "      <td>T20</td>\n",
       "      <td>Prakash Bhatt</td>\n",
       "      <td>J Madanagopal</td>\n",
       "      <td>KN Ananthapadmanabhan</td>\n",
       "      <td>...</td>\n",
       "      <td>Sunrisers Hyderabad</td>\n",
       "      <td>field</td>\n",
       "      <td>Sunrisers Hyderabad</td>\n",
       "      <td>Sharjah Cricket Stadium</td>\n",
       "      <td>5.0</td>\n",
       "      <td>NaN</td>\n",
       "      <td>NaN</td>\n",
       "      <td>NaN</td>\n",
       "      <td>NaN</td>\n",
       "      <td>NaN</td>\n",
       "    </tr>\n",
       "    <tr>\n",
       "      <th>3</th>\n",
       "      <td>6</td>\n",
       "      <td>Chennai</td>\n",
       "      <td>2012-04-28</td>\n",
       "      <td>37.0</td>\n",
       "      <td>Indian Premier League</td>\n",
       "      <td>male</td>\n",
       "      <td>T20</td>\n",
       "      <td>RS Mahanama</td>\n",
       "      <td>K Srinivasan</td>\n",
       "      <td>C Shamshuddin</td>\n",
       "      <td>...</td>\n",
       "      <td>Kings XI Punjab</td>\n",
       "      <td>bat</td>\n",
       "      <td>Kings XI Punjab</td>\n",
       "      <td>MA Chidambaram Stadium, Chepauk</td>\n",
       "      <td>7.0</td>\n",
       "      <td>NaN</td>\n",
       "      <td>NaN</td>\n",
       "      <td>NaN</td>\n",
       "      <td>NaN</td>\n",
       "      <td>NaN</td>\n",
       "    </tr>\n",
       "    <tr>\n",
       "      <th>4</th>\n",
       "      <td>6</td>\n",
       "      <td>Mumbai</td>\n",
       "      <td>2015-05-19</td>\n",
       "      <td>NaN</td>\n",
       "      <td>Indian Premier League</td>\n",
       "      <td>male</td>\n",
       "      <td>T20</td>\n",
       "      <td>RS Madugalle</td>\n",
       "      <td>CK Nandan</td>\n",
       "      <td>VA Kulkarni</td>\n",
       "      <td>...</td>\n",
       "      <td>Mumbai Indians</td>\n",
       "      <td>bat</td>\n",
       "      <td>Mumbai Indians</td>\n",
       "      <td>Wankhede Stadium</td>\n",
       "      <td>25.0</td>\n",
       "      <td>Qualifier 1</td>\n",
       "      <td>NaN</td>\n",
       "      <td>NaN</td>\n",
       "      <td>NaN</td>\n",
       "      <td>NaN</td>\n",
       "    </tr>\n",
       "  </tbody>\n",
       "</table>\n",
       "<p>5 rows × 29 columns</p>\n",
       "</div>"
      ],
      "text/plain": [
       "   info_balls_per_over info_city info_dates_1  info_event_match_number  \\\n",
       "0                    6   Kolkata   2012-05-14                     63.0   \n",
       "1                    6    Mumbai   2021-04-15                      7.0   \n",
       "2                    6   Sharjah   2021-09-25                     37.0   \n",
       "3                    6   Chennai   2012-04-28                     37.0   \n",
       "4                    6    Mumbai   2015-05-19                      NaN   \n",
       "\n",
       "         info_event_name info_gender info_match_type  \\\n",
       "0  Indian Premier League        male             T20   \n",
       "1  Indian Premier League        male             T20   \n",
       "2  Indian Premier League        male             T20   \n",
       "3  Indian Premier League        male             T20   \n",
       "4  Indian Premier League        male             T20   \n",
       "\n",
       "  info_officials_match_referees_1 info_officials_reserve_umpires_1  \\\n",
       "0                  Raju Mukherjee                      AS Pathania   \n",
       "1                    Shakti Singh                    J Madanagopal   \n",
       "2                   Prakash Bhatt                    J Madanagopal   \n",
       "3                     RS Mahanama                     K Srinivasan   \n",
       "4                    RS Madugalle                        CK Nandan   \n",
       "\n",
       "  info_officials_tv_umpires_1  ...         info_teams_2 info_toss_decision  \\\n",
       "0                      S Ravi  ...  Chennai Super Kings              field   \n",
       "1                AK Chaudhary  ...     Rajasthan Royals              field   \n",
       "2       KN Ananthapadmanabhan  ...  Sunrisers Hyderabad              field   \n",
       "3               C Shamshuddin  ...      Kings XI Punjab                bat   \n",
       "4                 VA Kulkarni  ...       Mumbai Indians                bat   \n",
       "\n",
       "      info_toss_winner                       info_venue  info_outcome_by_runs  \\\n",
       "0  Chennai Super Kings                     Eden Gardens                   NaN   \n",
       "1     Rajasthan Royals         Wankhede Stadium, Mumbai                   NaN   \n",
       "2  Sunrisers Hyderabad          Sharjah Cricket Stadium                   5.0   \n",
       "3      Kings XI Punjab  MA Chidambaram Stadium, Chepauk                   7.0   \n",
       "4       Mumbai Indians                 Wankhede Stadium                  25.0   \n",
       "\n",
       "  info_event_stage info_outcome_method info_outcome_eliminator  \\\n",
       "0              NaN                 NaN                     NaN   \n",
       "1              NaN                 NaN                     NaN   \n",
       "2              NaN                 NaN                     NaN   \n",
       "3              NaN                 NaN                     NaN   \n",
       "4      Qualifier 1                 NaN                     NaN   \n",
       "\n",
       "  info_outcome_result info_dates_2  \n",
       "0                 NaN          NaN  \n",
       "1                 NaN          NaN  \n",
       "2                 NaN          NaN  \n",
       "3                 NaN          NaN  \n",
       "4                 NaN          NaN  \n",
       "\n",
       "[5 rows x 29 columns]"
      ]
     },
     "execution_count": 9,
     "metadata": {},
     "output_type": "execute_result"
    }
   ],
   "source": [
    "df.head()"
   ]
  },
  {
   "cell_type": "code",
   "execution_count": 10,
   "metadata": {},
   "outputs": [],
   "source": [
    "def remove_prefix(x: str, to_replace: str, replace_by: str):\n",
    "    return x.replace(to_replace, replace_by)"
   ]
  },
  {
   "cell_type": "code",
   "execution_count": 11,
   "metadata": {},
   "outputs": [],
   "source": [
    "df.rename(\n",
    "    lambda x: remove_prefix(str(x), to_replace=\"info_\", replace_by=\"\"),\n",
    "    inplace=True,\n",
    "    axis=1,\n",
    ")"
   ]
  },
  {
   "cell_type": "code",
   "execution_count": 12,
   "metadata": {},
   "outputs": [],
   "source": [
    "df.rename(\n",
    "    lambda x: remove_prefix(str(x), to_replace=\" \", replace_by=\"_\"),\n",
    "    inplace=True,\n",
    "    axis=1,\n",
    ")"
   ]
  },
  {
   "cell_type": "code",
   "execution_count": 13,
   "metadata": {},
   "outputs": [],
   "source": [
    "df.rename(lambda x: str(x).lower(), inplace=True, axis=1)"
   ]
  },
  {
   "cell_type": "code",
   "execution_count": 14,
   "metadata": {},
   "outputs": [
    {
     "data": {
      "text/html": [
       "<div>\n",
       "<style scoped>\n",
       "    .dataframe tbody tr th:only-of-type {\n",
       "        vertical-align: middle;\n",
       "    }\n",
       "\n",
       "    .dataframe tbody tr th {\n",
       "        vertical-align: top;\n",
       "    }\n",
       "\n",
       "    .dataframe thead th {\n",
       "        text-align: right;\n",
       "    }\n",
       "</style>\n",
       "<table border=\"1\" class=\"dataframe\">\n",
       "  <thead>\n",
       "    <tr style=\"text-align: right;\">\n",
       "      <th></th>\n",
       "      <th>balls_per_over</th>\n",
       "      <th>city</th>\n",
       "      <th>dates_1</th>\n",
       "      <th>event_match_number</th>\n",
       "      <th>event_name</th>\n",
       "      <th>gender</th>\n",
       "      <th>match_type</th>\n",
       "      <th>officials_match_referees_1</th>\n",
       "      <th>officials_reserve_umpires_1</th>\n",
       "      <th>officials_tv_umpires_1</th>\n",
       "      <th>...</th>\n",
       "      <th>teams_2</th>\n",
       "      <th>toss_decision</th>\n",
       "      <th>toss_winner</th>\n",
       "      <th>venue</th>\n",
       "      <th>outcome_by_runs</th>\n",
       "      <th>event_stage</th>\n",
       "      <th>outcome_method</th>\n",
       "      <th>outcome_eliminator</th>\n",
       "      <th>outcome_result</th>\n",
       "      <th>dates_2</th>\n",
       "    </tr>\n",
       "  </thead>\n",
       "  <tbody>\n",
       "    <tr>\n",
       "      <th>0</th>\n",
       "      <td>6</td>\n",
       "      <td>Kolkata</td>\n",
       "      <td>2012-05-14</td>\n",
       "      <td>63.0</td>\n",
       "      <td>Indian Premier League</td>\n",
       "      <td>male</td>\n",
       "      <td>T20</td>\n",
       "      <td>Raju Mukherjee</td>\n",
       "      <td>AS Pathania</td>\n",
       "      <td>S Ravi</td>\n",
       "      <td>...</td>\n",
       "      <td>Chennai Super Kings</td>\n",
       "      <td>field</td>\n",
       "      <td>Chennai Super Kings</td>\n",
       "      <td>Eden Gardens</td>\n",
       "      <td>NaN</td>\n",
       "      <td>NaN</td>\n",
       "      <td>NaN</td>\n",
       "      <td>NaN</td>\n",
       "      <td>NaN</td>\n",
       "      <td>NaN</td>\n",
       "    </tr>\n",
       "    <tr>\n",
       "      <th>1</th>\n",
       "      <td>6</td>\n",
       "      <td>Mumbai</td>\n",
       "      <td>2021-04-15</td>\n",
       "      <td>7.0</td>\n",
       "      <td>Indian Premier League</td>\n",
       "      <td>male</td>\n",
       "      <td>T20</td>\n",
       "      <td>Shakti Singh</td>\n",
       "      <td>J Madanagopal</td>\n",
       "      <td>AK Chaudhary</td>\n",
       "      <td>...</td>\n",
       "      <td>Rajasthan Royals</td>\n",
       "      <td>field</td>\n",
       "      <td>Rajasthan Royals</td>\n",
       "      <td>Wankhede Stadium, Mumbai</td>\n",
       "      <td>NaN</td>\n",
       "      <td>NaN</td>\n",
       "      <td>NaN</td>\n",
       "      <td>NaN</td>\n",
       "      <td>NaN</td>\n",
       "      <td>NaN</td>\n",
       "    </tr>\n",
       "    <tr>\n",
       "      <th>2</th>\n",
       "      <td>6</td>\n",
       "      <td>Sharjah</td>\n",
       "      <td>2021-09-25</td>\n",
       "      <td>37.0</td>\n",
       "      <td>Indian Premier League</td>\n",
       "      <td>male</td>\n",
       "      <td>T20</td>\n",
       "      <td>Prakash Bhatt</td>\n",
       "      <td>J Madanagopal</td>\n",
       "      <td>KN Ananthapadmanabhan</td>\n",
       "      <td>...</td>\n",
       "      <td>Sunrisers Hyderabad</td>\n",
       "      <td>field</td>\n",
       "      <td>Sunrisers Hyderabad</td>\n",
       "      <td>Sharjah Cricket Stadium</td>\n",
       "      <td>5.0</td>\n",
       "      <td>NaN</td>\n",
       "      <td>NaN</td>\n",
       "      <td>NaN</td>\n",
       "      <td>NaN</td>\n",
       "      <td>NaN</td>\n",
       "    </tr>\n",
       "    <tr>\n",
       "      <th>3</th>\n",
       "      <td>6</td>\n",
       "      <td>Chennai</td>\n",
       "      <td>2012-04-28</td>\n",
       "      <td>37.0</td>\n",
       "      <td>Indian Premier League</td>\n",
       "      <td>male</td>\n",
       "      <td>T20</td>\n",
       "      <td>RS Mahanama</td>\n",
       "      <td>K Srinivasan</td>\n",
       "      <td>C Shamshuddin</td>\n",
       "      <td>...</td>\n",
       "      <td>Kings XI Punjab</td>\n",
       "      <td>bat</td>\n",
       "      <td>Kings XI Punjab</td>\n",
       "      <td>MA Chidambaram Stadium, Chepauk</td>\n",
       "      <td>7.0</td>\n",
       "      <td>NaN</td>\n",
       "      <td>NaN</td>\n",
       "      <td>NaN</td>\n",
       "      <td>NaN</td>\n",
       "      <td>NaN</td>\n",
       "    </tr>\n",
       "    <tr>\n",
       "      <th>4</th>\n",
       "      <td>6</td>\n",
       "      <td>Mumbai</td>\n",
       "      <td>2015-05-19</td>\n",
       "      <td>NaN</td>\n",
       "      <td>Indian Premier League</td>\n",
       "      <td>male</td>\n",
       "      <td>T20</td>\n",
       "      <td>RS Madugalle</td>\n",
       "      <td>CK Nandan</td>\n",
       "      <td>VA Kulkarni</td>\n",
       "      <td>...</td>\n",
       "      <td>Mumbai Indians</td>\n",
       "      <td>bat</td>\n",
       "      <td>Mumbai Indians</td>\n",
       "      <td>Wankhede Stadium</td>\n",
       "      <td>25.0</td>\n",
       "      <td>Qualifier 1</td>\n",
       "      <td>NaN</td>\n",
       "      <td>NaN</td>\n",
       "      <td>NaN</td>\n",
       "      <td>NaN</td>\n",
       "    </tr>\n",
       "  </tbody>\n",
       "</table>\n",
       "<p>5 rows × 29 columns</p>\n",
       "</div>"
      ],
      "text/plain": [
       "   balls_per_over     city     dates_1  event_match_number  \\\n",
       "0               6  Kolkata  2012-05-14                63.0   \n",
       "1               6   Mumbai  2021-04-15                 7.0   \n",
       "2               6  Sharjah  2021-09-25                37.0   \n",
       "3               6  Chennai  2012-04-28                37.0   \n",
       "4               6   Mumbai  2015-05-19                 NaN   \n",
       "\n",
       "              event_name gender match_type officials_match_referees_1  \\\n",
       "0  Indian Premier League   male        T20             Raju Mukherjee   \n",
       "1  Indian Premier League   male        T20               Shakti Singh   \n",
       "2  Indian Premier League   male        T20              Prakash Bhatt   \n",
       "3  Indian Premier League   male        T20                RS Mahanama   \n",
       "4  Indian Premier League   male        T20               RS Madugalle   \n",
       "\n",
       "  officials_reserve_umpires_1 officials_tv_umpires_1  ...  \\\n",
       "0                 AS Pathania                 S Ravi  ...   \n",
       "1               J Madanagopal           AK Chaudhary  ...   \n",
       "2               J Madanagopal  KN Ananthapadmanabhan  ...   \n",
       "3                K Srinivasan          C Shamshuddin  ...   \n",
       "4                   CK Nandan            VA Kulkarni  ...   \n",
       "\n",
       "               teams_2 toss_decision          toss_winner  \\\n",
       "0  Chennai Super Kings         field  Chennai Super Kings   \n",
       "1     Rajasthan Royals         field     Rajasthan Royals   \n",
       "2  Sunrisers Hyderabad         field  Sunrisers Hyderabad   \n",
       "3      Kings XI Punjab           bat      Kings XI Punjab   \n",
       "4       Mumbai Indians           bat       Mumbai Indians   \n",
       "\n",
       "                             venue  outcome_by_runs  event_stage  \\\n",
       "0                     Eden Gardens              NaN          NaN   \n",
       "1         Wankhede Stadium, Mumbai              NaN          NaN   \n",
       "2          Sharjah Cricket Stadium              5.0          NaN   \n",
       "3  MA Chidambaram Stadium, Chepauk              7.0          NaN   \n",
       "4                 Wankhede Stadium             25.0  Qualifier 1   \n",
       "\n",
       "  outcome_method outcome_eliminator outcome_result dates_2  \n",
       "0            NaN                NaN            NaN     NaN  \n",
       "1            NaN                NaN            NaN     NaN  \n",
       "2            NaN                NaN            NaN     NaN  \n",
       "3            NaN                NaN            NaN     NaN  \n",
       "4            NaN                NaN            NaN     NaN  \n",
       "\n",
       "[5 rows x 29 columns]"
      ]
     },
     "execution_count": 14,
     "metadata": {},
     "output_type": "execute_result"
    }
   ],
   "source": [
    "df.head()"
   ]
  },
  {
   "cell_type": "code",
   "execution_count": 15,
   "metadata": {},
   "outputs": [],
   "source": [
    "def populate_team_1(row):\n",
    "    toss_winner = row[\"toss_winner\"]\n",
    "    if row[\"toss_decision\"] == \"bat\":\n",
    "        team_1 = row[\"toss_winner\"]\n",
    "    else:\n",
    "        teams_1 = row[\"teams_1\"]\n",
    "        teams_2 = row[\"teams_2\"]\n",
    "        team_1 = teams_2 if toss_winner == teams_1 else teams_1\n",
    "\n",
    "    return team_1"
   ]
  },
  {
   "cell_type": "code",
   "execution_count": 16,
   "metadata": {},
   "outputs": [],
   "source": [
    "df[\"team_1\"] = df.apply(populate_team_1, axis=1)"
   ]
  },
  {
   "cell_type": "code",
   "execution_count": 17,
   "metadata": {},
   "outputs": [],
   "source": [
    "def populate_team_2(row):\n",
    "    toss_winner = row[\"toss_winner\"]\n",
    "    if row[\"toss_decision\"] == \"field\":\n",
    "        team_2 = row[\"toss_winner\"]\n",
    "    else:\n",
    "        teams_1 = row[\"teams_1\"]\n",
    "        teams_2 = row[\"teams_2\"]\n",
    "        team_2 = teams_2 if toss_winner == teams_1 else teams_1\n",
    "\n",
    "    return team_2"
   ]
  },
  {
   "cell_type": "code",
   "execution_count": 18,
   "metadata": {},
   "outputs": [],
   "source": [
    "df[\"team_2\"] = df.apply(populate_team_2, axis=1)"
   ]
  },
  {
   "cell_type": "code",
   "execution_count": 19,
   "metadata": {},
   "outputs": [
    {
     "data": {
      "text/plain": [
       "Index(['balls_per_over', 'city', 'dates_1', 'event_match_number', 'event_name',\n",
       "       'gender', 'match_type', 'officials_match_referees_1',\n",
       "       'officials_reserve_umpires_1', 'officials_tv_umpires_1',\n",
       "       'officials_umpires_1', 'officials_umpires_2', 'outcome_by_wickets',\n",
       "       'outcome_winner', 'overs', 'player_of_match_1', 'season', 'team_type',\n",
       "       'teams_1', 'teams_2', 'toss_decision', 'toss_winner', 'venue',\n",
       "       'outcome_by_runs', 'event_stage', 'outcome_method',\n",
       "       'outcome_eliminator', 'outcome_result', 'dates_2', 'team_1', 'team_2'],\n",
       "      dtype='object')"
      ]
     },
     "execution_count": 19,
     "metadata": {},
     "output_type": "execute_result"
    }
   ],
   "source": [
    "df.columns"
   ]
  },
  {
   "cell_type": "code",
   "execution_count": 20,
   "metadata": {},
   "outputs": [
    {
     "data": {
      "text/html": [
       "<div>\n",
       "<style scoped>\n",
       "    .dataframe tbody tr th:only-of-type {\n",
       "        vertical-align: middle;\n",
       "    }\n",
       "\n",
       "    .dataframe tbody tr th {\n",
       "        vertical-align: top;\n",
       "    }\n",
       "\n",
       "    .dataframe thead th {\n",
       "        text-align: right;\n",
       "    }\n",
       "</style>\n",
       "<table border=\"1\" class=\"dataframe\">\n",
       "  <thead>\n",
       "    <tr style=\"text-align: right;\">\n",
       "      <th></th>\n",
       "      <th>teams_1</th>\n",
       "      <th>teams_2</th>\n",
       "      <th>toss_decision</th>\n",
       "      <th>toss_winner</th>\n",
       "      <th>outcome_winner</th>\n",
       "      <th>team_1</th>\n",
       "      <th>team_2</th>\n",
       "    </tr>\n",
       "  </thead>\n",
       "  <tbody>\n",
       "    <tr>\n",
       "      <th>0</th>\n",
       "      <td>Kolkata Knight Riders</td>\n",
       "      <td>Chennai Super Kings</td>\n",
       "      <td>field</td>\n",
       "      <td>Chennai Super Kings</td>\n",
       "      <td>Chennai Super Kings</td>\n",
       "      <td>Kolkata Knight Riders</td>\n",
       "      <td>Chennai Super Kings</td>\n",
       "    </tr>\n",
       "    <tr>\n",
       "      <th>1</th>\n",
       "      <td>Delhi Capitals</td>\n",
       "      <td>Rajasthan Royals</td>\n",
       "      <td>field</td>\n",
       "      <td>Rajasthan Royals</td>\n",
       "      <td>Rajasthan Royals</td>\n",
       "      <td>Delhi Capitals</td>\n",
       "      <td>Rajasthan Royals</td>\n",
       "    </tr>\n",
       "    <tr>\n",
       "      <th>2</th>\n",
       "      <td>Punjab Kings</td>\n",
       "      <td>Sunrisers Hyderabad</td>\n",
       "      <td>field</td>\n",
       "      <td>Sunrisers Hyderabad</td>\n",
       "      <td>Punjab Kings</td>\n",
       "      <td>Punjab Kings</td>\n",
       "      <td>Sunrisers Hyderabad</td>\n",
       "    </tr>\n",
       "    <tr>\n",
       "      <th>3</th>\n",
       "      <td>Chennai Super Kings</td>\n",
       "      <td>Kings XI Punjab</td>\n",
       "      <td>bat</td>\n",
       "      <td>Kings XI Punjab</td>\n",
       "      <td>Kings XI Punjab</td>\n",
       "      <td>Kings XI Punjab</td>\n",
       "      <td>Chennai Super Kings</td>\n",
       "    </tr>\n",
       "    <tr>\n",
       "      <th>4</th>\n",
       "      <td>Chennai Super Kings</td>\n",
       "      <td>Mumbai Indians</td>\n",
       "      <td>bat</td>\n",
       "      <td>Mumbai Indians</td>\n",
       "      <td>Mumbai Indians</td>\n",
       "      <td>Mumbai Indians</td>\n",
       "      <td>Chennai Super Kings</td>\n",
       "    </tr>\n",
       "  </tbody>\n",
       "</table>\n",
       "</div>"
      ],
      "text/plain": [
       "                 teams_1              teams_2 toss_decision  \\\n",
       "0  Kolkata Knight Riders  Chennai Super Kings         field   \n",
       "1         Delhi Capitals     Rajasthan Royals         field   \n",
       "2           Punjab Kings  Sunrisers Hyderabad         field   \n",
       "3    Chennai Super Kings      Kings XI Punjab           bat   \n",
       "4    Chennai Super Kings       Mumbai Indians           bat   \n",
       "\n",
       "           toss_winner       outcome_winner                 team_1  \\\n",
       "0  Chennai Super Kings  Chennai Super Kings  Kolkata Knight Riders   \n",
       "1     Rajasthan Royals     Rajasthan Royals         Delhi Capitals   \n",
       "2  Sunrisers Hyderabad         Punjab Kings           Punjab Kings   \n",
       "3      Kings XI Punjab      Kings XI Punjab        Kings XI Punjab   \n",
       "4       Mumbai Indians       Mumbai Indians         Mumbai Indians   \n",
       "\n",
       "                team_2  \n",
       "0  Chennai Super Kings  \n",
       "1     Rajasthan Royals  \n",
       "2  Sunrisers Hyderabad  \n",
       "3  Chennai Super Kings  \n",
       "4  Chennai Super Kings  "
      ]
     },
     "execution_count": 20,
     "metadata": {},
     "output_type": "execute_result"
    }
   ],
   "source": [
    "sel_cols = [\n",
    "    \"teams_1\",\n",
    "    \"teams_2\",\n",
    "    \"toss_decision\",\n",
    "    \"toss_winner\",\n",
    "    \"outcome_winner\",\n",
    "    \"team_1\",\n",
    "    \"team_2\",\n",
    "]\n",
    "df[sel_cols].head()"
   ]
  },
  {
   "cell_type": "code",
   "execution_count": 21,
   "metadata": {},
   "outputs": [],
   "source": [
    "df.drop(columns=[\"teams_1\", \"teams_2\"], inplace=True)"
   ]
  },
  {
   "cell_type": "markdown",
   "metadata": {},
   "source": [
    "### Following columns have only a single value and so can be dropped from the dataframe\n",
    "\n",
    "1. balls_per_over\n",
    "2. event_name\n",
    "3. gender\n",
    "4. match_type\n",
    "5. overs\n",
    "6. team_type\n"
   ]
  },
  {
   "cell_type": "code",
   "execution_count": 22,
   "metadata": {},
   "outputs": [
    {
     "data": {
      "text/plain": [
       "balls_per_over\n",
       "6    1095\n",
       "Name: count, dtype: int64"
      ]
     },
     "execution_count": 22,
     "metadata": {},
     "output_type": "execute_result"
    }
   ],
   "source": [
    "df[\"balls_per_over\"].value_counts()"
   ]
  },
  {
   "cell_type": "code",
   "execution_count": 23,
   "metadata": {},
   "outputs": [
    {
     "data": {
      "text/plain": [
       "event_name\n",
       "Indian Premier League    1095\n",
       "Name: count, dtype: int64"
      ]
     },
     "execution_count": 23,
     "metadata": {},
     "output_type": "execute_result"
    }
   ],
   "source": [
    "df[\"event_name\"].value_counts()"
   ]
  },
  {
   "cell_type": "code",
   "execution_count": 24,
   "metadata": {},
   "outputs": [
    {
     "data": {
      "text/plain": [
       "gender\n",
       "male    1095\n",
       "Name: count, dtype: int64"
      ]
     },
     "execution_count": 24,
     "metadata": {},
     "output_type": "execute_result"
    }
   ],
   "source": [
    "df[\"gender\"].value_counts()"
   ]
  },
  {
   "cell_type": "code",
   "execution_count": 25,
   "metadata": {},
   "outputs": [
    {
     "data": {
      "text/plain": [
       "match_type\n",
       "T20    1095\n",
       "Name: count, dtype: int64"
      ]
     },
     "execution_count": 25,
     "metadata": {},
     "output_type": "execute_result"
    }
   ],
   "source": [
    "df[\"match_type\"].value_counts()"
   ]
  },
  {
   "cell_type": "code",
   "execution_count": 26,
   "metadata": {},
   "outputs": [
    {
     "data": {
      "text/plain": [
       "overs\n",
       "20    1095\n",
       "Name: count, dtype: int64"
      ]
     },
     "execution_count": 26,
     "metadata": {},
     "output_type": "execute_result"
    }
   ],
   "source": [
    "df[\"overs\"].value_counts()"
   ]
  },
  {
   "cell_type": "code",
   "execution_count": 27,
   "metadata": {},
   "outputs": [
    {
     "data": {
      "text/plain": [
       "team_type\n",
       "club    1095\n",
       "Name: count, dtype: int64"
      ]
     },
     "execution_count": 27,
     "metadata": {},
     "output_type": "execute_result"
    }
   ],
   "source": [
    "df[\"team_type\"].value_counts()"
   ]
  },
  {
   "cell_type": "code",
   "execution_count": 28,
   "metadata": {},
   "outputs": [],
   "source": [
    "df.drop(\n",
    "    columns=[\n",
    "        \"balls_per_over\",\n",
    "        \"event_name\",\n",
    "        \"gender\",\n",
    "        \"match_type\",\n",
    "        \"overs\",\n",
    "        \"team_type\",\n",
    "    ],\n",
    "    inplace=True,\n",
    ")"
   ]
  },
  {
   "cell_type": "markdown",
   "metadata": {},
   "source": [
    "### Season has 2016 represented as string and numeric and so it is showing up as two different values. Convert to str type\n"
   ]
  },
  {
   "cell_type": "code",
   "execution_count": 29,
   "metadata": {},
   "outputs": [
    {
     "data": {
      "text/plain": [
       "season\n",
       "2016    59\n",
       "2016     1\n",
       "Name: count, dtype: int64"
      ]
     },
     "execution_count": 29,
     "metadata": {},
     "output_type": "execute_result"
    }
   ],
   "source": [
    "df[df[\"season\"].apply(lambda x: str(x).strip().find(\"2016\") != -1)][\n",
    "    \"season\"\n",
    "].value_counts()"
   ]
  },
  {
   "cell_type": "code",
   "execution_count": 30,
   "metadata": {},
   "outputs": [],
   "source": [
    "df[\"season\"] = df[\"season\"].astype(str)"
   ]
  },
  {
   "cell_type": "code",
   "execution_count": 31,
   "metadata": {},
   "outputs": [
    {
     "name": "stdout",
     "output_type": "stream",
     "text": [
      "<class 'pandas.core.frame.DataFrame'>\n",
      "RangeIndex: 1095 entries, 0 to 1094\n",
      "Data columns (total 23 columns):\n",
      " #   Column                       Non-Null Count  Dtype  \n",
      "---  ------                       --------------  -----  \n",
      " 0   city                         1044 non-null   object \n",
      " 1   dates_1                      1095 non-null   object \n",
      " 2   event_match_number           1029 non-null   float64\n",
      " 3   officials_match_referees_1   1095 non-null   object \n",
      " 4   officials_reserve_umpires_1  1071 non-null   object \n",
      " 5   officials_tv_umpires_1       1091 non-null   object \n",
      " 6   officials_umpires_1          1095 non-null   object \n",
      " 7   officials_umpires_2          1095 non-null   object \n",
      " 8   outcome_by_wickets           578 non-null    float64\n",
      " 9   outcome_winner               1076 non-null   object \n",
      " 10  player_of_match_1            1090 non-null   object \n",
      " 11  season                       1095 non-null   object \n",
      " 12  toss_decision                1095 non-null   object \n",
      " 13  toss_winner                  1095 non-null   object \n",
      " 14  venue                        1095 non-null   object \n",
      " 15  outcome_by_runs              498 non-null    float64\n",
      " 16  event_stage                  66 non-null     object \n",
      " 17  outcome_method               21 non-null     object \n",
      " 18  outcome_eliminator           14 non-null     object \n",
      " 19  outcome_result               19 non-null     object \n",
      " 20  dates_2                      2 non-null      object \n",
      " 21  team_1                       1095 non-null   object \n",
      " 22  team_2                       1095 non-null   object \n",
      "dtypes: float64(3), object(20)\n",
      "memory usage: 196.9+ KB\n"
     ]
    }
   ],
   "source": [
    "df.info()"
   ]
  },
  {
   "cell_type": "code",
   "execution_count": 32,
   "metadata": {},
   "outputs": [],
   "source": [
    "df.loc[df[\"event_match_number\"].isnull(), \"event_match_number\"] = -1"
   ]
  },
  {
   "cell_type": "code",
   "execution_count": 33,
   "metadata": {},
   "outputs": [],
   "source": [
    "df[\"event_match_number\"] = df[\"event_match_number\"].astype(int)"
   ]
  },
  {
   "cell_type": "code",
   "execution_count": 34,
   "metadata": {},
   "outputs": [
    {
     "data": {
      "text/plain": [
       "array([63,  7, 37, -1, 23,  3, 11, 10, 46, 57, 70, 31, 55, 22, 45, 32, 68,\n",
       "        6, 47, 34, 48, 62, 13, 17, 39, 38, 20, 61, 66, 44, 28, 33, 65,  4,\n",
       "       43, 36, 26, 14, 69,  5, 40, 50, 49,  9, 27,  1,  8, 42, 21, 19, 30,\n",
       "       53,  2, 51, 52, 12, 16, 71, 58, 59, 24, 18, 15, 72, 35, 54, 29, 41,\n",
       "       64, 67, 56, 60, 25])"
      ]
     },
     "execution_count": 34,
     "metadata": {},
     "output_type": "execute_result"
    }
   ],
   "source": [
    "df[\"event_match_number\"].unique()"
   ]
  },
  {
   "cell_type": "code",
   "execution_count": 35,
   "metadata": {},
   "outputs": [
    {
     "data": {
      "text/html": [
       "<div>\n",
       "<style scoped>\n",
       "    .dataframe tbody tr th:only-of-type {\n",
       "        vertical-align: middle;\n",
       "    }\n",
       "\n",
       "    .dataframe tbody tr th {\n",
       "        vertical-align: top;\n",
       "    }\n",
       "\n",
       "    .dataframe thead th {\n",
       "        text-align: right;\n",
       "    }\n",
       "</style>\n",
       "<table border=\"1\" class=\"dataframe\">\n",
       "  <thead>\n",
       "    <tr style=\"text-align: right;\">\n",
       "      <th></th>\n",
       "      <th>event_match_number</th>\n",
       "      <th>outcome_by_wickets</th>\n",
       "      <th>outcome_by_runs</th>\n",
       "    </tr>\n",
       "  </thead>\n",
       "  <tbody>\n",
       "    <tr>\n",
       "      <th>count</th>\n",
       "      <td>1095.000000</td>\n",
       "      <td>578.000000</td>\n",
       "      <td>498.000000</td>\n",
       "    </tr>\n",
       "    <tr>\n",
       "      <th>mean</th>\n",
       "      <td>29.479452</td>\n",
       "      <td>6.192042</td>\n",
       "      <td>30.104418</td>\n",
       "    </tr>\n",
       "    <tr>\n",
       "      <th>std</th>\n",
       "      <td>19.388911</td>\n",
       "      <td>1.845733</td>\n",
       "      <td>26.739844</td>\n",
       "    </tr>\n",
       "    <tr>\n",
       "      <th>min</th>\n",
       "      <td>-1.000000</td>\n",
       "      <td>1.000000</td>\n",
       "      <td>1.000000</td>\n",
       "    </tr>\n",
       "    <tr>\n",
       "      <th>25%</th>\n",
       "      <td>13.000000</td>\n",
       "      <td>5.000000</td>\n",
       "      <td>11.000000</td>\n",
       "    </tr>\n",
       "    <tr>\n",
       "      <th>50%</th>\n",
       "      <td>29.000000</td>\n",
       "      <td>6.000000</td>\n",
       "      <td>22.000000</td>\n",
       "    </tr>\n",
       "    <tr>\n",
       "      <th>75%</th>\n",
       "      <td>45.000000</td>\n",
       "      <td>7.000000</td>\n",
       "      <td>41.000000</td>\n",
       "    </tr>\n",
       "    <tr>\n",
       "      <th>max</th>\n",
       "      <td>72.000000</td>\n",
       "      <td>10.000000</td>\n",
       "      <td>146.000000</td>\n",
       "    </tr>\n",
       "  </tbody>\n",
       "</table>\n",
       "</div>"
      ],
      "text/plain": [
       "       event_match_number  outcome_by_wickets  outcome_by_runs\n",
       "count         1095.000000          578.000000       498.000000\n",
       "mean            29.479452            6.192042        30.104418\n",
       "std             19.388911            1.845733        26.739844\n",
       "min             -1.000000            1.000000         1.000000\n",
       "25%             13.000000            5.000000        11.000000\n",
       "50%             29.000000            6.000000        22.000000\n",
       "75%             45.000000            7.000000        41.000000\n",
       "max             72.000000           10.000000       146.000000"
      ]
     },
     "execution_count": 35,
     "metadata": {},
     "output_type": "execute_result"
    }
   ],
   "source": [
    "df.describe()"
   ]
  },
  {
   "cell_type": "code",
   "execution_count": 36,
   "metadata": {},
   "outputs": [
    {
     "name": "stdout",
     "output_type": "stream",
     "text": [
      "city => object\n",
      "dates_1 => object\n",
      "event_match_number => int64\n",
      "officials_match_referees_1 => object\n",
      "officials_reserve_umpires_1 => object\n",
      "officials_tv_umpires_1 => object\n",
      "officials_umpires_1 => object\n",
      "officials_umpires_2 => object\n",
      "outcome_by_wickets => float64\n",
      "outcome_winner => object\n",
      "player_of_match_1 => object\n",
      "season => object\n",
      "toss_decision => object\n",
      "toss_winner => object\n",
      "venue => object\n",
      "outcome_by_runs => float64\n",
      "event_stage => object\n",
      "outcome_method => object\n",
      "outcome_eliminator => object\n",
      "outcome_result => object\n",
      "dates_2 => object\n",
      "team_1 => object\n",
      "team_2 => object\n"
     ]
    }
   ],
   "source": [
    "for col in df.columns:\n",
    "    print(col, df[col].dtype, sep=\" => \")"
   ]
  },
  {
   "cell_type": "markdown",
   "metadata": {},
   "source": [
    "# Handle Missing Values\n"
   ]
  },
  {
   "cell_type": "code",
   "execution_count": 37,
   "metadata": {},
   "outputs": [],
   "source": [
    "# populate missing city values based on the stadium\n",
    "df.loc[df[\"venue\"] == \"Sharjah Cricket Stadium\", \"city\"] = \"Sharjah\"\n",
    "df.loc[df[\"venue\"] == \"Dubai International Cricket Stadium\", \"city\"] = \"Dubai\""
   ]
  },
  {
   "cell_type": "code",
   "execution_count": 38,
   "metadata": {},
   "outputs": [],
   "source": [
    "# Drop dates_2 and outcome_eliminator columns as it has 98% missing values\n",
    "df = df.drop(columns=[\"dates_2\", \"outcome_eliminator\"])"
   ]
  },
  {
   "cell_type": "code",
   "execution_count": 39,
   "metadata": {},
   "outputs": [],
   "source": [
    "# Defaulting the event_stage to group_stage as it is left blank\n",
    "df.loc[df[\"event_stage\"].isnull(), \"event_stage\"] = \"group_stage\""
   ]
  },
  {
   "cell_type": "code",
   "execution_count": 40,
   "metadata": {},
   "outputs": [],
   "source": [
    "df.loc[df[\"outcome_winner\"].isnull(), \"outcome_winner\"] = df[\"outcome_result\"]"
   ]
  },
  {
   "cell_type": "code",
   "execution_count": 41,
   "metadata": {},
   "outputs": [],
   "source": [
    "df.loc[df[\"outcome_method\"].isnull(), \"outcome_method\"] = \"regular\""
   ]
  },
  {
   "cell_type": "code",
   "execution_count": 42,
   "metadata": {},
   "outputs": [],
   "source": [
    "# drop outcome_result as it is merged in the outcome_winner column\n",
    "df.drop(columns=[\"outcome_result\"], inplace=True)"
   ]
  },
  {
   "cell_type": "code",
   "execution_count": 43,
   "metadata": {},
   "outputs": [],
   "source": [
    "# Fix season values\n",
    "df.loc[df[\"season\"] == \"2007/08\", \"season\"] = \"2008\"\n",
    "df.loc[df[\"season\"] == \"2009/10\", \"season\"] = \"2010\"\n",
    "df.loc[df[\"season\"] == \"2020/21\", \"season\"] = \"2020\""
   ]
  },
  {
   "cell_type": "code",
   "execution_count": 44,
   "metadata": {},
   "outputs": [
    {
     "data": {
      "text/plain": [
       "season\n",
       "2008    58\n",
       "2009    57\n",
       "2010    60\n",
       "2011    73\n",
       "2012    74\n",
       "2013    76\n",
       "2014    60\n",
       "2015    59\n",
       "2016    60\n",
       "2017    59\n",
       "2018    60\n",
       "2019    60\n",
       "2020    60\n",
       "2021    60\n",
       "2022    74\n",
       "2023    74\n",
       "2024    71\n",
       "Name: count, dtype: int64"
      ]
     },
     "execution_count": 44,
     "metadata": {},
     "output_type": "execute_result"
    }
   ],
   "source": [
    "df[\"season\"].value_counts().sort_index()"
   ]
  },
  {
   "cell_type": "code",
   "execution_count": 45,
   "metadata": {},
   "outputs": [],
   "source": [
    "df[\"season\"] = df[\"season\"].astype(int)"
   ]
  },
  {
   "cell_type": "code",
   "execution_count": 46,
   "metadata": {},
   "outputs": [
    {
     "name": "stdout",
     "output_type": "stream",
     "text": [
      "66\n"
     ]
    },
    {
     "data": {
      "text/html": [
       "<div>\n",
       "<style scoped>\n",
       "    .dataframe tbody tr th:only-of-type {\n",
       "        vertical-align: middle;\n",
       "    }\n",
       "\n",
       "    .dataframe tbody tr th {\n",
       "        vertical-align: top;\n",
       "    }\n",
       "\n",
       "    .dataframe thead th {\n",
       "        text-align: right;\n",
       "    }\n",
       "</style>\n",
       "<table border=\"1\" class=\"dataframe\">\n",
       "  <thead>\n",
       "    <tr style=\"text-align: right;\">\n",
       "      <th></th>\n",
       "      <th>season</th>\n",
       "      <th>dates_1</th>\n",
       "    </tr>\n",
       "  </thead>\n",
       "  <tbody>\n",
       "    <tr>\n",
       "      <th>1063</th>\n",
       "      <td>2008</td>\n",
       "      <td>2008-05-30</td>\n",
       "    </tr>\n",
       "    <tr>\n",
       "      <th>855</th>\n",
       "      <td>2008</td>\n",
       "      <td>2008-05-31</td>\n",
       "    </tr>\n",
       "    <tr>\n",
       "      <th>500</th>\n",
       "      <td>2008</td>\n",
       "      <td>2008-06-01</td>\n",
       "    </tr>\n",
       "    <tr>\n",
       "      <th>668</th>\n",
       "      <td>2009</td>\n",
       "      <td>2009-05-22</td>\n",
       "    </tr>\n",
       "    <tr>\n",
       "      <th>103</th>\n",
       "      <td>2009</td>\n",
       "      <td>2009-05-23</td>\n",
       "    </tr>\n",
       "    <tr>\n",
       "      <th>...</th>\n",
       "      <td>...</td>\n",
       "      <td>...</td>\n",
       "    </tr>\n",
       "    <tr>\n",
       "      <th>172</th>\n",
       "      <td>2023</td>\n",
       "      <td>2023-05-29</td>\n",
       "    </tr>\n",
       "    <tr>\n",
       "      <th>1088</th>\n",
       "      <td>2024</td>\n",
       "      <td>2024-05-21</td>\n",
       "    </tr>\n",
       "    <tr>\n",
       "      <th>61</th>\n",
       "      <td>2024</td>\n",
       "      <td>2024-05-22</td>\n",
       "    </tr>\n",
       "    <tr>\n",
       "      <th>124</th>\n",
       "      <td>2024</td>\n",
       "      <td>2024-05-24</td>\n",
       "    </tr>\n",
       "    <tr>\n",
       "      <th>1068</th>\n",
       "      <td>2024</td>\n",
       "      <td>2024-05-26</td>\n",
       "    </tr>\n",
       "  </tbody>\n",
       "</table>\n",
       "<p>66 rows × 2 columns</p>\n",
       "</div>"
      ],
      "text/plain": [
       "      season     dates_1\n",
       "1063    2008  2008-05-30\n",
       "855     2008  2008-05-31\n",
       "500     2008  2008-06-01\n",
       "668     2009  2009-05-22\n",
       "103     2009  2009-05-23\n",
       "...      ...         ...\n",
       "172     2023  2023-05-29\n",
       "1088    2024  2024-05-21\n",
       "61      2024  2024-05-22\n",
       "124     2024  2024-05-24\n",
       "1068    2024  2024-05-26\n",
       "\n",
       "[66 rows x 2 columns]"
      ]
     },
     "execution_count": 46,
     "metadata": {},
     "output_type": "execute_result"
    }
   ],
   "source": [
    "# Handle event_match_number\n",
    "print(len(df.loc[df[\"event_match_number\"] == -1, \"event_match_number\"]))\n",
    "df.loc[df[\"event_match_number\"] == -1, [\"season\", \"dates_1\"]].sort_values(by=\"dates_1\")"
   ]
  },
  {
   "cell_type": "code",
   "execution_count": 47,
   "metadata": {},
   "outputs": [],
   "source": [
    "# Not using this as we are populating the missing match numbers with event stage\n",
    "def populate_match_numbers(df, season):\n",
    "    df_part = df.loc[\n",
    "        (df[\"season\"] == season) & (df[\"event_match_number\"].isnull()),\n",
    "        [\"event_match_number\", \"dates_1\"],\n",
    "    ].sort_values(by=\"dates_1\")\n",
    "    max_match_number = df[df[\"season\"] == season][\"event_match_number\"].max() + 1\n",
    "    print(df_part)\n",
    "    for index, _ in df_part.iterrows():\n",
    "        df.loc[index, \"event_match_number\"] = max_match_number\n",
    "        max_match_number += 1\n",
    "\n",
    "    print(df)"
   ]
  },
  {
   "cell_type": "code",
   "execution_count": 48,
   "metadata": {},
   "outputs": [],
   "source": [
    "# Not using this as we are populating the missing match numbers with event stage\n",
    "def populate_match_numbers_across_seasons(df):\n",
    "    for seas in df.season.unique():\n",
    "        populate_match_numbers(df, seas)"
   ]
  },
  {
   "cell_type": "code",
   "execution_count": 49,
   "metadata": {},
   "outputs": [],
   "source": [
    "# Not using this as we are populating the missing match numbers with event stage\n",
    "# populate_match_numbers_across_seasons(df)"
   ]
  },
  {
   "cell_type": "code",
   "execution_count": 50,
   "metadata": {},
   "outputs": [],
   "source": [
    "# note that this would convert the null values to string \"nan\"\n",
    "df[\"event_match_number\"] = df[\"event_match_number\"].astype(str)"
   ]
  },
  {
   "cell_type": "code",
   "execution_count": 51,
   "metadata": {},
   "outputs": [],
   "source": [
    "df.loc[df[\"event_match_number\"] == \"-1\", [\"event_match_number\"]] = df[\"event_stage\"]"
   ]
  },
  {
   "cell_type": "code",
   "execution_count": 52,
   "metadata": {},
   "outputs": [
    {
     "data": {
      "text/plain": [
       "array(['63', '7', '37', 'Qualifier 1', '23', '3', '11', '10', '46', '57',\n",
       "       '70', '31', 'Qualifier 2', '55', '22', '45', '32', '68', '6', '47',\n",
       "       '34', '48', '62', '13', '17', 'Final', '39', '38', '20', '61',\n",
       "       '66', '44', '28', '33', '65', '4', '43', '36', '26', '14', '69',\n",
       "       '5', 'Eliminator', '40', '50', '49', '9', '27', '1', '8', '42',\n",
       "       '21', '19', '30', '53', '2', '51', 'Semi Final', '52', '12', '16',\n",
       "       '71', '58', '59', '24', '18', '15', '72', '35', '54', '29', '41',\n",
       "       '64', '67', '56', '60', '25', 'Elimination Final',\n",
       "       '3rd Place Play-Off'], dtype=object)"
      ]
     },
     "execution_count": 52,
     "metadata": {},
     "output_type": "execute_result"
    }
   ],
   "source": [
    "df[\"event_match_number\"].unique()"
   ]
  },
  {
   "cell_type": "code",
   "execution_count": 53,
   "metadata": {},
   "outputs": [
    {
     "data": {
      "text/plain": [
       "0                                          Eden Gardens\n",
       "1                              Wankhede Stadium, Mumbai\n",
       "2                               Sharjah Cricket Stadium\n",
       "3                       MA Chidambaram Stadium, Chepauk\n",
       "4                                      Wankhede Stadium\n",
       "5                                      Feroz Shah Kotla\n",
       "6                                 Eden Gardens, Kolkata\n",
       "7            Punjab Cricket Association Stadium, Mohali\n",
       "8                      M Chinnaswamy Stadium, Bengaluru\n",
       "9                                  Arun Jaitley Stadium\n",
       "10        Maharashtra Cricket Association Stadium, Pune\n",
       "11                            Brabourne Stadium, Mumbai\n",
       "12                                M Chinnaswamy Stadium\n",
       "13                                 Sheikh Zayed Stadium\n",
       "14                                M.Chinnaswamy Stadium\n",
       "15     Shaheed Veer Narayan Singh International Stadium\n",
       "16                     Narendra Modi Stadium, Ahmedabad\n",
       "17            Rajiv Gandhi International Stadium, Uppal\n",
       "18             MA Chidambaram Stadium, Chepauk, Chennai\n",
       "19                     Zayed Cricket Stadium, Abu Dhabi\n",
       "20                                      SuperSport Park\n",
       "21                           Dr DY Patil Sports Academy\n",
       "22               Saurashtra Cricket Association Stadium\n",
       "23                   Dr DY Patil Sports Academy, Mumbai\n",
       "24                                     St George's Park\n",
       "25                  Dubai International Cricket Stadium\n",
       "26                               Holkar Cricket Stadium\n",
       "27    Punjab Cricket Association IS Bindra Stadium, ...\n",
       "28    Bharat Ratna Shri Atal Bihari Vajpayee Ekana C...\n",
       "29              Maharashtra Cricket Association Stadium\n",
       "30                                    Brabourne Stadium\n",
       "31                       Sawai Mansingh Stadium, Jaipur\n",
       "32                                             Newlands\n",
       "33                                            Kingsmead\n",
       "34    Punjab Cricket Association IS Bindra Stadium, ...\n",
       "35    Rajiv Gandhi International Stadium, Uppal, Hyd...\n",
       "36                                New Wanderers Stadium\n",
       "37                   JSCA International Stadium Complex\n",
       "38    Dr. Y.S. Rajasekhara Reddy ACA-VDCA Cricket St...\n",
       "39                               MA Chidambaram Stadium\n",
       "40                   Rajiv Gandhi International Stadium\n",
       "41                               Sawai Mansingh Stadium\n",
       "42                           Subrata Roy Sahara Stadium\n",
       "43         Himachal Pradesh Cricket Association Stadium\n",
       "44         Punjab Cricket Association IS Bindra Stadium\n",
       "45         Vidarbha Cricket Association Stadium, Jamtha\n",
       "46                         Sardar Patel Stadium, Motera\n",
       "47                          Arun Jaitley Stadium, Delhi\n",
       "48                                De Beers Diamond Oval\n",
       "49                                     Barabati Stadium\n",
       "50    Maharaja Yadavindra Singh International Cricke...\n",
       "51                                         Buffalo Park\n",
       "52                                        Nehru Stadium\n",
       "53    Himachal Pradesh Cricket Association Stadium, ...\n",
       "54    Dr. Y.S. Rajasekhara Reddy ACA-VDCA Cricket St...\n",
       "55                                           Green Park\n",
       "56                  Barsapara Cricket Stadium, Guwahati\n",
       "57                                      OUTsurance Oval\n",
       "dtype: object"
      ]
     },
     "execution_count": 53,
     "metadata": {},
     "output_type": "execute_result"
    }
   ],
   "source": [
    "pd.Series(df[\"venue\"].unique())"
   ]
  },
  {
   "cell_type": "code",
   "execution_count": 54,
   "metadata": {},
   "outputs": [],
   "source": [
    "df[\"venue\"] = df[\"venue\"].str.partition(\",\")[0]"
   ]
  },
  {
   "cell_type": "code",
   "execution_count": 55,
   "metadata": {},
   "outputs": [],
   "source": [
    "df[\"venue\"] = df[\"venue\"].str.replace(\".\", \"\")"
   ]
  },
  {
   "cell_type": "code",
   "execution_count": 56,
   "metadata": {},
   "outputs": [],
   "source": [
    "df[\"venue\"] = df[\"venue\"].str.replace(\" \", \"\")"
   ]
  },
  {
   "cell_type": "code",
   "execution_count": 57,
   "metadata": {},
   "outputs": [
    {
     "data": {
      "text/plain": [
       "0                                           EdenGardens\n",
       "1                                       WankhedeStadium\n",
       "2                                 SharjahCricketStadium\n",
       "3                                  MAChidambaramStadium\n",
       "4                                        FerozShahKotla\n",
       "5                       PunjabCricketAssociationStadium\n",
       "6                                   MChinnaswamyStadium\n",
       "7                                    ArunJaitleyStadium\n",
       "8                  MaharashtraCricketAssociationStadium\n",
       "9                                      BrabourneStadium\n",
       "10                                   SheikhZayedStadium\n",
       "11          ShaheedVeerNarayanSinghInternationalStadium\n",
       "12                                  NarendraModiStadium\n",
       "13                      RajivGandhiInternationalStadium\n",
       "14                                  ZayedCricketStadium\n",
       "15                                       SuperSportPark\n",
       "16                               DrDYPatilSportsAcademy\n",
       "17                  SaurashtraCricketAssociationStadium\n",
       "18                                       StGeorge'sPark\n",
       "19                     DubaiInternationalCricketStadium\n",
       "20                                 HolkarCricketStadium\n",
       "21              PunjabCricketAssociationISBindraStadium\n",
       "22    BharatRatnaShriAtalBihariVajpayeeEkanaCricketS...\n",
       "23                                 SawaiMansinghStadium\n",
       "24                                             Newlands\n",
       "25                                            Kingsmead\n",
       "26                                  NewWanderersStadium\n",
       "27                      JSCAInternationalStadiumComplex\n",
       "28           DrYSRajasekharaReddyACA-VDCACricketStadium\n",
       "29                              SubrataRoySaharaStadium\n",
       "30             HimachalPradeshCricketAssociationStadium\n",
       "31                    VidarbhaCricketAssociationStadium\n",
       "32                                   SardarPatelStadium\n",
       "33                                   DeBeersDiamondOval\n",
       "34                                      BarabatiStadium\n",
       "35    MaharajaYadavindraSinghInternationalCricketSta...\n",
       "36                                          BuffaloPark\n",
       "37                                         NehruStadium\n",
       "38                                            GreenPark\n",
       "39                              BarsaparaCricketStadium\n",
       "40                                       OUTsuranceOval\n",
       "dtype: object"
      ]
     },
     "execution_count": 57,
     "metadata": {},
     "output_type": "execute_result"
    }
   ],
   "source": [
    "pd.Series(df[\"venue\"].unique())"
   ]
  },
  {
   "cell_type": "code",
   "execution_count": 58,
   "metadata": {},
   "outputs": [
    {
     "data": {
      "text/plain": [
       "Index(['city', 'dates_1', 'event_match_number', 'officials_match_referees_1',\n",
       "       'officials_reserve_umpires_1', 'officials_tv_umpires_1',\n",
       "       'officials_umpires_1', 'officials_umpires_2', 'outcome_by_wickets',\n",
       "       'outcome_winner', 'player_of_match_1', 'season', 'toss_decision',\n",
       "       'toss_winner', 'venue', 'outcome_by_runs', 'event_stage',\n",
       "       'outcome_method', 'team_1', 'team_2'],\n",
       "      dtype='object')"
      ]
     },
     "execution_count": 58,
     "metadata": {},
     "output_type": "execute_result"
    }
   ],
   "source": [
    "df.columns"
   ]
  },
  {
   "cell_type": "code",
   "execution_count": 59,
   "metadata": {},
   "outputs": [],
   "source": [
    "df = df.rename(\n",
    "    columns={\n",
    "        \"dates_1\": \"date\",\n",
    "        \"officials_match_referees_1\": \"officials_match_referees\",\n",
    "        \"officials_reserve_umpires_1\": \"officials_reserve_umpires\",\n",
    "        \"officials_tv_umpires_1\": \"officials_tv_umpires\",\n",
    "        \"teams_1\": \"team_1\",\n",
    "        \"teams_2\": \"team_2\",\n",
    "        \"player_of_match_1\": \"player_of_match\",\n",
    "    }\n",
    ")"
   ]
  },
  {
   "cell_type": "code",
   "execution_count": 60,
   "metadata": {},
   "outputs": [
    {
     "data": {
      "text/plain": [
       "Index(['city', 'date', 'event_match_number', 'officials_match_referees',\n",
       "       'officials_reserve_umpires', 'officials_tv_umpires',\n",
       "       'officials_umpires_1', 'officials_umpires_2', 'outcome_by_wickets',\n",
       "       'outcome_winner', 'player_of_match', 'season', 'toss_decision',\n",
       "       'toss_winner', 'venue', 'outcome_by_runs', 'event_stage',\n",
       "       'outcome_method', 'team_1', 'team_2'],\n",
       "      dtype='object')"
      ]
     },
     "execution_count": 60,
     "metadata": {},
     "output_type": "execute_result"
    }
   ],
   "source": [
    "df.columns"
   ]
  },
  {
   "cell_type": "code",
   "execution_count": 61,
   "metadata": {},
   "outputs": [],
   "source": [
    "df.rename(columns={\"event_match_number\": \"match_number\"}, inplace=True)"
   ]
  },
  {
   "cell_type": "code",
   "execution_count": 62,
   "metadata": {},
   "outputs": [],
   "source": [
    "cols = [\n",
    "    \"date\",\n",
    "    \"match_number\",\n",
    "    \"city\",\n",
    "    \"team_1\",\n",
    "    \"team_2\",\n",
    "    \"outcome_winner\",\n",
    "    \"player_of_match\",\n",
    "    \"toss_winner\",\n",
    "    \"toss_decision\",\n",
    "    \"officials_match_referees\",\n",
    "    \"officials_reserve_umpires\",\n",
    "    \"officials_tv_umpires\",\n",
    "    \"officials_umpires_1\",\n",
    "    \"officials_umpires_2\",\n",
    "    \"outcome_by_wickets\",\n",
    "    \"season\",\n",
    "    \"venue\",\n",
    "    \"outcome_by_runs\",\n",
    "    \"event_stage\",\n",
    "    \"outcome_method\",\n",
    "]\n",
    "df = df.reindex(columns=cols)"
   ]
  },
  {
   "cell_type": "code",
   "execution_count": 63,
   "metadata": {},
   "outputs": [],
   "source": [
    "df = df.sort_values(by=[\"date\", \"match_number\"])"
   ]
  },
  {
   "cell_type": "code",
   "execution_count": 64,
   "metadata": {},
   "outputs": [],
   "source": [
    "df.to_csv(\"output/ipl_summary.csv\", index=False)"
   ]
  },
  {
   "cell_type": "code",
   "execution_count": null,
   "metadata": {},
   "outputs": [],
   "source": []
  },
  {
   "cell_type": "code",
   "execution_count": null,
   "metadata": {},
   "outputs": [],
   "source": []
  }
 ],
 "metadata": {
  "kernelspec": {
   "display_name": "Python 3",
   "language": "python",
   "name": "python3"
  },
  "language_info": {
   "codemirror_mode": {
    "name": "ipython",
    "version": 3
   },
   "file_extension": ".py",
   "mimetype": "text/x-python",
   "name": "python",
   "nbconvert_exporter": "python",
   "pygments_lexer": "ipython3",
   "version": "3.12.0"
  }
 },
 "nbformat": 4,
 "nbformat_minor": 2
}
