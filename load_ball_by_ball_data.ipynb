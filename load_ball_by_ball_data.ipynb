{
 "cells": [
  {
   "cell_type": "code",
   "execution_count": 2,
   "metadata": {},
   "outputs": [],
   "source": [
    "import numpy as np\n",
    "import pandas as pd\n",
    "import matplotlib.pyplot as plt\n",
    "import seaborn as sns\n",
    "import os\n",
    "import json"
   ]
  },
  {
   "cell_type": "code",
   "execution_count": 3,
   "metadata": {},
   "outputs": [],
   "source": [
    "fields_to_skip = [\"meta\", \"info\"]"
   ]
  },
  {
   "cell_type": "code",
   "execution_count": 4,
   "metadata": {},
   "outputs": [],
   "source": [
    "def populate_wicket_data(idx, delivery):\n",
    "    wicket_record = {}\n",
    "    if \"wickets\" in delivery and delivery[\"wickets\"]:\n",
    "        for wicket in delivery[\"wickets\"]:\n",
    "            wicket_record = {\n",
    "                \"delivery_index\": idx,\n",
    "                \"wicket.kind\": wicket[\"kind\"],\n",
    "                \"wicket.player_out\": wicket[\"player_out\"],\n",
    "                \"wicket.fielders\": (\n",
    "                    [fielder[\"name\"] for fielder in wicket[\"fielders\"]]\n",
    "                    if wicket.get(\"fielders\") != None\n",
    "                    else None\n",
    "                ),\n",
    "            }\n",
    "    else:\n",
    "        wicket_record = {\n",
    "            \"delivery_index\": idx,\n",
    "            \"wicket.kind\": None,\n",
    "            \"wicket.player_out\": None,\n",
    "            \"wicket.fielders\": None,\n",
    "        }\n",
    "    return wicket_record"
   ]
  },
  {
   "cell_type": "code",
   "execution_count": 5,
   "metadata": {},
   "outputs": [
    {
     "name": "stdout",
     "output_type": "stream",
     "text": [
      "processing file: , 0, 1254103.json\n",
      "processing file: , 1, 1136605.json\n",
      "processing file: , 2, 1216501.json\n",
      "processing file: , 3, 1082595.json\n",
      "processing file: , 4, 829731.json\n",
      "processing file: , 5, 1359507.json\n",
      "processing file: , 6, 548315.json\n",
      "processing file: , 7, 1304079.json\n",
      "processing file: , 8, 1422119.json\n",
      "processing file: , 9, 1178418.json\n",
      "processing file: , 10, 1359487.json\n",
      "processing file: , 11, 1359515.json\n",
      "processing file: , 12, 336025.json\n",
      "processing file: , 13, 729309.json\n",
      "processing file: , 14, 1178407.json\n",
      "processing file: , 15, 501239.json\n",
      "processing file: , 16, 1178423.json\n",
      "processing file: , 17, 1426305.json\n",
      "processing file: , 18, 419107.json\n",
      "processing file: , 19, 336036.json\n",
      "processing file: , 20, 1426311.json\n",
      "processing file: , 21, 1082637.json\n",
      "processing file: , 22, 392232.json\n",
      "processing file: , 23, 1216522.json\n",
      "processing file: , 24, 1426307.json\n",
      "processing file: , 25, 829713.json\n",
      "processing file: , 26, 1136576.json\n",
      "processing file: , 27, 1359498.json\n",
      "processing file: , 28, 1082629.json\n",
      "processing file: , 29, 1178413.json\n",
      "processing file: , 30, 1216506.json\n",
      "processing file: , 31, 1426282.json\n",
      "processing file: , 32, 1082613.json\n",
      "processing file: , 33, 1304105.json\n",
      "processing file: , 34, 1082642.json\n",
      "processing file: , 35, 1359514.json\n",
      "processing file: , 36, 1216530.json\n",
      "processing file: , 37, 980967.json\n",
      "processing file: , 38, 1254067.json\n",
      "processing file: , 39, 392225.json\n",
      "processing file: , 40, 336032.json\n",
      "processing file: , 41, 1304057.json\n",
      "processing file: , 42, 548359.json\n",
      "processing file: , 43, 1304061.json\n",
      "processing file: , 44, 548314.json\n",
      "processing file: , 45, 1136561.json\n",
      "processing file: , 46, 335995.json\n",
      "processing file: , 47, 1136620.json\n",
      "processing file: , 48, 1359538.json\n",
      "processing file: , 49, 598005.json\n",
      "processing file: , 50, 1426266.json\n",
      "processing file: , 51, 1359533.json\n",
      "processing file: , 52, 1216494.json\n",
      "processing file: , 53, 829807.json\n",
      "processing file: , 54, 829767.json\n",
      "processing file: , 55, 1304094.json\n",
      "processing file: , 56, 1426281.json\n",
      "processing file: , 57, 1136595.json\n",
      "processing file: , 58, 980929.json\n",
      "processing file: , 59, 1359496.json\n",
      "processing file: , 60, 419114.json\n",
      "processing file: , 61, 1304095.json\n",
      "processing file: , 62, 1178406.json\n",
      "processing file: , 63, 980911.json\n",
      "processing file: , 64, 548341.json\n",
      "processing file: , 65, 1136584.json\n",
      "processing file: , 66, 419146.json\n",
      "processing file: , 67, 1359509.json\n",
      "processing file: , 68, 501211.json\n",
      "processing file: , 69, 1136601.json\n",
      "processing file: , 70, 829743.json\n",
      "processing file: , 71, 419160.json\n",
      "processing file: , 72, 980903.json\n",
      "processing file: , 73, 980959.json\n",
      "processing file: , 74, 1216499.json\n",
      "processing file: , 75, 729291.json\n",
      "processing file: , 76, 1082647.json\n",
      "processing file: , 77, 729279.json\n",
      "processing file: , 78, 1178430.json\n",
      "processing file: , 79, 1178420.json\n",
      "processing file: , 80, 598047.json\n",
      "processing file: , 81, 1237181.json\n",
      "processing file: , 82, 1304089.json\n",
      "processing file: , 83, 1178426.json\n",
      "skipping super_over:  2019-05-02 51\n",
      "skipping super_over:  2019-05-02 51\n",
      "processing file: , 84, 1359502.json\n",
      "processing file: , 85, 829803.json\n",
      "processing file: , 86, 1359536.json\n",
      "processing file: , 87, 548339.json\n",
      "processing file: , 88, 1254091.json\n",
      "processing file: , 89, 336035.json\n",
      "processing file: , 90, 598006.json\n",
      "processing file: , 91, 1304055.json\n",
      "processing file: , 92, 336031.json\n",
      "processing file: , 93, 598001.json\n",
      "processing file: , 94, 1178394.json\n",
      "processing file: , 95, 501260.json\n",
      "processing file: , 96, 1136602.json\n",
      "processing file: , 97, 1216524.json\n",
      "processing file: , 98, 419162.json\n",
      "processing file: , 99, 501203.json\n",
      "processing file: , 100, 829773.json\n",
      "processing file: , 101, 335994.json\n",
      "processing file: , 102, 1304068.json\n",
      "processing file: , 103, 980981.json\n",
      "processing file: , 104, 598009.json\n",
      "processing file: , 105, 1312200.json\n",
      "processing file: , 106, 548362.json\n",
      "processing file: , 107, 1254087.json\n",
      "processing file: , 108, 1304062.json\n",
      "processing file: , 109, 1237177.json\n",
      "processing file: , 110, 1359484.json\n",
      "processing file: , 111, 1178412.json\n",
      "processing file: , 112, 1082622.json\n",
      "processing file: , 113, 419128.json\n",
      "processing file: , 114, 392215.json\n",
      "processing file: , 115, 1254060.json\n",
      "processing file: , 116, 598026.json\n",
      "processing file: , 117, 981011.json\n",
      "processing file: , 118, 980919.json\n",
      "processing file: , 119, 598056.json\n",
      "processing file: , 120, 419119.json\n",
      "processing file: , 121, 501244.json\n",
      "processing file: , 122, 335997.json\n",
      "processing file: , 123, 733985.json\n",
      "processing file: , 124, 1254109.json\n",
      "processing file: , 125, 548331.json\n",
      "processing file: , 126, 1136579.json\n",
      "processing file: , 127, 392206.json\n",
      "processing file: , 128, 980949.json\n",
      "processing file: , 129, 419153.json\n",
      "processing file: , 130, 1216492.json\n",
      "processing file: , 131, 548358.json\n",
      "processing file: , 132, 501257.json\n",
      "processing file: , 133, 419127.json\n",
      "processing file: , 134, 501237.json\n",
      "processing file: , 135, 598061.json\n",
      "processing file: , 136, 548321.json\n",
      "processing file: , 137, 501228.json\n",
      "processing file: , 138, 1359483.json\n",
      "processing file: , 139, 419143.json\n",
      "processing file: , 140, 980915.json\n",
      "processing file: , 141, 548327.json\n",
      "processing file: , 142, 419136.json\n",
      "processing file: , 143, 548364.json\n",
      "processing file: , 144, 501243.json\n",
      "processing file: , 145, 1082640.json\n",
      "processing file: , 146, 419121.json\n",
      "skipping super_over:  2010-03-21 16\n",
      "skipping super_over:  2010-03-21 16\n",
      "processing file: , 147, 1254117.json\n",
      "processing file: , 148, 1426274.json\n",
      "processing file: , 149, 829789.json\n",
      "processing file: , 150, 419116.json\n",
      "processing file: , 151, 1082610.json\n",
      "processing file: , 152, 548351.json\n",
      "processing file: , 153, 729317.json\n",
      "processing file: , 154, 548369.json\n",
      "processing file: , 155, 335992.json\n",
      "processing file: , 156, 501200.json\n",
      "processing file: , 157, 598022.json\n",
      "processing file: , 158, 419150.json\n",
      "processing file: , 159, 336018.json\n",
      "processing file: , 160, 1136611.json\n",
      "processing file: , 161, 1359494.json\n",
      "processing file: , 162, 548354.json\n",
      "processing file: , 163, 419165.json\n",
      "processing file: , 164, 734041.json\n",
      "processing file: , 165, 501224.json\n",
      "processing file: , 166, 734043.json\n",
      "processing file: , 167, 1254089.json\n",
      "processing file: , 168, 419106.json\n",
      "processing file: , 169, 336011.json\n",
      "processing file: , 170, 1426267.json\n",
      "processing file: , 171, 501214.json\n",
      "processing file: , 172, 1216529.json\n",
      "processing file: , 173, 729305.json\n",
      "processing file: , 174, 598039.json\n",
      "processing file: , 175, 548325.json\n",
      "processing file: , 176, 336029.json\n",
      "processing file: , 177, 1359527.json\n",
      "processing file: , 178, 392199.json\n",
      "processing file: , 179, 829817.json\n",
      "processing file: , 180, 829783.json\n",
      "processing file: , 181, 1304072.json\n",
      "processing file: , 182, 392208.json\n",
      "processing file: , 183, 598059.json\n",
      "processing file: , 184, 1082636.json\n",
      "processing file: , 185, 1254108.json\n",
      "processing file: , 186, 548324.json\n",
      "processing file: , 187, 1216520.json\n",
      "processing file: , 188, 1254081.json\n",
      "processing file: , 189, 1426268.json\n",
      "processing file: , 190, 598063.json\n",
      "processing file: , 191, 501223.json\n",
      "processing file: , 192, 980941.json\n",
      "processing file: , 193, 1136588.json\n",
      "processing file: , 194, 1359512.json\n",
      "processing file: , 195, 1178411.json\n",
      "processing file: , 196, 501248.json\n",
      "processing file: , 197, 1082606.json\n",
      "processing file: , 198, 1216540.json\n",
      "processing file: , 199, 734039.json\n",
      "processing file: , 200, 1359520.json\n",
      "processing file: , 201, 548317.json\n",
      "processing file: , 202, 1359491.json\n",
      "processing file: , 203, 1178398.json\n",
      "processing file: , 204, 1181767.json\n",
      "processing file: , 205, 1082614.json\n",
      "processing file: , 206, 1082607.json\n",
      "processing file: , 207, 336039.json\n",
      "processing file: , 208, 980953.json\n",
      "processing file: , 209, 392210.json\n",
      "processing file: , 210, 1304076.json\n",
      "processing file: , 211, 1216535.json\n",
      "processing file: , 212, 336037.json\n",
      "processing file: , 213, 1304104.json\n",
      "processing file: , 214, 501234.json\n",
      "processing file: , 215, 336010.json\n",
      "processing file: , 216, 1136592.json\n",
      "processing file: , 217, 598069.json\n",
      "processing file: , 218, 1216545.json\n",
      "processing file: , 219, 829769.json\n",
      "processing file: , 220, 1426312.json\n",
      "processing file: , 221, 548381.json\n",
      "processing file: , 222, 1082639.json\n",
      "processing file: , 223, 729287.json\n",
      "processing file: , 224, 501265.json\n",
      "processing file: , 225, 336020.json\n",
      "processing file: , 226, 1082592.json\n",
      "processing file: , 227, 1136590.json\n",
      "processing file: , 228, 598073.json\n",
      "processing file: , 229, 729285.json\n",
      "processing file: , 230, 1175371.json\n",
      "processing file: , 231, 1175359.json\n",
      "processing file: , 232, 980991.json\n",
      "processing file: , 233, 598014.json\n",
      "processing file: , 234, 1216544.json\n",
      "processing file: , 235, 829795.json\n",
      "processing file: , 236, 392185.json\n",
      "processing file: , 237, 1216536.json\n",
      "processing file: , 238, 1178419.json\n",
      "processing file: , 239, 392190.json\n",
      "skipping super_over:  2009-04-23 10\n",
      "skipping super_over:  2009-04-23 10\n",
      "processing file: , 240, 1254107.json\n",
      "processing file: , 241, 1254065.json\n",
      "processing file: , 242, 1216521.json\n",
      "processing file: , 243, 829719.json\n",
      "processing file: , 244, 829815.json\n",
      "processing file: , 245, 1254085.json\n",
      "processing file: , 246, 829733.json\n",
      "processing file: , 247, 336003.json\n",
      "processing file: , 248, 1136583.json\n",
      "processing file: , 249, 1422137.json\n",
      "processing file: , 250, 1422123.json\n",
      "processing file: , 251, 1304059.json\n",
      "processing file: , 252, 548355.json\n",
      "processing file: , 253, 598017.json\n",
      "skipping super_over:  2013-04-16 21\n",
      "skipping super_over:  2013-04-16 21\n",
      "processing file: , 254, 419152.json\n",
      "processing file: , 255, 598038.json\n",
      "processing file: , 256, 501208.json\n",
      "processing file: , 257, 980947.json\n",
      "processing file: , 258, 419111.json\n",
      "processing file: , 259, 1216502.json\n",
      "processing file: , 260, 392216.json\n",
      "processing file: , 261, 1422135.json\n",
      "processing file: , 262, 1136613.json\n",
      "processing file: , 263, 548346.json\n",
      "processing file: , 264, 598066.json\n",
      "processing file: , 265, 1136574.json\n",
      "processing file: , 266, 1359530.json\n",
      "processing file: , 267, 1178425.json\n",
      "processing file: , 268, 1422121.json\n",
      "processing file: , 269, 829797.json\n",
      "processing file: , 270, 1178401.json\n",
      "processing file: , 271, 1254115.json\n",
      "processing file: , 272, 829811.json\n",
      "processing file: , 273, 1426294.json\n",
      "processing file: , 274, 598064.json\n",
      "processing file: , 275, 729311.json\n",
      "processing file: , 276, 598029.json\n",
      "processing file: , 277, 1216538.json\n",
      "processing file: , 278, 548334.json\n",
      "processing file: , 279, 419129.json\n",
      "processing file: , 280, 1082645.json\n",
      "processing file: , 281, 829751.json\n",
      "processing file: , 282, 548330.json\n",
      "processing file: , 283, 392209.json\n",
      "processing file: , 284, 1304085.json\n",
      "processing file: , 285, 392227.json\n",
      "processing file: , 286, 729301.json\n",
      "processing file: , 287, 548328.json\n",
      "processing file: , 288, 1178410.json\n",
      "processing file: , 289, 1304109.json\n",
      "processing file: , 290, 980933.json\n",
      "processing file: , 291, 1304098.json\n",
      "processing file: , 292, 1304099.json\n",
      "processing file: , 293, 733975.json\n",
      "processing file: , 294, 1254084.json\n",
      "processing file: , 295, 1216537.json\n",
      "processing file: , 296, 501213.json\n",
      "processing file: , 297, 598018.json\n",
      "processing file: , 298, 1216527.json\n",
      "processing file: , 299, 1082621.json\n",
      "processing file: , 300, 419154.json\n",
      "processing file: , 301, 501254.json\n",
      "processing file: , 302, 392235.json\n",
      "processing file: , 303, 419131.json\n",
      "processing file: , 304, 1082612.json\n",
      "processing file: , 305, 1426289.json\n",
      "processing file: , 306, 598008.json\n",
      "processing file: , 307, 548349.json\n",
      "processing file: , 308, 335983.json\n",
      "processing file: , 309, 548319.json\n",
      "processing file: , 310, 548335.json\n",
      "processing file: , 311, 336015.json\n",
      "processing file: , 312, 1359479.json\n",
      "processing file: , 313, 548329.json\n",
      "processing file: , 314, 501259.json\n",
      "processing file: , 315, 548326.json\n",
      "processing file: , 316, 501240.json\n",
      "processing file: , 317, 1304106.json\n",
      "processing file: , 318, 336019.json\n",
      "processing file: , 319, 598020.json\n",
      "processing file: , 320, 1426283.json\n",
      "processing file: , 321, 1254093.json\n",
      "processing file: , 322, 1216518.json\n",
      "processing file: , 323, 1082620.json\n",
      "processing file: , 324, 1178399.json\n",
      "processing file: , 325, 1254063.json\n",
      "processing file: , 326, 1370351.json\n",
      "processing file: , 327, 501204.json\n",
      "processing file: , 328, 1304056.json\n",
      "processing file: , 329, 598065.json\n",
      "processing file: , 330, 1082626.json\n",
      "processing file: , 331, 1216514.json\n",
      "processing file: , 332, 336021.json\n",
      "processing file: , 333, 419147.json\n",
      "processing file: , 334, 335982.json\n",
      "processing file: , 335, 419118.json\n",
      "processing file: , 336, 829717.json\n",
      "processing file: , 337, 1082604.json\n",
      "processing file: , 338, 1426264.json\n",
      "processing file: , 339, 1178421.json\n",
      "processing file: , 340, 598044.json\n",
      "processing file: , 341, 1136581.json\n",
      "processing file: , 342, 598003.json\n",
      "processing file: , 343, 1359477.json\n",
      "processing file: , 344, 392239.json\n",
      "processing file: , 345, 1136578.json\n",
      "processing file: , 346, 1178428.json\n",
      "processing file: , 347, 501230.json\n",
      "processing file: , 348, 1304052.json\n",
      "processing file: , 349, 392229.json\n",
      "processing file: , 350, 419137.json\n",
      "processing file: , 351, 392220.json\n",
      "processing file: , 352, 1254100.json\n",
      "processing file: , 353, 548378.json\n",
      "processing file: , 354, 1175369.json\n",
      "processing file: , 355, 1370352.json\n",
      "processing file: , 356, 1254104.json\n",
      "processing file: , 357, 733983.json\n",
      "processing file: , 358, 1304091.json\n",
      "processing file: , 359, 1082650.json\n",
      "processing file: , 360, 1181768.json\n",
      "processing file: , 361, 419144.json\n",
      "processing file: , 362, 729281.json\n",
      "processing file: , 363, 548318.json\n",
      "processing file: , 364, 392233.json\n",
      "processing file: , 365, 734037.json\n",
      "processing file: , 366, 829793.json\n",
      "processing file: , 367, 548374.json\n",
      "processing file: , 368, 598011.json\n",
      "processing file: , 369, 1178405.json\n",
      "processing file: , 370, 1136594.json\n",
      "processing file: , 371, 1178395.json\n",
      "processing file: , 372, 1254090.json\n",
      "processing file: , 373, 1216525.json\n",
      "processing file: , 374, 501231.json\n",
      "processing file: , 375, 1136614.json\n",
      "processing file: , 376, 1082603.json\n",
      "processing file: , 377, 1304071.json\n",
      "processing file: , 378, 734019.json\n",
      "processing file: , 379, 598040.json\n",
      "processing file: , 380, 597998.json\n",
      "processing file: , 381, 734017.json\n",
      "processing file: , 382, 392196.json\n",
      "processing file: , 383, 1359519.json\n",
      "processing file: , 384, 1254094.json\n",
      "processing file: , 385, 501241.json\n",
      "processing file: , 386, 548350.json\n",
      "processing file: , 387, 598053.json\n",
      "processing file: , 388, 548336.json\n",
      "processing file: , 389, 729297.json\n",
      "processing file: , 390, 336008.json\n",
      "processing file: , 391, 980955.json\n",
      "processing file: , 392, 1359541.json\n",
      "processing file: , 393, 1304088.json\n",
      "processing file: , 394, 1082608.json\n",
      "processing file: , 395, 981017.json\n",
      "processing file: , 396, 1422133.json\n",
      "processing file: , 397, 1082594.json\n",
      "processing file: , 398, 733987.json\n",
      "processing file: , 399, 1304096.json\n",
      "processing file: , 400, 1254061.json\n",
      "processing file: , 401, 1254114.json\n",
      "processing file: , 402, 392198.json\n",
      "processing file: , 403, 335991.json\n",
      "processing file: , 404, 392236.json\n",
      "processing file: , 405, 598041.json\n",
      "processing file: , 406, 980907.json\n",
      "processing file: , 407, 1304108.json\n",
      "processing file: , 408, 1426288.json\n",
      "processing file: , 409, 548313.json\n",
      "processing file: , 410, 829725.json\n",
      "processing file: , 411, 501247.json\n",
      "processing file: , 412, 980987.json\n",
      "processing file: , 413, 501219.json\n",
      "processing file: , 414, 1359504.json\n",
      "processing file: , 415, 501221.json\n",
      "processing file: , 416, 501268.json\n",
      "processing file: , 417, 1426284.json\n",
      "processing file: , 418, 1216533.json\n",
      "processing file: , 419, 1136564.json\n",
      "processing file: , 420, 1359501.json\n",
      "processing file: , 421, 1136580.json\n",
      "processing file: , 422, 1082638.json\n",
      "processing file: , 423, 598036.json\n",
      "processing file: , 424, 548309.json\n",
      "processing file: , 425, 1359488.json\n",
      "processing file: , 426, 1359516.json\n",
      "processing file: , 427, 1359529.json\n",
      "processing file: , 428, 419142.json\n",
      "processing file: , 429, 1254077.json\n",
      "skipping super_over:  2021-04-25 20\n",
      "skipping super_over:  2021-04-25 20\n",
      "processing file: , 430, 335987.json\n",
      "processing file: , 431, 1175368.json\n",
      "processing file: , 432, 1359481.json\n",
      "processing file: , 433, 729283.json\n",
      "processing file: , 434, 1136604.json\n",
      "processing file: , 435, 1175358.json\n",
      "processing file: , 436, 392200.json\n",
      "processing file: , 437, 501215.json\n",
      "processing file: , 438, 419125.json\n",
      "processing file: , 439, 1426276.json\n",
      "processing file: , 440, 1426265.json\n",
      "processing file: , 441, 598025.json\n",
      "processing file: , 442, 1359506.json\n",
      "processing file: , 443, 419156.json\n",
      "processing file: , 444, 1426280.json\n",
      "processing file: , 445, 1254088.json\n",
      "processing file: , 446, 548332.json\n",
      "processing file: , 447, 419135.json\n",
      "processing file: , 448, 1082617.json\n",
      "processing file: , 449, 1359489.json\n",
      "processing file: , 450, 1304064.json\n",
      "processing file: , 451, 1426291.json\n",
      "processing file: , 452, 1216515.json\n",
      "processing file: , 453, 598007.json\n",
      "processing file: , 454, 419113.json\n",
      "processing file: , 455, 336006.json\n",
      "processing file: , 456, 1304067.json\n",
      "processing file: , 457, 1082615.json\n",
      "processing file: , 458, 1178397.json\n",
      "processing file: , 459, 1426278.json\n",
      "processing file: , 460, 598058.json\n",
      "processing file: , 461, 335985.json\n",
      "processing file: , 462, 501263.json\n",
      "processing file: , 463, 1136573.json\n",
      "processing file: , 464, 336007.json\n",
      "processing file: , 465, 419126.json\n",
      "processing file: , 466, 1136607.json\n",
      "processing file: , 467, 829723.json\n",
      "processing file: , 468, 501198.json\n",
      "processing file: , 469, 829781.json\n",
      "processing file: , 470, 1178403.json\n",
      "processing file: , 471, 392183.json\n",
      "processing file: , 472, 829763.json\n",
      "processing file: , 473, 1175370.json\n",
      "processing file: , 474, 1254069.json\n",
      "processing file: , 475, 1216496.json\n",
      "processing file: , 476, 1304101.json\n",
      "processing file: , 477, 1136577.json\n",
      "processing file: , 478, 1136612.json\n",
      "processing file: , 479, 1254086.json\n",
      "processing file: , 480, 1426272.json\n",
      "processing file: , 481, 733979.json\n",
      "processing file: , 482, 598010.json\n",
      "processing file: , 483, 1304069.json\n",
      "processing file: , 484, 1254075.json\n",
      "processing file: , 485, 734031.json\n",
      "processing file: , 486, 335986.json\n",
      "processing file: , 487, 419161.json\n",
      "processing file: , 488, 1216531.json\n",
      "processing file: , 489, 1216539.json\n",
      "processing file: , 490, 336034.json\n",
      "processing file: , 491, 1426271.json\n",
      "processing file: , 492, 1426292.json\n",
      "processing file: , 493, 734003.json\n",
      "processing file: , 494, 419157.json\n",
      "processing file: , 495, 734013.json\n",
      "processing file: , 496, 1082602.json\n",
      "processing file: , 497, 598062.json\n",
      "processing file: , 498, 1359490.json\n",
      "processing file: , 499, 1304065.json\n",
      "processing file: , 500, 336033.json\n",
      "processing file: , 501, 1216543.json\n",
      "processing file: , 502, 980913.json\n",
      "processing file: , 503, 501246.json\n",
      "processing file: , 504, 1304115.json\n",
      "processing file: , 505, 1254058.json\n",
      "processing file: , 506, 598028.json\n",
      "processing file: , 507, 1304116.json\n",
      "processing file: , 508, 1216542.json\n",
      "processing file: , 509, 1304080.json\n",
      "processing file: , 510, 980977.json\n",
      "processing file: , 511, 1216513.json\n",
      "processing file: , 512, 1136597.json\n",
      "processing file: , 513, 501252.json\n",
      "processing file: , 514, 598068.json\n",
      "processing file: , 515, 336023.json\n",
      "processing file: , 516, 1136600.json\n",
      "processing file: , 517, 392224.json\n",
      "processing file: , 518, 1426261.json\n",
      "processing file: , 519, 1254092.json\n",
      "processing file: , 520, 1422136.json\n",
      "processing file: , 521, 1426277.json\n",
      "processing file: , 522, 1254097.json\n",
      "processing file: , 523, 829765.json\n",
      "processing file: , 524, 1359513.json\n",
      "processing file: , 525, 1422128.json\n",
      "processing file: , 526, 1359482.json\n",
      "processing file: , 527, 734005.json\n",
      "processing file: , 528, 980927.json\n",
      "processing file: , 529, 829823.json\n",
      "processing file: , 530, 1304114.json\n",
      "processing file: , 531, 501238.json\n",
      "processing file: , 532, 981015.json\n",
      "processing file: , 533, 419164.json\n",
      "processing file: , 534, 419139.json\n",
      "processing file: , 535, 1254101.json\n",
      "processing file: , 536, 501267.json\n",
      "processing file: , 537, 1359510.json\n",
      "processing file: , 538, 829721.json\n",
      "processing file: , 539, 598034.json\n",
      "processing file: , 540, 1216509.json\n",
      "processing file: , 541, 598016.json\n",
      "processing file: , 542, 392186.json\n",
      "processing file: , 543, 336022.json\n",
      "processing file: , 544, 980939.json\n",
      "processing file: , 545, 1254112.json\n",
      "processing file: , 546, 392238.json\n",
      "processing file: , 547, 548308.json\n",
      "processing file: , 548, 1136566.json\n",
      "processing file: , 549, 598024.json\n",
      "processing file: , 550, 1082593.json\n",
      "processing file: , 551, 980969.json\n",
      "processing file: , 552, 1422130.json\n",
      "processing file: , 553, 1175364.json\n",
      "processing file: , 554, 1304075.json\n",
      "processing file: , 555, 1304111.json\n",
      "processing file: , 556, 501261.json\n",
      "processing file: , 557, 548307.json\n",
      "processing file: , 558, 734021.json\n",
      "processing file: , 559, 829737.json\n",
      "processing file: , 560, 1254079.json\n",
      "processing file: , 561, 829779.json\n",
      "processing file: , 562, 501236.json\n",
      "processing file: , 563, 1426309.json\n",
      "processing file: , 564, 336028.json\n",
      "processing file: , 565, 1254073.json\n",
      "processing file: , 566, 419123.json\n",
      "processing file: , 567, 419110.json\n",
      "processing file: , 568, 1304113.json\n",
      "processing file: , 569, 1254095.json\n",
      "processing file: , 570, 1175372.json\n",
      "processing file: , 571, 1304097.json\n",
      "processing file: , 572, 1426270.json\n",
      "processing file: , 573, 1359523.json\n",
      "processing file: , 574, 392204.json\n",
      "processing file: , 575, 392214.json\n",
      "processing file: , 576, 1136610.json\n",
      "processing file: , 577, 598052.json\n",
      "processing file: , 578, 829747.json\n",
      "processing file: , 579, 1216516.json\n",
      "processing file: , 580, 598033.json\n",
      "processing file: , 581, 1359537.json\n",
      "processing file: , 582, 1082646.json\n",
      "processing file: , 583, 501229.json\n",
      "processing file: , 584, 734045.json\n",
      "processing file: , 585, 598060.json\n",
      "processing file: , 586, 1136569.json\n",
      "processing file: , 587, 980973.json\n",
      "processing file: , 588, 1136596.json\n",
      "processing file: , 589, 392184.json\n",
      "processing file: , 590, 829801.json\n",
      "processing file: , 591, 1359540.json\n",
      "processing file: , 592, 1136571.json\n",
      "processing file: , 593, 1082623.json\n",
      "processing file: , 594, 1082618.json\n",
      "processing file: , 595, 1359497.json\n",
      "processing file: , 596, 1178393.json\n",
      "processing file: , 597, 1178402.json\n",
      "processing file: , 598, 1178409.json\n",
      "processing file: , 599, 980971.json\n",
      "processing file: , 600, 1082591.json\n",
      "processing file: , 601, 1422126.json\n",
      "processing file: , 602, 1304048.json\n",
      "processing file: , 603, 1178417.json\n",
      "processing file: , 604, 1181764.json\n",
      "processing file: , 605, 729293.json\n",
      "processing file: , 606, 501210.json\n",
      "processing file: , 607, 548370.json\n",
      "processing file: , 608, 1426260.json\n",
      "processing file: , 609, 1082644.json\n",
      "processing file: , 610, 336040.json\n",
      "processing file: , 611, 392202.json\n",
      "processing file: , 612, 1254068.json\n",
      "processing file: , 613, 1304090.json\n",
      "processing file: , 614, 336000.json\n",
      "processing file: , 615, 1426296.json\n",
      "processing file: , 616, 829799.json\n",
      "processing file: , 617, 1216528.json\n",
      "processing file: , 618, 980935.json\n",
      "processing file: , 619, 1175365.json\n",
      "skipping super_over:  2019-03-30 10\n",
      "skipping super_over:  2019-03-30 10\n",
      "processing file: , 620, 501271.json\n",
      "processing file: , 621, 1082616.json\n",
      "processing file: , 622, 392207.json\n",
      "processing file: , 623, 419120.json\n",
      "processing file: , 624, 548322.json\n",
      "processing file: , 625, 548310.json\n",
      "processing file: , 626, 501207.json\n",
      "processing file: , 627, 548379.json\n",
      "processing file: , 628, 1254059.json\n",
      "processing file: , 629, 336014.json\n",
      "processing file: , 630, 1175366.json\n",
      "processing file: , 631, 336004.json\n",
      "processing file: , 632, 501206.json\n",
      "processing file: , 633, 981009.json\n",
      "processing file: , 634, 501218.json\n",
      "processing file: , 635, 980943.json\n",
      "processing file: , 636, 1426287.json\n",
      "processing file: , 637, 1359518.json\n",
      "processing file: , 638, 734035.json\n",
      "processing file: , 639, 336017.json\n",
      "processing file: , 640, 336002.json\n",
      "processing file: , 641, 598070.json\n",
      "processing file: , 642, 392197.json\n",
      "processing file: , 643, 733991.json\n",
      "processing file: , 644, 1237180.json\n",
      "processing file: , 645, 1304112.json\n",
      "processing file: , 646, 419133.json\n",
      "processing file: , 647, 1304051.json\n",
      "processing file: , 648, 419134.json\n",
      "processing file: , 649, 1304047.json\n",
      "processing file: , 650, 829729.json\n",
      "processing file: , 651, 829715.json\n",
      "processing file: , 652, 734015.json\n",
      "processing file: , 653, 734027.json\n",
      "processing file: , 654, 1082635.json\n",
      "processing file: , 655, 548371.json\n",
      "processing file: , 656, 336005.json\n",
      "processing file: , 657, 1254096.json\n",
      "processing file: , 658, 1178416.json\n",
      "processing file: , 659, 548312.json\n",
      "processing file: , 660, 548342.json\n",
      "processing file: , 661, 392228.json\n",
      "processing file: , 662, 548360.json\n",
      "processing file: , 663, 1082627.json\n",
      "processing file: , 664, 1359478.json\n",
      "processing file: , 665, 1082596.json\n",
      "processing file: , 666, 1175363.json\n",
      "processing file: , 667, 1254062.json\n",
      "processing file: , 668, 980983.json\n",
      "processing file: , 669, 1359476.json\n",
      "processing file: , 670, 733993.json\n",
      "processing file: , 671, 1254105.json\n",
      "processing file: , 672, 729315.json\n",
      "skipping super_over:  2014-04-29 19\n",
      "skipping super_over:  2014-04-29 19\n",
      "processing file: , 673, 392231.json\n",
      "processing file: , 674, 1422125.json\n",
      "processing file: , 675, 1136575.json\n",
      "processing file: , 676, 1216503.json\n",
      "processing file: , 677, 1359544.json\n",
      "processing file: , 678, 1304093.json\n",
      "processing file: , 679, 829805.json\n",
      "processing file: , 680, 1422129.json\n",
      "processing file: , 681, 1304077.json\n",
      "processing file: , 682, 548353.json\n",
      "processing file: , 683, 1422131.json\n",
      "processing file: , 684, 1136567.json\n",
      "processing file: , 685, 1359525.json\n",
      "processing file: , 686, 1082643.json\n",
      "processing file: , 687, 980917.json\n",
      "processing file: , 688, 1136572.json\n",
      "processing file: , 689, 1359505.json\n",
      "processing file: , 690, 1359517.json\n",
      "processing file: , 691, 1216546.json\n",
      "processing file: , 692, 598030.json\n",
      "processing file: , 693, 548316.json\n",
      "processing file: , 694, 598072.json\n",
      "processing file: , 695, 734023.json\n",
      "processing file: , 696, 548343.json\n",
      "processing file: , 697, 419117.json\n",
      "processing file: , 698, 419141.json\n",
      "processing file: , 699, 501270.json\n",
      "processing file: , 700, 829705.json\n",
      "processing file: , 701, 981007.json\n",
      "processing file: , 702, 1359522.json\n",
      "processing file: , 703, 419108.json\n",
      "processing file: , 704, 392191.json\n",
      "processing file: , 705, 501202.json\n",
      "processing file: , 706, 501216.json\n",
      "processing file: , 707, 419163.json\n",
      "processing file: , 708, 1304074.json\n",
      "processing file: , 709, 1254106.json\n",
      "processing file: , 710, 1175367.json\n",
      "processing file: , 711, 980999.json\n",
      "processing file: , 712, 548337.json\n",
      "processing file: , 713, 1082649.json\n",
      "processing file: , 714, 419138.json\n",
      "processing file: , 715, 1216508.json\n",
      "processing file: , 716, 392226.json\n",
      "processing file: , 717, 1304060.json\n",
      "processing file: , 718, 733995.json\n",
      "processing file: , 719, 1136582.json\n",
      "processing file: , 720, 1136609.json\n",
      "processing file: , 721, 1178404.json\n",
      "processing file: , 722, 548368.json\n",
      "processing file: , 723, 1082599.json\n",
      "processing file: , 724, 1359475.json\n",
      "processing file: , 725, 1216517.json\n",
      "skipping super_over:  2020-10-18 36\n",
      "skipping super_over:  2020-10-18 36\n",
      "skipping super_over:  2020-10-18 36\n",
      "skipping super_over:  2020-10-18 36\n",
      "processing file: , 726, 1237178.json\n",
      "processing file: , 727, 980925.json\n",
      "processing file: , 728, 1422139.json\n",
      "processing file: , 729, 1254116.json\n",
      "processing file: , 730, 1178396.json\n",
      "processing file: , 731, 829707.json\n",
      "processing file: , 732, 1304049.json\n",
      "processing file: , 733, 1136570.json\n",
      "processing file: , 734, 548367.json\n",
      "processing file: , 735, 1136586.json\n",
      "processing file: , 736, 733971.json\n",
      "processing file: , 737, 1359486.json\n",
      "processing file: , 738, 1082597.json\n",
      "processing file: , 739, 597999.json\n",
      "processing file: , 740, 392211.json\n",
      "processing file: , 741, 733997.json\n",
      "processing file: , 742, 1136589.json\n",
      "processing file: , 743, 1304092.json\n",
      "processing file: , 744, 1082630.json\n",
      "processing file: , 745, 733977.json\n",
      "processing file: , 746, 1136593.json\n",
      "processing file: , 747, 1082609.json\n",
      "processing file: , 748, 1359531.json\n",
      "processing file: , 749, 1216493.json\n",
      "skipping super_over:  2020-09-20 2\n",
      "skipping super_over:  2020-09-20 2\n",
      "processing file: , 750, 335993.json\n",
      "processing file: , 751, 1304086.json\n",
      "processing file: , 752, 1422124.json\n",
      "processing file: , 753, 1136599.json\n",
      "processing file: , 754, 392217.json\n",
      "processing file: , 755, 1136585.json\n",
      "processing file: , 756, 548306.json\n",
      "processing file: , 757, 829735.json\n",
      "processing file: , 758, 501199.json\n",
      "processing file: , 759, 1426310.json\n",
      "processing file: , 760, 1216498.json\n",
      "processing file: , 761, 1136562.json\n",
      "processing file: , 762, 1254070.json\n",
      "processing file: , 763, 980993.json\n",
      "processing file: , 764, 1304082.json\n",
      "processing file: , 765, 1254072.json\n",
      "processing file: , 766, 1178429.json\n",
      "processing file: , 767, 729313.json\n",
      "processing file: , 768, 501264.json\n",
      "processing file: , 769, 1312198.json\n",
      "processing file: , 770, 598057.json\n",
      "processing file: , 771, 981019.json\n",
      "processing file: , 772, 598054.json\n",
      "processing file: , 773, 1426263.json\n",
      "processing file: , 774, 980989.json\n",
      "processing file: , 775, 1082611.json\n",
      "processing file: , 776, 1178408.json\n",
      "processing file: , 777, 501269.json\n",
      "processing file: , 778, 1426293.json\n",
      "processing file: , 779, 829759.json\n",
      "processing file: , 780, 1136565.json\n",
      "processing file: , 781, 980975.json\n",
      "processing file: , 782, 501232.json\n",
      "processing file: , 783, 392195.json\n",
      "processing file: , 784, 1254098.json\n",
      "processing file: , 785, 501205.json\n",
      "processing file: , 786, 829813.json\n",
      "processing file: , 787, 598013.json\n",
      "processing file: , 788, 1216534.json\n",
      "processing file: , 789, 1136568.json\n",
      "processing file: , 790, 392212.json\n",
      "processing file: , 791, 1312197.json\n",
      "processing file: , 792, 419159.json\n",
      "processing file: , 793, 729307.json\n",
      "processing file: , 794, 1359539.json\n",
      "processing file: , 795, 1359503.json\n",
      "processing file: , 796, 548344.json\n",
      "processing file: , 797, 598048.json\n",
      "processing file: , 798, 419145.json\n",
      "processing file: , 799, 1082632.json\n",
      "processing file: , 800, 1426295.json\n",
      "processing file: , 801, 1216512.json\n",
      "skipping super_over:  2020-10-18 35\n",
      "skipping super_over:  2020-10-18 35\n",
      "processing file: , 802, 1216547.json\n",
      "skipping super_over:  2020-09-28 10\n",
      "skipping super_over:  2020-09-28 10\n",
      "processing file: , 803, 1216505.json\n",
      "processing file: , 804, 392194.json\n",
      "processing file: , 805, 1178414.json\n",
      "processing file: , 806, 1181766.json\n",
      "processing file: , 807, 734025.json\n",
      "processing file: , 808, 598055.json\n",
      "processing file: , 809, 598031.json\n",
      "processing file: , 810, 980921.json\n",
      "processing file: , 811, 1082641.json\n",
      "processing file: , 812, 1359500.json\n",
      "processing file: , 813, 1175360.json\n",
      "processing file: , 814, 1216523.json\n",
      "processing file: , 815, 829821.json\n",
      "processing file: , 816, 1426297.json\n",
      "processing file: , 817, 598015.json\n",
      "processing file: , 818, 336027.json\n",
      "processing file: , 819, 1422134.json\n",
      "processing file: , 820, 1082598.json\n",
      "processing file: , 821, 1136615.json\n",
      "processing file: , 822, 501212.json\n",
      "processing file: , 823, 392219.json\n",
      "processing file: , 824, 1359508.json\n",
      "processing file: , 825, 1082601.json\n",
      "processing file: , 826, 1254099.json\n",
      "processing file: , 827, 1178422.json\n",
      "processing file: , 828, 1426306.json\n",
      "processing file: , 829, 1254078.json\n",
      "processing file: , 830, 1254110.json\n",
      "processing file: , 831, 1254076.json\n",
      "processing file: , 832, 392230.json\n",
      "processing file: , 833, 1359532.json\n",
      "processing file: , 834, 980965.json\n",
      "processing file: , 835, 419158.json\n",
      "processing file: , 836, 1359499.json\n",
      "processing file: , 837, 729303.json\n",
      "processing file: , 838, 1175357.json\n",
      "processing file: , 839, 548352.json\n",
      "processing file: , 840, 1136598.json\n",
      "processing file: , 841, 734001.json\n",
      "processing file: , 842, 501256.json\n",
      "processing file: , 843, 1426279.json\n",
      "processing file: , 844, 501253.json\n",
      "processing file: , 845, 1426302.json\n",
      "processing file: , 846, 419109.json\n",
      "processing file: , 847, 1304063.json\n",
      "processing file: , 848, 1304102.json\n",
      "processing file: , 849, 1359526.json\n",
      "processing file: , 850, 729295.json\n",
      "processing file: , 851, 1082625.json\n",
      "skipping super_over:  2017-04-29 35\n",
      "skipping super_over:  2017-04-29 35\n",
      "processing file: , 852, 419155.json\n",
      "processing file: , 853, 336038.json\n",
      "processing file: , 854, 419115.json\n",
      "processing file: , 855, 1136587.json\n",
      "processing file: , 856, 598023.json\n",
      "processing file: , 857, 981003.json\n",
      "processing file: , 858, 392221.json\n",
      "processing file: , 859, 501258.json\n",
      "processing file: , 860, 548320.json\n",
      "processing file: , 861, 392218.json\n",
      "processing file: , 862, 829791.json\n",
      "processing file: , 863, 1254071.json\n",
      "processing file: , 864, 1178431.json\n",
      "processing file: , 865, 1304078.json\n",
      "processing file: , 866, 829711.json\n",
      "processing file: , 867, 501250.json\n",
      "processing file: , 868, 501227.json\n",
      "processing file: , 869, 392192.json\n",
      "processing file: , 870, 1175361.json\n",
      "processing file: , 871, 829741.json\n",
      "skipping super_over:  2015-04-21 18\n",
      "skipping super_over:  2015-04-21 18\n",
      "processing file: , 872, 598049.json\n",
      "processing file: , 873, 1175362.json\n",
      "processing file: , 874, 1304107.json\n",
      "processing file: , 875, 501251.json\n",
      "processing file: , 876, 1359535.json\n",
      "processing file: , 877, 598021.json\n",
      "processing file: , 878, 1082600.json\n",
      "processing file: , 879, 1426290.json\n",
      "processing file: , 880, 1304083.json\n",
      "processing file: , 881, 1359521.json\n",
      "processing file: , 882, 1178415.json\n",
      "processing file: , 883, 1426285.json\n",
      "processing file: , 884, 1304073.json\n",
      "processing file: , 885, 1136617.json\n",
      "processing file: , 886, 336026.json\n",
      "processing file: , 887, 1082648.json\n",
      "processing file: , 888, 501235.json\n",
      "processing file: , 889, 1422122.json\n",
      "processing file: , 890, 335988.json\n",
      "processing file: , 891, 981005.json\n",
      "processing file: , 892, 392223.json\n",
      "processing file: , 893, 501266.json\n",
      "processing file: , 894, 980931.json\n",
      "processing file: , 895, 1254066.json\n",
      "processing file: , 896, 1359511.json\n",
      "processing file: , 897, 598043.json\n",
      "processing file: , 898, 1216511.json\n",
      "processing file: , 899, 1304087.json\n",
      "processing file: , 900, 335990.json\n",
      "processing file: , 901, 501233.json\n",
      "processing file: , 902, 1370350.json\n",
      "processing file: , 903, 548365.json\n",
      "processing file: , 904, 980905.json\n",
      "processing file: , 905, 1136606.json\n",
      "processing file: , 906, 548348.json\n",
      "processing file: , 907, 1422138.json\n",
      "processing file: , 908, 392213.json\n",
      "processing file: , 909, 1136619.json\n",
      "processing file: , 910, 548377.json\n",
      "processing file: , 911, 598032.json\n",
      "processing file: , 912, 1216510.json\n",
      "processing file: , 913, 1426262.json\n",
      "processing file: , 914, 1426298.json\n",
      "processing file: , 915, 598002.json\n",
      "processing file: , 916, 1422127.json\n",
      "processing file: , 917, 1304050.json\n",
      "processing file: , 918, 1359542.json\n",
      "processing file: , 919, 1304058.json\n",
      "processing file: , 920, 392203.json\n",
      "processing file: , 921, 548366.json\n",
      "processing file: , 922, 598071.json\n",
      "processing file: , 923, 1254102.json\n",
      "processing file: , 924, 729299.json\n",
      "processing file: , 925, 734049.json\n",
      "processing file: , 926, 501242.json\n",
      "processing file: , 927, 729289.json\n",
      "processing file: , 928, 1136591.json\n",
      "processing file: , 929, 548380.json\n",
      "processing file: , 930, 501245.json\n",
      "processing file: , 931, 1082631.json\n",
      "processing file: , 932, 829761.json\n",
      "processing file: , 933, 1359543.json\n",
      "processing file: , 934, 1082605.json\n",
      "processing file: , 935, 980985.json\n",
      "processing file: , 936, 1359485.json\n",
      "processing file: , 937, 1216500.json\n",
      "processing file: , 938, 392181.json\n",
      "processing file: , 939, 336012.json\n",
      "processing file: , 940, 1426275.json\n",
      "processing file: , 941, 1254113.json\n",
      "processing file: , 942, 733981.json\n",
      "processing file: , 943, 1216532.json\n",
      "processing file: , 944, 829727.json\n",
      "processing file: , 945, 1136608.json\n",
      "processing file: , 946, 1216504.json\n",
      "processing file: , 947, 501209.json\n",
      "processing file: , 948, 598035.json\n",
      "processing file: , 949, 1254082.json\n",
      "processing file: , 950, 1254083.json\n",
      "processing file: , 951, 1254111.json\n",
      "processing file: , 952, 548376.json\n",
      "processing file: , 953, 548323.json\n",
      "processing file: , 954, 598067.json\n",
      "processing file: , 955, 980963.json\n",
      "processing file: , 956, 829709.json\n",
      "processing file: , 957, 980937.json\n",
      "processing file: , 958, 335999.json\n",
      "processing file: , 959, 733999.json\n",
      "processing file: , 960, 1082624.json\n",
      "processing file: , 961, 419124.json\n",
      "processing file: , 962, 1304103.json\n",
      "processing file: , 963, 981001.json\n",
      "processing file: , 964, 501255.json\n",
      "processing file: , 965, 419148.json\n",
      "processing file: , 966, 598050.json\n",
      "processing file: , 967, 392222.json\n",
      "processing file: , 968, 829739.json\n",
      "processing file: , 969, 1304084.json\n",
      "processing file: , 970, 336013.json\n",
      "processing file: , 971, 1254080.json\n",
      "processing file: , 972, 392201.json\n",
      "processing file: , 973, 548311.json\n",
      "processing file: , 974, 1359493.json\n",
      "processing file: , 975, 1426286.json\n",
      "processing file: , 976, 548347.json\n",
      "processing file: , 977, 1178427.json\n",
      "processing file: , 978, 598012.json\n",
      "processing file: , 979, 1304100.json\n",
      "processing file: , 980, 501249.json\n",
      "processing file: , 981, 980957.json\n",
      "processing file: , 982, 392234.json\n",
      "processing file: , 983, 392189.json\n",
      "processing file: , 984, 598019.json\n",
      "processing file: , 985, 335998.json\n",
      "processing file: , 986, 1359528.json\n",
      "processing file: , 987, 1216526.json\n",
      "processing file: , 988, 336024.json\n",
      "processing file: , 989, 419112.json\n",
      "processing file: , 990, 734033.json\n",
      "processing file: , 991, 980901.json\n",
      "processing file: , 992, 419140.json\n",
      "processing file: , 993, 829787.json\n",
      "processing file: , 994, 501220.json\n",
      "processing file: , 995, 1178400.json\n",
      "processing file: , 996, 733989.json\n",
      "processing file: , 997, 419130.json\n",
      "processing file: , 998, 980923.json\n",
      "processing file: , 999, 1312199.json\n",
      "processing file: , 1000, 1359480.json\n",
      "processing file: , 1001, 548357.json\n",
      "processing file: , 1002, 392182.json\n",
      "processing file: , 1003, 501201.json\n",
      "processing file: , 1004, 1426299.json\n",
      "processing file: , 1005, 980945.json\n",
      "processing file: , 1006, 734009.json\n",
      "processing file: , 1007, 501222.json\n",
      "processing file: , 1008, 392205.json\n",
      "processing file: , 1009, 1136616.json\n",
      "processing file: , 1010, 548345.json\n",
      "processing file: , 1011, 1254064.json\n",
      "processing file: , 1012, 1254074.json\n",
      "processing file: , 1013, 734011.json\n",
      "processing file: , 1014, 335989.json\n",
      "processing file: , 1015, 392237.json\n",
      "processing file: , 1016, 419122.json\n",
      "processing file: , 1017, 1426300.json\n",
      "processing file: , 1018, 501226.json\n",
      "processing file: , 1019, 598046.json\n",
      "processing file: , 1020, 980951.json\n",
      "processing file: , 1021, 829785.json\n",
      "processing file: , 1022, 829775.json\n",
      "processing file: , 1023, 1426269.json\n",
      "processing file: , 1024, 1175356.json\n",
      "processing file: , 1025, 336016.json\n",
      "processing file: , 1026, 1304054.json\n",
      "processing file: , 1027, 548363.json\n",
      "processing file: , 1028, 829777.json\n",
      "processing file: , 1029, 1359534.json\n",
      "processing file: , 1030, 1422132.json\n",
      "processing file: , 1031, 829753.json\n",
      "processing file: , 1032, 980961.json\n",
      "processing file: , 1033, 598004.json\n",
      "skipping super_over:  2013-04-07 7\n",
      "skipping super_over:  2013-04-07 7\n",
      "processing file: , 1034, 419132.json\n",
      "processing file: , 1035, 419151.json\n",
      "processing file: , 1036, 1216519.json\n",
      "processing file: , 1037, 548356.json\n",
      "processing file: , 1038, 1304066.json\n",
      "processing file: , 1039, 501262.json\n",
      "processing file: , 1040, 1082628.json\n",
      "processing file: , 1041, 829809.json\n",
      "processing file: , 1042, 1426273.json\n",
      "processing file: , 1043, 548372.json\n",
      "processing file: , 1044, 734007.json\n",
      "processing file: , 1045, 1082633.json\n",
      "processing file: , 1046, 598027.json\n",
      "processing file: , 1047, 1178424.json\n",
      "processing file: , 1048, 829757.json\n",
      "processing file: , 1049, 501225.json\n",
      "processing file: , 1050, 734047.json\n",
      "processing file: , 1051, 548361.json\n",
      "processing file: , 1052, 1136618.json\n",
      "processing file: , 1053, 598042.json\n",
      "processing file: , 1054, 829745.json\n",
      "processing file: , 1055, 829749.json\n",
      "processing file: , 1056, 335996.json\n",
      "processing file: , 1057, 733973.json\n",
      "processing file: , 1058, 734029.json\n",
      "processing file: , 1059, 829771.json\n",
      "processing file: , 1060, 1359492.json\n",
      "processing file: , 1061, 392188.json\n",
      "processing file: , 1062, 1136563.json\n",
      "processing file: , 1063, 980909.json\n",
      "processing file: , 1064, 419149.json\n",
      "processing file: , 1065, 598045.json\n",
      "processing file: , 1066, 980979.json\n",
      "processing file: , 1067, 548373.json\n",
      "processing file: , 1068, 1216495.json\n",
      "processing file: , 1069, 980997.json\n",
      "processing file: , 1070, 980995.json\n",
      "processing file: , 1071, 548375.json\n",
      "processing file: , 1072, 1136603.json\n",
      "processing file: , 1073, 1304110.json\n",
      "processing file: , 1074, 548333.json\n",
      "processing file: , 1075, 981013.json\n",
      "processing file: , 1076, 598000.json\n",
      "processing file: , 1077, 598051.json\n",
      "processing file: , 1078, 598037.json\n",
      "processing file: , 1079, 336001.json\n",
      "processing file: , 1080, 1426303.json\n",
      "processing file: , 1081, 1304070.json\n",
      "processing file: , 1082, 1304053.json\n",
      "processing file: , 1083, 1216541.json\n",
      "processing file: , 1084, 1216507.json\n",
      "processing file: , 1085, 1359495.json\n",
      "processing file: , 1086, 829819.json\n",
      "processing file: , 1087, 1216497.json\n",
      "processing file: , 1088, 1082634.json\n",
      "processing file: , 1089, 1359524.json\n",
      "processing file: , 1090, 336009.json\n",
      "processing file: , 1091, 335984.json\n",
      "processing file: , 1092, 1422120.json\n",
      "processing file: , 1093, 1304081.json\n",
      "processing file: , 1094, 1370353.json\n"
     ]
    }
   ],
   "source": [
    "file_names = os.listdir(path=\"data\")\n",
    "file_names = filter(lambda x: str(x).endswith(\".json\"), file_names)\n",
    "\n",
    "merged_deliveries = pd.DataFrame()\n",
    "wickets_data = []\n",
    "index = 0\n",
    "match_number = 1\n",
    "\n",
    "# file_names = [\"829813.json\", \"829817.json\", \"829823.json\"]\n",
    "\n",
    "for file_idx, file_name in enumerate(file_names):\n",
    "    file_path = \"data/\" + file_name\n",
    "    with open(file=file_path, mode=\"r\") as file:\n",
    "        print(\"processing file: \", file_idx, file_name, sep=\", \")\n",
    "        data = json.load(file)\n",
    "        info = data[\"info\"]\n",
    "        date = info[\"dates\"][0]\n",
    "        match_number = (\n",
    "            info[\"event\"].get(\"match_number\")\n",
    "            if info[\"event\"].get(\"match_number\") != None\n",
    "            else info[\"event\"].get(\"stage\")\n",
    "        )\n",
    "        innings = data[\"innings\"]\n",
    "        for idx, inning in enumerate(innings):\n",
    "            if inning.get(\"super_over\") is not None:\n",
    "                print(\"skipping super_over: \", date, match_number)\n",
    "                continue\n",
    "            overs = inning[\"overs\"]\n",
    "            df_deliveries = pd.json_normalize(\n",
    "                overs, record_path=[\"deliveries\"], meta=[\"over\"]\n",
    "            )\n",
    "            df_deliveries[\"date\"] = date\n",
    "            df_deliveries[\"match_number\"] = match_number\n",
    "            df_deliveries[\"innings\"] = idx + 1\n",
    "            merged_deliveries = pd.concat([merged_deliveries, df_deliveries], axis=0)\n",
    "            for over in overs:\n",
    "                for delivery in over[\"deliveries\"]:\n",
    "                    wicket_data = populate_wicket_data(index, delivery)\n",
    "                    wickets_data.append(wicket_data)\n",
    "                    index += 1\n",
    "\n",
    "df_wickets = pd.DataFrame(wickets_data)\n",
    "\n",
    "merged_deliveries.reset_index(inplace=True)\n",
    "\n",
    "merged_deliveries[\"delivery_index\"] = merged_deliveries.index\n",
    "\n",
    "df_merged = pd.merge(merged_deliveries, df_wickets, on=\"delivery_index\", how=\"left\")\n",
    "\n",
    "df_merged.drop(\"delivery_index\", inplace=True, axis=1)\n",
    "# df_merged.drop(\"wickets\", inplace=True, axis=1)"
   ]
  },
  {
   "cell_type": "code",
   "execution_count": 6,
   "metadata": {},
   "outputs": [],
   "source": [
    "ordered_cols = [\n",
    "    \"date\",\n",
    "    \"match_number\",\n",
    "    \"innings\",\n",
    "    \"over\",\n",
    "    \"batter\",\n",
    "    \"bowler\",\n",
    "    \"non_striker\",\n",
    "    \"runs.batter\",\n",
    "    \"runs.extras\",\n",
    "    \"runs.total\",\n",
    "    \"extras.legbyes\",\n",
    "    \"extras.wides\",\n",
    "    \"extras.byes\",\n",
    "    \"extras.noballs\",\n",
    "    \"wicket.kind\",\n",
    "    \"wicket.player_out\",\n",
    "    \"wicket.fielders\",\n",
    "    \"wickets\",\n",
    "]"
   ]
  },
  {
   "cell_type": "code",
   "execution_count": 7,
   "metadata": {},
   "outputs": [],
   "source": [
    "df_merged = df_merged.reindex(columns=ordered_cols)\n",
    "df_merged.sort_values(by=[\"date\", \"match_number\"], inplace=True)"
   ]
  },
  {
   "cell_type": "code",
   "execution_count": 8,
   "metadata": {},
   "outputs": [],
   "source": [
    "df_wickets.to_csv(\"output/wickets.csv\", index=False)"
   ]
  },
  {
   "cell_type": "code",
   "execution_count": 9,
   "metadata": {},
   "outputs": [],
   "source": [
    "df_merged.to_csv(\"output/ipl_ball_by_ball_output.csv\", index=False)"
   ]
  },
  {
   "cell_type": "code",
   "execution_count": 10,
   "metadata": {},
   "outputs": [
    {
     "data": {
      "text/html": [
       "<div>\n",
       "<style scoped>\n",
       "    .dataframe tbody tr th:only-of-type {\n",
       "        vertical-align: middle;\n",
       "    }\n",
       "\n",
       "    .dataframe tbody tr th {\n",
       "        vertical-align: top;\n",
       "    }\n",
       "\n",
       "    .dataframe thead th {\n",
       "        text-align: right;\n",
       "    }\n",
       "</style>\n",
       "<table border=\"1\" class=\"dataframe\">\n",
       "  <thead>\n",
       "    <tr style=\"text-align: right;\">\n",
       "      <th></th>\n",
       "      <th>date</th>\n",
       "      <th>match_number</th>\n",
       "      <th>innings</th>\n",
       "      <th>over</th>\n",
       "      <th>batter</th>\n",
       "      <th>bowler</th>\n",
       "      <th>non_striker</th>\n",
       "      <th>runs.batter</th>\n",
       "      <th>runs.extras</th>\n",
       "      <th>runs.total</th>\n",
       "      <th>extras.legbyes</th>\n",
       "      <th>extras.wides</th>\n",
       "      <th>extras.byes</th>\n",
       "      <th>extras.noballs</th>\n",
       "      <th>wicket.kind</th>\n",
       "      <th>wicket.player_out</th>\n",
       "      <th>wicket.fielders</th>\n",
       "      <th>wickets</th>\n",
       "    </tr>\n",
       "  </thead>\n",
       "  <tbody>\n",
       "    <tr>\n",
       "      <th>79344</th>\n",
       "      <td>2008-04-18</td>\n",
       "      <td>1</td>\n",
       "      <td>1</td>\n",
       "      <td>0</td>\n",
       "      <td>SC Ganguly</td>\n",
       "      <td>P Kumar</td>\n",
       "      <td>BB McCullum</td>\n",
       "      <td>0</td>\n",
       "      <td>1</td>\n",
       "      <td>1</td>\n",
       "      <td>1.0</td>\n",
       "      <td>NaN</td>\n",
       "      <td>NaN</td>\n",
       "      <td>NaN</td>\n",
       "      <td>None</td>\n",
       "      <td>None</td>\n",
       "      <td>None</td>\n",
       "      <td>NaN</td>\n",
       "    </tr>\n",
       "    <tr>\n",
       "      <th>79345</th>\n",
       "      <td>2008-04-18</td>\n",
       "      <td>1</td>\n",
       "      <td>1</td>\n",
       "      <td>0</td>\n",
       "      <td>BB McCullum</td>\n",
       "      <td>P Kumar</td>\n",
       "      <td>SC Ganguly</td>\n",
       "      <td>0</td>\n",
       "      <td>0</td>\n",
       "      <td>0</td>\n",
       "      <td>NaN</td>\n",
       "      <td>NaN</td>\n",
       "      <td>NaN</td>\n",
       "      <td>NaN</td>\n",
       "      <td>None</td>\n",
       "      <td>None</td>\n",
       "      <td>None</td>\n",
       "      <td>NaN</td>\n",
       "    </tr>\n",
       "    <tr>\n",
       "      <th>79346</th>\n",
       "      <td>2008-04-18</td>\n",
       "      <td>1</td>\n",
       "      <td>1</td>\n",
       "      <td>0</td>\n",
       "      <td>BB McCullum</td>\n",
       "      <td>P Kumar</td>\n",
       "      <td>SC Ganguly</td>\n",
       "      <td>0</td>\n",
       "      <td>1</td>\n",
       "      <td>1</td>\n",
       "      <td>NaN</td>\n",
       "      <td>1.0</td>\n",
       "      <td>NaN</td>\n",
       "      <td>NaN</td>\n",
       "      <td>None</td>\n",
       "      <td>None</td>\n",
       "      <td>None</td>\n",
       "      <td>NaN</td>\n",
       "    </tr>\n",
       "    <tr>\n",
       "      <th>79347</th>\n",
       "      <td>2008-04-18</td>\n",
       "      <td>1</td>\n",
       "      <td>1</td>\n",
       "      <td>0</td>\n",
       "      <td>BB McCullum</td>\n",
       "      <td>P Kumar</td>\n",
       "      <td>SC Ganguly</td>\n",
       "      <td>0</td>\n",
       "      <td>0</td>\n",
       "      <td>0</td>\n",
       "      <td>NaN</td>\n",
       "      <td>NaN</td>\n",
       "      <td>NaN</td>\n",
       "      <td>NaN</td>\n",
       "      <td>None</td>\n",
       "      <td>None</td>\n",
       "      <td>None</td>\n",
       "      <td>NaN</td>\n",
       "    </tr>\n",
       "    <tr>\n",
       "      <th>79348</th>\n",
       "      <td>2008-04-18</td>\n",
       "      <td>1</td>\n",
       "      <td>1</td>\n",
       "      <td>0</td>\n",
       "      <td>BB McCullum</td>\n",
       "      <td>P Kumar</td>\n",
       "      <td>SC Ganguly</td>\n",
       "      <td>0</td>\n",
       "      <td>0</td>\n",
       "      <td>0</td>\n",
       "      <td>NaN</td>\n",
       "      <td>NaN</td>\n",
       "      <td>NaN</td>\n",
       "      <td>NaN</td>\n",
       "      <td>None</td>\n",
       "      <td>None</td>\n",
       "      <td>None</td>\n",
       "      <td>NaN</td>\n",
       "    </tr>\n",
       "  </tbody>\n",
       "</table>\n",
       "</div>"
      ],
      "text/plain": [
       "             date match_number  innings over       batter   bowler  \\\n",
       "79344  2008-04-18            1        1    0   SC Ganguly  P Kumar   \n",
       "79345  2008-04-18            1        1    0  BB McCullum  P Kumar   \n",
       "79346  2008-04-18            1        1    0  BB McCullum  P Kumar   \n",
       "79347  2008-04-18            1        1    0  BB McCullum  P Kumar   \n",
       "79348  2008-04-18            1        1    0  BB McCullum  P Kumar   \n",
       "\n",
       "       non_striker  runs.batter  runs.extras  runs.total  extras.legbyes  \\\n",
       "79344  BB McCullum            0            1           1             1.0   \n",
       "79345   SC Ganguly            0            0           0             NaN   \n",
       "79346   SC Ganguly            0            1           1             NaN   \n",
       "79347   SC Ganguly            0            0           0             NaN   \n",
       "79348   SC Ganguly            0            0           0             NaN   \n",
       "\n",
       "       extras.wides  extras.byes  extras.noballs wicket.kind  \\\n",
       "79344           NaN          NaN             NaN        None   \n",
       "79345           NaN          NaN             NaN        None   \n",
       "79346           1.0          NaN             NaN        None   \n",
       "79347           NaN          NaN             NaN        None   \n",
       "79348           NaN          NaN             NaN        None   \n",
       "\n",
       "      wicket.player_out wicket.fielders wickets  \n",
       "79344              None            None     NaN  \n",
       "79345              None            None     NaN  \n",
       "79346              None            None     NaN  \n",
       "79347              None            None     NaN  \n",
       "79348              None            None     NaN  "
      ]
     },
     "execution_count": 10,
     "metadata": {},
     "output_type": "execute_result"
    }
   ],
   "source": [
    "df_merged.head()"
   ]
  },
  {
   "cell_type": "markdown",
   "metadata": {},
   "source": [
    "## Validate the resultant dataframe\n"
   ]
  },
  {
   "cell_type": "code",
   "execution_count": 11,
   "metadata": {},
   "outputs": [
    {
     "name": "stdout",
     "output_type": "stream",
     "text": [
      "min date:  2008-04-18\n",
      "max date:  2024-05-26\n"
     ]
    }
   ],
   "source": [
    "print(\"min date: \", df_merged[\"date\"].min())\n",
    "print(\"max date: \", df_merged[\"date\"].max())"
   ]
  },
  {
   "cell_type": "markdown",
   "metadata": {},
   "source": [
    "### Since we have data for IPL matches between 2008 to 2024, the above date range looks right\n"
   ]
  },
  {
   "cell_type": "code",
   "execution_count": 12,
   "metadata": {},
   "outputs": [
    {
     "data": {
      "text/plain": [
       "array([1, 2, 3, 4, 5, 6, 7, 8, 9, 10, 11, 12, 13, 14, 15, 16, 17, 18, 19,\n",
       "       20, 21, 22, 23, 24, 25, 26, 27, 28, 29, 30, 31, 32, 33, 34, 35, 36,\n",
       "       37, 38, 39, 40, 41, 42, 43, 44, 45, 46, 48, 49, 50, 51, 52, 53, 54,\n",
       "       55, 56, 'Semi Final', 'Final', 47, '3rd Place Play-Off', 57, 58,\n",
       "       59, 60, 61, 62, 63, 64, 65, 66, 67, 68, 69, 70, 'Qualifier 1',\n",
       "       'Elimination Final', 'Qualifier 2', 71, 72, 'Eliminator'],\n",
       "      dtype=object)"
      ]
     },
     "execution_count": 12,
     "metadata": {},
     "output_type": "execute_result"
    }
   ],
   "source": [
    "df_merged[\"match_number\"].unique()"
   ]
  },
  {
   "cell_type": "markdown",
   "metadata": {},
   "source": [
    "### The above values for match_number looks right\n"
   ]
  },
  {
   "cell_type": "code",
   "execution_count": 13,
   "metadata": {},
   "outputs": [
    {
     "data": {
      "text/plain": [
       "array([1, 2])"
      ]
     },
     "execution_count": 13,
     "metadata": {},
     "output_type": "execute_result"
    }
   ],
   "source": [
    "df_merged[\"innings\"].unique()"
   ]
  },
  {
   "cell_type": "code",
   "execution_count": 14,
   "metadata": {},
   "outputs": [
    {
     "data": {
      "text/plain": [
       "array([0, 1, 2, 3, 4, 5, 6, 7, 8, 9, 10, 11, 12, 13, 14, 15, 16, 17, 18,\n",
       "       19], dtype=object)"
      ]
     },
     "execution_count": 14,
     "metadata": {},
     "output_type": "execute_result"
    }
   ],
   "source": [
    "df_merged[\"over\"].unique()"
   ]
  },
  {
   "cell_type": "code",
   "execution_count": 15,
   "metadata": {},
   "outputs": [
    {
     "data": {
      "text/plain": [
       "[np.int64(0),\n",
       " np.int64(1),\n",
       " np.int64(2),\n",
       " np.int64(3),\n",
       " np.int64(4),\n",
       " np.int64(5),\n",
       " np.int64(6)]"
      ]
     },
     "execution_count": 15,
     "metadata": {},
     "output_type": "execute_result"
    }
   ],
   "source": [
    "sorted(df_merged[\"runs.batter\"].unique())"
   ]
  },
  {
   "cell_type": "code",
   "execution_count": 16,
   "metadata": {},
   "outputs": [
    {
     "data": {
      "text/plain": [
       "[np.int64(0),\n",
       " np.int64(1),\n",
       " np.int64(2),\n",
       " np.int64(3),\n",
       " np.int64(4),\n",
       " np.int64(5),\n",
       " np.int64(7)]"
      ]
     },
     "execution_count": 16,
     "metadata": {},
     "output_type": "execute_result"
    }
   ],
   "source": [
    "sorted(df_merged[\"runs.extras\"].unique())"
   ]
  },
  {
   "cell_type": "code",
   "execution_count": 17,
   "metadata": {},
   "outputs": [
    {
     "data": {
      "text/plain": [
       "[np.int64(0),\n",
       " np.int64(1),\n",
       " np.int64(2),\n",
       " np.int64(3),\n",
       " np.int64(4),\n",
       " np.int64(5),\n",
       " np.int64(6),\n",
       " np.int64(7)]"
      ]
     },
     "execution_count": 17,
     "metadata": {},
     "output_type": "execute_result"
    }
   ],
   "source": [
    "sorted(df_merged[\"runs.total\"].unique())"
   ]
  },
  {
   "cell_type": "code",
   "execution_count": 18,
   "metadata": {},
   "outputs": [
    {
     "data": {
      "text/plain": [
       "[np.float64(1.0),\n",
       " np.float64(nan),\n",
       " np.float64(2.0),\n",
       " np.float64(3.0),\n",
       " np.float64(4.0),\n",
       " np.float64(5.0)]"
      ]
     },
     "execution_count": 18,
     "metadata": {},
     "output_type": "execute_result"
    }
   ],
   "source": [
    "sorted(df_merged[\"extras.legbyes\"].unique())"
   ]
  },
  {
   "cell_type": "code",
   "execution_count": 19,
   "metadata": {},
   "outputs": [
    {
     "data": {
      "text/plain": [
       "[np.float64(nan),\n",
       " np.float64(1.0),\n",
       " np.float64(2.0),\n",
       " np.float64(3.0),\n",
       " np.float64(4.0),\n",
       " np.float64(5.0)]"
      ]
     },
     "execution_count": 19,
     "metadata": {},
     "output_type": "execute_result"
    }
   ],
   "source": [
    "sorted(df_merged[\"extras.wides\"].unique())"
   ]
  },
  {
   "cell_type": "code",
   "execution_count": 20,
   "metadata": {},
   "outputs": [
    {
     "data": {
      "text/plain": [
       "[np.float64(nan),\n",
       " np.float64(1.0),\n",
       " np.float64(2.0),\n",
       " np.float64(3.0),\n",
       " np.float64(4.0)]"
      ]
     },
     "execution_count": 20,
     "metadata": {},
     "output_type": "execute_result"
    }
   ],
   "source": [
    "sorted(df_merged[\"extras.byes\"].unique())"
   ]
  },
  {
   "cell_type": "code",
   "execution_count": 21,
   "metadata": {},
   "outputs": [
    {
     "data": {
      "text/plain": [
       "[np.float64(nan),\n",
       " np.float64(1.0),\n",
       " np.float64(2.0),\n",
       " np.float64(3.0),\n",
       " np.float64(5.0)]"
      ]
     },
     "execution_count": 21,
     "metadata": {},
     "output_type": "execute_result"
    }
   ],
   "source": [
    "sorted(df_merged[\"extras.noballs\"].unique())"
   ]
  },
  {
   "cell_type": "code",
   "execution_count": 22,
   "metadata": {},
   "outputs": [
    {
     "data": {
      "text/plain": [
       "array([None, 'caught', 'bowled', 'run out', 'lbw', 'retired hurt',\n",
       "       'stumped', 'caught and bowled', 'hit wicket',\n",
       "       'obstructing the field', 'retired out'], dtype=object)"
      ]
     },
     "execution_count": 22,
     "metadata": {},
     "output_type": "execute_result"
    }
   ],
   "source": [
    "df_merged[\"wicket.kind\"].unique()"
   ]
  },
  {
   "cell_type": "code",
   "execution_count": 23,
   "metadata": {},
   "outputs": [
    {
     "data": {
      "text/plain": [
       "array([None, 'SC Ganguly', 'RT Ponting', 'DJ Hussey', 'R Dravid',\n",
       "       'V Kohli', 'JH Kallis', 'W Jaffer', 'MV Boucher', 'B Akhil'],\n",
       "      dtype=object)"
      ]
     },
     "execution_count": 23,
     "metadata": {},
     "output_type": "execute_result"
    }
   ],
   "source": [
    "df_merged[\"wicket.player_out\"].unique()[:10]"
   ]
  },
  {
   "cell_type": "code",
   "execution_count": 24,
   "metadata": {},
   "outputs": [
    {
     "data": {
      "text/plain": [
       "np.int64(9342)"
      ]
     },
     "execution_count": 24,
     "metadata": {},
     "output_type": "execute_result"
    }
   ],
   "source": [
    "df_merged[~pd.isnull(df_merged[\"wicket.fielders\"])][\"wicket.fielders\"].count()"
   ]
  },
  {
   "cell_type": "code",
   "execution_count": 25,
   "metadata": {},
   "outputs": [
    {
     "data": {
      "text/plain": [
       "np.int64(12923)"
      ]
     },
     "execution_count": 25,
     "metadata": {},
     "output_type": "execute_result"
    }
   ],
   "source": [
    "df_merged[~ pd.isnull(df_merged[\"wickets\"])]['wickets'].count()"
   ]
  },
  {
   "cell_type": "code",
   "execution_count": 26,
   "metadata": {},
   "outputs": [
    {
     "data": {
      "text/html": [
       "<div>\n",
       "<style scoped>\n",
       "    .dataframe tbody tr th:only-of-type {\n",
       "        vertical-align: middle;\n",
       "    }\n",
       "\n",
       "    .dataframe tbody tr th {\n",
       "        vertical-align: top;\n",
       "    }\n",
       "\n",
       "    .dataframe thead th {\n",
       "        text-align: right;\n",
       "    }\n",
       "</style>\n",
       "<table border=\"1\" class=\"dataframe\">\n",
       "  <thead>\n",
       "    <tr style=\"text-align: right;\">\n",
       "      <th></th>\n",
       "      <th>date</th>\n",
       "      <th>match_number</th>\n",
       "      <th>innings</th>\n",
       "      <th>over</th>\n",
       "      <th>batter</th>\n",
       "      <th>bowler</th>\n",
       "      <th>non_striker</th>\n",
       "      <th>runs.batter</th>\n",
       "      <th>runs.extras</th>\n",
       "      <th>runs.total</th>\n",
       "      <th>extras.legbyes</th>\n",
       "      <th>extras.wides</th>\n",
       "      <th>extras.byes</th>\n",
       "      <th>extras.noballs</th>\n",
       "      <th>wicket.kind</th>\n",
       "      <th>wicket.player_out</th>\n",
       "      <th>wicket.fielders</th>\n",
       "      <th>wickets</th>\n",
       "    </tr>\n",
       "  </thead>\n",
       "  <tbody>\n",
       "    <tr>\n",
       "      <th>79344</th>\n",
       "      <td>2008-04-18</td>\n",
       "      <td>1</td>\n",
       "      <td>1</td>\n",
       "      <td>0</td>\n",
       "      <td>SC Ganguly</td>\n",
       "      <td>P Kumar</td>\n",
       "      <td>BB McCullum</td>\n",
       "      <td>0</td>\n",
       "      <td>1</td>\n",
       "      <td>1</td>\n",
       "      <td>1.0</td>\n",
       "      <td>NaN</td>\n",
       "      <td>NaN</td>\n",
       "      <td>NaN</td>\n",
       "      <td>None</td>\n",
       "      <td>None</td>\n",
       "      <td>None</td>\n",
       "      <td>NaN</td>\n",
       "    </tr>\n",
       "    <tr>\n",
       "      <th>79345</th>\n",
       "      <td>2008-04-18</td>\n",
       "      <td>1</td>\n",
       "      <td>1</td>\n",
       "      <td>0</td>\n",
       "      <td>BB McCullum</td>\n",
       "      <td>P Kumar</td>\n",
       "      <td>SC Ganguly</td>\n",
       "      <td>0</td>\n",
       "      <td>0</td>\n",
       "      <td>0</td>\n",
       "      <td>NaN</td>\n",
       "      <td>NaN</td>\n",
       "      <td>NaN</td>\n",
       "      <td>NaN</td>\n",
       "      <td>None</td>\n",
       "      <td>None</td>\n",
       "      <td>None</td>\n",
       "      <td>NaN</td>\n",
       "    </tr>\n",
       "    <tr>\n",
       "      <th>79346</th>\n",
       "      <td>2008-04-18</td>\n",
       "      <td>1</td>\n",
       "      <td>1</td>\n",
       "      <td>0</td>\n",
       "      <td>BB McCullum</td>\n",
       "      <td>P Kumar</td>\n",
       "      <td>SC Ganguly</td>\n",
       "      <td>0</td>\n",
       "      <td>1</td>\n",
       "      <td>1</td>\n",
       "      <td>NaN</td>\n",
       "      <td>1.0</td>\n",
       "      <td>NaN</td>\n",
       "      <td>NaN</td>\n",
       "      <td>None</td>\n",
       "      <td>None</td>\n",
       "      <td>None</td>\n",
       "      <td>NaN</td>\n",
       "    </tr>\n",
       "    <tr>\n",
       "      <th>79347</th>\n",
       "      <td>2008-04-18</td>\n",
       "      <td>1</td>\n",
       "      <td>1</td>\n",
       "      <td>0</td>\n",
       "      <td>BB McCullum</td>\n",
       "      <td>P Kumar</td>\n",
       "      <td>SC Ganguly</td>\n",
       "      <td>0</td>\n",
       "      <td>0</td>\n",
       "      <td>0</td>\n",
       "      <td>NaN</td>\n",
       "      <td>NaN</td>\n",
       "      <td>NaN</td>\n",
       "      <td>NaN</td>\n",
       "      <td>None</td>\n",
       "      <td>None</td>\n",
       "      <td>None</td>\n",
       "      <td>NaN</td>\n",
       "    </tr>\n",
       "    <tr>\n",
       "      <th>79348</th>\n",
       "      <td>2008-04-18</td>\n",
       "      <td>1</td>\n",
       "      <td>1</td>\n",
       "      <td>0</td>\n",
       "      <td>BB McCullum</td>\n",
       "      <td>P Kumar</td>\n",
       "      <td>SC Ganguly</td>\n",
       "      <td>0</td>\n",
       "      <td>0</td>\n",
       "      <td>0</td>\n",
       "      <td>NaN</td>\n",
       "      <td>NaN</td>\n",
       "      <td>NaN</td>\n",
       "      <td>NaN</td>\n",
       "      <td>None</td>\n",
       "      <td>None</td>\n",
       "      <td>None</td>\n",
       "      <td>NaN</td>\n",
       "    </tr>\n",
       "    <tr>\n",
       "      <th>...</th>\n",
       "      <td>...</td>\n",
       "      <td>...</td>\n",
       "      <td>...</td>\n",
       "      <td>...</td>\n",
       "      <td>...</td>\n",
       "      <td>...</td>\n",
       "      <td>...</td>\n",
       "      <td>...</td>\n",
       "      <td>...</td>\n",
       "      <td>...</td>\n",
       "      <td>...</td>\n",
       "      <td>...</td>\n",
       "      <td>...</td>\n",
       "      <td>...</td>\n",
       "      <td>...</td>\n",
       "      <td>...</td>\n",
       "      <td>...</td>\n",
       "      <td>...</td>\n",
       "    </tr>\n",
       "    <tr>\n",
       "      <th>52721</th>\n",
       "      <td>2024-05-26</td>\n",
       "      <td>Final</td>\n",
       "      <td>2</td>\n",
       "      <td>9</td>\n",
       "      <td>SS Iyer</td>\n",
       "      <td>AK Markram</td>\n",
       "      <td>VR Iyer</td>\n",
       "      <td>1</td>\n",
       "      <td>0</td>\n",
       "      <td>1</td>\n",
       "      <td>NaN</td>\n",
       "      <td>NaN</td>\n",
       "      <td>NaN</td>\n",
       "      <td>NaN</td>\n",
       "      <td>None</td>\n",
       "      <td>None</td>\n",
       "      <td>None</td>\n",
       "      <td>NaN</td>\n",
       "    </tr>\n",
       "    <tr>\n",
       "      <th>52722</th>\n",
       "      <td>2024-05-26</td>\n",
       "      <td>Final</td>\n",
       "      <td>2</td>\n",
       "      <td>9</td>\n",
       "      <td>VR Iyer</td>\n",
       "      <td>AK Markram</td>\n",
       "      <td>SS Iyer</td>\n",
       "      <td>1</td>\n",
       "      <td>0</td>\n",
       "      <td>1</td>\n",
       "      <td>NaN</td>\n",
       "      <td>NaN</td>\n",
       "      <td>NaN</td>\n",
       "      <td>NaN</td>\n",
       "      <td>None</td>\n",
       "      <td>None</td>\n",
       "      <td>None</td>\n",
       "      <td>NaN</td>\n",
       "    </tr>\n",
       "    <tr>\n",
       "      <th>52723</th>\n",
       "      <td>2024-05-26</td>\n",
       "      <td>Final</td>\n",
       "      <td>2</td>\n",
       "      <td>10</td>\n",
       "      <td>VR Iyer</td>\n",
       "      <td>Shahbaz Ahmed</td>\n",
       "      <td>SS Iyer</td>\n",
       "      <td>1</td>\n",
       "      <td>0</td>\n",
       "      <td>1</td>\n",
       "      <td>NaN</td>\n",
       "      <td>NaN</td>\n",
       "      <td>NaN</td>\n",
       "      <td>NaN</td>\n",
       "      <td>None</td>\n",
       "      <td>None</td>\n",
       "      <td>None</td>\n",
       "      <td>NaN</td>\n",
       "    </tr>\n",
       "    <tr>\n",
       "      <th>52724</th>\n",
       "      <td>2024-05-26</td>\n",
       "      <td>Final</td>\n",
       "      <td>2</td>\n",
       "      <td>10</td>\n",
       "      <td>SS Iyer</td>\n",
       "      <td>Shahbaz Ahmed</td>\n",
       "      <td>VR Iyer</td>\n",
       "      <td>1</td>\n",
       "      <td>0</td>\n",
       "      <td>1</td>\n",
       "      <td>NaN</td>\n",
       "      <td>NaN</td>\n",
       "      <td>NaN</td>\n",
       "      <td>NaN</td>\n",
       "      <td>None</td>\n",
       "      <td>None</td>\n",
       "      <td>None</td>\n",
       "      <td>NaN</td>\n",
       "    </tr>\n",
       "    <tr>\n",
       "      <th>52725</th>\n",
       "      <td>2024-05-26</td>\n",
       "      <td>Final</td>\n",
       "      <td>2</td>\n",
       "      <td>10</td>\n",
       "      <td>VR Iyer</td>\n",
       "      <td>Shahbaz Ahmed</td>\n",
       "      <td>SS Iyer</td>\n",
       "      <td>1</td>\n",
       "      <td>0</td>\n",
       "      <td>1</td>\n",
       "      <td>NaN</td>\n",
       "      <td>NaN</td>\n",
       "      <td>NaN</td>\n",
       "      <td>NaN</td>\n",
       "      <td>None</td>\n",
       "      <td>None</td>\n",
       "      <td>None</td>\n",
       "      <td>NaN</td>\n",
       "    </tr>\n",
       "  </tbody>\n",
       "</table>\n",
       "<p>260759 rows × 18 columns</p>\n",
       "</div>"
      ],
      "text/plain": [
       "             date match_number  innings over       batter         bowler  \\\n",
       "79344  2008-04-18            1        1    0   SC Ganguly        P Kumar   \n",
       "79345  2008-04-18            1        1    0  BB McCullum        P Kumar   \n",
       "79346  2008-04-18            1        1    0  BB McCullum        P Kumar   \n",
       "79347  2008-04-18            1        1    0  BB McCullum        P Kumar   \n",
       "79348  2008-04-18            1        1    0  BB McCullum        P Kumar   \n",
       "...           ...          ...      ...  ...          ...            ...   \n",
       "52721  2024-05-26        Final        2    9      SS Iyer     AK Markram   \n",
       "52722  2024-05-26        Final        2    9      VR Iyer     AK Markram   \n",
       "52723  2024-05-26        Final        2   10      VR Iyer  Shahbaz Ahmed   \n",
       "52724  2024-05-26        Final        2   10      SS Iyer  Shahbaz Ahmed   \n",
       "52725  2024-05-26        Final        2   10      VR Iyer  Shahbaz Ahmed   \n",
       "\n",
       "       non_striker  runs.batter  runs.extras  runs.total  extras.legbyes  \\\n",
       "79344  BB McCullum            0            1           1             1.0   \n",
       "79345   SC Ganguly            0            0           0             NaN   \n",
       "79346   SC Ganguly            0            1           1             NaN   \n",
       "79347   SC Ganguly            0            0           0             NaN   \n",
       "79348   SC Ganguly            0            0           0             NaN   \n",
       "...            ...          ...          ...         ...             ...   \n",
       "52721      VR Iyer            1            0           1             NaN   \n",
       "52722      SS Iyer            1            0           1             NaN   \n",
       "52723      SS Iyer            1            0           1             NaN   \n",
       "52724      VR Iyer            1            0           1             NaN   \n",
       "52725      SS Iyer            1            0           1             NaN   \n",
       "\n",
       "       extras.wides  extras.byes  extras.noballs wicket.kind  \\\n",
       "79344           NaN          NaN             NaN        None   \n",
       "79345           NaN          NaN             NaN        None   \n",
       "79346           1.0          NaN             NaN        None   \n",
       "79347           NaN          NaN             NaN        None   \n",
       "79348           NaN          NaN             NaN        None   \n",
       "...             ...          ...             ...         ...   \n",
       "52721           NaN          NaN             NaN        None   \n",
       "52722           NaN          NaN             NaN        None   \n",
       "52723           NaN          NaN             NaN        None   \n",
       "52724           NaN          NaN             NaN        None   \n",
       "52725           NaN          NaN             NaN        None   \n",
       "\n",
       "      wicket.player_out wicket.fielders wickets  \n",
       "79344              None            None     NaN  \n",
       "79345              None            None     NaN  \n",
       "79346              None            None     NaN  \n",
       "79347              None            None     NaN  \n",
       "79348              None            None     NaN  \n",
       "...                 ...             ...     ...  \n",
       "52721              None            None     NaN  \n",
       "52722              None            None     NaN  \n",
       "52723              None            None     NaN  \n",
       "52724              None            None     NaN  \n",
       "52725              None            None     NaN  \n",
       "\n",
       "[260759 rows x 18 columns]"
      ]
     },
     "execution_count": 26,
     "metadata": {},
     "output_type": "execute_result"
    }
   ],
   "source": [
    "df_merged"
   ]
  },
  {
   "cell_type": "code",
   "execution_count": 27,
   "metadata": {},
   "outputs": [],
   "source": [
    "df_merged['season'] = df_merged['date'].str.slice(0,4)"
   ]
  },
  {
   "cell_type": "markdown",
   "metadata": {},
   "source": []
  },
  {
   "cell_type": "code",
   "execution_count": 28,
   "metadata": {},
   "outputs": [
    {
     "data": {
      "text/html": [
       "<div>\n",
       "<style scoped>\n",
       "    .dataframe tbody tr th:only-of-type {\n",
       "        vertical-align: middle;\n",
       "    }\n",
       "\n",
       "    .dataframe tbody tr th {\n",
       "        vertical-align: top;\n",
       "    }\n",
       "\n",
       "    .dataframe thead th {\n",
       "        text-align: right;\n",
       "    }\n",
       "</style>\n",
       "<table border=\"1\" class=\"dataframe\">\n",
       "  <thead>\n",
       "    <tr style=\"text-align: right;\">\n",
       "      <th></th>\n",
       "      <th>date</th>\n",
       "      <th>match_number</th>\n",
       "      <th>innings</th>\n",
       "      <th>over</th>\n",
       "      <th>batter</th>\n",
       "      <th>bowler</th>\n",
       "      <th>non_striker</th>\n",
       "      <th>runs.batter</th>\n",
       "      <th>runs.extras</th>\n",
       "      <th>runs.total</th>\n",
       "      <th>extras.legbyes</th>\n",
       "      <th>extras.wides</th>\n",
       "      <th>extras.byes</th>\n",
       "      <th>extras.noballs</th>\n",
       "      <th>wicket.kind</th>\n",
       "      <th>wicket.player_out</th>\n",
       "      <th>wicket.fielders</th>\n",
       "      <th>wickets</th>\n",
       "      <th>season</th>\n",
       "    </tr>\n",
       "  </thead>\n",
       "  <tbody>\n",
       "    <tr>\n",
       "      <th>79344</th>\n",
       "      <td>2008-04-18</td>\n",
       "      <td>1</td>\n",
       "      <td>1</td>\n",
       "      <td>0</td>\n",
       "      <td>SC Ganguly</td>\n",
       "      <td>P Kumar</td>\n",
       "      <td>BB McCullum</td>\n",
       "      <td>0</td>\n",
       "      <td>1</td>\n",
       "      <td>1</td>\n",
       "      <td>1.0</td>\n",
       "      <td>NaN</td>\n",
       "      <td>NaN</td>\n",
       "      <td>NaN</td>\n",
       "      <td>None</td>\n",
       "      <td>None</td>\n",
       "      <td>None</td>\n",
       "      <td>NaN</td>\n",
       "      <td>2008</td>\n",
       "    </tr>\n",
       "    <tr>\n",
       "      <th>79345</th>\n",
       "      <td>2008-04-18</td>\n",
       "      <td>1</td>\n",
       "      <td>1</td>\n",
       "      <td>0</td>\n",
       "      <td>BB McCullum</td>\n",
       "      <td>P Kumar</td>\n",
       "      <td>SC Ganguly</td>\n",
       "      <td>0</td>\n",
       "      <td>0</td>\n",
       "      <td>0</td>\n",
       "      <td>NaN</td>\n",
       "      <td>NaN</td>\n",
       "      <td>NaN</td>\n",
       "      <td>NaN</td>\n",
       "      <td>None</td>\n",
       "      <td>None</td>\n",
       "      <td>None</td>\n",
       "      <td>NaN</td>\n",
       "      <td>2008</td>\n",
       "    </tr>\n",
       "    <tr>\n",
       "      <th>79346</th>\n",
       "      <td>2008-04-18</td>\n",
       "      <td>1</td>\n",
       "      <td>1</td>\n",
       "      <td>0</td>\n",
       "      <td>BB McCullum</td>\n",
       "      <td>P Kumar</td>\n",
       "      <td>SC Ganguly</td>\n",
       "      <td>0</td>\n",
       "      <td>1</td>\n",
       "      <td>1</td>\n",
       "      <td>NaN</td>\n",
       "      <td>1.0</td>\n",
       "      <td>NaN</td>\n",
       "      <td>NaN</td>\n",
       "      <td>None</td>\n",
       "      <td>None</td>\n",
       "      <td>None</td>\n",
       "      <td>NaN</td>\n",
       "      <td>2008</td>\n",
       "    </tr>\n",
       "    <tr>\n",
       "      <th>79347</th>\n",
       "      <td>2008-04-18</td>\n",
       "      <td>1</td>\n",
       "      <td>1</td>\n",
       "      <td>0</td>\n",
       "      <td>BB McCullum</td>\n",
       "      <td>P Kumar</td>\n",
       "      <td>SC Ganguly</td>\n",
       "      <td>0</td>\n",
       "      <td>0</td>\n",
       "      <td>0</td>\n",
       "      <td>NaN</td>\n",
       "      <td>NaN</td>\n",
       "      <td>NaN</td>\n",
       "      <td>NaN</td>\n",
       "      <td>None</td>\n",
       "      <td>None</td>\n",
       "      <td>None</td>\n",
       "      <td>NaN</td>\n",
       "      <td>2008</td>\n",
       "    </tr>\n",
       "    <tr>\n",
       "      <th>79348</th>\n",
       "      <td>2008-04-18</td>\n",
       "      <td>1</td>\n",
       "      <td>1</td>\n",
       "      <td>0</td>\n",
       "      <td>BB McCullum</td>\n",
       "      <td>P Kumar</td>\n",
       "      <td>SC Ganguly</td>\n",
       "      <td>0</td>\n",
       "      <td>0</td>\n",
       "      <td>0</td>\n",
       "      <td>NaN</td>\n",
       "      <td>NaN</td>\n",
       "      <td>NaN</td>\n",
       "      <td>NaN</td>\n",
       "      <td>None</td>\n",
       "      <td>None</td>\n",
       "      <td>None</td>\n",
       "      <td>NaN</td>\n",
       "      <td>2008</td>\n",
       "    </tr>\n",
       "    <tr>\n",
       "      <th>...</th>\n",
       "      <td>...</td>\n",
       "      <td>...</td>\n",
       "      <td>...</td>\n",
       "      <td>...</td>\n",
       "      <td>...</td>\n",
       "      <td>...</td>\n",
       "      <td>...</td>\n",
       "      <td>...</td>\n",
       "      <td>...</td>\n",
       "      <td>...</td>\n",
       "      <td>...</td>\n",
       "      <td>...</td>\n",
       "      <td>...</td>\n",
       "      <td>...</td>\n",
       "      <td>...</td>\n",
       "      <td>...</td>\n",
       "      <td>...</td>\n",
       "      <td>...</td>\n",
       "      <td>...</td>\n",
       "    </tr>\n",
       "    <tr>\n",
       "      <th>52721</th>\n",
       "      <td>2024-05-26</td>\n",
       "      <td>Final</td>\n",
       "      <td>2</td>\n",
       "      <td>9</td>\n",
       "      <td>SS Iyer</td>\n",
       "      <td>AK Markram</td>\n",
       "      <td>VR Iyer</td>\n",
       "      <td>1</td>\n",
       "      <td>0</td>\n",
       "      <td>1</td>\n",
       "      <td>NaN</td>\n",
       "      <td>NaN</td>\n",
       "      <td>NaN</td>\n",
       "      <td>NaN</td>\n",
       "      <td>None</td>\n",
       "      <td>None</td>\n",
       "      <td>None</td>\n",
       "      <td>NaN</td>\n",
       "      <td>2024</td>\n",
       "    </tr>\n",
       "    <tr>\n",
       "      <th>52722</th>\n",
       "      <td>2024-05-26</td>\n",
       "      <td>Final</td>\n",
       "      <td>2</td>\n",
       "      <td>9</td>\n",
       "      <td>VR Iyer</td>\n",
       "      <td>AK Markram</td>\n",
       "      <td>SS Iyer</td>\n",
       "      <td>1</td>\n",
       "      <td>0</td>\n",
       "      <td>1</td>\n",
       "      <td>NaN</td>\n",
       "      <td>NaN</td>\n",
       "      <td>NaN</td>\n",
       "      <td>NaN</td>\n",
       "      <td>None</td>\n",
       "      <td>None</td>\n",
       "      <td>None</td>\n",
       "      <td>NaN</td>\n",
       "      <td>2024</td>\n",
       "    </tr>\n",
       "    <tr>\n",
       "      <th>52723</th>\n",
       "      <td>2024-05-26</td>\n",
       "      <td>Final</td>\n",
       "      <td>2</td>\n",
       "      <td>10</td>\n",
       "      <td>VR Iyer</td>\n",
       "      <td>Shahbaz Ahmed</td>\n",
       "      <td>SS Iyer</td>\n",
       "      <td>1</td>\n",
       "      <td>0</td>\n",
       "      <td>1</td>\n",
       "      <td>NaN</td>\n",
       "      <td>NaN</td>\n",
       "      <td>NaN</td>\n",
       "      <td>NaN</td>\n",
       "      <td>None</td>\n",
       "      <td>None</td>\n",
       "      <td>None</td>\n",
       "      <td>NaN</td>\n",
       "      <td>2024</td>\n",
       "    </tr>\n",
       "    <tr>\n",
       "      <th>52724</th>\n",
       "      <td>2024-05-26</td>\n",
       "      <td>Final</td>\n",
       "      <td>2</td>\n",
       "      <td>10</td>\n",
       "      <td>SS Iyer</td>\n",
       "      <td>Shahbaz Ahmed</td>\n",
       "      <td>VR Iyer</td>\n",
       "      <td>1</td>\n",
       "      <td>0</td>\n",
       "      <td>1</td>\n",
       "      <td>NaN</td>\n",
       "      <td>NaN</td>\n",
       "      <td>NaN</td>\n",
       "      <td>NaN</td>\n",
       "      <td>None</td>\n",
       "      <td>None</td>\n",
       "      <td>None</td>\n",
       "      <td>NaN</td>\n",
       "      <td>2024</td>\n",
       "    </tr>\n",
       "    <tr>\n",
       "      <th>52725</th>\n",
       "      <td>2024-05-26</td>\n",
       "      <td>Final</td>\n",
       "      <td>2</td>\n",
       "      <td>10</td>\n",
       "      <td>VR Iyer</td>\n",
       "      <td>Shahbaz Ahmed</td>\n",
       "      <td>SS Iyer</td>\n",
       "      <td>1</td>\n",
       "      <td>0</td>\n",
       "      <td>1</td>\n",
       "      <td>NaN</td>\n",
       "      <td>NaN</td>\n",
       "      <td>NaN</td>\n",
       "      <td>NaN</td>\n",
       "      <td>None</td>\n",
       "      <td>None</td>\n",
       "      <td>None</td>\n",
       "      <td>NaN</td>\n",
       "      <td>2024</td>\n",
       "    </tr>\n",
       "  </tbody>\n",
       "</table>\n",
       "<p>260759 rows × 19 columns</p>\n",
       "</div>"
      ],
      "text/plain": [
       "             date match_number  innings over       batter         bowler  \\\n",
       "79344  2008-04-18            1        1    0   SC Ganguly        P Kumar   \n",
       "79345  2008-04-18            1        1    0  BB McCullum        P Kumar   \n",
       "79346  2008-04-18            1        1    0  BB McCullum        P Kumar   \n",
       "79347  2008-04-18            1        1    0  BB McCullum        P Kumar   \n",
       "79348  2008-04-18            1        1    0  BB McCullum        P Kumar   \n",
       "...           ...          ...      ...  ...          ...            ...   \n",
       "52721  2024-05-26        Final        2    9      SS Iyer     AK Markram   \n",
       "52722  2024-05-26        Final        2    9      VR Iyer     AK Markram   \n",
       "52723  2024-05-26        Final        2   10      VR Iyer  Shahbaz Ahmed   \n",
       "52724  2024-05-26        Final        2   10      SS Iyer  Shahbaz Ahmed   \n",
       "52725  2024-05-26        Final        2   10      VR Iyer  Shahbaz Ahmed   \n",
       "\n",
       "       non_striker  runs.batter  runs.extras  runs.total  extras.legbyes  \\\n",
       "79344  BB McCullum            0            1           1             1.0   \n",
       "79345   SC Ganguly            0            0           0             NaN   \n",
       "79346   SC Ganguly            0            1           1             NaN   \n",
       "79347   SC Ganguly            0            0           0             NaN   \n",
       "79348   SC Ganguly            0            0           0             NaN   \n",
       "...            ...          ...          ...         ...             ...   \n",
       "52721      VR Iyer            1            0           1             NaN   \n",
       "52722      SS Iyer            1            0           1             NaN   \n",
       "52723      SS Iyer            1            0           1             NaN   \n",
       "52724      VR Iyer            1            0           1             NaN   \n",
       "52725      SS Iyer            1            0           1             NaN   \n",
       "\n",
       "       extras.wides  extras.byes  extras.noballs wicket.kind  \\\n",
       "79344           NaN          NaN             NaN        None   \n",
       "79345           NaN          NaN             NaN        None   \n",
       "79346           1.0          NaN             NaN        None   \n",
       "79347           NaN          NaN             NaN        None   \n",
       "79348           NaN          NaN             NaN        None   \n",
       "...             ...          ...             ...         ...   \n",
       "52721           NaN          NaN             NaN        None   \n",
       "52722           NaN          NaN             NaN        None   \n",
       "52723           NaN          NaN             NaN        None   \n",
       "52724           NaN          NaN             NaN        None   \n",
       "52725           NaN          NaN             NaN        None   \n",
       "\n",
       "      wicket.player_out wicket.fielders wickets season  \n",
       "79344              None            None     NaN   2008  \n",
       "79345              None            None     NaN   2008  \n",
       "79346              None            None     NaN   2008  \n",
       "79347              None            None     NaN   2008  \n",
       "79348              None            None     NaN   2008  \n",
       "...                 ...             ...     ...    ...  \n",
       "52721              None            None     NaN   2024  \n",
       "52722              None            None     NaN   2024  \n",
       "52723              None            None     NaN   2024  \n",
       "52724              None            None     NaN   2024  \n",
       "52725              None            None     NaN   2024  \n",
       "\n",
       "[260759 rows x 19 columns]"
      ]
     },
     "execution_count": 28,
     "metadata": {},
     "output_type": "execute_result"
    }
   ],
   "source": [
    "df_merged"
   ]
  },
  {
   "cell_type": "code",
   "execution_count": 29,
   "metadata": {},
   "outputs": [],
   "source": [
    "df_merged.drop(columns='wickets',inplace=True)"
   ]
  },
  {
   "cell_type": "code",
   "execution_count": 30,
   "metadata": {},
   "outputs": [
    {
     "name": "stderr",
     "output_type": "stream",
     "text": [
      "/tmp/ipykernel_288374/19595509.py:1: FutureWarning: The provided callable <function sum at 0x7edf983349d0> is currently using SeriesGroupBy.sum. In a future version of pandas, the provided callable will be used directly. To keep current behavior pass the string \"sum\" instead.\n",
      "  df_merged.groupby(['date','match_number','innings','batter']).agg({'runs.batter':np.sum,'runs.extras':np.sum,'bowler':'count'})\n",
      "/tmp/ipykernel_288374/19595509.py:1: FutureWarning: The provided callable <function sum at 0x7edf983349d0> is currently using SeriesGroupBy.sum. In a future version of pandas, the provided callable will be used directly. To keep current behavior pass the string \"sum\" instead.\n",
      "  df_merged.groupby(['date','match_number','innings','batter']).agg({'runs.batter':np.sum,'runs.extras':np.sum,'bowler':'count'})\n"
     ]
    },
    {
     "data": {
      "text/html": [
       "<div>\n",
       "<style scoped>\n",
       "    .dataframe tbody tr th:only-of-type {\n",
       "        vertical-align: middle;\n",
       "    }\n",
       "\n",
       "    .dataframe tbody tr th {\n",
       "        vertical-align: top;\n",
       "    }\n",
       "\n",
       "    .dataframe thead th {\n",
       "        text-align: right;\n",
       "    }\n",
       "</style>\n",
       "<table border=\"1\" class=\"dataframe\">\n",
       "  <thead>\n",
       "    <tr style=\"text-align: right;\">\n",
       "      <th></th>\n",
       "      <th></th>\n",
       "      <th></th>\n",
       "      <th></th>\n",
       "      <th>runs.batter</th>\n",
       "      <th>runs.extras</th>\n",
       "      <th>bowler</th>\n",
       "    </tr>\n",
       "    <tr>\n",
       "      <th>date</th>\n",
       "      <th>match_number</th>\n",
       "      <th>innings</th>\n",
       "      <th>batter</th>\n",
       "      <th></th>\n",
       "      <th></th>\n",
       "      <th></th>\n",
       "    </tr>\n",
       "  </thead>\n",
       "  <tbody>\n",
       "    <tr>\n",
       "      <th rowspan=\"5\" valign=\"top\">2008-04-18</th>\n",
       "      <th rowspan=\"5\" valign=\"top\">1</th>\n",
       "      <th rowspan=\"5\" valign=\"top\">1</th>\n",
       "      <th>BB McCullum</th>\n",
       "      <td>158</td>\n",
       "      <td>11</td>\n",
       "      <td>77</td>\n",
       "    </tr>\n",
       "    <tr>\n",
       "      <th>DJ Hussey</th>\n",
       "      <td>12</td>\n",
       "      <td>0</td>\n",
       "      <td>12</td>\n",
       "    </tr>\n",
       "    <tr>\n",
       "      <th>Mohammad Hafeez</th>\n",
       "      <td>5</td>\n",
       "      <td>0</td>\n",
       "      <td>3</td>\n",
       "    </tr>\n",
       "    <tr>\n",
       "      <th>RT Ponting</th>\n",
       "      <td>20</td>\n",
       "      <td>4</td>\n",
       "      <td>20</td>\n",
       "    </tr>\n",
       "    <tr>\n",
       "      <th>SC Ganguly</th>\n",
       "      <td>10</td>\n",
       "      <td>2</td>\n",
       "      <td>12</td>\n",
       "    </tr>\n",
       "    <tr>\n",
       "      <th>...</th>\n",
       "      <th>...</th>\n",
       "      <th>...</th>\n",
       "      <th>...</th>\n",
       "      <td>...</td>\n",
       "      <td>...</td>\n",
       "      <td>...</td>\n",
       "    </tr>\n",
       "    <tr>\n",
       "      <th rowspan=\"5\" valign=\"top\">2024-05-26</th>\n",
       "      <th rowspan=\"5\" valign=\"top\">Final</th>\n",
       "      <th>1</th>\n",
       "      <th>TM Head</th>\n",
       "      <td>0</td>\n",
       "      <td>0</td>\n",
       "      <td>1</td>\n",
       "    </tr>\n",
       "    <tr>\n",
       "      <th rowspan=\"4\" valign=\"top\">2</th>\n",
       "      <th>Rahmanullah Gurbaz</th>\n",
       "      <td>39</td>\n",
       "      <td>7</td>\n",
       "      <td>35</td>\n",
       "    </tr>\n",
       "    <tr>\n",
       "      <th>SP Narine</th>\n",
       "      <td>6</td>\n",
       "      <td>0</td>\n",
       "      <td>2</td>\n",
       "    </tr>\n",
       "    <tr>\n",
       "      <th>SS Iyer</th>\n",
       "      <td>6</td>\n",
       "      <td>0</td>\n",
       "      <td>3</td>\n",
       "    </tr>\n",
       "    <tr>\n",
       "      <th>VR Iyer</th>\n",
       "      <td>52</td>\n",
       "      <td>4</td>\n",
       "      <td>27</td>\n",
       "    </tr>\n",
       "  </tbody>\n",
       "</table>\n",
       "<p>16515 rows × 3 columns</p>\n",
       "</div>"
      ],
      "text/plain": [
       "                                                    runs.batter  runs.extras  \\\n",
       "date       match_number innings batter                                         \n",
       "2008-04-18 1            1       BB McCullum                 158           11   \n",
       "                                DJ Hussey                    12            0   \n",
       "                                Mohammad Hafeez               5            0   \n",
       "                                RT Ponting                   20            4   \n",
       "                                SC Ganguly                   10            2   \n",
       "...                                                         ...          ...   \n",
       "2024-05-26 Final        1       TM Head                       0            0   \n",
       "                        2       Rahmanullah Gurbaz           39            7   \n",
       "                                SP Narine                     6            0   \n",
       "                                SS Iyer                       6            0   \n",
       "                                VR Iyer                      52            4   \n",
       "\n",
       "                                                    bowler  \n",
       "date       match_number innings batter                      \n",
       "2008-04-18 1            1       BB McCullum             77  \n",
       "                                DJ Hussey               12  \n",
       "                                Mohammad Hafeez          3  \n",
       "                                RT Ponting              20  \n",
       "                                SC Ganguly              12  \n",
       "...                                                    ...  \n",
       "2024-05-26 Final        1       TM Head                  1  \n",
       "                        2       Rahmanullah Gurbaz      35  \n",
       "                                SP Narine                2  \n",
       "                                SS Iyer                  3  \n",
       "                                VR Iyer                 27  \n",
       "\n",
       "[16515 rows x 3 columns]"
      ]
     },
     "execution_count": 30,
     "metadata": {},
     "output_type": "execute_result"
    }
   ],
   "source": [
    "df_merged.groupby(['date','match_number','innings','batter']).agg({'runs.batter':np.sum,'runs.extras':np.sum,'bowler':'count'})"
   ]
  },
  {
   "cell_type": "code",
   "execution_count": 31,
   "metadata": {},
   "outputs": [
    {
     "data": {
      "text/html": [
       "<div>\n",
       "<style scoped>\n",
       "    .dataframe tbody tr th:only-of-type {\n",
       "        vertical-align: middle;\n",
       "    }\n",
       "\n",
       "    .dataframe tbody tr th {\n",
       "        vertical-align: top;\n",
       "    }\n",
       "\n",
       "    .dataframe thead th {\n",
       "        text-align: right;\n",
       "    }\n",
       "</style>\n",
       "<table border=\"1\" class=\"dataframe\">\n",
       "  <thead>\n",
       "    <tr style=\"text-align: right;\">\n",
       "      <th></th>\n",
       "      <th></th>\n",
       "      <th></th>\n",
       "      <th></th>\n",
       "      <th></th>\n",
       "      <th>runs.total</th>\n",
       "      <th>wicket.kind</th>\n",
       "      <th>batter</th>\n",
       "    </tr>\n",
       "    <tr>\n",
       "      <th>date</th>\n",
       "      <th>match_number</th>\n",
       "      <th>innings</th>\n",
       "      <th>bowler</th>\n",
       "      <th>runs.batter</th>\n",
       "      <th></th>\n",
       "      <th></th>\n",
       "      <th></th>\n",
       "    </tr>\n",
       "  </thead>\n",
       "  <tbody>\n",
       "    <tr>\n",
       "      <th rowspan=\"5\" valign=\"top\">2008-04-18</th>\n",
       "      <th rowspan=\"5\" valign=\"top\">1</th>\n",
       "      <th rowspan=\"5\" valign=\"top\">1</th>\n",
       "      <th rowspan=\"5\" valign=\"top\">AA Noffke</th>\n",
       "      <th>0</th>\n",
       "      <td>6</td>\n",
       "      <td>1</td>\n",
       "      <td>8</td>\n",
       "    </tr>\n",
       "    <tr>\n",
       "      <th>1</th>\n",
       "      <td>11</td>\n",
       "      <td>0</td>\n",
       "      <td>11</td>\n",
       "    </tr>\n",
       "    <tr>\n",
       "      <th>2</th>\n",
       "      <td>4</td>\n",
       "      <td>0</td>\n",
       "      <td>2</td>\n",
       "    </tr>\n",
       "    <tr>\n",
       "      <th>4</th>\n",
       "      <td>8</td>\n",
       "      <td>0</td>\n",
       "      <td>2</td>\n",
       "    </tr>\n",
       "    <tr>\n",
       "      <th>6</th>\n",
       "      <td>12</td>\n",
       "      <td>0</td>\n",
       "      <td>2</td>\n",
       "    </tr>\n",
       "    <tr>\n",
       "      <th>...</th>\n",
       "      <th>...</th>\n",
       "      <th>...</th>\n",
       "      <th>...</th>\n",
       "      <th>...</th>\n",
       "      <td>...</td>\n",
       "      <td>...</td>\n",
       "      <td>...</td>\n",
       "    </tr>\n",
       "    <tr>\n",
       "      <th rowspan=\"5\" valign=\"top\">2024-05-26</th>\n",
       "      <th rowspan=\"5\" valign=\"top\">Final</th>\n",
       "      <th rowspan=\"5\" valign=\"top\">2</th>\n",
       "      <th>Shahbaz Ahmed</th>\n",
       "      <th>6</th>\n",
       "      <td>12</td>\n",
       "      <td>0</td>\n",
       "      <td>2</td>\n",
       "    </tr>\n",
       "    <tr>\n",
       "      <th rowspan=\"4\" valign=\"top\">T Natarajan</th>\n",
       "      <th>0</th>\n",
       "      <td>2</td>\n",
       "      <td>0</td>\n",
       "      <td>4</td>\n",
       "    </tr>\n",
       "    <tr>\n",
       "      <th>1</th>\n",
       "      <td>5</td>\n",
       "      <td>0</td>\n",
       "      <td>5</td>\n",
       "    </tr>\n",
       "    <tr>\n",
       "      <th>4</th>\n",
       "      <td>16</td>\n",
       "      <td>0</td>\n",
       "      <td>4</td>\n",
       "    </tr>\n",
       "    <tr>\n",
       "      <th>6</th>\n",
       "      <td>6</td>\n",
       "      <td>0</td>\n",
       "      <td>1</td>\n",
       "    </tr>\n",
       "  </tbody>\n",
       "</table>\n",
       "<p>54044 rows × 3 columns</p>\n",
       "</div>"
      ],
      "text/plain": [
       "                                                           runs.total  \\\n",
       "date       match_number innings bowler        runs.batter               \n",
       "2008-04-18 1            1       AA Noffke     0                     6   \n",
       "                                              1                    11   \n",
       "                                              2                     4   \n",
       "                                              4                     8   \n",
       "                                              6                    12   \n",
       "...                                                               ...   \n",
       "2024-05-26 Final        2       Shahbaz Ahmed 6                    12   \n",
       "                                T Natarajan   0                     2   \n",
       "                                              1                     5   \n",
       "                                              4                    16   \n",
       "                                              6                     6   \n",
       "\n",
       "                                                           wicket.kind  batter  \n",
       "date       match_number innings bowler        runs.batter                       \n",
       "2008-04-18 1            1       AA Noffke     0                      1       8  \n",
       "                                              1                      0      11  \n",
       "                                              2                      0       2  \n",
       "                                              4                      0       2  \n",
       "                                              6                      0       2  \n",
       "...                                                                ...     ...  \n",
       "2024-05-26 Final        2       Shahbaz Ahmed 6                      0       2  \n",
       "                                T Natarajan   0                      0       4  \n",
       "                                              1                      0       5  \n",
       "                                              4                      0       4  \n",
       "                                              6                      0       1  \n",
       "\n",
       "[54044 rows x 3 columns]"
      ]
     },
     "execution_count": 31,
     "metadata": {},
     "output_type": "execute_result"
    }
   ],
   "source": [
    "df_merged.groupby(['date','match_number','innings','bowler','runs.batter']).agg({'runs.total':'sum','wicket.kind':'count','batter':'count'})"
   ]
  },
  {
   "cell_type": "code",
   "execution_count": 32,
   "metadata": {},
   "outputs": [
    {
     "data": {
      "text/html": [
       "<div>\n",
       "<style scoped>\n",
       "    .dataframe tbody tr th:only-of-type {\n",
       "        vertical-align: middle;\n",
       "    }\n",
       "\n",
       "    .dataframe tbody tr th {\n",
       "        vertical-align: top;\n",
       "    }\n",
       "\n",
       "    .dataframe thead tr th {\n",
       "        text-align: left;\n",
       "    }\n",
       "\n",
       "    .dataframe thead tr:last-of-type th {\n",
       "        text-align: right;\n",
       "    }\n",
       "</style>\n",
       "<table border=\"1\" class=\"dataframe\">\n",
       "  <thead>\n",
       "    <tr>\n",
       "      <th></th>\n",
       "      <th></th>\n",
       "      <th colspan=\"2\" halign=\"left\">runs.total</th>\n",
       "      <th>bowler</th>\n",
       "    </tr>\n",
       "    <tr>\n",
       "      <th></th>\n",
       "      <th></th>\n",
       "      <th>sum</th>\n",
       "      <th>average</th>\n",
       "      <th>max</th>\n",
       "    </tr>\n",
       "    <tr>\n",
       "      <th>batter</th>\n",
       "      <th>season</th>\n",
       "      <th></th>\n",
       "      <th></th>\n",
       "      <th></th>\n",
       "    </tr>\n",
       "  </thead>\n",
       "  <tbody>\n",
       "    <tr>\n",
       "      <th rowspan=\"4\" valign=\"top\">A Ashish Reddy</th>\n",
       "      <th>2012</th>\n",
       "      <td>40</td>\n",
       "      <td>1.333333</td>\n",
       "      <td>SW Tait</td>\n",
       "    </tr>\n",
       "    <tr>\n",
       "      <th>2013</th>\n",
       "      <td>126</td>\n",
       "      <td>1.400000</td>\n",
       "      <td>UT Yadav</td>\n",
       "    </tr>\n",
       "    <tr>\n",
       "      <th>2015</th>\n",
       "      <td>74</td>\n",
       "      <td>1.608696</td>\n",
       "      <td>TG Southee</td>\n",
       "    </tr>\n",
       "    <tr>\n",
       "      <th>2016</th>\n",
       "      <td>48</td>\n",
       "      <td>1.600000</td>\n",
       "      <td>YS Chahal</td>\n",
       "    </tr>\n",
       "    <tr>\n",
       "      <th>A Badoni</th>\n",
       "      <th>2022</th>\n",
       "      <td>173</td>\n",
       "      <td>1.244604</td>\n",
       "      <td>YS Chahal</td>\n",
       "    </tr>\n",
       "    <tr>\n",
       "      <th>...</th>\n",
       "      <th>...</th>\n",
       "      <td>...</td>\n",
       "      <td>...</td>\n",
       "      <td>...</td>\n",
       "    </tr>\n",
       "    <tr>\n",
       "      <th rowspan=\"5\" valign=\"top\">Z Khan</th>\n",
       "      <th>2011</th>\n",
       "      <td>21</td>\n",
       "      <td>0.875000</td>\n",
       "      <td>SB Jakati</td>\n",
       "    </tr>\n",
       "    <tr>\n",
       "      <th>2012</th>\n",
       "      <td>12</td>\n",
       "      <td>0.705882</td>\n",
       "      <td>Shakib Al Hasan</td>\n",
       "    </tr>\n",
       "    <tr>\n",
       "      <th>2014</th>\n",
       "      <td>10</td>\n",
       "      <td>1.428571</td>\n",
       "      <td>IK Pathan</td>\n",
       "    </tr>\n",
       "    <tr>\n",
       "      <th>2016</th>\n",
       "      <td>6</td>\n",
       "      <td>0.461538</td>\n",
       "      <td>PP Chawla</td>\n",
       "    </tr>\n",
       "    <tr>\n",
       "      <th>2017</th>\n",
       "      <td>4</td>\n",
       "      <td>0.307692</td>\n",
       "      <td>P Negi</td>\n",
       "    </tr>\n",
       "  </tbody>\n",
       "</table>\n",
       "<p>2617 rows × 3 columns</p>\n",
       "</div>"
      ],
      "text/plain": [
       "                      runs.total                     bowler\n",
       "                             sum   average              max\n",
       "batter         season                                      \n",
       "A Ashish Reddy 2012           40  1.333333          SW Tait\n",
       "               2013          126  1.400000         UT Yadav\n",
       "               2015           74  1.608696       TG Southee\n",
       "               2016           48  1.600000        YS Chahal\n",
       "A Badoni       2022          173  1.244604        YS Chahal\n",
       "...                          ...       ...              ...\n",
       "Z Khan         2011           21  0.875000        SB Jakati\n",
       "               2012           12  0.705882  Shakib Al Hasan\n",
       "               2014           10  1.428571        IK Pathan\n",
       "               2016            6  0.461538        PP Chawla\n",
       "               2017            4  0.307692           P Negi\n",
       "\n",
       "[2617 rows x 3 columns]"
      ]
     },
     "execution_count": 32,
     "metadata": {},
     "output_type": "execute_result"
    }
   ],
   "source": [
    "batter_total = df_merged.groupby(['batter','season',]).agg({'runs.total':['sum',np.average],'bowler':'max'})\n",
    "batter_total"
   ]
  },
  {
   "cell_type": "code",
   "execution_count": 33,
   "metadata": {},
   "outputs": [
    {
     "data": {
      "text/plain": [
       "MultiIndex([('runs.total',     'sum'),\n",
       "            ('runs.total', 'average'),\n",
       "            (    'bowler',     'max')],\n",
       "           )"
      ]
     },
     "execution_count": 33,
     "metadata": {},
     "output_type": "execute_result"
    }
   ],
   "source": [
    "batter_total.columns"
   ]
  },
  {
   "cell_type": "code",
   "execution_count": 34,
   "metadata": {},
   "outputs": [],
   "source": [
    "batter_scores_count = df_merged.groupby(['batter','season','runs.batter']).agg({'runs.total':['sum','count']})"
   ]
  },
  {
   "cell_type": "code",
   "execution_count": 35,
   "metadata": {},
   "outputs": [
    {
     "data": {
      "text/html": [
       "<div>\n",
       "<style scoped>\n",
       "    .dataframe tbody tr th:only-of-type {\n",
       "        vertical-align: middle;\n",
       "    }\n",
       "\n",
       "    .dataframe tbody tr th {\n",
       "        vertical-align: top;\n",
       "    }\n",
       "\n",
       "    .dataframe thead tr th {\n",
       "        text-align: left;\n",
       "    }\n",
       "\n",
       "    .dataframe thead tr:last-of-type th {\n",
       "        text-align: right;\n",
       "    }\n",
       "</style>\n",
       "<table border=\"1\" class=\"dataframe\">\n",
       "  <thead>\n",
       "    <tr>\n",
       "      <th></th>\n",
       "      <th></th>\n",
       "      <th></th>\n",
       "      <th colspan=\"2\" halign=\"left\">runs.total</th>\n",
       "    </tr>\n",
       "    <tr>\n",
       "      <th></th>\n",
       "      <th></th>\n",
       "      <th></th>\n",
       "      <th>sum</th>\n",
       "      <th>count</th>\n",
       "    </tr>\n",
       "    <tr>\n",
       "      <th>batter</th>\n",
       "      <th>season</th>\n",
       "      <th>runs.batter</th>\n",
       "      <th></th>\n",
       "      <th></th>\n",
       "    </tr>\n",
       "  </thead>\n",
       "  <tbody>\n",
       "    <tr>\n",
       "      <th rowspan=\"5\" valign=\"top\">A Ashish Reddy</th>\n",
       "      <th rowspan=\"5\" valign=\"top\">2012</th>\n",
       "      <th>0</th>\n",
       "      <td>5</td>\n",
       "      <td>13</td>\n",
       "    </tr>\n",
       "    <tr>\n",
       "      <th>1</th>\n",
       "      <td>9</td>\n",
       "      <td>9</td>\n",
       "    </tr>\n",
       "    <tr>\n",
       "      <th>2</th>\n",
       "      <td>8</td>\n",
       "      <td>4</td>\n",
       "    </tr>\n",
       "    <tr>\n",
       "      <th>4</th>\n",
       "      <td>12</td>\n",
       "      <td>3</td>\n",
       "    </tr>\n",
       "    <tr>\n",
       "      <th>6</th>\n",
       "      <td>6</td>\n",
       "      <td>1</td>\n",
       "    </tr>\n",
       "    <tr>\n",
       "      <th>...</th>\n",
       "      <th>...</th>\n",
       "      <th>...</th>\n",
       "      <td>...</td>\n",
       "      <td>...</td>\n",
       "    </tr>\n",
       "    <tr>\n",
       "      <th rowspan=\"5\" valign=\"top\">Z Khan</th>\n",
       "      <th rowspan=\"3\" valign=\"top\">2016</th>\n",
       "      <th>0</th>\n",
       "      <td>0</td>\n",
       "      <td>10</td>\n",
       "    </tr>\n",
       "    <tr>\n",
       "      <th>1</th>\n",
       "      <td>2</td>\n",
       "      <td>2</td>\n",
       "    </tr>\n",
       "    <tr>\n",
       "      <th>4</th>\n",
       "      <td>4</td>\n",
       "      <td>1</td>\n",
       "    </tr>\n",
       "    <tr>\n",
       "      <th rowspan=\"2\" valign=\"top\">2017</th>\n",
       "      <th>0</th>\n",
       "      <td>0</td>\n",
       "      <td>9</td>\n",
       "    </tr>\n",
       "    <tr>\n",
       "      <th>1</th>\n",
       "      <td>4</td>\n",
       "      <td>4</td>\n",
       "    </tr>\n",
       "  </tbody>\n",
       "</table>\n",
       "<p>11075 rows × 2 columns</p>\n",
       "</div>"
      ],
      "text/plain": [
       "                                  runs.total      \n",
       "                                         sum count\n",
       "batter         season runs.batter                 \n",
       "A Ashish Reddy 2012   0                    5    13\n",
       "                      1                    9     9\n",
       "                      2                    8     4\n",
       "                      4                   12     3\n",
       "                      6                    6     1\n",
       "...                                      ...   ...\n",
       "Z Khan         2016   0                    0    10\n",
       "                      1                    2     2\n",
       "                      4                    4     1\n",
       "               2017   0                    0     9\n",
       "                      1                    4     4\n",
       "\n",
       "[11075 rows x 2 columns]"
      ]
     },
     "execution_count": 35,
     "metadata": {},
     "output_type": "execute_result"
    }
   ],
   "source": [
    "batter_scores_count"
   ]
  },
  {
   "cell_type": "code",
   "execution_count": 79,
   "metadata": {},
   "outputs": [
    {
     "name": "stdout",
     "output_type": "stream",
     "text": [
      "<class 'pandas.core.frame.DataFrame'>\n",
      "RangeIndex: 97 entries, 0 to 96\n",
      "Data columns (total 4 columns):\n",
      " #   Column                Non-Null Count  Dtype\n",
      "---  ------                --------------  -----\n",
      " 0   season                97 non-null     int64\n",
      " 1   runs.batter_          97 non-null     int64\n",
      " 2   total_runs_per_score  97 non-null     int64\n",
      " 3   no_of_balls           97 non-null     int64\n",
      "dtypes: int64(4)\n",
      "memory usage: 3.2 KB\n",
      "None\n",
      "<class 'pandas.core.frame.DataFrame'>\n",
      "RangeIndex: 17 entries, 0 to 16\n",
      "Data columns (total 4 columns):\n",
      " #   Column              Non-Null Count  Dtype  \n",
      "---  ------              --------------  -----  \n",
      " 0   season              17 non-null     int64  \n",
      " 1   runs.total_sum      17 non-null     int64  \n",
      " 2   runs.total_average  17 non-null     float64\n",
      " 3   bowler_max          17 non-null     object \n",
      "dtypes: float64(1), int64(2), object(1)\n",
      "memory usage: 672.0+ bytes\n",
      "None\n"
     ]
    }
   ],
   "source": [
    "vk1 =batter_scores_count.loc['V Kohli'].reset_index()\n",
    "vk2 = batter_total.loc['V Kohli'].reset_index()\n",
    "vk1.columns = ['_'.join(col) for col in vk1.columns]\n",
    "vk2.columns = ['_'.join(col) for col in vk2.columns]\n",
    "vk1['season_'] =  vk1.season_.astype(int)\n",
    "vk2['season_'] =  vk2.season_.astype(int)\n",
    "vk1.rename(columns={'runs.total_sum':'total_runs_per_score','runs.total_count':'no_of_balls','season_':'season'},inplace=True)\n",
    "vk2.rename(columns={'season_': 'season'}, inplace=True)\n",
    "print(vk1.info())\n",
    "print(vk2.info())"
   ]
  },
  {
   "cell_type": "code",
   "execution_count": 92,
   "metadata": {},
   "outputs": [
    {
     "data": {
      "text/html": [
       "<div>\n",
       "<style scoped>\n",
       "    .dataframe tbody tr th:only-of-type {\n",
       "        vertical-align: middle;\n",
       "    }\n",
       "\n",
       "    .dataframe tbody tr th {\n",
       "        vertical-align: top;\n",
       "    }\n",
       "\n",
       "    .dataframe thead th {\n",
       "        text-align: right;\n",
       "    }\n",
       "</style>\n",
       "<table border=\"1\" class=\"dataframe\">\n",
       "  <thead>\n",
       "    <tr style=\"text-align: right;\">\n",
       "      <th></th>\n",
       "      <th>season</th>\n",
       "      <th>runs.batter_</th>\n",
       "      <th>total_runs_per_score</th>\n",
       "      <th>no_of_balls</th>\n",
       "    </tr>\n",
       "  </thead>\n",
       "  <tbody>\n",
       "    <tr>\n",
       "      <th>0</th>\n",
       "      <td>2008</td>\n",
       "      <td>0</td>\n",
       "      <td>22</td>\n",
       "      <td>82</td>\n",
       "    </tr>\n",
       "    <tr>\n",
       "      <th>1</th>\n",
       "      <td>2008</td>\n",
       "      <td>1</td>\n",
       "      <td>59</td>\n",
       "      <td>59</td>\n",
       "    </tr>\n",
       "    <tr>\n",
       "      <th>2</th>\n",
       "      <td>2008</td>\n",
       "      <td>2</td>\n",
       "      <td>10</td>\n",
       "      <td>5</td>\n",
       "    </tr>\n",
       "    <tr>\n",
       "      <th>3</th>\n",
       "      <td>2008</td>\n",
       "      <td>4</td>\n",
       "      <td>72</td>\n",
       "      <td>18</td>\n",
       "    </tr>\n",
       "    <tr>\n",
       "      <th>4</th>\n",
       "      <td>2008</td>\n",
       "      <td>6</td>\n",
       "      <td>24</td>\n",
       "      <td>4</td>\n",
       "    </tr>\n",
       "    <tr>\n",
       "      <th>5</th>\n",
       "      <td>2009</td>\n",
       "      <td>0</td>\n",
       "      <td>12</td>\n",
       "      <td>98</td>\n",
       "    </tr>\n",
       "    <tr>\n",
       "      <th>6</th>\n",
       "      <td>2009</td>\n",
       "      <td>1</td>\n",
       "      <td>84</td>\n",
       "      <td>84</td>\n",
       "    </tr>\n",
       "    <tr>\n",
       "      <th>7</th>\n",
       "      <td>2009</td>\n",
       "      <td>2</td>\n",
       "      <td>26</td>\n",
       "      <td>13</td>\n",
       "    </tr>\n",
       "    <tr>\n",
       "      <th>8</th>\n",
       "      <td>2009</td>\n",
       "      <td>4</td>\n",
       "      <td>88</td>\n",
       "      <td>22</td>\n",
       "    </tr>\n",
       "    <tr>\n",
       "      <th>9</th>\n",
       "      <td>2009</td>\n",
       "      <td>6</td>\n",
       "      <td>48</td>\n",
       "      <td>8</td>\n",
       "    </tr>\n",
       "  </tbody>\n",
       "</table>\n",
       "</div>"
      ],
      "text/plain": [
       "   season  runs.batter_  total_runs_per_score  no_of_balls\n",
       "0    2008             0                    22           82\n",
       "1    2008             1                    59           59\n",
       "2    2008             2                    10            5\n",
       "3    2008             4                    72           18\n",
       "4    2008             6                    24            4\n",
       "5    2009             0                    12           98\n",
       "6    2009             1                    84           84\n",
       "7    2009             2                    26           13\n",
       "8    2009             4                    88           22\n",
       "9    2009             6                    48            8"
      ]
     },
     "execution_count": 92,
     "metadata": {},
     "output_type": "execute_result"
    }
   ],
   "source": [
    "vk1.head(10)"
   ]
  },
  {
   "cell_type": "code",
   "execution_count": 89,
   "metadata": {},
   "outputs": [
    {
     "name": "stdout",
     "output_type": "stream",
     "text": [
      "season                  int64\n",
      "runs.batter_            int64\n",
      "total_runs_per_score    int64\n",
      "no_of_balls             int64\n",
      "dtype: object\n",
      "season                  int64\n",
      "runs.total_sum          int64\n",
      "runs.total_average    float64\n",
      "bowler_max             object\n",
      "dtype: object\n"
     ]
    }
   ],
   "source": [
    "\n",
    "print(vk1.dtypes)\n",
    "print(vk2.dtypes)\n",
    "# v_kohli = vk1.join(vk2,on='season',lsuffix='_')\n",
    "v_kohli = pd.merge(vk1, vk2, how=\"inner\", on=\"season\")\n",
    "# v_kohli.columns = ['_'.join(col) for col in v_kohli.columns]"
   ]
  },
  {
   "cell_type": "code",
   "execution_count": 90,
   "metadata": {},
   "outputs": [
    {
     "data": {
      "text/html": [
       "<div>\n",
       "<style scoped>\n",
       "    .dataframe tbody tr th:only-of-type {\n",
       "        vertical-align: middle;\n",
       "    }\n",
       "\n",
       "    .dataframe tbody tr th {\n",
       "        vertical-align: top;\n",
       "    }\n",
       "\n",
       "    .dataframe thead th {\n",
       "        text-align: right;\n",
       "    }\n",
       "</style>\n",
       "<table border=\"1\" class=\"dataframe\">\n",
       "  <thead>\n",
       "    <tr style=\"text-align: right;\">\n",
       "      <th></th>\n",
       "      <th>season</th>\n",
       "      <th>runs.batter_</th>\n",
       "      <th>total_runs_per_score</th>\n",
       "      <th>no_of_balls</th>\n",
       "      <th>runs.total_sum</th>\n",
       "      <th>runs.total_average</th>\n",
       "      <th>bowler_max</th>\n",
       "    </tr>\n",
       "  </thead>\n",
       "  <tbody>\n",
       "    <tr>\n",
       "      <th>0</th>\n",
       "      <td>2008</td>\n",
       "      <td>0</td>\n",
       "      <td>22</td>\n",
       "      <td>82</td>\n",
       "      <td>187</td>\n",
       "      <td>1.113095</td>\n",
       "      <td>WPUJC Vaas</td>\n",
       "    </tr>\n",
       "    <tr>\n",
       "      <th>1</th>\n",
       "      <td>2008</td>\n",
       "      <td>1</td>\n",
       "      <td>59</td>\n",
       "      <td>59</td>\n",
       "      <td>187</td>\n",
       "      <td>1.113095</td>\n",
       "      <td>WPUJC Vaas</td>\n",
       "    </tr>\n",
       "    <tr>\n",
       "      <th>2</th>\n",
       "      <td>2008</td>\n",
       "      <td>2</td>\n",
       "      <td>10</td>\n",
       "      <td>5</td>\n",
       "      <td>187</td>\n",
       "      <td>1.113095</td>\n",
       "      <td>WPUJC Vaas</td>\n",
       "    </tr>\n",
       "    <tr>\n",
       "      <th>3</th>\n",
       "      <td>2008</td>\n",
       "      <td>4</td>\n",
       "      <td>72</td>\n",
       "      <td>18</td>\n",
       "      <td>187</td>\n",
       "      <td>1.113095</td>\n",
       "      <td>WPUJC Vaas</td>\n",
       "    </tr>\n",
       "    <tr>\n",
       "      <th>4</th>\n",
       "      <td>2008</td>\n",
       "      <td>6</td>\n",
       "      <td>24</td>\n",
       "      <td>4</td>\n",
       "      <td>187</td>\n",
       "      <td>1.113095</td>\n",
       "      <td>WPUJC Vaas</td>\n",
       "    </tr>\n",
       "    <tr>\n",
       "      <th>5</th>\n",
       "      <td>2009</td>\n",
       "      <td>0</td>\n",
       "      <td>12</td>\n",
       "      <td>98</td>\n",
       "      <td>258</td>\n",
       "      <td>1.146667</td>\n",
       "      <td>Yuvraj Singh</td>\n",
       "    </tr>\n",
       "    <tr>\n",
       "      <th>6</th>\n",
       "      <td>2009</td>\n",
       "      <td>1</td>\n",
       "      <td>84</td>\n",
       "      <td>84</td>\n",
       "      <td>258</td>\n",
       "      <td>1.146667</td>\n",
       "      <td>Yuvraj Singh</td>\n",
       "    </tr>\n",
       "    <tr>\n",
       "      <th>7</th>\n",
       "      <td>2009</td>\n",
       "      <td>2</td>\n",
       "      <td>26</td>\n",
       "      <td>13</td>\n",
       "      <td>258</td>\n",
       "      <td>1.146667</td>\n",
       "      <td>Yuvraj Singh</td>\n",
       "    </tr>\n",
       "    <tr>\n",
       "      <th>8</th>\n",
       "      <td>2009</td>\n",
       "      <td>4</td>\n",
       "      <td>88</td>\n",
       "      <td>22</td>\n",
       "      <td>258</td>\n",
       "      <td>1.146667</td>\n",
       "      <td>Yuvraj Singh</td>\n",
       "    </tr>\n",
       "    <tr>\n",
       "      <th>9</th>\n",
       "      <td>2009</td>\n",
       "      <td>6</td>\n",
       "      <td>48</td>\n",
       "      <td>8</td>\n",
       "      <td>258</td>\n",
       "      <td>1.146667</td>\n",
       "      <td>Yuvraj Singh</td>\n",
       "    </tr>\n",
       "    <tr>\n",
       "      <th>10</th>\n",
       "      <td>2010</td>\n",
       "      <td>0</td>\n",
       "      <td>12</td>\n",
       "      <td>61</td>\n",
       "      <td>320</td>\n",
       "      <td>1.481481</td>\n",
       "      <td>Z Khan</td>\n",
       "    </tr>\n",
       "    <tr>\n",
       "      <th>11</th>\n",
       "      <td>2010</td>\n",
       "      <td>1</td>\n",
       "      <td>104</td>\n",
       "      <td>103</td>\n",
       "      <td>320</td>\n",
       "      <td>1.481481</td>\n",
       "      <td>Z Khan</td>\n",
       "    </tr>\n",
       "    <tr>\n",
       "      <th>12</th>\n",
       "      <td>2010</td>\n",
       "      <td>2</td>\n",
       "      <td>28</td>\n",
       "      <td>14</td>\n",
       "      <td>320</td>\n",
       "      <td>1.481481</td>\n",
       "      <td>Z Khan</td>\n",
       "    </tr>\n",
       "    <tr>\n",
       "      <th>13</th>\n",
       "      <td>2010</td>\n",
       "      <td>4</td>\n",
       "      <td>104</td>\n",
       "      <td>26</td>\n",
       "      <td>320</td>\n",
       "      <td>1.481481</td>\n",
       "      <td>Z Khan</td>\n",
       "    </tr>\n",
       "    <tr>\n",
       "      <th>14</th>\n",
       "      <td>2010</td>\n",
       "      <td>6</td>\n",
       "      <td>72</td>\n",
       "      <td>12</td>\n",
       "      <td>320</td>\n",
       "      <td>1.481481</td>\n",
       "      <td>Z Khan</td>\n",
       "    </tr>\n",
       "    <tr>\n",
       "      <th>15</th>\n",
       "      <td>2011</td>\n",
       "      <td>0</td>\n",
       "      <td>27</td>\n",
       "      <td>193</td>\n",
       "      <td>584</td>\n",
       "      <td>1.234672</td>\n",
       "      <td>Yuvraj Singh</td>\n",
       "    </tr>\n",
       "    <tr>\n",
       "      <th>16</th>\n",
       "      <td>2011</td>\n",
       "      <td>1</td>\n",
       "      <td>178</td>\n",
       "      <td>178</td>\n",
       "      <td>584</td>\n",
       "      <td>1.234672</td>\n",
       "      <td>Yuvraj Singh</td>\n",
       "    </tr>\n",
       "    <tr>\n",
       "      <th>17</th>\n",
       "      <td>2011</td>\n",
       "      <td>2</td>\n",
       "      <td>60</td>\n",
       "      <td>30</td>\n",
       "      <td>584</td>\n",
       "      <td>1.234672</td>\n",
       "      <td>Yuvraj Singh</td>\n",
       "    </tr>\n",
       "    <tr>\n",
       "      <th>18</th>\n",
       "      <td>2011</td>\n",
       "      <td>3</td>\n",
       "      <td>3</td>\n",
       "      <td>1</td>\n",
       "      <td>584</td>\n",
       "      <td>1.234672</td>\n",
       "      <td>Yuvraj Singh</td>\n",
       "    </tr>\n",
       "    <tr>\n",
       "      <th>19</th>\n",
       "      <td>2011</td>\n",
       "      <td>4</td>\n",
       "      <td>220</td>\n",
       "      <td>55</td>\n",
       "      <td>584</td>\n",
       "      <td>1.234672</td>\n",
       "      <td>Yuvraj Singh</td>\n",
       "    </tr>\n",
       "  </tbody>\n",
       "</table>\n",
       "</div>"
      ],
      "text/plain": [
       "    season  runs.batter_  total_runs_per_score  no_of_balls  runs.total_sum  \\\n",
       "0     2008             0                    22           82             187   \n",
       "1     2008             1                    59           59             187   \n",
       "2     2008             2                    10            5             187   \n",
       "3     2008             4                    72           18             187   \n",
       "4     2008             6                    24            4             187   \n",
       "5     2009             0                    12           98             258   \n",
       "6     2009             1                    84           84             258   \n",
       "7     2009             2                    26           13             258   \n",
       "8     2009             4                    88           22             258   \n",
       "9     2009             6                    48            8             258   \n",
       "10    2010             0                    12           61             320   \n",
       "11    2010             1                   104          103             320   \n",
       "12    2010             2                    28           14             320   \n",
       "13    2010             4                   104           26             320   \n",
       "14    2010             6                    72           12             320   \n",
       "15    2011             0                    27          193             584   \n",
       "16    2011             1                   178          178             584   \n",
       "17    2011             2                    60           30             584   \n",
       "18    2011             3                     3            1             584   \n",
       "19    2011             4                   220           55             584   \n",
       "\n",
       "    runs.total_average    bowler_max  \n",
       "0             1.113095    WPUJC Vaas  \n",
       "1             1.113095    WPUJC Vaas  \n",
       "2             1.113095    WPUJC Vaas  \n",
       "3             1.113095    WPUJC Vaas  \n",
       "4             1.113095    WPUJC Vaas  \n",
       "5             1.146667  Yuvraj Singh  \n",
       "6             1.146667  Yuvraj Singh  \n",
       "7             1.146667  Yuvraj Singh  \n",
       "8             1.146667  Yuvraj Singh  \n",
       "9             1.146667  Yuvraj Singh  \n",
       "10            1.481481        Z Khan  \n",
       "11            1.481481        Z Khan  \n",
       "12            1.481481        Z Khan  \n",
       "13            1.481481        Z Khan  \n",
       "14            1.481481        Z Khan  \n",
       "15            1.234672  Yuvraj Singh  \n",
       "16            1.234672  Yuvraj Singh  \n",
       "17            1.234672  Yuvraj Singh  \n",
       "18            1.234672  Yuvraj Singh  \n",
       "19            1.234672  Yuvraj Singh  "
      ]
     },
     "execution_count": 90,
     "metadata": {},
     "output_type": "execute_result"
    }
   ],
   "source": [
    "v_kohli.head(20)"
   ]
  },
  {
   "cell_type": "code",
   "execution_count": 75,
   "metadata": {},
   "outputs": [
    {
     "data": {
      "text/html": [
       "<div>\n",
       "<style scoped>\n",
       "    .dataframe tbody tr th:only-of-type {\n",
       "        vertical-align: middle;\n",
       "    }\n",
       "\n",
       "    .dataframe tbody tr th {\n",
       "        vertical-align: top;\n",
       "    }\n",
       "\n",
       "    .dataframe thead th {\n",
       "        text-align: right;\n",
       "    }\n",
       "</style>\n",
       "<table border=\"1\" class=\"dataframe\">\n",
       "  <thead>\n",
       "    <tr style=\"text-align: right;\">\n",
       "      <th></th>\n",
       "      <th>season_</th>\n",
       "      <th>runs.total_sum</th>\n",
       "      <th>runs.total_average</th>\n",
       "      <th>bowler_max</th>\n",
       "    </tr>\n",
       "  </thead>\n",
       "  <tbody>\n",
       "    <tr>\n",
       "      <th>0</th>\n",
       "      <td>2008</td>\n",
       "      <td>187</td>\n",
       "      <td>1.113095</td>\n",
       "      <td>WPUJC Vaas</td>\n",
       "    </tr>\n",
       "    <tr>\n",
       "      <th>1</th>\n",
       "      <td>2009</td>\n",
       "      <td>258</td>\n",
       "      <td>1.146667</td>\n",
       "      <td>Yuvraj Singh</td>\n",
       "    </tr>\n",
       "    <tr>\n",
       "      <th>2</th>\n",
       "      <td>2010</td>\n",
       "      <td>320</td>\n",
       "      <td>1.481481</td>\n",
       "      <td>Z Khan</td>\n",
       "    </tr>\n",
       "    <tr>\n",
       "      <th>3</th>\n",
       "      <td>2011</td>\n",
       "      <td>584</td>\n",
       "      <td>1.234672</td>\n",
       "      <td>Yuvraj Singh</td>\n",
       "    </tr>\n",
       "    <tr>\n",
       "      <th>4</th>\n",
       "      <td>2012</td>\n",
       "      <td>375</td>\n",
       "      <td>1.126126</td>\n",
       "      <td>YK Pathan</td>\n",
       "    </tr>\n",
       "  </tbody>\n",
       "</table>\n",
       "</div>"
      ],
      "text/plain": [
       "   season_  runs.total_sum  runs.total_average    bowler_max\n",
       "0     2008             187            1.113095    WPUJC Vaas\n",
       "1     2009             258            1.146667  Yuvraj Singh\n",
       "2     2010             320            1.481481        Z Khan\n",
       "3     2011             584            1.234672  Yuvraj Singh\n",
       "4     2012             375            1.126126     YK Pathan"
      ]
     },
     "execution_count": 75,
     "metadata": {},
     "output_type": "execute_result"
    }
   ],
   "source": [
    "vk2.head()"
   ]
  },
  {
   "cell_type": "code",
   "execution_count": 66,
   "metadata": {},
   "outputs": [
    {
     "data": {
      "text/html": [
       "<div>\n",
       "<style scoped>\n",
       "    .dataframe tbody tr th:only-of-type {\n",
       "        vertical-align: middle;\n",
       "    }\n",
       "\n",
       "    .dataframe tbody tr th {\n",
       "        vertical-align: top;\n",
       "    }\n",
       "\n",
       "    .dataframe thead th {\n",
       "        text-align: right;\n",
       "    }\n",
       "</style>\n",
       "<table border=\"1\" class=\"dataframe\">\n",
       "  <thead>\n",
       "    <tr style=\"text-align: right;\">\n",
       "      <th></th>\n",
       "      <th>season__</th>\n",
       "      <th>total_runs_per_score</th>\n",
       "      <th>runs.total_average</th>\n",
       "      <th>bowler_max</th>\n",
       "      <th>season_</th>\n",
       "      <th>runs.batter_</th>\n",
       "      <th>runs.total_sum</th>\n",
       "      <th>runs.total_count</th>\n",
       "    </tr>\n",
       "  </thead>\n",
       "  <tbody>\n",
       "  </tbody>\n",
       "</table>\n",
       "</div>"
      ],
      "text/plain": [
       "Empty DataFrame\n",
       "Columns: [season__, total_runs_per_score, runs.total_average, bowler_max, season_, runs.batter_, runs.total_sum, runs.total_count]\n",
       "Index: []"
      ]
     },
     "execution_count": 66,
     "metadata": {},
     "output_type": "execute_result"
    }
   ],
   "source": [
    "\n",
    "v_kohli\n"
   ]
  },
  {
   "cell_type": "code",
   "execution_count": 131,
   "metadata": {},
   "outputs": [],
   "source": [
    "bowler_perf = df_merged.groupby(['bowler','season','wicket.kind']).agg({'wicket.player_out':['count'],'batter':['max']})"
   ]
  },
  {
   "cell_type": "code",
   "execution_count": 133,
   "metadata": {},
   "outputs": [
    {
     "data": {
      "text/html": [
       "<div>\n",
       "<style scoped>\n",
       "    .dataframe tbody tr th:only-of-type {\n",
       "        vertical-align: middle;\n",
       "    }\n",
       "\n",
       "    .dataframe tbody tr th {\n",
       "        vertical-align: top;\n",
       "    }\n",
       "\n",
       "    .dataframe thead tr th {\n",
       "        text-align: left;\n",
       "    }\n",
       "\n",
       "    .dataframe thead tr:last-of-type th {\n",
       "        text-align: right;\n",
       "    }\n",
       "</style>\n",
       "<table border=\"1\" class=\"dataframe\">\n",
       "  <thead>\n",
       "    <tr>\n",
       "      <th></th>\n",
       "      <th></th>\n",
       "      <th></th>\n",
       "      <th>wicket.player_out</th>\n",
       "      <th>batter</th>\n",
       "    </tr>\n",
       "    <tr>\n",
       "      <th></th>\n",
       "      <th></th>\n",
       "      <th></th>\n",
       "      <th>count</th>\n",
       "      <th>max</th>\n",
       "    </tr>\n",
       "    <tr>\n",
       "      <th>bowler</th>\n",
       "      <th>season</th>\n",
       "      <th>wicket.kind</th>\n",
       "      <th></th>\n",
       "      <th></th>\n",
       "    </tr>\n",
       "  </thead>\n",
       "  <tbody>\n",
       "    <tr>\n",
       "      <th rowspan=\"5\" valign=\"top\">A Ashish Reddy</th>\n",
       "      <th rowspan=\"3\" valign=\"top\">2012</th>\n",
       "      <th>bowled</th>\n",
       "      <td>2</td>\n",
       "      <td>RV Uthappa</td>\n",
       "    </tr>\n",
       "    <tr>\n",
       "      <th>caught</th>\n",
       "      <td>7</td>\n",
       "      <td>V Kohli</td>\n",
       "    </tr>\n",
       "    <tr>\n",
       "      <th>lbw</th>\n",
       "      <td>2</td>\n",
       "      <td>N Saini</td>\n",
       "    </tr>\n",
       "    <tr>\n",
       "      <th rowspan=\"2\" valign=\"top\">2013</th>\n",
       "      <th>bowled</th>\n",
       "      <td>2</td>\n",
       "      <td>LRPL Taylor</td>\n",
       "    </tr>\n",
       "    <tr>\n",
       "      <th>caught and bowled</th>\n",
       "      <td>1</td>\n",
       "      <td>V Kohli</td>\n",
       "    </tr>\n",
       "    <tr>\n",
       "      <th>...</th>\n",
       "      <th>...</th>\n",
       "      <th>...</th>\n",
       "      <td>...</td>\n",
       "      <td>...</td>\n",
       "    </tr>\n",
       "    <tr>\n",
       "      <th rowspan=\"5\" valign=\"top\">Z Khan</th>\n",
       "      <th rowspan=\"2\" valign=\"top\">2016</th>\n",
       "      <th>lbw</th>\n",
       "      <td>1</td>\n",
       "      <td>PP Chawla</td>\n",
       "    </tr>\n",
       "    <tr>\n",
       "      <th>run out</th>\n",
       "      <td>2</td>\n",
       "      <td>UT Yadav</td>\n",
       "    </tr>\n",
       "    <tr>\n",
       "      <th rowspan=\"3\" valign=\"top\">2017</th>\n",
       "      <th>bowled</th>\n",
       "      <td>1</td>\n",
       "      <td>AM Rahane</td>\n",
       "    </tr>\n",
       "    <tr>\n",
       "      <th>caught</th>\n",
       "      <td>9</td>\n",
       "      <td>V Kohli</td>\n",
       "    </tr>\n",
       "    <tr>\n",
       "      <th>run out</th>\n",
       "      <td>2</td>\n",
       "      <td>Vishnu Vinod</td>\n",
       "    </tr>\n",
       "  </tbody>\n",
       "</table>\n",
       "<p>4241 rows × 2 columns</p>\n",
       "</div>"
      ],
      "text/plain": [
       "                                        wicket.player_out        batter\n",
       "                                                    count           max\n",
       "bowler         season wicket.kind                                      \n",
       "A Ashish Reddy 2012   bowled                            2    RV Uthappa\n",
       "                      caught                            7       V Kohli\n",
       "                      lbw                               2       N Saini\n",
       "               2013   bowled                            2   LRPL Taylor\n",
       "                      caught and bowled                 1       V Kohli\n",
       "...                                                   ...           ...\n",
       "Z Khan         2016   lbw                               1     PP Chawla\n",
       "                      run out                           2      UT Yadav\n",
       "               2017   bowled                            1     AM Rahane\n",
       "                      caught                            9       V Kohli\n",
       "                      run out                           2  Vishnu Vinod\n",
       "\n",
       "[4241 rows x 2 columns]"
      ]
     },
     "execution_count": 133,
     "metadata": {},
     "output_type": "execute_result"
    }
   ],
   "source": [
    "bowler_perf"
   ]
  },
  {
   "cell_type": "code",
   "execution_count": 94,
   "metadata": {},
   "outputs": [],
   "source": [
    "\n",
    "from plotter import gapminder,parallelplot"
   ]
  },
  {
   "cell_type": "code",
   "execution_count": 97,
   "metadata": {},
   "outputs": [
    {
     "data": {
      "application/vnd.plotly.v1+json": {
       "config": {
        "plotlyServerURL": "https://plot.ly"
       },
       "data": [
        {
         "hovertemplate": "bowler_max=WPUJC Vaas<br>season=%{x}<br>Total runs=%{y}<br>size=%{marker.size}<extra></extra>",
         "legendgroup": "WPUJC Vaas",
         "marker": {
          "color": "#636efa",
          "size": [
           1.7086834936695847,
           1.7086834936695847,
           1.7086834936695847,
           1.7086834936695847,
           1.7086834936695847
          ],
          "sizemode": "area",
          "sizeref": 0.022315760453450236,
          "symbol": "circle"
         },
         "mode": "markers",
         "name": "WPUJC Vaas",
         "orientation": "v",
         "showlegend": true,
         "type": "scatter",
         "x": [
          2008,
          2008,
          2008,
          2008,
          2008
         ],
         "xaxis": "x",
         "y": [
          187,
          187,
          187,
          187,
          187
         ],
         "yaxis": "y"
        },
        {
         "hovertemplate": "bowler_max=Yuvraj Singh<br>season=%{x}<br>Total runs=%{y}<br>size=%{marker.size}<extra></extra>",
         "legendgroup": "Yuvraj Singh",
         "marker": {
          "color": "#EF553B",
          "size": [
           1.9823755803390952,
           1.9823755803390952,
           1.9823755803390952,
           1.9823755803390952,
           1.9823755803390952,
           2.86918486905928,
           2.86918486905928,
           2.86918486905928,
           2.86918486905928,
           2.86918486905928,
           2.86918486905928,
           5.31303022295925,
           5.31303022295925,
           5.31303022295925,
           5.31303022295925,
           5.31303022295925,
           5.31303022295925
          ],
          "sizemode": "area",
          "sizeref": 0.022315760453450236,
          "symbol": "circle"
         },
         "mode": "markers",
         "name": "Yuvraj Singh",
         "orientation": "v",
         "showlegend": true,
         "type": "scatter",
         "x": [
          2009,
          2009,
          2009,
          2009,
          2009,
          2011,
          2011,
          2011,
          2011,
          2011,
          2011,
          2013,
          2013,
          2013,
          2013,
          2013,
          2013
         ],
         "xaxis": "x",
         "y": [
          258,
          258,
          258,
          258,
          258,
          584,
          584,
          584,
          584,
          584,
          584,
          655,
          655,
          655,
          655,
          655,
          655
         ],
         "yaxis": "y"
        },
        {
         "hovertemplate": "bowler_max=Z Khan<br>season=%{x}<br>Total runs=%{y}<br>size=%{marker.size}<extra></extra>",
         "legendgroup": "Z Khan",
         "marker": {
          "color": "#00cc96",
          "size": [
           7.136432064128646,
           7.136432064128646,
           7.136432064128646,
           7.136432064128646,
           7.136432064128646,
           2.922211739140509,
           2.922211739140509,
           2.922211739140509,
           2.922211739140509,
           2.922211739140509,
           2.922211739140509,
           8.211948299253299,
           8.211948299253299,
           8.211948299253299,
           8.211948299253299,
           8.211948299253299,
           8.211948299253299,
           2.7225923739234963,
           2.7225923739234963,
           2.7225923739234963,
           2.7225923739234963,
           2.7225923739234963,
           2.7225923739234963
          ],
          "sizemode": "area",
          "sizeref": 0.022315760453450236,
          "symbol": "circle"
         },
         "mode": "markers",
         "name": "Z Khan",
         "orientation": "v",
         "showlegend": true,
         "type": "scatter",
         "x": [
          2010,
          2010,
          2010,
          2010,
          2010,
          2014,
          2014,
          2014,
          2014,
          2014,
          2014,
          2016,
          2016,
          2016,
          2016,
          2016,
          2016,
          2017,
          2017,
          2017,
          2017,
          2017,
          2017
         ],
         "xaxis": "x",
         "y": [
          320,
          320,
          320,
          320,
          320,
          373,
          373,
          373,
          373,
          373,
          373,
          998,
          998,
          998,
          998,
          998,
          998,
          314,
          314,
          314,
          314,
          314,
          314
         ],
         "yaxis": "y"
        },
        {
         "hovertemplate": "bowler_max=YK Pathan<br>season=%{x}<br>Total runs=%{y}<br>size=%{marker.size}<extra></extra>",
         "legendgroup": "YK Pathan",
         "marker": {
          "color": "#ab63fa",
          "size": [
           1.8110697267412077,
           1.8110697267412077,
           1.8110697267412077,
           1.8110697267412077,
           1.8110697267412077,
           1.8110697267412077
          ],
          "sizemode": "area",
          "sizeref": 0.022315760453450236,
          "symbol": "circle"
         },
         "mode": "markers",
         "name": "YK Pathan",
         "orientation": "v",
         "showlegend": true,
         "type": "scatter",
         "x": [
          2012,
          2012,
          2012,
          2012,
          2012,
          2012
         ],
         "xaxis": "x",
         "y": [
          375,
          375,
          375,
          375,
          375,
          375
         ],
         "yaxis": "y"
        },
        {
         "hovertemplate": "bowler_max=UT Yadav<br>season=%{x}<br>Total runs=%{y}<br>size=%{marker.size}<extra></extra>",
         "legendgroup": "UT Yadav",
         "marker": {
          "color": "#FFA15A",
          "size": [
           3.9160777985960067,
           3.9160777985960067,
           3.9160777985960067,
           3.9160777985960067,
           3.9160777985960067,
           3.9160777985960067
          ],
          "sizemode": "area",
          "sizeref": 0.022315760453450236,
          "symbol": "circle"
         },
         "mode": "markers",
         "name": "UT Yadav",
         "orientation": "v",
         "showlegend": true,
         "type": "scatter",
         "x": [
          2015,
          2015,
          2015,
          2015,
          2015,
          2015
         ],
         "xaxis": "x",
         "y": [
          519,
          519,
          519,
          519,
          519,
          519
         ],
         "yaxis": "y"
        },
        {
         "hovertemplate": "bowler_max=TA Boult<br>season=%{x}<br>Total runs=%{y}<br>size=%{marker.size}<extra></extra>",
         "legendgroup": "TA Boult",
         "marker": {
          "color": "#19d3f3",
          "size": [
           5.378239999999998,
           5.378239999999998,
           5.378239999999998,
           5.378239999999998,
           5.378239999999998,
           2.691872358385907,
           2.691872358385907,
           2.691872358385907,
           2.691872358385907,
           2.691872358385907,
           2.691872358385907
          ],
          "sizemode": "area",
          "sizeref": 0.022315760453450236,
          "symbol": "circle"
         },
         "mode": "markers",
         "name": "TA Boult",
         "orientation": "v",
         "showlegend": true,
         "type": "scatter",
         "x": [
          2018,
          2018,
          2018,
          2018,
          2018,
          2021,
          2021,
          2021,
          2021,
          2021,
          2021
         ],
         "xaxis": "x",
         "y": [
          539,
          539,
          539,
          539,
          539,
          423,
          423,
          423,
          423,
          423,
          423
         ],
         "yaxis": "y"
        },
        {
         "hovertemplate": "bowler_max=VR Aaron<br>season=%{x}<br>Total runs=%{y}<br>size=%{marker.size}<extra></extra>",
         "legendgroup": "VR Aaron",
         "marker": {
          "color": "#FF6692",
          "size": [
           5.8079059449806225,
           5.8079059449806225,
           5.8079059449806225,
           5.8079059449806225,
           5.8079059449806225
          ],
          "sizemode": "area",
          "sizeref": 0.022315760453450236,
          "symbol": "circle"
         },
         "mode": "markers",
         "name": "VR Aaron",
         "orientation": "v",
         "showlegend": true,
         "type": "scatter",
         "x": [
          2019,
          2019,
          2019,
          2019,
          2019
         ],
         "xaxis": "x",
         "y": [
          472,
          472,
          472,
          472,
          472
         ],
         "yaxis": "y"
        },
        {
         "hovertemplate": "bowler_max=TK Curran<br>season=%{x}<br>Total runs=%{y}<br>size=%{marker.size}<extra></extra>",
         "legendgroup": "TK Curran",
         "marker": {
          "color": "#B6E880",
          "size": [
           2.675129739375684,
           2.675129739375684,
           2.675129739375684,
           2.675129739375684,
           2.675129739375684,
           2.675129739375684
          ],
          "sizemode": "area",
          "sizeref": 0.022315760453450236,
          "symbol": "circle"
         },
         "mode": "markers",
         "name": "TK Curran",
         "orientation": "v",
         "showlegend": true,
         "type": "scatter",
         "x": [
          2020,
          2020,
          2020,
          2020,
          2020,
          2020
         ],
         "xaxis": "x",
         "y": [
          487,
          487,
          487,
          487,
          487,
          487
         ],
         "yaxis": "y"
        },
        {
         "hovertemplate": "bowler_max=Yash Dayal<br>season=%{x}<br>Total runs=%{y}<br>size=%{marker.size}<extra></extra>",
         "legendgroup": "Yash Dayal",
         "marker": {
          "color": "#FF97FF",
          "size": [
           2.3170516787513398,
           2.3170516787513398,
           2.3170516787513398,
           2.3170516787513398,
           2.3170516787513398,
           2.3170516787513398
          ],
          "sizemode": "area",
          "sizeref": 0.022315760453450236,
          "symbol": "circle"
         },
         "mode": "markers",
         "name": "Yash Dayal",
         "orientation": "v",
         "showlegend": true,
         "type": "scatter",
         "x": [
          2022,
          2022,
          2022,
          2022,
          2022,
          2022
         ],
         "xaxis": "x",
         "y": [
          362,
          362,
          362,
          362,
          362,
          362
         ],
         "yaxis": "y"
        },
        {
         "hovertemplate": "bowler_max=Yash Thakur<br>season=%{x}<br>Total runs=%{y}<br>size=%{marker.size}<extra></extra>",
         "legendgroup": "Yash Thakur",
         "marker": {
          "color": "#FECB52",
          "size": [
           5.32968563852083,
           5.32968563852083,
           5.32968563852083,
           5.32968563852083,
           5.32968563852083,
           5.32968563852083
          ],
          "sizemode": "area",
          "sizeref": 0.022315760453450236,
          "symbol": "circle"
         },
         "mode": "markers",
         "name": "Yash Thakur",
         "orientation": "v",
         "showlegend": true,
         "type": "scatter",
         "x": [
          2023,
          2023,
          2023,
          2023,
          2023,
          2023
         ],
         "xaxis": "x",
         "y": [
          661,
          661,
          661,
          661,
          661,
          661
         ],
         "yaxis": "y"
        },
        {
         "hovertemplate": "bowler_max=YS Chahal<br>season=%{x}<br>Total runs=%{y}<br>size=%{marker.size}<extra></extra>",
         "legendgroup": "YS Chahal",
         "marker": {
          "color": "#636efa",
          "size": [
           8.926304181380095,
           8.926304181380095,
           8.926304181380095,
           8.926304181380095,
           8.926304181380095,
           8.926304181380095
          ],
          "sizemode": "area",
          "sizeref": 0.022315760453450236,
          "symbol": "circle"
         },
         "mode": "markers",
         "name": "YS Chahal",
         "orientation": "v",
         "showlegend": true,
         "type": "scatter",
         "x": [
          2024,
          2024,
          2024,
          2024,
          2024,
          2024
         ],
         "xaxis": "x",
         "y": [
          770,
          770,
          770,
          770,
          770,
          770
         ],
         "yaxis": "y"
        }
       ],
       "layout": {
        "legend": {
         "itemsizing": "constant",
         "title": {
          "text": "bowler_max"
         },
         "tracegroupgap": 0
        },
        "template": {
         "data": {
          "bar": [
           {
            "error_x": {
             "color": "#2a3f5f"
            },
            "error_y": {
             "color": "#2a3f5f"
            },
            "marker": {
             "line": {
              "color": "#E5ECF6",
              "width": 0.5
             },
             "pattern": {
              "fillmode": "overlay",
              "size": 10,
              "solidity": 0.2
             }
            },
            "type": "bar"
           }
          ],
          "barpolar": [
           {
            "marker": {
             "line": {
              "color": "#E5ECF6",
              "width": 0.5
             },
             "pattern": {
              "fillmode": "overlay",
              "size": 10,
              "solidity": 0.2
             }
            },
            "type": "barpolar"
           }
          ],
          "carpet": [
           {
            "aaxis": {
             "endlinecolor": "#2a3f5f",
             "gridcolor": "white",
             "linecolor": "white",
             "minorgridcolor": "white",
             "startlinecolor": "#2a3f5f"
            },
            "baxis": {
             "endlinecolor": "#2a3f5f",
             "gridcolor": "white",
             "linecolor": "white",
             "minorgridcolor": "white",
             "startlinecolor": "#2a3f5f"
            },
            "type": "carpet"
           }
          ],
          "choropleth": [
           {
            "colorbar": {
             "outlinewidth": 0,
             "ticks": ""
            },
            "type": "choropleth"
           }
          ],
          "contour": [
           {
            "colorbar": {
             "outlinewidth": 0,
             "ticks": ""
            },
            "colorscale": [
             [
              0,
              "#0d0887"
             ],
             [
              0.1111111111111111,
              "#46039f"
             ],
             [
              0.2222222222222222,
              "#7201a8"
             ],
             [
              0.3333333333333333,
              "#9c179e"
             ],
             [
              0.4444444444444444,
              "#bd3786"
             ],
             [
              0.5555555555555556,
              "#d8576b"
             ],
             [
              0.6666666666666666,
              "#ed7953"
             ],
             [
              0.7777777777777778,
              "#fb9f3a"
             ],
             [
              0.8888888888888888,
              "#fdca26"
             ],
             [
              1,
              "#f0f921"
             ]
            ],
            "type": "contour"
           }
          ],
          "contourcarpet": [
           {
            "colorbar": {
             "outlinewidth": 0,
             "ticks": ""
            },
            "type": "contourcarpet"
           }
          ],
          "heatmap": [
           {
            "colorbar": {
             "outlinewidth": 0,
             "ticks": ""
            },
            "colorscale": [
             [
              0,
              "#0d0887"
             ],
             [
              0.1111111111111111,
              "#46039f"
             ],
             [
              0.2222222222222222,
              "#7201a8"
             ],
             [
              0.3333333333333333,
              "#9c179e"
             ],
             [
              0.4444444444444444,
              "#bd3786"
             ],
             [
              0.5555555555555556,
              "#d8576b"
             ],
             [
              0.6666666666666666,
              "#ed7953"
             ],
             [
              0.7777777777777778,
              "#fb9f3a"
             ],
             [
              0.8888888888888888,
              "#fdca26"
             ],
             [
              1,
              "#f0f921"
             ]
            ],
            "type": "heatmap"
           }
          ],
          "heatmapgl": [
           {
            "colorbar": {
             "outlinewidth": 0,
             "ticks": ""
            },
            "colorscale": [
             [
              0,
              "#0d0887"
             ],
             [
              0.1111111111111111,
              "#46039f"
             ],
             [
              0.2222222222222222,
              "#7201a8"
             ],
             [
              0.3333333333333333,
              "#9c179e"
             ],
             [
              0.4444444444444444,
              "#bd3786"
             ],
             [
              0.5555555555555556,
              "#d8576b"
             ],
             [
              0.6666666666666666,
              "#ed7953"
             ],
             [
              0.7777777777777778,
              "#fb9f3a"
             ],
             [
              0.8888888888888888,
              "#fdca26"
             ],
             [
              1,
              "#f0f921"
             ]
            ],
            "type": "heatmapgl"
           }
          ],
          "histogram": [
           {
            "marker": {
             "pattern": {
              "fillmode": "overlay",
              "size": 10,
              "solidity": 0.2
             }
            },
            "type": "histogram"
           }
          ],
          "histogram2d": [
           {
            "colorbar": {
             "outlinewidth": 0,
             "ticks": ""
            },
            "colorscale": [
             [
              0,
              "#0d0887"
             ],
             [
              0.1111111111111111,
              "#46039f"
             ],
             [
              0.2222222222222222,
              "#7201a8"
             ],
             [
              0.3333333333333333,
              "#9c179e"
             ],
             [
              0.4444444444444444,
              "#bd3786"
             ],
             [
              0.5555555555555556,
              "#d8576b"
             ],
             [
              0.6666666666666666,
              "#ed7953"
             ],
             [
              0.7777777777777778,
              "#fb9f3a"
             ],
             [
              0.8888888888888888,
              "#fdca26"
             ],
             [
              1,
              "#f0f921"
             ]
            ],
            "type": "histogram2d"
           }
          ],
          "histogram2dcontour": [
           {
            "colorbar": {
             "outlinewidth": 0,
             "ticks": ""
            },
            "colorscale": [
             [
              0,
              "#0d0887"
             ],
             [
              0.1111111111111111,
              "#46039f"
             ],
             [
              0.2222222222222222,
              "#7201a8"
             ],
             [
              0.3333333333333333,
              "#9c179e"
             ],
             [
              0.4444444444444444,
              "#bd3786"
             ],
             [
              0.5555555555555556,
              "#d8576b"
             ],
             [
              0.6666666666666666,
              "#ed7953"
             ],
             [
              0.7777777777777778,
              "#fb9f3a"
             ],
             [
              0.8888888888888888,
              "#fdca26"
             ],
             [
              1,
              "#f0f921"
             ]
            ],
            "type": "histogram2dcontour"
           }
          ],
          "mesh3d": [
           {
            "colorbar": {
             "outlinewidth": 0,
             "ticks": ""
            },
            "type": "mesh3d"
           }
          ],
          "parcoords": [
           {
            "line": {
             "colorbar": {
              "outlinewidth": 0,
              "ticks": ""
             }
            },
            "type": "parcoords"
           }
          ],
          "pie": [
           {
            "automargin": true,
            "type": "pie"
           }
          ],
          "scatter": [
           {
            "fillpattern": {
             "fillmode": "overlay",
             "size": 10,
             "solidity": 0.2
            },
            "type": "scatter"
           }
          ],
          "scatter3d": [
           {
            "line": {
             "colorbar": {
              "outlinewidth": 0,
              "ticks": ""
             }
            },
            "marker": {
             "colorbar": {
              "outlinewidth": 0,
              "ticks": ""
             }
            },
            "type": "scatter3d"
           }
          ],
          "scattercarpet": [
           {
            "marker": {
             "colorbar": {
              "outlinewidth": 0,
              "ticks": ""
             }
            },
            "type": "scattercarpet"
           }
          ],
          "scattergeo": [
           {
            "marker": {
             "colorbar": {
              "outlinewidth": 0,
              "ticks": ""
             }
            },
            "type": "scattergeo"
           }
          ],
          "scattergl": [
           {
            "marker": {
             "colorbar": {
              "outlinewidth": 0,
              "ticks": ""
             }
            },
            "type": "scattergl"
           }
          ],
          "scattermapbox": [
           {
            "marker": {
             "colorbar": {
              "outlinewidth": 0,
              "ticks": ""
             }
            },
            "type": "scattermapbox"
           }
          ],
          "scatterpolar": [
           {
            "marker": {
             "colorbar": {
              "outlinewidth": 0,
              "ticks": ""
             }
            },
            "type": "scatterpolar"
           }
          ],
          "scatterpolargl": [
           {
            "marker": {
             "colorbar": {
              "outlinewidth": 0,
              "ticks": ""
             }
            },
            "type": "scatterpolargl"
           }
          ],
          "scatterternary": [
           {
            "marker": {
             "colorbar": {
              "outlinewidth": 0,
              "ticks": ""
             }
            },
            "type": "scatterternary"
           }
          ],
          "surface": [
           {
            "colorbar": {
             "outlinewidth": 0,
             "ticks": ""
            },
            "colorscale": [
             [
              0,
              "#0d0887"
             ],
             [
              0.1111111111111111,
              "#46039f"
             ],
             [
              0.2222222222222222,
              "#7201a8"
             ],
             [
              0.3333333333333333,
              "#9c179e"
             ],
             [
              0.4444444444444444,
              "#bd3786"
             ],
             [
              0.5555555555555556,
              "#d8576b"
             ],
             [
              0.6666666666666666,
              "#ed7953"
             ],
             [
              0.7777777777777778,
              "#fb9f3a"
             ],
             [
              0.8888888888888888,
              "#fdca26"
             ],
             [
              1,
              "#f0f921"
             ]
            ],
            "type": "surface"
           }
          ],
          "table": [
           {
            "cells": {
             "fill": {
              "color": "#EBF0F8"
             },
             "line": {
              "color": "white"
             }
            },
            "header": {
             "fill": {
              "color": "#C8D4E3"
             },
             "line": {
              "color": "white"
             }
            },
            "type": "table"
           }
          ]
         },
         "layout": {
          "annotationdefaults": {
           "arrowcolor": "#2a3f5f",
           "arrowhead": 0,
           "arrowwidth": 1
          },
          "autotypenumbers": "strict",
          "coloraxis": {
           "colorbar": {
            "outlinewidth": 0,
            "ticks": ""
           }
          },
          "colorscale": {
           "diverging": [
            [
             0,
             "#8e0152"
            ],
            [
             0.1,
             "#c51b7d"
            ],
            [
             0.2,
             "#de77ae"
            ],
            [
             0.3,
             "#f1b6da"
            ],
            [
             0.4,
             "#fde0ef"
            ],
            [
             0.5,
             "#f7f7f7"
            ],
            [
             0.6,
             "#e6f5d0"
            ],
            [
             0.7,
             "#b8e186"
            ],
            [
             0.8,
             "#7fbc41"
            ],
            [
             0.9,
             "#4d9221"
            ],
            [
             1,
             "#276419"
            ]
           ],
           "sequential": [
            [
             0,
             "#0d0887"
            ],
            [
             0.1111111111111111,
             "#46039f"
            ],
            [
             0.2222222222222222,
             "#7201a8"
            ],
            [
             0.3333333333333333,
             "#9c179e"
            ],
            [
             0.4444444444444444,
             "#bd3786"
            ],
            [
             0.5555555555555556,
             "#d8576b"
            ],
            [
             0.6666666666666666,
             "#ed7953"
            ],
            [
             0.7777777777777778,
             "#fb9f3a"
            ],
            [
             0.8888888888888888,
             "#fdca26"
            ],
            [
             1,
             "#f0f921"
            ]
           ],
           "sequentialminus": [
            [
             0,
             "#0d0887"
            ],
            [
             0.1111111111111111,
             "#46039f"
            ],
            [
             0.2222222222222222,
             "#7201a8"
            ],
            [
             0.3333333333333333,
             "#9c179e"
            ],
            [
             0.4444444444444444,
             "#bd3786"
            ],
            [
             0.5555555555555556,
             "#d8576b"
            ],
            [
             0.6666666666666666,
             "#ed7953"
            ],
            [
             0.7777777777777778,
             "#fb9f3a"
            ],
            [
             0.8888888888888888,
             "#fdca26"
            ],
            [
             1,
             "#f0f921"
            ]
           ]
          },
          "colorway": [
           "#636efa",
           "#EF553B",
           "#00cc96",
           "#ab63fa",
           "#FFA15A",
           "#19d3f3",
           "#FF6692",
           "#B6E880",
           "#FF97FF",
           "#FECB52"
          ],
          "font": {
           "color": "#2a3f5f"
          },
          "geo": {
           "bgcolor": "white",
           "lakecolor": "white",
           "landcolor": "#E5ECF6",
           "showlakes": true,
           "showland": true,
           "subunitcolor": "white"
          },
          "hoverlabel": {
           "align": "left"
          },
          "hovermode": "closest",
          "mapbox": {
           "style": "light"
          },
          "paper_bgcolor": "white",
          "plot_bgcolor": "#E5ECF6",
          "polar": {
           "angularaxis": {
            "gridcolor": "white",
            "linecolor": "white",
            "ticks": ""
           },
           "bgcolor": "#E5ECF6",
           "radialaxis": {
            "gridcolor": "white",
            "linecolor": "white",
            "ticks": ""
           }
          },
          "scene": {
           "xaxis": {
            "backgroundcolor": "#E5ECF6",
            "gridcolor": "white",
            "gridwidth": 2,
            "linecolor": "white",
            "showbackground": true,
            "ticks": "",
            "zerolinecolor": "white"
           },
           "yaxis": {
            "backgroundcolor": "#E5ECF6",
            "gridcolor": "white",
            "gridwidth": 2,
            "linecolor": "white",
            "showbackground": true,
            "ticks": "",
            "zerolinecolor": "white"
           },
           "zaxis": {
            "backgroundcolor": "#E5ECF6",
            "gridcolor": "white",
            "gridwidth": 2,
            "linecolor": "white",
            "showbackground": true,
            "ticks": "",
            "zerolinecolor": "white"
           }
          },
          "shapedefaults": {
           "line": {
            "color": "#2a3f5f"
           }
          },
          "ternary": {
           "aaxis": {
            "gridcolor": "white",
            "linecolor": "white",
            "ticks": ""
           },
           "baxis": {
            "gridcolor": "white",
            "linecolor": "white",
            "ticks": ""
           },
           "bgcolor": "#E5ECF6",
           "caxis": {
            "gridcolor": "white",
            "linecolor": "white",
            "ticks": ""
           }
          },
          "title": {
           "x": 0.05
          },
          "xaxis": {
           "automargin": true,
           "gridcolor": "white",
           "linecolor": "white",
           "ticks": "",
           "title": {
            "standoff": 15
           },
           "zerolinecolor": "white",
           "zerolinewidth": 2
          },
          "yaxis": {
           "automargin": true,
           "gridcolor": "white",
           "linecolor": "white",
           "ticks": "",
           "title": {
            "standoff": 15
           },
           "zerolinecolor": "white",
           "zerolinewidth": 2
          }
         }
        },
        "title": {
         "text": "Virat Batting Perf"
        },
        "xaxis": {
         "anchor": "y",
         "domain": [
          0,
          1
         ],
         "title": {
          "text": "season"
         }
        },
        "yaxis": {
         "anchor": "x",
         "domain": [
          0,
          1
         ],
         "title": {
          "text": "Total runs"
         }
        }
       }
      }
     },
     "metadata": {},
     "output_type": "display_data"
    }
   ],
   "source": [
    "\n",
    "gapminder(v_kohli, v_kohli['season'], v_kohli['runs.total_sum'],\n",
    "          v_kohli['runs.total_average']**5, v_kohli[\"bowler_max\"] ,labels={'runs.total_sum':'Total runs','season_':\"Season\"},title='Virat Batting Perf')\n"
   ]
  },
  {
   "cell_type": "code",
   "execution_count": 57,
   "metadata": {},
   "outputs": [
    {
     "data": {
      "text/plain": [
       "<matplotlib.collections.PathCollection at 0x74b410bc0a00>"
      ]
     },
     "execution_count": 57,
     "metadata": {},
     "output_type": "execute_result"
    },
    {
     "data": {
      "image/png": "[encoded data removed]",
      "text/plain": [
       "<Figure size 640x480 with 1 Axes>"
      ]
     },
     "metadata": {},
     "output_type": "display_data"
    }
   ],
   "source": [
    "plt.scatter(x=v_kohli['season'],y=v_kohli['runs.total']['sum'],s=v_kohli['runs.total']['average']*100)"
   ]
  },
  {
   "cell_type": "code",
   "execution_count": 107,
   "metadata": {},
   "outputs": [
    {
     "data": {
      "application/vnd.plotly.v1+json": {
       "config": {
        "plotlyServerURL": "https://plot.ly"
       },
       "data": [
        {
         "dimensions": [
          {
           "label": "runs.total_sum",
           "values": [
            187,
            187,
            187,
            187,
            187,
            258,
            258,
            258,
            258,
            258,
            320,
            320,
            320,
            320,
            320,
            584,
            584,
            584,
            584,
            584,
            584,
            375,
            375,
            375,
            375,
            375,
            375,
            655,
            655,
            655,
            655,
            655,
            655,
            373,
            373,
            373,
            373,
            373,
            373,
            519,
            519,
            519,
            519,
            519,
            519,
            998,
            998,
            998,
            998,
            998,
            998,
            314,
            314,
            314,
            314,
            314,
            314,
            539,
            539,
            539,
            539,
            539,
            472,
            472,
            472,
            472,
            472,
            487,
            487,
            487,
            487,
            487,
            487,
            423,
            423,
            423,
            423,
            423,
            423,
            362,
            362,
            362,
            362,
            362,
            362,
            661,
            661,
            661,
            661,
            661,
            661,
            770,
            770,
            770,
            770,
            770,
            770
           ]
          },
          {
           "label": "runs.batter_",
           "values": [
            0,
            1,
            2,
            4,
            6,
            0,
            1,
            2,
            4,
            6,
            0,
            1,
            2,
            4,
            6,
            0,
            1,
            2,
            3,
            4,
            6,
            0,
            1,
            2,
            3,
            4,
            6,
            0,
            1,
            2,
            3,
            4,
            6,
            0,
            1,
            2,
            3,
            4,
            6,
            0,
            1,
            2,
            3,
            4,
            6,
            0,
            1,
            2,
            3,
            4,
            6,
            0,
            1,
            2,
            3,
            4,
            6,
            0,
            1,
            2,
            4,
            6,
            0,
            1,
            2,
            4,
            6,
            0,
            1,
            2,
            3,
            4,
            6,
            0,
            1,
            2,
            3,
            4,
            6,
            0,
            1,
            2,
            3,
            4,
            6,
            0,
            1,
            2,
            3,
            4,
            6,
            0,
            1,
            2,
            3,
            4,
            6
           ]
          },
          {
           "label": "total_runs_per_score",
           "values": [
            22,
            59,
            10,
            72,
            24,
            12,
            84,
            26,
            88,
            48,
            12,
            104,
            28,
            104,
            72,
            27,
            178,
            60,
            3,
            220,
            96,
            11,
            137,
            32,
            3,
            132,
            60,
            18,
            173,
            70,
            6,
            256,
            132,
            14,
            127,
            38,
            6,
            92,
            96,
            14,
            153,
            68,
            6,
            140,
            138,
            23,
            292,
            112,
            6,
            336,
            229,
            6,
            107,
            40,
            3,
            92,
            66,
            8,
            167,
            48,
            208,
            108,
            8,
            150,
            52,
            184,
            78,
            19,
            195,
            109,
            6,
            92,
            66,
            17,
            145,
            28,
            6,
            173,
            54,
            21,
            117,
            36,
            12,
            128,
            48,
            22,
            210,
            70,
            3,
            260,
            96,
            29,
            198,
            64,
            3,
            248,
            228
           ]
          },
          {
           "label": "no_of_balls",
           "values": [
            82,
            59,
            5,
            18,
            4,
            98,
            84,
            13,
            22,
            8,
            61,
            103,
            14,
            26,
            12,
            193,
            178,
            30,
            1,
            55,
            16,
            136,
            137,
            16,
            1,
            33,
            10,
            176,
            170,
            35,
            2,
            64,
            22,
            114,
            127,
            19,
            2,
            23,
            16,
            148,
            153,
            34,
            2,
            35,
            23,
            184,
            291,
            56,
            2,
            84,
            38,
            95,
            107,
            20,
            1,
            23,
            11,
            125,
            166,
            24,
            52,
            18,
            97,
            150,
            26,
            46,
            13,
            116,
            194,
            54,
            2,
            23,
            11,
            134,
            145,
            14,
            2,
            43,
            9,
            127,
            117,
            18,
            4,
            32,
            8,
            146,
            210,
            35,
            1,
            65,
            16,
            166,
            198,
            32,
            1,
            62,
            38
           ]
          }
         ],
         "domain": {
          "x": [
           0,
           1
          ],
          "y": [
           0,
           1
          ]
         },
         "line": {
          "color": [
           2008,
           2008,
           2008,
           2008,
           2008,
           2009,
           2009,
           2009,
           2009,
           2009,
           2010,
           2010,
           2010,
           2010,
           2010,
           2011,
           2011,
           2011,
           2011,
           2011,
           2011,
           2012,
           2012,
           2012,
           2012,
           2012,
           2012,
           2013,
           2013,
           2013,
           2013,
           2013,
           2013,
           2014,
           2014,
           2014,
           2014,
           2014,
           2014,
           2015,
           2015,
           2015,
           2015,
           2015,
           2015,
           2016,
           2016,
           2016,
           2016,
           2016,
           2016,
           2017,
           2017,
           2017,
           2017,
           2017,
           2017,
           2018,
           2018,
           2018,
           2018,
           2018,
           2019,
           2019,
           2019,
           2019,
           2019,
           2020,
           2020,
           2020,
           2020,
           2020,
           2020,
           2021,
           2021,
           2021,
           2021,
           2021,
           2021,
           2022,
           2022,
           2022,
           2022,
           2022,
           2022,
           2023,
           2023,
           2023,
           2023,
           2023,
           2023,
           2024,
           2024,
           2024,
           2024,
           2024,
           2024
          ],
          "coloraxis": "coloraxis"
         },
         "name": "",
         "type": "parcoords"
        }
       ],
       "layout": {
        "coloraxis": {
         "colorbar": {
          "title": {
           "text": "season"
          }
         },
         "colorscale": [
          [
           0,
           "#0d0887"
          ],
          [
           0.1111111111111111,
           "#46039f"
          ],
          [
           0.2222222222222222,
           "#7201a8"
          ],
          [
           0.3333333333333333,
           "#9c179e"
          ],
          [
           0.4444444444444444,
           "#bd3786"
          ],
          [
           0.5555555555555556,
           "#d8576b"
          ],
          [
           0.6666666666666666,
           "#ed7953"
          ],
          [
           0.7777777777777778,
           "#fb9f3a"
          ],
          [
           0.8888888888888888,
           "#fdca26"
          ],
          [
           1,
           "#f0f921"
          ]
         ]
        },
        "legend": {
         "tracegroupgap": 0
        },
        "template": {
         "data": {
          "bar": [
           {
            "error_x": {
             "color": "#2a3f5f"
            },
            "error_y": {
             "color": "#2a3f5f"
            },
            "marker": {
             "line": {
              "color": "#E5ECF6",
              "width": 0.5
             },
             "pattern": {
              "fillmode": "overlay",
              "size": 10,
              "solidity": 0.2
             }
            },
            "type": "bar"
           }
          ],
          "barpolar": [
           {
            "marker": {
             "line": {
              "color": "#E5ECF6",
              "width": 0.5
             },
             "pattern": {
              "fillmode": "overlay",
              "size": 10,
              "solidity": 0.2
             }
            },
            "type": "barpolar"
           }
          ],
          "carpet": [
           {
            "aaxis": {
             "endlinecolor": "#2a3f5f",
             "gridcolor": "white",
             "linecolor": "white",
             "minorgridcolor": "white",
             "startlinecolor": "#2a3f5f"
            },
            "baxis": {
             "endlinecolor": "#2a3f5f",
             "gridcolor": "white",
             "linecolor": "white",
             "minorgridcolor": "white",
             "startlinecolor": "#2a3f5f"
            },
            "type": "carpet"
           }
          ],
          "choropleth": [
           {
            "colorbar": {
             "outlinewidth": 0,
             "ticks": ""
            },
            "type": "choropleth"
           }
          ],
          "contour": [
           {
            "colorbar": {
             "outlinewidth": 0,
             "ticks": ""
            },
            "colorscale": [
             [
              0,
              "#0d0887"
             ],
             [
              0.1111111111111111,
              "#46039f"
             ],
             [
              0.2222222222222222,
              "#7201a8"
             ],
             [
              0.3333333333333333,
              "#9c179e"
             ],
             [
              0.4444444444444444,
              "#bd3786"
             ],
             [
              0.5555555555555556,
              "#d8576b"
             ],
             [
              0.6666666666666666,
              "#ed7953"
             ],
             [
              0.7777777777777778,
              "#fb9f3a"
             ],
             [
              0.8888888888888888,
              "#fdca26"
             ],
             [
              1,
              "#f0f921"
             ]
            ],
            "type": "contour"
           }
          ],
          "contourcarpet": [
           {
            "colorbar": {
             "outlinewidth": 0,
             "ticks": ""
            },
            "type": "contourcarpet"
           }
          ],
          "heatmap": [
           {
            "colorbar": {
             "outlinewidth": 0,
             "ticks": ""
            },
            "colorscale": [
             [
              0,
              "#0d0887"
             ],
             [
              0.1111111111111111,
              "#46039f"
             ],
             [
              0.2222222222222222,
              "#7201a8"
             ],
             [
              0.3333333333333333,
              "#9c179e"
             ],
             [
              0.4444444444444444,
              "#bd3786"
             ],
             [
              0.5555555555555556,
              "#d8576b"
             ],
             [
              0.6666666666666666,
              "#ed7953"
             ],
             [
              0.7777777777777778,
              "#fb9f3a"
             ],
             [
              0.8888888888888888,
              "#fdca26"
             ],
             [
              1,
              "#f0f921"
             ]
            ],
            "type": "heatmap"
           }
          ],
          "heatmapgl": [
           {
            "colorbar": {
             "outlinewidth": 0,
             "ticks": ""
            },
            "colorscale": [
             [
              0,
              "#0d0887"
             ],
             [
              0.1111111111111111,
              "#46039f"
             ],
             [
              0.2222222222222222,
              "#7201a8"
             ],
             [
              0.3333333333333333,
              "#9c179e"
             ],
             [
              0.4444444444444444,
              "#bd3786"
             ],
             [
              0.5555555555555556,
              "#d8576b"
             ],
             [
              0.6666666666666666,
              "#ed7953"
             ],
             [
              0.7777777777777778,
              "#fb9f3a"
             ],
             [
              0.8888888888888888,
              "#fdca26"
             ],
             [
              1,
              "#f0f921"
             ]
            ],
            "type": "heatmapgl"
           }
          ],
          "histogram": [
           {
            "marker": {
             "pattern": {
              "fillmode": "overlay",
              "size": 10,
              "solidity": 0.2
             }
            },
            "type": "histogram"
           }
          ],
          "histogram2d": [
           {
            "colorbar": {
             "outlinewidth": 0,
             "ticks": ""
            },
            "colorscale": [
             [
              0,
              "#0d0887"
             ],
             [
              0.1111111111111111,
              "#46039f"
             ],
             [
              0.2222222222222222,
              "#7201a8"
             ],
             [
              0.3333333333333333,
              "#9c179e"
             ],
             [
              0.4444444444444444,
              "#bd3786"
             ],
             [
              0.5555555555555556,
              "#d8576b"
             ],
             [
              0.6666666666666666,
              "#ed7953"
             ],
             [
              0.7777777777777778,
              "#fb9f3a"
             ],
             [
              0.8888888888888888,
              "#fdca26"
             ],
             [
              1,
              "#f0f921"
             ]
            ],
            "type": "histogram2d"
           }
          ],
          "histogram2dcontour": [
           {
            "colorbar": {
             "outlinewidth": 0,
             "ticks": ""
            },
            "colorscale": [
             [
              0,
              "#0d0887"
             ],
             [
              0.1111111111111111,
              "#46039f"
             ],
             [
              0.2222222222222222,
              "#7201a8"
             ],
             [
              0.3333333333333333,
              "#9c179e"
             ],
             [
              0.4444444444444444,
              "#bd3786"
             ],
             [
              0.5555555555555556,
              "#d8576b"
             ],
             [
              0.6666666666666666,
              "#ed7953"
             ],
             [
              0.7777777777777778,
              "#fb9f3a"
             ],
             [
              0.8888888888888888,
              "#fdca26"
             ],
             [
              1,
              "#f0f921"
             ]
            ],
            "type": "histogram2dcontour"
           }
          ],
          "mesh3d": [
           {
            "colorbar": {
             "outlinewidth": 0,
             "ticks": ""
            },
            "type": "mesh3d"
           }
          ],
          "parcoords": [
           {
            "line": {
             "colorbar": {
              "outlinewidth": 0,
              "ticks": ""
             }
            },
            "type": "parcoords"
           }
          ],
          "pie": [
           {
            "automargin": true,
            "type": "pie"
           }
          ],
          "scatter": [
           {
            "fillpattern": {
             "fillmode": "overlay",
             "size": 10,
             "solidity": 0.2
            },
            "type": "scatter"
           }
          ],
          "scatter3d": [
           {
            "line": {
             "colorbar": {
              "outlinewidth": 0,
              "ticks": ""
             }
            },
            "marker": {
             "colorbar": {
              "outlinewidth": 0,
              "ticks": ""
             }
            },
            "type": "scatter3d"
           }
          ],
          "scattercarpet": [
           {
            "marker": {
             "colorbar": {
              "outlinewidth": 0,
              "ticks": ""
             }
            },
            "type": "scattercarpet"
           }
          ],
          "scattergeo": [
           {
            "marker": {
             "colorbar": {
              "outlinewidth": 0,
              "ticks": ""
             }
            },
            "type": "scattergeo"
           }
          ],
          "scattergl": [
           {
            "marker": {
             "colorbar": {
              "outlinewidth": 0,
              "ticks": ""
             }
            },
            "type": "scattergl"
           }
          ],
          "scattermapbox": [
           {
            "marker": {
             "colorbar": {
              "outlinewidth": 0,
              "ticks": ""
             }
            },
            "type": "scattermapbox"
           }
          ],
          "scatterpolar": [
           {
            "marker": {
             "colorbar": {
              "outlinewidth": 0,
              "ticks": ""
             }
            },
            "type": "scatterpolar"
           }
          ],
          "scatterpolargl": [
           {
            "marker": {
             "colorbar": {
              "outlinewidth": 0,
              "ticks": ""
             }
            },
            "type": "scatterpolargl"
           }
          ],
          "scatterternary": [
           {
            "marker": {
             "colorbar": {
              "outlinewidth": 0,
              "ticks": ""
             }
            },
            "type": "scatterternary"
           }
          ],
          "surface": [
           {
            "colorbar": {
             "outlinewidth": 0,
             "ticks": ""
            },
            "colorscale": [
             [
              0,
              "#0d0887"
             ],
             [
              0.1111111111111111,
              "#46039f"
             ],
             [
              0.2222222222222222,
              "#7201a8"
             ],
             [
              0.3333333333333333,
              "#9c179e"
             ],
             [
              0.4444444444444444,
              "#bd3786"
             ],
             [
              0.5555555555555556,
              "#d8576b"
             ],
             [
              0.6666666666666666,
              "#ed7953"
             ],
             [
              0.7777777777777778,
              "#fb9f3a"
             ],
             [
              0.8888888888888888,
              "#fdca26"
             ],
             [
              1,
              "#f0f921"
             ]
            ],
            "type": "surface"
           }
          ],
          "table": [
           {
            "cells": {
             "fill": {
              "color": "#EBF0F8"
             },
             "line": {
              "color": "white"
             }
            },
            "header": {
             "fill": {
              "color": "#C8D4E3"
             },
             "line": {
              "color": "white"
             }
            },
            "type": "table"
           }
          ]
         },
         "layout": {
          "annotationdefaults": {
           "arrowcolor": "#2a3f5f",
           "arrowhead": 0,
           "arrowwidth": 1
          },
          "autotypenumbers": "strict",
          "coloraxis": {
           "colorbar": {
            "outlinewidth": 0,
            "ticks": ""
           }
          },
          "colorscale": {
           "diverging": [
            [
             0,
             "#8e0152"
            ],
            [
             0.1,
             "#c51b7d"
            ],
            [
             0.2,
             "#de77ae"
            ],
            [
             0.3,
             "#f1b6da"
            ],
            [
             0.4,
             "#fde0ef"
            ],
            [
             0.5,
             "#f7f7f7"
            ],
            [
             0.6,
             "#e6f5d0"
            ],
            [
             0.7,
             "#b8e186"
            ],
            [
             0.8,
             "#7fbc41"
            ],
            [
             0.9,
             "#4d9221"
            ],
            [
             1,
             "#276419"
            ]
           ],
           "sequential": [
            [
             0,
             "#0d0887"
            ],
            [
             0.1111111111111111,
             "#46039f"
            ],
            [
             0.2222222222222222,
             "#7201a8"
            ],
            [
             0.3333333333333333,
             "#9c179e"
            ],
            [
             0.4444444444444444,
             "#bd3786"
            ],
            [
             0.5555555555555556,
             "#d8576b"
            ],
            [
             0.6666666666666666,
             "#ed7953"
            ],
            [
             0.7777777777777778,
             "#fb9f3a"
            ],
            [
             0.8888888888888888,
             "#fdca26"
            ],
            [
             1,
             "#f0f921"
            ]
           ],
           "sequentialminus": [
            [
             0,
             "#0d0887"
            ],
            [
             0.1111111111111111,
             "#46039f"
            ],
            [
             0.2222222222222222,
             "#7201a8"
            ],
            [
             0.3333333333333333,
             "#9c179e"
            ],
            [
             0.4444444444444444,
             "#bd3786"
            ],
            [
             0.5555555555555556,
             "#d8576b"
            ],
            [
             0.6666666666666666,
             "#ed7953"
            ],
            [
             0.7777777777777778,
             "#fb9f3a"
            ],
            [
             0.8888888888888888,
             "#fdca26"
            ],
            [
             1,
             "#f0f921"
            ]
           ]
          },
          "colorway": [
           "#636efa",
           "#EF553B",
           "#00cc96",
           "#ab63fa",
           "#FFA15A",
           "#19d3f3",
           "#FF6692",
           "#B6E880",
           "#FF97FF",
           "#FECB52"
          ],
          "font": {
           "color": "#2a3f5f"
          },
          "geo": {
           "bgcolor": "white",
           "lakecolor": "white",
           "landcolor": "#E5ECF6",
           "showlakes": true,
           "showland": true,
           "subunitcolor": "white"
          },
          "hoverlabel": {
           "align": "left"
          },
          "hovermode": "closest",
          "mapbox": {
           "style": "light"
          },
          "paper_bgcolor": "white",
          "plot_bgcolor": "#E5ECF6",
          "polar": {
           "angularaxis": {
            "gridcolor": "white",
            "linecolor": "white",
            "ticks": ""
           },
           "bgcolor": "#E5ECF6",
           "radialaxis": {
            "gridcolor": "white",
            "linecolor": "white",
            "ticks": ""
           }
          },
          "scene": {
           "xaxis": {
            "backgroundcolor": "#E5ECF6",
            "gridcolor": "white",
            "gridwidth": 2,
            "linecolor": "white",
            "showbackground": true,
            "ticks": "",
            "zerolinecolor": "white"
           },
           "yaxis": {
            "backgroundcolor": "#E5ECF6",
            "gridcolor": "white",
            "gridwidth": 2,
            "linecolor": "white",
            "showbackground": true,
            "ticks": "",
            "zerolinecolor": "white"
           },
           "zaxis": {
            "backgroundcolor": "#E5ECF6",
            "gridcolor": "white",
            "gridwidth": 2,
            "linecolor": "white",
            "showbackground": true,
            "ticks": "",
            "zerolinecolor": "white"
           }
          },
          "shapedefaults": {
           "line": {
            "color": "#2a3f5f"
           }
          },
          "ternary": {
           "aaxis": {
            "gridcolor": "white",
            "linecolor": "white",
            "ticks": ""
           },
           "baxis": {
            "gridcolor": "white",
            "linecolor": "white",
            "ticks": ""
           },
           "bgcolor": "#E5ECF6",
           "caxis": {
            "gridcolor": "white",
            "linecolor": "white",
            "ticks": ""
           }
          },
          "title": {
           "x": 0.05
          },
          "xaxis": {
           "automargin": true,
           "gridcolor": "white",
           "linecolor": "white",
           "ticks": "",
           "title": {
            "standoff": 15
           },
           "zerolinecolor": "white",
           "zerolinewidth": 2
          },
          "yaxis": {
           "automargin": true,
           "gridcolor": "white",
           "linecolor": "white",
           "ticks": "",
           "title": {
            "standoff": 15
           },
           "zerolinecolor": "white",
           "zerolinewidth": 2
          }
         }
        },
        "title": {
         "text": "Kohli Parallel"
        }
       }
      }
     },
     "metadata": {},
     "output_type": "display_data"
    }
   ],
   "source": [
    "parallelplot(v_kohli,columns=[v_kohli['runs.total_sum'],v_kohli['runs.batter_'],v_kohli['total_runs_per_score'],v_kohli['no_of_balls']],title=\"Kohli Parallel\",color_col=v_kohli['season'])"
   ]
  },
  {
   "cell_type": "code",
   "execution_count": null,
   "metadata": {},
   "outputs": [],
   "source": []
  }
 ],
 "metadata": {
  "kernelspec": {
   "display_name": "Python 3",
   "language": "python",
   "name": "python3"
  },
  "language_info": {
   "codemirror_mode": {
    "name": "ipython",
    "version": 3
   },
   "file_extension": ".py",
   "mimetype": "text/x-python",
   "name": "python",
   "nbconvert_exporter": "python",
   "pygments_lexer": "ipython3",
   "version": "3.10.12"
  }
 },
 "nbformat": 4,
 "nbformat_minor": 2
}
