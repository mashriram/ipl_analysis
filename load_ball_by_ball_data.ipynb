{
 "cells": [
  {
   "cell_type": "code",
   "execution_count": null,
   "metadata": {},
   "outputs": [],
   "source": [
    "import numpy as np\n",
    "import pandas as pd\n",
    "import matplotlib.pyplot as plt\n",
    "import seaborn as sns\n",
    "import os\n",
    "import json"
   ]
  },
  {
   "cell_type": "code",
   "execution_count": null,
   "metadata": {},
   "outputs": [],
   "source": [
    "fields_to_skip = [\"meta\", \"info\"]"
   ]
  },
  {
   "cell_type": "code",
   "execution_count": null,
   "metadata": {},
   "outputs": [],
   "source": [
    "def populate_wicket_data(idx, delivery):\n",
    "    wicket_record = {}\n",
    "    if \"wickets\" in delivery and delivery[\"wickets\"]:\n",
    "        for wicket in delivery[\"wickets\"]:\n",
    "            wicket_record = {\n",
    "                \"delivery_index\": idx,\n",
    "                \"wicket.kind\": wicket[\"kind\"],\n",
    "                \"wicket.player_out\": wicket[\"player_out\"],\n",
    "                \"wicket.fielders\": (\n",
    "                    [fielder[\"name\"] for fielder in wicket[\"fielders\"]]\n",
    "                    if wicket.get(\"fielders\") != None\n",
    "                    else None\n",
    "                ),\n",
    "            }\n",
    "    else:\n",
    "        wicket_record = {\n",
    "            \"delivery_index\": idx,\n",
    "            \"wicket.kind\": None,\n",
    "            \"wicket.player_out\": None,\n",
    "            \"wicket.fielders\": None,\n",
    "        }\n",
    "    return wicket_record"
   ]
  },
  {
   "cell_type": "code",
   "execution_count": null,
   "metadata": {},
   "outputs": [],
   "source": [
    "file_names = os.listdir(path=\"data\")\n",
    "file_names = filter(lambda x: str(x).endswith(\".json\"), file_names)\n",
    "\n",
    "merged_deliveries = pd.DataFrame()\n",
    "wickets_data = []\n",
    "index = 0\n",
    "match_number = 1\n",
    "\n",
    "# file_names = [\"829813.json\", \"829817.json\", \"829823.json\"]\n",
    "\n",
    "for file_idx, file_name in enumerate(file_names):\n",
    "    file_path = \"data/\" + file_name\n",
    "    with open(file=file_path, mode=\"r\") as file:\n",
    "        print(\"processing file: \", file_idx, file_name, sep=\", \")\n",
    "        data = json.load(file)\n",
    "        info = data[\"info\"]\n",
    "        date = info[\"dates\"][0]\n",
    "        match_number = (\n",
    "            info[\"event\"].get(\"match_number\")\n",
    "            if info[\"event\"].get(\"match_number\") != None\n",
    "            else info[\"event\"].get(\"stage\")\n",
    "        )\n",
    "        innings = data[\"innings\"]\n",
    "        for idx, inning in enumerate(innings):\n",
    "            if inning.get(\"super_over\") is not None:\n",
    "                print(\"skipping super_over: \", date, match_number)\n",
    "                continue\n",
    "            overs = inning[\"overs\"]\n",
    "            df_deliveries = pd.json_normalize(\n",
    "                overs, record_path=[\"deliveries\"], meta=[\"over\"]\n",
    "            )\n",
    "            df_deliveries[\"date\"] = date\n",
    "            df_deliveries[\"match_number\"] = match_number\n",
    "            df_deliveries[\"innings\"] = idx + 1\n",
    "            merged_deliveries = pd.concat([merged_deliveries, df_deliveries], axis=0)\n",
    "            for over in overs:\n",
    "                for delivery in over[\"deliveries\"]:\n",
    "                    wicket_data = populate_wicket_data(index, delivery)\n",
    "                    wickets_data.append(wicket_data)\n",
    "                    index += 1\n",
    "\n",
    "df_wickets = pd.DataFrame(wickets_data)\n",
    "\n",
    "merged_deliveries.reset_index(inplace=True)\n",
    "\n",
    "merged_deliveries[\"delivery_index\"] = merged_deliveries.index\n",
    "\n",
    "df_merged = pd.merge(merged_deliveries, df_wickets, on=\"delivery_index\", how=\"left\")\n",
    "\n",
    "df_merged.drop(\"delivery_index\", inplace=True, axis=1)\n",
    "# df_merged.drop(\"wickets\", inplace=True, axis=1)"
   ]
  },
  {
   "cell_type": "code",
   "execution_count": null,
   "metadata": {},
   "outputs": [],
   "source": [
    "ordered_cols = [\n",
    "    \"date\",\n",
    "    \"match_number\",\n",
    "    \"innings\",\n",
    "    \"over\",\n",
    "    \"batter\",\n",
    "    \"bowler\",\n",
    "    \"non_striker\",\n",
    "    \"runs.batter\",\n",
    "    \"runs.extras\",\n",
    "    \"runs.total\",\n",
    "    \"extras.legbyes\",\n",
    "    \"extras.wides\",\n",
    "    \"extras.byes\",\n",
    "    \"extras.noballs\",\n",
    "    \"wicket.kind\",\n",
    "    \"wicket.player_out\",\n",
    "    \"wicket.fielders\",\n",
    "    \"wickets\",\n",
    "]"
   ]
  },
  {
   "cell_type": "code",
   "execution_count": null,
   "metadata": {},
   "outputs": [],
   "source": [
    "df_merged = pd.read_csv(\"./output/ipl_ball_by_ball_output.csv\")"
   ]
  },
  {
   "cell_type": "code",
   "execution_count": null,
   "metadata": {},
   "outputs": [],
   "source": [
    "df_merged = df_merged.reindex(columns=ordered_cols)\n",
    "df_merged.sort_values(by=[\"date\", \"match_number\"], inplace=True)"
   ]
  },
  {
   "cell_type": "code",
   "execution_count": null,
   "metadata": {},
   "outputs": [],
   "source": [
    "df_merged['season'] = df_merged['date'].str.slice(0,4)"
   ]
  },
  {
   "cell_type": "code",
   "execution_count": null,
   "metadata": {},
   "outputs": [],
   "source": [
    "df_wickets.to_csv(\"output/wickets.csv\", index=False)"
   ]
  },
  {
   "cell_type": "code",
   "execution_count": null,
   "metadata": {},
   "outputs": [],
   "source": [
    "df_merged.to_csv(\"output/ipl_ball_by_ball_output.csv\", index=False)"
   ]
  },
  {
   "cell_type": "code",
   "execution_count": null,
   "metadata": {},
   "outputs": [],
   "source": [
    "df_merged.head()"
   ]
  },
  {
   "cell_type": "markdown",
   "metadata": {},
   "source": [
    "## Validate the resultant dataframe\n"
   ]
  },
  {
   "cell_type": "code",
   "execution_count": null,
   "metadata": {},
   "outputs": [],
   "source": [
    "print(\"min date: \", df_merged[\"date\"].min())\n",
    "print(\"max date: \", df_merged[\"date\"].max())"
   ]
  },
  {
   "cell_type": "markdown",
   "metadata": {},
   "source": [
    "### Since we have data for IPL matches between 2008 to 2024, the above date range looks right\n"
   ]
  },
  {
   "cell_type": "code",
   "execution_count": null,
   "metadata": {},
   "outputs": [],
   "source": [
    "df_merged[\"match_number\"].unique()"
   ]
  },
  {
   "cell_type": "markdown",
   "metadata": {},
   "source": [
    "### The above values for match_number looks right\n"
   ]
  },
  {
   "cell_type": "code",
   "execution_count": null,
   "metadata": {},
   "outputs": [],
   "source": [
    "df_merged[\"innings\"].unique()"
   ]
  },
  {
   "cell_type": "code",
   "execution_count": null,
   "metadata": {},
   "outputs": [],
   "source": [
    "df_merged[\"over\"].unique()"
   ]
  },
  {
   "cell_type": "code",
   "execution_count": null,
   "metadata": {},
   "outputs": [],
   "source": [
    "sorted(df_merged[\"runs.batter\"].unique())"
   ]
  },
  {
   "cell_type": "code",
   "execution_count": null,
   "metadata": {},
   "outputs": [],
   "source": [
    "sorted(df_merged[\"runs.extras\"].unique())"
   ]
  },
  {
   "cell_type": "code",
   "execution_count": null,
   "metadata": {},
   "outputs": [],
   "source": [
    "sorted(df_merged[\"runs.total\"].unique())"
   ]
  },
  {
   "cell_type": "code",
   "execution_count": null,
   "metadata": {},
   "outputs": [],
   "source": [
    "sorted(df_merged[\"extras.legbyes\"].unique())"
   ]
  },
  {
   "cell_type": "code",
   "execution_count": null,
   "metadata": {},
   "outputs": [],
   "source": [
    "sorted(df_merged[\"extras.wides\"].unique())"
   ]
  },
  {
   "cell_type": "code",
   "execution_count": null,
   "metadata": {},
   "outputs": [],
   "source": [
    "sorted(df_merged[\"extras.byes\"].unique())"
   ]
  },
  {
   "cell_type": "code",
   "execution_count": null,
   "metadata": {},
   "outputs": [],
   "source": [
    "sorted(df_merged[\"extras.noballs\"].unique())"
   ]
  },
  {
   "cell_type": "code",
   "execution_count": null,
   "metadata": {},
   "outputs": [],
   "source": [
    "df_merged[\"wicket.kind\"].unique()"
   ]
  },
  {
   "cell_type": "code",
   "execution_count": null,
   "metadata": {},
   "outputs": [],
   "source": [
    "df_merged[\"wicket.player_out\"].unique()[:10]"
   ]
  },
  {
   "cell_type": "code",
   "execution_count": null,
   "metadata": {},
   "outputs": [],
   "source": [
    "df_merged[~pd.isnull(df_merged[\"wicket.fielders\"])][\"wicket.fielders\"].count()"
   ]
  },
  {
   "cell_type": "code",
   "execution_count": null,
   "metadata": {},
   "outputs": [],
   "source": [
    "df_merged[~ pd.isnull(df_merged[\"wickets\"])]['wickets'].count()"
   ]
  },
  {
   "cell_type": "code",
   "execution_count": null,
   "metadata": {},
   "outputs": [],
   "source": [
    "df_merged"
   ]
  },
  {
   "cell_type": "code",
   "execution_count": null,
   "metadata": {},
   "outputs": [],
   "source": []
  },
  {
   "cell_type": "markdown",
   "metadata": {},
   "source": []
  },
  {
   "cell_type": "code",
   "execution_count": null,
   "metadata": {},
   "outputs": [],
   "source": [
    "df_merged"
   ]
  },
  {
   "cell_type": "code",
   "execution_count": null,
   "metadata": {},
   "outputs": [],
   "source": [
    "df_merged.drop(columns='wickets',inplace=True)"
   ]
  },
  {
   "cell_type": "code",
   "execution_count": null,
   "metadata": {},
   "outputs": [],
   "source": [
    "df_merged.groupby(['date','match_number','innings','batter']).agg({'runs.batter':np.sum,'runs.extras':np.sum,'bowler':'count'})"
   ]
  },
  {
   "cell_type": "code",
   "execution_count": null,
   "metadata": {},
   "outputs": [],
   "source": [
    "df_merged.groupby(['date','match_number','innings','bowler','runs.batter']).agg({'runs.total':'sum','wicket.kind':'count','batter':'count'})"
   ]
  },
  {
   "cell_type": "code",
   "execution_count": null,
   "metadata": {},
   "outputs": [],
   "source": []
  }
 ],
 "metadata": {
  "kernelspec": {
   "display_name": "Python 3",
   "language": "python",
   "name": "python3"
  },
  "language_info": {
   "codemirror_mode": {
    "name": "ipython",
    "version": 3
   },
   "file_extension": ".py",
   "mimetype": "text/x-python",
   "name": "python",
   "nbconvert_exporter": "python",
   "pygments_lexer": "ipython3",
   "version": "3.10.12"
  }
 },
 "nbformat": 4,
 "nbformat_minor": 2
}
